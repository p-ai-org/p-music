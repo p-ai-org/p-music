{
  "nbformat": 4,
  "nbformat_minor": 0,
  "metadata": {
    "colab": {
      "provenance": [],
      "authorship_tag": "ABX9TyPh9lfhLQsU0cZtZ5B0vYj2",
      "include_colab_link": true
    },
    "kernelspec": {
      "name": "python3",
      "display_name": "Python 3"
    },
    "language_info": {
      "name": "python"
    }
  },
  "cells": [
    {
      "cell_type": "markdown",
      "metadata": {
        "id": "view-in-github",
        "colab_type": "text"
      },
      "source": [
        "<a href=\"https://colab.research.google.com/github/p-ai-org/p-music/blob/main/album_metadata_model.ipynb\" target=\"_parent\"><img src=\"https://colab.research.google.com/assets/colab-badge.svg\" alt=\"Open In Colab\"/></a>"
      ]
    },
    {
      "cell_type": "code",
      "execution_count": 2,
      "metadata": {
        "id": "tcOOPtIP7-Qk"
      },
      "outputs": [],
      "source": [
        "import pandas as pd\n",
        "import numpy as np\n",
        "#import re\n",
        "#from sklearn.preprocessing import StandardScaler, OneHotEncoder\n",
        "#from sklearn.compose import make_column_transformer\n",
        "#from sklearn.model_selection import GroupShuffleSplit\n",
        "\n",
        "#from tensorflow import keras\n",
        "#from tensorflow.keras import layers\n",
        "#from tensorflow.keras import callbacks\n",
        "\n",
        "ds = pd.read_csv('merged_features.csv')"
      ]
    },
    {
      "cell_type": "code",
      "source": [
        "ds.shape\n",
        "ds = ds.drop('Unnamed: 0', axis = 1)\n",
        "ds.columns"
      ],
      "metadata": {
        "colab": {
          "base_uri": "https://localhost:8080/"
        },
        "id": "7IQa2iRv8yV7",
        "outputId": "3b971d13-d311-4811-ee37-23db135c9a5a"
      },
      "execution_count": 3,
      "outputs": [
        {
          "output_type": "execute_result",
          "data": {
            "text/plain": [
              "Index(['Ranking', 'Album', 'Artist', 'Release Date', 'Genres', 'Descriptors',\n",
              "       'Average Rating', 'Number of Ratings', 'Number of Reviews',\n",
              "       'Release Month', 'Release Day', 'Release Year', 'Format', 'Label',\n",
              "       'Genre', 'Metacritic Critic Score', 'Metacritic Reviews',\n",
              "       'Metacritic User Score', 'Metacritic User Reviews', 'AOTY Critic Score',\n",
              "       'AOTY Critic Reviews', 'AOTY User Score', 'AOTY User Reviews'],\n",
              "      dtype='object')"
            ]
          },
          "metadata": {},
          "execution_count": 3
        }
      ]
    },
    {
      "cell_type": "code",
      "source": [
        "#use an average of AOTY and metacritic user score (the same goes with critic)\n",
        "#if one of them is missing, use the other\n",
        "#if both are missing, drop that row\n",
        "col_list = ['AOTY Critic Score', 'Metacritic User Score', 'AOTY User Score', 'Metacritic Critic Score', 'Metacritic User Reviews', 'AOTY User Reviews', 'AOTY Critic Reviews', 'Metacritic Reviews']\n",
        "ds[col_list] = ds[col_list].fillna(0)\n",
        "ds[:5]"
      ],
      "metadata": {
        "id": "brxlX7-6FCEg",
        "colab": {
          "base_uri": "https://localhost:8080/",
          "height": 647
        },
        "outputId": "16f682b1-f451-4893-83d3-7537d7164fec"
      },
      "execution_count": 4,
      "outputs": [
        {
          "output_type": "execute_result",
          "data": {
            "text/plain": [
              "   Ranking                Album               Artist       Release Date  \\\n",
              "0      1.0          OK Computer            Radiohead       16 June 1997   \n",
              "1      2.0   Wish You Were Here           Pink Floyd  12 September 1975   \n",
              "2      4.0                Kid A            Radiohead     3 October 2000   \n",
              "3      5.0  To Pimp a Butterfly       Kendrick Lamar      15 March 2015   \n",
              "4      6.0             Loveless  My Bloody Valentine    4 November 1991   \n",
              "\n",
              "                                            Genres  \\\n",
              "0                       Alternative Rock, Art Rock   \n",
              "1                       Progressive Rock, Art Rock   \n",
              "2          Art Rock, Experimental Rock, Electronic   \n",
              "3  Conscious Hip Hop, West Coast Hip Hop, Jazz Rap   \n",
              "4                              Shoegaze, Noise Pop   \n",
              "\n",
              "                                         Descriptors  Average Rating  \\\n",
              "0  melancholic, anxious, futuristic, alienation, ...            4.23   \n",
              "1  melancholic, atmospheric, progressive, male vo...            4.29   \n",
              "2  cold, melancholic, futuristic, atmospheric, an...            4.21   \n",
              "3  political, conscious, poetic, protest, concept...            4.27   \n",
              "4  noisy, ethereal, atmospheric, romantic, dense,...            4.24   \n",
              "\n",
              "  Number of Ratings  Number of Reviews Release Month  ...  \\\n",
              "0            70,382               1531          June  ...   \n",
              "1            48,662                983     September  ...   \n",
              "2            58,590                734       October  ...   \n",
              "3            44,206                379         March  ...   \n",
              "4            49,887               1223      November  ...   \n",
              "\n",
              "                    Label              Genre Metacritic Critic Score  \\\n",
              "0     Parlophone, Capitol   Alternative Rock                     0.0   \n",
              "1                 Harvest   Progressive Rock                     0.0   \n",
              "2           Capitol / EMI  Experimental Rock                    80.0   \n",
              "3  Aftermath / Interscope            Hip Hop                    96.0   \n",
              "4                Creation           Shoegaze                     0.0   \n",
              "\n",
              "  Metacritic Reviews Metacritic User Score  Metacritic User Reviews  \\\n",
              "0                0.0                   0.0                      0.0   \n",
              "1                0.0                   0.0                      0.0   \n",
              "2               24.0                   8.9                   1129.0   \n",
              "3               44.0                   8.8                   3616.0   \n",
              "4                0.0                   0.0                      0.0   \n",
              "\n",
              "   AOTY Critic Score  AOTY Critic Reviews  AOTY User Score  AOTY User Reviews  \n",
              "0                 91                   12               93               3204  \n",
              "1                100                    4               91               1607  \n",
              "2                 85                   13               92               2862  \n",
              "3                 95                   42               93               4530  \n",
              "4                 94                    9               91               1634  \n",
              "\n",
              "[5 rows x 23 columns]"
            ],
            "text/html": [
              "\n",
              "  <div id=\"df-86e54561-d0a6-4fe2-bf8f-8cb769617850\">\n",
              "    <div class=\"colab-df-container\">\n",
              "      <div>\n",
              "<style scoped>\n",
              "    .dataframe tbody tr th:only-of-type {\n",
              "        vertical-align: middle;\n",
              "    }\n",
              "\n",
              "    .dataframe tbody tr th {\n",
              "        vertical-align: top;\n",
              "    }\n",
              "\n",
              "    .dataframe thead th {\n",
              "        text-align: right;\n",
              "    }\n",
              "</style>\n",
              "<table border=\"1\" class=\"dataframe\">\n",
              "  <thead>\n",
              "    <tr style=\"text-align: right;\">\n",
              "      <th></th>\n",
              "      <th>Ranking</th>\n",
              "      <th>Album</th>\n",
              "      <th>Artist</th>\n",
              "      <th>Release Date</th>\n",
              "      <th>Genres</th>\n",
              "      <th>Descriptors</th>\n",
              "      <th>Average Rating</th>\n",
              "      <th>Number of Ratings</th>\n",
              "      <th>Number of Reviews</th>\n",
              "      <th>Release Month</th>\n",
              "      <th>...</th>\n",
              "      <th>Label</th>\n",
              "      <th>Genre</th>\n",
              "      <th>Metacritic Critic Score</th>\n",
              "      <th>Metacritic Reviews</th>\n",
              "      <th>Metacritic User Score</th>\n",
              "      <th>Metacritic User Reviews</th>\n",
              "      <th>AOTY Critic Score</th>\n",
              "      <th>AOTY Critic Reviews</th>\n",
              "      <th>AOTY User Score</th>\n",
              "      <th>AOTY User Reviews</th>\n",
              "    </tr>\n",
              "  </thead>\n",
              "  <tbody>\n",
              "    <tr>\n",
              "      <th>0</th>\n",
              "      <td>1.0</td>\n",
              "      <td>OK Computer</td>\n",
              "      <td>Radiohead</td>\n",
              "      <td>16 June 1997</td>\n",
              "      <td>Alternative Rock, Art Rock</td>\n",
              "      <td>melancholic, anxious, futuristic, alienation, ...</td>\n",
              "      <td>4.23</td>\n",
              "      <td>70,382</td>\n",
              "      <td>1531</td>\n",
              "      <td>June</td>\n",
              "      <td>...</td>\n",
              "      <td>Parlophone, Capitol</td>\n",
              "      <td>Alternative Rock</td>\n",
              "      <td>0.0</td>\n",
              "      <td>0.0</td>\n",
              "      <td>0.0</td>\n",
              "      <td>0.0</td>\n",
              "      <td>91</td>\n",
              "      <td>12</td>\n",
              "      <td>93</td>\n",
              "      <td>3204</td>\n",
              "    </tr>\n",
              "    <tr>\n",
              "      <th>1</th>\n",
              "      <td>2.0</td>\n",
              "      <td>Wish You Were Here</td>\n",
              "      <td>Pink Floyd</td>\n",
              "      <td>12 September 1975</td>\n",
              "      <td>Progressive Rock, Art Rock</td>\n",
              "      <td>melancholic, atmospheric, progressive, male vo...</td>\n",
              "      <td>4.29</td>\n",
              "      <td>48,662</td>\n",
              "      <td>983</td>\n",
              "      <td>September</td>\n",
              "      <td>...</td>\n",
              "      <td>Harvest</td>\n",
              "      <td>Progressive Rock</td>\n",
              "      <td>0.0</td>\n",
              "      <td>0.0</td>\n",
              "      <td>0.0</td>\n",
              "      <td>0.0</td>\n",
              "      <td>100</td>\n",
              "      <td>4</td>\n",
              "      <td>91</td>\n",
              "      <td>1607</td>\n",
              "    </tr>\n",
              "    <tr>\n",
              "      <th>2</th>\n",
              "      <td>4.0</td>\n",
              "      <td>Kid A</td>\n",
              "      <td>Radiohead</td>\n",
              "      <td>3 October 2000</td>\n",
              "      <td>Art Rock, Experimental Rock, Electronic</td>\n",
              "      <td>cold, melancholic, futuristic, atmospheric, an...</td>\n",
              "      <td>4.21</td>\n",
              "      <td>58,590</td>\n",
              "      <td>734</td>\n",
              "      <td>October</td>\n",
              "      <td>...</td>\n",
              "      <td>Capitol / EMI</td>\n",
              "      <td>Experimental Rock</td>\n",
              "      <td>80.0</td>\n",
              "      <td>24.0</td>\n",
              "      <td>8.9</td>\n",
              "      <td>1129.0</td>\n",
              "      <td>85</td>\n",
              "      <td>13</td>\n",
              "      <td>92</td>\n",
              "      <td>2862</td>\n",
              "    </tr>\n",
              "    <tr>\n",
              "      <th>3</th>\n",
              "      <td>5.0</td>\n",
              "      <td>To Pimp a Butterfly</td>\n",
              "      <td>Kendrick Lamar</td>\n",
              "      <td>15 March 2015</td>\n",
              "      <td>Conscious Hip Hop, West Coast Hip Hop, Jazz Rap</td>\n",
              "      <td>political, conscious, poetic, protest, concept...</td>\n",
              "      <td>4.27</td>\n",
              "      <td>44,206</td>\n",
              "      <td>379</td>\n",
              "      <td>March</td>\n",
              "      <td>...</td>\n",
              "      <td>Aftermath / Interscope</td>\n",
              "      <td>Hip Hop</td>\n",
              "      <td>96.0</td>\n",
              "      <td>44.0</td>\n",
              "      <td>8.8</td>\n",
              "      <td>3616.0</td>\n",
              "      <td>95</td>\n",
              "      <td>42</td>\n",
              "      <td>93</td>\n",
              "      <td>4530</td>\n",
              "    </tr>\n",
              "    <tr>\n",
              "      <th>4</th>\n",
              "      <td>6.0</td>\n",
              "      <td>Loveless</td>\n",
              "      <td>My Bloody Valentine</td>\n",
              "      <td>4 November 1991</td>\n",
              "      <td>Shoegaze, Noise Pop</td>\n",
              "      <td>noisy, ethereal, atmospheric, romantic, dense,...</td>\n",
              "      <td>4.24</td>\n",
              "      <td>49,887</td>\n",
              "      <td>1223</td>\n",
              "      <td>November</td>\n",
              "      <td>...</td>\n",
              "      <td>Creation</td>\n",
              "      <td>Shoegaze</td>\n",
              "      <td>0.0</td>\n",
              "      <td>0.0</td>\n",
              "      <td>0.0</td>\n",
              "      <td>0.0</td>\n",
              "      <td>94</td>\n",
              "      <td>9</td>\n",
              "      <td>91</td>\n",
              "      <td>1634</td>\n",
              "    </tr>\n",
              "  </tbody>\n",
              "</table>\n",
              "<p>5 rows × 23 columns</p>\n",
              "</div>\n",
              "      <button class=\"colab-df-convert\" onclick=\"convertToInteractive('df-86e54561-d0a6-4fe2-bf8f-8cb769617850')\"\n",
              "              title=\"Convert this dataframe to an interactive table.\"\n",
              "              style=\"display:none;\">\n",
              "        \n",
              "  <svg xmlns=\"http://www.w3.org/2000/svg\" height=\"24px\"viewBox=\"0 0 24 24\"\n",
              "       width=\"24px\">\n",
              "    <path d=\"M0 0h24v24H0V0z\" fill=\"none\"/>\n",
              "    <path d=\"M18.56 5.44l.94 2.06.94-2.06 2.06-.94-2.06-.94-.94-2.06-.94 2.06-2.06.94zm-11 1L8.5 8.5l.94-2.06 2.06-.94-2.06-.94L8.5 2.5l-.94 2.06-2.06.94zm10 10l.94 2.06.94-2.06 2.06-.94-2.06-.94-.94-2.06-.94 2.06-2.06.94z\"/><path d=\"M17.41 7.96l-1.37-1.37c-.4-.4-.92-.59-1.43-.59-.52 0-1.04.2-1.43.59L10.3 9.45l-7.72 7.72c-.78.78-.78 2.05 0 2.83L4 21.41c.39.39.9.59 1.41.59.51 0 1.02-.2 1.41-.59l7.78-7.78 2.81-2.81c.8-.78.8-2.07 0-2.86zM5.41 20L4 18.59l7.72-7.72 1.47 1.35L5.41 20z\"/>\n",
              "  </svg>\n",
              "      </button>\n",
              "      \n",
              "  <style>\n",
              "    .colab-df-container {\n",
              "      display:flex;\n",
              "      flex-wrap:wrap;\n",
              "      gap: 12px;\n",
              "    }\n",
              "\n",
              "    .colab-df-convert {\n",
              "      background-color: #E8F0FE;\n",
              "      border: none;\n",
              "      border-radius: 50%;\n",
              "      cursor: pointer;\n",
              "      display: none;\n",
              "      fill: #1967D2;\n",
              "      height: 32px;\n",
              "      padding: 0 0 0 0;\n",
              "      width: 32px;\n",
              "    }\n",
              "\n",
              "    .colab-df-convert:hover {\n",
              "      background-color: #E2EBFA;\n",
              "      box-shadow: 0px 1px 2px rgba(60, 64, 67, 0.3), 0px 1px 3px 1px rgba(60, 64, 67, 0.15);\n",
              "      fill: #174EA6;\n",
              "    }\n",
              "\n",
              "    [theme=dark] .colab-df-convert {\n",
              "      background-color: #3B4455;\n",
              "      fill: #D2E3FC;\n",
              "    }\n",
              "\n",
              "    [theme=dark] .colab-df-convert:hover {\n",
              "      background-color: #434B5C;\n",
              "      box-shadow: 0px 1px 3px 1px rgba(0, 0, 0, 0.15);\n",
              "      filter: drop-shadow(0px 1px 2px rgba(0, 0, 0, 0.3));\n",
              "      fill: #FFFFFF;\n",
              "    }\n",
              "  </style>\n",
              "\n",
              "      <script>\n",
              "        const buttonEl =\n",
              "          document.querySelector('#df-86e54561-d0a6-4fe2-bf8f-8cb769617850 button.colab-df-convert');\n",
              "        buttonEl.style.display =\n",
              "          google.colab.kernel.accessAllowed ? 'block' : 'none';\n",
              "\n",
              "        async function convertToInteractive(key) {\n",
              "          const element = document.querySelector('#df-86e54561-d0a6-4fe2-bf8f-8cb769617850');\n",
              "          const dataTable =\n",
              "            await google.colab.kernel.invokeFunction('convertToInteractive',\n",
              "                                                     [key], {});\n",
              "          if (!dataTable) return;\n",
              "\n",
              "          const docLinkHtml = 'Like what you see? Visit the ' +\n",
              "            '<a target=\"_blank\" href=https://colab.research.google.com/notebooks/data_table.ipynb>data table notebook</a>'\n",
              "            + ' to learn more about interactive tables.';\n",
              "          element.innerHTML = '';\n",
              "          dataTable['output_type'] = 'display_data';\n",
              "          await google.colab.output.renderOutput(dataTable, element);\n",
              "          const docLink = document.createElement('div');\n",
              "          docLink.innerHTML = docLinkHtml;\n",
              "          element.appendChild(docLink);\n",
              "        }\n",
              "      </script>\n",
              "    </div>\n",
              "  </div>\n",
              "  "
            ]
          },
          "metadata": {},
          "execution_count": 4
        }
      ]
    },
    {
      "cell_type": "code",
      "source": [
        "critic_score = ['AOTY Critic Score', 'Metacritic Critic Score'] #if we expand dataset then these lists will have more items\n",
        "user_score = ['AOTY User Score', 'Metacritic User Score']\n",
        "critic_reviews = ['AOTY Critic Reviews', 'Metacritic Reviews']\n",
        "user_reviews = ['AOTY User Reviews', 'Metacritic User Reviews']\n",
        "merge_list = [critic_score, user_score, critic_reviews, user_reviews]"
      ],
      "metadata": {
        "id": "LfxGo4tKIFhE"
      },
      "execution_count": 5,
      "outputs": []
    },
    {
      "cell_type": "code",
      "source": [
        "#tried curried function but chain indexing became a problem\n",
        "#uncurried version below\n",
        "def scoreMergeUncurried(col_list):\n",
        "  merged_score = []\n",
        "  for x in ds.index:\n",
        "    if ds.loc[x, col_list[0]]==0 and ds.loc[x, col_list[1]]==0 : #both values filled with 0\n",
        "     merged_score.append(sum(merged_score)/len(merged_score)) #switch to substitution\n",
        "    elif ds.loc[x, col_list[0]]==0:\n",
        "      merged_score.append(ds.loc[x, col_list[1]])\n",
        "    elif ds.loc[x, col_list[1]]==0:\n",
        "      merged_score.append(ds.loc[x, col_list[0]])\n",
        "    else: #neither missing -> use mean\n",
        "      merged_score.append((ds.loc[x, col_list[0]]+ds.loc[x, col_list[0]])/2)\n",
        "  return merged_score\n",
        "  \n",
        "  #df['new_col] = scoreMergeUncurried(col_list)"
      ],
      "metadata": {
        "id": "9mVlteyMAb9l"
      },
      "execution_count": 6,
      "outputs": []
    },
    {
      "cell_type": "code",
      "source": [
        "ds['merged_critic_score'] = scoreMergeUncurried(critic_score)\n",
        "ds['merged_user_score'] = scoreMergeUncurried(user_score)\n",
        "ds['merged_critic_reviews'] = scoreMergeUncurried(critic_reviews)\n",
        "ds['merged_user_reviews'] = scoreMergeUncurried(user_reviews)\n",
        "\n",
        "#drop originals at once here\n",
        "ds = ds.drop(col_list, axis=1)"
      ],
      "metadata": {
        "id": "MjBgZ4s89t2B"
      },
      "execution_count": 7,
      "outputs": []
    },
    {
      "cell_type": "code",
      "source": [
        "#numberify(?) release year. fill in mean if missing (these aren't highly correlated with the output anyway)\n",
        "\n",
        "ds['Release Year'] = ds['Release Date'].str.replace(\"-\", \"\").apply(lambda x: x[-2:])\n",
        "ds['Release Year'] = [x if x.isnumeric() else np.nan for x in ds['Release Year']]\n",
        "ds['Release Year'] =  [x+2000 if x<23 and x != np.nan else x+1900 for x in ds['Release Year'].astype('int64')]\n",
        "ds['Release Year'].isna().any()\n",
        "\n",
        "#convert number of ratings into number data type\n",
        "ds['Number of Ratings'] = ds['Number of Ratings'].str.replace(',', '').astype('int64')\n",
        "#ds['Number of Ratings'].isna().any()\n",
        "#\n",
        "#drop release date and month and day (date: redundant with year, month and day have almost no correlation with output)\n",
        "ds = ds.drop(['Release Date', 'Release Month', 'Release Day'], axis = 1)\n",
        "\n"
      ],
      "metadata": {
        "id": "EUpfOIHcmaUT"
      },
      "execution_count": 8,
      "outputs": []
    },
    {
      "cell_type": "code",
      "source": [
        "#for each row in ds[\"Genre\"]\n",
        "#if value is missing\n",
        "#replace with first value in ds[\"Genres\"]\n",
        "\n",
        "missing_genre = ds.loc[ds[\"Genre\"].isna()]\n",
        "for x in missing_genre.index:\n",
        "  ds.loc[x, 'Genre'] = ds.loc[x, 'Genres'][0]\n",
        "\n",
        "for x in ds.index:\n",
        "  if \",\" in ds.loc[x, 'Genre']:\n",
        "    ds.loc[x, 'Genre'] = ds.loc[x, 'Genre'].split(',')[0]\n"
      ],
      "metadata": {
        "id": "GReuqrQwoacN"
      },
      "execution_count": 9,
      "outputs": []
    },
    {
      "cell_type": "code",
      "source": [
        "def catClean(col):\n",
        "  top_list = col.value_counts()[:20].index.tolist()\n",
        "  col = col.fillna(\"None\")\n",
        "  new_col = col.apply(lambda row: row.split(', ')[0])\n",
        "  new_col2 = new_col.map(lambda row: \"Other\" if (row not in set(top_list)) else row)\n",
        "  return new_col2"
      ],
      "metadata": {
        "id": "hv_e3kuiX-9z"
      },
      "execution_count": 10,
      "outputs": []
    },
    {
      "cell_type": "code",
      "source": [
        "ds['Descriptors'] = catClean(ds['Descriptors'])\n",
        "ds[\"Descriptors\"][:5]\n",
        "#len(ds[\"Descriptors\"].loc[lambda x: x==\"Other\"])\n",
        "#More than half of descriptors don't belong to the top 20\n",
        "#col = ds[\"Descriptors\"].map(lambda row: \"Other\" if (row not in set(top_list)) else row) #this changes the value in the series\n",
        "#col[:10]"
      ],
      "metadata": {
        "id": "gJB2gg6yXWuz",
        "colab": {
          "base_uri": "https://localhost:8080/"
        },
        "outputId": "13fdf8b4-0595-4d74-8599-68c46b7dec9a"
      },
      "execution_count": 11,
      "outputs": [
        {
          "output_type": "execute_result",
          "data": {
            "text/plain": [
              "0    Other\n",
              "1    Other\n",
              "2    Other\n",
              "3    Other\n",
              "4    Other\n",
              "Name: Descriptors, dtype: object"
            ]
          },
          "metadata": {},
          "execution_count": 11
        }
      ]
    },
    {
      "cell_type": "code",
      "source": [
        "ds[\"Label\"] =  catClean(ds['Label'])\n",
        "len(ds[\"Label\"].loc[lambda x: x==\"Other\"])"
      ],
      "metadata": {
        "colab": {
          "base_uri": "https://localhost:8080/"
        },
        "id": "qeI7juWvKRBM",
        "outputId": "af527396-69a9-4c1f-8db7-ca273c04577a"
      },
      "execution_count": 12,
      "outputs": [
        {
          "output_type": "execute_result",
          "data": {
            "text/plain": [
              "1792"
            ]
          },
          "metadata": {},
          "execution_count": 12
        }
      ]
    },
    {
      "cell_type": "code",
      "source": [
        "ds.isna().any()"
      ],
      "metadata": {
        "colab": {
          "base_uri": "https://localhost:8080/"
        },
        "id": "FHYgXrXZF-jO",
        "outputId": "255e21f0-d4d5-4b6d-bfae-7b0a62544d04"
      },
      "execution_count": 14,
      "outputs": [
        {
          "output_type": "execute_result",
          "data": {
            "text/plain": [
              "Ranking                  False\n",
              "Album                    False\n",
              "Artist                   False\n",
              "Genres                   False\n",
              "Descriptors              False\n",
              "Average Rating           False\n",
              "Number of Ratings        False\n",
              "Number of Reviews        False\n",
              "Release Year             False\n",
              "Format                   False\n",
              "Label                    False\n",
              "Genre                    False\n",
              "merged_critic_score      False\n",
              "merged_user_score        False\n",
              "merged_critic_reviews    False\n",
              "merged_user_reviews      False\n",
              "dtype: bool"
            ]
          },
          "metadata": {},
          "execution_count": 14
        }
      ]
    },
    {
      "cell_type": "code",
      "source": [
        "#data processing for XGBoost\n",
        "from sklearn.model_selection import train_test_split\n",
        "\n",
        "y = ds['Average Rating']\n",
        "X = ds.drop(['Average Rating'], axis=1)\n",
        "\n",
        "num_features = X.select_dtypes(include=np.number).columns\n",
        "#print(\"Num_features: \",num_features)\n",
        "\n",
        "cat_features = X.select_dtypes(include=object).columns\n",
        "#print(\"cat_features: \",cat_features)\n",
        "\n",
        "# Break off validation set from training data\n",
        "X_train_full, X_valid_full, y_train, y_valid = train_test_split(X, y, train_size=0.8, test_size=0.2,\n",
        "                                                                random_state=0)\n",
        "\n",
        "# \"Cardinality\" means the number of unique values in a column\n",
        "# Select categorical columns with relatively low cardinality (convenient but arbitrary)\n",
        "low_cardinality_cols = [cname for cname in X_train_full.columns if X_train_full[cname].nunique() < 10 and \n",
        "                        X_train_full[cname].dtype == \"object\"]\n",
        "\n",
        "# Select numeric columns\n",
        "numeric_cols = [cname for cname in X_train_full.columns if X_train_full[cname].dtype in ['int64', 'float64']]\n",
        "\n",
        "# Keep selected columns only\n",
        "my_cols = low_cardinality_cols + numeric_cols\n",
        "X_train = X_train_full[my_cols].copy()\n",
        "X_valid = X_valid_full[my_cols].copy()\n",
        "\n",
        "# One-hot encode the data (to shorten the code, we use pandas)\n",
        "X_train = pd.get_dummies(X_train)\n",
        "X_valid = pd.get_dummies(X_valid)\n",
        "X_train, X_valid = X_train.align(X_valid, join='left', axis=1)"
      ],
      "metadata": {
        "id": "TmNYPk3lGImR"
      },
      "execution_count": 15,
      "outputs": []
    },
    {
      "cell_type": "code",
      "source": [
        "from xgboost import XGBRegressor\n",
        "\n",
        "# Define the model\n",
        "my_model = XGBRegressor(random_state=0) # Your code here\n",
        "\n",
        "# Fit the model\n",
        "my_model.fit(X_train, y_train, early_stopping_rounds = 10, eval_set = [(X_valid, y_valid)]) # Your code here"
      ],
      "metadata": {
        "colab": {
          "base_uri": "https://localhost:8080/"
        },
        "id": "smcLBXBGKBbl",
        "outputId": "b6ced21a-b1d1-4730-8c52-6e455b840d6e"
      },
      "execution_count": 16,
      "outputs": [
        {
          "output_type": "stream",
          "name": "stdout",
          "text": [
            "[21:43:23] WARNING: /workspace/src/objective/regression_obj.cu:152: reg:linear is now deprecated in favor of reg:squarederror.\n",
            "[0]\tvalidation_0-rmse:2.95757\n",
            "Will train until validation_0-rmse hasn't improved in 10 rounds.\n",
            "[1]\tvalidation_0-rmse:2.66228\n",
            "[2]\tvalidation_0-rmse:2.39717\n",
            "[3]\tvalidation_0-rmse:2.15824\n",
            "[4]\tvalidation_0-rmse:1.94344\n",
            "[5]\tvalidation_0-rmse:1.74987\n",
            "[6]\tvalidation_0-rmse:1.57575\n",
            "[7]\tvalidation_0-rmse:1.41894\n",
            "[8]\tvalidation_0-rmse:1.27803\n",
            "[9]\tvalidation_0-rmse:1.1509\n",
            "[10]\tvalidation_0-rmse:1.03655\n",
            "[11]\tvalidation_0-rmse:0.933482\n",
            "[12]\tvalidation_0-rmse:0.84072\n",
            "[13]\tvalidation_0-rmse:0.757165\n",
            "[14]\tvalidation_0-rmse:0.682144\n",
            "[15]\tvalidation_0-rmse:0.61456\n",
            "[16]\tvalidation_0-rmse:0.553708\n",
            "[17]\tvalidation_0-rmse:0.498837\n",
            "[18]\tvalidation_0-rmse:0.449362\n",
            "[19]\tvalidation_0-rmse:0.404993\n",
            "[20]\tvalidation_0-rmse:0.365143\n",
            "[21]\tvalidation_0-rmse:0.328997\n",
            "[22]\tvalidation_0-rmse:0.29661\n",
            "[23]\tvalidation_0-rmse:0.26753\n",
            "[24]\tvalidation_0-rmse:0.241321\n",
            "[25]\tvalidation_0-rmse:0.217647\n",
            "[26]\tvalidation_0-rmse:0.196352\n",
            "[27]\tvalidation_0-rmse:0.177192\n",
            "[28]\tvalidation_0-rmse:0.160036\n",
            "[29]\tvalidation_0-rmse:0.144579\n",
            "[30]\tvalidation_0-rmse:0.130617\n",
            "[31]\tvalidation_0-rmse:0.118272\n",
            "[32]\tvalidation_0-rmse:0.107049\n",
            "[33]\tvalidation_0-rmse:0.096943\n",
            "[34]\tvalidation_0-rmse:0.087898\n",
            "[35]\tvalidation_0-rmse:0.079849\n",
            "[36]\tvalidation_0-rmse:0.072543\n",
            "[37]\tvalidation_0-rmse:0.065982\n",
            "[38]\tvalidation_0-rmse:0.060196\n",
            "[39]\tvalidation_0-rmse:0.05499\n",
            "[40]\tvalidation_0-rmse:0.050345\n",
            "[41]\tvalidation_0-rmse:0.046098\n",
            "[42]\tvalidation_0-rmse:0.04233\n",
            "[43]\tvalidation_0-rmse:0.039067\n",
            "[44]\tvalidation_0-rmse:0.03603\n",
            "[45]\tvalidation_0-rmse:0.033444\n",
            "[46]\tvalidation_0-rmse:0.031142\n",
            "[47]\tvalidation_0-rmse:0.029153\n",
            "[48]\tvalidation_0-rmse:0.027349\n",
            "[49]\tvalidation_0-rmse:0.025837\n",
            "[50]\tvalidation_0-rmse:0.024296\n",
            "[51]\tvalidation_0-rmse:0.023109\n",
            "[52]\tvalidation_0-rmse:0.021894\n",
            "[53]\tvalidation_0-rmse:0.020997\n",
            "[54]\tvalidation_0-rmse:0.020111\n",
            "[55]\tvalidation_0-rmse:0.01942\n",
            "[56]\tvalidation_0-rmse:0.01878\n",
            "[57]\tvalidation_0-rmse:0.018192\n",
            "[58]\tvalidation_0-rmse:0.017704\n",
            "[59]\tvalidation_0-rmse:0.01725\n",
            "[60]\tvalidation_0-rmse:0.016851\n",
            "[61]\tvalidation_0-rmse:0.016559\n",
            "[62]\tvalidation_0-rmse:0.0163\n",
            "[63]\tvalidation_0-rmse:0.01599\n",
            "[64]\tvalidation_0-rmse:0.015729\n",
            "[65]\tvalidation_0-rmse:0.015564\n",
            "[66]\tvalidation_0-rmse:0.015326\n",
            "[67]\tvalidation_0-rmse:0.015134\n",
            "[68]\tvalidation_0-rmse:0.014935\n",
            "[69]\tvalidation_0-rmse:0.01477\n",
            "[70]\tvalidation_0-rmse:0.014561\n",
            "[71]\tvalidation_0-rmse:0.014452\n",
            "[72]\tvalidation_0-rmse:0.01437\n",
            "[73]\tvalidation_0-rmse:0.014172\n",
            "[74]\tvalidation_0-rmse:0.014092\n",
            "[75]\tvalidation_0-rmse:0.013954\n",
            "[76]\tvalidation_0-rmse:0.013883\n",
            "[77]\tvalidation_0-rmse:0.013767\n",
            "[78]\tvalidation_0-rmse:0.013651\n",
            "[79]\tvalidation_0-rmse:0.013587\n",
            "[80]\tvalidation_0-rmse:0.013536\n",
            "[81]\tvalidation_0-rmse:0.013443\n",
            "[82]\tvalidation_0-rmse:0.013416\n",
            "[83]\tvalidation_0-rmse:0.013359\n",
            "[84]\tvalidation_0-rmse:0.013318\n",
            "[85]\tvalidation_0-rmse:0.013236\n",
            "[86]\tvalidation_0-rmse:0.013195\n",
            "[87]\tvalidation_0-rmse:0.013132\n",
            "[88]\tvalidation_0-rmse:0.013053\n",
            "[89]\tvalidation_0-rmse:0.012991\n",
            "[90]\tvalidation_0-rmse:0.012958\n",
            "[91]\tvalidation_0-rmse:0.012884\n",
            "[92]\tvalidation_0-rmse:0.012844\n",
            "[93]\tvalidation_0-rmse:0.01278\n",
            "[94]\tvalidation_0-rmse:0.012708\n",
            "[95]\tvalidation_0-rmse:0.012691\n",
            "[96]\tvalidation_0-rmse:0.012649\n",
            "[97]\tvalidation_0-rmse:0.012632\n",
            "[98]\tvalidation_0-rmse:0.012572\n",
            "[99]\tvalidation_0-rmse:0.012514\n"
          ]
        },
        {
          "output_type": "execute_result",
          "data": {
            "text/plain": [
              "XGBRegressor()"
            ]
          },
          "metadata": {},
          "execution_count": 16
        }
      ]
    },
    {
      "cell_type": "code",
      "source": [
        "from sklearn.metrics import mean_absolute_error\n",
        "\n",
        "predictions = my_model.predict(X_valid)\n",
        "mae = mean_absolute_error(predictions, y_valid)\n",
        "mae"
      ],
      "metadata": {
        "id": "T26TMKvJR7Sr",
        "colab": {
          "base_uri": "https://localhost:8080/"
        },
        "outputId": "a38d5fe0-0caf-4a67-f16b-60be8bfd5db8"
      },
      "execution_count": 17,
      "outputs": [
        {
          "output_type": "execute_result",
          "data": {
            "text/plain": [
              "0.009409460753073423"
            ]
          },
          "metadata": {},
          "execution_count": 17
        }
      ]
    },
    {
      "cell_type": "code",
      "source": [
        "import matplotlib.pyplot as plt\n",
        "%matplotlib inline\n",
        "\n",
        "plt.scatter(predictions, y_valid, alpha = 0.5)\n",
        "plt.xlabel(\"Predicted rating\")\n",
        "plt.ylabel(\"Actual rating\")\n",
        "\n",
        "plt.title(\"Predicted Album Ratings using XGBoost\")\n",
        "\n",
        "plt.show() "
      ],
      "metadata": {
        "colab": {
          "base_uri": "https://localhost:8080/",
          "height": 295
        },
        "id": "v7SW1LCNsc1s",
        "outputId": "743656e7-f844-443a-b775-f7bfbaa51ba2"
      },
      "execution_count": 53,
      "outputs": [
        {
          "output_type": "display_data",
          "data": {
            "text/plain": [
              "<Figure size 432x288 with 1 Axes>"
            ],
            "image/png": "[encoded data removed]"
          },
          "metadata": {
            "needs_background": "light"
          }
        }
      ]
    },
    {
      "cell_type": "code",
      "source": [
        "from sklearn.metrics import confusion_matrix\n",
        "import seaborn as sns\n",
        "# classify into discrete classes\n",
        "#build confusion matrix to compare with CNN output\n",
        "\n",
        "#class boundaries from CNN\n",
        "class_list = [[0.627, 0.793], [0.793, 0.818], [0.818, 0.841], [0.841, 0.930]]\n",
        "\n",
        "def ratingScaler(row):\n",
        "  for item in class_list:\n",
        "    if item[0] <= (row/5) and (row/5) < item[1]:\n",
        "      idx = class_list.index(item)\n",
        "      return idx\n",
        "\n",
        "predictions_series = pd.Series(predictions)\n",
        "y_valid_series = pd.Series(y_valid)\n",
        "    \n",
        "predictions_rounded = predictions_series.apply(ratingScaler)\n",
        "y_valid_rounded = y_valid_series.apply(ratingScaler)\n",
        "\n",
        "\n",
        "#oscar\n",
        "def get_confusion_matrix(output_targets, output_preds):\n",
        "    # create a confusion matrix to illustrate results\n",
        "    cm = confusion_matrix(output_targets, output_preds)\n",
        "    #range: (minval, maxval_exclusive, steps)\n",
        "    cm_df = pd.DataFrame(cm, index = list(range(0,4,1)), columns = list(range(0,4,1)))\n",
        "    # compute accuracy\n",
        "    accuracy = 0\n",
        "    for i in range(len(cm)):\n",
        "        for j in range(len(cm[i])):\n",
        "            if i ==j:\n",
        "                accuracy += cm[i][j]\n",
        "    accuracy /= len(output_preds) # divide total correct by total obs\n",
        "    cm_norm_df = cm_df / cm_df.sum() # divide each column by the sum for that column to determine relative precentage\n",
        "    # plot\n",
        "    plt.figure(figsize=(10,7))\n",
        "    sns.heatmap(cm_norm_df, cmap = 'viridis', annot=True)\n",
        "    plt.title('XGBoost results rounded into 4 classes, accuracy = %f'%np.round(accuracy, 4), fontsize=20)\n",
        "    plt.ylabel('Actual variable class', fontsize=16)\n",
        "    plt.xlabel('Predicted variable class', fontsize=16)\n",
        "    #plt.savefig(os.path.join(DATA_DIR, 'confusion_acc_v0.0.1.jpeg'))\n",
        "    plt.show()\n",
        "\n",
        "\n",
        "get_confusion_matrix(predictions_rounded, y_valid_rounded)"
      ],
      "metadata": {
        "colab": {
          "base_uri": "https://localhost:8080/",
          "height": 468
        },
        "id": "oT6TnXi7uveu",
        "outputId": "e65f6d8e-f2e9-45c1-c31e-839aba24bfe3"
      },
      "execution_count": 42,
      "outputs": [
        {
          "output_type": "display_data",
          "data": {
            "text/plain": [
              "<Figure size 720x504 with 2 Axes>"
            ],
            "image/png": "[encoded data removed]"
          },
          "metadata": {
            "needs_background": "light"
          }
        }
      ]
    },
    {
      "cell_type": "code",
      "source": [
        "\"\"\"\n",
        "#keras data processing\n",
        "#edit needed\n",
        "from sklearn.model_selection import train_test_split\n",
        "from sklearn.preprocessing import StandardScaler, OneHotEncoder\n",
        "from sklearn.impute import SimpleImputer\n",
        "from sklearn.pipeline import make_pipeline\n",
        "from sklearn.compose import make_column_transformer\n",
        "\n",
        "#split X and y\n",
        "\n",
        "X = ds.copy()\n",
        "y = X.pop('Average Rating')\n",
        "print(\"X shape:\", X.shape)\n",
        "\n",
        "\n",
        "# stratify - make sure classes are evenlly represented across splits\n",
        "#train test split\n",
        "X_train, X_valid, y_train, y_valid = \\\n",
        "    train_test_split(X, y, stratify=y, train_size=0.85)\n",
        "\n",
        "#one-hot encode y (doesn't matter what I use for this)\n",
        "OH_encoder = OneHotEncoder(handle_unknown='ignore', sparse=False)\n",
        "y_train = pd.DataFrame(OH_encoder.fit_transform(y_train))\n",
        "y_valid = pd.DataFrame(OH_encoder.transform(y_valid))\n",
        "\n",
        "#target variable \n",
        "#????\n",
        "num_features = X.select_dtypes(include=np.number).columns\n",
        "#print(\"Num_features: \",num_features)\n",
        "\n",
        "#pick categorical columns to one-hot encode\n",
        "\n",
        "cat_features = X.select_dtypes(include=object).columns\n",
        "#print(\"cat_features: \",cat_features)\n",
        "\n",
        "num_transformer = make_pipeline(\n",
        "    SimpleImputer(strategy=\"constant\"), # there are a few missing values\n",
        "    StandardScaler(),\n",
        ")\n",
        "cat_transformer = make_pipeline(\n",
        "    SimpleImputer(strategy=\"constant\", fill_value=\"None\"),\n",
        "    OneHotEncoder(handle_unknown='ignore'),\n",
        ")\n",
        "\n",
        "#bundle transformer\n",
        "preprocessor = make_column_transformer(\n",
        "    (num_transformer, num_features),\n",
        "    (cat_transformer, cat_features),\n",
        ")\n",
        "\n",
        "#only fit X_train\n",
        "X_train = preprocessor.fit_transform(X_train)\n",
        "X_valid = preprocessor.transform(X_valid)\n",
        "\n",
        "#I'm confused with this part\n",
        "input_shape = [X_train.shape[1]]\n",
        "print(input_shape)\n",
        "\"\"\""
      ],
      "metadata": {
        "id": "6cfNCaTozoLI",
        "colab": {
          "base_uri": "https://localhost:8080/",
          "height": 162
        },
        "outputId": "432bbc7b-0857-46d1-825b-20a05ac8a759"
      },
      "execution_count": 18,
      "outputs": [
        {
          "output_type": "execute_result",
          "data": {
            "text/plain": [
              "'\\n#data processing: based on kaggle learn deep learning course. didn\\'t work\\nfrom sklearn.model_selection import train_test_split\\nfrom sklearn.preprocessing import StandardScaler, OneHotEncoder\\nfrom sklearn.impute import SimpleImputer\\nfrom sklearn.pipeline import make_pipeline\\nfrom sklearn.compose import make_column_transformer\\n\\nX = ds.copy()\\ny = X.pop(\\'Average Rating\\')\\nprint(\"X shape:\", X.shape)\\n\\nnum_features = X.select_dtypes(include=np.number).columns\\n#print(\"Num_features: \",num_features)\\n\\ncat_features = X.select_dtypes(include=object).columns\\n#print(\"cat_features: \",cat_features)\\n\\nnum_transformer = make_pipeline(\\n    SimpleImputer(strategy=\"constant\"), # there are a few missing values\\n    StandardScaler(),\\n)\\ncat_transformer = make_pipeline(\\n    SimpleImputer(strategy=\"constant\", fill_value=\"None\"),\\n    OneHotEncoder(handle_unknown=\\'ignore\\'),\\n)\\n\\npreprocessor = make_column_transformer(\\n    (num_transformer, num_features),\\n    (cat_transformer, cat_features),\\n)\\n\\n# stratify - make sure classes are evenlly represented across splits\\nX_train, X_valid, y_train, y_valid =     train_test_split(X, y, stratify=y, train_size=0.85)\\n\\nX_train = preprocessor.fit_transform(X_train)\\nX_valid = preprocessor.transform(X_valid)\\n\\ninput_shape = [X_train.shape[1]]\\n#large number of columns due to onehot encoding. trim if necessary\\nprint(input_shape)\\n'"
            ],
            "application/vnd.google.colaboratory.intrinsic+json": {
              "type": "string"
            }
          },
          "metadata": {},
          "execution_count": 18
        }
      ]
    },
    {
      "cell_type": "code",
      "source": [
        "\"\"\"\n",
        "from tensorflow.keras import layers\n",
        "\n",
        "model = keras.Sequential([\n",
        "    layers.Dense(512, activation='relu', input_shape=input_shape),\n",
        "    layers.Dense(512, activation='relu'),\n",
        "    layers.Dense(512, activation='relu'),\n",
        "    layers.Dense(1),\n",
        "\n",
        "    model.compile(optimizer = \"adam\", loss = \"mae\")\n",
        "])    \n",
        "\n",
        "history = model.fit(\n",
        "    X_train, y_train,\n",
        "    validation_data=(X_valid, y_valid),\n",
        "    batch_size=256,\n",
        "    epochs=50\n",
        ")\n",
        "\"\"\""
      ],
      "metadata": {
        "id": "h_dC513j5qRt",
        "colab": {
          "base_uri": "https://localhost:8080/",
          "height": 90
        },
        "outputId": "cb338c3b-b02b-4f0a-955a-c07faed70ce5"
      },
      "execution_count": 19,
      "outputs": [
        {
          "output_type": "execute_result",
          "data": {
            "text/plain": [
              "'\\nfrom tensorflow.keras import layers\\n\\nmodel = keras.Sequential([\\n    layers.Dense(512, activation=\\'relu\\', input_shape=input_shape),\\n    layers.Dense(512, activation=\\'relu\\'),\\n    layers.Dense(512, activation=\\'relu\\'),\\n    layers.Dense(1),\\n\\n    model.compile(optimizer = \"adam\", loss = \"mae\")\\n])    \\n\\nhistory = model.fit(\\n    X_train, y_train,\\n    validation_data=(X_valid, y_valid),\\n    batch_size=256,\\n    epochs=50\\n)\\n'"
            ],
            "application/vnd.google.colaboratory.intrinsic+json": {
              "type": "string"
            }
          },
          "metadata": {},
          "execution_count": 19
        }
      ]
    },
    {
      "cell_type": "code",
      "source": [
        "#one-hot encoding for entries with multiple items\n",
        "#abandoned this idea because it was more complicated than I expected and didn't seem to be worth extra processing power\n",
        "#go for the simpler solution if I have two different solution\n",
        "# 1 if item is in each row entry, 0 if not\n",
        "\n",
        "#create list of top 20 items by frequency\n",
        "\n",
        "\"\"\"\n",
        "\n",
        "\n",
        "#if entry has multiple words, split it into list\n",
        "def wordSplit(row):\n",
        "  if \",\" in row:\n",
        "    row = row.split(', ')\n",
        "\n",
        "#input unprocessed col\n",
        "def makeList(col):\n",
        "  item_counts =col.value_counts()\n",
        "  #print(item_counts[:5])\n",
        "  top_list = item_counts.index[:20].tolist()\n",
        "  return top_list\n",
        "\n",
        "\n",
        "\n",
        "#input processed col here\n",
        "def makeDf(col):\n",
        "  #dict will go into new df\n",
        "  item_dict = {}\n",
        "  for item in top_list:\n",
        "    item_dict[item] = []\n",
        "  for item in top_list: #for each item in top_list, append 1 to entry if item is in the row\n",
        "    item_dict[item] = [1 if (item in set(row)) else 0 for row in set(col)]\n",
        "    print(item, \"+\" , item_dict[item])\n",
        "  item_df = pd.DataFrame.from_dict(item_dict)\n",
        "  return item_df\n",
        "  \"\"\""
      ],
      "metadata": {
        "id": "2ms8koqXenFN",
        "colab": {
          "base_uri": "https://localhost:8080/",
          "height": 126
        },
        "outputId": "b7affb3b-5507-42bb-c0c8-bd54f24aa394"
      },
      "execution_count": 20,
      "outputs": [
        {
          "output_type": "execute_result",
          "data": {
            "text/plain": [
              "'\\n\\n\\n#if entry has multiple words, split it into list\\ndef wordSplit(row):\\n  if \",\" in row:\\n    row = row.split(\\', \\')\\n\\n#input unprocessed col\\ndef makeList(col):\\n  item_counts =col.value_counts()\\n  #print(item_counts[:5])\\n  top_list = item_counts.index[:20].tolist()\\n  return top_list\\n\\n\\n\\n#input processed col here\\ndef makeDf(col):\\n  #dict will go into new df\\n  item_dict = {}\\n  for item in top_list:\\n    item_dict[item] = []\\n  for item in top_list: #for each item in top_list, append 1 to entry if item is in the row\\n    item_dict[item] = [1 if (item in set(row)) else 0 for row in set(col)]\\n    print(item, \"+\" , item_dict[item])\\n  item_df = pd.DataFrame.from_dict(item_dict)\\n  return item_df\\n  '"
            ],
            "application/vnd.google.colaboratory.intrinsic+json": {
              "type": "string"
            }
          },
          "metadata": {},
          "execution_count": 20
        }
      ]
    }
  ]
}