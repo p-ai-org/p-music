{
  "nbformat": 4,
  "nbformat_minor": 0,
  "metadata": {
    "colab": {
      "provenance": [],
      "authorship_tag": "ABX9TyPnVFnmkRuiSjrIhBL1WB4/",
      "include_colab_link": true
    },
    "kernelspec": {
      "name": "python3",
      "display_name": "Python 3"
    },
    "language_info": {
      "name": "python"
    }
  },
  "cells": [
    {
      "cell_type": "markdown",
      "metadata": {
        "id": "view-in-github",
        "colab_type": "text"
      },
      "source": [
        "<a href=\"https://colab.research.google.com/github/p-ai-org/p-music/blob/main/album_metadata_model.ipynb\" target=\"_parent\"><img src=\"https://colab.research.google.com/assets/colab-badge.svg\" alt=\"Open In Colab\"/></a>"
      ]
    },
    {
      "cell_type": "code",
      "execution_count": 132,
      "metadata": {
        "id": "tcOOPtIP7-Qk"
      },
      "outputs": [],
      "source": [
        "import pandas as pd\n",
        "import numpy as np\n",
        "import re\n",
        "from sklearn.preprocessing import StandardScaler, OneHotEncoder\n",
        "from sklearn.compose import make_column_transformer\n",
        "from sklearn.model_selection import GroupShuffleSplit\n",
        "\n",
        "from tensorflow import keras\n",
        "from tensorflow.keras import layers\n",
        "from tensorflow.keras import callbacks\n",
        "\n",
        "ds = pd.read_csv('merged_features.csv')"
      ]
    },
    {
      "cell_type": "markdown",
      "source": [
        "# New Section"
      ],
      "metadata": {
        "id": "CfGAwsPya368"
      }
    },
    {
      "cell_type": "code",
      "source": [
        "ds.shape\n",
        "ds = ds.drop('Unnamed: 0', axis = 1)\n",
        "ds.columns"
      ],
      "metadata": {
        "colab": {
          "base_uri": "https://localhost:8080/"
        },
        "id": "7IQa2iRv8yV7",
        "outputId": "d4e53d27-1d0e-42c9-e0f4-ef47aa914fbf"
      },
      "execution_count": 154,
      "outputs": [
        {
          "output_type": "execute_result",
          "data": {
            "text/plain": [
              "Index(['Ranking', 'Album', 'Artist', 'Release Date', 'Genres', 'Descriptors',\n",
              "       'Average Rating', 'Number of Ratings', 'Number of Reviews',\n",
              "       'Release Month', 'Release Day', 'Release Year', 'Format', 'Label',\n",
              "       'Genre', 'Metacritic Critic Score', 'Metacritic Reviews',\n",
              "       'Metacritic User Score', 'Metacritic User Reviews', 'AOTY Critic Score',\n",
              "       'AOTY Critic Reviews', 'AOTY User Score', 'AOTY User Reviews'],\n",
              "      dtype='object')"
            ]
          },
          "metadata": {},
          "execution_count": 154
        }
      ]
    },
    {
      "cell_type": "code",
      "source": [
        "#use an average of AOTY and metacritic user score (the same goes with critic)\n",
        "#if one of them is missing, use the other\n",
        "#if both are missing, drop that row\n",
        "col_list = ['AOTY Critic Score', 'Metacritic User Score', 'AOTY User Score', 'Metacritic Critic Score', 'Metacritic User Reviews', 'AOTY User Reviews', 'AOTY Critic Reviews', 'Metacritic Reviews']\n",
        "ds[col_list] = ds[col_list].fillna(0)\n",
        "ds[:5]"
      ],
      "metadata": {
        "id": "brxlX7-6FCEg",
        "colab": {
          "base_uri": "https://localhost:8080/",
          "height": 560
        },
        "outputId": "0d771aa7-9128-49e0-a27a-69aa4c9fc115"
      },
      "execution_count": 155,
      "outputs": [
        {
          "output_type": "execute_result",
          "data": {
            "text/plain": [
              "   Ranking                Album               Artist       Release Date  \\\n",
              "0      1.0          OK Computer            Radiohead       16 June 1997   \n",
              "1      2.0   Wish You Were Here           Pink Floyd  12 September 1975   \n",
              "2      4.0                Kid A            Radiohead     3 October 2000   \n",
              "3      5.0  To Pimp a Butterfly       Kendrick Lamar      15 March 2015   \n",
              "4      6.0             Loveless  My Bloody Valentine    4 November 1991   \n",
              "\n",
              "                                            Genres  Descriptors  \\\n",
              "0                       Alternative Rock, Art Rock  melancholic   \n",
              "1                       Progressive Rock, Art Rock  melancholic   \n",
              "2          Art Rock, Experimental Rock, Electronic         cold   \n",
              "3  Conscious Hip Hop, West Coast Hip Hop, Jazz Rap    political   \n",
              "4                              Shoegaze, Noise Pop        noisy   \n",
              "\n",
              "   Average Rating Number of Ratings  Number of Reviews Release Month  ...  \\\n",
              "0            4.23            70,382               1531          June  ...   \n",
              "1            4.29            48,662                983     September  ...   \n",
              "2            4.21            58,590                734       October  ...   \n",
              "3            4.27            44,206                379         March  ...   \n",
              "4            4.24            49,887               1223      November  ...   \n",
              "\n",
              "                    Label              Genre Metacritic Critic Score  \\\n",
              "0              Parlophone   Alternative Rock                     0.0   \n",
              "1                 Harvest   Progressive Rock                     0.0   \n",
              "2           Capitol / EMI  Experimental Rock                    80.0   \n",
              "3  Aftermath / Interscope            Hip Hop                    96.0   \n",
              "4                Creation           Shoegaze                     0.0   \n",
              "\n",
              "  Metacritic Reviews Metacritic User Score  Metacritic User Reviews  \\\n",
              "0                0.0                   0.0                      0.0   \n",
              "1                0.0                   0.0                      0.0   \n",
              "2               24.0                   8.9                   1129.0   \n",
              "3               44.0                   8.8                   3616.0   \n",
              "4                0.0                   0.0                      0.0   \n",
              "\n",
              "   AOTY Critic Score  AOTY Critic Reviews  AOTY User Score  AOTY User Reviews  \n",
              "0                 91                   12               93               3204  \n",
              "1                100                    4               91               1607  \n",
              "2                 85                   13               92               2862  \n",
              "3                 95                   42               93               4530  \n",
              "4                 94                    9               91               1634  \n",
              "\n",
              "[5 rows x 23 columns]"
            ],
            "text/html": [
              "\n",
              "  <div id=\"df-70584f7e-84a1-4905-9472-43488099bfae\">\n",
              "    <div class=\"colab-df-container\">\n",
              "      <div>\n",
              "<style scoped>\n",
              "    .dataframe tbody tr th:only-of-type {\n",
              "        vertical-align: middle;\n",
              "    }\n",
              "\n",
              "    .dataframe tbody tr th {\n",
              "        vertical-align: top;\n",
              "    }\n",
              "\n",
              "    .dataframe thead th {\n",
              "        text-align: right;\n",
              "    }\n",
              "</style>\n",
              "<table border=\"1\" class=\"dataframe\">\n",
              "  <thead>\n",
              "    <tr style=\"text-align: right;\">\n",
              "      <th></th>\n",
              "      <th>Ranking</th>\n",
              "      <th>Album</th>\n",
              "      <th>Artist</th>\n",
              "      <th>Release Date</th>\n",
              "      <th>Genres</th>\n",
              "      <th>Descriptors</th>\n",
              "      <th>Average Rating</th>\n",
              "      <th>Number of Ratings</th>\n",
              "      <th>Number of Reviews</th>\n",
              "      <th>Release Month</th>\n",
              "      <th>...</th>\n",
              "      <th>Label</th>\n",
              "      <th>Genre</th>\n",
              "      <th>Metacritic Critic Score</th>\n",
              "      <th>Metacritic Reviews</th>\n",
              "      <th>Metacritic User Score</th>\n",
              "      <th>Metacritic User Reviews</th>\n",
              "      <th>AOTY Critic Score</th>\n",
              "      <th>AOTY Critic Reviews</th>\n",
              "      <th>AOTY User Score</th>\n",
              "      <th>AOTY User Reviews</th>\n",
              "    </tr>\n",
              "  </thead>\n",
              "  <tbody>\n",
              "    <tr>\n",
              "      <th>0</th>\n",
              "      <td>1.0</td>\n",
              "      <td>OK Computer</td>\n",
              "      <td>Radiohead</td>\n",
              "      <td>16 June 1997</td>\n",
              "      <td>Alternative Rock, Art Rock</td>\n",
              "      <td>melancholic</td>\n",
              "      <td>4.23</td>\n",
              "      <td>70,382</td>\n",
              "      <td>1531</td>\n",
              "      <td>June</td>\n",
              "      <td>...</td>\n",
              "      <td>Parlophone</td>\n",
              "      <td>Alternative Rock</td>\n",
              "      <td>0.0</td>\n",
              "      <td>0.0</td>\n",
              "      <td>0.0</td>\n",
              "      <td>0.0</td>\n",
              "      <td>91</td>\n",
              "      <td>12</td>\n",
              "      <td>93</td>\n",
              "      <td>3204</td>\n",
              "    </tr>\n",
              "    <tr>\n",
              "      <th>1</th>\n",
              "      <td>2.0</td>\n",
              "      <td>Wish You Were Here</td>\n",
              "      <td>Pink Floyd</td>\n",
              "      <td>12 September 1975</td>\n",
              "      <td>Progressive Rock, Art Rock</td>\n",
              "      <td>melancholic</td>\n",
              "      <td>4.29</td>\n",
              "      <td>48,662</td>\n",
              "      <td>983</td>\n",
              "      <td>September</td>\n",
              "      <td>...</td>\n",
              "      <td>Harvest</td>\n",
              "      <td>Progressive Rock</td>\n",
              "      <td>0.0</td>\n",
              "      <td>0.0</td>\n",
              "      <td>0.0</td>\n",
              "      <td>0.0</td>\n",
              "      <td>100</td>\n",
              "      <td>4</td>\n",
              "      <td>91</td>\n",
              "      <td>1607</td>\n",
              "    </tr>\n",
              "    <tr>\n",
              "      <th>2</th>\n",
              "      <td>4.0</td>\n",
              "      <td>Kid A</td>\n",
              "      <td>Radiohead</td>\n",
              "      <td>3 October 2000</td>\n",
              "      <td>Art Rock, Experimental Rock, Electronic</td>\n",
              "      <td>cold</td>\n",
              "      <td>4.21</td>\n",
              "      <td>58,590</td>\n",
              "      <td>734</td>\n",
              "      <td>October</td>\n",
              "      <td>...</td>\n",
              "      <td>Capitol / EMI</td>\n",
              "      <td>Experimental Rock</td>\n",
              "      <td>80.0</td>\n",
              "      <td>24.0</td>\n",
              "      <td>8.9</td>\n",
              "      <td>1129.0</td>\n",
              "      <td>85</td>\n",
              "      <td>13</td>\n",
              "      <td>92</td>\n",
              "      <td>2862</td>\n",
              "    </tr>\n",
              "    <tr>\n",
              "      <th>3</th>\n",
              "      <td>5.0</td>\n",
              "      <td>To Pimp a Butterfly</td>\n",
              "      <td>Kendrick Lamar</td>\n",
              "      <td>15 March 2015</td>\n",
              "      <td>Conscious Hip Hop, West Coast Hip Hop, Jazz Rap</td>\n",
              "      <td>political</td>\n",
              "      <td>4.27</td>\n",
              "      <td>44,206</td>\n",
              "      <td>379</td>\n",
              "      <td>March</td>\n",
              "      <td>...</td>\n",
              "      <td>Aftermath / Interscope</td>\n",
              "      <td>Hip Hop</td>\n",
              "      <td>96.0</td>\n",
              "      <td>44.0</td>\n",
              "      <td>8.8</td>\n",
              "      <td>3616.0</td>\n",
              "      <td>95</td>\n",
              "      <td>42</td>\n",
              "      <td>93</td>\n",
              "      <td>4530</td>\n",
              "    </tr>\n",
              "    <tr>\n",
              "      <th>4</th>\n",
              "      <td>6.0</td>\n",
              "      <td>Loveless</td>\n",
              "      <td>My Bloody Valentine</td>\n",
              "      <td>4 November 1991</td>\n",
              "      <td>Shoegaze, Noise Pop</td>\n",
              "      <td>noisy</td>\n",
              "      <td>4.24</td>\n",
              "      <td>49,887</td>\n",
              "      <td>1223</td>\n",
              "      <td>November</td>\n",
              "      <td>...</td>\n",
              "      <td>Creation</td>\n",
              "      <td>Shoegaze</td>\n",
              "      <td>0.0</td>\n",
              "      <td>0.0</td>\n",
              "      <td>0.0</td>\n",
              "      <td>0.0</td>\n",
              "      <td>94</td>\n",
              "      <td>9</td>\n",
              "      <td>91</td>\n",
              "      <td>1634</td>\n",
              "    </tr>\n",
              "  </tbody>\n",
              "</table>\n",
              "<p>5 rows × 23 columns</p>\n",
              "</div>\n",
              "      <button class=\"colab-df-convert\" onclick=\"convertToInteractive('df-70584f7e-84a1-4905-9472-43488099bfae')\"\n",
              "              title=\"Convert this dataframe to an interactive table.\"\n",
              "              style=\"display:none;\">\n",
              "        \n",
              "  <svg xmlns=\"http://www.w3.org/2000/svg\" height=\"24px\"viewBox=\"0 0 24 24\"\n",
              "       width=\"24px\">\n",
              "    <path d=\"M0 0h24v24H0V0z\" fill=\"none\"/>\n",
              "    <path d=\"M18.56 5.44l.94 2.06.94-2.06 2.06-.94-2.06-.94-.94-2.06-.94 2.06-2.06.94zm-11 1L8.5 8.5l.94-2.06 2.06-.94-2.06-.94L8.5 2.5l-.94 2.06-2.06.94zm10 10l.94 2.06.94-2.06 2.06-.94-2.06-.94-.94-2.06-.94 2.06-2.06.94z\"/><path d=\"M17.41 7.96l-1.37-1.37c-.4-.4-.92-.59-1.43-.59-.52 0-1.04.2-1.43.59L10.3 9.45l-7.72 7.72c-.78.78-.78 2.05 0 2.83L4 21.41c.39.39.9.59 1.41.59.51 0 1.02-.2 1.41-.59l7.78-7.78 2.81-2.81c.8-.78.8-2.07 0-2.86zM5.41 20L4 18.59l7.72-7.72 1.47 1.35L5.41 20z\"/>\n",
              "  </svg>\n",
              "      </button>\n",
              "      \n",
              "  <style>\n",
              "    .colab-df-container {\n",
              "      display:flex;\n",
              "      flex-wrap:wrap;\n",
              "      gap: 12px;\n",
              "    }\n",
              "\n",
              "    .colab-df-convert {\n",
              "      background-color: #E8F0FE;\n",
              "      border: none;\n",
              "      border-radius: 50%;\n",
              "      cursor: pointer;\n",
              "      display: none;\n",
              "      fill: #1967D2;\n",
              "      height: 32px;\n",
              "      padding: 0 0 0 0;\n",
              "      width: 32px;\n",
              "    }\n",
              "\n",
              "    .colab-df-convert:hover {\n",
              "      background-color: #E2EBFA;\n",
              "      box-shadow: 0px 1px 2px rgba(60, 64, 67, 0.3), 0px 1px 3px 1px rgba(60, 64, 67, 0.15);\n",
              "      fill: #174EA6;\n",
              "    }\n",
              "\n",
              "    [theme=dark] .colab-df-convert {\n",
              "      background-color: #3B4455;\n",
              "      fill: #D2E3FC;\n",
              "    }\n",
              "\n",
              "    [theme=dark] .colab-df-convert:hover {\n",
              "      background-color: #434B5C;\n",
              "      box-shadow: 0px 1px 3px 1px rgba(0, 0, 0, 0.15);\n",
              "      filter: drop-shadow(0px 1px 2px rgba(0, 0, 0, 0.3));\n",
              "      fill: #FFFFFF;\n",
              "    }\n",
              "  </style>\n",
              "\n",
              "      <script>\n",
              "        const buttonEl =\n",
              "          document.querySelector('#df-70584f7e-84a1-4905-9472-43488099bfae button.colab-df-convert');\n",
              "        buttonEl.style.display =\n",
              "          google.colab.kernel.accessAllowed ? 'block' : 'none';\n",
              "\n",
              "        async function convertToInteractive(key) {\n",
              "          const element = document.querySelector('#df-70584f7e-84a1-4905-9472-43488099bfae');\n",
              "          const dataTable =\n",
              "            await google.colab.kernel.invokeFunction('convertToInteractive',\n",
              "                                                     [key], {});\n",
              "          if (!dataTable) return;\n",
              "\n",
              "          const docLinkHtml = 'Like what you see? Visit the ' +\n",
              "            '<a target=\"_blank\" href=https://colab.research.google.com/notebooks/data_table.ipynb>data table notebook</a>'\n",
              "            + ' to learn more about interactive tables.';\n",
              "          element.innerHTML = '';\n",
              "          dataTable['output_type'] = 'display_data';\n",
              "          await google.colab.output.renderOutput(dataTable, element);\n",
              "          const docLink = document.createElement('div');\n",
              "          docLink.innerHTML = docLinkHtml;\n",
              "          element.appendChild(docLink);\n",
              "        }\n",
              "      </script>\n",
              "    </div>\n",
              "  </div>\n",
              "  "
            ]
          },
          "metadata": {},
          "execution_count": 155
        }
      ]
    },
    {
      "cell_type": "code",
      "source": [
        "critic_score = ['AOTY Critic Score', 'Metacritic Critic Score'] #if we expand dataset then these lists will have more items\n",
        "user_score = ['AOTY User Score', 'Metacritic User Score']\n",
        "critic_reviews = ['AOTY Critic Reviews', 'Metacritic Reviews']\n",
        "user_reviews = ['AOTY User Reviews', 'Metacritic User Reviews']\n",
        "merge_list = [critic_score, user_score, critic_reviews, user_reviews]"
      ],
      "metadata": {
        "id": "LfxGo4tKIFhE"
      },
      "execution_count": 156,
      "outputs": []
    },
    {
      "cell_type": "code",
      "source": [
        "#tried curried function but chain indexing became a problem\n",
        "#uncurried version below\n",
        "def scoreMergeUncurried(col_list):\n",
        "  merged_score = []\n",
        "  for x in ds.index:\n",
        "    if ds.loc[x, col_list[0]]==0 and ds.loc[x, col_list[1]]==0 : #both values filled with 0\n",
        "     merged_score.append(sum(merged_score)/len(merged_score)) #switch to substitution\n",
        "    elif ds.loc[x, col_list[0]]==0:\n",
        "      merged_score.append(ds.loc[x, col_list[1]])\n",
        "    elif ds.loc[x, col_list[1]]==0:\n",
        "      merged_score.append(ds.loc[x, col_list[0]])\n",
        "    else: #neither missing -> use mean\n",
        "      merged_score.append((ds.loc[x, col_list[0]]+ds.loc[x, col_list[0]])/2)\n",
        "  return merged_score\n",
        "  \n",
        "  #df['new_col] = scoreMergeUncurried(col_list)"
      ],
      "metadata": {
        "id": "9mVlteyMAb9l"
      },
      "execution_count": 171,
      "outputs": []
    },
    {
      "cell_type": "code",
      "source": [
        "ds['merged_critic_score'] = scoreMergeUncurried(critic_score)\n",
        "ds['merged_user_score'] = scoreMergeUncurried(user_score)\n",
        "ds['merged_critic_reviews'] = scoreMergeUncurried(critic_reviews)\n",
        "ds['merged_user_reviews'] = scoreMergeUncurried(user_reviews)\n",
        "\n",
        "#drop originals at once here\n",
        "ds = ds.drop(col_list, axis=1)"
      ],
      "metadata": {
        "id": "MjBgZ4s89t2B"
      },
      "execution_count": 173,
      "outputs": []
    },
    {
      "cell_type": "code",
      "source": [
        "#numberify(?) release year. fill in mean if missing (these aren't highly correlated with the output anyway)\n",
        "\n",
        "ds['Release Year'] = ds['Release Date'].str.replace(\"-\", \"\").apply(lambda x: x[-2:])\n",
        "ds['Release Year'] = [x if x.isnumeric() else np.nan for x in ds['Release Year']]\n",
        "ds['Release Year'] =  [x+2000 if x<23 and x != np.nan else x+1900 for x in ds['Release Year'].astype('int64')]\n",
        "ds['Release Year'].isna().any()\n",
        "\n",
        "#convert number of ratings into number data type\n",
        "ds['Number of Ratings'] = ds['Number of Ratings'].str.replace(',', '').astype('int64')\n",
        "#ds['Number of Ratings'].isna().any()\n",
        "#\n",
        "#drop release date and month and day (date: redundant with year, month and day have almost no correlation with output)\n",
        "ds = ds.drop(['Release Date', 'Release Month', 'Release Day'], axis = 1)\n",
        "\n"
      ],
      "metadata": {
        "id": "EUpfOIHcmaUT"
      },
      "execution_count": 180,
      "outputs": []
    },
    {
      "cell_type": "code",
      "source": [
        "#for each row in ds[\"Genre\"]\n",
        "#if value is missing\n",
        "#replace with first value in ds[\"Genres\"]\n",
        "\n",
        "missing_genre = ds.loc[ds[\"Genre\"].isna()]\n",
        "for x in missing_genre.index:\n",
        "  ds.loc[x, 'Genre'] = ds.loc[x, 'Genres'][0]\n",
        "\n",
        "for x in ds.index:\n",
        "  if \",\" in ds.loc[x, 'Genre']:\n",
        "    ds.loc[x, 'Genre'] = ds.loc[x, 'Genre'].split(',')[0]\n"
      ],
      "metadata": {
        "id": "GReuqrQwoacN"
      },
      "execution_count": 161,
      "outputs": []
    },
    {
      "cell_type": "code",
      "source": [
        "def catClean(col):\n",
        "  col = col.fillna(\"None\")\n",
        "  new_col = col.apply(lambda row: row.split(', ')[0])\n",
        "  return new_col"
      ],
      "metadata": {
        "id": "hv_e3kuiX-9z"
      },
      "execution_count": 162,
      "outputs": []
    },
    {
      "cell_type": "code",
      "source": [
        "ds[\"Descriptors\"] = catClean(ds[\"Descriptors\"])\n",
        "ds[\"Label\"] = catClean(ds[\"Label\"])"
      ],
      "metadata": {
        "id": "gJB2gg6yXWuz"
      },
      "execution_count": 163,
      "outputs": []
    },
    {
      "cell_type": "code",
      "source": [],
      "metadata": {
        "colab": {
          "base_uri": "https://localhost:8080/"
        },
        "id": "u1Vu3lAUYpvj",
        "outputId": "22cd844c-6b29-4e05-f62c-6a5264e2ed85"
      },
      "execution_count": 189,
      "outputs": [
        {
          "output_type": "stream",
          "name": "stdout",
          "text": [
            "Num_features:  ['Ranking', 'Average Rating', 'Number of Ratings', 'Number of Reviews', 'Release Year', 'merged_critic_score', 'merged_user_score', 'merged_critic_reviews', 'merged_user_reviews']\n",
            "cat_features:  ['Album', 'Artist', 'Genres', 'Descriptors', 'Format', 'Label', 'Genre']\n"
          ]
        }
      ]
    },
    {
      "cell_type": "code",
      "source": [
        "#data processing: copied from kaggle learn deep learning course\n",
        "from sklearn.model_selection import train_test_split\n",
        "from sklearn.preprocessing import StandardScaler, OneHotEncoder\n",
        "from sklearn.impute import SimpleImputer\n",
        "from sklearn.pipeline import make_pipeline\n",
        "from sklearn.compose import make_column_transformer\n",
        "\n",
        "X = ds.copy()\n",
        "y = X.pop('Average Rating')\n",
        "\n",
        "num_features = ds.select_dtypes(include=np.number).columns.tolist()\n",
        "#print(\"Num_features: \",num_features)\n",
        "\n",
        "cat_features = ds.select_dtypes(include=object).columns.tolist()\n",
        "#print(\"cat_features: \",cat_features)\n",
        "\n",
        "num_transformer = make_pipeline(\n",
        "    SimpleImputer(strategy=\"constant\"), # there are a few missing values\n",
        "    StandardScaler(),\n",
        ")\n",
        "cat_transformer = make_pipeline(\n",
        "    SimpleImputer(strategy=\"constant\", fill_value=\"None\"),\n",
        "    OneHotEncoder(handle_unknown='ignore'),\n",
        ")\n",
        "\n",
        "preprocessor = make_column_transformer(\n",
        "    (num_transformer, num_features),\n",
        "    (cat_transformer, cat_features),\n",
        ")\n",
        "\n",
        "# stratify - make sure classes are evenlly represented across splits\n",
        "X_train, X_valid, y_train, y_valid = \\\n",
        "    train_test_split(X, y, stratify=y, train_size=0.85)\n",
        "\n",
        "X_train = preprocessor.fit_transform(X_train)\n",
        "X_valid = preprocessor.transform(X_valid)\n",
        "\n",
        "input_shape = [X_train.shape[1]]"
      ],
      "metadata": {
        "colab": {
          "base_uri": "https://localhost:8080/",
          "height": 411
        },
        "id": "LqGOFW0pJV-y",
        "outputId": "c45927a3-4474-496b-d70f-c33cbf1c70ae"
      },
      "execution_count": 191,
      "outputs": [
        {
          "output_type": "error",
          "ename": "ValueError",
          "evalue": "ignored",
          "traceback": [
            "\u001b[0;31m---------------------------------------------------------------------------\u001b[0m",
            "\u001b[0;31mValueError\u001b[0m                                Traceback (most recent call last)",
            "\u001b[0;32m<ipython-input-191-7bb5c82ccff1>\u001b[0m in \u001b[0;36m<module>\u001b[0;34m\u001b[0m\n\u001b[1;32m     31\u001b[0m \u001b[0;31m# stratify - make sure classes are evenlly represented across splits\u001b[0m\u001b[0;34m\u001b[0m\u001b[0;34m\u001b[0m\u001b[0;34m\u001b[0m\u001b[0m\n\u001b[1;32m     32\u001b[0m \u001b[0mX_train\u001b[0m\u001b[0;34m,\u001b[0m \u001b[0mX_valid\u001b[0m\u001b[0;34m,\u001b[0m \u001b[0my_train\u001b[0m\u001b[0;34m,\u001b[0m \u001b[0my_valid\u001b[0m \u001b[0;34m=\u001b[0m\u001b[0;31m \u001b[0m\u001b[0;31m\\\u001b[0m\u001b[0;34m\u001b[0m\u001b[0;34m\u001b[0m\u001b[0m\n\u001b[0;32m---> 33\u001b[0;31m     \u001b[0mtrain_test_split\u001b[0m\u001b[0;34m(\u001b[0m\u001b[0mX\u001b[0m\u001b[0;34m,\u001b[0m \u001b[0my\u001b[0m\u001b[0;34m,\u001b[0m \u001b[0mstratify\u001b[0m\u001b[0;34m=\u001b[0m\u001b[0my\u001b[0m\u001b[0;34m,\u001b[0m \u001b[0mtrain_size\u001b[0m\u001b[0;34m=\u001b[0m\u001b[0;36m0.85\u001b[0m\u001b[0;34m)\u001b[0m\u001b[0;34m\u001b[0m\u001b[0;34m\u001b[0m\u001b[0m\n\u001b[0m\u001b[1;32m     34\u001b[0m \u001b[0;34m\u001b[0m\u001b[0m\n\u001b[1;32m     35\u001b[0m \u001b[0mX_train\u001b[0m \u001b[0;34m=\u001b[0m \u001b[0mpreprocessor\u001b[0m\u001b[0;34m.\u001b[0m\u001b[0mfit_transform\u001b[0m\u001b[0;34m(\u001b[0m\u001b[0mX_train\u001b[0m\u001b[0;34m)\u001b[0m\u001b[0;34m\u001b[0m\u001b[0;34m\u001b[0m\u001b[0m\n",
            "\u001b[0;32m/usr/local/lib/python3.8/dist-packages/sklearn/model_selection/_split.py\u001b[0m in \u001b[0;36mtrain_test_split\u001b[0;34m(test_size, train_size, random_state, shuffle, stratify, *arrays)\u001b[0m\n\u001b[1;32m   2439\u001b[0m         \u001b[0mcv\u001b[0m \u001b[0;34m=\u001b[0m \u001b[0mCVClass\u001b[0m\u001b[0;34m(\u001b[0m\u001b[0mtest_size\u001b[0m\u001b[0;34m=\u001b[0m\u001b[0mn_test\u001b[0m\u001b[0;34m,\u001b[0m \u001b[0mtrain_size\u001b[0m\u001b[0;34m=\u001b[0m\u001b[0mn_train\u001b[0m\u001b[0;34m,\u001b[0m \u001b[0mrandom_state\u001b[0m\u001b[0;34m=\u001b[0m\u001b[0mrandom_state\u001b[0m\u001b[0;34m)\u001b[0m\u001b[0;34m\u001b[0m\u001b[0;34m\u001b[0m\u001b[0m\n\u001b[1;32m   2440\u001b[0m \u001b[0;34m\u001b[0m\u001b[0m\n\u001b[0;32m-> 2441\u001b[0;31m         \u001b[0mtrain\u001b[0m\u001b[0;34m,\u001b[0m \u001b[0mtest\u001b[0m \u001b[0;34m=\u001b[0m \u001b[0mnext\u001b[0m\u001b[0;34m(\u001b[0m\u001b[0mcv\u001b[0m\u001b[0;34m.\u001b[0m\u001b[0msplit\u001b[0m\u001b[0;34m(\u001b[0m\u001b[0mX\u001b[0m\u001b[0;34m=\u001b[0m\u001b[0marrays\u001b[0m\u001b[0;34m[\u001b[0m\u001b[0;36m0\u001b[0m\u001b[0;34m]\u001b[0m\u001b[0;34m,\u001b[0m \u001b[0my\u001b[0m\u001b[0;34m=\u001b[0m\u001b[0mstratify\u001b[0m\u001b[0;34m)\u001b[0m\u001b[0;34m)\u001b[0m\u001b[0;34m\u001b[0m\u001b[0;34m\u001b[0m\u001b[0m\n\u001b[0m\u001b[1;32m   2442\u001b[0m \u001b[0;34m\u001b[0m\u001b[0m\n\u001b[1;32m   2443\u001b[0m     return list(\n",
            "\u001b[0;32m/usr/local/lib/python3.8/dist-packages/sklearn/model_selection/_split.py\u001b[0m in \u001b[0;36msplit\u001b[0;34m(self, X, y, groups)\u001b[0m\n\u001b[1;32m   1598\u001b[0m         \"\"\"\n\u001b[1;32m   1599\u001b[0m         \u001b[0mX\u001b[0m\u001b[0;34m,\u001b[0m \u001b[0my\u001b[0m\u001b[0;34m,\u001b[0m \u001b[0mgroups\u001b[0m \u001b[0;34m=\u001b[0m \u001b[0mindexable\u001b[0m\u001b[0;34m(\u001b[0m\u001b[0mX\u001b[0m\u001b[0;34m,\u001b[0m \u001b[0my\u001b[0m\u001b[0;34m,\u001b[0m \u001b[0mgroups\u001b[0m\u001b[0;34m)\u001b[0m\u001b[0;34m\u001b[0m\u001b[0;34m\u001b[0m\u001b[0m\n\u001b[0;32m-> 1600\u001b[0;31m         \u001b[0;32mfor\u001b[0m \u001b[0mtrain\u001b[0m\u001b[0;34m,\u001b[0m \u001b[0mtest\u001b[0m \u001b[0;32min\u001b[0m \u001b[0mself\u001b[0m\u001b[0;34m.\u001b[0m\u001b[0m_iter_indices\u001b[0m\u001b[0;34m(\u001b[0m\u001b[0mX\u001b[0m\u001b[0;34m,\u001b[0m \u001b[0my\u001b[0m\u001b[0;34m,\u001b[0m \u001b[0mgroups\u001b[0m\u001b[0;34m)\u001b[0m\u001b[0;34m:\u001b[0m\u001b[0;34m\u001b[0m\u001b[0;34m\u001b[0m\u001b[0m\n\u001b[0m\u001b[1;32m   1601\u001b[0m             \u001b[0;32myield\u001b[0m \u001b[0mtrain\u001b[0m\u001b[0;34m,\u001b[0m \u001b[0mtest\u001b[0m\u001b[0;34m\u001b[0m\u001b[0;34m\u001b[0m\u001b[0m\n\u001b[1;32m   1602\u001b[0m \u001b[0;34m\u001b[0m\u001b[0m\n",
            "\u001b[0;32m/usr/local/lib/python3.8/dist-packages/sklearn/model_selection/_split.py\u001b[0m in \u001b[0;36m_iter_indices\u001b[0;34m(self, X, y, groups)\u001b[0m\n\u001b[1;32m   1938\u001b[0m         \u001b[0mclass_counts\u001b[0m \u001b[0;34m=\u001b[0m \u001b[0mnp\u001b[0m\u001b[0;34m.\u001b[0m\u001b[0mbincount\u001b[0m\u001b[0;34m(\u001b[0m\u001b[0my_indices\u001b[0m\u001b[0;34m)\u001b[0m\u001b[0;34m\u001b[0m\u001b[0;34m\u001b[0m\u001b[0m\n\u001b[1;32m   1939\u001b[0m         \u001b[0;32mif\u001b[0m \u001b[0mnp\u001b[0m\u001b[0;34m.\u001b[0m\u001b[0mmin\u001b[0m\u001b[0;34m(\u001b[0m\u001b[0mclass_counts\u001b[0m\u001b[0;34m)\u001b[0m \u001b[0;34m<\u001b[0m \u001b[0;36m2\u001b[0m\u001b[0;34m:\u001b[0m\u001b[0;34m\u001b[0m\u001b[0;34m\u001b[0m\u001b[0m\n\u001b[0;32m-> 1940\u001b[0;31m             raise ValueError(\n\u001b[0m\u001b[1;32m   1941\u001b[0m                 \u001b[0;34m\"The least populated class in y has only 1\"\u001b[0m\u001b[0;34m\u001b[0m\u001b[0;34m\u001b[0m\u001b[0m\n\u001b[1;32m   1942\u001b[0m                 \u001b[0;34m\" member, which is too few. The minimum\"\u001b[0m\u001b[0;34m\u001b[0m\u001b[0;34m\u001b[0m\u001b[0m\n",
            "\u001b[0;31mValueError\u001b[0m: The least populated class in y has only 1 member, which is too few. The minimum number of groups for any class cannot be less than 2."
          ]
        }
      ]
    },
    {
      "cell_type": "code",
      "source": [
        "#model\n",
        "\n",
        "model = keras.Sequential([\n",
        "    layers.BatchNormalization(input_shape = input_shape),\n",
        "    layers.Dense(256, activation = \"relu\"),\n",
        "    layers.BatchNormalization(),\n",
        "    layers.Dropout(0.3),\n",
        "    layers.Dense(256, activation = \"relu\"),\n",
        "    layers.BatchNormalization(),\n",
        "    layers.Dropout(0.3),\n",
        "    layers.Dense(1, activation = \"sigmoid\")\n",
        "]\n",
        ")\n"
      ],
      "metadata": {
        "id": "335E-rObJ3Uq"
      },
      "execution_count": null,
      "outputs": []
    },
    {
      "cell_type": "code",
      "source": [
        "model.compile(optimizer = \"adam\", loss = \"binary_crossentropy\", metrics = ['binary_accuracy'])"
      ],
      "metadata": {
        "id": "si2UihCDJ8aP"
      },
      "execution_count": null,
      "outputs": []
    },
    {
      "cell_type": "code",
      "source": [
        "#one-hot encoding for entries with multiple items\n",
        "#abandoned this idea because it was more complicated than I expected and didn't seem to be worth extra processing pwoerr\n",
        "#go for the simpler solution if I have two different solution\n",
        "# 1 if item is in each row entry, 0 if not\n",
        "\n",
        "#create list of top 20 items by frequency\n",
        "\n",
        "\n",
        "#if entry has multiple words, split it into list\n",
        "def wordSplit(row):\n",
        "  if \",\" in row:\n",
        "    row = row.split(', ')\n",
        "\n",
        "#input unprocessed col\n",
        "def makeList(col):\n",
        "  item_counts =col.value_counts()\n",
        "  #print(item_counts[:5])\n",
        "  top_list = item_counts.index[:20].tolist()\n",
        "  return top_list\n",
        "\n",
        "\n",
        "\n",
        "#input processed col here\n",
        "def makeDf(col):\n",
        "  #dict will go into new df\n",
        "  item_dict = {}\n",
        "  for item in top_list:\n",
        "    item_dict[item] = []\n",
        "  for item in top_list: #for each item in top_list, append 1 to entry if item is in the row\n",
        "    item_dict[item] = [1 if (item in set(row)) else 0 for row in set(col)]\n",
        "    print(item, \"+\" , item_dict[item])\n",
        "  item_df = pd.DataFrame.from_dict(item_dict)\n",
        "  return item_df"
      ],
      "metadata": {
        "id": "2ms8koqXenFN"
      },
      "execution_count": 164,
      "outputs": []
    }
  ]
}