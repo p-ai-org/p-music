{
 "cells": [
  {
   "cell_type": "code",
   "execution_count": 1,
   "metadata": {},
   "outputs": [],
   "source": [
    "# need to run nn.py from Juypter in order to use wandb"
   ]
  },
  {
   "cell_type": "code",
   "execution_count": 6,
   "metadata": {},
   "outputs": [
    {
     "name": "stdout",
     "output_type": "stream",
     "text": [
      "(50, 1100, 3) (1,)\n",
      "(360, 50, 1100, 3)\n",
      "(360, 1)\n"
     ]
    },
    {
     "name": "stderr",
     "output_type": "stream",
     "text": [
      "\u001b[34m\u001b[1mwandb\u001b[0m: Currently logged in as: \u001b[33moscarscholin\u001b[0m (\u001b[33mp-ai\u001b[0m). Use \u001b[1m`wandb login --relogin`\u001b[0m to force relogin\n"
     ]
    },
    {
     "data": {
      "text/html": [
       "Tracking run with wandb version 0.13.5"
      ],
      "text/plain": [
       "<IPython.core.display.HTML object>"
      ]
     },
     "metadata": {},
     "output_type": "display_data"
    },
    {
     "data": {
      "text/html": [
       "Run data is saved locally in <code>/home/oscar47/Desktop/P-ai/p-music/CNN_oscar/wandb/run-20221123_144514-jpda4rff</code>"
      ],
      "text/plain": [
       "<IPython.core.display.HTML object>"
      ]
     },
     "metadata": {},
     "output_type": "display_data"
    },
    {
     "data": {
      "text/html": [
       "Syncing run <strong><a href=\"https://wandb.ai/p-ai/Oscar%20CNN1/runs/jpda4rff\" target=\"_blank\">solar-mountain-1</a></strong> to <a href=\"https://wandb.ai/p-ai/Oscar%20CNN1\" target=\"_blank\">Weights & Biases</a> (<a href=\"https://wandb.me/run\" target=\"_blank\">docs</a>)<br/>"
      ],
      "text/plain": [
       "<IPython.core.display.HTML object>"
      ]
     },
     "metadata": {},
     "output_type": "display_data"
    },
    {
     "name": "stderr",
     "output_type": "stream",
     "text": [
      "\u001b[34m\u001b[1mwandb\u001b[0m: \u001b[33mWARNING\u001b[0m Malformed sweep config detected! This may cause your sweep to behave in unexpected ways.\n",
      "\u001b[34m\u001b[1mwandb\u001b[0m: \u001b[33mWARNING\u001b[0m To avoid this, please fix the sweep config schema violations below:\n",
      "\u001b[34m\u001b[1mwandb\u001b[0m: \u001b[33mWARNING\u001b[0m   Violation 1. Additional properties are not allowed ('goal' was unexpected)\n",
      "\u001b[34m\u001b[1mwandb\u001b[0m: \u001b[33mWARNING\u001b[0m   Violation 2. 'val_accuracy' is not of type 'object'\n",
      "\u001b[34m\u001b[1mwandb\u001b[0m: \u001b[33mWARNING\u001b[0m Calling wandb.login() after wandb.init() has no effect.\n"
     ]
    },
    {
     "name": "stdout",
     "output_type": "stream",
     "text": [
      "Create sweep with ID: 3zukjfr1\n",
      "Sweep URL: https://wandb.ai/p-ai/Oscar%20CNN1/sweeps/3zukjfr1\n"
     ]
    },
    {
     "name": "stderr",
     "output_type": "stream",
     "text": [
      "wandb: Waiting for W&B process to finish... (success).\n",
      "wandb: Synced solar-mountain-1: https://wandb.ai/p-ai/Oscar%20CNN1/runs/jpda4rff\n",
      "wandb: Synced 6 W&B file(s), 0 media file(s), 0 artifact file(s) and 0 other file(s)\n",
      "wandb: Find logs at: ./wandb/run-20221123_144514-jpda4rff/logs\n",
      "\u001b[34m\u001b[1mwandb\u001b[0m: Agent Starting Run: 8v7bbba2 with config:\n",
      "\u001b[34m\u001b[1mwandb\u001b[0m: \tbatch_size: 64\n",
      "\u001b[34m\u001b[1mwandb\u001b[0m: \tdense1: 168\n",
      "\u001b[34m\u001b[1mwandb\u001b[0m: \tepochs: 43\n",
      "\u001b[34m\u001b[1mwandb\u001b[0m: \tlearning_rate: 0.010426739157526156\n",
      "\u001b[34m\u001b[1mwandb\u001b[0m: \tsize_1: 243\n",
      "\u001b[34m\u001b[1mwandb\u001b[0m: \tsize_2: 81\n",
      "\u001b[34m\u001b[1mwandb\u001b[0m: \tsize_3: 70\n"
     ]
    },
    {
     "data": {
      "text/html": [
       "Tracking run with wandb version 0.13.5"
      ],
      "text/plain": [
       "<IPython.core.display.HTML object>"
      ]
     },
     "metadata": {},
     "output_type": "display_data"
    },
    {
     "data": {
      "text/html": [
       "Run data is saved locally in <code>/home/oscar47/Desktop/P-ai/p-music/CNN_oscar/wandb/run-20221123_144527-8v7bbba2</code>"
      ],
      "text/plain": [
       "<IPython.core.display.HTML object>"
      ]
     },
     "metadata": {},
     "output_type": "display_data"
    },
    {
     "data": {
      "text/html": [
       "Syncing run <strong><a href=\"https://wandb.ai/p-ai/Oscar%20CNN1/runs/8v7bbba2\" target=\"_blank\">glowing-sweep-1</a></strong> to <a href=\"https://wandb.ai/p-ai/Oscar%20CNN1\" target=\"_blank\">Weights & Biases</a> (<a href=\"https://wandb.me/run\" target=\"_blank\">docs</a>)<br/>Sweep page:  <a href=\"https://wandb.ai/p-ai/Oscar%20CNN1/sweeps/3zukjfr1\" target=\"_blank\">https://wandb.ai/p-ai/Oscar%20CNN1/sweeps/3zukjfr1</a>"
      ],
      "text/plain": [
       "<IPython.core.display.HTML object>"
      ]
     },
     "metadata": {},
     "output_type": "display_data"
    },
    {
     "name": "stderr",
     "output_type": "stream",
     "text": [
      "\u001b[34m\u001b[1mwandb\u001b[0m: \u001b[33mWARNING\u001b[0m The save_model argument by default saves the model in the HDF5 format that cannot save custom objects like subclassed models and custom layers. This behavior will be deprecated in a future release in favor of the SavedModel format. Meanwhile, the HDF5 model is saved as W&B files and the SavedModel as W&B Artifacts.\n"
     ]
    },
    {
     "name": "stdout",
     "output_type": "stream",
     "text": [
      "Epoch 1/43\n",
      "23/23 [==============================] - ETA: 0s - loss: 851952.3750"
     ]
    },
    {
     "name": "stderr",
     "output_type": "stream",
     "text": [
      "WARNING:absl:Found untraced functions such as _jit_compiled_convolution_op, _jit_compiled_convolution_op, _jit_compiled_convolution_op while saving (showing 3 of 3). These functions will not be directly callable after loading.\n"
     ]
    },
    {
     "name": "stdout",
     "output_type": "stream",
     "text": [
      "INFO:tensorflow:Assets written to: /home/oscar47/Desktop/P-ai/p-music/CNN_oscar/wandb/run-20221123_144527-8v7bbba2/files/model-best/assets\n"
     ]
    },
    {
     "name": "stderr",
     "output_type": "stream",
     "text": [
      "INFO:tensorflow:Assets written to: /home/oscar47/Desktop/P-ai/p-music/CNN_oscar/wandb/run-20221123_144527-8v7bbba2/files/model-best/assets\n",
      "\u001b[34m\u001b[1mwandb\u001b[0m: Adding directory to artifact (/home/oscar47/Desktop/P-ai/p-music/CNN_oscar/wandb/run-20221123_144527-8v7bbba2/files/model-best)... Done. 0.1s\n"
     ]
    },
    {
     "name": "stdout",
     "output_type": "stream",
     "text": [
      "23/23 [==============================] - 39s 2s/step - loss: 851952.3750 - val_loss: 0.3371\n",
      "Epoch 2/43\n",
      "23/23 [==============================] - ETA: 0s - loss: 0.1161"
     ]
    },
    {
     "name": "stderr",
     "output_type": "stream",
     "text": [
      "WARNING:absl:Found untraced functions such as _jit_compiled_convolution_op, _jit_compiled_convolution_op, _jit_compiled_convolution_op while saving (showing 3 of 3). These functions will not be directly callable after loading.\n"
     ]
    },
    {
     "name": "stdout",
     "output_type": "stream",
     "text": [
      "INFO:tensorflow:Assets written to: /home/oscar47/Desktop/P-ai/p-music/CNN_oscar/wandb/run-20221123_144527-8v7bbba2/files/model-best/assets\n"
     ]
    },
    {
     "name": "stderr",
     "output_type": "stream",
     "text": [
      "INFO:tensorflow:Assets written to: /home/oscar47/Desktop/P-ai/p-music/CNN_oscar/wandb/run-20221123_144527-8v7bbba2/files/model-best/assets\n",
      "\u001b[34m\u001b[1mwandb\u001b[0m: Adding directory to artifact (/home/oscar47/Desktop/P-ai/p-music/CNN_oscar/wandb/run-20221123_144527-8v7bbba2/files/model-best)... Done. 0.1s\n"
     ]
    },
    {
     "name": "stdout",
     "output_type": "stream",
     "text": [
      "23/23 [==============================] - 38s 2s/step - loss: 0.1161 - val_loss: 0.0719\n",
      "Epoch 3/43\n",
      "23/23 [==============================] - ETA: 0s - loss: 0.0265"
     ]
    },
    {
     "name": "stderr",
     "output_type": "stream",
     "text": [
      "WARNING:absl:Found untraced functions such as _jit_compiled_convolution_op, _jit_compiled_convolution_op, _jit_compiled_convolution_op while saving (showing 3 of 3). These functions will not be directly callable after loading.\n"
     ]
    },
    {
     "name": "stdout",
     "output_type": "stream",
     "text": [
      "INFO:tensorflow:Assets written to: /home/oscar47/Desktop/P-ai/p-music/CNN_oscar/wandb/run-20221123_144527-8v7bbba2/files/model-best/assets\n"
     ]
    },
    {
     "name": "stderr",
     "output_type": "stream",
     "text": [
      "INFO:tensorflow:Assets written to: /home/oscar47/Desktop/P-ai/p-music/CNN_oscar/wandb/run-20221123_144527-8v7bbba2/files/model-best/assets\n",
      "\u001b[34m\u001b[1mwandb\u001b[0m: Adding directory to artifact (/home/oscar47/Desktop/P-ai/p-music/CNN_oscar/wandb/run-20221123_144527-8v7bbba2/files/model-best)... Done. 0.2s\n"
     ]
    },
    {
     "name": "stdout",
     "output_type": "stream",
     "text": [
      "23/23 [==============================] - 38s 2s/step - loss: 0.0265 - val_loss: 0.0141\n",
      "Epoch 4/43\n",
      "23/23 [==============================] - ETA: 0s - loss: 0.0129"
     ]
    },
    {
     "name": "stderr",
     "output_type": "stream",
     "text": [
      "WARNING:absl:Found untraced functions such as _jit_compiled_convolution_op, _jit_compiled_convolution_op, _jit_compiled_convolution_op while saving (showing 3 of 3). These functions will not be directly callable after loading.\n"
     ]
    },
    {
     "name": "stdout",
     "output_type": "stream",
     "text": [
      "INFO:tensorflow:Assets written to: /home/oscar47/Desktop/P-ai/p-music/CNN_oscar/wandb/run-20221123_144527-8v7bbba2/files/model-best/assets\n"
     ]
    },
    {
     "name": "stderr",
     "output_type": "stream",
     "text": [
      "INFO:tensorflow:Assets written to: /home/oscar47/Desktop/P-ai/p-music/CNN_oscar/wandb/run-20221123_144527-8v7bbba2/files/model-best/assets\n",
      "\u001b[34m\u001b[1mwandb\u001b[0m: Adding directory to artifact (/home/oscar47/Desktop/P-ai/p-music/CNN_oscar/wandb/run-20221123_144527-8v7bbba2/files/model-best)... Done. 0.2s\n"
     ]
    },
    {
     "name": "stdout",
     "output_type": "stream",
     "text": [
      "23/23 [==============================] - 38s 2s/step - loss: 0.0129 - val_loss: 0.0138\n",
      "Epoch 5/43\n",
      "23/23 [==============================] - ETA: 0s - loss: 0.0103"
     ]
    },
    {
     "name": "stderr",
     "output_type": "stream",
     "text": [
      "WARNING:absl:Found untraced functions such as _jit_compiled_convolution_op, _jit_compiled_convolution_op, _jit_compiled_convolution_op while saving (showing 3 of 3). These functions will not be directly callable after loading.\n"
     ]
    },
    {
     "name": "stdout",
     "output_type": "stream",
     "text": [
      "INFO:tensorflow:Assets written to: /home/oscar47/Desktop/P-ai/p-music/CNN_oscar/wandb/run-20221123_144527-8v7bbba2/files/model-best/assets\n"
     ]
    },
    {
     "name": "stderr",
     "output_type": "stream",
     "text": [
      "INFO:tensorflow:Assets written to: /home/oscar47/Desktop/P-ai/p-music/CNN_oscar/wandb/run-20221123_144527-8v7bbba2/files/model-best/assets\n",
      "\u001b[34m\u001b[1mwandb\u001b[0m: Adding directory to artifact (/home/oscar47/Desktop/P-ai/p-music/CNN_oscar/wandb/run-20221123_144527-8v7bbba2/files/model-best)... Done. 0.1s\n"
     ]
    },
    {
     "name": "stdout",
     "output_type": "stream",
     "text": [
      "23/23 [==============================] - 38s 2s/step - loss: 0.0103 - val_loss: 0.0109\n",
      "Epoch 6/43\n",
      "23/23 [==============================] - ETA: 0s - loss: 0.0096"
     ]
    },
    {
     "name": "stderr",
     "output_type": "stream",
     "text": [
      "WARNING:absl:Found untraced functions such as _jit_compiled_convolution_op, _jit_compiled_convolution_op, _jit_compiled_convolution_op while saving (showing 3 of 3). These functions will not be directly callable after loading.\n"
     ]
    },
    {
     "name": "stdout",
     "output_type": "stream",
     "text": [
      "INFO:tensorflow:Assets written to: /home/oscar47/Desktop/P-ai/p-music/CNN_oscar/wandb/run-20221123_144527-8v7bbba2/files/model-best/assets\n"
     ]
    },
    {
     "name": "stderr",
     "output_type": "stream",
     "text": [
      "INFO:tensorflow:Assets written to: /home/oscar47/Desktop/P-ai/p-music/CNN_oscar/wandb/run-20221123_144527-8v7bbba2/files/model-best/assets\n",
      "\u001b[34m\u001b[1mwandb\u001b[0m: Adding directory to artifact (/home/oscar47/Desktop/P-ai/p-music/CNN_oscar/wandb/run-20221123_144527-8v7bbba2/files/model-best)... Done. 0.2s\n"
     ]
    },
    {
     "name": "stdout",
     "output_type": "stream",
     "text": [
      "23/23 [==============================] - 38s 2s/step - loss: 0.0096 - val_loss: 0.0105\n",
      "Epoch 7/43\n",
      "23/23 [==============================] - 37s 2s/step - loss: 0.0099 - val_loss: 0.0108\n",
      "Epoch 8/43\n",
      "23/23 [==============================] - 37s 2s/step - loss: 0.0093 - val_loss: 0.0113\n",
      "Epoch 9/43\n",
      "23/23 [==============================] - ETA: 0s - loss: 0.0094"
     ]
    },
    {
     "name": "stderr",
     "output_type": "stream",
     "text": [
      "WARNING:absl:Found untraced functions such as _jit_compiled_convolution_op, _jit_compiled_convolution_op, _jit_compiled_convolution_op while saving (showing 3 of 3). These functions will not be directly callable after loading.\n"
     ]
    },
    {
     "name": "stdout",
     "output_type": "stream",
     "text": [
      "INFO:tensorflow:Assets written to: /home/oscar47/Desktop/P-ai/p-music/CNN_oscar/wandb/run-20221123_144527-8v7bbba2/files/model-best/assets\n"
     ]
    },
    {
     "name": "stderr",
     "output_type": "stream",
     "text": [
      "INFO:tensorflow:Assets written to: /home/oscar47/Desktop/P-ai/p-music/CNN_oscar/wandb/run-20221123_144527-8v7bbba2/files/model-best/assets\n",
      "\u001b[34m\u001b[1mwandb\u001b[0m: Adding directory to artifact (/home/oscar47/Desktop/P-ai/p-music/CNN_oscar/wandb/run-20221123_144527-8v7bbba2/files/model-best)... Done. 0.1s\n"
     ]
    },
    {
     "name": "stdout",
     "output_type": "stream",
     "text": [
      "23/23 [==============================] - 38s 2s/step - loss: 0.0094 - val_loss: 0.0101\n",
      "Epoch 10/43\n",
      "23/23 [==============================] - ETA: 0s - loss: 0.0094"
     ]
    },
    {
     "name": "stderr",
     "output_type": "stream",
     "text": [
      "WARNING:absl:Found untraced functions such as _jit_compiled_convolution_op, _jit_compiled_convolution_op, _jit_compiled_convolution_op while saving (showing 3 of 3). These functions will not be directly callable after loading.\n"
     ]
    },
    {
     "name": "stdout",
     "output_type": "stream",
     "text": [
      "INFO:tensorflow:Assets written to: /home/oscar47/Desktop/P-ai/p-music/CNN_oscar/wandb/run-20221123_144527-8v7bbba2/files/model-best/assets\n"
     ]
    },
    {
     "name": "stderr",
     "output_type": "stream",
     "text": [
      "INFO:tensorflow:Assets written to: /home/oscar47/Desktop/P-ai/p-music/CNN_oscar/wandb/run-20221123_144527-8v7bbba2/files/model-best/assets\n",
      "\u001b[34m\u001b[1mwandb\u001b[0m: Adding directory to artifact (/home/oscar47/Desktop/P-ai/p-music/CNN_oscar/wandb/run-20221123_144527-8v7bbba2/files/model-best)... Done. 0.1s\n"
     ]
    },
    {
     "name": "stdout",
     "output_type": "stream",
     "text": [
      "23/23 [==============================] - 38s 2s/step - loss: 0.0094 - val_loss: 0.0098\n",
      "Epoch 11/43\n",
      "23/23 [==============================] - ETA: 0s - loss: 0.0090"
     ]
    },
    {
     "name": "stderr",
     "output_type": "stream",
     "text": [
      "WARNING:absl:Found untraced functions such as _jit_compiled_convolution_op, _jit_compiled_convolution_op, _jit_compiled_convolution_op while saving (showing 3 of 3). These functions will not be directly callable after loading.\n"
     ]
    },
    {
     "name": "stdout",
     "output_type": "stream",
     "text": [
      "INFO:tensorflow:Assets written to: /home/oscar47/Desktop/P-ai/p-music/CNN_oscar/wandb/run-20221123_144527-8v7bbba2/files/model-best/assets\n"
     ]
    },
    {
     "name": "stderr",
     "output_type": "stream",
     "text": [
      "INFO:tensorflow:Assets written to: /home/oscar47/Desktop/P-ai/p-music/CNN_oscar/wandb/run-20221123_144527-8v7bbba2/files/model-best/assets\n",
      "\u001b[34m\u001b[1mwandb\u001b[0m: Adding directory to artifact (/home/oscar47/Desktop/P-ai/p-music/CNN_oscar/wandb/run-20221123_144527-8v7bbba2/files/model-best)... Done. 0.1s\n"
     ]
    },
    {
     "name": "stdout",
     "output_type": "stream",
     "text": [
      "23/23 [==============================] - 38s 2s/step - loss: 0.0090 - val_loss: 0.0094\n",
      "Epoch 12/43\n",
      "15/23 [==================>...........] - ETA: 12s - loss: 0.0087"
     ]
    }
   ],
   "source": [
    "# file to implement the cnn\n",
    "# @oscars47\n",
    "# first call mastercnn prep to generate np arrays; then run this file\n",
    "\n",
    "import os\n",
    "import numpy as np\n",
    "from keras import layers\n",
    "from keras.models import Model, Sequential, load_model\n",
    "from keras.optimizers import Adam\n",
    "from keras.callbacks import ModelCheckpoint\n",
    "import wandb\n",
    "from wandb.keras import WandbCallback\n",
    "\n",
    "\n",
    "# define directories---------\n",
    "MAIN_DIR = '/home/oscar47/Desktop/P-ai'\n",
    "TRAIN_DIR = os.path.join(MAIN_DIR, 'train_data') # to store out .npy files\n",
    "\n",
    "# get np arrays for training!------\n",
    "train_x_ds = np.load(os.path.join(TRAIN_DIR, 'train_x_ds_2.npy')) \n",
    "val_x_ds = np.load(os.path.join(TRAIN_DIR, 'val_x_ds_2.npy')) \n",
    "train_y_ds = np.load(os.path.join(TRAIN_DIR, 'train_y_ds.npy')) \n",
    "val_y_ds = np.load(os.path.join(TRAIN_DIR, 'val_y_ds.npy'))\n",
    "\n",
    "# define shape of incoming and outgoing factors\n",
    "input_shape = train_x_ds[0].shape\n",
    "output_shape = train_y_ds[0].shape\n",
    "print(input_shape, output_shape)\n",
    "\n",
    "print(val_x_ds.shape)\n",
    "print(val_y_ds.shape)\n",
    "\n",
    "# define cnn---------------\n",
    "def build_model(input_shape, size1, size2, size3, dense1, learning_rate):\n",
    "    model = Sequential() # initialize Sequential model object so we can add layers sequentially\n",
    "    #model.add(layers.InputLayer(input_shape)) # add the shape of our input x training vectors\n",
    "    # add a sequence of 5 convolutional layers, alternating Conv2D and MaxPooling\n",
    "    model.add(layers.Conv2D(size1, (3, 3), activation='relu', input_shape = input_shape)) # the (3,3) is size of the kernel -- this is a hyperparam we can use wanb to investigate as well\n",
    "    model.add(layers.MaxPool2D((2,2)))\n",
    "\n",
    "    model.add(layers.Conv2D(size2, (3, 3), activation='relu'))\n",
    "    model.add(layers.MaxPool2D((2,2)))\n",
    "\n",
    "    model.add(layers.Conv2D(size3, (3, 3), activation='relu'))\n",
    "    model.add(layers.MaxPool2D((2,2)))\n",
    "\n",
    "    model.add(layers.Flatten()) # convert array to vector\n",
    "    model.add(layers.Dense(dense1, activation='relu')) # add a final dense layer\n",
    "    model.add(layers.Dense(1)) # match output size: which should just be size 1 (a single number)\n",
    "\n",
    "    optimizer = Adam(learning_rate = learning_rate) # compile the model!\n",
    "    model.compile(optimizer=optimizer, loss='mse')\n",
    "\n",
    "    return model\n",
    "\n",
    "# function for training\n",
    "def train(config=None):\n",
    "    with wandb.init(config=config):\n",
    "    # If called by wandb.agent, as below,\n",
    "    # this config will be set by Sweep Controller\n",
    "      config = wandb.config\n",
    "\n",
    "      #pprint.pprint(config)\n",
    "\n",
    "      #initialize the neural net; \n",
    "      global model\n",
    "      model = build_model(input_shape, config.size_1,  config.size_2, config.size_3,  \n",
    "              config.dense1, config.learning_rate)\n",
    "      \n",
    "      #now run training\n",
    "      history = model.fit(\n",
    "        train_x_ds, train_y_ds,\n",
    "        batch_size = config.batch_size,\n",
    "        validation_data=(val_x_ds, val_y_ds),\n",
    "        epochs=config.epochs,\n",
    "        callbacks=[WandbCallback()] #use callbacks to have w&b log stats; will automatically save best model                     \n",
    "      )\n",
    "\n",
    "def train_custom():\n",
    "   global model\n",
    "   model = build_model(input_shape, 32,  32, 32, 32, 0.01)\n",
    "      \n",
    "   #now run training\n",
    "   history = model.fit(\n",
    "      train_x_ds, train_y_ds,\n",
    "      batch_size = 32,\n",
    "      validation_data=(val_x_ds, val_y_ds),\n",
    "      epochs=3,\n",
    "      #callbacks=[WandbCallback()] #use callbacks to have w&b log stats; will automatically save best model                     \n",
    "   )\n",
    "\n",
    "# set dictionary with random search; optimizing val_loss--------------------------\n",
    "sweep_config= {\n",
    "    'method': 'random',\n",
    "    'name': 'val_accuracy',\n",
    "    'goal': 'maximize'\n",
    "}\n",
    "\n",
    "sweep_config['metric']= 'val_accuracy'\n",
    "parameters_dict = {\n",
    "    'epochs': {\n",
    "       'distribution': 'int_uniform',\n",
    "       'min': 20,\n",
    "       'max': 100\n",
    "    },\n",
    "    # for build_dataset\n",
    "     'batch_size': {\n",
    "       'values': [32, 64, 96, 128]\n",
    "    },\n",
    "    'size_1': {\n",
    "       'distribution': 'int_uniform',\n",
    "       'min': 64,\n",
    "       'max': 256\n",
    "    },\n",
    "    'size_2': {\n",
    "       'distribution': 'int_uniform',\n",
    "       'min': 64,\n",
    "       'max': 256\n",
    "    },'size_3': {\n",
    "       'distribution': 'int_uniform',\n",
    "       'min': 64,\n",
    "       'max': 256\n",
    "    },\n",
    "    'dense1': {\n",
    "       'distribution': 'int_uniform',\n",
    "       'min': 64,\n",
    "       'max': 256\n",
    "    },\n",
    "    'learning_rate':{\n",
    "         #uniform distribution between 0 and 1\n",
    "         'distribution': 'uniform', \n",
    "         'min': 0,\n",
    "         'max': 0.1\n",
    "     }\n",
    "}\n",
    "\n",
    "# append parameters to sweep config\n",
    "sweep_config['parameters'] = parameters_dict \n",
    "\n",
    "#train_custom()\n",
    "\n",
    "\n",
    "# login to wandb----------------\n",
    "wandb.init(project=\"Oscar CNN1\", entity=\"p-ai\")\n",
    "\n",
    "# initialize sweep agent\n",
    "sweep_id = wandb.sweep(sweep_config, project=\"Oscar CNN1\", entity=\"p-ai\")\n",
    "wandb.agent(sweep_id, train, count=100)"
   ]
  },
  {
   "cell_type": "code",
   "execution_count": null,
   "metadata": {},
   "outputs": [],
   "source": []
  }
 ],
 "metadata": {
  "kernelspec": {
   "display_name": "Python 3.9.13 ('base')",
   "language": "python",
   "name": "python3"
  },
  "language_info": {
   "codemirror_mode": {
    "name": "ipython",
    "version": 3
   },
   "file_extension": ".py",
   "mimetype": "text/x-python",
   "name": "python",
   "nbconvert_exporter": "python",
   "pygments_lexer": "ipython3",
   "version": "3.9.13"
  },
  "orig_nbformat": 4,
  "vscode": {
   "interpreter": {
    "hash": "aaf8a3611b879056867134183afc22ea709e115b10fb7684e1dbf805b3500c4a"
   }
  }
 },
 "nbformat": 4,
 "nbformat_minor": 2
}
