{
 "cells": [
  {
   "cell_type": "code",
   "execution_count": 1,
   "metadata": {},
   "outputs": [],
   "source": [
    "# need to run nn.py from Juypter in order to use wandb"
   ]
  },
  {
   "cell_type": "code",
   "execution_count": 1,
   "metadata": {},
   "outputs": [
    {
     "name": "stderr",
     "output_type": "stream",
     "text": [
      "2022-11-23 17:21:33.369896: I tensorflow/core/platform/cpu_feature_guard.cc:193] This TensorFlow binary is optimized with oneAPI Deep Neural Network Library (oneDNN) to use the following CPU instructions in performance-critical operations:  AVX2 AVX512F AVX512_VNNI AVX512_BF16 FMA\n",
      "To enable them in other operations, rebuild TensorFlow with the appropriate compiler flags.\n",
      "2022-11-23 17:21:33.445267: I tensorflow/core/util/port.cc:104] oneDNN custom operations are on. You may see slightly different numerical results due to floating-point round-off errors from different computation orders. To turn them off, set the environment variable `TF_ENABLE_ONEDNN_OPTS=0`.\n",
      "2022-11-23 17:21:33.447303: W tensorflow/compiler/xla/stream_executor/platform/default/dso_loader.cc:64] Could not load dynamic library 'libcudart.so.11.0'; dlerror: libcudart.so.11.0: cannot open shared object file: No such file or directory\n",
      "2022-11-23 17:21:33.447309: I tensorflow/compiler/xla/stream_executor/cuda/cudart_stub.cc:29] Ignore above cudart dlerror if you do not have a GPU set up on your machine.\n",
      "2022-11-23 17:21:33.751909: W tensorflow/compiler/xla/stream_executor/platform/default/dso_loader.cc:64] Could not load dynamic library 'libnvinfer.so.7'; dlerror: libnvinfer.so.7: cannot open shared object file: No such file or directory\n",
      "2022-11-23 17:21:33.751939: W tensorflow/compiler/xla/stream_executor/platform/default/dso_loader.cc:64] Could not load dynamic library 'libnvinfer_plugin.so.7'; dlerror: libnvinfer_plugin.so.7: cannot open shared object file: No such file or directory\n",
      "2022-11-23 17:21:33.751942: W tensorflow/compiler/tf2tensorrt/utils/py_utils.cc:38] TF-TRT Warning: Cannot dlopen some TensorRT libraries. If you would like to use Nvidia GPU with TensorRT, please make sure the missing libraries mentioned above are installed properly.\n"
     ]
    },
    {
     "name": "stdout",
     "output_type": "stream",
     "text": [
      "(50, 1100, 3) (1,)\n",
      "(360, 50, 1100, 3)\n",
      "(360, 1)\n"
     ]
    },
    {
     "name": "stderr",
     "output_type": "stream",
     "text": [
      "\u001b[34m\u001b[1mwandb\u001b[0m: Currently logged in as: \u001b[33moscarscholin\u001b[0m (\u001b[33mp-ai\u001b[0m). Use \u001b[1m`wandb login --relogin`\u001b[0m to force relogin\n"
     ]
    },
    {
     "data": {
      "text/html": [
       "Tracking run with wandb version 0.13.5"
      ],
      "text/plain": [
       "<IPython.core.display.HTML object>"
      ]
     },
     "metadata": {},
     "output_type": "display_data"
    },
    {
     "data": {
      "text/html": [
       "Run data is saved locally in <code>/home/oscar47/Desktop/P-ai/p-music/CNN_oscar/wandb/run-20221123_172135-232gb7bg</code>"
      ],
      "text/plain": [
       "<IPython.core.display.HTML object>"
      ]
     },
     "metadata": {},
     "output_type": "display_data"
    },
    {
     "data": {
      "text/html": [
       "Syncing run <strong><a href=\"https://wandb.ai/p-ai/Oscar%20CNN1/runs/232gb7bg\" target=\"_blank\">cool-wave-5</a></strong> to <a href=\"https://wandb.ai/p-ai/Oscar%20CNN1\" target=\"_blank\">Weights & Biases</a> (<a href=\"https://wandb.me/run\" target=\"_blank\">docs</a>)<br/>"
      ],
      "text/plain": [
       "<IPython.core.display.HTML object>"
      ]
     },
     "metadata": {},
     "output_type": "display_data"
    },
    {
     "name": "stderr",
     "output_type": "stream",
     "text": [
      "\u001b[34m\u001b[1mwandb\u001b[0m: \u001b[33mWARNING\u001b[0m Malformed sweep config detected! This may cause your sweep to behave in unexpected ways.\n",
      "\u001b[34m\u001b[1mwandb\u001b[0m: \u001b[33mWARNING\u001b[0m To avoid this, please fix the sweep config schema violations below:\n",
      "\u001b[34m\u001b[1mwandb\u001b[0m: \u001b[33mWARNING\u001b[0m   Violation 1. Additional properties are not allowed ('goal' was unexpected)\n",
      "\u001b[34m\u001b[1mwandb\u001b[0m: \u001b[33mWARNING\u001b[0m   Violation 2. 'val_accuracy' is not of type 'object'\n",
      "\u001b[34m\u001b[1mwandb\u001b[0m: \u001b[33mWARNING\u001b[0m Calling wandb.login() after wandb.init() has no effect.\n"
     ]
    },
    {
     "name": "stdout",
     "output_type": "stream",
     "text": [
      "Create sweep with ID: wsxqxjvp\n",
      "Sweep URL: https://wandb.ai/p-ai/Oscar%20CNN1/sweeps/wsxqxjvp\n"
     ]
    },
    {
     "name": "stderr",
     "output_type": "stream",
     "text": [
      "wandb: Waiting for W&B process to finish... (success).\n",
      "wandb: Synced cool-wave-5: https://wandb.ai/p-ai/Oscar%20CNN1/runs/232gb7bg\n",
      "wandb: Synced 6 W&B file(s), 0 media file(s), 0 artifact file(s) and 0 other file(s)\n",
      "wandb: Find logs at: ./wandb/run-20221123_172135-232gb7bg/logs\n",
      "\u001b[34m\u001b[1mwandb\u001b[0m: Agent Starting Run: 6sgkgudo with config:\n",
      "\u001b[34m\u001b[1mwandb\u001b[0m: \tbatch_size: 64\n",
      "\u001b[34m\u001b[1mwandb\u001b[0m: \tdense1: 160\n",
      "\u001b[34m\u001b[1mwandb\u001b[0m: \tepochs: 29\n",
      "\u001b[34m\u001b[1mwandb\u001b[0m: \tlearning_rate: 0.05757945197944109\n",
      "\u001b[34m\u001b[1mwandb\u001b[0m: \tsize_1: 130\n",
      "\u001b[34m\u001b[1mwandb\u001b[0m: \tsize_2: 80\n",
      "\u001b[34m\u001b[1mwandb\u001b[0m: \tsize_3: 251\n"
     ]
    },
    {
     "data": {
      "text/html": [
       "Tracking run with wandb version 0.13.5"
      ],
      "text/plain": [
       "<IPython.core.display.HTML object>"
      ]
     },
     "metadata": {},
     "output_type": "display_data"
    },
    {
     "data": {
      "text/html": [
       "Run data is saved locally in <code>/home/oscar47/Desktop/P-ai/p-music/CNN_oscar/wandb/run-20221123_172147-6sgkgudo</code>"
      ],
      "text/plain": [
       "<IPython.core.display.HTML object>"
      ]
     },
     "metadata": {},
     "output_type": "display_data"
    },
    {
     "data": {
      "text/html": [
       "Syncing run <strong><a href=\"https://wandb.ai/p-ai/Oscar%20CNN1/runs/6sgkgudo\" target=\"_blank\">rare-sweep-1</a></strong> to <a href=\"https://wandb.ai/p-ai/Oscar%20CNN1\" target=\"_blank\">Weights & Biases</a> (<a href=\"https://wandb.me/run\" target=\"_blank\">docs</a>)<br/>Sweep page:  <a href=\"https://wandb.ai/p-ai/Oscar%20CNN1/sweeps/wsxqxjvp\" target=\"_blank\">https://wandb.ai/p-ai/Oscar%20CNN1/sweeps/wsxqxjvp</a>"
      ],
      "text/plain": [
       "<IPython.core.display.HTML object>"
      ]
     },
     "metadata": {},
     "output_type": "display_data"
    },
    {
     "name": "stderr",
     "output_type": "stream",
     "text": [
      "2022-11-23 17:21:51.588731: I tensorflow/compiler/xla/stream_executor/cuda/cuda_gpu_executor.cc:981] successful NUMA node read from SysFS had negative value (-1), but there must be at least one NUMA node, so returning NUMA node zero\n",
      "2022-11-23 17:21:51.589218: W tensorflow/compiler/xla/stream_executor/platform/default/dso_loader.cc:64] Could not load dynamic library 'libcudart.so.11.0'; dlerror: libcudart.so.11.0: cannot open shared object file: No such file or directory\n",
      "2022-11-23 17:21:51.589252: W tensorflow/compiler/xla/stream_executor/platform/default/dso_loader.cc:64] Could not load dynamic library 'libcublas.so.11'; dlerror: libcublas.so.11: cannot open shared object file: No such file or directory\n",
      "2022-11-23 17:21:51.589271: W tensorflow/compiler/xla/stream_executor/platform/default/dso_loader.cc:64] Could not load dynamic library 'libcublasLt.so.11'; dlerror: libcublasLt.so.11: cannot open shared object file: No such file or directory\n",
      "2022-11-23 17:21:51.589287: W tensorflow/compiler/xla/stream_executor/platform/default/dso_loader.cc:64] Could not load dynamic library 'libcufft.so.10'; dlerror: libcufft.so.10: cannot open shared object file: No such file or directory\n",
      "2022-11-23 17:21:51.589304: W tensorflow/compiler/xla/stream_executor/platform/default/dso_loader.cc:64] Could not load dynamic library 'libcurand.so.10'; dlerror: libcurand.so.10: cannot open shared object file: No such file or directory\n",
      "2022-11-23 17:21:51.589320: W tensorflow/compiler/xla/stream_executor/platform/default/dso_loader.cc:64] Could not load dynamic library 'libcusolver.so.11'; dlerror: libcusolver.so.11: cannot open shared object file: No such file or directory\n",
      "2022-11-23 17:21:51.589336: W tensorflow/compiler/xla/stream_executor/platform/default/dso_loader.cc:64] Could not load dynamic library 'libcusparse.so.11'; dlerror: libcusparse.so.11: cannot open shared object file: No such file or directory\n",
      "2022-11-23 17:21:51.589352: W tensorflow/compiler/xla/stream_executor/platform/default/dso_loader.cc:64] Could not load dynamic library 'libcudnn.so.8'; dlerror: libcudnn.so.8: cannot open shared object file: No such file or directory\n",
      "2022-11-23 17:21:51.589355: W tensorflow/core/common_runtime/gpu/gpu_device.cc:1934] Cannot dlopen some GPU libraries. Please make sure the missing libraries mentioned above are installed properly if you would like to use GPU. Follow the guide at https://www.tensorflow.org/install/gpu for how to download and setup the required libraries for your platform.\n",
      "Skipping registering GPU devices...\n",
      "2022-11-23 17:21:51.589611: I tensorflow/core/platform/cpu_feature_guard.cc:193] This TensorFlow binary is optimized with oneAPI Deep Neural Network Library (oneDNN) to use the following CPU instructions in performance-critical operations:  AVX2 AVX512F AVX512_VNNI AVX512_BF16 FMA\n",
      "To enable them in other operations, rebuild TensorFlow with the appropriate compiler flags.\n",
      "\u001b[34m\u001b[1mwandb\u001b[0m: \u001b[33mWARNING\u001b[0m The save_model argument by default saves the model in the HDF5 format that cannot save custom objects like subclassed models and custom layers. This behavior will be deprecated in a future release in favor of the SavedModel format. Meanwhile, the HDF5 model is saved as W&B files and the SavedModel as W&B Artifacts.\n"
     ]
    },
    {
     "name": "stdout",
     "output_type": "stream",
     "text": [
      "Epoch 1/29\n",
      "23/23 [==============================] - ETA: 0s - loss: 1385402990592.0000"
     ]
    },
    {
     "name": "stderr",
     "output_type": "stream",
     "text": [
      "WARNING:absl:Found untraced functions such as _jit_compiled_convolution_op, _jit_compiled_convolution_op, _jit_compiled_convolution_op while saving (showing 3 of 3). These functions will not be directly callable after loading.\n"
     ]
    },
    {
     "name": "stdout",
     "output_type": "stream",
     "text": [
      "INFO:tensorflow:Assets written to: /home/oscar47/Desktop/P-ai/p-music/CNN_oscar/wandb/run-20221123_172147-6sgkgudo/files/model-best/assets\n"
     ]
    },
    {
     "name": "stderr",
     "output_type": "stream",
     "text": [
      "INFO:tensorflow:Assets written to: /home/oscar47/Desktop/P-ai/p-music/CNN_oscar/wandb/run-20221123_172147-6sgkgudo/files/model-best/assets\n",
      "\u001b[34m\u001b[1mwandb\u001b[0m: Adding directory to artifact (/home/oscar47/Desktop/P-ai/p-music/CNN_oscar/wandb/run-20221123_172147-6sgkgudo/files/model-best)... Done. 0.5s\n"
     ]
    },
    {
     "name": "stdout",
     "output_type": "stream",
     "text": [
      "23/23 [==============================] - 25s 1s/step - loss: 1385402990592.0000 - val_loss: 0.4970\n",
      "Epoch 2/29\n",
      "23/23 [==============================] - ETA: 0s - loss: 0.1744"
     ]
    },
    {
     "name": "stderr",
     "output_type": "stream",
     "text": [
      "WARNING:absl:Found untraced functions such as _jit_compiled_convolution_op, _jit_compiled_convolution_op, _jit_compiled_convolution_op while saving (showing 3 of 3). These functions will not be directly callable after loading.\n"
     ]
    },
    {
     "name": "stdout",
     "output_type": "stream",
     "text": [
      "INFO:tensorflow:Assets written to: /home/oscar47/Desktop/P-ai/p-music/CNN_oscar/wandb/run-20221123_172147-6sgkgudo/files/model-best/assets\n"
     ]
    },
    {
     "name": "stderr",
     "output_type": "stream",
     "text": [
      "INFO:tensorflow:Assets written to: /home/oscar47/Desktop/P-ai/p-music/CNN_oscar/wandb/run-20221123_172147-6sgkgudo/files/model-best/assets\n",
      "\u001b[34m\u001b[1mwandb\u001b[0m: Adding directory to artifact (/home/oscar47/Desktop/P-ai/p-music/CNN_oscar/wandb/run-20221123_172147-6sgkgudo/files/model-best)... Done. 0.4s\n"
     ]
    },
    {
     "name": "stdout",
     "output_type": "stream",
     "text": [
      "23/23 [==============================] - 24s 1s/step - loss: 0.1744 - val_loss: 0.0270\n",
      "Epoch 3/29\n",
      "23/23 [==============================] - ETA: 0s - loss: 0.0125"
     ]
    },
    {
     "name": "stderr",
     "output_type": "stream",
     "text": [
      "WARNING:absl:Found untraced functions such as _jit_compiled_convolution_op, _jit_compiled_convolution_op, _jit_compiled_convolution_op while saving (showing 3 of 3). These functions will not be directly callable after loading.\n"
     ]
    },
    {
     "name": "stdout",
     "output_type": "stream",
     "text": [
      "INFO:tensorflow:Assets written to: /home/oscar47/Desktop/P-ai/p-music/CNN_oscar/wandb/run-20221123_172147-6sgkgudo/files/model-best/assets\n"
     ]
    },
    {
     "name": "stderr",
     "output_type": "stream",
     "text": [
      "INFO:tensorflow:Assets written to: /home/oscar47/Desktop/P-ai/p-music/CNN_oscar/wandb/run-20221123_172147-6sgkgudo/files/model-best/assets\n",
      "\u001b[34m\u001b[1mwandb\u001b[0m: Adding directory to artifact (/home/oscar47/Desktop/P-ai/p-music/CNN_oscar/wandb/run-20221123_172147-6sgkgudo/files/model-best)... Done. 0.4s\n"
     ]
    },
    {
     "name": "stdout",
     "output_type": "stream",
     "text": [
      "23/23 [==============================] - 24s 1s/step - loss: 0.0125 - val_loss: 0.0053\n",
      "Epoch 4/29\n",
      "23/23 [==============================] - ETA: 0s - loss: 0.0041"
     ]
    },
    {
     "name": "stderr",
     "output_type": "stream",
     "text": [
      "WARNING:absl:Found untraced functions such as _jit_compiled_convolution_op, _jit_compiled_convolution_op, _jit_compiled_convolution_op while saving (showing 3 of 3). These functions will not be directly callable after loading.\n"
     ]
    },
    {
     "name": "stdout",
     "output_type": "stream",
     "text": [
      "INFO:tensorflow:Assets written to: /home/oscar47/Desktop/P-ai/p-music/CNN_oscar/wandb/run-20221123_172147-6sgkgudo/files/model-best/assets\n"
     ]
    },
    {
     "name": "stderr",
     "output_type": "stream",
     "text": [
      "INFO:tensorflow:Assets written to: /home/oscar47/Desktop/P-ai/p-music/CNN_oscar/wandb/run-20221123_172147-6sgkgudo/files/model-best/assets\n",
      "\u001b[34m\u001b[1mwandb\u001b[0m: Adding directory to artifact (/home/oscar47/Desktop/P-ai/p-music/CNN_oscar/wandb/run-20221123_172147-6sgkgudo/files/model-best)... Done. 0.4s\n"
     ]
    },
    {
     "name": "stdout",
     "output_type": "stream",
     "text": [
      "23/23 [==============================] - 24s 1s/step - loss: 0.0041 - val_loss: 0.0032\n",
      "Epoch 5/29\n",
      "23/23 [==============================] - ETA: 0s - loss: 0.0029"
     ]
    },
    {
     "name": "stderr",
     "output_type": "stream",
     "text": [
      "WARNING:absl:Found untraced functions such as _jit_compiled_convolution_op, _jit_compiled_convolution_op, _jit_compiled_convolution_op while saving (showing 3 of 3). These functions will not be directly callable after loading.\n"
     ]
    },
    {
     "name": "stdout",
     "output_type": "stream",
     "text": [
      "INFO:tensorflow:Assets written to: /home/oscar47/Desktop/P-ai/p-music/CNN_oscar/wandb/run-20221123_172147-6sgkgudo/files/model-best/assets\n"
     ]
    },
    {
     "name": "stderr",
     "output_type": "stream",
     "text": [
      "INFO:tensorflow:Assets written to: /home/oscar47/Desktop/P-ai/p-music/CNN_oscar/wandb/run-20221123_172147-6sgkgudo/files/model-best/assets\n",
      "\u001b[34m\u001b[1mwandb\u001b[0m: Adding directory to artifact (/home/oscar47/Desktop/P-ai/p-music/CNN_oscar/wandb/run-20221123_172147-6sgkgudo/files/model-best)... Done. 0.4s\n"
     ]
    },
    {
     "name": "stdout",
     "output_type": "stream",
     "text": [
      "23/23 [==============================] - 24s 1s/step - loss: 0.0029 - val_loss: 0.0024\n",
      "Epoch 6/29\n",
      "23/23 [==============================] - ETA: 0s - loss: 0.0023"
     ]
    },
    {
     "name": "stderr",
     "output_type": "stream",
     "text": [
      "WARNING:absl:Found untraced functions such as _jit_compiled_convolution_op, _jit_compiled_convolution_op, _jit_compiled_convolution_op while saving (showing 3 of 3). These functions will not be directly callable after loading.\n"
     ]
    },
    {
     "name": "stdout",
     "output_type": "stream",
     "text": [
      "INFO:tensorflow:Assets written to: /home/oscar47/Desktop/P-ai/p-music/CNN_oscar/wandb/run-20221123_172147-6sgkgudo/files/model-best/assets\n"
     ]
    },
    {
     "name": "stderr",
     "output_type": "stream",
     "text": [
      "INFO:tensorflow:Assets written to: /home/oscar47/Desktop/P-ai/p-music/CNN_oscar/wandb/run-20221123_172147-6sgkgudo/files/model-best/assets\n",
      "\u001b[34m\u001b[1mwandb\u001b[0m: Adding directory to artifact (/home/oscar47/Desktop/P-ai/p-music/CNN_oscar/wandb/run-20221123_172147-6sgkgudo/files/model-best)... Done. 0.4s\n"
     ]
    },
    {
     "name": "stdout",
     "output_type": "stream",
     "text": [
      "23/23 [==============================] - 24s 1s/step - loss: 0.0023 - val_loss: 0.0020\n",
      "Epoch 7/29\n",
      "23/23 [==============================] - ETA: 0s - loss: 0.0020"
     ]
    },
    {
     "name": "stderr",
     "output_type": "stream",
     "text": [
      "WARNING:absl:Found untraced functions such as _jit_compiled_convolution_op, _jit_compiled_convolution_op, _jit_compiled_convolution_op while saving (showing 3 of 3). These functions will not be directly callable after loading.\n"
     ]
    },
    {
     "name": "stdout",
     "output_type": "stream",
     "text": [
      "INFO:tensorflow:Assets written to: /home/oscar47/Desktop/P-ai/p-music/CNN_oscar/wandb/run-20221123_172147-6sgkgudo/files/model-best/assets\n"
     ]
    },
    {
     "name": "stderr",
     "output_type": "stream",
     "text": [
      "INFO:tensorflow:Assets written to: /home/oscar47/Desktop/P-ai/p-music/CNN_oscar/wandb/run-20221123_172147-6sgkgudo/files/model-best/assets\n",
      "\u001b[34m\u001b[1mwandb\u001b[0m: Adding directory to artifact (/home/oscar47/Desktop/P-ai/p-music/CNN_oscar/wandb/run-20221123_172147-6sgkgudo/files/model-best)... Done. 0.4s\n"
     ]
    },
    {
     "name": "stdout",
     "output_type": "stream",
     "text": [
      "23/23 [==============================] - 24s 1s/step - loss: 0.0020 - val_loss: 0.0018\n",
      "Epoch 8/29\n",
      "23/23 [==============================] - ETA: 0s - loss: 0.0018"
     ]
    },
    {
     "name": "stderr",
     "output_type": "stream",
     "text": [
      "WARNING:absl:Found untraced functions such as _jit_compiled_convolution_op, _jit_compiled_convolution_op, _jit_compiled_convolution_op while saving (showing 3 of 3). These functions will not be directly callable after loading.\n"
     ]
    },
    {
     "name": "stdout",
     "output_type": "stream",
     "text": [
      "INFO:tensorflow:Assets written to: /home/oscar47/Desktop/P-ai/p-music/CNN_oscar/wandb/run-20221123_172147-6sgkgudo/files/model-best/assets\n"
     ]
    },
    {
     "name": "stderr",
     "output_type": "stream",
     "text": [
      "INFO:tensorflow:Assets written to: /home/oscar47/Desktop/P-ai/p-music/CNN_oscar/wandb/run-20221123_172147-6sgkgudo/files/model-best/assets\n",
      "\u001b[34m\u001b[1mwandb\u001b[0m: Adding directory to artifact (/home/oscar47/Desktop/P-ai/p-music/CNN_oscar/wandb/run-20221123_172147-6sgkgudo/files/model-best)... Done. 0.4s\n"
     ]
    },
    {
     "name": "stdout",
     "output_type": "stream",
     "text": [
      "23/23 [==============================] - 24s 1s/step - loss: 0.0018 - val_loss: 0.0017\n",
      "Epoch 9/29\n",
      "23/23 [==============================] - ETA: 0s - loss: 0.0017"
     ]
    },
    {
     "name": "stderr",
     "output_type": "stream",
     "text": [
      "WARNING:absl:Found untraced functions such as _jit_compiled_convolution_op, _jit_compiled_convolution_op, _jit_compiled_convolution_op while saving (showing 3 of 3). These functions will not be directly callable after loading.\n"
     ]
    },
    {
     "name": "stdout",
     "output_type": "stream",
     "text": [
      "INFO:tensorflow:Assets written to: /home/oscar47/Desktop/P-ai/p-music/CNN_oscar/wandb/run-20221123_172147-6sgkgudo/files/model-best/assets\n"
     ]
    },
    {
     "name": "stderr",
     "output_type": "stream",
     "text": [
      "INFO:tensorflow:Assets written to: /home/oscar47/Desktop/P-ai/p-music/CNN_oscar/wandb/run-20221123_172147-6sgkgudo/files/model-best/assets\n",
      "\u001b[34m\u001b[1mwandb\u001b[0m: Adding directory to artifact (/home/oscar47/Desktop/P-ai/p-music/CNN_oscar/wandb/run-20221123_172147-6sgkgudo/files/model-best)... Done. 0.4s\n"
     ]
    },
    {
     "name": "stdout",
     "output_type": "stream",
     "text": [
      "23/23 [==============================] - 24s 1s/step - loss: 0.0017 - val_loss: 0.0016\n",
      "Epoch 10/29\n",
      "23/23 [==============================] - ETA: 0s - loss: 0.0017"
     ]
    },
    {
     "name": "stderr",
     "output_type": "stream",
     "text": [
      "WARNING:absl:Found untraced functions such as _jit_compiled_convolution_op, _jit_compiled_convolution_op, _jit_compiled_convolution_op while saving (showing 3 of 3). These functions will not be directly callable after loading.\n"
     ]
    },
    {
     "name": "stdout",
     "output_type": "stream",
     "text": [
      "INFO:tensorflow:Assets written to: /home/oscar47/Desktop/P-ai/p-music/CNN_oscar/wandb/run-20221123_172147-6sgkgudo/files/model-best/assets\n"
     ]
    },
    {
     "name": "stderr",
     "output_type": "stream",
     "text": [
      "INFO:tensorflow:Assets written to: /home/oscar47/Desktop/P-ai/p-music/CNN_oscar/wandb/run-20221123_172147-6sgkgudo/files/model-best/assets\n",
      "\u001b[34m\u001b[1mwandb\u001b[0m: Adding directory to artifact (/home/oscar47/Desktop/P-ai/p-music/CNN_oscar/wandb/run-20221123_172147-6sgkgudo/files/model-best)... Done. 0.4s\n"
     ]
    },
    {
     "name": "stdout",
     "output_type": "stream",
     "text": [
      "23/23 [==============================] - 24s 1s/step - loss: 0.0017 - val_loss: 0.0016\n",
      "Epoch 11/29\n",
      "23/23 [==============================] - ETA: 0s - loss: 0.0016"
     ]
    },
    {
     "name": "stderr",
     "output_type": "stream",
     "text": [
      "WARNING:absl:Found untraced functions such as _jit_compiled_convolution_op, _jit_compiled_convolution_op, _jit_compiled_convolution_op while saving (showing 3 of 3). These functions will not be directly callable after loading.\n"
     ]
    },
    {
     "name": "stdout",
     "output_type": "stream",
     "text": [
      "INFO:tensorflow:Assets written to: /home/oscar47/Desktop/P-ai/p-music/CNN_oscar/wandb/run-20221123_172147-6sgkgudo/files/model-best/assets\n"
     ]
    },
    {
     "name": "stderr",
     "output_type": "stream",
     "text": [
      "INFO:tensorflow:Assets written to: /home/oscar47/Desktop/P-ai/p-music/CNN_oscar/wandb/run-20221123_172147-6sgkgudo/files/model-best/assets\n",
      "\u001b[34m\u001b[1mwandb\u001b[0m: Adding directory to artifact (/home/oscar47/Desktop/P-ai/p-music/CNN_oscar/wandb/run-20221123_172147-6sgkgudo/files/model-best)... Done. 0.4s\n"
     ]
    },
    {
     "name": "stdout",
     "output_type": "stream",
     "text": [
      "23/23 [==============================] - 24s 1s/step - loss: 0.0016 - val_loss: 0.0016\n",
      "Epoch 12/29\n",
      "23/23 [==============================] - ETA: 0s - loss: 0.0016"
     ]
    },
    {
     "name": "stderr",
     "output_type": "stream",
     "text": [
      "WARNING:absl:Found untraced functions such as _jit_compiled_convolution_op, _jit_compiled_convolution_op, _jit_compiled_convolution_op while saving (showing 3 of 3). These functions will not be directly callable after loading.\n"
     ]
    },
    {
     "name": "stdout",
     "output_type": "stream",
     "text": [
      "INFO:tensorflow:Assets written to: /home/oscar47/Desktop/P-ai/p-music/CNN_oscar/wandb/run-20221123_172147-6sgkgudo/files/model-best/assets\n"
     ]
    },
    {
     "name": "stderr",
     "output_type": "stream",
     "text": [
      "INFO:tensorflow:Assets written to: /home/oscar47/Desktop/P-ai/p-music/CNN_oscar/wandb/run-20221123_172147-6sgkgudo/files/model-best/assets\n",
      "\u001b[34m\u001b[1mwandb\u001b[0m: Adding directory to artifact (/home/oscar47/Desktop/P-ai/p-music/CNN_oscar/wandb/run-20221123_172147-6sgkgudo/files/model-best)... Done. 0.4s\n"
     ]
    },
    {
     "name": "stdout",
     "output_type": "stream",
     "text": [
      "23/23 [==============================] - 24s 1s/step - loss: 0.0016 - val_loss: 0.0015\n",
      "Epoch 13/29\n",
      "23/23 [==============================] - ETA: 0s - loss: 0.0016"
     ]
    },
    {
     "name": "stderr",
     "output_type": "stream",
     "text": [
      "WARNING:absl:Found untraced functions such as _jit_compiled_convolution_op, _jit_compiled_convolution_op, _jit_compiled_convolution_op while saving (showing 3 of 3). These functions will not be directly callable after loading.\n"
     ]
    },
    {
     "name": "stdout",
     "output_type": "stream",
     "text": [
      "INFO:tensorflow:Assets written to: /home/oscar47/Desktop/P-ai/p-music/CNN_oscar/wandb/run-20221123_172147-6sgkgudo/files/model-best/assets\n"
     ]
    },
    {
     "name": "stderr",
     "output_type": "stream",
     "text": [
      "INFO:tensorflow:Assets written to: /home/oscar47/Desktop/P-ai/p-music/CNN_oscar/wandb/run-20221123_172147-6sgkgudo/files/model-best/assets\n",
      "\u001b[34m\u001b[1mwandb\u001b[0m: Adding directory to artifact (/home/oscar47/Desktop/P-ai/p-music/CNN_oscar/wandb/run-20221123_172147-6sgkgudo/files/model-best)... Done. 0.5s\n"
     ]
    },
    {
     "name": "stdout",
     "output_type": "stream",
     "text": [
      "23/23 [==============================] - 24s 1s/step - loss: 0.0016 - val_loss: 0.0015\n",
      "Epoch 14/29\n",
      "23/23 [==============================] - ETA: 0s - loss: 0.0016"
     ]
    },
    {
     "name": "stderr",
     "output_type": "stream",
     "text": [
      "WARNING:absl:Found untraced functions such as _jit_compiled_convolution_op, _jit_compiled_convolution_op, _jit_compiled_convolution_op while saving (showing 3 of 3). These functions will not be directly callable after loading.\n"
     ]
    },
    {
     "name": "stdout",
     "output_type": "stream",
     "text": [
      "INFO:tensorflow:Assets written to: /home/oscar47/Desktop/P-ai/p-music/CNN_oscar/wandb/run-20221123_172147-6sgkgudo/files/model-best/assets\n"
     ]
    },
    {
     "name": "stderr",
     "output_type": "stream",
     "text": [
      "INFO:tensorflow:Assets written to: /home/oscar47/Desktop/P-ai/p-music/CNN_oscar/wandb/run-20221123_172147-6sgkgudo/files/model-best/assets\n",
      "\u001b[34m\u001b[1mwandb\u001b[0m: Adding directory to artifact (/home/oscar47/Desktop/P-ai/p-music/CNN_oscar/wandb/run-20221123_172147-6sgkgudo/files/model-best)... Done. 0.4s\n"
     ]
    },
    {
     "name": "stdout",
     "output_type": "stream",
     "text": [
      "23/23 [==============================] - 24s 1s/step - loss: 0.0016 - val_loss: 0.0015\n",
      "Epoch 15/29\n",
      "23/23 [==============================] - ETA: 0s - loss: 0.0016"
     ]
    },
    {
     "name": "stderr",
     "output_type": "stream",
     "text": [
      "WARNING:absl:Found untraced functions such as _jit_compiled_convolution_op, _jit_compiled_convolution_op, _jit_compiled_convolution_op while saving (showing 3 of 3). These functions will not be directly callable after loading.\n"
     ]
    },
    {
     "name": "stdout",
     "output_type": "stream",
     "text": [
      "INFO:tensorflow:Assets written to: /home/oscar47/Desktop/P-ai/p-music/CNN_oscar/wandb/run-20221123_172147-6sgkgudo/files/model-best/assets\n"
     ]
    },
    {
     "name": "stderr",
     "output_type": "stream",
     "text": [
      "INFO:tensorflow:Assets written to: /home/oscar47/Desktop/P-ai/p-music/CNN_oscar/wandb/run-20221123_172147-6sgkgudo/files/model-best/assets\n",
      "\u001b[34m\u001b[1mwandb\u001b[0m: Adding directory to artifact (/home/oscar47/Desktop/P-ai/p-music/CNN_oscar/wandb/run-20221123_172147-6sgkgudo/files/model-best)... Done. 0.4s\n"
     ]
    },
    {
     "name": "stdout",
     "output_type": "stream",
     "text": [
      "23/23 [==============================] - 24s 1s/step - loss: 0.0016 - val_loss: 0.0015\n",
      "Epoch 16/29\n",
      "23/23 [==============================] - 23s 1s/step - loss: 0.0016 - val_loss: 0.0015\n",
      "Epoch 17/29\n",
      "23/23 [==============================] - 23s 986ms/step - loss: 0.0016 - val_loss: 0.0015\n",
      "Epoch 18/29\n",
      "23/23 [==============================] - 23s 988ms/step - loss: 0.0016 - val_loss: 0.0015\n",
      "Epoch 19/29\n",
      "23/23 [==============================] - 23s 989ms/step - loss: 0.0016 - val_loss: 0.0015\n",
      "Epoch 20/29\n",
      "23/23 [==============================] - 23s 985ms/step - loss: 0.0016 - val_loss: 0.0015\n",
      "Epoch 21/29\n",
      "23/23 [==============================] - 23s 989ms/step - loss: 0.0016 - val_loss: 0.0015\n",
      "Epoch 22/29\n",
      "23/23 [==============================] - 23s 992ms/step - loss: 0.0016 - val_loss: 0.0015\n",
      "Epoch 23/29\n",
      "23/23 [==============================] - 23s 985ms/step - loss: 0.0016 - val_loss: 0.0015\n",
      "Epoch 24/29\n",
      "23/23 [==============================] - 23s 992ms/step - loss: 0.0016 - val_loss: 0.0015\n",
      "Epoch 25/29\n",
      "23/23 [==============================] - 23s 989ms/step - loss: 0.0016 - val_loss: 0.0015\n",
      "Epoch 26/29\n",
      "23/23 [==============================] - 23s 992ms/step - loss: 0.0016 - val_loss: 0.0015\n",
      "Epoch 27/29\n",
      "23/23 [==============================] - 23s 994ms/step - loss: 0.0016 - val_loss: 0.0015\n",
      "Epoch 28/29\n",
      "23/23 [==============================] - 23s 994ms/step - loss: 0.0016 - val_loss: 0.0015\n",
      "Epoch 29/29\n",
      "23/23 [==============================] - 23s 984ms/step - loss: 0.0016 - val_loss: 0.0015\n"
     ]
    },
    {
     "data": {
      "text/html": [
       "Waiting for W&B process to finish... <strong style=\"color:green\">(success).</strong>"
      ],
      "text/plain": [
       "<IPython.core.display.HTML object>"
      ]
     },
     "metadata": {},
     "output_type": "display_data"
    },
    {
     "data": {
      "text/html": [
       "<style>\n",
       "    table.wandb td:nth-child(1) { padding: 0 10px; text-align: left ; width: auto;} td:nth-child(2) {text-align: left ; width: 100%}\n",
       "    .wandb-row { display: flex; flex-direction: row; flex-wrap: wrap; justify-content: flex-start; width: 100% }\n",
       "    .wandb-col { display: flex; flex-direction: column; flex-basis: 100%; flex: 1; padding: 10px; }\n",
       "    </style>\n",
       "<div class=\"wandb-row\"><div class=\"wandb-col\"><h3>Run history:</h3><br/><table class=\"wandb\"><tr><td>epoch</td><td>▁▁▁▂▂▂▃▃▃▃▃▄▄▄▅▅▅▅▅▆▆▆▇▇▇▇▇██</td></tr><tr><td>loss</td><td>█▁▁▁▁▁▁▁▁▁▁▁▁▁▁▁▁▁▁▁▁▁▁▁▁▁▁▁▁</td></tr><tr><td>val_loss</td><td>█▁▁▁▁▁▁▁▁▁▁▁▁▁▁▁▁▁▁▁▁▁▁▁▁▁▁▁▁</td></tr></table><br/></div><div class=\"wandb-col\"><h3>Run summary:</h3><br/><table class=\"wandb\"><tr><td>best_epoch</td><td>14</td></tr><tr><td>best_val_loss</td><td>0.00154</td></tr><tr><td>epoch</td><td>28</td></tr><tr><td>loss</td><td>0.00161</td></tr><tr><td>val_loss</td><td>0.00154</td></tr></table><br/></div></div>"
      ],
      "text/plain": [
       "<IPython.core.display.HTML object>"
      ]
     },
     "metadata": {},
     "output_type": "display_data"
    },
    {
     "data": {
      "text/html": [
       "Synced <strong style=\"color:#cdcd00\">rare-sweep-1</strong>: <a href=\"https://wandb.ai/p-ai/Oscar%20CNN1/runs/6sgkgudo\" target=\"_blank\">https://wandb.ai/p-ai/Oscar%20CNN1/runs/6sgkgudo</a><br/>Synced 6 W&B file(s), 1 media file(s), 61 artifact file(s) and 1 other file(s)"
      ],
      "text/plain": [
       "<IPython.core.display.HTML object>"
      ]
     },
     "metadata": {},
     "output_type": "display_data"
    },
    {
     "data": {
      "text/html": [
       "Find logs at: <code>./wandb/run-20221123_172147-6sgkgudo/logs</code>"
      ],
      "text/plain": [
       "<IPython.core.display.HTML object>"
      ]
     },
     "metadata": {},
     "output_type": "display_data"
    },
    {
     "name": "stderr",
     "output_type": "stream",
     "text": [
      "\u001b[34m\u001b[1mwandb\u001b[0m: Agent Starting Run: 2r00d2vi with config:\n",
      "\u001b[34m\u001b[1mwandb\u001b[0m: \tbatch_size: 96\n",
      "\u001b[34m\u001b[1mwandb\u001b[0m: \tdense1: 206\n",
      "\u001b[34m\u001b[1mwandb\u001b[0m: \tepochs: 18\n",
      "\u001b[34m\u001b[1mwandb\u001b[0m: \tlearning_rate: 0.09795358687116155\n",
      "\u001b[34m\u001b[1mwandb\u001b[0m: \tsize_1: 225\n",
      "\u001b[34m\u001b[1mwandb\u001b[0m: \tsize_2: 71\n",
      "\u001b[34m\u001b[1mwandb\u001b[0m: \tsize_3: 238\n"
     ]
    },
    {
     "data": {
      "text/html": [
       "Tracking run with wandb version 0.13.5"
      ],
      "text/plain": [
       "<IPython.core.display.HTML object>"
      ]
     },
     "metadata": {},
     "output_type": "display_data"
    },
    {
     "data": {
      "text/html": [
       "Run data is saved locally in <code>/home/oscar47/Desktop/P-ai/p-music/CNN_oscar/wandb/run-20221123_173324-2r00d2vi</code>"
      ],
      "text/plain": [
       "<IPython.core.display.HTML object>"
      ]
     },
     "metadata": {},
     "output_type": "display_data"
    },
    {
     "data": {
      "text/html": [
       "Syncing run <strong><a href=\"https://wandb.ai/p-ai/Oscar%20CNN1/runs/2r00d2vi\" target=\"_blank\">deft-sweep-2</a></strong> to <a href=\"https://wandb.ai/p-ai/Oscar%20CNN1\" target=\"_blank\">Weights & Biases</a> (<a href=\"https://wandb.me/run\" target=\"_blank\">docs</a>)<br/>Sweep page:  <a href=\"https://wandb.ai/p-ai/Oscar%20CNN1/sweeps/wsxqxjvp\" target=\"_blank\">https://wandb.ai/p-ai/Oscar%20CNN1/sweeps/wsxqxjvp</a>"
      ],
      "text/plain": [
       "<IPython.core.display.HTML object>"
      ]
     },
     "metadata": {},
     "output_type": "display_data"
    },
    {
     "name": "stdout",
     "output_type": "stream",
     "text": [
      "Epoch 1/18\n",
      "15/15 [==============================] - ETA: 0s - loss: 220992290947072.0000"
     ]
    },
    {
     "name": "stderr",
     "output_type": "stream",
     "text": [
      "WARNING:absl:Found untraced functions such as _jit_compiled_convolution_op, _jit_compiled_convolution_op, _jit_compiled_convolution_op while saving (showing 3 of 3). These functions will not be directly callable after loading.\n"
     ]
    },
    {
     "name": "stdout",
     "output_type": "stream",
     "text": [
      "INFO:tensorflow:Assets written to: /home/oscar47/Desktop/P-ai/p-music/CNN_oscar/wandb/run-20221123_173324-2r00d2vi/files/model-best/assets\n"
     ]
    },
    {
     "name": "stderr",
     "output_type": "stream",
     "text": [
      "INFO:tensorflow:Assets written to: /home/oscar47/Desktop/P-ai/p-music/CNN_oscar/wandb/run-20221123_173324-2r00d2vi/files/model-best/assets\n",
      "\u001b[34m\u001b[1mwandb\u001b[0m: Adding directory to artifact (/home/oscar47/Desktop/P-ai/p-music/CNN_oscar/wandb/run-20221123_173324-2r00d2vi/files/model-best)... Done. 0.5s\n"
     ]
    },
    {
     "name": "stdout",
     "output_type": "stream",
     "text": [
      "15/15 [==============================] - 37s 2s/step - loss: 220992290947072.0000 - val_loss: 54006149120.0000\n",
      "Epoch 2/18\n",
      "15/15 [==============================] - ETA: 0s - loss: 3931232256.0000"
     ]
    },
    {
     "name": "stderr",
     "output_type": "stream",
     "text": [
      "WARNING:absl:Found untraced functions such as _jit_compiled_convolution_op, _jit_compiled_convolution_op, _jit_compiled_convolution_op while saving (showing 3 of 3). These functions will not be directly callable after loading.\n"
     ]
    },
    {
     "name": "stdout",
     "output_type": "stream",
     "text": [
      "INFO:tensorflow:Assets written to: /home/oscar47/Desktop/P-ai/p-music/CNN_oscar/wandb/run-20221123_173324-2r00d2vi/files/model-best/assets\n"
     ]
    },
    {
     "name": "stderr",
     "output_type": "stream",
     "text": [
      "INFO:tensorflow:Assets written to: /home/oscar47/Desktop/P-ai/p-music/CNN_oscar/wandb/run-20221123_173324-2r00d2vi/files/model-best/assets\n",
      "\u001b[34m\u001b[1mwandb\u001b[0m: Adding directory to artifact (/home/oscar47/Desktop/P-ai/p-music/CNN_oscar/wandb/run-20221123_173324-2r00d2vi/files/model-best)... Done. 0.5s\n"
     ]
    },
    {
     "name": "stdout",
     "output_type": "stream",
     "text": [
      "15/15 [==============================] - 36s 2s/step - loss: 3931232256.0000 - val_loss: 1.6344\n",
      "Epoch 3/18\n",
      "15/15 [==============================] - ETA: 0s - loss: 1.4130"
     ]
    },
    {
     "name": "stderr",
     "output_type": "stream",
     "text": [
      "WARNING:absl:Found untraced functions such as _jit_compiled_convolution_op, _jit_compiled_convolution_op, _jit_compiled_convolution_op while saving (showing 3 of 3). These functions will not be directly callable after loading.\n"
     ]
    },
    {
     "name": "stdout",
     "output_type": "stream",
     "text": [
      "INFO:tensorflow:Assets written to: /home/oscar47/Desktop/P-ai/p-music/CNN_oscar/wandb/run-20221123_173324-2r00d2vi/files/model-best/assets\n"
     ]
    },
    {
     "name": "stderr",
     "output_type": "stream",
     "text": [
      "INFO:tensorflow:Assets written to: /home/oscar47/Desktop/P-ai/p-music/CNN_oscar/wandb/run-20221123_173324-2r00d2vi/files/model-best/assets\n",
      "\u001b[34m\u001b[1mwandb\u001b[0m: Adding directory to artifact (/home/oscar47/Desktop/P-ai/p-music/CNN_oscar/wandb/run-20221123_173324-2r00d2vi/files/model-best)... Done. 0.5s\n"
     ]
    },
    {
     "name": "stdout",
     "output_type": "stream",
     "text": [
      "15/15 [==============================] - 36s 2s/step - loss: 1.4130 - val_loss: 1.2479\n",
      "Epoch 4/18\n",
      "15/15 [==============================] - ETA: 0s - loss: 1.1931"
     ]
    },
    {
     "name": "stderr",
     "output_type": "stream",
     "text": [
      "WARNING:absl:Found untraced functions such as _jit_compiled_convolution_op, _jit_compiled_convolution_op, _jit_compiled_convolution_op while saving (showing 3 of 3). These functions will not be directly callable after loading.\n"
     ]
    },
    {
     "name": "stdout",
     "output_type": "stream",
     "text": [
      "INFO:tensorflow:Assets written to: /home/oscar47/Desktop/P-ai/p-music/CNN_oscar/wandb/run-20221123_173324-2r00d2vi/files/model-best/assets\n"
     ]
    },
    {
     "name": "stderr",
     "output_type": "stream",
     "text": [
      "INFO:tensorflow:Assets written to: /home/oscar47/Desktop/P-ai/p-music/CNN_oscar/wandb/run-20221123_173324-2r00d2vi/files/model-best/assets\n",
      "\u001b[34m\u001b[1mwandb\u001b[0m: Adding directory to artifact (/home/oscar47/Desktop/P-ai/p-music/CNN_oscar/wandb/run-20221123_173324-2r00d2vi/files/model-best)... Done. 0.5s\n"
     ]
    },
    {
     "name": "stdout",
     "output_type": "stream",
     "text": [
      "15/15 [==============================] - 37s 2s/step - loss: 1.1931 - val_loss: 1.1519\n",
      "Epoch 5/18\n",
      "15/15 [==============================] - ETA: 0s - loss: 1.1396"
     ]
    },
    {
     "name": "stderr",
     "output_type": "stream",
     "text": [
      "WARNING:absl:Found untraced functions such as _jit_compiled_convolution_op, _jit_compiled_convolution_op, _jit_compiled_convolution_op while saving (showing 3 of 3). These functions will not be directly callable after loading.\n"
     ]
    },
    {
     "name": "stdout",
     "output_type": "stream",
     "text": [
      "INFO:tensorflow:Assets written to: /home/oscar47/Desktop/P-ai/p-music/CNN_oscar/wandb/run-20221123_173324-2r00d2vi/files/model-best/assets\n"
     ]
    },
    {
     "name": "stderr",
     "output_type": "stream",
     "text": [
      "INFO:tensorflow:Assets written to: /home/oscar47/Desktop/P-ai/p-music/CNN_oscar/wandb/run-20221123_173324-2r00d2vi/files/model-best/assets\n",
      "\u001b[34m\u001b[1mwandb\u001b[0m: Adding directory to artifact (/home/oscar47/Desktop/P-ai/p-music/CNN_oscar/wandb/run-20221123_173324-2r00d2vi/files/model-best)... Done. 0.5s\n"
     ]
    },
    {
     "name": "stdout",
     "output_type": "stream",
     "text": [
      "15/15 [==============================] - 36s 2s/step - loss: 1.1396 - val_loss: 1.1289\n",
      "Epoch 6/18\n",
      "15/15 [==============================] - ETA: 0s - loss: 1.1267"
     ]
    },
    {
     "name": "stderr",
     "output_type": "stream",
     "text": [
      "WARNING:absl:Found untraced functions such as _jit_compiled_convolution_op, _jit_compiled_convolution_op, _jit_compiled_convolution_op while saving (showing 3 of 3). These functions will not be directly callable after loading.\n"
     ]
    },
    {
     "name": "stdout",
     "output_type": "stream",
     "text": [
      "INFO:tensorflow:Assets written to: /home/oscar47/Desktop/P-ai/p-music/CNN_oscar/wandb/run-20221123_173324-2r00d2vi/files/model-best/assets\n"
     ]
    },
    {
     "name": "stderr",
     "output_type": "stream",
     "text": [
      "INFO:tensorflow:Assets written to: /home/oscar47/Desktop/P-ai/p-music/CNN_oscar/wandb/run-20221123_173324-2r00d2vi/files/model-best/assets\n",
      "\u001b[34m\u001b[1mwandb\u001b[0m: Adding directory to artifact (/home/oscar47/Desktop/P-ai/p-music/CNN_oscar/wandb/run-20221123_173324-2r00d2vi/files/model-best)... Done. 0.5s\n"
     ]
    },
    {
     "name": "stdout",
     "output_type": "stream",
     "text": [
      "15/15 [==============================] - 35s 2s/step - loss: 1.1267 - val_loss: 1.1232\n",
      "Epoch 7/18\n",
      "15/15 [==============================] - ETA: 0s - loss: 1.1232"
     ]
    },
    {
     "name": "stderr",
     "output_type": "stream",
     "text": [
      "WARNING:absl:Found untraced functions such as _jit_compiled_convolution_op, _jit_compiled_convolution_op, _jit_compiled_convolution_op while saving (showing 3 of 3). These functions will not be directly callable after loading.\n"
     ]
    },
    {
     "name": "stdout",
     "output_type": "stream",
     "text": [
      "INFO:tensorflow:Assets written to: /home/oscar47/Desktop/P-ai/p-music/CNN_oscar/wandb/run-20221123_173324-2r00d2vi/files/model-best/assets\n"
     ]
    },
    {
     "name": "stderr",
     "output_type": "stream",
     "text": [
      "INFO:tensorflow:Assets written to: /home/oscar47/Desktop/P-ai/p-music/CNN_oscar/wandb/run-20221123_173324-2r00d2vi/files/model-best/assets\n",
      "\u001b[34m\u001b[1mwandb\u001b[0m: Adding directory to artifact (/home/oscar47/Desktop/P-ai/p-music/CNN_oscar/wandb/run-20221123_173324-2r00d2vi/files/model-best)... Done. 0.5s\n"
     ]
    },
    {
     "name": "stdout",
     "output_type": "stream",
     "text": [
      "15/15 [==============================] - 35s 2s/step - loss: 1.1232 - val_loss: 1.1214\n",
      "Epoch 8/18\n",
      "15/15 [==============================] - ETA: 0s - loss: 1.1219"
     ]
    },
    {
     "name": "stderr",
     "output_type": "stream",
     "text": [
      "WARNING:absl:Found untraced functions such as _jit_compiled_convolution_op, _jit_compiled_convolution_op, _jit_compiled_convolution_op while saving (showing 3 of 3). These functions will not be directly callable after loading.\n"
     ]
    },
    {
     "name": "stdout",
     "output_type": "stream",
     "text": [
      "INFO:tensorflow:Assets written to: /home/oscar47/Desktop/P-ai/p-music/CNN_oscar/wandb/run-20221123_173324-2r00d2vi/files/model-best/assets\n"
     ]
    },
    {
     "name": "stderr",
     "output_type": "stream",
     "text": [
      "INFO:tensorflow:Assets written to: /home/oscar47/Desktop/P-ai/p-music/CNN_oscar/wandb/run-20221123_173324-2r00d2vi/files/model-best/assets\n",
      "\u001b[34m\u001b[1mwandb\u001b[0m: Adding directory to artifact (/home/oscar47/Desktop/P-ai/p-music/CNN_oscar/wandb/run-20221123_173324-2r00d2vi/files/model-best)... Done. 0.5s\n"
     ]
    },
    {
     "name": "stdout",
     "output_type": "stream",
     "text": [
      "15/15 [==============================] - 35s 2s/step - loss: 1.1219 - val_loss: 1.1204\n",
      "Epoch 9/18\n",
      "15/15 [==============================] - ETA: 0s - loss: 1.1210"
     ]
    },
    {
     "name": "stderr",
     "output_type": "stream",
     "text": [
      "WARNING:absl:Found untraced functions such as _jit_compiled_convolution_op, _jit_compiled_convolution_op, _jit_compiled_convolution_op while saving (showing 3 of 3). These functions will not be directly callable after loading.\n"
     ]
    },
    {
     "name": "stdout",
     "output_type": "stream",
     "text": [
      "INFO:tensorflow:Assets written to: /home/oscar47/Desktop/P-ai/p-music/CNN_oscar/wandb/run-20221123_173324-2r00d2vi/files/model-best/assets\n"
     ]
    },
    {
     "name": "stderr",
     "output_type": "stream",
     "text": [
      "INFO:tensorflow:Assets written to: /home/oscar47/Desktop/P-ai/p-music/CNN_oscar/wandb/run-20221123_173324-2r00d2vi/files/model-best/assets\n",
      "\u001b[34m\u001b[1mwandb\u001b[0m: Adding directory to artifact (/home/oscar47/Desktop/P-ai/p-music/CNN_oscar/wandb/run-20221123_173324-2r00d2vi/files/model-best)... Done. 0.5s\n"
     ]
    },
    {
     "name": "stdout",
     "output_type": "stream",
     "text": [
      "15/15 [==============================] - 35s 2s/step - loss: 1.1210 - val_loss: 1.1196\n",
      "Epoch 10/18\n",
      "15/15 [==============================] - ETA: 0s - loss: 1.1202"
     ]
    },
    {
     "name": "stderr",
     "output_type": "stream",
     "text": [
      "WARNING:absl:Found untraced functions such as _jit_compiled_convolution_op, _jit_compiled_convolution_op, _jit_compiled_convolution_op while saving (showing 3 of 3). These functions will not be directly callable after loading.\n"
     ]
    },
    {
     "name": "stdout",
     "output_type": "stream",
     "text": [
      "INFO:tensorflow:Assets written to: /home/oscar47/Desktop/P-ai/p-music/CNN_oscar/wandb/run-20221123_173324-2r00d2vi/files/model-best/assets\n"
     ]
    },
    {
     "name": "stderr",
     "output_type": "stream",
     "text": [
      "INFO:tensorflow:Assets written to: /home/oscar47/Desktop/P-ai/p-music/CNN_oscar/wandb/run-20221123_173324-2r00d2vi/files/model-best/assets\n",
      "\u001b[34m\u001b[1mwandb\u001b[0m: Adding directory to artifact (/home/oscar47/Desktop/P-ai/p-music/CNN_oscar/wandb/run-20221123_173324-2r00d2vi/files/model-best)... Done. 0.5s\n"
     ]
    },
    {
     "name": "stdout",
     "output_type": "stream",
     "text": [
      "15/15 [==============================] - 35s 2s/step - loss: 1.1202 - val_loss: 1.1187\n",
      "Epoch 11/18\n",
      "15/15 [==============================] - ETA: 0s - loss: 1.1193"
     ]
    },
    {
     "name": "stderr",
     "output_type": "stream",
     "text": [
      "WARNING:absl:Found untraced functions such as _jit_compiled_convolution_op, _jit_compiled_convolution_op, _jit_compiled_convolution_op while saving (showing 3 of 3). These functions will not be directly callable after loading.\n"
     ]
    },
    {
     "name": "stdout",
     "output_type": "stream",
     "text": [
      "INFO:tensorflow:Assets written to: /home/oscar47/Desktop/P-ai/p-music/CNN_oscar/wandb/run-20221123_173324-2r00d2vi/files/model-best/assets\n"
     ]
    },
    {
     "name": "stderr",
     "output_type": "stream",
     "text": [
      "INFO:tensorflow:Assets written to: /home/oscar47/Desktop/P-ai/p-music/CNN_oscar/wandb/run-20221123_173324-2r00d2vi/files/model-best/assets\n",
      "\u001b[34m\u001b[1mwandb\u001b[0m: Adding directory to artifact (/home/oscar47/Desktop/P-ai/p-music/CNN_oscar/wandb/run-20221123_173324-2r00d2vi/files/model-best)... Done. 0.5s\n"
     ]
    },
    {
     "name": "stdout",
     "output_type": "stream",
     "text": [
      "15/15 [==============================] - 36s 2s/step - loss: 1.1193 - val_loss: 1.1179\n",
      "Epoch 12/18\n",
      "15/15 [==============================] - ETA: 0s - loss: 1.1185"
     ]
    },
    {
     "name": "stderr",
     "output_type": "stream",
     "text": [
      "WARNING:absl:Found untraced functions such as _jit_compiled_convolution_op, _jit_compiled_convolution_op, _jit_compiled_convolution_op while saving (showing 3 of 3). These functions will not be directly callable after loading.\n"
     ]
    },
    {
     "name": "stdout",
     "output_type": "stream",
     "text": [
      "INFO:tensorflow:Assets written to: /home/oscar47/Desktop/P-ai/p-music/CNN_oscar/wandb/run-20221123_173324-2r00d2vi/files/model-best/assets\n"
     ]
    },
    {
     "name": "stderr",
     "output_type": "stream",
     "text": [
      "INFO:tensorflow:Assets written to: /home/oscar47/Desktop/P-ai/p-music/CNN_oscar/wandb/run-20221123_173324-2r00d2vi/files/model-best/assets\n",
      "\u001b[34m\u001b[1mwandb\u001b[0m: Adding directory to artifact (/home/oscar47/Desktop/P-ai/p-music/CNN_oscar/wandb/run-20221123_173324-2r00d2vi/files/model-best)... Done. 0.5s\n"
     ]
    },
    {
     "name": "stdout",
     "output_type": "stream",
     "text": [
      "15/15 [==============================] - 35s 2s/step - loss: 1.1185 - val_loss: 1.1170\n",
      "Epoch 13/18\n",
      "15/15 [==============================] - ETA: 0s - loss: 1.1175"
     ]
    },
    {
     "name": "stderr",
     "output_type": "stream",
     "text": [
      "WARNING:absl:Found untraced functions such as _jit_compiled_convolution_op, _jit_compiled_convolution_op, _jit_compiled_convolution_op while saving (showing 3 of 3). These functions will not be directly callable after loading.\n"
     ]
    },
    {
     "name": "stdout",
     "output_type": "stream",
     "text": [
      "INFO:tensorflow:Assets written to: /home/oscar47/Desktop/P-ai/p-music/CNN_oscar/wandb/run-20221123_173324-2r00d2vi/files/model-best/assets\n"
     ]
    },
    {
     "name": "stderr",
     "output_type": "stream",
     "text": [
      "INFO:tensorflow:Assets written to: /home/oscar47/Desktop/P-ai/p-music/CNN_oscar/wandb/run-20221123_173324-2r00d2vi/files/model-best/assets\n",
      "\u001b[34m\u001b[1mwandb\u001b[0m: Adding directory to artifact (/home/oscar47/Desktop/P-ai/p-music/CNN_oscar/wandb/run-20221123_173324-2r00d2vi/files/model-best)... Done. 0.5s\n"
     ]
    },
    {
     "name": "stdout",
     "output_type": "stream",
     "text": [
      "15/15 [==============================] - 35s 2s/step - loss: 1.1175 - val_loss: 1.1160\n",
      "Epoch 14/18\n",
      "15/15 [==============================] - ETA: 0s - loss: 1.1166"
     ]
    },
    {
     "name": "stderr",
     "output_type": "stream",
     "text": [
      "WARNING:absl:Found untraced functions such as _jit_compiled_convolution_op, _jit_compiled_convolution_op, _jit_compiled_convolution_op while saving (showing 3 of 3). These functions will not be directly callable after loading.\n"
     ]
    },
    {
     "name": "stdout",
     "output_type": "stream",
     "text": [
      "INFO:tensorflow:Assets written to: /home/oscar47/Desktop/P-ai/p-music/CNN_oscar/wandb/run-20221123_173324-2r00d2vi/files/model-best/assets\n"
     ]
    },
    {
     "name": "stderr",
     "output_type": "stream",
     "text": [
      "INFO:tensorflow:Assets written to: /home/oscar47/Desktop/P-ai/p-music/CNN_oscar/wandb/run-20221123_173324-2r00d2vi/files/model-best/assets\n",
      "\u001b[34m\u001b[1mwandb\u001b[0m: Adding directory to artifact (/home/oscar47/Desktop/P-ai/p-music/CNN_oscar/wandb/run-20221123_173324-2r00d2vi/files/model-best)... Done. 0.5s\n"
     ]
    },
    {
     "name": "stdout",
     "output_type": "stream",
     "text": [
      "15/15 [==============================] - 35s 2s/step - loss: 1.1166 - val_loss: 1.1150\n",
      "Epoch 15/18\n",
      "15/15 [==============================] - ETA: 0s - loss: 1.1155"
     ]
    },
    {
     "name": "stderr",
     "output_type": "stream",
     "text": [
      "WARNING:absl:Found untraced functions such as _jit_compiled_convolution_op, _jit_compiled_convolution_op, _jit_compiled_convolution_op while saving (showing 3 of 3). These functions will not be directly callable after loading.\n"
     ]
    },
    {
     "name": "stdout",
     "output_type": "stream",
     "text": [
      "INFO:tensorflow:Assets written to: /home/oscar47/Desktop/P-ai/p-music/CNN_oscar/wandb/run-20221123_173324-2r00d2vi/files/model-best/assets\n"
     ]
    },
    {
     "name": "stderr",
     "output_type": "stream",
     "text": [
      "INFO:tensorflow:Assets written to: /home/oscar47/Desktop/P-ai/p-music/CNN_oscar/wandb/run-20221123_173324-2r00d2vi/files/model-best/assets\n",
      "\u001b[34m\u001b[1mwandb\u001b[0m: Adding directory to artifact (/home/oscar47/Desktop/P-ai/p-music/CNN_oscar/wandb/run-20221123_173324-2r00d2vi/files/model-best)... Done. 0.5s\n"
     ]
    },
    {
     "name": "stdout",
     "output_type": "stream",
     "text": [
      "15/15 [==============================] - 35s 2s/step - loss: 1.1155 - val_loss: 1.1140\n",
      "Epoch 16/18\n",
      "15/15 [==============================] - ETA: 0s - loss: 1.1145"
     ]
    },
    {
     "name": "stderr",
     "output_type": "stream",
     "text": [
      "WARNING:absl:Found untraced functions such as _jit_compiled_convolution_op, _jit_compiled_convolution_op, _jit_compiled_convolution_op while saving (showing 3 of 3). These functions will not be directly callable after loading.\n"
     ]
    },
    {
     "name": "stdout",
     "output_type": "stream",
     "text": [
      "INFO:tensorflow:Assets written to: /home/oscar47/Desktop/P-ai/p-music/CNN_oscar/wandb/run-20221123_173324-2r00d2vi/files/model-best/assets\n"
     ]
    },
    {
     "name": "stderr",
     "output_type": "stream",
     "text": [
      "INFO:tensorflow:Assets written to: /home/oscar47/Desktop/P-ai/p-music/CNN_oscar/wandb/run-20221123_173324-2r00d2vi/files/model-best/assets\n",
      "\u001b[34m\u001b[1mwandb\u001b[0m: Adding directory to artifact (/home/oscar47/Desktop/P-ai/p-music/CNN_oscar/wandb/run-20221123_173324-2r00d2vi/files/model-best)... Done. 0.5s\n"
     ]
    },
    {
     "name": "stdout",
     "output_type": "stream",
     "text": [
      "15/15 [==============================] - 36s 2s/step - loss: 1.1145 - val_loss: 1.1129\n",
      "Epoch 17/18\n",
      "15/15 [==============================] - ETA: 0s - loss: 1.1134"
     ]
    },
    {
     "name": "stderr",
     "output_type": "stream",
     "text": [
      "WARNING:absl:Found untraced functions such as _jit_compiled_convolution_op, _jit_compiled_convolution_op, _jit_compiled_convolution_op while saving (showing 3 of 3). These functions will not be directly callable after loading.\n"
     ]
    },
    {
     "name": "stdout",
     "output_type": "stream",
     "text": [
      "INFO:tensorflow:Assets written to: /home/oscar47/Desktop/P-ai/p-music/CNN_oscar/wandb/run-20221123_173324-2r00d2vi/files/model-best/assets\n"
     ]
    },
    {
     "name": "stderr",
     "output_type": "stream",
     "text": [
      "INFO:tensorflow:Assets written to: /home/oscar47/Desktop/P-ai/p-music/CNN_oscar/wandb/run-20221123_173324-2r00d2vi/files/model-best/assets\n",
      "\u001b[34m\u001b[1mwandb\u001b[0m: Adding directory to artifact (/home/oscar47/Desktop/P-ai/p-music/CNN_oscar/wandb/run-20221123_173324-2r00d2vi/files/model-best)... Done. 0.5s\n"
     ]
    },
    {
     "name": "stdout",
     "output_type": "stream",
     "text": [
      "15/15 [==============================] - 35s 2s/step - loss: 1.1134 - val_loss: 1.1118\n",
      "Epoch 18/18\n",
      "15/15 [==============================] - ETA: 0s - loss: 1.1123"
     ]
    },
    {
     "name": "stderr",
     "output_type": "stream",
     "text": [
      "WARNING:absl:Found untraced functions such as _jit_compiled_convolution_op, _jit_compiled_convolution_op, _jit_compiled_convolution_op while saving (showing 3 of 3). These functions will not be directly callable after loading.\n"
     ]
    },
    {
     "name": "stdout",
     "output_type": "stream",
     "text": [
      "INFO:tensorflow:Assets written to: /home/oscar47/Desktop/P-ai/p-music/CNN_oscar/wandb/run-20221123_173324-2r00d2vi/files/model-best/assets\n"
     ]
    },
    {
     "name": "stderr",
     "output_type": "stream",
     "text": [
      "INFO:tensorflow:Assets written to: /home/oscar47/Desktop/P-ai/p-music/CNN_oscar/wandb/run-20221123_173324-2r00d2vi/files/model-best/assets\n",
      "\u001b[34m\u001b[1mwandb\u001b[0m: Adding directory to artifact (/home/oscar47/Desktop/P-ai/p-music/CNN_oscar/wandb/run-20221123_173324-2r00d2vi/files/model-best)... Done. 0.5s\n"
     ]
    },
    {
     "name": "stdout",
     "output_type": "stream",
     "text": [
      "15/15 [==============================] - 35s 2s/step - loss: 1.1123 - val_loss: 1.1107\n"
     ]
    },
    {
     "data": {
      "text/html": [
       "Waiting for W&B process to finish... <strong style=\"color:green\">(success).</strong>"
      ],
      "text/plain": [
       "<IPython.core.display.HTML object>"
      ]
     },
     "metadata": {},
     "output_type": "display_data"
    },
    {
     "data": {
      "text/html": [
       "<style>\n",
       "    table.wandb td:nth-child(1) { padding: 0 10px; text-align: left ; width: auto;} td:nth-child(2) {text-align: left ; width: 100%}\n",
       "    .wandb-row { display: flex; flex-direction: row; flex-wrap: wrap; justify-content: flex-start; width: 100% }\n",
       "    .wandb-col { display: flex; flex-direction: column; flex-basis: 100%; flex: 1; padding: 10px; }\n",
       "    </style>\n",
       "<div class=\"wandb-row\"><div class=\"wandb-col\"><h3>Run history:</h3><br/><table class=\"wandb\"><tr><td>epoch</td><td>▁▁▂▂▃▃▃▄▄▅▅▆▆▆▇▇██</td></tr><tr><td>loss</td><td>█▁▁▁▁▁▁▁▁▁▁▁▁▁▁▁▁▁</td></tr><tr><td>val_loss</td><td>█▁▁▁▁▁▁▁▁▁▁▁▁▁▁▁▁▁</td></tr></table><br/></div><div class=\"wandb-col\"><h3>Run summary:</h3><br/><table class=\"wandb\"><tr><td>best_epoch</td><td>17</td></tr><tr><td>best_val_loss</td><td>1.11068</td></tr><tr><td>epoch</td><td>17</td></tr><tr><td>loss</td><td>1.11229</td></tr><tr><td>val_loss</td><td>1.11068</td></tr></table><br/></div></div>"
      ],
      "text/plain": [
       "<IPython.core.display.HTML object>"
      ]
     },
     "metadata": {},
     "output_type": "display_data"
    },
    {
     "data": {
      "text/html": [
       "Synced <strong style=\"color:#cdcd00\">deft-sweep-2</strong>: <a href=\"https://wandb.ai/p-ai/Oscar%20CNN1/runs/2r00d2vi\" target=\"_blank\">https://wandb.ai/p-ai/Oscar%20CNN1/runs/2r00d2vi</a><br/>Synced 6 W&B file(s), 1 media file(s), 73 artifact file(s) and 1 other file(s)"
      ],
      "text/plain": [
       "<IPython.core.display.HTML object>"
      ]
     },
     "metadata": {},
     "output_type": "display_data"
    },
    {
     "data": {
      "text/html": [
       "Find logs at: <code>./wandb/run-20221123_173324-2r00d2vi/logs</code>"
      ],
      "text/plain": [
       "<IPython.core.display.HTML object>"
      ]
     },
     "metadata": {},
     "output_type": "display_data"
    },
    {
     "name": "stderr",
     "output_type": "stream",
     "text": [
      "\u001b[34m\u001b[1mwandb\u001b[0m: Agent Starting Run: 4l8yyyxc with config:\n",
      "\u001b[34m\u001b[1mwandb\u001b[0m: \tbatch_size: 96\n",
      "\u001b[34m\u001b[1mwandb\u001b[0m: \tdense1: 191\n",
      "\u001b[34m\u001b[1mwandb\u001b[0m: \tepochs: 25\n",
      "\u001b[34m\u001b[1mwandb\u001b[0m: \tlearning_rate: 0.09991082330437467\n",
      "\u001b[34m\u001b[1mwandb\u001b[0m: \tsize_1: 145\n",
      "\u001b[34m\u001b[1mwandb\u001b[0m: \tsize_2: 225\n",
      "\u001b[34m\u001b[1mwandb\u001b[0m: \tsize_3: 249\n"
     ]
    },
    {
     "data": {
      "text/html": [
       "Tracking run with wandb version 0.13.5"
      ],
      "text/plain": [
       "<IPython.core.display.HTML object>"
      ]
     },
     "metadata": {},
     "output_type": "display_data"
    },
    {
     "data": {
      "text/html": [
       "Run data is saved locally in <code>/home/oscar47/Desktop/P-ai/p-music/CNN_oscar/wandb/run-20221123_174428-4l8yyyxc</code>"
      ],
      "text/plain": [
       "<IPython.core.display.HTML object>"
      ]
     },
     "metadata": {},
     "output_type": "display_data"
    },
    {
     "data": {
      "text/html": [
       "Syncing run <strong><a href=\"https://wandb.ai/p-ai/Oscar%20CNN1/runs/4l8yyyxc\" target=\"_blank\">jolly-sweep-3</a></strong> to <a href=\"https://wandb.ai/p-ai/Oscar%20CNN1\" target=\"_blank\">Weights & Biases</a> (<a href=\"https://wandb.me/run\" target=\"_blank\">docs</a>)<br/>Sweep page:  <a href=\"https://wandb.ai/p-ai/Oscar%20CNN1/sweeps/wsxqxjvp\" target=\"_blank\">https://wandb.ai/p-ai/Oscar%20CNN1/sweeps/wsxqxjvp</a>"
      ],
      "text/plain": [
       "<IPython.core.display.HTML object>"
      ]
     },
     "metadata": {},
     "output_type": "display_data"
    },
    {
     "name": "stdout",
     "output_type": "stream",
     "text": [
      "Epoch 1/25\n",
      "15/15 [==============================] - ETA: 0s - loss: 606561789542400.0000"
     ]
    },
    {
     "name": "stderr",
     "output_type": "stream",
     "text": [
      "WARNING:absl:Found untraced functions such as _jit_compiled_convolution_op, _jit_compiled_convolution_op, _jit_compiled_convolution_op while saving (showing 3 of 3). These functions will not be directly callable after loading.\n"
     ]
    },
    {
     "name": "stdout",
     "output_type": "stream",
     "text": [
      "INFO:tensorflow:Assets written to: /home/oscar47/Desktop/P-ai/p-music/CNN_oscar/wandb/run-20221123_174428-4l8yyyxc/files/model-best/assets\n"
     ]
    },
    {
     "name": "stderr",
     "output_type": "stream",
     "text": [
      "INFO:tensorflow:Assets written to: /home/oscar47/Desktop/P-ai/p-music/CNN_oscar/wandb/run-20221123_174428-4l8yyyxc/files/model-best/assets\n",
      "\u001b[34m\u001b[1mwandb\u001b[0m: Adding directory to artifact (/home/oscar47/Desktop/P-ai/p-music/CNN_oscar/wandb/run-20221123_174428-4l8yyyxc/files/model-best)... Done. 0.5s\n"
     ]
    },
    {
     "name": "stdout",
     "output_type": "stream",
     "text": [
      "15/15 [==============================] - 45s 3s/step - loss: 606561789542400.0000 - val_loss: 2.0732\n",
      "Epoch 2/25\n",
      "15/15 [==============================] - 43s 3s/step - loss: 2.2693 - val_loss: 2.4057\n",
      "Epoch 3/25\n",
      "15/15 [==============================] - 42s 3s/step - loss: 56136.9102 - val_loss: 2.4830\n",
      "Epoch 4/25\n",
      "15/15 [==============================] - 43s 3s/step - loss: 2.4912 - val_loss: 2.2251\n",
      "Epoch 5/25\n",
      "15/15 [==============================] - ETA: 0s - loss: 0.6632"
     ]
    },
    {
     "name": "stderr",
     "output_type": "stream",
     "text": [
      "WARNING:absl:Found untraced functions such as _jit_compiled_convolution_op, _jit_compiled_convolution_op, _jit_compiled_convolution_op while saving (showing 3 of 3). These functions will not be directly callable after loading.\n"
     ]
    },
    {
     "name": "stdout",
     "output_type": "stream",
     "text": [
      "INFO:tensorflow:Assets written to: /home/oscar47/Desktop/P-ai/p-music/CNN_oscar/wandb/run-20221123_174428-4l8yyyxc/files/model-best/assets\n"
     ]
    },
    {
     "name": "stderr",
     "output_type": "stream",
     "text": [
      "INFO:tensorflow:Assets written to: /home/oscar47/Desktop/P-ai/p-music/CNN_oscar/wandb/run-20221123_174428-4l8yyyxc/files/model-best/assets\n",
      "\u001b[34m\u001b[1mwandb\u001b[0m: Adding directory to artifact (/home/oscar47/Desktop/P-ai/p-music/CNN_oscar/wandb/run-20221123_174428-4l8yyyxc/files/model-best)... Done. 0.5s\n"
     ]
    },
    {
     "name": "stdout",
     "output_type": "stream",
     "text": [
      "15/15 [==============================] - 44s 3s/step - loss: 0.6632 - val_loss: 0.2124\n",
      "Epoch 6/25\n",
      "15/15 [==============================] - ETA: 0s - loss: 0.1799"
     ]
    },
    {
     "name": "stderr",
     "output_type": "stream",
     "text": [
      "WARNING:absl:Found untraced functions such as _jit_compiled_convolution_op, _jit_compiled_convolution_op, _jit_compiled_convolution_op while saving (showing 3 of 3). These functions will not be directly callable after loading.\n"
     ]
    },
    {
     "name": "stdout",
     "output_type": "stream",
     "text": [
      "INFO:tensorflow:Assets written to: /home/oscar47/Desktop/P-ai/p-music/CNN_oscar/wandb/run-20221123_174428-4l8yyyxc/files/model-best/assets\n"
     ]
    },
    {
     "name": "stderr",
     "output_type": "stream",
     "text": [
      "INFO:tensorflow:Assets written to: /home/oscar47/Desktop/P-ai/p-music/CNN_oscar/wandb/run-20221123_174428-4l8yyyxc/files/model-best/assets\n",
      "\u001b[34m\u001b[1mwandb\u001b[0m: Adding directory to artifact (/home/oscar47/Desktop/P-ai/p-music/CNN_oscar/wandb/run-20221123_174428-4l8yyyxc/files/model-best)... Done. 0.5s\n"
     ]
    },
    {
     "name": "stdout",
     "output_type": "stream",
     "text": [
      "15/15 [==============================] - 44s 3s/step - loss: 0.1799 - val_loss: 0.0023\n",
      "Epoch 7/25\n",
      "15/15 [==============================] - 43s 3s/step - loss: 0.0237 - val_loss: 0.0146\n",
      "Epoch 8/25\n",
      "15/15 [==============================] - 42s 3s/step - loss: 0.0052 - val_loss: 0.0060\n",
      "Epoch 9/25\n",
      "15/15 [==============================] - ETA: 0s - loss: 0.0029"
     ]
    },
    {
     "name": "stderr",
     "output_type": "stream",
     "text": [
      "WARNING:absl:Found untraced functions such as _jit_compiled_convolution_op, _jit_compiled_convolution_op, _jit_compiled_convolution_op while saving (showing 3 of 3). These functions will not be directly callable after loading.\n"
     ]
    },
    {
     "name": "stdout",
     "output_type": "stream",
     "text": [
      "INFO:tensorflow:Assets written to: /home/oscar47/Desktop/P-ai/p-music/CNN_oscar/wandb/run-20221123_174428-4l8yyyxc/files/model-best/assets\n"
     ]
    },
    {
     "name": "stderr",
     "output_type": "stream",
     "text": [
      "INFO:tensorflow:Assets written to: /home/oscar47/Desktop/P-ai/p-music/CNN_oscar/wandb/run-20221123_174428-4l8yyyxc/files/model-best/assets\n",
      "\u001b[34m\u001b[1mwandb\u001b[0m: Adding directory to artifact (/home/oscar47/Desktop/P-ai/p-music/CNN_oscar/wandb/run-20221123_174428-4l8yyyxc/files/model-best)... Done. 0.5s\n"
     ]
    },
    {
     "name": "stdout",
     "output_type": "stream",
     "text": [
      "15/15 [==============================] - 44s 3s/step - loss: 0.0029 - val_loss: 0.0021\n",
      "Epoch 10/25\n",
      "15/15 [==============================] - ETA: 0s - loss: 0.0020"
     ]
    },
    {
     "name": "stderr",
     "output_type": "stream",
     "text": [
      "WARNING:absl:Found untraced functions such as _jit_compiled_convolution_op, _jit_compiled_convolution_op, _jit_compiled_convolution_op while saving (showing 3 of 3). These functions will not be directly callable after loading.\n"
     ]
    },
    {
     "name": "stdout",
     "output_type": "stream",
     "text": [
      "INFO:tensorflow:Assets written to: /home/oscar47/Desktop/P-ai/p-music/CNN_oscar/wandb/run-20221123_174428-4l8yyyxc/files/model-best/assets\n"
     ]
    },
    {
     "name": "stderr",
     "output_type": "stream",
     "text": [
      "INFO:tensorflow:Assets written to: /home/oscar47/Desktop/P-ai/p-music/CNN_oscar/wandb/run-20221123_174428-4l8yyyxc/files/model-best/assets\n",
      "\u001b[34m\u001b[1mwandb\u001b[0m: Adding directory to artifact (/home/oscar47/Desktop/P-ai/p-music/CNN_oscar/wandb/run-20221123_174428-4l8yyyxc/files/model-best)... Done. 0.5s\n"
     ]
    },
    {
     "name": "stdout",
     "output_type": "stream",
     "text": [
      "15/15 [==============================] - 44s 3s/step - loss: 0.0020 - val_loss: 0.0016\n",
      "Epoch 11/25\n",
      "15/15 [==============================] - ETA: 0s - loss: 0.0017"
     ]
    },
    {
     "name": "stderr",
     "output_type": "stream",
     "text": [
      "WARNING:absl:Found untraced functions such as _jit_compiled_convolution_op, _jit_compiled_convolution_op, _jit_compiled_convolution_op while saving (showing 3 of 3). These functions will not be directly callable after loading.\n"
     ]
    },
    {
     "name": "stdout",
     "output_type": "stream",
     "text": [
      "INFO:tensorflow:Assets written to: /home/oscar47/Desktop/P-ai/p-music/CNN_oscar/wandb/run-20221123_174428-4l8yyyxc/files/model-best/assets\n"
     ]
    },
    {
     "name": "stderr",
     "output_type": "stream",
     "text": [
      "INFO:tensorflow:Assets written to: /home/oscar47/Desktop/P-ai/p-music/CNN_oscar/wandb/run-20221123_174428-4l8yyyxc/files/model-best/assets\n",
      "\u001b[34m\u001b[1mwandb\u001b[0m: Adding directory to artifact (/home/oscar47/Desktop/P-ai/p-music/CNN_oscar/wandb/run-20221123_174428-4l8yyyxc/files/model-best)... Done. 0.5s\n"
     ]
    },
    {
     "name": "stdout",
     "output_type": "stream",
     "text": [
      "15/15 [==============================] - 44s 3s/step - loss: 0.0017 - val_loss: 0.0015\n",
      "Epoch 12/25\n",
      "15/15 [==============================] - 42s 3s/step - loss: 0.0016 - val_loss: 0.0016\n",
      "Epoch 13/25\n",
      "15/15 [==============================] - 42s 3s/step - loss: 0.0016 - val_loss: 0.0016\n",
      "Epoch 14/25\n",
      "15/15 [==============================] - ETA: 0s - loss: 0.0016"
     ]
    },
    {
     "name": "stderr",
     "output_type": "stream",
     "text": [
      "WARNING:absl:Found untraced functions such as _jit_compiled_convolution_op, _jit_compiled_convolution_op, _jit_compiled_convolution_op while saving (showing 3 of 3). These functions will not be directly callable after loading.\n"
     ]
    },
    {
     "name": "stdout",
     "output_type": "stream",
     "text": [
      "INFO:tensorflow:Assets written to: /home/oscar47/Desktop/P-ai/p-music/CNN_oscar/wandb/run-20221123_174428-4l8yyyxc/files/model-best/assets\n"
     ]
    },
    {
     "name": "stderr",
     "output_type": "stream",
     "text": [
      "INFO:tensorflow:Assets written to: /home/oscar47/Desktop/P-ai/p-music/CNN_oscar/wandb/run-20221123_174428-4l8yyyxc/files/model-best/assets\n",
      "\u001b[34m\u001b[1mwandb\u001b[0m: Adding directory to artifact (/home/oscar47/Desktop/P-ai/p-music/CNN_oscar/wandb/run-20221123_174428-4l8yyyxc/files/model-best)... Done. 0.5s\n"
     ]
    },
    {
     "name": "stdout",
     "output_type": "stream",
     "text": [
      "15/15 [==============================] - 44s 3s/step - loss: 0.0016 - val_loss: 0.0015\n",
      "Epoch 15/25\n",
      "15/15 [==============================] - 43s 3s/step - loss: 0.0016 - val_loss: 0.0015\n",
      "Epoch 16/25\n",
      "15/15 [==============================] - 42s 3s/step - loss: 0.0016 - val_loss: 0.0015\n",
      "Epoch 17/25\n",
      "15/15 [==============================] - 42s 3s/step - loss: 0.0016 - val_loss: 0.0015\n",
      "Epoch 18/25\n",
      "15/15 [==============================] - ETA: 0s - loss: 0.0016"
     ]
    },
    {
     "name": "stderr",
     "output_type": "stream",
     "text": [
      "WARNING:absl:Found untraced functions such as _jit_compiled_convolution_op, _jit_compiled_convolution_op, _jit_compiled_convolution_op while saving (showing 3 of 3). These functions will not be directly callable after loading.\n"
     ]
    },
    {
     "name": "stdout",
     "output_type": "stream",
     "text": [
      "INFO:tensorflow:Assets written to: /home/oscar47/Desktop/P-ai/p-music/CNN_oscar/wandb/run-20221123_174428-4l8yyyxc/files/model-best/assets\n"
     ]
    },
    {
     "name": "stderr",
     "output_type": "stream",
     "text": [
      "INFO:tensorflow:Assets written to: /home/oscar47/Desktop/P-ai/p-music/CNN_oscar/wandb/run-20221123_174428-4l8yyyxc/files/model-best/assets\n",
      "\u001b[34m\u001b[1mwandb\u001b[0m: Adding directory to artifact (/home/oscar47/Desktop/P-ai/p-music/CNN_oscar/wandb/run-20221123_174428-4l8yyyxc/files/model-best)... Done. 0.5s\n"
     ]
    },
    {
     "name": "stdout",
     "output_type": "stream",
     "text": [
      "15/15 [==============================] - 44s 3s/step - loss: 0.0016 - val_loss: 0.0015\n",
      "Epoch 19/25\n",
      "15/15 [==============================] - 42s 3s/step - loss: 0.0016 - val_loss: 0.0015\n",
      "Epoch 20/25\n",
      "15/15 [==============================] - 42s 3s/step - loss: 0.0016 - val_loss: 0.0015\n",
      "Epoch 21/25\n",
      "15/15 [==============================] - 42s 3s/step - loss: 0.0016 - val_loss: 0.0015\n",
      "Epoch 22/25\n",
      "15/15 [==============================] - 42s 3s/step - loss: 0.0016 - val_loss: 0.0015\n",
      "Epoch 23/25\n",
      "15/15 [==============================] - 42s 3s/step - loss: 0.0016 - val_loss: 0.0015\n",
      "Epoch 24/25\n",
      "15/15 [==============================] - 42s 3s/step - loss: 0.0016 - val_loss: 0.0016\n",
      "Epoch 25/25\n",
      "15/15 [==============================] - 42s 3s/step - loss: 0.0016 - val_loss: 0.0015\n"
     ]
    },
    {
     "data": {
      "text/html": [
       "Waiting for W&B process to finish... <strong style=\"color:green\">(success).</strong>"
      ],
      "text/plain": [
       "<IPython.core.display.HTML object>"
      ]
     },
     "metadata": {},
     "output_type": "display_data"
    },
    {
     "data": {
      "text/html": [
       "<style>\n",
       "    table.wandb td:nth-child(1) { padding: 0 10px; text-align: left ; width: auto;} td:nth-child(2) {text-align: left ; width: 100%}\n",
       "    .wandb-row { display: flex; flex-direction: row; flex-wrap: wrap; justify-content: flex-start; width: 100% }\n",
       "    .wandb-col { display: flex; flex-direction: column; flex-basis: 100%; flex: 1; padding: 10px; }\n",
       "    </style>\n",
       "<div class=\"wandb-row\"><div class=\"wandb-col\"><h3>Run history:</h3><br/><table class=\"wandb\"><tr><td>epoch</td><td>▁▁▂▂▂▂▃▃▃▄▄▄▅▅▅▅▆▆▆▇▇▇▇██</td></tr><tr><td>loss</td><td>█▁▁▁▁▁▁▁▁▁▁▁▁▁▁▁▁▁▁▁▁▁▁▁▁</td></tr><tr><td>val_loss</td><td>▇██▇▂▁▁▁▁▁▁▁▁▁▁▁▁▁▁▁▁▁▁▁▁</td></tr></table><br/></div><div class=\"wandb-col\"><h3>Run summary:</h3><br/><table class=\"wandb\"><tr><td>best_epoch</td><td>17</td></tr><tr><td>best_val_loss</td><td>0.00154</td></tr><tr><td>epoch</td><td>24</td></tr><tr><td>loss</td><td>0.00161</td></tr><tr><td>val_loss</td><td>0.00155</td></tr></table><br/></div></div>"
      ],
      "text/plain": [
       "<IPython.core.display.HTML object>"
      ]
     },
     "metadata": {},
     "output_type": "display_data"
    },
    {
     "data": {
      "text/html": [
       "Synced <strong style=\"color:#cdcd00\">jolly-sweep-3</strong>: <a href=\"https://wandb.ai/p-ai/Oscar%20CNN1/runs/4l8yyyxc\" target=\"_blank\">https://wandb.ai/p-ai/Oscar%20CNN1/runs/4l8yyyxc</a><br/>Synced 6 W&B file(s), 1 media file(s), 33 artifact file(s) and 1 other file(s)"
      ],
      "text/plain": [
       "<IPython.core.display.HTML object>"
      ]
     },
     "metadata": {},
     "output_type": "display_data"
    },
    {
     "data": {
      "text/html": [
       "Find logs at: <code>./wandb/run-20221123_174428-4l8yyyxc/logs</code>"
      ],
      "text/plain": [
       "<IPython.core.display.HTML object>"
      ]
     },
     "metadata": {},
     "output_type": "display_data"
    },
    {
     "name": "stderr",
     "output_type": "stream",
     "text": [
      "\u001b[34m\u001b[1mwandb\u001b[0m: Agent Starting Run: bik2secq with config:\n",
      "\u001b[34m\u001b[1mwandb\u001b[0m: \tbatch_size: 32\n",
      "\u001b[34m\u001b[1mwandb\u001b[0m: \tdense1: 75\n",
      "\u001b[34m\u001b[1mwandb\u001b[0m: \tepochs: 22\n",
      "\u001b[34m\u001b[1mwandb\u001b[0m: \tlearning_rate: 0.09977591946150356\n",
      "\u001b[34m\u001b[1mwandb\u001b[0m: \tsize_1: 66\n",
      "\u001b[34m\u001b[1mwandb\u001b[0m: \tsize_2: 141\n",
      "\u001b[34m\u001b[1mwandb\u001b[0m: \tsize_3: 68\n"
     ]
    },
    {
     "data": {
      "text/html": [
       "Tracking run with wandb version 0.13.5"
      ],
      "text/plain": [
       "<IPython.core.display.HTML object>"
      ]
     },
     "metadata": {},
     "output_type": "display_data"
    },
    {
     "data": {
      "text/html": [
       "Run data is saved locally in <code>/home/oscar47/Desktop/P-ai/p-music/CNN_oscar/wandb/run-20221123_180240-bik2secq</code>"
      ],
      "text/plain": [
       "<IPython.core.display.HTML object>"
      ]
     },
     "metadata": {},
     "output_type": "display_data"
    },
    {
     "data": {
      "text/html": [
       "Syncing run <strong><a href=\"https://wandb.ai/p-ai/Oscar%20CNN1/runs/bik2secq\" target=\"_blank\">dutiful-sweep-4</a></strong> to <a href=\"https://wandb.ai/p-ai/Oscar%20CNN1\" target=\"_blank\">Weights & Biases</a> (<a href=\"https://wandb.me/run\" target=\"_blank\">docs</a>)<br/>Sweep page:  <a href=\"https://wandb.ai/p-ai/Oscar%20CNN1/sweeps/wsxqxjvp\" target=\"_blank\">https://wandb.ai/p-ai/Oscar%20CNN1/sweeps/wsxqxjvp</a>"
      ],
      "text/plain": [
       "<IPython.core.display.HTML object>"
      ]
     },
     "metadata": {},
     "output_type": "display_data"
    },
    {
     "name": "stdout",
     "output_type": "stream",
     "text": [
      "Epoch 1/22\n",
      "45/45 [==============================] - ETA: 0s - loss: 3950824390656.0000"
     ]
    },
    {
     "name": "stderr",
     "output_type": "stream",
     "text": [
      "WARNING:absl:Found untraced functions such as _jit_compiled_convolution_op, _jit_compiled_convolution_op, _jit_compiled_convolution_op while saving (showing 3 of 3). These functions will not be directly callable after loading.\n"
     ]
    },
    {
     "name": "stdout",
     "output_type": "stream",
     "text": [
      "INFO:tensorflow:Assets written to: /home/oscar47/Desktop/P-ai/p-music/CNN_oscar/wandb/run-20221123_180240-bik2secq/files/model-best/assets\n"
     ]
    },
    {
     "name": "stderr",
     "output_type": "stream",
     "text": [
      "INFO:tensorflow:Assets written to: /home/oscar47/Desktop/P-ai/p-music/CNN_oscar/wandb/run-20221123_180240-bik2secq/files/model-best/assets\n",
      "\u001b[34m\u001b[1mwandb\u001b[0m: Adding directory to artifact (/home/oscar47/Desktop/P-ai/p-music/CNN_oscar/wandb/run-20221123_180240-bik2secq/files/model-best)... Done. 0.1s\n"
     ]
    },
    {
     "name": "stdout",
     "output_type": "stream",
     "text": [
      "45/45 [==============================] - 16s 359ms/step - loss: 3950824390656.0000 - val_loss: 56358.5117\n",
      "Epoch 2/22\n",
      "45/45 [==============================] - ETA: 0s - loss: 18091.3242"
     ]
    },
    {
     "name": "stderr",
     "output_type": "stream",
     "text": [
      "WARNING:absl:Found untraced functions such as _jit_compiled_convolution_op, _jit_compiled_convolution_op, _jit_compiled_convolution_op while saving (showing 3 of 3). These functions will not be directly callable after loading.\n"
     ]
    },
    {
     "name": "stdout",
     "output_type": "stream",
     "text": [
      "INFO:tensorflow:Assets written to: /home/oscar47/Desktop/P-ai/p-music/CNN_oscar/wandb/run-20221123_180240-bik2secq/files/model-best/assets\n"
     ]
    },
    {
     "name": "stderr",
     "output_type": "stream",
     "text": [
      "INFO:tensorflow:Assets written to: /home/oscar47/Desktop/P-ai/p-music/CNN_oscar/wandb/run-20221123_180240-bik2secq/files/model-best/assets\n",
      "\u001b[34m\u001b[1mwandb\u001b[0m: Adding directory to artifact (/home/oscar47/Desktop/P-ai/p-music/CNN_oscar/wandb/run-20221123_180240-bik2secq/files/model-best)... Done. 0.1s\n"
     ]
    },
    {
     "name": "stdout",
     "output_type": "stream",
     "text": [
      "45/45 [==============================] - 16s 347ms/step - loss: 18091.3242 - val_loss: 2.1571\n",
      "Epoch 3/22\n",
      "45/45 [==============================] - ETA: 0s - loss: 225.2723"
     ]
    },
    {
     "name": "stderr",
     "output_type": "stream",
     "text": [
      "WARNING:absl:Found untraced functions such as _jit_compiled_convolution_op, _jit_compiled_convolution_op, _jit_compiled_convolution_op while saving (showing 3 of 3). These functions will not be directly callable after loading.\n"
     ]
    },
    {
     "name": "stdout",
     "output_type": "stream",
     "text": [
      "INFO:tensorflow:Assets written to: /home/oscar47/Desktop/P-ai/p-music/CNN_oscar/wandb/run-20221123_180240-bik2secq/files/model-best/assets\n"
     ]
    },
    {
     "name": "stderr",
     "output_type": "stream",
     "text": [
      "INFO:tensorflow:Assets written to: /home/oscar47/Desktop/P-ai/p-music/CNN_oscar/wandb/run-20221123_180240-bik2secq/files/model-best/assets\n",
      "\u001b[34m\u001b[1mwandb\u001b[0m: Adding directory to artifact (/home/oscar47/Desktop/P-ai/p-music/CNN_oscar/wandb/run-20221123_180240-bik2secq/files/model-best)... Done. 0.1s\n"
     ]
    },
    {
     "name": "stdout",
     "output_type": "stream",
     "text": [
      "45/45 [==============================] - 16s 346ms/step - loss: 225.2723 - val_loss: 1.0482\n",
      "Epoch 4/22\n",
      "45/45 [==============================] - ETA: 0s - loss: 2.9090"
     ]
    },
    {
     "name": "stderr",
     "output_type": "stream",
     "text": [
      "WARNING:absl:Found untraced functions such as _jit_compiled_convolution_op, _jit_compiled_convolution_op, _jit_compiled_convolution_op while saving (showing 3 of 3). These functions will not be directly callable after loading.\n"
     ]
    },
    {
     "name": "stdout",
     "output_type": "stream",
     "text": [
      "INFO:tensorflow:Assets written to: /home/oscar47/Desktop/P-ai/p-music/CNN_oscar/wandb/run-20221123_180240-bik2secq/files/model-best/assets\n"
     ]
    },
    {
     "name": "stderr",
     "output_type": "stream",
     "text": [
      "INFO:tensorflow:Assets written to: /home/oscar47/Desktop/P-ai/p-music/CNN_oscar/wandb/run-20221123_180240-bik2secq/files/model-best/assets\n",
      "\u001b[34m\u001b[1mwandb\u001b[0m: Adding directory to artifact (/home/oscar47/Desktop/P-ai/p-music/CNN_oscar/wandb/run-20221123_180240-bik2secq/files/model-best)... Done. 0.1s\n"
     ]
    },
    {
     "name": "stdout",
     "output_type": "stream",
     "text": [
      "45/45 [==============================] - 16s 350ms/step - loss: 2.9090 - val_loss: 0.0605\n",
      "Epoch 5/22\n",
      "45/45 [==============================] - 15s 335ms/step - loss: 138097.8594 - val_loss: 643845.9375\n",
      "Epoch 6/22\n",
      "45/45 [==============================] - 15s 333ms/step - loss: 122930.2188 - val_loss: 4.0442\n",
      "Epoch 7/22\n",
      "45/45 [==============================] - 15s 333ms/step - loss: 831.3075 - val_loss: 33.9655\n",
      "Epoch 8/22\n",
      "45/45 [==============================] - ETA: 0s - loss: 8.2339"
     ]
    },
    {
     "name": "stderr",
     "output_type": "stream",
     "text": [
      "WARNING:absl:Found untraced functions such as _jit_compiled_convolution_op, _jit_compiled_convolution_op, _jit_compiled_convolution_op while saving (showing 3 of 3). These functions will not be directly callable after loading.\n"
     ]
    },
    {
     "name": "stdout",
     "output_type": "stream",
     "text": [
      "INFO:tensorflow:Assets written to: /home/oscar47/Desktop/P-ai/p-music/CNN_oscar/wandb/run-20221123_180240-bik2secq/files/model-best/assets\n"
     ]
    },
    {
     "name": "stderr",
     "output_type": "stream",
     "text": [
      "INFO:tensorflow:Assets written to: /home/oscar47/Desktop/P-ai/p-music/CNN_oscar/wandb/run-20221123_180240-bik2secq/files/model-best/assets\n",
      "\u001b[34m\u001b[1mwandb\u001b[0m: Adding directory to artifact (/home/oscar47/Desktop/P-ai/p-music/CNN_oscar/wandb/run-20221123_180240-bik2secq/files/model-best)... Done. 0.1s\n"
     ]
    },
    {
     "name": "stdout",
     "output_type": "stream",
     "text": [
      "45/45 [==============================] - 15s 344ms/step - loss: 8.2339 - val_loss: 0.0076\n",
      "Epoch 9/22\n",
      "45/45 [==============================] - ETA: 0s - loss: 0.0874"
     ]
    },
    {
     "name": "stderr",
     "output_type": "stream",
     "text": [
      "WARNING:absl:Found untraced functions such as _jit_compiled_convolution_op, _jit_compiled_convolution_op, _jit_compiled_convolution_op while saving (showing 3 of 3). These functions will not be directly callable after loading.\n"
     ]
    },
    {
     "name": "stdout",
     "output_type": "stream",
     "text": [
      "INFO:tensorflow:Assets written to: /home/oscar47/Desktop/P-ai/p-music/CNN_oscar/wandb/run-20221123_180240-bik2secq/files/model-best/assets\n"
     ]
    },
    {
     "name": "stderr",
     "output_type": "stream",
     "text": [
      "INFO:tensorflow:Assets written to: /home/oscar47/Desktop/P-ai/p-music/CNN_oscar/wandb/run-20221123_180240-bik2secq/files/model-best/assets\n",
      "\u001b[34m\u001b[1mwandb\u001b[0m: Adding directory to artifact (/home/oscar47/Desktop/P-ai/p-music/CNN_oscar/wandb/run-20221123_180240-bik2secq/files/model-best)... Done. 0.1s\n"
     ]
    },
    {
     "name": "stdout",
     "output_type": "stream",
     "text": [
      "45/45 [==============================] - 16s 346ms/step - loss: 0.0874 - val_loss: 0.0018\n",
      "Epoch 10/22\n",
      "45/45 [==============================] - 15s 336ms/step - loss: 0.0041 - val_loss: 0.0047\n",
      "Epoch 11/22\n",
      "45/45 [==============================] - ETA: 0s - loss: 0.0031"
     ]
    },
    {
     "name": "stderr",
     "output_type": "stream",
     "text": [
      "WARNING:absl:Found untraced functions such as _jit_compiled_convolution_op, _jit_compiled_convolution_op, _jit_compiled_convolution_op while saving (showing 3 of 3). These functions will not be directly callable after loading.\n"
     ]
    },
    {
     "name": "stdout",
     "output_type": "stream",
     "text": [
      "INFO:tensorflow:Assets written to: /home/oscar47/Desktop/P-ai/p-music/CNN_oscar/wandb/run-20221123_180240-bik2secq/files/model-best/assets\n"
     ]
    },
    {
     "name": "stderr",
     "output_type": "stream",
     "text": [
      "INFO:tensorflow:Assets written to: /home/oscar47/Desktop/P-ai/p-music/CNN_oscar/wandb/run-20221123_180240-bik2secq/files/model-best/assets\n",
      "\u001b[34m\u001b[1mwandb\u001b[0m: Adding directory to artifact (/home/oscar47/Desktop/P-ai/p-music/CNN_oscar/wandb/run-20221123_180240-bik2secq/files/model-best)... Done. 0.1s\n"
     ]
    },
    {
     "name": "stdout",
     "output_type": "stream",
     "text": [
      "45/45 [==============================] - 15s 345ms/step - loss: 0.0031 - val_loss: 0.0016\n",
      "Epoch 12/22\n",
      "45/45 [==============================] - 15s 334ms/step - loss: 0.0029 - val_loss: 0.0207\n",
      "Epoch 13/22\n",
      "45/45 [==============================] - 15s 334ms/step - loss: 0.0094 - val_loss: 0.0061\n",
      "Epoch 14/22\n",
      "45/45 [==============================] - ETA: 0s - loss: 0.0162"
     ]
    },
    {
     "name": "stderr",
     "output_type": "stream",
     "text": [
      "WARNING:absl:Found untraced functions such as _jit_compiled_convolution_op, _jit_compiled_convolution_op, _jit_compiled_convolution_op while saving (showing 3 of 3). These functions will not be directly callable after loading.\n"
     ]
    },
    {
     "name": "stdout",
     "output_type": "stream",
     "text": [
      "INFO:tensorflow:Assets written to: /home/oscar47/Desktop/P-ai/p-music/CNN_oscar/wandb/run-20221123_180240-bik2secq/files/model-best/assets\n"
     ]
    },
    {
     "name": "stderr",
     "output_type": "stream",
     "text": [
      "INFO:tensorflow:Assets written to: /home/oscar47/Desktop/P-ai/p-music/CNN_oscar/wandb/run-20221123_180240-bik2secq/files/model-best/assets\n",
      "\u001b[34m\u001b[1mwandb\u001b[0m: Adding directory to artifact (/home/oscar47/Desktop/P-ai/p-music/CNN_oscar/wandb/run-20221123_180240-bik2secq/files/model-best)... Done. 0.1s\n"
     ]
    },
    {
     "name": "stdout",
     "output_type": "stream",
     "text": [
      "45/45 [==============================] - 16s 345ms/step - loss: 0.0162 - val_loss: 0.0015\n",
      "Epoch 15/22\n",
      "45/45 [==============================] - 15s 333ms/step - loss: 0.0751 - val_loss: 0.0614\n",
      "Epoch 16/22\n",
      "45/45 [==============================] - 15s 334ms/step - loss: 66588.1875 - val_loss: 394289.1562\n",
      "Epoch 17/22\n",
      "45/45 [==============================] - 15s 333ms/step - loss: 73903.8984 - val_loss: 623.1874\n",
      "Epoch 18/22\n",
      "45/45 [==============================] - 15s 334ms/step - loss: 474.9774 - val_loss: 19.8662\n",
      "Epoch 19/22\n",
      "45/45 [==============================] - 15s 334ms/step - loss: 4.3693 - val_loss: 0.0591\n",
      "Epoch 20/22\n",
      "45/45 [==============================] - 15s 334ms/step - loss: 0.0376 - val_loss: 0.0024\n",
      "Epoch 21/22\n",
      "45/45 [==============================] - 15s 340ms/step - loss: 0.0028 - val_loss: 0.0025\n",
      "Epoch 22/22\n",
      "45/45 [==============================] - 15s 337ms/step - loss: 0.0029 - val_loss: 0.0034\n"
     ]
    },
    {
     "data": {
      "text/html": [
       "Waiting for W&B process to finish... <strong style=\"color:green\">(success).</strong>"
      ],
      "text/plain": [
       "<IPython.core.display.HTML object>"
      ]
     },
     "metadata": {},
     "output_type": "display_data"
    },
    {
     "data": {
      "text/html": [
       "<style>\n",
       "    table.wandb td:nth-child(1) { padding: 0 10px; text-align: left ; width: auto;} td:nth-child(2) {text-align: left ; width: 100%}\n",
       "    .wandb-row { display: flex; flex-direction: row; flex-wrap: wrap; justify-content: flex-start; width: 100% }\n",
       "    .wandb-col { display: flex; flex-direction: column; flex-basis: 100%; flex: 1; padding: 10px; }\n",
       "    </style>\n",
       "<div class=\"wandb-row\"><div class=\"wandb-col\"><h3>Run history:</h3><br/><table class=\"wandb\"><tr><td>epoch</td><td>▁▁▂▂▂▃▃▃▄▄▄▅▅▅▆▆▆▇▇▇██</td></tr><tr><td>loss</td><td>█▁▁▁▁▁▁▁▁▁▁▁▁▁▁▁▁▁▁▁▁▁</td></tr><tr><td>val_loss</td><td>▂▁▁▁█▁▁▁▁▁▁▁▁▁▁▅▁▁▁▁▁▁</td></tr></table><br/></div><div class=\"wandb-col\"><h3>Run summary:</h3><br/><table class=\"wandb\"><tr><td>best_epoch</td><td>13</td></tr><tr><td>best_val_loss</td><td>0.00154</td></tr><tr><td>epoch</td><td>21</td></tr><tr><td>loss</td><td>0.00287</td></tr><tr><td>val_loss</td><td>0.00344</td></tr></table><br/></div></div>"
      ],
      "text/plain": [
       "<IPython.core.display.HTML object>"
      ]
     },
     "metadata": {},
     "output_type": "display_data"
    },
    {
     "data": {
      "text/html": [
       "Synced <strong style=\"color:#cdcd00\">dutiful-sweep-4</strong>: <a href=\"https://wandb.ai/p-ai/Oscar%20CNN1/runs/bik2secq\" target=\"_blank\">https://wandb.ai/p-ai/Oscar%20CNN1/runs/bik2secq</a><br/>Synced 6 W&B file(s), 1 media file(s), 33 artifact file(s) and 1 other file(s)"
      ],
      "text/plain": [
       "<IPython.core.display.HTML object>"
      ]
     },
     "metadata": {},
     "output_type": "display_data"
    },
    {
     "data": {
      "text/html": [
       "Find logs at: <code>./wandb/run-20221123_180240-bik2secq/logs</code>"
      ],
      "text/plain": [
       "<IPython.core.display.HTML object>"
      ]
     },
     "metadata": {},
     "output_type": "display_data"
    },
    {
     "name": "stderr",
     "output_type": "stream",
     "text": [
      "\u001b[34m\u001b[1mwandb\u001b[0m: Agent Starting Run: of6ue10c with config:\n",
      "\u001b[34m\u001b[1mwandb\u001b[0m: \tbatch_size: 128\n",
      "\u001b[34m\u001b[1mwandb\u001b[0m: \tdense1: 87\n",
      "\u001b[34m\u001b[1mwandb\u001b[0m: \tepochs: 28\n",
      "\u001b[34m\u001b[1mwandb\u001b[0m: \tlearning_rate: 0.06926510778353824\n",
      "\u001b[34m\u001b[1mwandb\u001b[0m: \tsize_1: 184\n",
      "\u001b[34m\u001b[1mwandb\u001b[0m: \tsize_2: 149\n",
      "\u001b[34m\u001b[1mwandb\u001b[0m: \tsize_3: 134\n"
     ]
    },
    {
     "data": {
      "text/html": [
       "Tracking run with wandb version 0.13.5"
      ],
      "text/plain": [
       "<IPython.core.display.HTML object>"
      ]
     },
     "metadata": {},
     "output_type": "display_data"
    },
    {
     "data": {
      "text/html": [
       "Run data is saved locally in <code>/home/oscar47/Desktop/P-ai/p-music/CNN_oscar/wandb/run-20221123_180831-of6ue10c</code>"
      ],
      "text/plain": [
       "<IPython.core.display.HTML object>"
      ]
     },
     "metadata": {},
     "output_type": "display_data"
    },
    {
     "data": {
      "text/html": [
       "Syncing run <strong><a href=\"https://wandb.ai/p-ai/Oscar%20CNN1/runs/of6ue10c\" target=\"_blank\">magic-sweep-5</a></strong> to <a href=\"https://wandb.ai/p-ai/Oscar%20CNN1\" target=\"_blank\">Weights & Biases</a> (<a href=\"https://wandb.me/run\" target=\"_blank\">docs</a>)<br/>Sweep page:  <a href=\"https://wandb.ai/p-ai/Oscar%20CNN1/sweeps/wsxqxjvp\" target=\"_blank\">https://wandb.ai/p-ai/Oscar%20CNN1/sweeps/wsxqxjvp</a>"
      ],
      "text/plain": [
       "<IPython.core.display.HTML object>"
      ]
     },
     "metadata": {},
     "output_type": "display_data"
    },
    {
     "name": "stdout",
     "output_type": "stream",
     "text": [
      "Epoch 1/28\n",
      "12/12 [==============================] - ETA: 0s - loss: 2734305312768.0000"
     ]
    },
    {
     "name": "stderr",
     "output_type": "stream",
     "text": [
      "WARNING:absl:Found untraced functions such as _jit_compiled_convolution_op, _jit_compiled_convolution_op, _jit_compiled_convolution_op while saving (showing 3 of 3). These functions will not be directly callable after loading.\n"
     ]
    },
    {
     "name": "stdout",
     "output_type": "stream",
     "text": [
      "INFO:tensorflow:Assets written to: /home/oscar47/Desktop/P-ai/p-music/CNN_oscar/wandb/run-20221123_180831-of6ue10c/files/model-best/assets\n"
     ]
    },
    {
     "name": "stderr",
     "output_type": "stream",
     "text": [
      "INFO:tensorflow:Assets written to: /home/oscar47/Desktop/P-ai/p-music/CNN_oscar/wandb/run-20221123_180831-of6ue10c/files/model-best/assets\n",
      "\u001b[34m\u001b[1mwandb\u001b[0m: Adding directory to artifact (/home/oscar47/Desktop/P-ai/p-music/CNN_oscar/wandb/run-20221123_180831-of6ue10c/files/model-best)... Done. 0.2s\n"
     ]
    },
    {
     "name": "stdout",
     "output_type": "stream",
     "text": [
      "12/12 [==============================] - 37s 3s/step - loss: 2734305312768.0000 - val_loss: 1.3468\n",
      "Epoch 2/28\n",
      "12/12 [==============================] - ETA: 0s - loss: 1.3106"
     ]
    },
    {
     "name": "stderr",
     "output_type": "stream",
     "text": [
      "WARNING:absl:Found untraced functions such as _jit_compiled_convolution_op, _jit_compiled_convolution_op, _jit_compiled_convolution_op while saving (showing 3 of 3). These functions will not be directly callable after loading.\n"
     ]
    },
    {
     "name": "stdout",
     "output_type": "stream",
     "text": [
      "INFO:tensorflow:Assets written to: /home/oscar47/Desktop/P-ai/p-music/CNN_oscar/wandb/run-20221123_180831-of6ue10c/files/model-best/assets\n"
     ]
    },
    {
     "name": "stderr",
     "output_type": "stream",
     "text": [
      "INFO:tensorflow:Assets written to: /home/oscar47/Desktop/P-ai/p-music/CNN_oscar/wandb/run-20221123_180831-of6ue10c/files/model-best/assets\n",
      "\u001b[34m\u001b[1mwandb\u001b[0m: Adding directory to artifact (/home/oscar47/Desktop/P-ai/p-music/CNN_oscar/wandb/run-20221123_180831-of6ue10c/files/model-best)... Done. 0.1s\n"
     ]
    },
    {
     "name": "stdout",
     "output_type": "stream",
     "text": [
      "12/12 [==============================] - 35s 3s/step - loss: 1.3106 - val_loss: 1.2915\n",
      "Epoch 3/28\n",
      "12/12 [==============================] - ETA: 0s - loss: 1.2717"
     ]
    },
    {
     "name": "stderr",
     "output_type": "stream",
     "text": [
      "WARNING:absl:Found untraced functions such as _jit_compiled_convolution_op, _jit_compiled_convolution_op, _jit_compiled_convolution_op while saving (showing 3 of 3). These functions will not be directly callable after loading.\n"
     ]
    },
    {
     "name": "stdout",
     "output_type": "stream",
     "text": [
      "INFO:tensorflow:Assets written to: /home/oscar47/Desktop/P-ai/p-music/CNN_oscar/wandb/run-20221123_180831-of6ue10c/files/model-best/assets\n"
     ]
    },
    {
     "name": "stderr",
     "output_type": "stream",
     "text": [
      "INFO:tensorflow:Assets written to: /home/oscar47/Desktop/P-ai/p-music/CNN_oscar/wandb/run-20221123_180831-of6ue10c/files/model-best/assets\n",
      "\u001b[34m\u001b[1mwandb\u001b[0m: Adding directory to artifact (/home/oscar47/Desktop/P-ai/p-music/CNN_oscar/wandb/run-20221123_180831-of6ue10c/files/model-best)... Done. 0.1s\n"
     ]
    },
    {
     "name": "stdout",
     "output_type": "stream",
     "text": [
      "12/12 [==============================] - 36s 3s/step - loss: 1.2717 - val_loss: 1.2457\n",
      "Epoch 4/28\n",
      "12/12 [==============================] - ETA: 0s - loss: 1.2331"
     ]
    },
    {
     "name": "stderr",
     "output_type": "stream",
     "text": [
      "WARNING:absl:Found untraced functions such as _jit_compiled_convolution_op, _jit_compiled_convolution_op, _jit_compiled_convolution_op while saving (showing 3 of 3). These functions will not be directly callable after loading.\n"
     ]
    },
    {
     "name": "stdout",
     "output_type": "stream",
     "text": [
      "INFO:tensorflow:Assets written to: /home/oscar47/Desktop/P-ai/p-music/CNN_oscar/wandb/run-20221123_180831-of6ue10c/files/model-best/assets\n"
     ]
    },
    {
     "name": "stderr",
     "output_type": "stream",
     "text": [
      "INFO:tensorflow:Assets written to: /home/oscar47/Desktop/P-ai/p-music/CNN_oscar/wandb/run-20221123_180831-of6ue10c/files/model-best/assets\n",
      "\u001b[34m\u001b[1mwandb\u001b[0m: Adding directory to artifact (/home/oscar47/Desktop/P-ai/p-music/CNN_oscar/wandb/run-20221123_180831-of6ue10c/files/model-best)... Done. 0.2s\n"
     ]
    },
    {
     "name": "stdout",
     "output_type": "stream",
     "text": [
      "12/12 [==============================] - 35s 3s/step - loss: 1.2331 - val_loss: 1.2164\n",
      "Epoch 5/28\n",
      "12/12 [==============================] - ETA: 0s - loss: 1.2080"
     ]
    },
    {
     "name": "stderr",
     "output_type": "stream",
     "text": [
      "WARNING:absl:Found untraced functions such as _jit_compiled_convolution_op, _jit_compiled_convolution_op, _jit_compiled_convolution_op while saving (showing 3 of 3). These functions will not be directly callable after loading.\n"
     ]
    },
    {
     "name": "stdout",
     "output_type": "stream",
     "text": [
      "INFO:tensorflow:Assets written to: /home/oscar47/Desktop/P-ai/p-music/CNN_oscar/wandb/run-20221123_180831-of6ue10c/files/model-best/assets\n"
     ]
    },
    {
     "name": "stderr",
     "output_type": "stream",
     "text": [
      "INFO:tensorflow:Assets written to: /home/oscar47/Desktop/P-ai/p-music/CNN_oscar/wandb/run-20221123_180831-of6ue10c/files/model-best/assets\n",
      "\u001b[34m\u001b[1mwandb\u001b[0m: Adding directory to artifact (/home/oscar47/Desktop/P-ai/p-music/CNN_oscar/wandb/run-20221123_180831-of6ue10c/files/model-best)... Done. 0.2s\n"
     ]
    },
    {
     "name": "stdout",
     "output_type": "stream",
     "text": [
      "12/12 [==============================] - 36s 3s/step - loss: 1.2080 - val_loss: 1.1952\n",
      "Epoch 6/28\n",
      "12/12 [==============================] - ETA: 0s - loss: 1.1881"
     ]
    },
    {
     "name": "stderr",
     "output_type": "stream",
     "text": [
      "WARNING:absl:Found untraced functions such as _jit_compiled_convolution_op, _jit_compiled_convolution_op, _jit_compiled_convolution_op while saving (showing 3 of 3). These functions will not be directly callable after loading.\n"
     ]
    },
    {
     "name": "stdout",
     "output_type": "stream",
     "text": [
      "INFO:tensorflow:Assets written to: /home/oscar47/Desktop/P-ai/p-music/CNN_oscar/wandb/run-20221123_180831-of6ue10c/files/model-best/assets\n"
     ]
    },
    {
     "name": "stderr",
     "output_type": "stream",
     "text": [
      "INFO:tensorflow:Assets written to: /home/oscar47/Desktop/P-ai/p-music/CNN_oscar/wandb/run-20221123_180831-of6ue10c/files/model-best/assets\n",
      "\u001b[34m\u001b[1mwandb\u001b[0m: Adding directory to artifact (/home/oscar47/Desktop/P-ai/p-music/CNN_oscar/wandb/run-20221123_180831-of6ue10c/files/model-best)... Done. 0.2s\n"
     ]
    },
    {
     "name": "stdout",
     "output_type": "stream",
     "text": [
      "12/12 [==============================] - 36s 3s/step - loss: 1.1881 - val_loss: 1.1762\n",
      "Epoch 7/28\n",
      "12/12 [==============================] - ETA: 0s - loss: 1.1691"
     ]
    },
    {
     "name": "stderr",
     "output_type": "stream",
     "text": [
      "WARNING:absl:Found untraced functions such as _jit_compiled_convolution_op, _jit_compiled_convolution_op, _jit_compiled_convolution_op while saving (showing 3 of 3). These functions will not be directly callable after loading.\n"
     ]
    },
    {
     "name": "stdout",
     "output_type": "stream",
     "text": [
      "INFO:tensorflow:Assets written to: /home/oscar47/Desktop/P-ai/p-music/CNN_oscar/wandb/run-20221123_180831-of6ue10c/files/model-best/assets\n"
     ]
    },
    {
     "name": "stderr",
     "output_type": "stream",
     "text": [
      "INFO:tensorflow:Assets written to: /home/oscar47/Desktop/P-ai/p-music/CNN_oscar/wandb/run-20221123_180831-of6ue10c/files/model-best/assets\n",
      "\u001b[34m\u001b[1mwandb\u001b[0m: Adding directory to artifact (/home/oscar47/Desktop/P-ai/p-music/CNN_oscar/wandb/run-20221123_180831-of6ue10c/files/model-best)... Done. 0.1s\n"
     ]
    },
    {
     "name": "stdout",
     "output_type": "stream",
     "text": [
      "12/12 [==============================] - 35s 3s/step - loss: 1.1691 - val_loss: 1.1571\n",
      "Epoch 8/28\n",
      "12/12 [==============================] - ETA: 0s - loss: 1.1497"
     ]
    },
    {
     "name": "stderr",
     "output_type": "stream",
     "text": [
      "WARNING:absl:Found untraced functions such as _jit_compiled_convolution_op, _jit_compiled_convolution_op, _jit_compiled_convolution_op while saving (showing 3 of 3). These functions will not be directly callable after loading.\n"
     ]
    },
    {
     "name": "stdout",
     "output_type": "stream",
     "text": [
      "INFO:tensorflow:Assets written to: /home/oscar47/Desktop/P-ai/p-music/CNN_oscar/wandb/run-20221123_180831-of6ue10c/files/model-best/assets\n"
     ]
    },
    {
     "name": "stderr",
     "output_type": "stream",
     "text": [
      "INFO:tensorflow:Assets written to: /home/oscar47/Desktop/P-ai/p-music/CNN_oscar/wandb/run-20221123_180831-of6ue10c/files/model-best/assets\n",
      "\u001b[34m\u001b[1mwandb\u001b[0m: Adding directory to artifact (/home/oscar47/Desktop/P-ai/p-music/CNN_oscar/wandb/run-20221123_180831-of6ue10c/files/model-best)... Done. 0.2s\n"
     ]
    },
    {
     "name": "stdout",
     "output_type": "stream",
     "text": [
      "12/12 [==============================] - 35s 3s/step - loss: 1.1497 - val_loss: 1.1372\n",
      "Epoch 9/28\n",
      "12/12 [==============================] - ETA: 0s - loss: 1.1294"
     ]
    },
    {
     "name": "stderr",
     "output_type": "stream",
     "text": [
      "WARNING:absl:Found untraced functions such as _jit_compiled_convolution_op, _jit_compiled_convolution_op, _jit_compiled_convolution_op while saving (showing 3 of 3). These functions will not be directly callable after loading.\n"
     ]
    },
    {
     "name": "stdout",
     "output_type": "stream",
     "text": [
      "INFO:tensorflow:Assets written to: /home/oscar47/Desktop/P-ai/p-music/CNN_oscar/wandb/run-20221123_180831-of6ue10c/files/model-best/assets\n"
     ]
    },
    {
     "name": "stderr",
     "output_type": "stream",
     "text": [
      "INFO:tensorflow:Assets written to: /home/oscar47/Desktop/P-ai/p-music/CNN_oscar/wandb/run-20221123_180831-of6ue10c/files/model-best/assets\n",
      "\u001b[34m\u001b[1mwandb\u001b[0m: Adding directory to artifact (/home/oscar47/Desktop/P-ai/p-music/CNN_oscar/wandb/run-20221123_180831-of6ue10c/files/model-best)... Done. 0.2s\n"
     ]
    },
    {
     "name": "stdout",
     "output_type": "stream",
     "text": [
      "12/12 [==============================] - 35s 3s/step - loss: 1.1294 - val_loss: 1.1165\n",
      "Epoch 10/28\n",
      "12/12 [==============================] - ETA: 0s - loss: 1.1084"
     ]
    },
    {
     "name": "stderr",
     "output_type": "stream",
     "text": [
      "WARNING:absl:Found untraced functions such as _jit_compiled_convolution_op, _jit_compiled_convolution_op, _jit_compiled_convolution_op while saving (showing 3 of 3). These functions will not be directly callable after loading.\n"
     ]
    },
    {
     "name": "stdout",
     "output_type": "stream",
     "text": [
      "INFO:tensorflow:Assets written to: /home/oscar47/Desktop/P-ai/p-music/CNN_oscar/wandb/run-20221123_180831-of6ue10c/files/model-best/assets\n"
     ]
    },
    {
     "name": "stderr",
     "output_type": "stream",
     "text": [
      "INFO:tensorflow:Assets written to: /home/oscar47/Desktop/P-ai/p-music/CNN_oscar/wandb/run-20221123_180831-of6ue10c/files/model-best/assets\n",
      "\u001b[34m\u001b[1mwandb\u001b[0m: Adding directory to artifact (/home/oscar47/Desktop/P-ai/p-music/CNN_oscar/wandb/run-20221123_180831-of6ue10c/files/model-best)... Done. 0.1s\n"
     ]
    },
    {
     "name": "stdout",
     "output_type": "stream",
     "text": [
      "12/12 [==============================] - 35s 3s/step - loss: 1.1084 - val_loss: 1.0950\n",
      "Epoch 11/28\n",
      "12/12 [==============================] - ETA: 0s - loss: 1.0865"
     ]
    },
    {
     "name": "stderr",
     "output_type": "stream",
     "text": [
      "WARNING:absl:Found untraced functions such as _jit_compiled_convolution_op, _jit_compiled_convolution_op, _jit_compiled_convolution_op while saving (showing 3 of 3). These functions will not be directly callable after loading.\n"
     ]
    },
    {
     "name": "stdout",
     "output_type": "stream",
     "text": [
      "INFO:tensorflow:Assets written to: /home/oscar47/Desktop/P-ai/p-music/CNN_oscar/wandb/run-20221123_180831-of6ue10c/files/model-best/assets\n"
     ]
    },
    {
     "name": "stderr",
     "output_type": "stream",
     "text": [
      "INFO:tensorflow:Assets written to: /home/oscar47/Desktop/P-ai/p-music/CNN_oscar/wandb/run-20221123_180831-of6ue10c/files/model-best/assets\n",
      "\u001b[34m\u001b[1mwandb\u001b[0m: Adding directory to artifact (/home/oscar47/Desktop/P-ai/p-music/CNN_oscar/wandb/run-20221123_180831-of6ue10c/files/model-best)... Done. 0.2s\n"
     ]
    },
    {
     "name": "stdout",
     "output_type": "stream",
     "text": [
      "12/12 [==============================] - 35s 3s/step - loss: 1.0865 - val_loss: 1.0727\n",
      "Epoch 12/28\n",
      "12/12 [==============================] - ETA: 0s - loss: 1.0651"
     ]
    },
    {
     "name": "stderr",
     "output_type": "stream",
     "text": [
      "WARNING:absl:Found untraced functions such as _jit_compiled_convolution_op, _jit_compiled_convolution_op, _jit_compiled_convolution_op while saving (showing 3 of 3). These functions will not be directly callable after loading.\n"
     ]
    },
    {
     "name": "stdout",
     "output_type": "stream",
     "text": [
      "INFO:tensorflow:Assets written to: /home/oscar47/Desktop/P-ai/p-music/CNN_oscar/wandb/run-20221123_180831-of6ue10c/files/model-best/assets\n"
     ]
    },
    {
     "name": "stderr",
     "output_type": "stream",
     "text": [
      "INFO:tensorflow:Assets written to: /home/oscar47/Desktop/P-ai/p-music/CNN_oscar/wandb/run-20221123_180831-of6ue10c/files/model-best/assets\n",
      "\u001b[34m\u001b[1mwandb\u001b[0m: Adding directory to artifact (/home/oscar47/Desktop/P-ai/p-music/CNN_oscar/wandb/run-20221123_180831-of6ue10c/files/model-best)... Done. 0.1s\n"
     ]
    },
    {
     "name": "stdout",
     "output_type": "stream",
     "text": [
      "12/12 [==============================] - 36s 3s/step - loss: 1.0651 - val_loss: 1.0585\n",
      "Epoch 13/28\n",
      "12/12 [==============================] - ETA: 0s - loss: 1.0583"
     ]
    },
    {
     "name": "stderr",
     "output_type": "stream",
     "text": [
      "WARNING:absl:Found untraced functions such as _jit_compiled_convolution_op, _jit_compiled_convolution_op, _jit_compiled_convolution_op while saving (showing 3 of 3). These functions will not be directly callable after loading.\n"
     ]
    },
    {
     "name": "stdout",
     "output_type": "stream",
     "text": [
      "INFO:tensorflow:Assets written to: /home/oscar47/Desktop/P-ai/p-music/CNN_oscar/wandb/run-20221123_180831-of6ue10c/files/model-best/assets\n"
     ]
    },
    {
     "name": "stderr",
     "output_type": "stream",
     "text": [
      "INFO:tensorflow:Assets written to: /home/oscar47/Desktop/P-ai/p-music/CNN_oscar/wandb/run-20221123_180831-of6ue10c/files/model-best/assets\n",
      "\u001b[34m\u001b[1mwandb\u001b[0m: Adding directory to artifact (/home/oscar47/Desktop/P-ai/p-music/CNN_oscar/wandb/run-20221123_180831-of6ue10c/files/model-best)... Done. 0.2s\n"
     ]
    },
    {
     "name": "stdout",
     "output_type": "stream",
     "text": [
      "12/12 [==============================] - 35s 3s/step - loss: 1.0583 - val_loss: 1.0557\n",
      "Epoch 14/28\n",
      "12/12 [==============================] - ETA: 0s - loss: 1.0554"
     ]
    },
    {
     "name": "stderr",
     "output_type": "stream",
     "text": [
      "WARNING:absl:Found untraced functions such as _jit_compiled_convolution_op, _jit_compiled_convolution_op, _jit_compiled_convolution_op while saving (showing 3 of 3). These functions will not be directly callable after loading.\n"
     ]
    },
    {
     "name": "stdout",
     "output_type": "stream",
     "text": [
      "INFO:tensorflow:Assets written to: /home/oscar47/Desktop/P-ai/p-music/CNN_oscar/wandb/run-20221123_180831-of6ue10c/files/model-best/assets\n"
     ]
    },
    {
     "name": "stderr",
     "output_type": "stream",
     "text": [
      "INFO:tensorflow:Assets written to: /home/oscar47/Desktop/P-ai/p-music/CNN_oscar/wandb/run-20221123_180831-of6ue10c/files/model-best/assets\n",
      "\u001b[34m\u001b[1mwandb\u001b[0m: Adding directory to artifact (/home/oscar47/Desktop/P-ai/p-music/CNN_oscar/wandb/run-20221123_180831-of6ue10c/files/model-best)... Done. 0.2s\n"
     ]
    },
    {
     "name": "stdout",
     "output_type": "stream",
     "text": [
      "12/12 [==============================] - 36s 3s/step - loss: 1.0554 - val_loss: 1.0528\n",
      "Epoch 15/28\n",
      "12/12 [==============================] - ETA: 0s - loss: 1.0525"
     ]
    },
    {
     "name": "stderr",
     "output_type": "stream",
     "text": [
      "WARNING:absl:Found untraced functions such as _jit_compiled_convolution_op, _jit_compiled_convolution_op, _jit_compiled_convolution_op while saving (showing 3 of 3). These functions will not be directly callable after loading.\n"
     ]
    },
    {
     "name": "stdout",
     "output_type": "stream",
     "text": [
      "INFO:tensorflow:Assets written to: /home/oscar47/Desktop/P-ai/p-music/CNN_oscar/wandb/run-20221123_180831-of6ue10c/files/model-best/assets\n"
     ]
    },
    {
     "name": "stderr",
     "output_type": "stream",
     "text": [
      "INFO:tensorflow:Assets written to: /home/oscar47/Desktop/P-ai/p-music/CNN_oscar/wandb/run-20221123_180831-of6ue10c/files/model-best/assets\n",
      "\u001b[34m\u001b[1mwandb\u001b[0m: Adding directory to artifact (/home/oscar47/Desktop/P-ai/p-music/CNN_oscar/wandb/run-20221123_180831-of6ue10c/files/model-best)... Done. 0.1s\n"
     ]
    },
    {
     "name": "stdout",
     "output_type": "stream",
     "text": [
      "12/12 [==============================] - 35s 3s/step - loss: 1.0525 - val_loss: 1.0498\n",
      "Epoch 16/28\n",
      "12/12 [==============================] - ETA: 0s - loss: 1.0494"
     ]
    },
    {
     "name": "stderr",
     "output_type": "stream",
     "text": [
      "WARNING:absl:Found untraced functions such as _jit_compiled_convolution_op, _jit_compiled_convolution_op, _jit_compiled_convolution_op while saving (showing 3 of 3). These functions will not be directly callable after loading.\n"
     ]
    },
    {
     "name": "stdout",
     "output_type": "stream",
     "text": [
      "INFO:tensorflow:Assets written to: /home/oscar47/Desktop/P-ai/p-music/CNN_oscar/wandb/run-20221123_180831-of6ue10c/files/model-best/assets\n"
     ]
    },
    {
     "name": "stderr",
     "output_type": "stream",
     "text": [
      "INFO:tensorflow:Assets written to: /home/oscar47/Desktop/P-ai/p-music/CNN_oscar/wandb/run-20221123_180831-of6ue10c/files/model-best/assets\n",
      "\u001b[34m\u001b[1mwandb\u001b[0m: Adding directory to artifact (/home/oscar47/Desktop/P-ai/p-music/CNN_oscar/wandb/run-20221123_180831-of6ue10c/files/model-best)... Done. 0.1s\n"
     ]
    },
    {
     "name": "stdout",
     "output_type": "stream",
     "text": [
      "12/12 [==============================] - 35s 3s/step - loss: 1.0494 - val_loss: 1.0467\n",
      "Epoch 17/28\n",
      "12/12 [==============================] - ETA: 0s - loss: 1.0463"
     ]
    },
    {
     "name": "stderr",
     "output_type": "stream",
     "text": [
      "WARNING:absl:Found untraced functions such as _jit_compiled_convolution_op, _jit_compiled_convolution_op, _jit_compiled_convolution_op while saving (showing 3 of 3). These functions will not be directly callable after loading.\n"
     ]
    },
    {
     "name": "stdout",
     "output_type": "stream",
     "text": [
      "INFO:tensorflow:Assets written to: /home/oscar47/Desktop/P-ai/p-music/CNN_oscar/wandb/run-20221123_180831-of6ue10c/files/model-best/assets\n"
     ]
    },
    {
     "name": "stderr",
     "output_type": "stream",
     "text": [
      "INFO:tensorflow:Assets written to: /home/oscar47/Desktop/P-ai/p-music/CNN_oscar/wandb/run-20221123_180831-of6ue10c/files/model-best/assets\n",
      "\u001b[34m\u001b[1mwandb\u001b[0m: Adding directory to artifact (/home/oscar47/Desktop/P-ai/p-music/CNN_oscar/wandb/run-20221123_180831-of6ue10c/files/model-best)... Done. 0.1s\n"
     ]
    },
    {
     "name": "stdout",
     "output_type": "stream",
     "text": [
      "12/12 [==============================] - 35s 3s/step - loss: 1.0463 - val_loss: 1.0434\n",
      "Epoch 18/28\n",
      "12/12 [==============================] - ETA: 0s - loss: 1.0430"
     ]
    },
    {
     "name": "stderr",
     "output_type": "stream",
     "text": [
      "WARNING:absl:Found untraced functions such as _jit_compiled_convolution_op, _jit_compiled_convolution_op, _jit_compiled_convolution_op while saving (showing 3 of 3). These functions will not be directly callable after loading.\n"
     ]
    },
    {
     "name": "stdout",
     "output_type": "stream",
     "text": [
      "INFO:tensorflow:Assets written to: /home/oscar47/Desktop/P-ai/p-music/CNN_oscar/wandb/run-20221123_180831-of6ue10c/files/model-best/assets\n"
     ]
    },
    {
     "name": "stderr",
     "output_type": "stream",
     "text": [
      "INFO:tensorflow:Assets written to: /home/oscar47/Desktop/P-ai/p-music/CNN_oscar/wandb/run-20221123_180831-of6ue10c/files/model-best/assets\n",
      "\u001b[34m\u001b[1mwandb\u001b[0m: Adding directory to artifact (/home/oscar47/Desktop/P-ai/p-music/CNN_oscar/wandb/run-20221123_180831-of6ue10c/files/model-best)... Done. 0.1s\n"
     ]
    },
    {
     "name": "stdout",
     "output_type": "stream",
     "text": [
      "12/12 [==============================] - 35s 3s/step - loss: 1.0430 - val_loss: 1.0401\n",
      "Epoch 19/28\n",
      "12/12 [==============================] - ETA: 0s - loss: 1.0397"
     ]
    },
    {
     "name": "stderr",
     "output_type": "stream",
     "text": [
      "WARNING:absl:Found untraced functions such as _jit_compiled_convolution_op, _jit_compiled_convolution_op, _jit_compiled_convolution_op while saving (showing 3 of 3). These functions will not be directly callable after loading.\n"
     ]
    },
    {
     "name": "stdout",
     "output_type": "stream",
     "text": [
      "INFO:tensorflow:Assets written to: /home/oscar47/Desktop/P-ai/p-music/CNN_oscar/wandb/run-20221123_180831-of6ue10c/files/model-best/assets\n"
     ]
    },
    {
     "name": "stderr",
     "output_type": "stream",
     "text": [
      "INFO:tensorflow:Assets written to: /home/oscar47/Desktop/P-ai/p-music/CNN_oscar/wandb/run-20221123_180831-of6ue10c/files/model-best/assets\n",
      "\u001b[34m\u001b[1mwandb\u001b[0m: Adding directory to artifact (/home/oscar47/Desktop/P-ai/p-music/CNN_oscar/wandb/run-20221123_180831-of6ue10c/files/model-best)... Done. 0.2s\n"
     ]
    },
    {
     "name": "stdout",
     "output_type": "stream",
     "text": [
      "12/12 [==============================] - 35s 3s/step - loss: 1.0397 - val_loss: 1.0367\n",
      "Epoch 20/28\n",
      "12/12 [==============================] - ETA: 0s - loss: 1.0362"
     ]
    },
    {
     "name": "stderr",
     "output_type": "stream",
     "text": [
      "WARNING:absl:Found untraced functions such as _jit_compiled_convolution_op, _jit_compiled_convolution_op, _jit_compiled_convolution_op while saving (showing 3 of 3). These functions will not be directly callable after loading.\n"
     ]
    },
    {
     "name": "stdout",
     "output_type": "stream",
     "text": [
      "INFO:tensorflow:Assets written to: /home/oscar47/Desktop/P-ai/p-music/CNN_oscar/wandb/run-20221123_180831-of6ue10c/files/model-best/assets\n"
     ]
    },
    {
     "name": "stderr",
     "output_type": "stream",
     "text": [
      "INFO:tensorflow:Assets written to: /home/oscar47/Desktop/P-ai/p-music/CNN_oscar/wandb/run-20221123_180831-of6ue10c/files/model-best/assets\n",
      "\u001b[34m\u001b[1mwandb\u001b[0m: Adding directory to artifact (/home/oscar47/Desktop/P-ai/p-music/CNN_oscar/wandb/run-20221123_180831-of6ue10c/files/model-best)... Done. 0.1s\n"
     ]
    },
    {
     "name": "stdout",
     "output_type": "stream",
     "text": [
      "12/12 [==============================] - 35s 3s/step - loss: 1.0362 - val_loss: 1.0333\n",
      "Epoch 21/28\n",
      "12/12 [==============================] - ETA: 0s - loss: 1.0327"
     ]
    },
    {
     "name": "stderr",
     "output_type": "stream",
     "text": [
      "WARNING:absl:Found untraced functions such as _jit_compiled_convolution_op, _jit_compiled_convolution_op, _jit_compiled_convolution_op while saving (showing 3 of 3). These functions will not be directly callable after loading.\n"
     ]
    },
    {
     "name": "stdout",
     "output_type": "stream",
     "text": [
      "INFO:tensorflow:Assets written to: /home/oscar47/Desktop/P-ai/p-music/CNN_oscar/wandb/run-20221123_180831-of6ue10c/files/model-best/assets\n"
     ]
    },
    {
     "name": "stderr",
     "output_type": "stream",
     "text": [
      "INFO:tensorflow:Assets written to: /home/oscar47/Desktop/P-ai/p-music/CNN_oscar/wandb/run-20221123_180831-of6ue10c/files/model-best/assets\n",
      "\u001b[34m\u001b[1mwandb\u001b[0m: Adding directory to artifact (/home/oscar47/Desktop/P-ai/p-music/CNN_oscar/wandb/run-20221123_180831-of6ue10c/files/model-best)... Done. 0.2s\n"
     ]
    },
    {
     "name": "stdout",
     "output_type": "stream",
     "text": [
      "12/12 [==============================] - 35s 3s/step - loss: 1.0327 - val_loss: 1.0297\n",
      "Epoch 22/28\n",
      "12/12 [==============================] - ETA: 0s - loss: 1.0291"
     ]
    },
    {
     "name": "stderr",
     "output_type": "stream",
     "text": [
      "WARNING:absl:Found untraced functions such as _jit_compiled_convolution_op, _jit_compiled_convolution_op, _jit_compiled_convolution_op while saving (showing 3 of 3). These functions will not be directly callable after loading.\n"
     ]
    },
    {
     "name": "stdout",
     "output_type": "stream",
     "text": [
      "INFO:tensorflow:Assets written to: /home/oscar47/Desktop/P-ai/p-music/CNN_oscar/wandb/run-20221123_180831-of6ue10c/files/model-best/assets\n"
     ]
    },
    {
     "name": "stderr",
     "output_type": "stream",
     "text": [
      "INFO:tensorflow:Assets written to: /home/oscar47/Desktop/P-ai/p-music/CNN_oscar/wandb/run-20221123_180831-of6ue10c/files/model-best/assets\n",
      "\u001b[34m\u001b[1mwandb\u001b[0m: Adding directory to artifact (/home/oscar47/Desktop/P-ai/p-music/CNN_oscar/wandb/run-20221123_180831-of6ue10c/files/model-best)... Done. 0.1s\n"
     ]
    },
    {
     "name": "stdout",
     "output_type": "stream",
     "text": [
      "12/12 [==============================] - 35s 3s/step - loss: 1.0291 - val_loss: 1.0260\n",
      "Epoch 23/28\n",
      "12/12 [==============================] - ETA: 0s - loss: 1.0254"
     ]
    },
    {
     "name": "stderr",
     "output_type": "stream",
     "text": [
      "WARNING:absl:Found untraced functions such as _jit_compiled_convolution_op, _jit_compiled_convolution_op, _jit_compiled_convolution_op while saving (showing 3 of 3). These functions will not be directly callable after loading.\n"
     ]
    },
    {
     "name": "stdout",
     "output_type": "stream",
     "text": [
      "INFO:tensorflow:Assets written to: /home/oscar47/Desktop/P-ai/p-music/CNN_oscar/wandb/run-20221123_180831-of6ue10c/files/model-best/assets\n"
     ]
    },
    {
     "name": "stderr",
     "output_type": "stream",
     "text": [
      "INFO:tensorflow:Assets written to: /home/oscar47/Desktop/P-ai/p-music/CNN_oscar/wandb/run-20221123_180831-of6ue10c/files/model-best/assets\n",
      "\u001b[34m\u001b[1mwandb\u001b[0m: Adding directory to artifact (/home/oscar47/Desktop/P-ai/p-music/CNN_oscar/wandb/run-20221123_180831-of6ue10c/files/model-best)... Done. 0.2s\n"
     ]
    },
    {
     "name": "stdout",
     "output_type": "stream",
     "text": [
      "12/12 [==============================] - 35s 3s/step - loss: 1.0254 - val_loss: 1.0223\n",
      "Epoch 24/28\n",
      "12/12 [==============================] - ETA: 0s - loss: 1.0216"
     ]
    },
    {
     "name": "stderr",
     "output_type": "stream",
     "text": [
      "WARNING:absl:Found untraced functions such as _jit_compiled_convolution_op, _jit_compiled_convolution_op, _jit_compiled_convolution_op while saving (showing 3 of 3). These functions will not be directly callable after loading.\n"
     ]
    },
    {
     "name": "stdout",
     "output_type": "stream",
     "text": [
      "INFO:tensorflow:Assets written to: /home/oscar47/Desktop/P-ai/p-music/CNN_oscar/wandb/run-20221123_180831-of6ue10c/files/model-best/assets\n"
     ]
    },
    {
     "name": "stderr",
     "output_type": "stream",
     "text": [
      "INFO:tensorflow:Assets written to: /home/oscar47/Desktop/P-ai/p-music/CNN_oscar/wandb/run-20221123_180831-of6ue10c/files/model-best/assets\n",
      "\u001b[34m\u001b[1mwandb\u001b[0m: Adding directory to artifact (/home/oscar47/Desktop/P-ai/p-music/CNN_oscar/wandb/run-20221123_180831-of6ue10c/files/model-best)... Done. 0.1s\n"
     ]
    },
    {
     "name": "stdout",
     "output_type": "stream",
     "text": [
      "12/12 [==============================] - 35s 3s/step - loss: 1.0216 - val_loss: 1.0185\n",
      "Epoch 25/28\n",
      "12/12 [==============================] - ETA: 0s - loss: 1.0177"
     ]
    },
    {
     "name": "stderr",
     "output_type": "stream",
     "text": [
      "WARNING:absl:Found untraced functions such as _jit_compiled_convolution_op, _jit_compiled_convolution_op, _jit_compiled_convolution_op while saving (showing 3 of 3). These functions will not be directly callable after loading.\n"
     ]
    },
    {
     "name": "stdout",
     "output_type": "stream",
     "text": [
      "INFO:tensorflow:Assets written to: /home/oscar47/Desktop/P-ai/p-music/CNN_oscar/wandb/run-20221123_180831-of6ue10c/files/model-best/assets\n"
     ]
    },
    {
     "name": "stderr",
     "output_type": "stream",
     "text": [
      "INFO:tensorflow:Assets written to: /home/oscar47/Desktop/P-ai/p-music/CNN_oscar/wandb/run-20221123_180831-of6ue10c/files/model-best/assets\n",
      "\u001b[34m\u001b[1mwandb\u001b[0m: Adding directory to artifact (/home/oscar47/Desktop/P-ai/p-music/CNN_oscar/wandb/run-20221123_180831-of6ue10c/files/model-best)... Done. 0.2s\n"
     ]
    },
    {
     "name": "stdout",
     "output_type": "stream",
     "text": [
      "12/12 [==============================] - 35s 3s/step - loss: 1.0177 - val_loss: 1.0145\n",
      "Epoch 26/28\n",
      "12/12 [==============================] - ETA: 0s - loss: 1.0138"
     ]
    },
    {
     "name": "stderr",
     "output_type": "stream",
     "text": [
      "WARNING:absl:Found untraced functions such as _jit_compiled_convolution_op, _jit_compiled_convolution_op, _jit_compiled_convolution_op while saving (showing 3 of 3). These functions will not be directly callable after loading.\n"
     ]
    },
    {
     "name": "stdout",
     "output_type": "stream",
     "text": [
      "INFO:tensorflow:Assets written to: /home/oscar47/Desktop/P-ai/p-music/CNN_oscar/wandb/run-20221123_180831-of6ue10c/files/model-best/assets\n"
     ]
    },
    {
     "name": "stderr",
     "output_type": "stream",
     "text": [
      "INFO:tensorflow:Assets written to: /home/oscar47/Desktop/P-ai/p-music/CNN_oscar/wandb/run-20221123_180831-of6ue10c/files/model-best/assets\n",
      "\u001b[34m\u001b[1mwandb\u001b[0m: Adding directory to artifact (/home/oscar47/Desktop/P-ai/p-music/CNN_oscar/wandb/run-20221123_180831-of6ue10c/files/model-best)... Done. 0.1s\n"
     ]
    },
    {
     "name": "stdout",
     "output_type": "stream",
     "text": [
      "12/12 [==============================] - 35s 3s/step - loss: 1.0138 - val_loss: 1.0106\n",
      "Epoch 27/28\n",
      "12/12 [==============================] - ETA: 0s - loss: 1.0098"
     ]
    },
    {
     "name": "stderr",
     "output_type": "stream",
     "text": [
      "WARNING:absl:Found untraced functions such as _jit_compiled_convolution_op, _jit_compiled_convolution_op, _jit_compiled_convolution_op while saving (showing 3 of 3). These functions will not be directly callable after loading.\n"
     ]
    },
    {
     "name": "stdout",
     "output_type": "stream",
     "text": [
      "INFO:tensorflow:Assets written to: /home/oscar47/Desktop/P-ai/p-music/CNN_oscar/wandb/run-20221123_180831-of6ue10c/files/model-best/assets\n"
     ]
    },
    {
     "name": "stderr",
     "output_type": "stream",
     "text": [
      "INFO:tensorflow:Assets written to: /home/oscar47/Desktop/P-ai/p-music/CNN_oscar/wandb/run-20221123_180831-of6ue10c/files/model-best/assets\n",
      "\u001b[34m\u001b[1mwandb\u001b[0m: Adding directory to artifact (/home/oscar47/Desktop/P-ai/p-music/CNN_oscar/wandb/run-20221123_180831-of6ue10c/files/model-best)... Done. 0.2s\n"
     ]
    },
    {
     "name": "stdout",
     "output_type": "stream",
     "text": [
      "12/12 [==============================] - 35s 3s/step - loss: 1.0098 - val_loss: 1.0065\n",
      "Epoch 28/28\n",
      "12/12 [==============================] - ETA: 0s - loss: 1.0057"
     ]
    },
    {
     "name": "stderr",
     "output_type": "stream",
     "text": [
      "WARNING:absl:Found untraced functions such as _jit_compiled_convolution_op, _jit_compiled_convolution_op, _jit_compiled_convolution_op while saving (showing 3 of 3). These functions will not be directly callable after loading.\n"
     ]
    },
    {
     "name": "stdout",
     "output_type": "stream",
     "text": [
      "INFO:tensorflow:Assets written to: /home/oscar47/Desktop/P-ai/p-music/CNN_oscar/wandb/run-20221123_180831-of6ue10c/files/model-best/assets\n"
     ]
    },
    {
     "name": "stderr",
     "output_type": "stream",
     "text": [
      "INFO:tensorflow:Assets written to: /home/oscar47/Desktop/P-ai/p-music/CNN_oscar/wandb/run-20221123_180831-of6ue10c/files/model-best/assets\n",
      "\u001b[34m\u001b[1mwandb\u001b[0m: Adding directory to artifact (/home/oscar47/Desktop/P-ai/p-music/CNN_oscar/wandb/run-20221123_180831-of6ue10c/files/model-best)... Done. 0.1s\n"
     ]
    },
    {
     "name": "stdout",
     "output_type": "stream",
     "text": [
      "12/12 [==============================] - 35s 3s/step - loss: 1.0057 - val_loss: 1.0024\n"
     ]
    },
    {
     "data": {
      "text/html": [
       "Waiting for W&B process to finish... <strong style=\"color:green\">(success).</strong>"
      ],
      "text/plain": [
       "<IPython.core.display.HTML object>"
      ]
     },
     "metadata": {},
     "output_type": "display_data"
    },
    {
     "data": {
      "text/html": [
       "<style>\n",
       "    table.wandb td:nth-child(1) { padding: 0 10px; text-align: left ; width: auto;} td:nth-child(2) {text-align: left ; width: 100%}\n",
       "    .wandb-row { display: flex; flex-direction: row; flex-wrap: wrap; justify-content: flex-start; width: 100% }\n",
       "    .wandb-col { display: flex; flex-direction: column; flex-basis: 100%; flex: 1; padding: 10px; }\n",
       "    </style>\n",
       "<div class=\"wandb-row\"><div class=\"wandb-col\"><h3>Run history:</h3><br/><table class=\"wandb\"><tr><td>epoch</td><td>▁▁▂▂▂▂▃▃▃▃▄▄▄▄▅▅▅▅▆▆▆▆▇▇▇▇██</td></tr><tr><td>loss</td><td>█▁▁▁▁▁▁▁▁▁▁▁▁▁▁▁▁▁▁▁▁▁▁▁▁▁▁▁</td></tr><tr><td>val_loss</td><td>█▇▆▅▅▅▄▄▃▃▂▂▂▂▂▂▂▂▂▂▂▁▁▁▁▁▁▁</td></tr></table><br/></div><div class=\"wandb-col\"><h3>Run summary:</h3><br/><table class=\"wandb\"><tr><td>best_epoch</td><td>27</td></tr><tr><td>best_val_loss</td><td>1.00239</td></tr><tr><td>epoch</td><td>27</td></tr><tr><td>loss</td><td>1.00571</td></tr><tr><td>val_loss</td><td>1.00239</td></tr></table><br/></div></div>"
      ],
      "text/plain": [
       "<IPython.core.display.HTML object>"
      ]
     },
     "metadata": {},
     "output_type": "display_data"
    },
    {
     "data": {
      "text/html": [
       "Synced <strong style=\"color:#cdcd00\">magic-sweep-5</strong>: <a href=\"https://wandb.ai/p-ai/Oscar%20CNN1/runs/of6ue10c\" target=\"_blank\">https://wandb.ai/p-ai/Oscar%20CNN1/runs/of6ue10c</a><br/>Synced 6 W&B file(s), 1 media file(s), 113 artifact file(s) and 1 other file(s)"
      ],
      "text/plain": [
       "<IPython.core.display.HTML object>"
      ]
     },
     "metadata": {},
     "output_type": "display_data"
    },
    {
     "data": {
      "text/html": [
       "Find logs at: <code>./wandb/run-20221123_180831-of6ue10c/logs</code>"
      ],
      "text/plain": [
       "<IPython.core.display.HTML object>"
      ]
     },
     "metadata": {},
     "output_type": "display_data"
    },
    {
     "name": "stderr",
     "output_type": "stream",
     "text": [
      "\u001b[34m\u001b[1mwandb\u001b[0m: Agent Starting Run: oxhfljec with config:\n",
      "\u001b[34m\u001b[1mwandb\u001b[0m: \tbatch_size: 64\n",
      "\u001b[34m\u001b[1mwandb\u001b[0m: \tdense1: 109\n",
      "\u001b[34m\u001b[1mwandb\u001b[0m: \tepochs: 18\n",
      "\u001b[34m\u001b[1mwandb\u001b[0m: \tlearning_rate: 0.020081810646040067\n",
      "\u001b[34m\u001b[1mwandb\u001b[0m: \tsize_1: 242\n",
      "\u001b[34m\u001b[1mwandb\u001b[0m: \tsize_2: 246\n",
      "\u001b[34m\u001b[1mwandb\u001b[0m: \tsize_3: 151\n"
     ]
    },
    {
     "data": {
      "text/html": [
       "Tracking run with wandb version 0.13.5"
      ],
      "text/plain": [
       "<IPython.core.display.HTML object>"
      ]
     },
     "metadata": {},
     "output_type": "display_data"
    },
    {
     "data": {
      "text/html": [
       "Run data is saved locally in <code>/home/oscar47/Desktop/P-ai/p-music/CNN_oscar/wandb/run-20221123_182520-oxhfljec</code>"
      ],
      "text/plain": [
       "<IPython.core.display.HTML object>"
      ]
     },
     "metadata": {},
     "output_type": "display_data"
    },
    {
     "data": {
      "text/html": [
       "Syncing run <strong><a href=\"https://wandb.ai/p-ai/Oscar%20CNN1/runs/oxhfljec\" target=\"_blank\">amber-sweep-6</a></strong> to <a href=\"https://wandb.ai/p-ai/Oscar%20CNN1\" target=\"_blank\">Weights & Biases</a> (<a href=\"https://wandb.me/run\" target=\"_blank\">docs</a>)<br/>Sweep page:  <a href=\"https://wandb.ai/p-ai/Oscar%20CNN1/sweeps/wsxqxjvp\" target=\"_blank\">https://wandb.ai/p-ai/Oscar%20CNN1/sweeps/wsxqxjvp</a>"
      ],
      "text/plain": [
       "<IPython.core.display.HTML object>"
      ]
     },
     "metadata": {},
     "output_type": "display_data"
    },
    {
     "name": "stdout",
     "output_type": "stream",
     "text": [
      "Epoch 1/18\n",
      "23/23 [==============================] - ETA: 0s - loss: 337275296.0000"
     ]
    },
    {
     "name": "stderr",
     "output_type": "stream",
     "text": [
      "WARNING:absl:Found untraced functions such as _jit_compiled_convolution_op, _jit_compiled_convolution_op, _jit_compiled_convolution_op while saving (showing 3 of 3). These functions will not be directly callable after loading.\n"
     ]
    },
    {
     "name": "stdout",
     "output_type": "stream",
     "text": [
      "INFO:tensorflow:Assets written to: /home/oscar47/Desktop/P-ai/p-music/CNN_oscar/wandb/run-20221123_182520-oxhfljec/files/model-best/assets\n"
     ]
    },
    {
     "name": "stderr",
     "output_type": "stream",
     "text": [
      "INFO:tensorflow:Assets written to: /home/oscar47/Desktop/P-ai/p-music/CNN_oscar/wandb/run-20221123_182520-oxhfljec/files/model-best/assets\n",
      "\u001b[34m\u001b[1mwandb\u001b[0m: Adding directory to artifact (/home/oscar47/Desktop/P-ai/p-music/CNN_oscar/wandb/run-20221123_182520-oxhfljec/files/model-best)... Done. 0.2s\n"
     ]
    },
    {
     "name": "stdout",
     "output_type": "stream",
     "text": [
      "23/23 [==============================] - 63s 3s/step - loss: 337275296.0000 - val_loss: 0.6608\n",
      "Epoch 2/18\n",
      "23/23 [==============================] - ETA: 0s - loss: 3.5290"
     ]
    },
    {
     "name": "stderr",
     "output_type": "stream",
     "text": [
      "WARNING:absl:Found untraced functions such as _jit_compiled_convolution_op, _jit_compiled_convolution_op, _jit_compiled_convolution_op while saving (showing 3 of 3). These functions will not be directly callable after loading.\n"
     ]
    },
    {
     "name": "stdout",
     "output_type": "stream",
     "text": [
      "INFO:tensorflow:Assets written to: /home/oscar47/Desktop/P-ai/p-music/CNN_oscar/wandb/run-20221123_182520-oxhfljec/files/model-best/assets\n"
     ]
    },
    {
     "name": "stderr",
     "output_type": "stream",
     "text": [
      "INFO:tensorflow:Assets written to: /home/oscar47/Desktop/P-ai/p-music/CNN_oscar/wandb/run-20221123_182520-oxhfljec/files/model-best/assets\n",
      "\u001b[34m\u001b[1mwandb\u001b[0m: Adding directory to artifact (/home/oscar47/Desktop/P-ai/p-music/CNN_oscar/wandb/run-20221123_182520-oxhfljec/files/model-best)... Done. 0.2s\n"
     ]
    },
    {
     "name": "stdout",
     "output_type": "stream",
     "text": [
      "23/23 [==============================] - 62s 3s/step - loss: 3.5290 - val_loss: 0.5194\n",
      "Epoch 3/18\n",
      "23/23 [==============================] - ETA: 0s - loss: 0.4782"
     ]
    },
    {
     "name": "stderr",
     "output_type": "stream",
     "text": [
      "WARNING:absl:Found untraced functions such as _jit_compiled_convolution_op, _jit_compiled_convolution_op, _jit_compiled_convolution_op while saving (showing 3 of 3). These functions will not be directly callable after loading.\n"
     ]
    },
    {
     "name": "stdout",
     "output_type": "stream",
     "text": [
      "INFO:tensorflow:Assets written to: /home/oscar47/Desktop/P-ai/p-music/CNN_oscar/wandb/run-20221123_182520-oxhfljec/files/model-best/assets\n"
     ]
    },
    {
     "name": "stderr",
     "output_type": "stream",
     "text": [
      "INFO:tensorflow:Assets written to: /home/oscar47/Desktop/P-ai/p-music/CNN_oscar/wandb/run-20221123_182520-oxhfljec/files/model-best/assets\n",
      "\u001b[34m\u001b[1mwandb\u001b[0m: Adding directory to artifact (/home/oscar47/Desktop/P-ai/p-music/CNN_oscar/wandb/run-20221123_182520-oxhfljec/files/model-best)... Done. 0.2s\n"
     ]
    },
    {
     "name": "stdout",
     "output_type": "stream",
     "text": [
      "23/23 [==============================] - 62s 3s/step - loss: 0.4782 - val_loss: 0.4319\n",
      "Epoch 4/18\n",
      "23/23 [==============================] - ETA: 0s - loss: 0.3944"
     ]
    },
    {
     "name": "stderr",
     "output_type": "stream",
     "text": [
      "WARNING:absl:Found untraced functions such as _jit_compiled_convolution_op, _jit_compiled_convolution_op, _jit_compiled_convolution_op while saving (showing 3 of 3). These functions will not be directly callable after loading.\n"
     ]
    },
    {
     "name": "stdout",
     "output_type": "stream",
     "text": [
      "INFO:tensorflow:Assets written to: /home/oscar47/Desktop/P-ai/p-music/CNN_oscar/wandb/run-20221123_182520-oxhfljec/files/model-best/assets\n"
     ]
    },
    {
     "name": "stderr",
     "output_type": "stream",
     "text": [
      "INFO:tensorflow:Assets written to: /home/oscar47/Desktop/P-ai/p-music/CNN_oscar/wandb/run-20221123_182520-oxhfljec/files/model-best/assets\n",
      "\u001b[34m\u001b[1mwandb\u001b[0m: Adding directory to artifact (/home/oscar47/Desktop/P-ai/p-music/CNN_oscar/wandb/run-20221123_182520-oxhfljec/files/model-best)... Done. 0.2s\n"
     ]
    },
    {
     "name": "stdout",
     "output_type": "stream",
     "text": [
      "23/23 [==============================] - 62s 3s/step - loss: 0.3944 - val_loss: 0.3515\n",
      "Epoch 5/18\n",
      "23/23 [==============================] - ETA: 0s - loss: 0.3171"
     ]
    },
    {
     "name": "stderr",
     "output_type": "stream",
     "text": [
      "WARNING:absl:Found untraced functions such as _jit_compiled_convolution_op, _jit_compiled_convolution_op, _jit_compiled_convolution_op while saving (showing 3 of 3). These functions will not be directly callable after loading.\n"
     ]
    },
    {
     "name": "stdout",
     "output_type": "stream",
     "text": [
      "INFO:tensorflow:Assets written to: /home/oscar47/Desktop/P-ai/p-music/CNN_oscar/wandb/run-20221123_182520-oxhfljec/files/model-best/assets\n"
     ]
    },
    {
     "name": "stderr",
     "output_type": "stream",
     "text": [
      "INFO:tensorflow:Assets written to: /home/oscar47/Desktop/P-ai/p-music/CNN_oscar/wandb/run-20221123_182520-oxhfljec/files/model-best/assets\n",
      "\u001b[34m\u001b[1mwandb\u001b[0m: Adding directory to artifact (/home/oscar47/Desktop/P-ai/p-music/CNN_oscar/wandb/run-20221123_182520-oxhfljec/files/model-best)... Done. 0.2s\n"
     ]
    },
    {
     "name": "stdout",
     "output_type": "stream",
     "text": [
      "23/23 [==============================] - 62s 3s/step - loss: 0.3171 - val_loss: 0.2781\n",
      "Epoch 6/18\n",
      "23/23 [==============================] - ETA: 0s - loss: 0.2479"
     ]
    },
    {
     "name": "stderr",
     "output_type": "stream",
     "text": [
      "WARNING:absl:Found untraced functions such as _jit_compiled_convolution_op, _jit_compiled_convolution_op, _jit_compiled_convolution_op while saving (showing 3 of 3). These functions will not be directly callable after loading.\n"
     ]
    },
    {
     "name": "stdout",
     "output_type": "stream",
     "text": [
      "INFO:tensorflow:Assets written to: /home/oscar47/Desktop/P-ai/p-music/CNN_oscar/wandb/run-20221123_182520-oxhfljec/files/model-best/assets\n"
     ]
    },
    {
     "name": "stderr",
     "output_type": "stream",
     "text": [
      "INFO:tensorflow:Assets written to: /home/oscar47/Desktop/P-ai/p-music/CNN_oscar/wandb/run-20221123_182520-oxhfljec/files/model-best/assets\n",
      "\u001b[34m\u001b[1mwandb\u001b[0m: Adding directory to artifact (/home/oscar47/Desktop/P-ai/p-music/CNN_oscar/wandb/run-20221123_182520-oxhfljec/files/model-best)... Done. 0.2s\n"
     ]
    },
    {
     "name": "stdout",
     "output_type": "stream",
     "text": [
      "23/23 [==============================] - 62s 3s/step - loss: 0.2479 - val_loss: 0.2143\n",
      "Epoch 7/18\n",
      "23/23 [==============================] - ETA: 0s - loss: 0.1889"
     ]
    },
    {
     "name": "stderr",
     "output_type": "stream",
     "text": [
      "WARNING:absl:Found untraced functions such as _jit_compiled_convolution_op, _jit_compiled_convolution_op, _jit_compiled_convolution_op while saving (showing 3 of 3). These functions will not be directly callable after loading.\n"
     ]
    },
    {
     "name": "stdout",
     "output_type": "stream",
     "text": [
      "INFO:tensorflow:Assets written to: /home/oscar47/Desktop/P-ai/p-music/CNN_oscar/wandb/run-20221123_182520-oxhfljec/files/model-best/assets\n"
     ]
    },
    {
     "name": "stderr",
     "output_type": "stream",
     "text": [
      "INFO:tensorflow:Assets written to: /home/oscar47/Desktop/P-ai/p-music/CNN_oscar/wandb/run-20221123_182520-oxhfljec/files/model-best/assets\n",
      "\u001b[34m\u001b[1mwandb\u001b[0m: Adding directory to artifact (/home/oscar47/Desktop/P-ai/p-music/CNN_oscar/wandb/run-20221123_182520-oxhfljec/files/model-best)... Done. 0.2s\n"
     ]
    },
    {
     "name": "stdout",
     "output_type": "stream",
     "text": [
      "23/23 [==============================] - 62s 3s/step - loss: 0.1889 - val_loss: 0.1609\n",
      "Epoch 8/18\n",
      "23/23 [==============================] - ETA: 0s - loss: 0.1404"
     ]
    },
    {
     "name": "stderr",
     "output_type": "stream",
     "text": [
      "WARNING:absl:Found untraced functions such as _jit_compiled_convolution_op, _jit_compiled_convolution_op, _jit_compiled_convolution_op while saving (showing 3 of 3). These functions will not be directly callable after loading.\n"
     ]
    },
    {
     "name": "stdout",
     "output_type": "stream",
     "text": [
      "INFO:tensorflow:Assets written to: /home/oscar47/Desktop/P-ai/p-music/CNN_oscar/wandb/run-20221123_182520-oxhfljec/files/model-best/assets\n"
     ]
    },
    {
     "name": "stderr",
     "output_type": "stream",
     "text": [
      "INFO:tensorflow:Assets written to: /home/oscar47/Desktop/P-ai/p-music/CNN_oscar/wandb/run-20221123_182520-oxhfljec/files/model-best/assets\n",
      "\u001b[34m\u001b[1mwandb\u001b[0m: Adding directory to artifact (/home/oscar47/Desktop/P-ai/p-music/CNN_oscar/wandb/run-20221123_182520-oxhfljec/files/model-best)... Done. 0.2s\n"
     ]
    },
    {
     "name": "stdout",
     "output_type": "stream",
     "text": [
      "23/23 [==============================] - 62s 3s/step - loss: 0.1404 - val_loss: 0.1180\n",
      "Epoch 9/18\n",
      "23/23 [==============================] - ETA: 0s - loss: 0.1020"
     ]
    },
    {
     "name": "stderr",
     "output_type": "stream",
     "text": [
      "WARNING:absl:Found untraced functions such as _jit_compiled_convolution_op, _jit_compiled_convolution_op, _jit_compiled_convolution_op while saving (showing 3 of 3). These functions will not be directly callable after loading.\n"
     ]
    },
    {
     "name": "stdout",
     "output_type": "stream",
     "text": [
      "INFO:tensorflow:Assets written to: /home/oscar47/Desktop/P-ai/p-music/CNN_oscar/wandb/run-20221123_182520-oxhfljec/files/model-best/assets\n"
     ]
    },
    {
     "name": "stderr",
     "output_type": "stream",
     "text": [
      "INFO:tensorflow:Assets written to: /home/oscar47/Desktop/P-ai/p-music/CNN_oscar/wandb/run-20221123_182520-oxhfljec/files/model-best/assets\n",
      "\u001b[34m\u001b[1mwandb\u001b[0m: Adding directory to artifact (/home/oscar47/Desktop/P-ai/p-music/CNN_oscar/wandb/run-20221123_182520-oxhfljec/files/model-best)... Done. 0.2s\n"
     ]
    },
    {
     "name": "stdout",
     "output_type": "stream",
     "text": [
      "23/23 [==============================] - 62s 3s/step - loss: 0.1020 - val_loss: 0.0847\n",
      "Epoch 10/18\n",
      "23/23 [==============================] - ETA: 0s - loss: 0.0726"
     ]
    },
    {
     "name": "stderr",
     "output_type": "stream",
     "text": [
      "WARNING:absl:Found untraced functions such as _jit_compiled_convolution_op, _jit_compiled_convolution_op, _jit_compiled_convolution_op while saving (showing 3 of 3). These functions will not be directly callable after loading.\n"
     ]
    },
    {
     "name": "stdout",
     "output_type": "stream",
     "text": [
      "INFO:tensorflow:Assets written to: /home/oscar47/Desktop/P-ai/p-music/CNN_oscar/wandb/run-20221123_182520-oxhfljec/files/model-best/assets\n"
     ]
    },
    {
     "name": "stderr",
     "output_type": "stream",
     "text": [
      "INFO:tensorflow:Assets written to: /home/oscar47/Desktop/P-ai/p-music/CNN_oscar/wandb/run-20221123_182520-oxhfljec/files/model-best/assets\n",
      "\u001b[34m\u001b[1mwandb\u001b[0m: Adding directory to artifact (/home/oscar47/Desktop/P-ai/p-music/CNN_oscar/wandb/run-20221123_182520-oxhfljec/files/model-best)... Done. 0.2s\n"
     ]
    },
    {
     "name": "stdout",
     "output_type": "stream",
     "text": [
      "23/23 [==============================] - 62s 3s/step - loss: 0.0726 - val_loss: 0.0594\n",
      "Epoch 11/18\n",
      "23/23 [==============================] - ETA: 0s - loss: 0.0506"
     ]
    },
    {
     "name": "stderr",
     "output_type": "stream",
     "text": [
      "WARNING:absl:Found untraced functions such as _jit_compiled_convolution_op, _jit_compiled_convolution_op, _jit_compiled_convolution_op while saving (showing 3 of 3). These functions will not be directly callable after loading.\n"
     ]
    },
    {
     "name": "stdout",
     "output_type": "stream",
     "text": [
      "INFO:tensorflow:Assets written to: /home/oscar47/Desktop/P-ai/p-music/CNN_oscar/wandb/run-20221123_182520-oxhfljec/files/model-best/assets\n"
     ]
    },
    {
     "name": "stderr",
     "output_type": "stream",
     "text": [
      "INFO:tensorflow:Assets written to: /home/oscar47/Desktop/P-ai/p-music/CNN_oscar/wandb/run-20221123_182520-oxhfljec/files/model-best/assets\n",
      "\u001b[34m\u001b[1mwandb\u001b[0m: Adding directory to artifact (/home/oscar47/Desktop/P-ai/p-music/CNN_oscar/wandb/run-20221123_182520-oxhfljec/files/model-best)... Done. 0.2s\n"
     ]
    },
    {
     "name": "stdout",
     "output_type": "stream",
     "text": [
      "23/23 [==============================] - 62s 3s/step - loss: 0.0506 - val_loss: 0.0410\n",
      "Epoch 12/18\n",
      "23/23 [==============================] - ETA: 0s - loss: 0.0347"
     ]
    },
    {
     "name": "stderr",
     "output_type": "stream",
     "text": [
      "WARNING:absl:Found untraced functions such as _jit_compiled_convolution_op, _jit_compiled_convolution_op, _jit_compiled_convolution_op while saving (showing 3 of 3). These functions will not be directly callable after loading.\n"
     ]
    },
    {
     "name": "stdout",
     "output_type": "stream",
     "text": [
      "INFO:tensorflow:Assets written to: /home/oscar47/Desktop/P-ai/p-music/CNN_oscar/wandb/run-20221123_182520-oxhfljec/files/model-best/assets\n"
     ]
    },
    {
     "name": "stderr",
     "output_type": "stream",
     "text": [
      "INFO:tensorflow:Assets written to: /home/oscar47/Desktop/P-ai/p-music/CNN_oscar/wandb/run-20221123_182520-oxhfljec/files/model-best/assets\n",
      "\u001b[34m\u001b[1mwandb\u001b[0m: Adding directory to artifact (/home/oscar47/Desktop/P-ai/p-music/CNN_oscar/wandb/run-20221123_182520-oxhfljec/files/model-best)... Done. 0.2s\n"
     ]
    },
    {
     "name": "stdout",
     "output_type": "stream",
     "text": [
      "23/23 [==============================] - 62s 3s/step - loss: 0.0347 - val_loss: 0.0278\n",
      "Epoch 13/18\n",
      "23/23 [==============================] - ETA: 0s - loss: 0.0235"
     ]
    },
    {
     "name": "stderr",
     "output_type": "stream",
     "text": [
      "WARNING:absl:Found untraced functions such as _jit_compiled_convolution_op, _jit_compiled_convolution_op, _jit_compiled_convolution_op while saving (showing 3 of 3). These functions will not be directly callable after loading.\n"
     ]
    },
    {
     "name": "stdout",
     "output_type": "stream",
     "text": [
      "INFO:tensorflow:Assets written to: /home/oscar47/Desktop/P-ai/p-music/CNN_oscar/wandb/run-20221123_182520-oxhfljec/files/model-best/assets\n"
     ]
    },
    {
     "name": "stderr",
     "output_type": "stream",
     "text": [
      "INFO:tensorflow:Assets written to: /home/oscar47/Desktop/P-ai/p-music/CNN_oscar/wandb/run-20221123_182520-oxhfljec/files/model-best/assets\n",
      "\u001b[34m\u001b[1mwandb\u001b[0m: Adding directory to artifact (/home/oscar47/Desktop/P-ai/p-music/CNN_oscar/wandb/run-20221123_182520-oxhfljec/files/model-best)... Done. 0.2s\n"
     ]
    },
    {
     "name": "stdout",
     "output_type": "stream",
     "text": [
      "23/23 [==============================] - 62s 3s/step - loss: 0.0235 - val_loss: 0.0186\n",
      "Epoch 14/18\n",
      "23/23 [==============================] - ETA: 0s - loss: 0.0157"
     ]
    },
    {
     "name": "stderr",
     "output_type": "stream",
     "text": [
      "WARNING:absl:Found untraced functions such as _jit_compiled_convolution_op, _jit_compiled_convolution_op, _jit_compiled_convolution_op while saving (showing 3 of 3). These functions will not be directly callable after loading.\n"
     ]
    },
    {
     "name": "stdout",
     "output_type": "stream",
     "text": [
      "INFO:tensorflow:Assets written to: /home/oscar47/Desktop/P-ai/p-music/CNN_oscar/wandb/run-20221123_182520-oxhfljec/files/model-best/assets\n"
     ]
    },
    {
     "name": "stderr",
     "output_type": "stream",
     "text": [
      "INFO:tensorflow:Assets written to: /home/oscar47/Desktop/P-ai/p-music/CNN_oscar/wandb/run-20221123_182520-oxhfljec/files/model-best/assets\n",
      "\u001b[34m\u001b[1mwandb\u001b[0m: Adding directory to artifact (/home/oscar47/Desktop/P-ai/p-music/CNN_oscar/wandb/run-20221123_182520-oxhfljec/files/model-best)... Done. 0.2s\n"
     ]
    },
    {
     "name": "stdout",
     "output_type": "stream",
     "text": [
      "23/23 [==============================] - 62s 3s/step - loss: 0.0157 - val_loss: 0.0125\n",
      "Epoch 15/18\n",
      "23/23 [==============================] - ETA: 0s - loss: 0.0105"
     ]
    },
    {
     "name": "stderr",
     "output_type": "stream",
     "text": [
      "WARNING:absl:Found untraced functions such as _jit_compiled_convolution_op, _jit_compiled_convolution_op, _jit_compiled_convolution_op while saving (showing 3 of 3). These functions will not be directly callable after loading.\n"
     ]
    },
    {
     "name": "stdout",
     "output_type": "stream",
     "text": [
      "INFO:tensorflow:Assets written to: /home/oscar47/Desktop/P-ai/p-music/CNN_oscar/wandb/run-20221123_182520-oxhfljec/files/model-best/assets\n"
     ]
    },
    {
     "name": "stderr",
     "output_type": "stream",
     "text": [
      "INFO:tensorflow:Assets written to: /home/oscar47/Desktop/P-ai/p-music/CNN_oscar/wandb/run-20221123_182520-oxhfljec/files/model-best/assets\n",
      "\u001b[34m\u001b[1mwandb\u001b[0m: Adding directory to artifact (/home/oscar47/Desktop/P-ai/p-music/CNN_oscar/wandb/run-20221123_182520-oxhfljec/files/model-best)... Done. 0.2s\n"
     ]
    },
    {
     "name": "stdout",
     "output_type": "stream",
     "text": [
      "23/23 [==============================] - 62s 3s/step - loss: 0.0105 - val_loss: 0.0083\n",
      "Epoch 16/18\n",
      "23/23 [==============================] - ETA: 0s - loss: 0.0071"
     ]
    },
    {
     "name": "stderr",
     "output_type": "stream",
     "text": [
      "WARNING:absl:Found untraced functions such as _jit_compiled_convolution_op, _jit_compiled_convolution_op, _jit_compiled_convolution_op while saving (showing 3 of 3). These functions will not be directly callable after loading.\n"
     ]
    },
    {
     "name": "stdout",
     "output_type": "stream",
     "text": [
      "INFO:tensorflow:Assets written to: /home/oscar47/Desktop/P-ai/p-music/CNN_oscar/wandb/run-20221123_182520-oxhfljec/files/model-best/assets\n"
     ]
    },
    {
     "name": "stderr",
     "output_type": "stream",
     "text": [
      "INFO:tensorflow:Assets written to: /home/oscar47/Desktop/P-ai/p-music/CNN_oscar/wandb/run-20221123_182520-oxhfljec/files/model-best/assets\n",
      "\u001b[34m\u001b[1mwandb\u001b[0m: Adding directory to artifact (/home/oscar47/Desktop/P-ai/p-music/CNN_oscar/wandb/run-20221123_182520-oxhfljec/files/model-best)... Done. 0.2s\n"
     ]
    },
    {
     "name": "stdout",
     "output_type": "stream",
     "text": [
      "23/23 [==============================] - 62s 3s/step - loss: 0.0071 - val_loss: 0.0057\n",
      "Epoch 17/18\n",
      "23/23 [==============================] - ETA: 0s - loss: 0.0049"
     ]
    },
    {
     "name": "stderr",
     "output_type": "stream",
     "text": [
      "WARNING:absl:Found untraced functions such as _jit_compiled_convolution_op, _jit_compiled_convolution_op, _jit_compiled_convolution_op while saving (showing 3 of 3). These functions will not be directly callable after loading.\n"
     ]
    },
    {
     "name": "stdout",
     "output_type": "stream",
     "text": [
      "INFO:tensorflow:Assets written to: /home/oscar47/Desktop/P-ai/p-music/CNN_oscar/wandb/run-20221123_182520-oxhfljec/files/model-best/assets\n"
     ]
    },
    {
     "name": "stderr",
     "output_type": "stream",
     "text": [
      "INFO:tensorflow:Assets written to: /home/oscar47/Desktop/P-ai/p-music/CNN_oscar/wandb/run-20221123_182520-oxhfljec/files/model-best/assets\n",
      "\u001b[34m\u001b[1mwandb\u001b[0m: Adding directory to artifact (/home/oscar47/Desktop/P-ai/p-music/CNN_oscar/wandb/run-20221123_182520-oxhfljec/files/model-best)... Done. 0.2s\n"
     ]
    },
    {
     "name": "stdout",
     "output_type": "stream",
     "text": [
      "23/23 [==============================] - 62s 3s/step - loss: 0.0049 - val_loss: 0.0040\n",
      "Epoch 18/18\n",
      "23/23 [==============================] - ETA: 0s - loss: 0.0036"
     ]
    },
    {
     "name": "stderr",
     "output_type": "stream",
     "text": [
      "WARNING:absl:Found untraced functions such as _jit_compiled_convolution_op, _jit_compiled_convolution_op, _jit_compiled_convolution_op while saving (showing 3 of 3). These functions will not be directly callable after loading.\n"
     ]
    },
    {
     "name": "stdout",
     "output_type": "stream",
     "text": [
      "INFO:tensorflow:Assets written to: /home/oscar47/Desktop/P-ai/p-music/CNN_oscar/wandb/run-20221123_182520-oxhfljec/files/model-best/assets\n"
     ]
    },
    {
     "name": "stderr",
     "output_type": "stream",
     "text": [
      "INFO:tensorflow:Assets written to: /home/oscar47/Desktop/P-ai/p-music/CNN_oscar/wandb/run-20221123_182520-oxhfljec/files/model-best/assets\n",
      "\u001b[34m\u001b[1mwandb\u001b[0m: Adding directory to artifact (/home/oscar47/Desktop/P-ai/p-music/CNN_oscar/wandb/run-20221123_182520-oxhfljec/files/model-best)... Done. 0.2s\n"
     ]
    },
    {
     "name": "stdout",
     "output_type": "stream",
     "text": [
      "23/23 [==============================] - 62s 3s/step - loss: 0.0036 - val_loss: 0.0030\n"
     ]
    },
    {
     "data": {
      "text/html": [
       "Waiting for W&B process to finish... <strong style=\"color:green\">(success).</strong>"
      ],
      "text/plain": [
       "<IPython.core.display.HTML object>"
      ]
     },
     "metadata": {},
     "output_type": "display_data"
    },
    {
     "data": {
      "text/html": [
       "<style>\n",
       "    table.wandb td:nth-child(1) { padding: 0 10px; text-align: left ; width: auto;} td:nth-child(2) {text-align: left ; width: 100%}\n",
       "    .wandb-row { display: flex; flex-direction: row; flex-wrap: wrap; justify-content: flex-start; width: 100% }\n",
       "    .wandb-col { display: flex; flex-direction: column; flex-basis: 100%; flex: 1; padding: 10px; }\n",
       "    </style>\n",
       "<div class=\"wandb-row\"><div class=\"wandb-col\"><h3>Run history:</h3><br/><table class=\"wandb\"><tr><td>epoch</td><td>▁▁▂▂▃▃▃▄▄▅▅▆▆▆▇▇██</td></tr><tr><td>loss</td><td>█▁▁▁▁▁▁▁▁▁▁▁▁▁▁▁▁▁</td></tr><tr><td>val_loss</td><td>█▆▆▅▄▃▃▂▂▂▁▁▁▁▁▁▁▁</td></tr></table><br/></div><div class=\"wandb-col\"><h3>Run summary:</h3><br/><table class=\"wandb\"><tr><td>best_epoch</td><td>17</td></tr><tr><td>best_val_loss</td><td>0.00298</td></tr><tr><td>epoch</td><td>17</td></tr><tr><td>loss</td><td>0.00359</td></tr><tr><td>val_loss</td><td>0.00298</td></tr></table><br/></div></div>"
      ],
      "text/plain": [
       "<IPython.core.display.HTML object>"
      ]
     },
     "metadata": {},
     "output_type": "display_data"
    },
    {
     "data": {
      "text/html": [
       "Synced <strong style=\"color:#cdcd00\">amber-sweep-6</strong>: <a href=\"https://wandb.ai/p-ai/Oscar%20CNN1/runs/oxhfljec\" target=\"_blank\">https://wandb.ai/p-ai/Oscar%20CNN1/runs/oxhfljec</a><br/>Synced 6 W&B file(s), 1 media file(s), 73 artifact file(s) and 1 other file(s)"
      ],
      "text/plain": [
       "<IPython.core.display.HTML object>"
      ]
     },
     "metadata": {},
     "output_type": "display_data"
    },
    {
     "data": {
      "text/html": [
       "Find logs at: <code>./wandb/run-20221123_182520-oxhfljec/logs</code>"
      ],
      "text/plain": [
       "<IPython.core.display.HTML object>"
      ]
     },
     "metadata": {},
     "output_type": "display_data"
    },
    {
     "name": "stderr",
     "output_type": "stream",
     "text": [
      "\u001b[34m\u001b[1mwandb\u001b[0m: Agent Starting Run: fcjt8l12 with config:\n",
      "\u001b[34m\u001b[1mwandb\u001b[0m: \tbatch_size: 96\n",
      "\u001b[34m\u001b[1mwandb\u001b[0m: \tdense1: 123\n",
      "\u001b[34m\u001b[1mwandb\u001b[0m: \tepochs: 27\n",
      "\u001b[34m\u001b[1mwandb\u001b[0m: \tlearning_rate: 0.06506152097305372\n",
      "\u001b[34m\u001b[1mwandb\u001b[0m: \tsize_1: 126\n",
      "\u001b[34m\u001b[1mwandb\u001b[0m: \tsize_2: 116\n",
      "\u001b[34m\u001b[1mwandb\u001b[0m: \tsize_3: 132\n"
     ]
    },
    {
     "data": {
      "text/html": [
       "Tracking run with wandb version 0.13.5"
      ],
      "text/plain": [
       "<IPython.core.display.HTML object>"
      ]
     },
     "metadata": {},
     "output_type": "display_data"
    },
    {
     "data": {
      "text/html": [
       "Run data is saved locally in <code>/home/oscar47/Desktop/P-ai/p-music/CNN_oscar/wandb/run-20221123_184415-fcjt8l12</code>"
      ],
      "text/plain": [
       "<IPython.core.display.HTML object>"
      ]
     },
     "metadata": {},
     "output_type": "display_data"
    },
    {
     "data": {
      "text/html": [
       "Syncing run <strong><a href=\"https://wandb.ai/p-ai/Oscar%20CNN1/runs/fcjt8l12\" target=\"_blank\">floral-sweep-7</a></strong> to <a href=\"https://wandb.ai/p-ai/Oscar%20CNN1\" target=\"_blank\">Weights & Biases</a> (<a href=\"https://wandb.me/run\" target=\"_blank\">docs</a>)<br/>Sweep page:  <a href=\"https://wandb.ai/p-ai/Oscar%20CNN1/sweeps/wsxqxjvp\" target=\"_blank\">https://wandb.ai/p-ai/Oscar%20CNN1/sweeps/wsxqxjvp</a>"
      ],
      "text/plain": [
       "<IPython.core.display.HTML object>"
      ]
     },
     "metadata": {},
     "output_type": "display_data"
    },
    {
     "name": "stdout",
     "output_type": "stream",
     "text": [
      "Epoch 1/27\n",
      "15/15 [==============================] - ETA: 0s - loss: 1286929121280.0000"
     ]
    },
    {
     "name": "stderr",
     "output_type": "stream",
     "text": [
      "WARNING:absl:Found untraced functions such as _jit_compiled_convolution_op, _jit_compiled_convolution_op, _jit_compiled_convolution_op while saving (showing 3 of 3). These functions will not be directly callable after loading.\n"
     ]
    },
    {
     "name": "stdout",
     "output_type": "stream",
     "text": [
      "INFO:tensorflow:Assets written to: /home/oscar47/Desktop/P-ai/p-music/CNN_oscar/wandb/run-20221123_184415-fcjt8l12/files/model-best/assets\n"
     ]
    },
    {
     "name": "stderr",
     "output_type": "stream",
     "text": [
      "INFO:tensorflow:Assets written to: /home/oscar47/Desktop/P-ai/p-music/CNN_oscar/wandb/run-20221123_184415-fcjt8l12/files/model-best/assets\n",
      "\u001b[34m\u001b[1mwandb\u001b[0m: Adding directory to artifact (/home/oscar47/Desktop/P-ai/p-music/CNN_oscar/wandb/run-20221123_184415-fcjt8l12/files/model-best)... Done. 0.2s\n"
     ]
    },
    {
     "name": "stdout",
     "output_type": "stream",
     "text": [
      "15/15 [==============================] - 25s 2s/step - loss: 1286929121280.0000 - val_loss: 1788963.5000\n",
      "Epoch 2/27\n",
      "15/15 [==============================] - ETA: 0s - loss: 128096.0859"
     ]
    },
    {
     "name": "stderr",
     "output_type": "stream",
     "text": [
      "WARNING:absl:Found untraced functions such as _jit_compiled_convolution_op, _jit_compiled_convolution_op, _jit_compiled_convolution_op while saving (showing 3 of 3). These functions will not be directly callable after loading.\n"
     ]
    },
    {
     "name": "stdout",
     "output_type": "stream",
     "text": [
      "INFO:tensorflow:Assets written to: /home/oscar47/Desktop/P-ai/p-music/CNN_oscar/wandb/run-20221123_184415-fcjt8l12/files/model-best/assets\n"
     ]
    },
    {
     "name": "stderr",
     "output_type": "stream",
     "text": [
      "INFO:tensorflow:Assets written to: /home/oscar47/Desktop/P-ai/p-music/CNN_oscar/wandb/run-20221123_184415-fcjt8l12/files/model-best/assets\n",
      "\u001b[34m\u001b[1mwandb\u001b[0m: Adding directory to artifact (/home/oscar47/Desktop/P-ai/p-music/CNN_oscar/wandb/run-20221123_184415-fcjt8l12/files/model-best)... Done. 0.2s\n"
     ]
    },
    {
     "name": "stdout",
     "output_type": "stream",
     "text": [
      "15/15 [==============================] - 25s 2s/step - loss: 128096.0859 - val_loss: 0.0190\n",
      "Epoch 3/27\n",
      "15/15 [==============================] - 24s 2s/step - loss: 0.0222 - val_loss: 0.0504\n",
      "Epoch 4/27\n",
      "15/15 [==============================] - ETA: 0s - loss: 0.0324"
     ]
    },
    {
     "name": "stderr",
     "output_type": "stream",
     "text": [
      "WARNING:absl:Found untraced functions such as _jit_compiled_convolution_op, _jit_compiled_convolution_op, _jit_compiled_convolution_op while saving (showing 3 of 3). These functions will not be directly callable after loading.\n"
     ]
    },
    {
     "name": "stdout",
     "output_type": "stream",
     "text": [
      "INFO:tensorflow:Assets written to: /home/oscar47/Desktop/P-ai/p-music/CNN_oscar/wandb/run-20221123_184415-fcjt8l12/files/model-best/assets\n"
     ]
    },
    {
     "name": "stderr",
     "output_type": "stream",
     "text": [
      "INFO:tensorflow:Assets written to: /home/oscar47/Desktop/P-ai/p-music/CNN_oscar/wandb/run-20221123_184415-fcjt8l12/files/model-best/assets\n",
      "\u001b[34m\u001b[1mwandb\u001b[0m: Adding directory to artifact (/home/oscar47/Desktop/P-ai/p-music/CNN_oscar/wandb/run-20221123_184415-fcjt8l12/files/model-best)... Done. 0.2s\n"
     ]
    },
    {
     "name": "stdout",
     "output_type": "stream",
     "text": [
      "15/15 [==============================] - 24s 2s/step - loss: 0.0324 - val_loss: 0.0070\n",
      "Epoch 5/27\n",
      "15/15 [==============================] - ETA: 0s - loss: 0.0032"
     ]
    },
    {
     "name": "stderr",
     "output_type": "stream",
     "text": [
      "WARNING:absl:Found untraced functions such as _jit_compiled_convolution_op, _jit_compiled_convolution_op, _jit_compiled_convolution_op while saving (showing 3 of 3). These functions will not be directly callable after loading.\n"
     ]
    },
    {
     "name": "stdout",
     "output_type": "stream",
     "text": [
      "INFO:tensorflow:Assets written to: /home/oscar47/Desktop/P-ai/p-music/CNN_oscar/wandb/run-20221123_184415-fcjt8l12/files/model-best/assets\n"
     ]
    },
    {
     "name": "stderr",
     "output_type": "stream",
     "text": [
      "INFO:tensorflow:Assets written to: /home/oscar47/Desktop/P-ai/p-music/CNN_oscar/wandb/run-20221123_184415-fcjt8l12/files/model-best/assets\n",
      "\u001b[34m\u001b[1mwandb\u001b[0m: Adding directory to artifact (/home/oscar47/Desktop/P-ai/p-music/CNN_oscar/wandb/run-20221123_184415-fcjt8l12/files/model-best)... Done. 0.2s\n"
     ]
    },
    {
     "name": "stdout",
     "output_type": "stream",
     "text": [
      "15/15 [==============================] - 24s 2s/step - loss: 0.0032 - val_loss: 0.0035\n",
      "Epoch 6/27\n",
      "15/15 [==============================] - ETA: 0s - loss: 0.0029"
     ]
    },
    {
     "name": "stderr",
     "output_type": "stream",
     "text": [
      "WARNING:absl:Found untraced functions such as _jit_compiled_convolution_op, _jit_compiled_convolution_op, _jit_compiled_convolution_op while saving (showing 3 of 3). These functions will not be directly callable after loading.\n"
     ]
    },
    {
     "name": "stdout",
     "output_type": "stream",
     "text": [
      "INFO:tensorflow:Assets written to: /home/oscar47/Desktop/P-ai/p-music/CNN_oscar/wandb/run-20221123_184415-fcjt8l12/files/model-best/assets\n"
     ]
    },
    {
     "name": "stderr",
     "output_type": "stream",
     "text": [
      "INFO:tensorflow:Assets written to: /home/oscar47/Desktop/P-ai/p-music/CNN_oscar/wandb/run-20221123_184415-fcjt8l12/files/model-best/assets\n",
      "\u001b[34m\u001b[1mwandb\u001b[0m: Adding directory to artifact (/home/oscar47/Desktop/P-ai/p-music/CNN_oscar/wandb/run-20221123_184415-fcjt8l12/files/model-best)... Done. 0.2s\n"
     ]
    },
    {
     "name": "stdout",
     "output_type": "stream",
     "text": [
      "15/15 [==============================] - 24s 2s/step - loss: 0.0029 - val_loss: 0.0017\n",
      "Epoch 7/27\n",
      "15/15 [==============================] - ETA: 0s - loss: 0.0017"
     ]
    },
    {
     "name": "stderr",
     "output_type": "stream",
     "text": [
      "WARNING:absl:Found untraced functions such as _jit_compiled_convolution_op, _jit_compiled_convolution_op, _jit_compiled_convolution_op while saving (showing 3 of 3). These functions will not be directly callable after loading.\n"
     ]
    },
    {
     "name": "stdout",
     "output_type": "stream",
     "text": [
      "INFO:tensorflow:Assets written to: /home/oscar47/Desktop/P-ai/p-music/CNN_oscar/wandb/run-20221123_184415-fcjt8l12/files/model-best/assets\n"
     ]
    },
    {
     "name": "stderr",
     "output_type": "stream",
     "text": [
      "INFO:tensorflow:Assets written to: /home/oscar47/Desktop/P-ai/p-music/CNN_oscar/wandb/run-20221123_184415-fcjt8l12/files/model-best/assets\n",
      "\u001b[34m\u001b[1mwandb\u001b[0m: Adding directory to artifact (/home/oscar47/Desktop/P-ai/p-music/CNN_oscar/wandb/run-20221123_184415-fcjt8l12/files/model-best)... Done. 0.2s\n"
     ]
    },
    {
     "name": "stdout",
     "output_type": "stream",
     "text": [
      "15/15 [==============================] - 25s 2s/step - loss: 0.0017 - val_loss: 0.0017\n",
      "Epoch 8/27\n",
      "15/15 [==============================] - ETA: 0s - loss: 0.0017"
     ]
    },
    {
     "name": "stderr",
     "output_type": "stream",
     "text": [
      "WARNING:absl:Found untraced functions such as _jit_compiled_convolution_op, _jit_compiled_convolution_op, _jit_compiled_convolution_op while saving (showing 3 of 3). These functions will not be directly callable after loading.\n"
     ]
    },
    {
     "name": "stdout",
     "output_type": "stream",
     "text": [
      "INFO:tensorflow:Assets written to: /home/oscar47/Desktop/P-ai/p-music/CNN_oscar/wandb/run-20221123_184415-fcjt8l12/files/model-best/assets\n"
     ]
    },
    {
     "name": "stderr",
     "output_type": "stream",
     "text": [
      "INFO:tensorflow:Assets written to: /home/oscar47/Desktop/P-ai/p-music/CNN_oscar/wandb/run-20221123_184415-fcjt8l12/files/model-best/assets\n",
      "\u001b[34m\u001b[1mwandb\u001b[0m: Adding directory to artifact (/home/oscar47/Desktop/P-ai/p-music/CNN_oscar/wandb/run-20221123_184415-fcjt8l12/files/model-best)... Done. 0.2s\n"
     ]
    },
    {
     "name": "stdout",
     "output_type": "stream",
     "text": [
      "15/15 [==============================] - 24s 2s/step - loss: 0.0017 - val_loss: 0.0015\n",
      "Epoch 9/27\n",
      "15/15 [==============================] - 24s 2s/step - loss: 0.0016 - val_loss: 0.0015\n",
      "Epoch 10/27\n",
      "15/15 [==============================] - ETA: 0s - loss: 0.0016"
     ]
    },
    {
     "name": "stderr",
     "output_type": "stream",
     "text": [
      "WARNING:absl:Found untraced functions such as _jit_compiled_convolution_op, _jit_compiled_convolution_op, _jit_compiled_convolution_op while saving (showing 3 of 3). These functions will not be directly callable after loading.\n"
     ]
    },
    {
     "name": "stdout",
     "output_type": "stream",
     "text": [
      "INFO:tensorflow:Assets written to: /home/oscar47/Desktop/P-ai/p-music/CNN_oscar/wandb/run-20221123_184415-fcjt8l12/files/model-best/assets\n"
     ]
    },
    {
     "name": "stderr",
     "output_type": "stream",
     "text": [
      "INFO:tensorflow:Assets written to: /home/oscar47/Desktop/P-ai/p-music/CNN_oscar/wandb/run-20221123_184415-fcjt8l12/files/model-best/assets\n",
      "\u001b[34m\u001b[1mwandb\u001b[0m: Adding directory to artifact (/home/oscar47/Desktop/P-ai/p-music/CNN_oscar/wandb/run-20221123_184415-fcjt8l12/files/model-best)... Done. 0.2s\n"
     ]
    },
    {
     "name": "stdout",
     "output_type": "stream",
     "text": [
      "15/15 [==============================] - 25s 2s/step - loss: 0.0016 - val_loss: 0.0015\n",
      "Epoch 11/27\n",
      "15/15 [==============================] - 24s 2s/step - loss: 0.0016 - val_loss: 0.0015\n",
      "Epoch 12/27\n",
      "15/15 [==============================] - 23s 2s/step - loss: 0.0016 - val_loss: 0.0015\n",
      "Epoch 13/27\n",
      "15/15 [==============================] - ETA: 0s - loss: 0.0016"
     ]
    },
    {
     "name": "stderr",
     "output_type": "stream",
     "text": [
      "WARNING:absl:Found untraced functions such as _jit_compiled_convolution_op, _jit_compiled_convolution_op, _jit_compiled_convolution_op while saving (showing 3 of 3). These functions will not be directly callable after loading.\n"
     ]
    },
    {
     "name": "stdout",
     "output_type": "stream",
     "text": [
      "INFO:tensorflow:Assets written to: /home/oscar47/Desktop/P-ai/p-music/CNN_oscar/wandb/run-20221123_184415-fcjt8l12/files/model-best/assets\n"
     ]
    },
    {
     "name": "stderr",
     "output_type": "stream",
     "text": [
      "INFO:tensorflow:Assets written to: /home/oscar47/Desktop/P-ai/p-music/CNN_oscar/wandb/run-20221123_184415-fcjt8l12/files/model-best/assets\n",
      "\u001b[34m\u001b[1mwandb\u001b[0m: Adding directory to artifact (/home/oscar47/Desktop/P-ai/p-music/CNN_oscar/wandb/run-20221123_184415-fcjt8l12/files/model-best)... Done. 0.2s\n"
     ]
    },
    {
     "name": "stdout",
     "output_type": "stream",
     "text": [
      "15/15 [==============================] - 24s 2s/step - loss: 0.0016 - val_loss: 0.0015\n",
      "Epoch 14/27\n",
      "15/15 [==============================] - 24s 2s/step - loss: 0.0016 - val_loss: 0.0015\n",
      "Epoch 15/27\n",
      "15/15 [==============================] - 24s 2s/step - loss: 0.0016 - val_loss: 0.0015\n",
      "Epoch 16/27\n",
      "15/15 [==============================] - 23s 2s/step - loss: 0.0016 - val_loss: 0.0015\n",
      "Epoch 17/27\n",
      "15/15 [==============================] - 24s 2s/step - loss: 0.0016 - val_loss: 0.0015\n",
      "Epoch 18/27\n",
      "15/15 [==============================] - 24s 2s/step - loss: 0.0016 - val_loss: 0.0015\n",
      "Epoch 19/27\n",
      "15/15 [==============================] - 24s 2s/step - loss: 0.0016 - val_loss: 0.0015\n",
      "Epoch 20/27\n",
      "15/15 [==============================] - 24s 2s/step - loss: 0.0016 - val_loss: 0.0015\n",
      "Epoch 21/27\n",
      "15/15 [==============================] - 23s 2s/step - loss: 0.0016 - val_loss: 0.0015\n",
      "Epoch 22/27\n",
      "15/15 [==============================] - 23s 2s/step - loss: 0.0016 - val_loss: 0.0015\n",
      "Epoch 23/27\n",
      "15/15 [==============================] - 24s 2s/step - loss: 0.0016 - val_loss: 0.0015\n",
      "Epoch 24/27\n",
      "15/15 [==============================] - 24s 2s/step - loss: 0.0016 - val_loss: 0.0015\n",
      "Epoch 25/27\n",
      "15/15 [==============================] - 24s 2s/step - loss: 0.0016 - val_loss: 0.0015\n",
      "Epoch 26/27\n",
      "15/15 [==============================] - 23s 2s/step - loss: 0.0016 - val_loss: 0.0015\n",
      "Epoch 27/27\n",
      "15/15 [==============================] - 24s 2s/step - loss: 0.0016 - val_loss: 0.0015\n"
     ]
    },
    {
     "data": {
      "text/html": [
       "Waiting for W&B process to finish... <strong style=\"color:green\">(success).</strong>"
      ],
      "text/plain": [
       "<IPython.core.display.HTML object>"
      ]
     },
     "metadata": {},
     "output_type": "display_data"
    },
    {
     "data": {
      "application/vnd.jupyter.widget-view+json": {
       "model_id": "1acc2f5224f94d7aa02ac842b9f87e51",
       "version_major": 2,
       "version_minor": 0
      },
      "text/plain": [
       "VBox(children=(Label(value='967.196 MB of 967.196 MB uploaded (0.019 MB deduped)\\r'), FloatProgress(value=1.0,…"
      ]
     },
     "metadata": {},
     "output_type": "display_data"
    },
    {
     "data": {
      "text/html": [
       "<style>\n",
       "    table.wandb td:nth-child(1) { padding: 0 10px; text-align: left ; width: auto;} td:nth-child(2) {text-align: left ; width: 100%}\n",
       "    .wandb-row { display: flex; flex-direction: row; flex-wrap: wrap; justify-content: flex-start; width: 100% }\n",
       "    .wandb-col { display: flex; flex-direction: column; flex-basis: 100%; flex: 1; padding: 10px; }\n",
       "    </style>\n",
       "<div class=\"wandb-row\"><div class=\"wandb-col\"><h3>Run history:</h3><br/><table class=\"wandb\"><tr><td>epoch</td><td>▁▁▂▂▂▂▃▃▃▃▄▄▄▅▅▅▅▆▆▆▆▇▇▇▇██</td></tr><tr><td>loss</td><td>█▁▁▁▁▁▁▁▁▁▁▁▁▁▁▁▁▁▁▁▁▁▁▁▁▁▁</td></tr><tr><td>val_loss</td><td>█▁▁▁▁▁▁▁▁▁▁▁▁▁▁▁▁▁▁▁▁▁▁▁▁▁▁</td></tr></table><br/></div><div class=\"wandb-col\"><h3>Run summary:</h3><br/><table class=\"wandb\"><tr><td>best_epoch</td><td>12</td></tr><tr><td>best_val_loss</td><td>0.00154</td></tr><tr><td>epoch</td><td>26</td></tr><tr><td>loss</td><td>0.00161</td></tr><tr><td>val_loss</td><td>0.00154</td></tr></table><br/></div></div>"
      ],
      "text/plain": [
       "<IPython.core.display.HTML object>"
      ]
     },
     "metadata": {},
     "output_type": "display_data"
    },
    {
     "data": {
      "text/html": [
       "Synced <strong style=\"color:#cdcd00\">floral-sweep-7</strong>: <a href=\"https://wandb.ai/p-ai/Oscar%20CNN1/runs/fcjt8l12\" target=\"_blank\">https://wandb.ai/p-ai/Oscar%20CNN1/runs/fcjt8l12</a><br/>Synced 6 W&B file(s), 1 media file(s), 37 artifact file(s) and 1 other file(s)"
      ],
      "text/plain": [
       "<IPython.core.display.HTML object>"
      ]
     },
     "metadata": {},
     "output_type": "display_data"
    },
    {
     "data": {
      "text/html": [
       "Find logs at: <code>./wandb/run-20221123_184415-fcjt8l12/logs</code>"
      ],
      "text/plain": [
       "<IPython.core.display.HTML object>"
      ]
     },
     "metadata": {},
     "output_type": "display_data"
    },
    {
     "name": "stderr",
     "output_type": "stream",
     "text": [
      "\u001b[34m\u001b[1mwandb\u001b[0m: Agent Starting Run: 9iz2v8qj with config:\n",
      "\u001b[34m\u001b[1mwandb\u001b[0m: \tbatch_size: 96\n",
      "\u001b[34m\u001b[1mwandb\u001b[0m: \tdense1: 207\n",
      "\u001b[34m\u001b[1mwandb\u001b[0m: \tepochs: 19\n",
      "\u001b[34m\u001b[1mwandb\u001b[0m: \tlearning_rate: 0.04427668251608244\n",
      "\u001b[34m\u001b[1mwandb\u001b[0m: \tsize_1: 166\n",
      "\u001b[34m\u001b[1mwandb\u001b[0m: \tsize_2: 163\n",
      "\u001b[34m\u001b[1mwandb\u001b[0m: \tsize_3: 198\n"
     ]
    },
    {
     "data": {
      "text/html": [
       "Tracking run with wandb version 0.13.5"
      ],
      "text/plain": [
       "<IPython.core.display.HTML object>"
      ]
     },
     "metadata": {},
     "output_type": "display_data"
    },
    {
     "data": {
      "text/html": [
       "Run data is saved locally in <code>/home/oscar47/Desktop/P-ai/p-music/CNN_oscar/wandb/run-20221123_185519-9iz2v8qj</code>"
      ],
      "text/plain": [
       "<IPython.core.display.HTML object>"
      ]
     },
     "metadata": {},
     "output_type": "display_data"
    },
    {
     "data": {
      "text/html": [
       "Syncing run <strong><a href=\"https://wandb.ai/p-ai/Oscar%20CNN1/runs/9iz2v8qj\" target=\"_blank\">glamorous-sweep-8</a></strong> to <a href=\"https://wandb.ai/p-ai/Oscar%20CNN1\" target=\"_blank\">Weights & Biases</a> (<a href=\"https://wandb.me/run\" target=\"_blank\">docs</a>)<br/>Sweep page:  <a href=\"https://wandb.ai/p-ai/Oscar%20CNN1/sweeps/wsxqxjvp\" target=\"_blank\">https://wandb.ai/p-ai/Oscar%20CNN1/sweeps/wsxqxjvp</a>"
      ],
      "text/plain": [
       "<IPython.core.display.HTML object>"
      ]
     },
     "metadata": {},
     "output_type": "display_data"
    },
    {
     "name": "stdout",
     "output_type": "stream",
     "text": [
      "Epoch 1/19\n",
      "15/15 [==============================] - ETA: 0s - loss: 327008157696.0000"
     ]
    },
    {
     "name": "stderr",
     "output_type": "stream",
     "text": [
      "WARNING:absl:Found untraced functions such as _jit_compiled_convolution_op, _jit_compiled_convolution_op, _jit_compiled_convolution_op while saving (showing 3 of 3). These functions will not be directly callable after loading.\n"
     ]
    },
    {
     "name": "stdout",
     "output_type": "stream",
     "text": [
      "INFO:tensorflow:Assets written to: /home/oscar47/Desktop/P-ai/p-music/CNN_oscar/wandb/run-20221123_185519-9iz2v8qj/files/model-best/assets\n"
     ]
    },
    {
     "name": "stderr",
     "output_type": "stream",
     "text": [
      "INFO:tensorflow:Assets written to: /home/oscar47/Desktop/P-ai/p-music/CNN_oscar/wandb/run-20221123_185519-9iz2v8qj/files/model-best/assets\n",
      "\u001b[34m\u001b[1mwandb\u001b[0m: Adding directory to artifact (/home/oscar47/Desktop/P-ai/p-music/CNN_oscar/wandb/run-20221123_185519-9iz2v8qj/files/model-best)... Done. 0.4s\n"
     ]
    },
    {
     "name": "stdout",
     "output_type": "stream",
     "text": [
      "15/15 [==============================] - 39s 3s/step - loss: 327008157696.0000 - val_loss: 2482294.0000\n",
      "Epoch 2/19\n",
      "15/15 [==============================] - 37s 2s/step - loss: 8166600.5000 - val_loss: 6605662.0000\n",
      "Epoch 3/19\n",
      "15/15 [==============================] - ETA: 0s - loss: 1880825.2500"
     ]
    },
    {
     "name": "stderr",
     "output_type": "stream",
     "text": [
      "WARNING:absl:Found untraced functions such as _jit_compiled_convolution_op, _jit_compiled_convolution_op, _jit_compiled_convolution_op while saving (showing 3 of 3). These functions will not be directly callable after loading.\n"
     ]
    },
    {
     "name": "stdout",
     "output_type": "stream",
     "text": [
      "INFO:tensorflow:Assets written to: /home/oscar47/Desktop/P-ai/p-music/CNN_oscar/wandb/run-20221123_185519-9iz2v8qj/files/model-best/assets\n"
     ]
    },
    {
     "name": "stderr",
     "output_type": "stream",
     "text": [
      "INFO:tensorflow:Assets written to: /home/oscar47/Desktop/P-ai/p-music/CNN_oscar/wandb/run-20221123_185519-9iz2v8qj/files/model-best/assets\n",
      "\u001b[34m\u001b[1mwandb\u001b[0m: Adding directory to artifact (/home/oscar47/Desktop/P-ai/p-music/CNN_oscar/wandb/run-20221123_185519-9iz2v8qj/files/model-best)... Done. 0.4s\n"
     ]
    },
    {
     "name": "stdout",
     "output_type": "stream",
     "text": [
      "15/15 [==============================] - 38s 3s/step - loss: 1880825.2500 - val_loss: 968269.0000\n",
      "Epoch 4/19\n",
      "15/15 [==============================] - ETA: 0s - loss: 338041.1562"
     ]
    },
    {
     "name": "stderr",
     "output_type": "stream",
     "text": [
      "WARNING:absl:Found untraced functions such as _jit_compiled_convolution_op, _jit_compiled_convolution_op, _jit_compiled_convolution_op while saving (showing 3 of 3). These functions will not be directly callable after loading.\n"
     ]
    },
    {
     "name": "stdout",
     "output_type": "stream",
     "text": [
      "INFO:tensorflow:Assets written to: /home/oscar47/Desktop/P-ai/p-music/CNN_oscar/wandb/run-20221123_185519-9iz2v8qj/files/model-best/assets\n"
     ]
    },
    {
     "name": "stderr",
     "output_type": "stream",
     "text": [
      "INFO:tensorflow:Assets written to: /home/oscar47/Desktop/P-ai/p-music/CNN_oscar/wandb/run-20221123_185519-9iz2v8qj/files/model-best/assets\n",
      "\u001b[34m\u001b[1mwandb\u001b[0m: Adding directory to artifact (/home/oscar47/Desktop/P-ai/p-music/CNN_oscar/wandb/run-20221123_185519-9iz2v8qj/files/model-best)... Done. 0.4s\n"
     ]
    },
    {
     "name": "stdout",
     "output_type": "stream",
     "text": [
      "15/15 [==============================] - 38s 3s/step - loss: 338041.1562 - val_loss: 174270.2344\n",
      "Epoch 5/19\n",
      "15/15 [==============================] - ETA: 0s - loss: 76918.9375"
     ]
    },
    {
     "name": "stderr",
     "output_type": "stream",
     "text": [
      "WARNING:absl:Found untraced functions such as _jit_compiled_convolution_op, _jit_compiled_convolution_op, _jit_compiled_convolution_op while saving (showing 3 of 3). These functions will not be directly callable after loading.\n"
     ]
    },
    {
     "name": "stdout",
     "output_type": "stream",
     "text": [
      "INFO:tensorflow:Assets written to: /home/oscar47/Desktop/P-ai/p-music/CNN_oscar/wandb/run-20221123_185519-9iz2v8qj/files/model-best/assets\n"
     ]
    },
    {
     "name": "stderr",
     "output_type": "stream",
     "text": [
      "INFO:tensorflow:Assets written to: /home/oscar47/Desktop/P-ai/p-music/CNN_oscar/wandb/run-20221123_185519-9iz2v8qj/files/model-best/assets\n",
      "\u001b[34m\u001b[1mwandb\u001b[0m: Adding directory to artifact (/home/oscar47/Desktop/P-ai/p-music/CNN_oscar/wandb/run-20221123_185519-9iz2v8qj/files/model-best)... Done. 0.5s\n"
     ]
    },
    {
     "name": "stdout",
     "output_type": "stream",
     "text": [
      "15/15 [==============================] - 38s 3s/step - loss: 76918.9375 - val_loss: 50705.2891\n",
      "Epoch 6/19\n",
      "15/15 [==============================] - ETA: 0s - loss: 19774.6855"
     ]
    },
    {
     "name": "stderr",
     "output_type": "stream",
     "text": [
      "WARNING:absl:Found untraced functions such as _jit_compiled_convolution_op, _jit_compiled_convolution_op, _jit_compiled_convolution_op while saving (showing 3 of 3). These functions will not be directly callable after loading.\n"
     ]
    },
    {
     "name": "stdout",
     "output_type": "stream",
     "text": [
      "INFO:tensorflow:Assets written to: /home/oscar47/Desktop/P-ai/p-music/CNN_oscar/wandb/run-20221123_185519-9iz2v8qj/files/model-best/assets\n"
     ]
    },
    {
     "name": "stderr",
     "output_type": "stream",
     "text": [
      "INFO:tensorflow:Assets written to: /home/oscar47/Desktop/P-ai/p-music/CNN_oscar/wandb/run-20221123_185519-9iz2v8qj/files/model-best/assets\n",
      "\u001b[34m\u001b[1mwandb\u001b[0m: Adding directory to artifact (/home/oscar47/Desktop/P-ai/p-music/CNN_oscar/wandb/run-20221123_185519-9iz2v8qj/files/model-best)... Done. 0.4s\n"
     ]
    },
    {
     "name": "stdout",
     "output_type": "stream",
     "text": [
      "15/15 [==============================] - 38s 3s/step - loss: 19774.6855 - val_loss: 7112.0967\n",
      "Epoch 7/19\n",
      "15/15 [==============================] - ETA: 0s - loss: 4497.3262"
     ]
    },
    {
     "name": "stderr",
     "output_type": "stream",
     "text": [
      "WARNING:absl:Found untraced functions such as _jit_compiled_convolution_op, _jit_compiled_convolution_op, _jit_compiled_convolution_op while saving (showing 3 of 3). These functions will not be directly callable after loading.\n"
     ]
    },
    {
     "name": "stdout",
     "output_type": "stream",
     "text": [
      "INFO:tensorflow:Assets written to: /home/oscar47/Desktop/P-ai/p-music/CNN_oscar/wandb/run-20221123_185519-9iz2v8qj/files/model-best/assets\n"
     ]
    },
    {
     "name": "stderr",
     "output_type": "stream",
     "text": [
      "INFO:tensorflow:Assets written to: /home/oscar47/Desktop/P-ai/p-music/CNN_oscar/wandb/run-20221123_185519-9iz2v8qj/files/model-best/assets\n",
      "\u001b[34m\u001b[1mwandb\u001b[0m: Adding directory to artifact (/home/oscar47/Desktop/P-ai/p-music/CNN_oscar/wandb/run-20221123_185519-9iz2v8qj/files/model-best)... Done. 0.5s\n"
     ]
    },
    {
     "name": "stdout",
     "output_type": "stream",
     "text": [
      "15/15 [==============================] - 38s 3s/step - loss: 4497.3262 - val_loss: 734.1115\n",
      "Epoch 8/19\n",
      "15/15 [==============================] - 37s 2s/step - loss: 1282.6475 - val_loss: 992.9291\n",
      "Epoch 9/19\n",
      "15/15 [==============================] - ETA: 0s - loss: 579.7650"
     ]
    },
    {
     "name": "stderr",
     "output_type": "stream",
     "text": [
      "WARNING:absl:Found untraced functions such as _jit_compiled_convolution_op, _jit_compiled_convolution_op, _jit_compiled_convolution_op while saving (showing 3 of 3). These functions will not be directly callable after loading.\n"
     ]
    },
    {
     "name": "stdout",
     "output_type": "stream",
     "text": [
      "INFO:tensorflow:Assets written to: /home/oscar47/Desktop/P-ai/p-music/CNN_oscar/wandb/run-20221123_185519-9iz2v8qj/files/model-best/assets\n"
     ]
    },
    {
     "name": "stderr",
     "output_type": "stream",
     "text": [
      "INFO:tensorflow:Assets written to: /home/oscar47/Desktop/P-ai/p-music/CNN_oscar/wandb/run-20221123_185519-9iz2v8qj/files/model-best/assets\n",
      "\u001b[34m\u001b[1mwandb\u001b[0m: Adding directory to artifact (/home/oscar47/Desktop/P-ai/p-music/CNN_oscar/wandb/run-20221123_185519-9iz2v8qj/files/model-best)... Done. 0.4s\n"
     ]
    },
    {
     "name": "stdout",
     "output_type": "stream",
     "text": [
      "15/15 [==============================] - 38s 3s/step - loss: 579.7650 - val_loss: 386.8695\n",
      "Epoch 10/19\n",
      "15/15 [==============================] - ETA: 0s - loss: 345.7627"
     ]
    },
    {
     "name": "stderr",
     "output_type": "stream",
     "text": [
      "WARNING:absl:Found untraced functions such as _jit_compiled_convolution_op, _jit_compiled_convolution_op, _jit_compiled_convolution_op while saving (showing 3 of 3). These functions will not be directly callable after loading.\n"
     ]
    },
    {
     "name": "stdout",
     "output_type": "stream",
     "text": [
      "INFO:tensorflow:Assets written to: /home/oscar47/Desktop/P-ai/p-music/CNN_oscar/wandb/run-20221123_185519-9iz2v8qj/files/model-best/assets\n"
     ]
    },
    {
     "name": "stderr",
     "output_type": "stream",
     "text": [
      "INFO:tensorflow:Assets written to: /home/oscar47/Desktop/P-ai/p-music/CNN_oscar/wandb/run-20221123_185519-9iz2v8qj/files/model-best/assets\n",
      "\u001b[34m\u001b[1mwandb\u001b[0m: Adding directory to artifact (/home/oscar47/Desktop/P-ai/p-music/CNN_oscar/wandb/run-20221123_185519-9iz2v8qj/files/model-best)... Done. 0.5s\n"
     ]
    },
    {
     "name": "stdout",
     "output_type": "stream",
     "text": [
      "15/15 [==============================] - 38s 3s/step - loss: 345.7627 - val_loss: 307.8850\n",
      "Epoch 11/19\n",
      "15/15 [==============================] - ETA: 0s - loss: 235.3532"
     ]
    },
    {
     "name": "stderr",
     "output_type": "stream",
     "text": [
      "WARNING:absl:Found untraced functions such as _jit_compiled_convolution_op, _jit_compiled_convolution_op, _jit_compiled_convolution_op while saving (showing 3 of 3). These functions will not be directly callable after loading.\n"
     ]
    },
    {
     "name": "stdout",
     "output_type": "stream",
     "text": [
      "INFO:tensorflow:Assets written to: /home/oscar47/Desktop/P-ai/p-music/CNN_oscar/wandb/run-20221123_185519-9iz2v8qj/files/model-best/assets\n"
     ]
    },
    {
     "name": "stderr",
     "output_type": "stream",
     "text": [
      "INFO:tensorflow:Assets written to: /home/oscar47/Desktop/P-ai/p-music/CNN_oscar/wandb/run-20221123_185519-9iz2v8qj/files/model-best/assets\n",
      "\u001b[34m\u001b[1mwandb\u001b[0m: Adding directory to artifact (/home/oscar47/Desktop/P-ai/p-music/CNN_oscar/wandb/run-20221123_185519-9iz2v8qj/files/model-best)... Done. 0.4s\n"
     ]
    },
    {
     "name": "stdout",
     "output_type": "stream",
     "text": [
      "15/15 [==============================] - 38s 3s/step - loss: 235.3532 - val_loss: 213.0702\n",
      "Epoch 12/19\n",
      "15/15 [==============================] - ETA: 0s - loss: 148.8033"
     ]
    },
    {
     "name": "stderr",
     "output_type": "stream",
     "text": [
      "WARNING:absl:Found untraced functions such as _jit_compiled_convolution_op, _jit_compiled_convolution_op, _jit_compiled_convolution_op while saving (showing 3 of 3). These functions will not be directly callable after loading.\n"
     ]
    },
    {
     "name": "stdout",
     "output_type": "stream",
     "text": [
      "INFO:tensorflow:Assets written to: /home/oscar47/Desktop/P-ai/p-music/CNN_oscar/wandb/run-20221123_185519-9iz2v8qj/files/model-best/assets\n"
     ]
    },
    {
     "name": "stderr",
     "output_type": "stream",
     "text": [
      "INFO:tensorflow:Assets written to: /home/oscar47/Desktop/P-ai/p-music/CNN_oscar/wandb/run-20221123_185519-9iz2v8qj/files/model-best/assets\n",
      "\u001b[34m\u001b[1mwandb\u001b[0m: Adding directory to artifact (/home/oscar47/Desktop/P-ai/p-music/CNN_oscar/wandb/run-20221123_185519-9iz2v8qj/files/model-best)... Done. 0.5s\n"
     ]
    },
    {
     "name": "stdout",
     "output_type": "stream",
     "text": [
      "15/15 [==============================] - 38s 3s/step - loss: 148.8033 - val_loss: 127.6720\n",
      "Epoch 13/19\n",
      "15/15 [==============================] - ETA: 0s - loss: 104.9366"
     ]
    },
    {
     "name": "stderr",
     "output_type": "stream",
     "text": [
      "WARNING:absl:Found untraced functions such as _jit_compiled_convolution_op, _jit_compiled_convolution_op, _jit_compiled_convolution_op while saving (showing 3 of 3). These functions will not be directly callable after loading.\n"
     ]
    },
    {
     "name": "stdout",
     "output_type": "stream",
     "text": [
      "INFO:tensorflow:Assets written to: /home/oscar47/Desktop/P-ai/p-music/CNN_oscar/wandb/run-20221123_185519-9iz2v8qj/files/model-best/assets\n"
     ]
    },
    {
     "name": "stderr",
     "output_type": "stream",
     "text": [
      "INFO:tensorflow:Assets written to: /home/oscar47/Desktop/P-ai/p-music/CNN_oscar/wandb/run-20221123_185519-9iz2v8qj/files/model-best/assets\n",
      "\u001b[34m\u001b[1mwandb\u001b[0m: Adding directory to artifact (/home/oscar47/Desktop/P-ai/p-music/CNN_oscar/wandb/run-20221123_185519-9iz2v8qj/files/model-best)... Done. 0.5s\n"
     ]
    },
    {
     "name": "stdout",
     "output_type": "stream",
     "text": [
      "15/15 [==============================] - 38s 3s/step - loss: 104.9366 - val_loss: 99.1180\n",
      "Epoch 14/19\n",
      "15/15 [==============================] - ETA: 0s - loss: 78.4144"
     ]
    },
    {
     "name": "stderr",
     "output_type": "stream",
     "text": [
      "WARNING:absl:Found untraced functions such as _jit_compiled_convolution_op, _jit_compiled_convolution_op, _jit_compiled_convolution_op while saving (showing 3 of 3). These functions will not be directly callable after loading.\n"
     ]
    },
    {
     "name": "stdout",
     "output_type": "stream",
     "text": [
      "INFO:tensorflow:Assets written to: /home/oscar47/Desktop/P-ai/p-music/CNN_oscar/wandb/run-20221123_185519-9iz2v8qj/files/model-best/assets\n"
     ]
    },
    {
     "name": "stderr",
     "output_type": "stream",
     "text": [
      "INFO:tensorflow:Assets written to: /home/oscar47/Desktop/P-ai/p-music/CNN_oscar/wandb/run-20221123_185519-9iz2v8qj/files/model-best/assets\n",
      "\u001b[34m\u001b[1mwandb\u001b[0m: Adding directory to artifact (/home/oscar47/Desktop/P-ai/p-music/CNN_oscar/wandb/run-20221123_185519-9iz2v8qj/files/model-best)... Done. 0.4s\n"
     ]
    },
    {
     "name": "stdout",
     "output_type": "stream",
     "text": [
      "15/15 [==============================] - 38s 3s/step - loss: 78.4144 - val_loss: 67.4181\n",
      "Epoch 15/19\n",
      "15/15 [==============================] - ETA: 0s - loss: 53.8468"
     ]
    },
    {
     "name": "stderr",
     "output_type": "stream",
     "text": [
      "WARNING:absl:Found untraced functions such as _jit_compiled_convolution_op, _jit_compiled_convolution_op, _jit_compiled_convolution_op while saving (showing 3 of 3). These functions will not be directly callable after loading.\n"
     ]
    },
    {
     "name": "stdout",
     "output_type": "stream",
     "text": [
      "INFO:tensorflow:Assets written to: /home/oscar47/Desktop/P-ai/p-music/CNN_oscar/wandb/run-20221123_185519-9iz2v8qj/files/model-best/assets\n"
     ]
    },
    {
     "name": "stderr",
     "output_type": "stream",
     "text": [
      "INFO:tensorflow:Assets written to: /home/oscar47/Desktop/P-ai/p-music/CNN_oscar/wandb/run-20221123_185519-9iz2v8qj/files/model-best/assets\n",
      "\u001b[34m\u001b[1mwandb\u001b[0m: Adding directory to artifact (/home/oscar47/Desktop/P-ai/p-music/CNN_oscar/wandb/run-20221123_185519-9iz2v8qj/files/model-best)... Done. 0.5s\n"
     ]
    },
    {
     "name": "stdout",
     "output_type": "stream",
     "text": [
      "15/15 [==============================] - 38s 3s/step - loss: 53.8468 - val_loss: 52.1315\n",
      "Epoch 16/19\n",
      "15/15 [==============================] - ETA: 0s - loss: 40.5002"
     ]
    },
    {
     "name": "stderr",
     "output_type": "stream",
     "text": [
      "WARNING:absl:Found untraced functions such as _jit_compiled_convolution_op, _jit_compiled_convolution_op, _jit_compiled_convolution_op while saving (showing 3 of 3). These functions will not be directly callable after loading.\n"
     ]
    },
    {
     "name": "stdout",
     "output_type": "stream",
     "text": [
      "INFO:tensorflow:Assets written to: /home/oscar47/Desktop/P-ai/p-music/CNN_oscar/wandb/run-20221123_185519-9iz2v8qj/files/model-best/assets\n"
     ]
    },
    {
     "name": "stderr",
     "output_type": "stream",
     "text": [
      "INFO:tensorflow:Assets written to: /home/oscar47/Desktop/P-ai/p-music/CNN_oscar/wandb/run-20221123_185519-9iz2v8qj/files/model-best/assets\n",
      "\u001b[34m\u001b[1mwandb\u001b[0m: Adding directory to artifact (/home/oscar47/Desktop/P-ai/p-music/CNN_oscar/wandb/run-20221123_185519-9iz2v8qj/files/model-best)... Done. 0.5s\n"
     ]
    },
    {
     "name": "stdout",
     "output_type": "stream",
     "text": [
      "15/15 [==============================] - 38s 3s/step - loss: 40.5002 - val_loss: 38.8521\n",
      "Epoch 17/19\n",
      "15/15 [==============================] - ETA: 0s - loss: 36.4037"
     ]
    },
    {
     "name": "stderr",
     "output_type": "stream",
     "text": [
      "WARNING:absl:Found untraced functions such as _jit_compiled_convolution_op, _jit_compiled_convolution_op, _jit_compiled_convolution_op while saving (showing 3 of 3). These functions will not be directly callable after loading.\n"
     ]
    },
    {
     "name": "stdout",
     "output_type": "stream",
     "text": [
      "INFO:tensorflow:Assets written to: /home/oscar47/Desktop/P-ai/p-music/CNN_oscar/wandb/run-20221123_185519-9iz2v8qj/files/model-best/assets\n"
     ]
    },
    {
     "name": "stderr",
     "output_type": "stream",
     "text": [
      "INFO:tensorflow:Assets written to: /home/oscar47/Desktop/P-ai/p-music/CNN_oscar/wandb/run-20221123_185519-9iz2v8qj/files/model-best/assets\n",
      "\u001b[34m\u001b[1mwandb\u001b[0m: Adding directory to artifact (/home/oscar47/Desktop/P-ai/p-music/CNN_oscar/wandb/run-20221123_185519-9iz2v8qj/files/model-best)... Done. 0.4s\n"
     ]
    },
    {
     "name": "stdout",
     "output_type": "stream",
     "text": [
      "15/15 [==============================] - 38s 3s/step - loss: 36.4037 - val_loss: 36.0175\n",
      "Epoch 18/19\n",
      "15/15 [==============================] - ETA: 0s - loss: 28.1408"
     ]
    },
    {
     "name": "stderr",
     "output_type": "stream",
     "text": [
      "WARNING:absl:Found untraced functions such as _jit_compiled_convolution_op, _jit_compiled_convolution_op, _jit_compiled_convolution_op while saving (showing 3 of 3). These functions will not be directly callable after loading.\n"
     ]
    },
    {
     "name": "stdout",
     "output_type": "stream",
     "text": [
      "INFO:tensorflow:Assets written to: /home/oscar47/Desktop/P-ai/p-music/CNN_oscar/wandb/run-20221123_185519-9iz2v8qj/files/model-best/assets\n"
     ]
    },
    {
     "name": "stderr",
     "output_type": "stream",
     "text": [
      "INFO:tensorflow:Assets written to: /home/oscar47/Desktop/P-ai/p-music/CNN_oscar/wandb/run-20221123_185519-9iz2v8qj/files/model-best/assets\n",
      "\u001b[34m\u001b[1mwandb\u001b[0m: Adding directory to artifact (/home/oscar47/Desktop/P-ai/p-music/CNN_oscar/wandb/run-20221123_185519-9iz2v8qj/files/model-best)... Done. 0.5s\n"
     ]
    },
    {
     "name": "stdout",
     "output_type": "stream",
     "text": [
      "15/15 [==============================] - 38s 3s/step - loss: 28.1408 - val_loss: 24.8432\n",
      "Epoch 19/19\n",
      "15/15 [==============================] - ETA: 0s - loss: 21.5572"
     ]
    },
    {
     "name": "stderr",
     "output_type": "stream",
     "text": [
      "WARNING:absl:Found untraced functions such as _jit_compiled_convolution_op, _jit_compiled_convolution_op, _jit_compiled_convolution_op while saving (showing 3 of 3). These functions will not be directly callable after loading.\n"
     ]
    },
    {
     "name": "stdout",
     "output_type": "stream",
     "text": [
      "INFO:tensorflow:Assets written to: /home/oscar47/Desktop/P-ai/p-music/CNN_oscar/wandb/run-20221123_185519-9iz2v8qj/files/model-best/assets\n"
     ]
    },
    {
     "name": "stderr",
     "output_type": "stream",
     "text": [
      "INFO:tensorflow:Assets written to: /home/oscar47/Desktop/P-ai/p-music/CNN_oscar/wandb/run-20221123_185519-9iz2v8qj/files/model-best/assets\n",
      "\u001b[34m\u001b[1mwandb\u001b[0m: Adding directory to artifact (/home/oscar47/Desktop/P-ai/p-music/CNN_oscar/wandb/run-20221123_185519-9iz2v8qj/files/model-best)... Done. 0.4s\n"
     ]
    },
    {
     "name": "stdout",
     "output_type": "stream",
     "text": [
      "15/15 [==============================] - 38s 3s/step - loss: 21.5572 - val_loss: 19.9480\n"
     ]
    },
    {
     "data": {
      "text/html": [
       "Waiting for W&B process to finish... <strong style=\"color:green\">(success).</strong>"
      ],
      "text/plain": [
       "<IPython.core.display.HTML object>"
      ]
     },
     "metadata": {},
     "output_type": "display_data"
    },
    {
     "data": {
      "text/html": [
       "<style>\n",
       "    table.wandb td:nth-child(1) { padding: 0 10px; text-align: left ; width: auto;} td:nth-child(2) {text-align: left ; width: 100%}\n",
       "    .wandb-row { display: flex; flex-direction: row; flex-wrap: wrap; justify-content: flex-start; width: 100% }\n",
       "    .wandb-col { display: flex; flex-direction: column; flex-basis: 100%; flex: 1; padding: 10px; }\n",
       "    </style>\n",
       "<div class=\"wandb-row\"><div class=\"wandb-col\"><h3>Run history:</h3><br/><table class=\"wandb\"><tr><td>epoch</td><td>▁▁▂▂▃▃▃▄▄▅▅▅▆▆▆▇▇██</td></tr><tr><td>loss</td><td>█▁▁▁▁▁▁▁▁▁▁▁▁▁▁▁▁▁▁</td></tr><tr><td>val_loss</td><td>▄█▂▁▁▁▁▁▁▁▁▁▁▁▁▁▁▁▁</td></tr></table><br/></div><div class=\"wandb-col\"><h3>Run summary:</h3><br/><table class=\"wandb\"><tr><td>best_epoch</td><td>18</td></tr><tr><td>best_val_loss</td><td>19.94801</td></tr><tr><td>epoch</td><td>18</td></tr><tr><td>loss</td><td>21.55721</td></tr><tr><td>val_loss</td><td>19.94801</td></tr></table><br/></div></div>"
      ],
      "text/plain": [
       "<IPython.core.display.HTML object>"
      ]
     },
     "metadata": {},
     "output_type": "display_data"
    },
    {
     "data": {
      "text/html": [
       "Synced <strong style=\"color:#cdcd00\">glamorous-sweep-8</strong>: <a href=\"https://wandb.ai/p-ai/Oscar%20CNN1/runs/9iz2v8qj\" target=\"_blank\">https://wandb.ai/p-ai/Oscar%20CNN1/runs/9iz2v8qj</a><br/>Synced 6 W&B file(s), 1 media file(s), 69 artifact file(s) and 1 other file(s)"
      ],
      "text/plain": [
       "<IPython.core.display.HTML object>"
      ]
     },
     "metadata": {},
     "output_type": "display_data"
    },
    {
     "data": {
      "text/html": [
       "Find logs at: <code>./wandb/run-20221123_185519-9iz2v8qj/logs</code>"
      ],
      "text/plain": [
       "<IPython.core.display.HTML object>"
      ]
     },
     "metadata": {},
     "output_type": "display_data"
    },
    {
     "name": "stderr",
     "output_type": "stream",
     "text": [
      "\u001b[34m\u001b[1mwandb\u001b[0m: Agent Starting Run: uhj2uxc0 with config:\n",
      "\u001b[34m\u001b[1mwandb\u001b[0m: \tbatch_size: 64\n",
      "\u001b[34m\u001b[1mwandb\u001b[0m: \tdense1: 100\n",
      "\u001b[34m\u001b[1mwandb\u001b[0m: \tepochs: 19\n",
      "\u001b[34m\u001b[1mwandb\u001b[0m: \tlearning_rate: 0.09813324836144698\n",
      "\u001b[34m\u001b[1mwandb\u001b[0m: \tsize_1: 242\n",
      "\u001b[34m\u001b[1mwandb\u001b[0m: \tsize_2: 242\n",
      "\u001b[34m\u001b[1mwandb\u001b[0m: \tsize_3: 82\n"
     ]
    },
    {
     "data": {
      "text/html": [
       "Tracking run with wandb version 0.13.5"
      ],
      "text/plain": [
       "<IPython.core.display.HTML object>"
      ]
     },
     "metadata": {},
     "output_type": "display_data"
    },
    {
     "data": {
      "text/html": [
       "Run data is saved locally in <code>/home/oscar47/Desktop/P-ai/p-music/CNN_oscar/wandb/run-20221123_190745-uhj2uxc0</code>"
      ],
      "text/plain": [
       "<IPython.core.display.HTML object>"
      ]
     },
     "metadata": {},
     "output_type": "display_data"
    },
    {
     "data": {
      "text/html": [
       "Syncing run <strong><a href=\"https://wandb.ai/p-ai/Oscar%20CNN1/runs/uhj2uxc0\" target=\"_blank\">fanciful-sweep-9</a></strong> to <a href=\"https://wandb.ai/p-ai/Oscar%20CNN1\" target=\"_blank\">Weights & Biases</a> (<a href=\"https://wandb.me/run\" target=\"_blank\">docs</a>)<br/>Sweep page:  <a href=\"https://wandb.ai/p-ai/Oscar%20CNN1/sweeps/wsxqxjvp\" target=\"_blank\">https://wandb.ai/p-ai/Oscar%20CNN1/sweeps/wsxqxjvp</a>"
      ],
      "text/plain": [
       "<IPython.core.display.HTML object>"
      ]
     },
     "metadata": {},
     "output_type": "display_data"
    },
    {
     "name": "stdout",
     "output_type": "stream",
     "text": [
      "Epoch 1/19\n",
      "23/23 [==============================] - ETA: 0s - loss: 133303344562176.0000"
     ]
    },
    {
     "name": "stderr",
     "output_type": "stream",
     "text": [
      "WARNING:absl:Found untraced functions such as _jit_compiled_convolution_op, _jit_compiled_convolution_op, _jit_compiled_convolution_op while saving (showing 3 of 3). These functions will not be directly callable after loading.\n"
     ]
    },
    {
     "name": "stdout",
     "output_type": "stream",
     "text": [
      "INFO:tensorflow:Assets written to: /home/oscar47/Desktop/P-ai/p-music/CNN_oscar/wandb/run-20221123_190745-uhj2uxc0/files/model-best/assets\n"
     ]
    },
    {
     "name": "stderr",
     "output_type": "stream",
     "text": [
      "INFO:tensorflow:Assets written to: /home/oscar47/Desktop/P-ai/p-music/CNN_oscar/wandb/run-20221123_190745-uhj2uxc0/files/model-best/assets\n",
      "\u001b[34m\u001b[1mwandb\u001b[0m: Adding directory to artifact (/home/oscar47/Desktop/P-ai/p-music/CNN_oscar/wandb/run-20221123_190745-uhj2uxc0/files/model-best)... Done. 0.1s\n"
     ]
    },
    {
     "name": "stdout",
     "output_type": "stream",
     "text": [
      "23/23 [==============================] - 61s 3s/step - loss: 133303344562176.0000 - val_loss: 1.3125\n",
      "Epoch 2/19\n",
      "23/23 [==============================] - ETA: 0s - loss: 1.0640"
     ]
    },
    {
     "name": "stderr",
     "output_type": "stream",
     "text": [
      "WARNING:absl:Found untraced functions such as _jit_compiled_convolution_op, _jit_compiled_convolution_op, _jit_compiled_convolution_op while saving (showing 3 of 3). These functions will not be directly callable after loading.\n"
     ]
    },
    {
     "name": "stdout",
     "output_type": "stream",
     "text": [
      "INFO:tensorflow:Assets written to: /home/oscar47/Desktop/P-ai/p-music/CNN_oscar/wandb/run-20221123_190745-uhj2uxc0/files/model-best/assets\n"
     ]
    },
    {
     "name": "stderr",
     "output_type": "stream",
     "text": [
      "INFO:tensorflow:Assets written to: /home/oscar47/Desktop/P-ai/p-music/CNN_oscar/wandb/run-20221123_190745-uhj2uxc0/files/model-best/assets\n",
      "\u001b[34m\u001b[1mwandb\u001b[0m: Adding directory to artifact (/home/oscar47/Desktop/P-ai/p-music/CNN_oscar/wandb/run-20221123_190745-uhj2uxc0/files/model-best)... Done. 0.2s\n"
     ]
    },
    {
     "name": "stdout",
     "output_type": "stream",
     "text": [
      "23/23 [==============================] - 60s 3s/step - loss: 1.0640 - val_loss: 0.9189\n",
      "Epoch 3/19\n",
      "23/23 [==============================] - ETA: 0s - loss: 0.8907"
     ]
    },
    {
     "name": "stderr",
     "output_type": "stream",
     "text": [
      "WARNING:absl:Found untraced functions such as _jit_compiled_convolution_op, _jit_compiled_convolution_op, _jit_compiled_convolution_op while saving (showing 3 of 3). These functions will not be directly callable after loading.\n"
     ]
    },
    {
     "name": "stdout",
     "output_type": "stream",
     "text": [
      "INFO:tensorflow:Assets written to: /home/oscar47/Desktop/P-ai/p-music/CNN_oscar/wandb/run-20221123_190745-uhj2uxc0/files/model-best/assets\n"
     ]
    },
    {
     "name": "stderr",
     "output_type": "stream",
     "text": [
      "INFO:tensorflow:Assets written to: /home/oscar47/Desktop/P-ai/p-music/CNN_oscar/wandb/run-20221123_190745-uhj2uxc0/files/model-best/assets\n",
      "\u001b[34m\u001b[1mwandb\u001b[0m: Adding directory to artifact (/home/oscar47/Desktop/P-ai/p-music/CNN_oscar/wandb/run-20221123_190745-uhj2uxc0/files/model-best)... Done. 0.1s\n"
     ]
    },
    {
     "name": "stdout",
     "output_type": "stream",
     "text": [
      "23/23 [==============================] - 60s 3s/step - loss: 0.8907 - val_loss: 0.8735\n",
      "Epoch 4/19\n",
      "23/23 [==============================] - ETA: 0s - loss: 0.8712"
     ]
    },
    {
     "name": "stderr",
     "output_type": "stream",
     "text": [
      "WARNING:absl:Found untraced functions such as _jit_compiled_convolution_op, _jit_compiled_convolution_op, _jit_compiled_convolution_op while saving (showing 3 of 3). These functions will not be directly callable after loading.\n"
     ]
    },
    {
     "name": "stdout",
     "output_type": "stream",
     "text": [
      "INFO:tensorflow:Assets written to: /home/oscar47/Desktop/P-ai/p-music/CNN_oscar/wandb/run-20221123_190745-uhj2uxc0/files/model-best/assets\n"
     ]
    },
    {
     "name": "stderr",
     "output_type": "stream",
     "text": [
      "INFO:tensorflow:Assets written to: /home/oscar47/Desktop/P-ai/p-music/CNN_oscar/wandb/run-20221123_190745-uhj2uxc0/files/model-best/assets\n",
      "\u001b[34m\u001b[1mwandb\u001b[0m: Adding directory to artifact (/home/oscar47/Desktop/P-ai/p-music/CNN_oscar/wandb/run-20221123_190745-uhj2uxc0/files/model-best)... Done. 0.1s\n"
     ]
    },
    {
     "name": "stdout",
     "output_type": "stream",
     "text": [
      "23/23 [==============================] - 60s 3s/step - loss: 0.8712 - val_loss: 0.8684\n",
      "Epoch 5/19\n",
      "23/23 [==============================] - ETA: 0s - loss: 0.8688"
     ]
    },
    {
     "name": "stderr",
     "output_type": "stream",
     "text": [
      "WARNING:absl:Found untraced functions such as _jit_compiled_convolution_op, _jit_compiled_convolution_op, _jit_compiled_convolution_op while saving (showing 3 of 3). These functions will not be directly callable after loading.\n"
     ]
    },
    {
     "name": "stdout",
     "output_type": "stream",
     "text": [
      "INFO:tensorflow:Assets written to: /home/oscar47/Desktop/P-ai/p-music/CNN_oscar/wandb/run-20221123_190745-uhj2uxc0/files/model-best/assets\n"
     ]
    },
    {
     "name": "stderr",
     "output_type": "stream",
     "text": [
      "INFO:tensorflow:Assets written to: /home/oscar47/Desktop/P-ai/p-music/CNN_oscar/wandb/run-20221123_190745-uhj2uxc0/files/model-best/assets\n",
      "\u001b[34m\u001b[1mwandb\u001b[0m: Adding directory to artifact (/home/oscar47/Desktop/P-ai/p-music/CNN_oscar/wandb/run-20221123_190745-uhj2uxc0/files/model-best)... Done. 0.1s\n"
     ]
    },
    {
     "name": "stdout",
     "output_type": "stream",
     "text": [
      "23/23 [==============================] - 61s 3s/step - loss: 0.8688 - val_loss: 0.8675\n",
      "Epoch 6/19\n",
      "23/23 [==============================] - ETA: 0s - loss: 0.8681"
     ]
    },
    {
     "name": "stderr",
     "output_type": "stream",
     "text": [
      "WARNING:absl:Found untraced functions such as _jit_compiled_convolution_op, _jit_compiled_convolution_op, _jit_compiled_convolution_op while saving (showing 3 of 3). These functions will not be directly callable after loading.\n"
     ]
    },
    {
     "name": "stdout",
     "output_type": "stream",
     "text": [
      "INFO:tensorflow:Assets written to: /home/oscar47/Desktop/P-ai/p-music/CNN_oscar/wandb/run-20221123_190745-uhj2uxc0/files/model-best/assets\n"
     ]
    },
    {
     "name": "stderr",
     "output_type": "stream",
     "text": [
      "INFO:tensorflow:Assets written to: /home/oscar47/Desktop/P-ai/p-music/CNN_oscar/wandb/run-20221123_190745-uhj2uxc0/files/model-best/assets\n",
      "\u001b[34m\u001b[1mwandb\u001b[0m: Adding directory to artifact (/home/oscar47/Desktop/P-ai/p-music/CNN_oscar/wandb/run-20221123_190745-uhj2uxc0/files/model-best)... Done. 0.1s\n"
     ]
    },
    {
     "name": "stdout",
     "output_type": "stream",
     "text": [
      "23/23 [==============================] - 60s 3s/step - loss: 0.8681 - val_loss: 0.8670\n",
      "Epoch 7/19\n",
      "23/23 [==============================] - ETA: 0s - loss: 0.8676"
     ]
    },
    {
     "name": "stderr",
     "output_type": "stream",
     "text": [
      "WARNING:absl:Found untraced functions such as _jit_compiled_convolution_op, _jit_compiled_convolution_op, _jit_compiled_convolution_op while saving (showing 3 of 3). These functions will not be directly callable after loading.\n"
     ]
    },
    {
     "name": "stdout",
     "output_type": "stream",
     "text": [
      "INFO:tensorflow:Assets written to: /home/oscar47/Desktop/P-ai/p-music/CNN_oscar/wandb/run-20221123_190745-uhj2uxc0/files/model-best/assets\n"
     ]
    },
    {
     "name": "stderr",
     "output_type": "stream",
     "text": [
      "INFO:tensorflow:Assets written to: /home/oscar47/Desktop/P-ai/p-music/CNN_oscar/wandb/run-20221123_190745-uhj2uxc0/files/model-best/assets\n",
      "\u001b[34m\u001b[1mwandb\u001b[0m: Adding directory to artifact (/home/oscar47/Desktop/P-ai/p-music/CNN_oscar/wandb/run-20221123_190745-uhj2uxc0/files/model-best)... Done. 0.1s\n"
     ]
    },
    {
     "name": "stdout",
     "output_type": "stream",
     "text": [
      "23/23 [==============================] - 60s 3s/step - loss: 0.8676 - val_loss: 0.8665\n",
      "Epoch 8/19\n",
      "23/23 [==============================] - ETA: 0s - loss: 0.8671"
     ]
    },
    {
     "name": "stderr",
     "output_type": "stream",
     "text": [
      "WARNING:absl:Found untraced functions such as _jit_compiled_convolution_op, _jit_compiled_convolution_op, _jit_compiled_convolution_op while saving (showing 3 of 3). These functions will not be directly callable after loading.\n"
     ]
    },
    {
     "name": "stdout",
     "output_type": "stream",
     "text": [
      "INFO:tensorflow:Assets written to: /home/oscar47/Desktop/P-ai/p-music/CNN_oscar/wandb/run-20221123_190745-uhj2uxc0/files/model-best/assets\n"
     ]
    },
    {
     "name": "stderr",
     "output_type": "stream",
     "text": [
      "INFO:tensorflow:Assets written to: /home/oscar47/Desktop/P-ai/p-music/CNN_oscar/wandb/run-20221123_190745-uhj2uxc0/files/model-best/assets\n",
      "\u001b[34m\u001b[1mwandb\u001b[0m: Adding directory to artifact (/home/oscar47/Desktop/P-ai/p-music/CNN_oscar/wandb/run-20221123_190745-uhj2uxc0/files/model-best)... Done. 0.1s\n"
     ]
    },
    {
     "name": "stdout",
     "output_type": "stream",
     "text": [
      "23/23 [==============================] - 60s 3s/step - loss: 0.8671 - val_loss: 0.8659\n",
      "Epoch 9/19\n",
      "23/23 [==============================] - ETA: 0s - loss: 0.8665"
     ]
    },
    {
     "name": "stderr",
     "output_type": "stream",
     "text": [
      "WARNING:absl:Found untraced functions such as _jit_compiled_convolution_op, _jit_compiled_convolution_op, _jit_compiled_convolution_op while saving (showing 3 of 3). These functions will not be directly callable after loading.\n"
     ]
    },
    {
     "name": "stdout",
     "output_type": "stream",
     "text": [
      "INFO:tensorflow:Assets written to: /home/oscar47/Desktop/P-ai/p-music/CNN_oscar/wandb/run-20221123_190745-uhj2uxc0/files/model-best/assets\n"
     ]
    },
    {
     "name": "stderr",
     "output_type": "stream",
     "text": [
      "INFO:tensorflow:Assets written to: /home/oscar47/Desktop/P-ai/p-music/CNN_oscar/wandb/run-20221123_190745-uhj2uxc0/files/model-best/assets\n",
      "\u001b[34m\u001b[1mwandb\u001b[0m: Adding directory to artifact (/home/oscar47/Desktop/P-ai/p-music/CNN_oscar/wandb/run-20221123_190745-uhj2uxc0/files/model-best)... Done. 0.1s\n"
     ]
    },
    {
     "name": "stdout",
     "output_type": "stream",
     "text": [
      "23/23 [==============================] - 60s 3s/step - loss: 0.8665 - val_loss: 0.8653\n",
      "Epoch 10/19\n",
      "23/23 [==============================] - ETA: 0s - loss: 0.8659"
     ]
    },
    {
     "name": "stderr",
     "output_type": "stream",
     "text": [
      "WARNING:absl:Found untraced functions such as _jit_compiled_convolution_op, _jit_compiled_convolution_op, _jit_compiled_convolution_op while saving (showing 3 of 3). These functions will not be directly callable after loading.\n"
     ]
    },
    {
     "name": "stdout",
     "output_type": "stream",
     "text": [
      "INFO:tensorflow:Assets written to: /home/oscar47/Desktop/P-ai/p-music/CNN_oscar/wandb/run-20221123_190745-uhj2uxc0/files/model-best/assets\n"
     ]
    },
    {
     "name": "stderr",
     "output_type": "stream",
     "text": [
      "INFO:tensorflow:Assets written to: /home/oscar47/Desktop/P-ai/p-music/CNN_oscar/wandb/run-20221123_190745-uhj2uxc0/files/model-best/assets\n",
      "\u001b[34m\u001b[1mwandb\u001b[0m: Adding directory to artifact (/home/oscar47/Desktop/P-ai/p-music/CNN_oscar/wandb/run-20221123_190745-uhj2uxc0/files/model-best)... Done. 0.1s\n"
     ]
    },
    {
     "name": "stdout",
     "output_type": "stream",
     "text": [
      "23/23 [==============================] - 60s 3s/step - loss: 0.8659 - val_loss: 0.8647\n",
      "Epoch 11/19\n",
      "23/23 [==============================] - ETA: 0s - loss: 0.8653"
     ]
    },
    {
     "name": "stderr",
     "output_type": "stream",
     "text": [
      "WARNING:absl:Found untraced functions such as _jit_compiled_convolution_op, _jit_compiled_convolution_op, _jit_compiled_convolution_op while saving (showing 3 of 3). These functions will not be directly callable after loading.\n"
     ]
    },
    {
     "name": "stdout",
     "output_type": "stream",
     "text": [
      "INFO:tensorflow:Assets written to: /home/oscar47/Desktop/P-ai/p-music/CNN_oscar/wandb/run-20221123_190745-uhj2uxc0/files/model-best/assets\n"
     ]
    },
    {
     "name": "stderr",
     "output_type": "stream",
     "text": [
      "INFO:tensorflow:Assets written to: /home/oscar47/Desktop/P-ai/p-music/CNN_oscar/wandb/run-20221123_190745-uhj2uxc0/files/model-best/assets\n",
      "\u001b[34m\u001b[1mwandb\u001b[0m: Adding directory to artifact (/home/oscar47/Desktop/P-ai/p-music/CNN_oscar/wandb/run-20221123_190745-uhj2uxc0/files/model-best)... Done. 0.1s\n"
     ]
    },
    {
     "name": "stdout",
     "output_type": "stream",
     "text": [
      "23/23 [==============================] - 60s 3s/step - loss: 0.8653 - val_loss: 0.8640\n",
      "Epoch 12/19\n",
      "23/23 [==============================] - ETA: 0s - loss: 0.8646"
     ]
    },
    {
     "name": "stderr",
     "output_type": "stream",
     "text": [
      "WARNING:absl:Found untraced functions such as _jit_compiled_convolution_op, _jit_compiled_convolution_op, _jit_compiled_convolution_op while saving (showing 3 of 3). These functions will not be directly callable after loading.\n"
     ]
    },
    {
     "name": "stdout",
     "output_type": "stream",
     "text": [
      "INFO:tensorflow:Assets written to: /home/oscar47/Desktop/P-ai/p-music/CNN_oscar/wandb/run-20221123_190745-uhj2uxc0/files/model-best/assets\n"
     ]
    },
    {
     "name": "stderr",
     "output_type": "stream",
     "text": [
      "INFO:tensorflow:Assets written to: /home/oscar47/Desktop/P-ai/p-music/CNN_oscar/wandb/run-20221123_190745-uhj2uxc0/files/model-best/assets\n",
      "\u001b[34m\u001b[1mwandb\u001b[0m: Adding directory to artifact (/home/oscar47/Desktop/P-ai/p-music/CNN_oscar/wandb/run-20221123_190745-uhj2uxc0/files/model-best)... Done. 0.1s\n"
     ]
    },
    {
     "name": "stdout",
     "output_type": "stream",
     "text": [
      "23/23 [==============================] - 60s 3s/step - loss: 0.8646 - val_loss: 0.8633\n",
      "Epoch 13/19\n",
      "23/23 [==============================] - ETA: 0s - loss: 0.8639"
     ]
    },
    {
     "name": "stderr",
     "output_type": "stream",
     "text": [
      "WARNING:absl:Found untraced functions such as _jit_compiled_convolution_op, _jit_compiled_convolution_op, _jit_compiled_convolution_op while saving (showing 3 of 3). These functions will not be directly callable after loading.\n"
     ]
    },
    {
     "name": "stdout",
     "output_type": "stream",
     "text": [
      "INFO:tensorflow:Assets written to: /home/oscar47/Desktop/P-ai/p-music/CNN_oscar/wandb/run-20221123_190745-uhj2uxc0/files/model-best/assets\n"
     ]
    },
    {
     "name": "stderr",
     "output_type": "stream",
     "text": [
      "INFO:tensorflow:Assets written to: /home/oscar47/Desktop/P-ai/p-music/CNN_oscar/wandb/run-20221123_190745-uhj2uxc0/files/model-best/assets\n",
      "\u001b[34m\u001b[1mwandb\u001b[0m: Adding directory to artifact (/home/oscar47/Desktop/P-ai/p-music/CNN_oscar/wandb/run-20221123_190745-uhj2uxc0/files/model-best)... Done. 0.1s\n"
     ]
    },
    {
     "name": "stdout",
     "output_type": "stream",
     "text": [
      "23/23 [==============================] - 60s 3s/step - loss: 0.8639 - val_loss: 0.8626\n",
      "Epoch 14/19\n",
      "23/23 [==============================] - ETA: 0s - loss: 0.8631"
     ]
    },
    {
     "name": "stderr",
     "output_type": "stream",
     "text": [
      "WARNING:absl:Found untraced functions such as _jit_compiled_convolution_op, _jit_compiled_convolution_op, _jit_compiled_convolution_op while saving (showing 3 of 3). These functions will not be directly callable after loading.\n"
     ]
    },
    {
     "name": "stdout",
     "output_type": "stream",
     "text": [
      "INFO:tensorflow:Assets written to: /home/oscar47/Desktop/P-ai/p-music/CNN_oscar/wandb/run-20221123_190745-uhj2uxc0/files/model-best/assets\n"
     ]
    },
    {
     "name": "stderr",
     "output_type": "stream",
     "text": [
      "INFO:tensorflow:Assets written to: /home/oscar47/Desktop/P-ai/p-music/CNN_oscar/wandb/run-20221123_190745-uhj2uxc0/files/model-best/assets\n",
      "\u001b[34m\u001b[1mwandb\u001b[0m: Adding directory to artifact (/home/oscar47/Desktop/P-ai/p-music/CNN_oscar/wandb/run-20221123_190745-uhj2uxc0/files/model-best)... Done. 0.1s\n"
     ]
    },
    {
     "name": "stdout",
     "output_type": "stream",
     "text": [
      "23/23 [==============================] - 60s 3s/step - loss: 0.8631 - val_loss: 0.8618\n",
      "Epoch 15/19\n",
      "23/23 [==============================] - ETA: 0s - loss: 0.8623"
     ]
    },
    {
     "name": "stderr",
     "output_type": "stream",
     "text": [
      "WARNING:absl:Found untraced functions such as _jit_compiled_convolution_op, _jit_compiled_convolution_op, _jit_compiled_convolution_op while saving (showing 3 of 3). These functions will not be directly callable after loading.\n"
     ]
    },
    {
     "name": "stdout",
     "output_type": "stream",
     "text": [
      "INFO:tensorflow:Assets written to: /home/oscar47/Desktop/P-ai/p-music/CNN_oscar/wandb/run-20221123_190745-uhj2uxc0/files/model-best/assets\n"
     ]
    },
    {
     "name": "stderr",
     "output_type": "stream",
     "text": [
      "INFO:tensorflow:Assets written to: /home/oscar47/Desktop/P-ai/p-music/CNN_oscar/wandb/run-20221123_190745-uhj2uxc0/files/model-best/assets\n",
      "\u001b[34m\u001b[1mwandb\u001b[0m: Adding directory to artifact (/home/oscar47/Desktop/P-ai/p-music/CNN_oscar/wandb/run-20221123_190745-uhj2uxc0/files/model-best)... Done. 0.1s\n"
     ]
    },
    {
     "name": "stdout",
     "output_type": "stream",
     "text": [
      "23/23 [==============================] - 60s 3s/step - loss: 0.8623 - val_loss: 0.8610\n",
      "Epoch 16/19\n",
      "23/23 [==============================] - ETA: 0s - loss: 0.8615"
     ]
    },
    {
     "name": "stderr",
     "output_type": "stream",
     "text": [
      "WARNING:absl:Found untraced functions such as _jit_compiled_convolution_op, _jit_compiled_convolution_op, _jit_compiled_convolution_op while saving (showing 3 of 3). These functions will not be directly callable after loading.\n"
     ]
    },
    {
     "name": "stdout",
     "output_type": "stream",
     "text": [
      "INFO:tensorflow:Assets written to: /home/oscar47/Desktop/P-ai/p-music/CNN_oscar/wandb/run-20221123_190745-uhj2uxc0/files/model-best/assets\n"
     ]
    },
    {
     "name": "stderr",
     "output_type": "stream",
     "text": [
      "INFO:tensorflow:Assets written to: /home/oscar47/Desktop/P-ai/p-music/CNN_oscar/wandb/run-20221123_190745-uhj2uxc0/files/model-best/assets\n",
      "\u001b[34m\u001b[1mwandb\u001b[0m: Adding directory to artifact (/home/oscar47/Desktop/P-ai/p-music/CNN_oscar/wandb/run-20221123_190745-uhj2uxc0/files/model-best)... Done. 0.1s\n"
     ]
    },
    {
     "name": "stdout",
     "output_type": "stream",
     "text": [
      "23/23 [==============================] - 60s 3s/step - loss: 0.8615 - val_loss: 0.8602\n",
      "Epoch 17/19\n",
      "23/23 [==============================] - ETA: 0s - loss: 0.8607"
     ]
    },
    {
     "name": "stderr",
     "output_type": "stream",
     "text": [
      "WARNING:absl:Found untraced functions such as _jit_compiled_convolution_op, _jit_compiled_convolution_op, _jit_compiled_convolution_op while saving (showing 3 of 3). These functions will not be directly callable after loading.\n"
     ]
    },
    {
     "name": "stdout",
     "output_type": "stream",
     "text": [
      "INFO:tensorflow:Assets written to: /home/oscar47/Desktop/P-ai/p-music/CNN_oscar/wandb/run-20221123_190745-uhj2uxc0/files/model-best/assets\n"
     ]
    },
    {
     "name": "stderr",
     "output_type": "stream",
     "text": [
      "INFO:tensorflow:Assets written to: /home/oscar47/Desktop/P-ai/p-music/CNN_oscar/wandb/run-20221123_190745-uhj2uxc0/files/model-best/assets\n",
      "\u001b[34m\u001b[1mwandb\u001b[0m: Adding directory to artifact (/home/oscar47/Desktop/P-ai/p-music/CNN_oscar/wandb/run-20221123_190745-uhj2uxc0/files/model-best)... Done. 0.1s\n"
     ]
    },
    {
     "name": "stdout",
     "output_type": "stream",
     "text": [
      "23/23 [==============================] - 60s 3s/step - loss: 0.8607 - val_loss: 0.8594\n",
      "Epoch 18/19\n",
      "23/23 [==============================] - ETA: 0s - loss: 0.8598"
     ]
    },
    {
     "name": "stderr",
     "output_type": "stream",
     "text": [
      "WARNING:absl:Found untraced functions such as _jit_compiled_convolution_op, _jit_compiled_convolution_op, _jit_compiled_convolution_op while saving (showing 3 of 3). These functions will not be directly callable after loading.\n"
     ]
    },
    {
     "name": "stdout",
     "output_type": "stream",
     "text": [
      "INFO:tensorflow:Assets written to: /home/oscar47/Desktop/P-ai/p-music/CNN_oscar/wandb/run-20221123_190745-uhj2uxc0/files/model-best/assets\n"
     ]
    },
    {
     "name": "stderr",
     "output_type": "stream",
     "text": [
      "INFO:tensorflow:Assets written to: /home/oscar47/Desktop/P-ai/p-music/CNN_oscar/wandb/run-20221123_190745-uhj2uxc0/files/model-best/assets\n",
      "\u001b[34m\u001b[1mwandb\u001b[0m: Adding directory to artifact (/home/oscar47/Desktop/P-ai/p-music/CNN_oscar/wandb/run-20221123_190745-uhj2uxc0/files/model-best)... Done. 0.2s\n"
     ]
    },
    {
     "name": "stdout",
     "output_type": "stream",
     "text": [
      "23/23 [==============================] - 60s 3s/step - loss: 0.8598 - val_loss: 0.8585\n",
      "Epoch 19/19\n",
      "23/23 [==============================] - ETA: 0s - loss: 0.8589"
     ]
    },
    {
     "name": "stderr",
     "output_type": "stream",
     "text": [
      "WARNING:absl:Found untraced functions such as _jit_compiled_convolution_op, _jit_compiled_convolution_op, _jit_compiled_convolution_op while saving (showing 3 of 3). These functions will not be directly callable after loading.\n"
     ]
    },
    {
     "name": "stdout",
     "output_type": "stream",
     "text": [
      "INFO:tensorflow:Assets written to: /home/oscar47/Desktop/P-ai/p-music/CNN_oscar/wandb/run-20221123_190745-uhj2uxc0/files/model-best/assets\n"
     ]
    },
    {
     "name": "stderr",
     "output_type": "stream",
     "text": [
      "INFO:tensorflow:Assets written to: /home/oscar47/Desktop/P-ai/p-music/CNN_oscar/wandb/run-20221123_190745-uhj2uxc0/files/model-best/assets\n",
      "\u001b[34m\u001b[1mwandb\u001b[0m: Adding directory to artifact (/home/oscar47/Desktop/P-ai/p-music/CNN_oscar/wandb/run-20221123_190745-uhj2uxc0/files/model-best)... Done. 0.1s\n"
     ]
    },
    {
     "name": "stdout",
     "output_type": "stream",
     "text": [
      "23/23 [==============================] - 60s 3s/step - loss: 0.8589 - val_loss: 0.8576\n"
     ]
    },
    {
     "data": {
      "text/html": [
       "Waiting for W&B process to finish... <strong style=\"color:green\">(success).</strong>"
      ],
      "text/plain": [
       "<IPython.core.display.HTML object>"
      ]
     },
     "metadata": {},
     "output_type": "display_data"
    },
    {
     "data": {
      "text/html": [
       "<style>\n",
       "    table.wandb td:nth-child(1) { padding: 0 10px; text-align: left ; width: auto;} td:nth-child(2) {text-align: left ; width: 100%}\n",
       "    .wandb-row { display: flex; flex-direction: row; flex-wrap: wrap; justify-content: flex-start; width: 100% }\n",
       "    .wandb-col { display: flex; flex-direction: column; flex-basis: 100%; flex: 1; padding: 10px; }\n",
       "    </style>\n",
       "<div class=\"wandb-row\"><div class=\"wandb-col\"><h3>Run history:</h3><br/><table class=\"wandb\"><tr><td>epoch</td><td>▁▁▂▂▃▃▃▄▄▅▅▅▆▆▆▇▇██</td></tr><tr><td>loss</td><td>█▁▁▁▁▁▁▁▁▁▁▁▁▁▁▁▁▁▁</td></tr><tr><td>val_loss</td><td>█▂▁▁▁▁▁▁▁▁▁▁▁▁▁▁▁▁▁</td></tr></table><br/></div><div class=\"wandb-col\"><h3>Run summary:</h3><br/><table class=\"wandb\"><tr><td>best_epoch</td><td>18</td></tr><tr><td>best_val_loss</td><td>0.85756</td></tr><tr><td>epoch</td><td>18</td></tr><tr><td>loss</td><td>0.85893</td></tr><tr><td>val_loss</td><td>0.85756</td></tr></table><br/></div></div>"
      ],
      "text/plain": [
       "<IPython.core.display.HTML object>"
      ]
     },
     "metadata": {},
     "output_type": "display_data"
    },
    {
     "data": {
      "text/html": [
       "Synced <strong style=\"color:#cdcd00\">fanciful-sweep-9</strong>: <a href=\"https://wandb.ai/p-ai/Oscar%20CNN1/runs/uhj2uxc0\" target=\"_blank\">https://wandb.ai/p-ai/Oscar%20CNN1/runs/uhj2uxc0</a><br/>Synced 6 W&B file(s), 1 media file(s), 77 artifact file(s) and 1 other file(s)"
      ],
      "text/plain": [
       "<IPython.core.display.HTML object>"
      ]
     },
     "metadata": {},
     "output_type": "display_data"
    },
    {
     "data": {
      "text/html": [
       "Find logs at: <code>./wandb/run-20221123_190745-uhj2uxc0/logs</code>"
      ],
      "text/plain": [
       "<IPython.core.display.HTML object>"
      ]
     },
     "metadata": {},
     "output_type": "display_data"
    },
    {
     "name": "stderr",
     "output_type": "stream",
     "text": [
      "\u001b[34m\u001b[1mwandb\u001b[0m: Agent Starting Run: zroyrfps with config:\n",
      "\u001b[34m\u001b[1mwandb\u001b[0m: \tbatch_size: 64\n",
      "\u001b[34m\u001b[1mwandb\u001b[0m: \tdense1: 84\n",
      "\u001b[34m\u001b[1mwandb\u001b[0m: \tepochs: 22\n",
      "\u001b[34m\u001b[1mwandb\u001b[0m: \tlearning_rate: 0.02898402793098889\n",
      "\u001b[34m\u001b[1mwandb\u001b[0m: \tsize_1: 181\n",
      "\u001b[34m\u001b[1mwandb\u001b[0m: \tsize_2: 150\n",
      "\u001b[34m\u001b[1mwandb\u001b[0m: \tsize_3: 172\n"
     ]
    },
    {
     "data": {
      "text/html": [
       "Tracking run with wandb version 0.13.5"
      ],
      "text/plain": [
       "<IPython.core.display.HTML object>"
      ]
     },
     "metadata": {},
     "output_type": "display_data"
    },
    {
     "data": {
      "text/html": [
       "Run data is saved locally in <code>/home/oscar47/Desktop/P-ai/p-music/CNN_oscar/wandb/run-20221123_192703-zroyrfps</code>"
      ],
      "text/plain": [
       "<IPython.core.display.HTML object>"
      ]
     },
     "metadata": {},
     "output_type": "display_data"
    },
    {
     "data": {
      "text/html": [
       "Syncing run <strong><a href=\"https://wandb.ai/p-ai/Oscar%20CNN1/runs/zroyrfps\" target=\"_blank\">scarlet-sweep-10</a></strong> to <a href=\"https://wandb.ai/p-ai/Oscar%20CNN1\" target=\"_blank\">Weights & Biases</a> (<a href=\"https://wandb.me/run\" target=\"_blank\">docs</a>)<br/>Sweep page:  <a href=\"https://wandb.ai/p-ai/Oscar%20CNN1/sweeps/wsxqxjvp\" target=\"_blank\">https://wandb.ai/p-ai/Oscar%20CNN1/sweeps/wsxqxjvp</a>"
      ],
      "text/plain": [
       "<IPython.core.display.HTML object>"
      ]
     },
     "metadata": {},
     "output_type": "display_data"
    },
    {
     "name": "stdout",
     "output_type": "stream",
     "text": [
      "Epoch 1/22\n",
      "23/23 [==============================] - ETA: 0s - loss: 3449274368.0000"
     ]
    },
    {
     "name": "stderr",
     "output_type": "stream",
     "text": [
      "WARNING:absl:Found untraced functions such as _jit_compiled_convolution_op, _jit_compiled_convolution_op, _jit_compiled_convolution_op while saving (showing 3 of 3). These functions will not be directly callable after loading.\n"
     ]
    },
    {
     "name": "stdout",
     "output_type": "stream",
     "text": [
      "INFO:tensorflow:Assets written to: /home/oscar47/Desktop/P-ai/p-music/CNN_oscar/wandb/run-20221123_192703-zroyrfps/files/model-best/assets\n"
     ]
    },
    {
     "name": "stderr",
     "output_type": "stream",
     "text": [
      "INFO:tensorflow:Assets written to: /home/oscar47/Desktop/P-ai/p-music/CNN_oscar/wandb/run-20221123_192703-zroyrfps/files/model-best/assets\n",
      "\u001b[34m\u001b[1mwandb\u001b[0m: Adding directory to artifact (/home/oscar47/Desktop/P-ai/p-music/CNN_oscar/wandb/run-20221123_192703-zroyrfps/files/model-best)... Done. 0.2s\n"
     ]
    },
    {
     "name": "stdout",
     "output_type": "stream",
     "text": [
      "23/23 [==============================] - 39s 2s/step - loss: 3449274368.0000 - val_loss: 0.9225\n",
      "Epoch 2/22\n",
      "23/23 [==============================] - 37s 2s/step - loss: 0.9450 - val_loss: 0.9564\n",
      "Epoch 3/22\n",
      "23/23 [==============================] - 37s 2s/step - loss: 0.9597 - val_loss: 0.9600\n",
      "Epoch 4/22\n",
      "23/23 [==============================] - 37s 2s/step - loss: 0.9611 - val_loss: 0.9602\n",
      "Epoch 5/22\n",
      "23/23 [==============================] - 37s 2s/step - loss: 0.9610 - val_loss: 0.9599\n",
      "Epoch 6/22\n",
      "23/23 [==============================] - 37s 2s/step - loss: 0.9606 - val_loss: 0.9595\n",
      "Epoch 7/22\n",
      "23/23 [==============================] - 37s 2s/step - loss: 0.9603 - val_loss: 0.9591\n",
      "Epoch 8/22\n",
      "23/23 [==============================] - 37s 2s/step - loss: 0.9599 - val_loss: 0.9587\n",
      "Epoch 9/22\n",
      "23/23 [==============================] - 37s 2s/step - loss: 0.9594 - val_loss: 0.9583\n",
      "Epoch 10/22\n",
      "23/23 [==============================] - 37s 2s/step - loss: 0.9590 - val_loss: 0.9578\n",
      "Epoch 11/22\n",
      "23/23 [==============================] - 37s 2s/step - loss: 0.9585 - val_loss: 0.9573\n",
      "Epoch 12/22\n",
      "23/23 [==============================] - 37s 2s/step - loss: 0.9579 - val_loss: 0.9567\n",
      "Epoch 13/22\n",
      "23/23 [==============================] - 37s 2s/step - loss: 0.9574 - val_loss: 0.9562\n",
      "Epoch 14/22\n",
      "23/23 [==============================] - 37s 2s/step - loss: 0.9568 - val_loss: 0.9556\n",
      "Epoch 15/22\n",
      "23/23 [==============================] - 37s 2s/step - loss: 0.9562 - val_loss: 0.9550\n",
      "Epoch 16/22\n",
      "23/23 [==============================] - 37s 2s/step - loss: 0.9556 - val_loss: 0.9543\n",
      "Epoch 17/22\n",
      "23/23 [==============================] - 37s 2s/step - loss: 0.9550 - val_loss: 0.9537\n",
      "Epoch 18/22\n",
      "23/23 [==============================] - 37s 2s/step - loss: 0.9543 - val_loss: 0.9530\n",
      "Epoch 19/22\n",
      "23/23 [==============================] - 37s 2s/step - loss: 0.9536 - val_loss: 0.9523\n",
      "Epoch 20/22\n",
      "23/23 [==============================] - 37s 2s/step - loss: 0.9529 - val_loss: 0.9515\n",
      "Epoch 21/22\n",
      "23/23 [==============================] - 37s 2s/step - loss: 0.9521 - val_loss: 0.9508\n",
      "Epoch 22/22\n",
      "23/23 [==============================] - 37s 2s/step - loss: 0.9514 - val_loss: 0.9500\n"
     ]
    },
    {
     "data": {
      "text/html": [
       "Waiting for W&B process to finish... <strong style=\"color:green\">(success).</strong>"
      ],
      "text/plain": [
       "<IPython.core.display.HTML object>"
      ]
     },
     "metadata": {},
     "output_type": "display_data"
    },
    {
     "data": {
      "application/vnd.jupyter.widget-view+json": {
       "model_id": "363613ea9540479fb1e9749e00eb27a9",
       "version_major": 2,
       "version_minor": 0
      },
      "text/plain": [
       "VBox(children=(Label(value='189.849 MB of 189.849 MB uploaded (0.000 MB deduped)\\r'), FloatProgress(value=1.0,…"
      ]
     },
     "metadata": {},
     "output_type": "display_data"
    },
    {
     "data": {
      "text/html": [
       "<style>\n",
       "    table.wandb td:nth-child(1) { padding: 0 10px; text-align: left ; width: auto;} td:nth-child(2) {text-align: left ; width: 100%}\n",
       "    .wandb-row { display: flex; flex-direction: row; flex-wrap: wrap; justify-content: flex-start; width: 100% }\n",
       "    .wandb-col { display: flex; flex-direction: column; flex-basis: 100%; flex: 1; padding: 10px; }\n",
       "    </style>\n",
       "<div class=\"wandb-row\"><div class=\"wandb-col\"><h3>Run history:</h3><br/><table class=\"wandb\"><tr><td>epoch</td><td>▁▁▂▂▂▃▃▃▄▄▄▅▅▅▆▆▆▇▇▇██</td></tr><tr><td>loss</td><td>█▁▁▁▁▁▁▁▁▁▁▁▁▁▁▁▁▁▁▁▁▁</td></tr><tr><td>val_loss</td><td>▁▇████████▇▇▇▇▇▇▇▇▇▆▆▆</td></tr></table><br/></div><div class=\"wandb-col\"><h3>Run summary:</h3><br/><table class=\"wandb\"><tr><td>best_epoch</td><td>0</td></tr><tr><td>best_val_loss</td><td>0.92254</td></tr><tr><td>epoch</td><td>21</td></tr><tr><td>loss</td><td>0.95136</td></tr><tr><td>val_loss</td><td>0.95002</td></tr></table><br/></div></div>"
      ],
      "text/plain": [
       "<IPython.core.display.HTML object>"
      ]
     },
     "metadata": {},
     "output_type": "display_data"
    },
    {
     "data": {
      "text/html": [
       "Synced <strong style=\"color:#cdcd00\">scarlet-sweep-10</strong>: <a href=\"https://wandb.ai/p-ai/Oscar%20CNN1/runs/zroyrfps\" target=\"_blank\">https://wandb.ai/p-ai/Oscar%20CNN1/runs/zroyrfps</a><br/>Synced 6 W&B file(s), 1 media file(s), 5 artifact file(s) and 1 other file(s)"
      ],
      "text/plain": [
       "<IPython.core.display.HTML object>"
      ]
     },
     "metadata": {},
     "output_type": "display_data"
    },
    {
     "data": {
      "text/html": [
       "Find logs at: <code>./wandb/run-20221123_192703-zroyrfps/logs</code>"
      ],
      "text/plain": [
       "<IPython.core.display.HTML object>"
      ]
     },
     "metadata": {},
     "output_type": "display_data"
    },
    {
     "name": "stderr",
     "output_type": "stream",
     "text": [
      "\u001b[34m\u001b[1mwandb\u001b[0m: Agent Starting Run: p59tj4l8 with config:\n",
      "\u001b[34m\u001b[1mwandb\u001b[0m: \tbatch_size: 32\n",
      "\u001b[34m\u001b[1mwandb\u001b[0m: \tdense1: 240\n",
      "\u001b[34m\u001b[1mwandb\u001b[0m: \tepochs: 20\n",
      "\u001b[34m\u001b[1mwandb\u001b[0m: \tlearning_rate: 0.0071050270364592105\n",
      "\u001b[34m\u001b[1mwandb\u001b[0m: \tsize_1: 85\n",
      "\u001b[34m\u001b[1mwandb\u001b[0m: \tsize_2: 147\n",
      "\u001b[34m\u001b[1mwandb\u001b[0m: \tsize_3: 89\n"
     ]
    },
    {
     "data": {
      "text/html": [
       "Tracking run with wandb version 0.13.5"
      ],
      "text/plain": [
       "<IPython.core.display.HTML object>"
      ]
     },
     "metadata": {},
     "output_type": "display_data"
    },
    {
     "data": {
      "text/html": [
       "Run data is saved locally in <code>/home/oscar47/Desktop/P-ai/p-music/CNN_oscar/wandb/run-20221123_194050-p59tj4l8</code>"
      ],
      "text/plain": [
       "<IPython.core.display.HTML object>"
      ]
     },
     "metadata": {},
     "output_type": "display_data"
    },
    {
     "data": {
      "text/html": [
       "Syncing run <strong><a href=\"https://wandb.ai/p-ai/Oscar%20CNN1/runs/p59tj4l8\" target=\"_blank\">devout-sweep-11</a></strong> to <a href=\"https://wandb.ai/p-ai/Oscar%20CNN1\" target=\"_blank\">Weights & Biases</a> (<a href=\"https://wandb.me/run\" target=\"_blank\">docs</a>)<br/>Sweep page:  <a href=\"https://wandb.ai/p-ai/Oscar%20CNN1/sweeps/wsxqxjvp\" target=\"_blank\">https://wandb.ai/p-ai/Oscar%20CNN1/sweeps/wsxqxjvp</a>"
      ],
      "text/plain": [
       "<IPython.core.display.HTML object>"
      ]
     },
     "metadata": {},
     "output_type": "display_data"
    },
    {
     "name": "stdout",
     "output_type": "stream",
     "text": [
      "Epoch 1/20\n",
      "45/45 [==============================] - ETA: 0s - loss: 47240.7461"
     ]
    },
    {
     "name": "stderr",
     "output_type": "stream",
     "text": [
      "WARNING:absl:Found untraced functions such as _jit_compiled_convolution_op, _jit_compiled_convolution_op, _jit_compiled_convolution_op while saving (showing 3 of 3). These functions will not be directly callable after loading.\n"
     ]
    },
    {
     "name": "stdout",
     "output_type": "stream",
     "text": [
      "INFO:tensorflow:Assets written to: /home/oscar47/Desktop/P-ai/p-music/CNN_oscar/wandb/run-20221123_194050-p59tj4l8/files/model-best/assets\n"
     ]
    },
    {
     "name": "stderr",
     "output_type": "stream",
     "text": [
      "INFO:tensorflow:Assets written to: /home/oscar47/Desktop/P-ai/p-music/CNN_oscar/wandb/run-20221123_194050-p59tj4l8/files/model-best/assets\n",
      "\u001b[34m\u001b[1mwandb\u001b[0m: Adding directory to artifact (/home/oscar47/Desktop/P-ai/p-music/CNN_oscar/wandb/run-20221123_194050-p59tj4l8/files/model-best)... Done. 0.2s\n"
     ]
    },
    {
     "name": "stdout",
     "output_type": "stream",
     "text": [
      "45/45 [==============================] - 21s 462ms/step - loss: 47240.7461 - val_loss: 0.0451\n",
      "Epoch 2/20\n",
      "45/45 [==============================] - ETA: 0s - loss: 0.0117"
     ]
    },
    {
     "name": "stderr",
     "output_type": "stream",
     "text": [
      "WARNING:absl:Found untraced functions such as _jit_compiled_convolution_op, _jit_compiled_convolution_op, _jit_compiled_convolution_op while saving (showing 3 of 3). These functions will not be directly callable after loading.\n"
     ]
    },
    {
     "name": "stdout",
     "output_type": "stream",
     "text": [
      "INFO:tensorflow:Assets written to: /home/oscar47/Desktop/P-ai/p-music/CNN_oscar/wandb/run-20221123_194050-p59tj4l8/files/model-best/assets\n"
     ]
    },
    {
     "name": "stderr",
     "output_type": "stream",
     "text": [
      "INFO:tensorflow:Assets written to: /home/oscar47/Desktop/P-ai/p-music/CNN_oscar/wandb/run-20221123_194050-p59tj4l8/files/model-best/assets\n",
      "\u001b[34m\u001b[1mwandb\u001b[0m: Adding directory to artifact (/home/oscar47/Desktop/P-ai/p-music/CNN_oscar/wandb/run-20221123_194050-p59tj4l8/files/model-best)... Done. 0.3s\n"
     ]
    },
    {
     "name": "stdout",
     "output_type": "stream",
     "text": [
      "45/45 [==============================] - 20s 455ms/step - loss: 0.0117 - val_loss: 0.0050\n",
      "Epoch 3/20\n",
      "45/45 [==============================] - ETA: 0s - loss: 0.0032"
     ]
    },
    {
     "name": "stderr",
     "output_type": "stream",
     "text": [
      "WARNING:absl:Found untraced functions such as _jit_compiled_convolution_op, _jit_compiled_convolution_op, _jit_compiled_convolution_op while saving (showing 3 of 3). These functions will not be directly callable after loading.\n"
     ]
    },
    {
     "name": "stdout",
     "output_type": "stream",
     "text": [
      "INFO:tensorflow:Assets written to: /home/oscar47/Desktop/P-ai/p-music/CNN_oscar/wandb/run-20221123_194050-p59tj4l8/files/model-best/assets\n"
     ]
    },
    {
     "name": "stderr",
     "output_type": "stream",
     "text": [
      "INFO:tensorflow:Assets written to: /home/oscar47/Desktop/P-ai/p-music/CNN_oscar/wandb/run-20221123_194050-p59tj4l8/files/model-best/assets\n",
      "\u001b[34m\u001b[1mwandb\u001b[0m: Adding directory to artifact (/home/oscar47/Desktop/P-ai/p-music/CNN_oscar/wandb/run-20221123_194050-p59tj4l8/files/model-best)... Done. 0.2s\n"
     ]
    },
    {
     "name": "stdout",
     "output_type": "stream",
     "text": [
      "45/45 [==============================] - 21s 457ms/step - loss: 0.0032 - val_loss: 0.0025\n",
      "Epoch 4/20\n",
      "45/45 [==============================] - 20s 437ms/step - loss: 0.0026 - val_loss: 0.0040\n",
      "Epoch 5/20\n",
      "45/45 [==============================] - ETA: 0s - loss: 0.0025"
     ]
    },
    {
     "name": "stderr",
     "output_type": "stream",
     "text": [
      "WARNING:absl:Found untraced functions such as _jit_compiled_convolution_op, _jit_compiled_convolution_op, _jit_compiled_convolution_op while saving (showing 3 of 3). These functions will not be directly callable after loading.\n"
     ]
    },
    {
     "name": "stdout",
     "output_type": "stream",
     "text": [
      "INFO:tensorflow:Assets written to: /home/oscar47/Desktop/P-ai/p-music/CNN_oscar/wandb/run-20221123_194050-p59tj4l8/files/model-best/assets\n"
     ]
    },
    {
     "name": "stderr",
     "output_type": "stream",
     "text": [
      "INFO:tensorflow:Assets written to: /home/oscar47/Desktop/P-ai/p-music/CNN_oscar/wandb/run-20221123_194050-p59tj4l8/files/model-best/assets\n",
      "\u001b[34m\u001b[1mwandb\u001b[0m: Adding directory to artifact (/home/oscar47/Desktop/P-ai/p-music/CNN_oscar/wandb/run-20221123_194050-p59tj4l8/files/model-best)... Done. 0.3s\n"
     ]
    },
    {
     "name": "stdout",
     "output_type": "stream",
     "text": [
      "45/45 [==============================] - 20s 456ms/step - loss: 0.0025 - val_loss: 0.0018\n",
      "Epoch 6/20\n",
      "45/45 [==============================] - 20s 434ms/step - loss: 0.0024 - val_loss: 0.0025\n",
      "Epoch 7/20\n",
      "45/45 [==============================] - 19s 429ms/step - loss: 0.0027 - val_loss: 0.0048\n",
      "Epoch 8/20\n",
      "45/45 [==============================] - 19s 429ms/step - loss: 0.0029 - val_loss: 0.0019\n",
      "Epoch 9/20\n",
      "45/45 [==============================] - ETA: 0s - loss: 0.0021"
     ]
    },
    {
     "name": "stderr",
     "output_type": "stream",
     "text": [
      "WARNING:absl:Found untraced functions such as _jit_compiled_convolution_op, _jit_compiled_convolution_op, _jit_compiled_convolution_op while saving (showing 3 of 3). These functions will not be directly callable after loading.\n"
     ]
    },
    {
     "name": "stdout",
     "output_type": "stream",
     "text": [
      "INFO:tensorflow:Assets written to: /home/oscar47/Desktop/P-ai/p-music/CNN_oscar/wandb/run-20221123_194050-p59tj4l8/files/model-best/assets\n"
     ]
    },
    {
     "name": "stderr",
     "output_type": "stream",
     "text": [
      "INFO:tensorflow:Assets written to: /home/oscar47/Desktop/P-ai/p-music/CNN_oscar/wandb/run-20221123_194050-p59tj4l8/files/model-best/assets\n",
      "\u001b[34m\u001b[1mwandb\u001b[0m: Adding directory to artifact (/home/oscar47/Desktop/P-ai/p-music/CNN_oscar/wandb/run-20221123_194050-p59tj4l8/files/model-best)... Done. 0.2s\n"
     ]
    },
    {
     "name": "stdout",
     "output_type": "stream",
     "text": [
      "45/45 [==============================] - 20s 448ms/step - loss: 0.0021 - val_loss: 0.0017\n",
      "Epoch 10/20\n",
      "45/45 [==============================] - ETA: 0s - loss: 0.0024"
     ]
    },
    {
     "name": "stderr",
     "output_type": "stream",
     "text": [
      "WARNING:absl:Found untraced functions such as _jit_compiled_convolution_op, _jit_compiled_convolution_op, _jit_compiled_convolution_op while saving (showing 3 of 3). These functions will not be directly callable after loading.\n"
     ]
    },
    {
     "name": "stdout",
     "output_type": "stream",
     "text": [
      "INFO:tensorflow:Assets written to: /home/oscar47/Desktop/P-ai/p-music/CNN_oscar/wandb/run-20221123_194050-p59tj4l8/files/model-best/assets\n"
     ]
    },
    {
     "name": "stderr",
     "output_type": "stream",
     "text": [
      "INFO:tensorflow:Assets written to: /home/oscar47/Desktop/P-ai/p-music/CNN_oscar/wandb/run-20221123_194050-p59tj4l8/files/model-best/assets\n",
      "\u001b[34m\u001b[1mwandb\u001b[0m: Adding directory to artifact (/home/oscar47/Desktop/P-ai/p-music/CNN_oscar/wandb/run-20221123_194050-p59tj4l8/files/model-best)... Done. 0.2s\n"
     ]
    },
    {
     "name": "stdout",
     "output_type": "stream",
     "text": [
      "45/45 [==============================] - 21s 456ms/step - loss: 0.0024 - val_loss: 0.0016\n",
      "Epoch 11/20\n",
      "45/45 [==============================] - 20s 435ms/step - loss: 0.0022 - val_loss: 0.0017\n",
      "Epoch 12/20\n",
      "45/45 [==============================] - 19s 428ms/step - loss: 0.0020 - val_loss: 0.0038\n",
      "Epoch 13/20\n",
      "45/45 [==============================] - 19s 429ms/step - loss: 0.0027 - val_loss: 0.0035\n",
      "Epoch 14/20\n",
      "45/45 [==============================] - 19s 429ms/step - loss: 0.0025 - val_loss: 0.0020\n",
      "Epoch 15/20\n",
      "45/45 [==============================] - 19s 431ms/step - loss: 0.0018 - val_loss: 0.0021\n",
      "Epoch 16/20\n",
      "45/45 [==============================] - 19s 431ms/step - loss: 0.0023 - val_loss: 0.0016\n",
      "Epoch 17/20\n",
      "45/45 [==============================] - 19s 431ms/step - loss: 0.0022 - val_loss: 0.0021\n",
      "Epoch 18/20\n",
      "45/45 [==============================] - 19s 429ms/step - loss: 0.0021 - val_loss: 0.0024\n",
      "Epoch 19/20\n",
      "45/45 [==============================] - 19s 428ms/step - loss: 0.0019 - val_loss: 0.0030\n",
      "Epoch 20/20\n",
      "45/45 [==============================] - ETA: 0s - loss: 0.0020"
     ]
    },
    {
     "name": "stderr",
     "output_type": "stream",
     "text": [
      "WARNING:absl:Found untraced functions such as _jit_compiled_convolution_op, _jit_compiled_convolution_op, _jit_compiled_convolution_op while saving (showing 3 of 3). These functions will not be directly callable after loading.\n"
     ]
    },
    {
     "name": "stdout",
     "output_type": "stream",
     "text": [
      "INFO:tensorflow:Assets written to: /home/oscar47/Desktop/P-ai/p-music/CNN_oscar/wandb/run-20221123_194050-p59tj4l8/files/model-best/assets\n"
     ]
    },
    {
     "name": "stderr",
     "output_type": "stream",
     "text": [
      "INFO:tensorflow:Assets written to: /home/oscar47/Desktop/P-ai/p-music/CNN_oscar/wandb/run-20221123_194050-p59tj4l8/files/model-best/assets\n",
      "\u001b[34m\u001b[1mwandb\u001b[0m: Adding directory to artifact (/home/oscar47/Desktop/P-ai/p-music/CNN_oscar/wandb/run-20221123_194050-p59tj4l8/files/model-best)... Done. 0.2s\n"
     ]
    },
    {
     "name": "stdout",
     "output_type": "stream",
     "text": [
      "45/45 [==============================] - 20s 448ms/step - loss: 0.0020 - val_loss: 0.0016\n"
     ]
    },
    {
     "data": {
      "text/html": [
       "Waiting for W&B process to finish... <strong style=\"color:green\">(success).</strong>"
      ],
      "text/plain": [
       "<IPython.core.display.HTML object>"
      ]
     },
     "metadata": {},
     "output_type": "display_data"
    },
    {
     "data": {
      "text/html": [
       "<style>\n",
       "    table.wandb td:nth-child(1) { padding: 0 10px; text-align: left ; width: auto;} td:nth-child(2) {text-align: left ; width: 100%}\n",
       "    .wandb-row { display: flex; flex-direction: row; flex-wrap: wrap; justify-content: flex-start; width: 100% }\n",
       "    .wandb-col { display: flex; flex-direction: column; flex-basis: 100%; flex: 1; padding: 10px; }\n",
       "    </style>\n",
       "<div class=\"wandb-row\"><div class=\"wandb-col\"><h3>Run history:</h3><br/><table class=\"wandb\"><tr><td>epoch</td><td>▁▁▂▂▂▃▃▄▄▄▅▅▅▆▆▇▇▇██</td></tr><tr><td>loss</td><td>█▁▁▁▁▁▁▁▁▁▁▁▁▁▁▁▁▁▁▁</td></tr><tr><td>val_loss</td><td>█▂▁▁▁▁▂▁▁▁▁▁▁▁▁▁▁▁▁▁</td></tr></table><br/></div><div class=\"wandb-col\"><h3>Run summary:</h3><br/><table class=\"wandb\"><tr><td>best_epoch</td><td>19</td></tr><tr><td>best_val_loss</td><td>0.00164</td></tr><tr><td>epoch</td><td>19</td></tr><tr><td>loss</td><td>0.00196</td></tr><tr><td>val_loss</td><td>0.00164</td></tr></table><br/></div></div>"
      ],
      "text/plain": [
       "<IPython.core.display.HTML object>"
      ]
     },
     "metadata": {},
     "output_type": "display_data"
    },
    {
     "data": {
      "text/html": [
       "Synced <strong style=\"color:#cdcd00\">devout-sweep-11</strong>: <a href=\"https://wandb.ai/p-ai/Oscar%20CNN1/runs/p59tj4l8\" target=\"_blank\">https://wandb.ai/p-ai/Oscar%20CNN1/runs/p59tj4l8</a><br/>Synced 6 W&B file(s), 1 media file(s), 29 artifact file(s) and 1 other file(s)"
      ],
      "text/plain": [
       "<IPython.core.display.HTML object>"
      ]
     },
     "metadata": {},
     "output_type": "display_data"
    },
    {
     "data": {
      "text/html": [
       "Find logs at: <code>./wandb/run-20221123_194050-p59tj4l8/logs</code>"
      ],
      "text/plain": [
       "<IPython.core.display.HTML object>"
      ]
     },
     "metadata": {},
     "output_type": "display_data"
    },
    {
     "name": "stderr",
     "output_type": "stream",
     "text": [
      "\u001b[34m\u001b[1mwandb\u001b[0m: Agent Starting Run: ta60mg67 with config:\n",
      "\u001b[34m\u001b[1mwandb\u001b[0m: \tbatch_size: 64\n",
      "\u001b[34m\u001b[1mwandb\u001b[0m: \tdense1: 252\n",
      "\u001b[34m\u001b[1mwandb\u001b[0m: \tepochs: 22\n",
      "\u001b[34m\u001b[1mwandb\u001b[0m: \tlearning_rate: 0.010094970817788608\n",
      "\u001b[34m\u001b[1mwandb\u001b[0m: \tsize_1: 103\n",
      "\u001b[34m\u001b[1mwandb\u001b[0m: \tsize_2: 166\n",
      "\u001b[34m\u001b[1mwandb\u001b[0m: \tsize_3: 130\n"
     ]
    },
    {
     "data": {
      "text/html": [
       "Tracking run with wandb version 0.13.5"
      ],
      "text/plain": [
       "<IPython.core.display.HTML object>"
      ]
     },
     "metadata": {},
     "output_type": "display_data"
    },
    {
     "data": {
      "text/html": [
       "Run data is saved locally in <code>/home/oscar47/Desktop/P-ai/p-music/CNN_oscar/wandb/run-20221123_194747-ta60mg67</code>"
      ],
      "text/plain": [
       "<IPython.core.display.HTML object>"
      ]
     },
     "metadata": {},
     "output_type": "display_data"
    },
    {
     "data": {
      "text/html": [
       "Syncing run <strong><a href=\"https://wandb.ai/p-ai/Oscar%20CNN1/runs/ta60mg67\" target=\"_blank\">autumn-sweep-12</a></strong> to <a href=\"https://wandb.ai/p-ai/Oscar%20CNN1\" target=\"_blank\">Weights & Biases</a> (<a href=\"https://wandb.me/run\" target=\"_blank\">docs</a>)<br/>Sweep page:  <a href=\"https://wandb.ai/p-ai/Oscar%20CNN1/sweeps/wsxqxjvp\" target=\"_blank\">https://wandb.ai/p-ai/Oscar%20CNN1/sweeps/wsxqxjvp</a>"
      ],
      "text/plain": [
       "<IPython.core.display.HTML object>"
      ]
     },
     "metadata": {},
     "output_type": "display_data"
    },
    {
     "name": "stdout",
     "output_type": "stream",
     "text": [
      "Epoch 1/22\n",
      "23/23 [==============================] - ETA: 0s - loss: 1288927.2500"
     ]
    },
    {
     "name": "stderr",
     "output_type": "stream",
     "text": [
      "WARNING:absl:Found untraced functions such as _jit_compiled_convolution_op, _jit_compiled_convolution_op, _jit_compiled_convolution_op while saving (showing 3 of 3). These functions will not be directly callable after loading.\n"
     ]
    },
    {
     "name": "stdout",
     "output_type": "stream",
     "text": [
      "INFO:tensorflow:Assets written to: /home/oscar47/Desktop/P-ai/p-music/CNN_oscar/wandb/run-20221123_194747-ta60mg67/files/model-best/assets\n"
     ]
    },
    {
     "name": "stderr",
     "output_type": "stream",
     "text": [
      "INFO:tensorflow:Assets written to: /home/oscar47/Desktop/P-ai/p-music/CNN_oscar/wandb/run-20221123_194747-ta60mg67/files/model-best/assets\n",
      "\u001b[34m\u001b[1mwandb\u001b[0m: Adding directory to artifact (/home/oscar47/Desktop/P-ai/p-music/CNN_oscar/wandb/run-20221123_194747-ta60mg67/files/model-best)... Done. 0.4s\n"
     ]
    },
    {
     "name": "stdout",
     "output_type": "stream",
     "text": [
      "23/23 [==============================] - 27s 1s/step - loss: 1288927.2500 - val_loss: 0.5789\n",
      "Epoch 2/22\n",
      "23/23 [==============================] - ETA: 0s - loss: 0.6386"
     ]
    },
    {
     "name": "stderr",
     "output_type": "stream",
     "text": [
      "WARNING:absl:Found untraced functions such as _jit_compiled_convolution_op, _jit_compiled_convolution_op, _jit_compiled_convolution_op while saving (showing 3 of 3). These functions will not be directly callable after loading.\n"
     ]
    },
    {
     "name": "stdout",
     "output_type": "stream",
     "text": [
      "INFO:tensorflow:Assets written to: /home/oscar47/Desktop/P-ai/p-music/CNN_oscar/wandb/run-20221123_194747-ta60mg67/files/model-best/assets\n"
     ]
    },
    {
     "name": "stderr",
     "output_type": "stream",
     "text": [
      "INFO:tensorflow:Assets written to: /home/oscar47/Desktop/P-ai/p-music/CNN_oscar/wandb/run-20221123_194747-ta60mg67/files/model-best/assets\n",
      "\u001b[34m\u001b[1mwandb\u001b[0m: Adding directory to artifact (/home/oscar47/Desktop/P-ai/p-music/CNN_oscar/wandb/run-20221123_194747-ta60mg67/files/model-best)... Done. 0.3s\n"
     ]
    },
    {
     "name": "stdout",
     "output_type": "stream",
     "text": [
      "23/23 [==============================] - 26s 1s/step - loss: 0.6386 - val_loss: 0.4539\n",
      "Epoch 3/22\n",
      "23/23 [==============================] - ETA: 0s - loss: 0.2400"
     ]
    },
    {
     "name": "stderr",
     "output_type": "stream",
     "text": [
      "WARNING:absl:Found untraced functions such as _jit_compiled_convolution_op, _jit_compiled_convolution_op, _jit_compiled_convolution_op while saving (showing 3 of 3). These functions will not be directly callable after loading.\n"
     ]
    },
    {
     "name": "stdout",
     "output_type": "stream",
     "text": [
      "INFO:tensorflow:Assets written to: /home/oscar47/Desktop/P-ai/p-music/CNN_oscar/wandb/run-20221123_194747-ta60mg67/files/model-best/assets\n"
     ]
    },
    {
     "name": "stderr",
     "output_type": "stream",
     "text": [
      "INFO:tensorflow:Assets written to: /home/oscar47/Desktop/P-ai/p-music/CNN_oscar/wandb/run-20221123_194747-ta60mg67/files/model-best/assets\n",
      "\u001b[34m\u001b[1mwandb\u001b[0m: Adding directory to artifact (/home/oscar47/Desktop/P-ai/p-music/CNN_oscar/wandb/run-20221123_194747-ta60mg67/files/model-best)... Done. 0.3s\n"
     ]
    },
    {
     "name": "stdout",
     "output_type": "stream",
     "text": [
      "23/23 [==============================] - 26s 1s/step - loss: 0.2400 - val_loss: 0.0461\n",
      "Epoch 4/22\n",
      "23/23 [==============================] - ETA: 0s - loss: 0.0103"
     ]
    },
    {
     "name": "stderr",
     "output_type": "stream",
     "text": [
      "WARNING:absl:Found untraced functions such as _jit_compiled_convolution_op, _jit_compiled_convolution_op, _jit_compiled_convolution_op while saving (showing 3 of 3). These functions will not be directly callable after loading.\n"
     ]
    },
    {
     "name": "stdout",
     "output_type": "stream",
     "text": [
      "INFO:tensorflow:Assets written to: /home/oscar47/Desktop/P-ai/p-music/CNN_oscar/wandb/run-20221123_194747-ta60mg67/files/model-best/assets\n"
     ]
    },
    {
     "name": "stderr",
     "output_type": "stream",
     "text": [
      "INFO:tensorflow:Assets written to: /home/oscar47/Desktop/P-ai/p-music/CNN_oscar/wandb/run-20221123_194747-ta60mg67/files/model-best/assets\n",
      "\u001b[34m\u001b[1mwandb\u001b[0m: Adding directory to artifact (/home/oscar47/Desktop/P-ai/p-music/CNN_oscar/wandb/run-20221123_194747-ta60mg67/files/model-best)... Done. 0.4s\n"
     ]
    },
    {
     "name": "stdout",
     "output_type": "stream",
     "text": [
      "23/23 [==============================] - 26s 1s/step - loss: 0.0103 - val_loss: 0.0064\n",
      "Epoch 5/22\n",
      "23/23 [==============================] - ETA: 0s - loss: 0.0035"
     ]
    },
    {
     "name": "stderr",
     "output_type": "stream",
     "text": [
      "WARNING:absl:Found untraced functions such as _jit_compiled_convolution_op, _jit_compiled_convolution_op, _jit_compiled_convolution_op while saving (showing 3 of 3). These functions will not be directly callable after loading.\n"
     ]
    },
    {
     "name": "stdout",
     "output_type": "stream",
     "text": [
      "INFO:tensorflow:Assets written to: /home/oscar47/Desktop/P-ai/p-music/CNN_oscar/wandb/run-20221123_194747-ta60mg67/files/model-best/assets\n"
     ]
    },
    {
     "name": "stderr",
     "output_type": "stream",
     "text": [
      "INFO:tensorflow:Assets written to: /home/oscar47/Desktop/P-ai/p-music/CNN_oscar/wandb/run-20221123_194747-ta60mg67/files/model-best/assets\n",
      "\u001b[34m\u001b[1mwandb\u001b[0m: Adding directory to artifact (/home/oscar47/Desktop/P-ai/p-music/CNN_oscar/wandb/run-20221123_194747-ta60mg67/files/model-best)... Done. 0.3s\n"
     ]
    },
    {
     "name": "stdout",
     "output_type": "stream",
     "text": [
      "23/23 [==============================] - 26s 1s/step - loss: 0.0035 - val_loss: 0.0016\n",
      "Epoch 6/22\n",
      "23/23 [==============================] - ETA: 0s - loss: 0.0017"
     ]
    },
    {
     "name": "stderr",
     "output_type": "stream",
     "text": [
      "WARNING:absl:Found untraced functions such as _jit_compiled_convolution_op, _jit_compiled_convolution_op, _jit_compiled_convolution_op while saving (showing 3 of 3). These functions will not be directly callable after loading.\n"
     ]
    },
    {
     "name": "stdout",
     "output_type": "stream",
     "text": [
      "INFO:tensorflow:Assets written to: /home/oscar47/Desktop/P-ai/p-music/CNN_oscar/wandb/run-20221123_194747-ta60mg67/files/model-best/assets\n"
     ]
    },
    {
     "name": "stderr",
     "output_type": "stream",
     "text": [
      "INFO:tensorflow:Assets written to: /home/oscar47/Desktop/P-ai/p-music/CNN_oscar/wandb/run-20221123_194747-ta60mg67/files/model-best/assets\n",
      "\u001b[34m\u001b[1mwandb\u001b[0m: Adding directory to artifact (/home/oscar47/Desktop/P-ai/p-music/CNN_oscar/wandb/run-20221123_194747-ta60mg67/files/model-best)... Done. 0.3s\n"
     ]
    },
    {
     "name": "stdout",
     "output_type": "stream",
     "text": [
      "23/23 [==============================] - 26s 1s/step - loss: 0.0017 - val_loss: 0.0016\n",
      "Epoch 7/22\n",
      "23/23 [==============================] - ETA: 0s - loss: 0.0016"
     ]
    },
    {
     "name": "stderr",
     "output_type": "stream",
     "text": [
      "WARNING:absl:Found untraced functions such as _jit_compiled_convolution_op, _jit_compiled_convolution_op, _jit_compiled_convolution_op while saving (showing 3 of 3). These functions will not be directly callable after loading.\n"
     ]
    },
    {
     "name": "stdout",
     "output_type": "stream",
     "text": [
      "INFO:tensorflow:Assets written to: /home/oscar47/Desktop/P-ai/p-music/CNN_oscar/wandb/run-20221123_194747-ta60mg67/files/model-best/assets\n"
     ]
    },
    {
     "name": "stderr",
     "output_type": "stream",
     "text": [
      "INFO:tensorflow:Assets written to: /home/oscar47/Desktop/P-ai/p-music/CNN_oscar/wandb/run-20221123_194747-ta60mg67/files/model-best/assets\n",
      "\u001b[34m\u001b[1mwandb\u001b[0m: Adding directory to artifact (/home/oscar47/Desktop/P-ai/p-music/CNN_oscar/wandb/run-20221123_194747-ta60mg67/files/model-best)... Done. 0.4s\n"
     ]
    },
    {
     "name": "stdout",
     "output_type": "stream",
     "text": [
      "23/23 [==============================] - 26s 1s/step - loss: 0.0016 - val_loss: 0.0015\n",
      "Epoch 8/22\n",
      "23/23 [==============================] - ETA: 0s - loss: 0.0016"
     ]
    },
    {
     "name": "stderr",
     "output_type": "stream",
     "text": [
      "WARNING:absl:Found untraced functions such as _jit_compiled_convolution_op, _jit_compiled_convolution_op, _jit_compiled_convolution_op while saving (showing 3 of 3). These functions will not be directly callable after loading.\n"
     ]
    },
    {
     "name": "stdout",
     "output_type": "stream",
     "text": [
      "INFO:tensorflow:Assets written to: /home/oscar47/Desktop/P-ai/p-music/CNN_oscar/wandb/run-20221123_194747-ta60mg67/files/model-best/assets\n"
     ]
    },
    {
     "name": "stderr",
     "output_type": "stream",
     "text": [
      "INFO:tensorflow:Assets written to: /home/oscar47/Desktop/P-ai/p-music/CNN_oscar/wandb/run-20221123_194747-ta60mg67/files/model-best/assets\n",
      "\u001b[34m\u001b[1mwandb\u001b[0m: Adding directory to artifact (/home/oscar47/Desktop/P-ai/p-music/CNN_oscar/wandb/run-20221123_194747-ta60mg67/files/model-best)... Done. 0.4s\n"
     ]
    },
    {
     "name": "stdout",
     "output_type": "stream",
     "text": [
      "23/23 [==============================] - 26s 1s/step - loss: 0.0016 - val_loss: 0.0015\n",
      "Epoch 9/22\n",
      "23/23 [==============================] - 25s 1s/step - loss: 0.0016 - val_loss: 0.0015\n",
      "Epoch 10/22\n",
      "23/23 [==============================] - 25s 1s/step - loss: 0.0016 - val_loss: 0.0015\n",
      "Epoch 11/22\n",
      "23/23 [==============================] - ETA: 0s - loss: 0.0016"
     ]
    },
    {
     "name": "stderr",
     "output_type": "stream",
     "text": [
      "WARNING:absl:Found untraced functions such as _jit_compiled_convolution_op, _jit_compiled_convolution_op, _jit_compiled_convolution_op while saving (showing 3 of 3). These functions will not be directly callable after loading.\n"
     ]
    },
    {
     "name": "stdout",
     "output_type": "stream",
     "text": [
      "INFO:tensorflow:Assets written to: /home/oscar47/Desktop/P-ai/p-music/CNN_oscar/wandb/run-20221123_194747-ta60mg67/files/model-best/assets\n"
     ]
    },
    {
     "name": "stderr",
     "output_type": "stream",
     "text": [
      "INFO:tensorflow:Assets written to: /home/oscar47/Desktop/P-ai/p-music/CNN_oscar/wandb/run-20221123_194747-ta60mg67/files/model-best/assets\n",
      "\u001b[34m\u001b[1mwandb\u001b[0m: Adding directory to artifact (/home/oscar47/Desktop/P-ai/p-music/CNN_oscar/wandb/run-20221123_194747-ta60mg67/files/model-best)... Done. 0.3s\n"
     ]
    },
    {
     "name": "stdout",
     "output_type": "stream",
     "text": [
      "23/23 [==============================] - 26s 1s/step - loss: 0.0016 - val_loss: 0.0015\n",
      "Epoch 12/22\n",
      "23/23 [==============================] - 25s 1s/step - loss: 0.0016 - val_loss: 0.0015\n",
      "Epoch 13/22\n",
      "23/23 [==============================] - 25s 1s/step - loss: 0.0016 - val_loss: 0.0015\n",
      "Epoch 14/22\n",
      "23/23 [==============================] - 25s 1s/step - loss: 0.0016 - val_loss: 0.0015\n",
      "Epoch 15/22\n",
      "23/23 [==============================] - 25s 1s/step - loss: 0.0016 - val_loss: 0.0015\n",
      "Epoch 16/22\n",
      "23/23 [==============================] - 25s 1s/step - loss: 0.0016 - val_loss: 0.0015\n",
      "Epoch 17/22\n",
      "23/23 [==============================] - 25s 1s/step - loss: 0.0016 - val_loss: 0.0015\n",
      "Epoch 18/22\n",
      "23/23 [==============================] - 25s 1s/step - loss: 0.0016 - val_loss: 0.0015\n",
      "Epoch 19/22\n",
      "23/23 [==============================] - 25s 1s/step - loss: 0.0016 - val_loss: 0.0015\n",
      "Epoch 20/22\n",
      "23/23 [==============================] - 25s 1s/step - loss: 0.0016 - val_loss: 0.0015\n",
      "Epoch 21/22\n",
      "23/23 [==============================] - 25s 1s/step - loss: 0.0016 - val_loss: 0.0015\n",
      "Epoch 22/22\n",
      "23/23 [==============================] - 25s 1s/step - loss: 0.0016 - val_loss: 0.0015\n"
     ]
    },
    {
     "data": {
      "text/html": [
       "Waiting for W&B process to finish... <strong style=\"color:green\">(success).</strong>"
      ],
      "text/plain": [
       "<IPython.core.display.HTML object>"
      ]
     },
     "metadata": {},
     "output_type": "display_data"
    },
    {
     "data": {
      "text/html": [
       "<style>\n",
       "    table.wandb td:nth-child(1) { padding: 0 10px; text-align: left ; width: auto;} td:nth-child(2) {text-align: left ; width: 100%}\n",
       "    .wandb-row { display: flex; flex-direction: row; flex-wrap: wrap; justify-content: flex-start; width: 100% }\n",
       "    .wandb-col { display: flex; flex-direction: column; flex-basis: 100%; flex: 1; padding: 10px; }\n",
       "    </style>\n",
       "<div class=\"wandb-row\"><div class=\"wandb-col\"><h3>Run history:</h3><br/><table class=\"wandb\"><tr><td>epoch</td><td>▁▁▂▂▂▃▃▃▄▄▄▅▅▅▆▆▆▇▇▇██</td></tr><tr><td>loss</td><td>█▁▁▁▁▁▁▁▁▁▁▁▁▁▁▁▁▁▁▁▁▁</td></tr><tr><td>val_loss</td><td>█▆▂▁▁▁▁▁▁▁▁▁▁▁▁▁▁▁▁▁▁▁</td></tr></table><br/></div><div class=\"wandb-col\"><h3>Run summary:</h3><br/><table class=\"wandb\"><tr><td>best_epoch</td><td>10</td></tr><tr><td>best_val_loss</td><td>0.00154</td></tr><tr><td>epoch</td><td>21</td></tr><tr><td>loss</td><td>0.00162</td></tr><tr><td>val_loss</td><td>0.00154</td></tr></table><br/></div></div>"
      ],
      "text/plain": [
       "<IPython.core.display.HTML object>"
      ]
     },
     "metadata": {},
     "output_type": "display_data"
    },
    {
     "data": {
      "text/html": [
       "Synced <strong style=\"color:#cdcd00\">autumn-sweep-12</strong>: <a href=\"https://wandb.ai/p-ai/Oscar%20CNN1/runs/ta60mg67\" target=\"_blank\">https://wandb.ai/p-ai/Oscar%20CNN1/runs/ta60mg67</a><br/>Synced 6 W&B file(s), 1 media file(s), 37 artifact file(s) and 1 other file(s)"
      ],
      "text/plain": [
       "<IPython.core.display.HTML object>"
      ]
     },
     "metadata": {},
     "output_type": "display_data"
    },
    {
     "data": {
      "text/html": [
       "Find logs at: <code>./wandb/run-20221123_194747-ta60mg67/logs</code>"
      ],
      "text/plain": [
       "<IPython.core.display.HTML object>"
      ]
     },
     "metadata": {},
     "output_type": "display_data"
    },
    {
     "name": "stderr",
     "output_type": "stream",
     "text": [
      "\u001b[34m\u001b[1mwandb\u001b[0m: Agent Starting Run: ssnkzxim with config:\n",
      "\u001b[34m\u001b[1mwandb\u001b[0m: \tbatch_size: 32\n",
      "\u001b[34m\u001b[1mwandb\u001b[0m: \tdense1: 166\n",
      "\u001b[34m\u001b[1mwandb\u001b[0m: \tepochs: 16\n",
      "\u001b[34m\u001b[1mwandb\u001b[0m: \tlearning_rate: 0.018461279848873413\n",
      "\u001b[34m\u001b[1mwandb\u001b[0m: \tsize_1: 217\n",
      "\u001b[34m\u001b[1mwandb\u001b[0m: \tsize_2: 253\n",
      "\u001b[34m\u001b[1mwandb\u001b[0m: \tsize_3: 251\n"
     ]
    },
    {
     "data": {
      "text/html": [
       "Tracking run with wandb version 0.13.5"
      ],
      "text/plain": [
       "<IPython.core.display.HTML object>"
      ]
     },
     "metadata": {},
     "output_type": "display_data"
    },
    {
     "data": {
      "text/html": [
       "Run data is saved locally in <code>/home/oscar47/Desktop/P-ai/p-music/CNN_oscar/wandb/run-20221123_195726-ssnkzxim</code>"
      ],
      "text/plain": [
       "<IPython.core.display.HTML object>"
      ]
     },
     "metadata": {},
     "output_type": "display_data"
    },
    {
     "data": {
      "text/html": [
       "Syncing run <strong><a href=\"https://wandb.ai/p-ai/Oscar%20CNN1/runs/ssnkzxim\" target=\"_blank\">giddy-sweep-13</a></strong> to <a href=\"https://wandb.ai/p-ai/Oscar%20CNN1\" target=\"_blank\">Weights & Biases</a> (<a href=\"https://wandb.me/run\" target=\"_blank\">docs</a>)<br/>Sweep page:  <a href=\"https://wandb.ai/p-ai/Oscar%20CNN1/sweeps/wsxqxjvp\" target=\"_blank\">https://wandb.ai/p-ai/Oscar%20CNN1/sweeps/wsxqxjvp</a>"
      ],
      "text/plain": [
       "<IPython.core.display.HTML object>"
      ]
     },
     "metadata": {},
     "output_type": "display_data"
    },
    {
     "name": "stdout",
     "output_type": "stream",
     "text": [
      "Epoch 1/16\n",
      "45/45 [==============================] - ETA: 0s - loss: 275039424.0000"
     ]
    },
    {
     "name": "stderr",
     "output_type": "stream",
     "text": [
      "WARNING:absl:Found untraced functions such as _jit_compiled_convolution_op, _jit_compiled_convolution_op, _jit_compiled_convolution_op while saving (showing 3 of 3). These functions will not be directly callable after loading.\n"
     ]
    },
    {
     "name": "stdout",
     "output_type": "stream",
     "text": [
      "INFO:tensorflow:Assets written to: /home/oscar47/Desktop/P-ai/p-music/CNN_oscar/wandb/run-20221123_195726-ssnkzxim/files/model-best/assets\n"
     ]
    },
    {
     "name": "stderr",
     "output_type": "stream",
     "text": [
      "INFO:tensorflow:Assets written to: /home/oscar47/Desktop/P-ai/p-music/CNN_oscar/wandb/run-20221123_195726-ssnkzxim/files/model-best/assets\n",
      "\u001b[34m\u001b[1mwandb\u001b[0m: Adding directory to artifact (/home/oscar47/Desktop/P-ai/p-music/CNN_oscar/wandb/run-20221123_195726-ssnkzxim/files/model-best)... Done. 0.4s\n"
     ]
    },
    {
     "name": "stdout",
     "output_type": "stream",
     "text": [
      "45/45 [==============================] - 63s 1s/step - loss: 275039424.0000 - val_loss: 156.9136\n",
      "Epoch 2/16\n",
      "45/45 [==============================] - 61s 1s/step - loss: 3135.4531 - val_loss: 10073.5518\n",
      "Epoch 3/16\n",
      "45/45 [==============================] - ETA: 0s - loss: 1234.9637"
     ]
    },
    {
     "name": "stderr",
     "output_type": "stream",
     "text": [
      "WARNING:absl:Found untraced functions such as _jit_compiled_convolution_op, _jit_compiled_convolution_op, _jit_compiled_convolution_op while saving (showing 3 of 3). These functions will not be directly callable after loading.\n"
     ]
    },
    {
     "name": "stdout",
     "output_type": "stream",
     "text": [
      "INFO:tensorflow:Assets written to: /home/oscar47/Desktop/P-ai/p-music/CNN_oscar/wandb/run-20221123_195726-ssnkzxim/files/model-best/assets\n"
     ]
    },
    {
     "name": "stderr",
     "output_type": "stream",
     "text": [
      "INFO:tensorflow:Assets written to: /home/oscar47/Desktop/P-ai/p-music/CNN_oscar/wandb/run-20221123_195726-ssnkzxim/files/model-best/assets\n",
      "\u001b[34m\u001b[1mwandb\u001b[0m: Adding directory to artifact (/home/oscar47/Desktop/P-ai/p-music/CNN_oscar/wandb/run-20221123_195726-ssnkzxim/files/model-best)... Done. 0.5s\n"
     ]
    },
    {
     "name": "stdout",
     "output_type": "stream",
     "text": [
      "45/45 [==============================] - 62s 1s/step - loss: 1234.9637 - val_loss: 19.3476\n",
      "Epoch 4/16\n",
      "45/45 [==============================] - ETA: 0s - loss: 13.2999"
     ]
    },
    {
     "name": "stderr",
     "output_type": "stream",
     "text": [
      "WARNING:absl:Found untraced functions such as _jit_compiled_convolution_op, _jit_compiled_convolution_op, _jit_compiled_convolution_op while saving (showing 3 of 3). These functions will not be directly callable after loading.\n"
     ]
    },
    {
     "name": "stdout",
     "output_type": "stream",
     "text": [
      "INFO:tensorflow:Assets written to: /home/oscar47/Desktop/P-ai/p-music/CNN_oscar/wandb/run-20221123_195726-ssnkzxim/files/model-best/assets\n"
     ]
    },
    {
     "name": "stderr",
     "output_type": "stream",
     "text": [
      "INFO:tensorflow:Assets written to: /home/oscar47/Desktop/P-ai/p-music/CNN_oscar/wandb/run-20221123_195726-ssnkzxim/files/model-best/assets\n",
      "\u001b[34m\u001b[1mwandb\u001b[0m: Adding directory to artifact (/home/oscar47/Desktop/P-ai/p-music/CNN_oscar/wandb/run-20221123_195726-ssnkzxim/files/model-best)... Done. 0.5s\n"
     ]
    },
    {
     "name": "stdout",
     "output_type": "stream",
     "text": [
      "45/45 [==============================] - 62s 1s/step - loss: 13.2999 - val_loss: 7.0419\n",
      "Epoch 5/16\n",
      "45/45 [==============================] - ETA: 0s - loss: 7.2389"
     ]
    },
    {
     "name": "stderr",
     "output_type": "stream",
     "text": [
      "WARNING:absl:Found untraced functions such as _jit_compiled_convolution_op, _jit_compiled_convolution_op, _jit_compiled_convolution_op while saving (showing 3 of 3). These functions will not be directly callable after loading.\n"
     ]
    },
    {
     "name": "stdout",
     "output_type": "stream",
     "text": [
      "INFO:tensorflow:Assets written to: /home/oscar47/Desktop/P-ai/p-music/CNN_oscar/wandb/run-20221123_195726-ssnkzxim/files/model-best/assets\n"
     ]
    },
    {
     "name": "stderr",
     "output_type": "stream",
     "text": [
      "INFO:tensorflow:Assets written to: /home/oscar47/Desktop/P-ai/p-music/CNN_oscar/wandb/run-20221123_195726-ssnkzxim/files/model-best/assets\n",
      "\u001b[34m\u001b[1mwandb\u001b[0m: Adding directory to artifact (/home/oscar47/Desktop/P-ai/p-music/CNN_oscar/wandb/run-20221123_195726-ssnkzxim/files/model-best)... Done. 0.4s\n"
     ]
    },
    {
     "name": "stdout",
     "output_type": "stream",
     "text": [
      "45/45 [==============================] - 63s 1s/step - loss: 7.2389 - val_loss: 6.5697\n",
      "Epoch 6/16\n",
      "45/45 [==============================] - ETA: 0s - loss: 3.5757"
     ]
    },
    {
     "name": "stderr",
     "output_type": "stream",
     "text": [
      "WARNING:absl:Found untraced functions such as _jit_compiled_convolution_op, _jit_compiled_convolution_op, _jit_compiled_convolution_op while saving (showing 3 of 3). These functions will not be directly callable after loading.\n"
     ]
    },
    {
     "name": "stdout",
     "output_type": "stream",
     "text": [
      "INFO:tensorflow:Assets written to: /home/oscar47/Desktop/P-ai/p-music/CNN_oscar/wandb/run-20221123_195726-ssnkzxim/files/model-best/assets\n"
     ]
    },
    {
     "name": "stderr",
     "output_type": "stream",
     "text": [
      "INFO:tensorflow:Assets written to: /home/oscar47/Desktop/P-ai/p-music/CNN_oscar/wandb/run-20221123_195726-ssnkzxim/files/model-best/assets\n",
      "\u001b[34m\u001b[1mwandb\u001b[0m: Adding directory to artifact (/home/oscar47/Desktop/P-ai/p-music/CNN_oscar/wandb/run-20221123_195726-ssnkzxim/files/model-best)... Done. 0.4s\n"
     ]
    },
    {
     "name": "stdout",
     "output_type": "stream",
     "text": [
      "45/45 [==============================] - 62s 1s/step - loss: 3.5757 - val_loss: 3.8229\n",
      "Epoch 7/16\n",
      "45/45 [==============================] - 62s 1s/step - loss: 2.9962 - val_loss: 6.8266\n",
      "Epoch 8/16\n",
      "45/45 [==============================] - ETA: 0s - loss: 5.1576"
     ]
    },
    {
     "name": "stderr",
     "output_type": "stream",
     "text": [
      "WARNING:absl:Found untraced functions such as _jit_compiled_convolution_op, _jit_compiled_convolution_op, _jit_compiled_convolution_op while saving (showing 3 of 3). These functions will not be directly callable after loading.\n"
     ]
    },
    {
     "name": "stdout",
     "output_type": "stream",
     "text": [
      "INFO:tensorflow:Assets written to: /home/oscar47/Desktop/P-ai/p-music/CNN_oscar/wandb/run-20221123_195726-ssnkzxim/files/model-best/assets\n"
     ]
    },
    {
     "name": "stderr",
     "output_type": "stream",
     "text": [
      "INFO:tensorflow:Assets written to: /home/oscar47/Desktop/P-ai/p-music/CNN_oscar/wandb/run-20221123_195726-ssnkzxim/files/model-best/assets\n",
      "\u001b[34m\u001b[1mwandb\u001b[0m: Adding directory to artifact (/home/oscar47/Desktop/P-ai/p-music/CNN_oscar/wandb/run-20221123_195726-ssnkzxim/files/model-best)... Done. 0.4s\n"
     ]
    },
    {
     "name": "stdout",
     "output_type": "stream",
     "text": [
      "45/45 [==============================] - 62s 1s/step - loss: 5.1576 - val_loss: 2.4265\n",
      "Epoch 9/16\n",
      "45/45 [==============================] - ETA: 0s - loss: 4.4577"
     ]
    },
    {
     "name": "stderr",
     "output_type": "stream",
     "text": [
      "WARNING:absl:Found untraced functions such as _jit_compiled_convolution_op, _jit_compiled_convolution_op, _jit_compiled_convolution_op while saving (showing 3 of 3). These functions will not be directly callable after loading.\n"
     ]
    },
    {
     "name": "stdout",
     "output_type": "stream",
     "text": [
      "INFO:tensorflow:Assets written to: /home/oscar47/Desktop/P-ai/p-music/CNN_oscar/wandb/run-20221123_195726-ssnkzxim/files/model-best/assets\n"
     ]
    },
    {
     "name": "stderr",
     "output_type": "stream",
     "text": [
      "INFO:tensorflow:Assets written to: /home/oscar47/Desktop/P-ai/p-music/CNN_oscar/wandb/run-20221123_195726-ssnkzxim/files/model-best/assets\n",
      "\u001b[34m\u001b[1mwandb\u001b[0m: Adding directory to artifact (/home/oscar47/Desktop/P-ai/p-music/CNN_oscar/wandb/run-20221123_195726-ssnkzxim/files/model-best)... Done. 0.5s\n"
     ]
    },
    {
     "name": "stdout",
     "output_type": "stream",
     "text": [
      "45/45 [==============================] - 63s 1s/step - loss: 4.4577 - val_loss: 1.8663\n",
      "Epoch 10/16\n",
      "45/45 [==============================] - 61s 1s/step - loss: 2.6422 - val_loss: 2.6096\n",
      "Epoch 11/16\n",
      "45/45 [==============================] - ETA: 0s - loss: 2.4793"
     ]
    },
    {
     "name": "stderr",
     "output_type": "stream",
     "text": [
      "WARNING:absl:Found untraced functions such as _jit_compiled_convolution_op, _jit_compiled_convolution_op, _jit_compiled_convolution_op while saving (showing 3 of 3). These functions will not be directly callable after loading.\n"
     ]
    },
    {
     "name": "stdout",
     "output_type": "stream",
     "text": [
      "INFO:tensorflow:Assets written to: /home/oscar47/Desktop/P-ai/p-music/CNN_oscar/wandb/run-20221123_195726-ssnkzxim/files/model-best/assets\n"
     ]
    },
    {
     "name": "stderr",
     "output_type": "stream",
     "text": [
      "INFO:tensorflow:Assets written to: /home/oscar47/Desktop/P-ai/p-music/CNN_oscar/wandb/run-20221123_195726-ssnkzxim/files/model-best/assets\n",
      "\u001b[34m\u001b[1mwandb\u001b[0m: Adding directory to artifact (/home/oscar47/Desktop/P-ai/p-music/CNN_oscar/wandb/run-20221123_195726-ssnkzxim/files/model-best)... Done. 0.5s\n"
     ]
    },
    {
     "name": "stdout",
     "output_type": "stream",
     "text": [
      "45/45 [==============================] - 63s 1s/step - loss: 2.4793 - val_loss: 1.6439\n",
      "Epoch 12/16\n",
      "45/45 [==============================] - 62s 1s/step - loss: 3.7524 - val_loss: 1.6630\n",
      "Epoch 13/16\n",
      "45/45 [==============================] - 61s 1s/step - loss: 2.4453 - val_loss: 2.9957\n",
      "Epoch 14/16\n",
      "45/45 [==============================] - 61s 1s/step - loss: 4.5901 - val_loss: 1.9723\n",
      "Epoch 15/16\n",
      "45/45 [==============================] - 61s 1s/step - loss: 4.1674 - val_loss: 3.0644\n",
      "Epoch 16/16\n",
      "45/45 [==============================] - 61s 1s/step - loss: 3.2266 - val_loss: 2.5452\n"
     ]
    },
    {
     "data": {
      "text/html": [
       "Waiting for W&B process to finish... <strong style=\"color:green\">(success).</strong>"
      ],
      "text/plain": [
       "<IPython.core.display.HTML object>"
      ]
     },
     "metadata": {},
     "output_type": "display_data"
    },
    {
     "data": {
      "text/html": [
       "<style>\n",
       "    table.wandb td:nth-child(1) { padding: 0 10px; text-align: left ; width: auto;} td:nth-child(2) {text-align: left ; width: 100%}\n",
       "    .wandb-row { display: flex; flex-direction: row; flex-wrap: wrap; justify-content: flex-start; width: 100% }\n",
       "    .wandb-col { display: flex; flex-direction: column; flex-basis: 100%; flex: 1; padding: 10px; }\n",
       "    </style>\n",
       "<div class=\"wandb-row\"><div class=\"wandb-col\"><h3>Run history:</h3><br/><table class=\"wandb\"><tr><td>epoch</td><td>▁▁▂▂▃▃▄▄▅▅▆▆▇▇██</td></tr><tr><td>loss</td><td>█▁▁▁▁▁▁▁▁▁▁▁▁▁▁▁</td></tr><tr><td>val_loss</td><td>▁█▁▁▁▁▁▁▁▁▁▁▁▁▁▁</td></tr></table><br/></div><div class=\"wandb-col\"><h3>Run summary:</h3><br/><table class=\"wandb\"><tr><td>best_epoch</td><td>10</td></tr><tr><td>best_val_loss</td><td>1.6439</td></tr><tr><td>epoch</td><td>15</td></tr><tr><td>loss</td><td>3.22657</td></tr><tr><td>val_loss</td><td>2.54521</td></tr></table><br/></div></div>"
      ],
      "text/plain": [
       "<IPython.core.display.HTML object>"
      ]
     },
     "metadata": {},
     "output_type": "display_data"
    },
    {
     "data": {
      "text/html": [
       "Synced <strong style=\"color:#cdcd00\">giddy-sweep-13</strong>: <a href=\"https://wandb.ai/p-ai/Oscar%20CNN1/runs/ssnkzxim\" target=\"_blank\">https://wandb.ai/p-ai/Oscar%20CNN1/runs/ssnkzxim</a><br/>Synced 6 W&B file(s), 1 media file(s), 33 artifact file(s) and 1 other file(s)"
      ],
      "text/plain": [
       "<IPython.core.display.HTML object>"
      ]
     },
     "metadata": {},
     "output_type": "display_data"
    },
    {
     "data": {
      "text/html": [
       "Find logs at: <code>./wandb/run-20221123_195726-ssnkzxim/logs</code>"
      ],
      "text/plain": [
       "<IPython.core.display.HTML object>"
      ]
     },
     "metadata": {},
     "output_type": "display_data"
    },
    {
     "name": "stderr",
     "output_type": "stream",
     "text": [
      "\u001b[34m\u001b[1mwandb\u001b[0m: Agent Starting Run: 8gzl3064 with config:\n",
      "\u001b[34m\u001b[1mwandb\u001b[0m: \tbatch_size: 64\n",
      "\u001b[34m\u001b[1mwandb\u001b[0m: \tdense1: 231\n",
      "\u001b[34m\u001b[1mwandb\u001b[0m: \tepochs: 24\n",
      "\u001b[34m\u001b[1mwandb\u001b[0m: \tlearning_rate: 0.078261548545278\n",
      "\u001b[34m\u001b[1mwandb\u001b[0m: \tsize_1: 103\n",
      "\u001b[34m\u001b[1mwandb\u001b[0m: \tsize_2: 228\n",
      "\u001b[34m\u001b[1mwandb\u001b[0m: \tsize_3: 205\n"
     ]
    },
    {
     "data": {
      "text/html": [
       "Tracking run with wandb version 0.13.5"
      ],
      "text/plain": [
       "<IPython.core.display.HTML object>"
      ]
     },
     "metadata": {},
     "output_type": "display_data"
    },
    {
     "data": {
      "text/html": [
       "Run data is saved locally in <code>/home/oscar47/Desktop/P-ai/p-music/CNN_oscar/wandb/run-20221123_201414-8gzl3064</code>"
      ],
      "text/plain": [
       "<IPython.core.display.HTML object>"
      ]
     },
     "metadata": {},
     "output_type": "display_data"
    },
    {
     "data": {
      "text/html": [
       "Syncing run <strong><a href=\"https://wandb.ai/p-ai/Oscar%20CNN1/runs/8gzl3064\" target=\"_blank\">likely-sweep-14</a></strong> to <a href=\"https://wandb.ai/p-ai/Oscar%20CNN1\" target=\"_blank\">Weights & Biases</a> (<a href=\"https://wandb.me/run\" target=\"_blank\">docs</a>)<br/>Sweep page:  <a href=\"https://wandb.ai/p-ai/Oscar%20CNN1/sweeps/wsxqxjvp\" target=\"_blank\">https://wandb.ai/p-ai/Oscar%20CNN1/sweeps/wsxqxjvp</a>"
      ],
      "text/plain": [
       "<IPython.core.display.HTML object>"
      ]
     },
     "metadata": {},
     "output_type": "display_data"
    },
    {
     "name": "stdout",
     "output_type": "stream",
     "text": [
      "Epoch 1/24\n",
      "23/23 [==============================] - ETA: 0s - loss: 68368799367168.0000"
     ]
    },
    {
     "name": "stderr",
     "output_type": "stream",
     "text": [
      "WARNING:absl:Found untraced functions such as _jit_compiled_convolution_op, _jit_compiled_convolution_op, _jit_compiled_convolution_op while saving (showing 3 of 3). These functions will not be directly callable after loading.\n"
     ]
    },
    {
     "name": "stdout",
     "output_type": "stream",
     "text": [
      "INFO:tensorflow:Assets written to: /home/oscar47/Desktop/P-ai/p-music/CNN_oscar/wandb/run-20221123_201414-8gzl3064/files/model-best/assets\n"
     ]
    },
    {
     "name": "stderr",
     "output_type": "stream",
     "text": [
      "INFO:tensorflow:Assets written to: /home/oscar47/Desktop/P-ai/p-music/CNN_oscar/wandb/run-20221123_201414-8gzl3064/files/model-best/assets\n",
      "\u001b[34m\u001b[1mwandb\u001b[0m: Adding directory to artifact (/home/oscar47/Desktop/P-ai/p-music/CNN_oscar/wandb/run-20221123_201414-8gzl3064/files/model-best)... Done. 0.5s\n"
     ]
    },
    {
     "name": "stdout",
     "output_type": "stream",
     "text": [
      "23/23 [==============================] - 34s 1s/step - loss: 68368799367168.0000 - val_loss: 1.0310\n",
      "Epoch 2/24\n",
      "23/23 [==============================] - 32s 1s/step - loss: 1.1183 - val_loss: 1.1535\n",
      "Epoch 3/24\n",
      "23/23 [==============================] - 32s 1s/step - loss: 1.1188 - val_loss: 1.0588\n",
      "Epoch 4/24\n",
      "23/23 [==============================] - ETA: 0s - loss: 0.9898"
     ]
    },
    {
     "name": "stderr",
     "output_type": "stream",
     "text": [
      "WARNING:absl:Found untraced functions such as _jit_compiled_convolution_op, _jit_compiled_convolution_op, _jit_compiled_convolution_op while saving (showing 3 of 3). These functions will not be directly callable after loading.\n"
     ]
    },
    {
     "name": "stdout",
     "output_type": "stream",
     "text": [
      "INFO:tensorflow:Assets written to: /home/oscar47/Desktop/P-ai/p-music/CNN_oscar/wandb/run-20221123_201414-8gzl3064/files/model-best/assets\n"
     ]
    },
    {
     "name": "stderr",
     "output_type": "stream",
     "text": [
      "INFO:tensorflow:Assets written to: /home/oscar47/Desktop/P-ai/p-music/CNN_oscar/wandb/run-20221123_201414-8gzl3064/files/model-best/assets\n",
      "\u001b[34m\u001b[1mwandb\u001b[0m: Adding directory to artifact (/home/oscar47/Desktop/P-ai/p-music/CNN_oscar/wandb/run-20221123_201414-8gzl3064/files/model-best)... Done. 0.5s\n"
     ]
    },
    {
     "name": "stdout",
     "output_type": "stream",
     "text": [
      "23/23 [==============================] - 33s 1s/step - loss: 0.9898 - val_loss: 0.9026\n",
      "Epoch 5/24\n",
      "23/23 [==============================] - ETA: 0s - loss: 0.8190"
     ]
    },
    {
     "name": "stderr",
     "output_type": "stream",
     "text": [
      "WARNING:absl:Found untraced functions such as _jit_compiled_convolution_op, _jit_compiled_convolution_op, _jit_compiled_convolution_op while saving (showing 3 of 3). These functions will not be directly callable after loading.\n"
     ]
    },
    {
     "name": "stdout",
     "output_type": "stream",
     "text": [
      "INFO:tensorflow:Assets written to: /home/oscar47/Desktop/P-ai/p-music/CNN_oscar/wandb/run-20221123_201414-8gzl3064/files/model-best/assets\n"
     ]
    },
    {
     "name": "stderr",
     "output_type": "stream",
     "text": [
      "INFO:tensorflow:Assets written to: /home/oscar47/Desktop/P-ai/p-music/CNN_oscar/wandb/run-20221123_201414-8gzl3064/files/model-best/assets\n",
      "\u001b[34m\u001b[1mwandb\u001b[0m: Adding directory to artifact (/home/oscar47/Desktop/P-ai/p-music/CNN_oscar/wandb/run-20221123_201414-8gzl3064/files/model-best)... Done. 0.5s\n"
     ]
    },
    {
     "name": "stdout",
     "output_type": "stream",
     "text": [
      "23/23 [==============================] - 33s 1s/step - loss: 0.8190 - val_loss: 0.7183\n",
      "Epoch 6/24\n",
      "23/23 [==============================] - ETA: 0s - loss: 0.6276"
     ]
    },
    {
     "name": "stderr",
     "output_type": "stream",
     "text": [
      "WARNING:absl:Found untraced functions such as _jit_compiled_convolution_op, _jit_compiled_convolution_op, _jit_compiled_convolution_op while saving (showing 3 of 3). These functions will not be directly callable after loading.\n"
     ]
    },
    {
     "name": "stdout",
     "output_type": "stream",
     "text": [
      "INFO:tensorflow:Assets written to: /home/oscar47/Desktop/P-ai/p-music/CNN_oscar/wandb/run-20221123_201414-8gzl3064/files/model-best/assets\n"
     ]
    },
    {
     "name": "stderr",
     "output_type": "stream",
     "text": [
      "INFO:tensorflow:Assets written to: /home/oscar47/Desktop/P-ai/p-music/CNN_oscar/wandb/run-20221123_201414-8gzl3064/files/model-best/assets\n",
      "\u001b[34m\u001b[1mwandb\u001b[0m: Adding directory to artifact (/home/oscar47/Desktop/P-ai/p-music/CNN_oscar/wandb/run-20221123_201414-8gzl3064/files/model-best)... Done. 0.5s\n"
     ]
    },
    {
     "name": "stdout",
     "output_type": "stream",
     "text": [
      "23/23 [==============================] - 33s 1s/step - loss: 0.6276 - val_loss: 0.5223\n",
      "Epoch 7/24\n",
      "23/23 [==============================] - ETA: 0s - loss: 0.4343"
     ]
    },
    {
     "name": "stderr",
     "output_type": "stream",
     "text": [
      "WARNING:absl:Found untraced functions such as _jit_compiled_convolution_op, _jit_compiled_convolution_op, _jit_compiled_convolution_op while saving (showing 3 of 3). These functions will not be directly callable after loading.\n"
     ]
    },
    {
     "name": "stdout",
     "output_type": "stream",
     "text": [
      "INFO:tensorflow:Assets written to: /home/oscar47/Desktop/P-ai/p-music/CNN_oscar/wandb/run-20221123_201414-8gzl3064/files/model-best/assets\n"
     ]
    },
    {
     "name": "stderr",
     "output_type": "stream",
     "text": [
      "INFO:tensorflow:Assets written to: /home/oscar47/Desktop/P-ai/p-music/CNN_oscar/wandb/run-20221123_201414-8gzl3064/files/model-best/assets\n",
      "\u001b[34m\u001b[1mwandb\u001b[0m: Adding directory to artifact (/home/oscar47/Desktop/P-ai/p-music/CNN_oscar/wandb/run-20221123_201414-8gzl3064/files/model-best)... Done. 0.5s\n"
     ]
    },
    {
     "name": "stdout",
     "output_type": "stream",
     "text": [
      "23/23 [==============================] - 33s 1s/step - loss: 0.4343 - val_loss: 0.3368\n",
      "Epoch 8/24\n",
      "23/23 [==============================] - ETA: 0s - loss: 0.2631"
     ]
    },
    {
     "name": "stderr",
     "output_type": "stream",
     "text": [
      "WARNING:absl:Found untraced functions such as _jit_compiled_convolution_op, _jit_compiled_convolution_op, _jit_compiled_convolution_op while saving (showing 3 of 3). These functions will not be directly callable after loading.\n"
     ]
    },
    {
     "name": "stdout",
     "output_type": "stream",
     "text": [
      "INFO:tensorflow:Assets written to: /home/oscar47/Desktop/P-ai/p-music/CNN_oscar/wandb/run-20221123_201414-8gzl3064/files/model-best/assets\n"
     ]
    },
    {
     "name": "stderr",
     "output_type": "stream",
     "text": [
      "INFO:tensorflow:Assets written to: /home/oscar47/Desktop/P-ai/p-music/CNN_oscar/wandb/run-20221123_201414-8gzl3064/files/model-best/assets\n",
      "\u001b[34m\u001b[1mwandb\u001b[0m: Adding directory to artifact (/home/oscar47/Desktop/P-ai/p-music/CNN_oscar/wandb/run-20221123_201414-8gzl3064/files/model-best)... Done. 0.5s\n"
     ]
    },
    {
     "name": "stdout",
     "output_type": "stream",
     "text": [
      "23/23 [==============================] - 33s 1s/step - loss: 0.2631 - val_loss: 0.1866\n",
      "Epoch 9/24\n",
      "23/23 [==============================] - ETA: 0s - loss: 0.1356"
     ]
    },
    {
     "name": "stderr",
     "output_type": "stream",
     "text": [
      "WARNING:absl:Found untraced functions such as _jit_compiled_convolution_op, _jit_compiled_convolution_op, _jit_compiled_convolution_op while saving (showing 3 of 3). These functions will not be directly callable after loading.\n"
     ]
    },
    {
     "name": "stdout",
     "output_type": "stream",
     "text": [
      "INFO:tensorflow:Assets written to: /home/oscar47/Desktop/P-ai/p-music/CNN_oscar/wandb/run-20221123_201414-8gzl3064/files/model-best/assets\n"
     ]
    },
    {
     "name": "stderr",
     "output_type": "stream",
     "text": [
      "INFO:tensorflow:Assets written to: /home/oscar47/Desktop/P-ai/p-music/CNN_oscar/wandb/run-20221123_201414-8gzl3064/files/model-best/assets\n",
      "\u001b[34m\u001b[1mwandb\u001b[0m: Adding directory to artifact (/home/oscar47/Desktop/P-ai/p-music/CNN_oscar/wandb/run-20221123_201414-8gzl3064/files/model-best)... Done. 0.5s\n"
     ]
    },
    {
     "name": "stdout",
     "output_type": "stream",
     "text": [
      "23/23 [==============================] - 33s 1s/step - loss: 0.1356 - val_loss: 0.0861\n",
      "Epoch 10/24\n",
      "23/23 [==============================] - ETA: 0s - loss: 0.0580"
     ]
    },
    {
     "name": "stderr",
     "output_type": "stream",
     "text": [
      "WARNING:absl:Found untraced functions such as _jit_compiled_convolution_op, _jit_compiled_convolution_op, _jit_compiled_convolution_op while saving (showing 3 of 3). These functions will not be directly callable after loading.\n"
     ]
    },
    {
     "name": "stdout",
     "output_type": "stream",
     "text": [
      "INFO:tensorflow:Assets written to: /home/oscar47/Desktop/P-ai/p-music/CNN_oscar/wandb/run-20221123_201414-8gzl3064/files/model-best/assets\n"
     ]
    },
    {
     "name": "stderr",
     "output_type": "stream",
     "text": [
      "INFO:tensorflow:Assets written to: /home/oscar47/Desktop/P-ai/p-music/CNN_oscar/wandb/run-20221123_201414-8gzl3064/files/model-best/assets\n",
      "\u001b[34m\u001b[1mwandb\u001b[0m: Adding directory to artifact (/home/oscar47/Desktop/P-ai/p-music/CNN_oscar/wandb/run-20221123_201414-8gzl3064/files/model-best)... Done. 0.5s\n"
     ]
    },
    {
     "name": "stdout",
     "output_type": "stream",
     "text": [
      "23/23 [==============================] - 33s 1s/step - loss: 0.0580 - val_loss: 0.0328\n",
      "Epoch 11/24\n",
      "23/23 [==============================] - ETA: 0s - loss: 0.0208"
     ]
    },
    {
     "name": "stderr",
     "output_type": "stream",
     "text": [
      "WARNING:absl:Found untraced functions such as _jit_compiled_convolution_op, _jit_compiled_convolution_op, _jit_compiled_convolution_op while saving (showing 3 of 3). These functions will not be directly callable after loading.\n"
     ]
    },
    {
     "name": "stdout",
     "output_type": "stream",
     "text": [
      "INFO:tensorflow:Assets written to: /home/oscar47/Desktop/P-ai/p-music/CNN_oscar/wandb/run-20221123_201414-8gzl3064/files/model-best/assets\n"
     ]
    },
    {
     "name": "stderr",
     "output_type": "stream",
     "text": [
      "INFO:tensorflow:Assets written to: /home/oscar47/Desktop/P-ai/p-music/CNN_oscar/wandb/run-20221123_201414-8gzl3064/files/model-best/assets\n",
      "\u001b[34m\u001b[1mwandb\u001b[0m: Adding directory to artifact (/home/oscar47/Desktop/P-ai/p-music/CNN_oscar/wandb/run-20221123_201414-8gzl3064/files/model-best)... Done. 0.5s\n"
     ]
    },
    {
     "name": "stdout",
     "output_type": "stream",
     "text": [
      "23/23 [==============================] - 33s 1s/step - loss: 0.0208 - val_loss: 0.0107\n",
      "Epoch 12/24\n",
      "23/23 [==============================] - ETA: 0s - loss: 0.0068"
     ]
    },
    {
     "name": "stderr",
     "output_type": "stream",
     "text": [
      "WARNING:absl:Found untraced functions such as _jit_compiled_convolution_op, _jit_compiled_convolution_op, _jit_compiled_convolution_op while saving (showing 3 of 3). These functions will not be directly callable after loading.\n"
     ]
    },
    {
     "name": "stdout",
     "output_type": "stream",
     "text": [
      "INFO:tensorflow:Assets written to: /home/oscar47/Desktop/P-ai/p-music/CNN_oscar/wandb/run-20221123_201414-8gzl3064/files/model-best/assets\n"
     ]
    },
    {
     "name": "stderr",
     "output_type": "stream",
     "text": [
      "INFO:tensorflow:Assets written to: /home/oscar47/Desktop/P-ai/p-music/CNN_oscar/wandb/run-20221123_201414-8gzl3064/files/model-best/assets\n",
      "\u001b[34m\u001b[1mwandb\u001b[0m: Adding directory to artifact (/home/oscar47/Desktop/P-ai/p-music/CNN_oscar/wandb/run-20221123_201414-8gzl3064/files/model-best)... Done. 0.5s\n"
     ]
    },
    {
     "name": "stdout",
     "output_type": "stream",
     "text": [
      "23/23 [==============================] - 33s 1s/step - loss: 0.0068 - val_loss: 0.0037\n",
      "Epoch 13/24\n",
      "23/23 [==============================] - ETA: 0s - loss: 0.0027"
     ]
    },
    {
     "name": "stderr",
     "output_type": "stream",
     "text": [
      "WARNING:absl:Found untraced functions such as _jit_compiled_convolution_op, _jit_compiled_convolution_op, _jit_compiled_convolution_op while saving (showing 3 of 3). These functions will not be directly callable after loading.\n"
     ]
    },
    {
     "name": "stdout",
     "output_type": "stream",
     "text": [
      "INFO:tensorflow:Assets written to: /home/oscar47/Desktop/P-ai/p-music/CNN_oscar/wandb/run-20221123_201414-8gzl3064/files/model-best/assets\n"
     ]
    },
    {
     "name": "stderr",
     "output_type": "stream",
     "text": [
      "INFO:tensorflow:Assets written to: /home/oscar47/Desktop/P-ai/p-music/CNN_oscar/wandb/run-20221123_201414-8gzl3064/files/model-best/assets\n",
      "\u001b[34m\u001b[1mwandb\u001b[0m: Adding directory to artifact (/home/oscar47/Desktop/P-ai/p-music/CNN_oscar/wandb/run-20221123_201414-8gzl3064/files/model-best)... Done. 0.5s\n"
     ]
    },
    {
     "name": "stdout",
     "output_type": "stream",
     "text": [
      "23/23 [==============================] - 33s 1s/step - loss: 0.0027 - val_loss: 0.0019\n",
      "Epoch 14/24\n",
      "23/23 [==============================] - ETA: 0s - loss: 0.0018"
     ]
    },
    {
     "name": "stderr",
     "output_type": "stream",
     "text": [
      "WARNING:absl:Found untraced functions such as _jit_compiled_convolution_op, _jit_compiled_convolution_op, _jit_compiled_convolution_op while saving (showing 3 of 3). These functions will not be directly callable after loading.\n"
     ]
    },
    {
     "name": "stdout",
     "output_type": "stream",
     "text": [
      "INFO:tensorflow:Assets written to: /home/oscar47/Desktop/P-ai/p-music/CNN_oscar/wandb/run-20221123_201414-8gzl3064/files/model-best/assets\n"
     ]
    },
    {
     "name": "stderr",
     "output_type": "stream",
     "text": [
      "INFO:tensorflow:Assets written to: /home/oscar47/Desktop/P-ai/p-music/CNN_oscar/wandb/run-20221123_201414-8gzl3064/files/model-best/assets\n",
      "\u001b[34m\u001b[1mwandb\u001b[0m: Adding directory to artifact (/home/oscar47/Desktop/P-ai/p-music/CNN_oscar/wandb/run-20221123_201414-8gzl3064/files/model-best)... Done. 0.5s\n"
     ]
    },
    {
     "name": "stdout",
     "output_type": "stream",
     "text": [
      "23/23 [==============================] - 34s 1s/step - loss: 0.0018 - val_loss: 0.0016\n",
      "Epoch 15/24\n",
      "23/23 [==============================] - ETA: 0s - loss: 0.0016"
     ]
    },
    {
     "name": "stderr",
     "output_type": "stream",
     "text": [
      "WARNING:absl:Found untraced functions such as _jit_compiled_convolution_op, _jit_compiled_convolution_op, _jit_compiled_convolution_op while saving (showing 3 of 3). These functions will not be directly callable after loading.\n"
     ]
    },
    {
     "name": "stdout",
     "output_type": "stream",
     "text": [
      "INFO:tensorflow:Assets written to: /home/oscar47/Desktop/P-ai/p-music/CNN_oscar/wandb/run-20221123_201414-8gzl3064/files/model-best/assets\n"
     ]
    },
    {
     "name": "stderr",
     "output_type": "stream",
     "text": [
      "INFO:tensorflow:Assets written to: /home/oscar47/Desktop/P-ai/p-music/CNN_oscar/wandb/run-20221123_201414-8gzl3064/files/model-best/assets\n",
      "\u001b[34m\u001b[1mwandb\u001b[0m: Adding directory to artifact (/home/oscar47/Desktop/P-ai/p-music/CNN_oscar/wandb/run-20221123_201414-8gzl3064/files/model-best)... Done. 0.5s\n"
     ]
    },
    {
     "name": "stdout",
     "output_type": "stream",
     "text": [
      "23/23 [==============================] - 33s 1s/step - loss: 0.0016 - val_loss: 0.0015\n",
      "Epoch 16/24\n",
      "23/23 [==============================] - ETA: 0s - loss: 0.0016"
     ]
    },
    {
     "name": "stderr",
     "output_type": "stream",
     "text": [
      "WARNING:absl:Found untraced functions such as _jit_compiled_convolution_op, _jit_compiled_convolution_op, _jit_compiled_convolution_op while saving (showing 3 of 3). These functions will not be directly callable after loading.\n"
     ]
    },
    {
     "name": "stdout",
     "output_type": "stream",
     "text": [
      "INFO:tensorflow:Assets written to: /home/oscar47/Desktop/P-ai/p-music/CNN_oscar/wandb/run-20221123_201414-8gzl3064/files/model-best/assets\n"
     ]
    },
    {
     "name": "stderr",
     "output_type": "stream",
     "text": [
      "INFO:tensorflow:Assets written to: /home/oscar47/Desktop/P-ai/p-music/CNN_oscar/wandb/run-20221123_201414-8gzl3064/files/model-best/assets\n",
      "\u001b[34m\u001b[1mwandb\u001b[0m: Adding directory to artifact (/home/oscar47/Desktop/P-ai/p-music/CNN_oscar/wandb/run-20221123_201414-8gzl3064/files/model-best)... Done. 0.5s\n"
     ]
    },
    {
     "name": "stdout",
     "output_type": "stream",
     "text": [
      "23/23 [==============================] - 33s 1s/step - loss: 0.0016 - val_loss: 0.0015\n",
      "Epoch 17/24\n",
      "23/23 [==============================] - 32s 1s/step - loss: 0.0016 - val_loss: 0.0015\n",
      "Epoch 18/24\n",
      "23/23 [==============================] - 32s 1s/step - loss: 0.0016 - val_loss: 0.0015\n",
      "Epoch 19/24\n",
      "23/23 [==============================] - 32s 1s/step - loss: 0.0016 - val_loss: 0.0015\n",
      "Epoch 20/24\n",
      "23/23 [==============================] - 32s 1s/step - loss: 0.0016 - val_loss: 0.0015\n",
      "Epoch 21/24\n",
      "23/23 [==============================] - 32s 1s/step - loss: 0.0016 - val_loss: 0.0015\n",
      "Epoch 22/24\n",
      "23/23 [==============================] - 32s 1s/step - loss: 0.0016 - val_loss: 0.0015\n",
      "Epoch 23/24\n",
      "23/23 [==============================] - ETA: 0s - loss: 0.0016"
     ]
    },
    {
     "name": "stderr",
     "output_type": "stream",
     "text": [
      "WARNING:absl:Found untraced functions such as _jit_compiled_convolution_op, _jit_compiled_convolution_op, _jit_compiled_convolution_op while saving (showing 3 of 3). These functions will not be directly callable after loading.\n"
     ]
    },
    {
     "name": "stdout",
     "output_type": "stream",
     "text": [
      "INFO:tensorflow:Assets written to: /home/oscar47/Desktop/P-ai/p-music/CNN_oscar/wandb/run-20221123_201414-8gzl3064/files/model-best/assets\n"
     ]
    },
    {
     "name": "stderr",
     "output_type": "stream",
     "text": [
      "INFO:tensorflow:Assets written to: /home/oscar47/Desktop/P-ai/p-music/CNN_oscar/wandb/run-20221123_201414-8gzl3064/files/model-best/assets\n",
      "\u001b[34m\u001b[1mwandb\u001b[0m: Adding directory to artifact (/home/oscar47/Desktop/P-ai/p-music/CNN_oscar/wandb/run-20221123_201414-8gzl3064/files/model-best)... Done. 0.5s\n"
     ]
    },
    {
     "name": "stdout",
     "output_type": "stream",
     "text": [
      "23/23 [==============================] - 33s 1s/step - loss: 0.0016 - val_loss: 0.0015\n",
      "Epoch 24/24\n",
      "23/23 [==============================] - 32s 1s/step - loss: 0.0016 - val_loss: 0.0015\n"
     ]
    },
    {
     "data": {
      "text/html": [
       "Waiting for W&B process to finish... <strong style=\"color:green\">(success).</strong>"
      ],
      "text/plain": [
       "<IPython.core.display.HTML object>"
      ]
     },
     "metadata": {},
     "output_type": "display_data"
    },
    {
     "data": {
      "application/vnd.jupyter.widget-view+json": {
       "model_id": "d66dad4cd7c64115824de4b09a6c117b",
       "version_major": 2,
       "version_minor": 0
      },
      "text/plain": [
       "VBox(children=(Label(value='4801.292 MB of 4801.292 MB uploaded (0.019 MB deduped)\\r'), FloatProgress(value=1.…"
      ]
     },
     "metadata": {},
     "output_type": "display_data"
    },
    {
     "data": {
      "text/html": [
       "<style>\n",
       "    table.wandb td:nth-child(1) { padding: 0 10px; text-align: left ; width: auto;} td:nth-child(2) {text-align: left ; width: 100%}\n",
       "    .wandb-row { display: flex; flex-direction: row; flex-wrap: wrap; justify-content: flex-start; width: 100% }\n",
       "    .wandb-col { display: flex; flex-direction: column; flex-basis: 100%; flex: 1; padding: 10px; }\n",
       "    </style>\n",
       "<div class=\"wandb-row\"><div class=\"wandb-col\"><h3>Run history:</h3><br/><table class=\"wandb\"><tr><td>epoch</td><td>▁▁▂▂▂▃▃▃▃▄▄▄▅▅▅▆▆▆▆▇▇▇██</td></tr><tr><td>loss</td><td>█▁▁▁▁▁▁▁▁▁▁▁▁▁▁▁▁▁▁▁▁▁▁▁</td></tr><tr><td>val_loss</td><td>▇█▇▆▅▄▃▂▂▁▁▁▁▁▁▁▁▁▁▁▁▁▁▁</td></tr></table><br/></div><div class=\"wandb-col\"><h3>Run summary:</h3><br/><table class=\"wandb\"><tr><td>best_epoch</td><td>22</td></tr><tr><td>best_val_loss</td><td>0.00154</td></tr><tr><td>epoch</td><td>23</td></tr><tr><td>loss</td><td>0.00161</td></tr><tr><td>val_loss</td><td>0.00154</td></tr></table><br/></div></div>"
      ],
      "text/plain": [
       "<IPython.core.display.HTML object>"
      ]
     },
     "metadata": {},
     "output_type": "display_data"
    },
    {
     "data": {
      "text/html": [
       "Synced <strong style=\"color:#cdcd00\">likely-sweep-14</strong>: <a href=\"https://wandb.ai/p-ai/Oscar%20CNN1/runs/8gzl3064\" target=\"_blank\">https://wandb.ai/p-ai/Oscar%20CNN1/runs/8gzl3064</a><br/>Synced 6 W&B file(s), 1 media file(s), 61 artifact file(s) and 1 other file(s)"
      ],
      "text/plain": [
       "<IPython.core.display.HTML object>"
      ]
     },
     "metadata": {},
     "output_type": "display_data"
    },
    {
     "data": {
      "text/html": [
       "Find logs at: <code>./wandb/run-20221123_201414-8gzl3064/logs</code>"
      ],
      "text/plain": [
       "<IPython.core.display.HTML object>"
      ]
     },
     "metadata": {},
     "output_type": "display_data"
    },
    {
     "name": "stderr",
     "output_type": "stream",
     "text": [
      "\u001b[34m\u001b[1mwandb\u001b[0m: Agent Starting Run: 05fqv9tm with config:\n",
      "\u001b[34m\u001b[1mwandb\u001b[0m: \tbatch_size: 32\n",
      "\u001b[34m\u001b[1mwandb\u001b[0m: \tdense1: 242\n",
      "\u001b[34m\u001b[1mwandb\u001b[0m: \tepochs: 26\n",
      "\u001b[34m\u001b[1mwandb\u001b[0m: \tlearning_rate: 0.09533896671081676\n",
      "\u001b[34m\u001b[1mwandb\u001b[0m: \tsize_1: 93\n",
      "\u001b[34m\u001b[1mwandb\u001b[0m: \tsize_2: 213\n",
      "\u001b[34m\u001b[1mwandb\u001b[0m: \tsize_3: 183\n"
     ]
    },
    {
     "data": {
      "text/html": [
       "Tracking run with wandb version 0.13.5"
      ],
      "text/plain": [
       "<IPython.core.display.HTML object>"
      ]
     },
     "metadata": {},
     "output_type": "display_data"
    },
    {
     "data": {
      "text/html": [
       "Run data is saved locally in <code>/home/oscar47/Desktop/P-ai/p-music/CNN_oscar/wandb/run-20221123_202737-05fqv9tm</code>"
      ],
      "text/plain": [
       "<IPython.core.display.HTML object>"
      ]
     },
     "metadata": {},
     "output_type": "display_data"
    },
    {
     "data": {
      "text/html": [
       "Syncing run <strong><a href=\"https://wandb.ai/p-ai/Oscar%20CNN1/runs/05fqv9tm\" target=\"_blank\">crimson-sweep-15</a></strong> to <a href=\"https://wandb.ai/p-ai/Oscar%20CNN1\" target=\"_blank\">Weights & Biases</a> (<a href=\"https://wandb.me/run\" target=\"_blank\">docs</a>)<br/>Sweep page:  <a href=\"https://wandb.ai/p-ai/Oscar%20CNN1/sweeps/wsxqxjvp\" target=\"_blank\">https://wandb.ai/p-ai/Oscar%20CNN1/sweeps/wsxqxjvp</a>"
      ],
      "text/plain": [
       "<IPython.core.display.HTML object>"
      ]
     },
     "metadata": {},
     "output_type": "display_data"
    },
    {
     "name": "stdout",
     "output_type": "stream",
     "text": [
      "Epoch 1/26\n",
      "45/45 [==============================] - ETA: 0s - loss: 109236042334208.0000"
     ]
    },
    {
     "name": "stderr",
     "output_type": "stream",
     "text": [
      "WARNING:absl:Found untraced functions such as _jit_compiled_convolution_op, _jit_compiled_convolution_op, _jit_compiled_convolution_op while saving (showing 3 of 3). These functions will not be directly callable after loading.\n"
     ]
    },
    {
     "name": "stdout",
     "output_type": "stream",
     "text": [
      "INFO:tensorflow:Assets written to: /home/oscar47/Desktop/P-ai/p-music/CNN_oscar/wandb/run-20221123_202737-05fqv9tm/files/model-best/assets\n"
     ]
    },
    {
     "name": "stderr",
     "output_type": "stream",
     "text": [
      "INFO:tensorflow:Assets written to: /home/oscar47/Desktop/P-ai/p-music/CNN_oscar/wandb/run-20221123_202737-05fqv9tm/files/model-best/assets\n",
      "\u001b[34m\u001b[1mwandb\u001b[0m: Adding directory to artifact (/home/oscar47/Desktop/P-ai/p-music/CNN_oscar/wandb/run-20221123_202737-05fqv9tm/files/model-best)... Done. 0.5s\n"
     ]
    },
    {
     "name": "stdout",
     "output_type": "stream",
     "text": [
      "45/45 [==============================] - 30s 656ms/step - loss: 109236042334208.0000 - val_loss: 14.3526\n",
      "Epoch 2/26\n",
      "45/45 [==============================] - ETA: 0s - loss: 10.8099"
     ]
    },
    {
     "name": "stderr",
     "output_type": "stream",
     "text": [
      "WARNING:absl:Found untraced functions such as _jit_compiled_convolution_op, _jit_compiled_convolution_op, _jit_compiled_convolution_op while saving (showing 3 of 3). These functions will not be directly callable after loading.\n"
     ]
    },
    {
     "name": "stdout",
     "output_type": "stream",
     "text": [
      "INFO:tensorflow:Assets written to: /home/oscar47/Desktop/P-ai/p-music/CNN_oscar/wandb/run-20221123_202737-05fqv9tm/files/model-best/assets\n"
     ]
    },
    {
     "name": "stderr",
     "output_type": "stream",
     "text": [
      "INFO:tensorflow:Assets written to: /home/oscar47/Desktop/P-ai/p-music/CNN_oscar/wandb/run-20221123_202737-05fqv9tm/files/model-best/assets\n",
      "\u001b[34m\u001b[1mwandb\u001b[0m: Adding directory to artifact (/home/oscar47/Desktop/P-ai/p-music/CNN_oscar/wandb/run-20221123_202737-05fqv9tm/files/model-best)... Done. 0.4s\n"
     ]
    },
    {
     "name": "stdout",
     "output_type": "stream",
     "text": [
      "45/45 [==============================] - 30s 659ms/step - loss: 10.8099 - val_loss: 6.7294\n",
      "Epoch 3/26\n",
      "45/45 [==============================] - ETA: 0s - loss: 4.1512"
     ]
    },
    {
     "name": "stderr",
     "output_type": "stream",
     "text": [
      "WARNING:absl:Found untraced functions such as _jit_compiled_convolution_op, _jit_compiled_convolution_op, _jit_compiled_convolution_op while saving (showing 3 of 3). These functions will not be directly callable after loading.\n"
     ]
    },
    {
     "name": "stdout",
     "output_type": "stream",
     "text": [
      "INFO:tensorflow:Assets written to: /home/oscar47/Desktop/P-ai/p-music/CNN_oscar/wandb/run-20221123_202737-05fqv9tm/files/model-best/assets\n"
     ]
    },
    {
     "name": "stderr",
     "output_type": "stream",
     "text": [
      "INFO:tensorflow:Assets written to: /home/oscar47/Desktop/P-ai/p-music/CNN_oscar/wandb/run-20221123_202737-05fqv9tm/files/model-best/assets\n",
      "\u001b[34m\u001b[1mwandb\u001b[0m: Adding directory to artifact (/home/oscar47/Desktop/P-ai/p-music/CNN_oscar/wandb/run-20221123_202737-05fqv9tm/files/model-best)... Done. 0.5s\n"
     ]
    },
    {
     "name": "stdout",
     "output_type": "stream",
     "text": [
      "45/45 [==============================] - 29s 651ms/step - loss: 4.1512 - val_loss: 2.1644\n",
      "Epoch 4/26\n",
      "45/45 [==============================] - ETA: 0s - loss: 1.2442"
     ]
    },
    {
     "name": "stderr",
     "output_type": "stream",
     "text": [
      "WARNING:absl:Found untraced functions such as _jit_compiled_convolution_op, _jit_compiled_convolution_op, _jit_compiled_convolution_op while saving (showing 3 of 3). These functions will not be directly callable after loading.\n"
     ]
    },
    {
     "name": "stdout",
     "output_type": "stream",
     "text": [
      "INFO:tensorflow:Assets written to: /home/oscar47/Desktop/P-ai/p-music/CNN_oscar/wandb/run-20221123_202737-05fqv9tm/files/model-best/assets\n"
     ]
    },
    {
     "name": "stderr",
     "output_type": "stream",
     "text": [
      "INFO:tensorflow:Assets written to: /home/oscar47/Desktop/P-ai/p-music/CNN_oscar/wandb/run-20221123_202737-05fqv9tm/files/model-best/assets\n",
      "\u001b[34m\u001b[1mwandb\u001b[0m: Adding directory to artifact (/home/oscar47/Desktop/P-ai/p-music/CNN_oscar/wandb/run-20221123_202737-05fqv9tm/files/model-best)... Done. 0.5s\n"
     ]
    },
    {
     "name": "stdout",
     "output_type": "stream",
     "text": [
      "45/45 [==============================] - 29s 653ms/step - loss: 1.2442 - val_loss: 0.5939\n",
      "Epoch 5/26\n",
      "45/45 [==============================] - ETA: 0s - loss: 0.3320"
     ]
    },
    {
     "name": "stderr",
     "output_type": "stream",
     "text": [
      "WARNING:absl:Found untraced functions such as _jit_compiled_convolution_op, _jit_compiled_convolution_op, _jit_compiled_convolution_op while saving (showing 3 of 3). These functions will not be directly callable after loading.\n"
     ]
    },
    {
     "name": "stdout",
     "output_type": "stream",
     "text": [
      "INFO:tensorflow:Assets written to: /home/oscar47/Desktop/P-ai/p-music/CNN_oscar/wandb/run-20221123_202737-05fqv9tm/files/model-best/assets\n"
     ]
    },
    {
     "name": "stderr",
     "output_type": "stream",
     "text": [
      "INFO:tensorflow:Assets written to: /home/oscar47/Desktop/P-ai/p-music/CNN_oscar/wandb/run-20221123_202737-05fqv9tm/files/model-best/assets\n",
      "\u001b[34m\u001b[1mwandb\u001b[0m: Adding directory to artifact (/home/oscar47/Desktop/P-ai/p-music/CNN_oscar/wandb/run-20221123_202737-05fqv9tm/files/model-best)... Done. 0.5s\n"
     ]
    },
    {
     "name": "stdout",
     "output_type": "stream",
     "text": [
      "45/45 [==============================] - 29s 653ms/step - loss: 0.3320 - val_loss: 0.1548\n",
      "Epoch 6/26\n",
      "45/45 [==============================] - ETA: 0s - loss: 0.0867"
     ]
    },
    {
     "name": "stderr",
     "output_type": "stream",
     "text": [
      "WARNING:absl:Found untraced functions such as _jit_compiled_convolution_op, _jit_compiled_convolution_op, _jit_compiled_convolution_op while saving (showing 3 of 3). These functions will not be directly callable after loading.\n"
     ]
    },
    {
     "name": "stdout",
     "output_type": "stream",
     "text": [
      "INFO:tensorflow:Assets written to: /home/oscar47/Desktop/P-ai/p-music/CNN_oscar/wandb/run-20221123_202737-05fqv9tm/files/model-best/assets\n"
     ]
    },
    {
     "name": "stderr",
     "output_type": "stream",
     "text": [
      "INFO:tensorflow:Assets written to: /home/oscar47/Desktop/P-ai/p-music/CNN_oscar/wandb/run-20221123_202737-05fqv9tm/files/model-best/assets\n",
      "\u001b[34m\u001b[1mwandb\u001b[0m: Adding directory to artifact (/home/oscar47/Desktop/P-ai/p-music/CNN_oscar/wandb/run-20221123_202737-05fqv9tm/files/model-best)... Done. 0.4s\n"
     ]
    },
    {
     "name": "stdout",
     "output_type": "stream",
     "text": [
      "45/45 [==============================] - 29s 654ms/step - loss: 0.0867 - val_loss: 0.0401\n",
      "Epoch 7/26\n",
      "45/45 [==============================] - ETA: 0s - loss: 0.0217"
     ]
    },
    {
     "name": "stderr",
     "output_type": "stream",
     "text": [
      "WARNING:absl:Found untraced functions such as _jit_compiled_convolution_op, _jit_compiled_convolution_op, _jit_compiled_convolution_op while saving (showing 3 of 3). These functions will not be directly callable after loading.\n"
     ]
    },
    {
     "name": "stdout",
     "output_type": "stream",
     "text": [
      "INFO:tensorflow:Assets written to: /home/oscar47/Desktop/P-ai/p-music/CNN_oscar/wandb/run-20221123_202737-05fqv9tm/files/model-best/assets\n"
     ]
    },
    {
     "name": "stderr",
     "output_type": "stream",
     "text": [
      "INFO:tensorflow:Assets written to: /home/oscar47/Desktop/P-ai/p-music/CNN_oscar/wandb/run-20221123_202737-05fqv9tm/files/model-best/assets\n",
      "\u001b[34m\u001b[1mwandb\u001b[0m: Adding directory to artifact (/home/oscar47/Desktop/P-ai/p-music/CNN_oscar/wandb/run-20221123_202737-05fqv9tm/files/model-best)... Done. 0.5s\n"
     ]
    },
    {
     "name": "stdout",
     "output_type": "stream",
     "text": [
      "45/45 [==============================] - 29s 652ms/step - loss: 0.0217 - val_loss: 0.0097\n",
      "Epoch 8/26\n",
      "45/45 [==============================] - ETA: 0s - loss: 0.0056"
     ]
    },
    {
     "name": "stderr",
     "output_type": "stream",
     "text": [
      "WARNING:absl:Found untraced functions such as _jit_compiled_convolution_op, _jit_compiled_convolution_op, _jit_compiled_convolution_op while saving (showing 3 of 3). These functions will not be directly callable after loading.\n"
     ]
    },
    {
     "name": "stdout",
     "output_type": "stream",
     "text": [
      "INFO:tensorflow:Assets written to: /home/oscar47/Desktop/P-ai/p-music/CNN_oscar/wandb/run-20221123_202737-05fqv9tm/files/model-best/assets\n"
     ]
    },
    {
     "name": "stderr",
     "output_type": "stream",
     "text": [
      "INFO:tensorflow:Assets written to: /home/oscar47/Desktop/P-ai/p-music/CNN_oscar/wandb/run-20221123_202737-05fqv9tm/files/model-best/assets\n",
      "\u001b[34m\u001b[1mwandb\u001b[0m: Adding directory to artifact (/home/oscar47/Desktop/P-ai/p-music/CNN_oscar/wandb/run-20221123_202737-05fqv9tm/files/model-best)... Done. 0.5s\n"
     ]
    },
    {
     "name": "stdout",
     "output_type": "stream",
     "text": [
      "45/45 [==============================] - 30s 658ms/step - loss: 0.0056 - val_loss: 0.0030\n",
      "Epoch 9/26\n",
      "45/45 [==============================] - ETA: 0s - loss: 0.0023"
     ]
    },
    {
     "name": "stderr",
     "output_type": "stream",
     "text": [
      "WARNING:absl:Found untraced functions such as _jit_compiled_convolution_op, _jit_compiled_convolution_op, _jit_compiled_convolution_op while saving (showing 3 of 3). These functions will not be directly callable after loading.\n"
     ]
    },
    {
     "name": "stdout",
     "output_type": "stream",
     "text": [
      "INFO:tensorflow:Assets written to: /home/oscar47/Desktop/P-ai/p-music/CNN_oscar/wandb/run-20221123_202737-05fqv9tm/files/model-best/assets\n"
     ]
    },
    {
     "name": "stderr",
     "output_type": "stream",
     "text": [
      "INFO:tensorflow:Assets written to: /home/oscar47/Desktop/P-ai/p-music/CNN_oscar/wandb/run-20221123_202737-05fqv9tm/files/model-best/assets\n",
      "\u001b[34m\u001b[1mwandb\u001b[0m: Adding directory to artifact (/home/oscar47/Desktop/P-ai/p-music/CNN_oscar/wandb/run-20221123_202737-05fqv9tm/files/model-best)... Done. 0.5s\n"
     ]
    },
    {
     "name": "stdout",
     "output_type": "stream",
     "text": [
      "45/45 [==============================] - 29s 650ms/step - loss: 0.0023 - val_loss: 0.0018\n",
      "Epoch 10/26\n",
      "45/45 [==============================] - ETA: 0s - loss: 0.0017"
     ]
    },
    {
     "name": "stderr",
     "output_type": "stream",
     "text": [
      "WARNING:absl:Found untraced functions such as _jit_compiled_convolution_op, _jit_compiled_convolution_op, _jit_compiled_convolution_op while saving (showing 3 of 3). These functions will not be directly callable after loading.\n"
     ]
    },
    {
     "name": "stdout",
     "output_type": "stream",
     "text": [
      "INFO:tensorflow:Assets written to: /home/oscar47/Desktop/P-ai/p-music/CNN_oscar/wandb/run-20221123_202737-05fqv9tm/files/model-best/assets\n"
     ]
    },
    {
     "name": "stderr",
     "output_type": "stream",
     "text": [
      "INFO:tensorflow:Assets written to: /home/oscar47/Desktop/P-ai/p-music/CNN_oscar/wandb/run-20221123_202737-05fqv9tm/files/model-best/assets\n",
      "\u001b[34m\u001b[1mwandb\u001b[0m: Adding directory to artifact (/home/oscar47/Desktop/P-ai/p-music/CNN_oscar/wandb/run-20221123_202737-05fqv9tm/files/model-best)... Done. 0.5s\n"
     ]
    },
    {
     "name": "stdout",
     "output_type": "stream",
     "text": [
      "45/45 [==============================] - 29s 648ms/step - loss: 0.0017 - val_loss: 0.0016\n",
      "Epoch 11/26\n",
      "45/45 [==============================] - ETA: 0s - loss: 0.0016"
     ]
    },
    {
     "name": "stderr",
     "output_type": "stream",
     "text": [
      "WARNING:absl:Found untraced functions such as _jit_compiled_convolution_op, _jit_compiled_convolution_op, _jit_compiled_convolution_op while saving (showing 3 of 3). These functions will not be directly callable after loading.\n"
     ]
    },
    {
     "name": "stdout",
     "output_type": "stream",
     "text": [
      "INFO:tensorflow:Assets written to: /home/oscar47/Desktop/P-ai/p-music/CNN_oscar/wandb/run-20221123_202737-05fqv9tm/files/model-best/assets\n"
     ]
    },
    {
     "name": "stderr",
     "output_type": "stream",
     "text": [
      "INFO:tensorflow:Assets written to: /home/oscar47/Desktop/P-ai/p-music/CNN_oscar/wandb/run-20221123_202737-05fqv9tm/files/model-best/assets\n",
      "\u001b[34m\u001b[1mwandb\u001b[0m: Adding directory to artifact (/home/oscar47/Desktop/P-ai/p-music/CNN_oscar/wandb/run-20221123_202737-05fqv9tm/files/model-best)... Done. 0.5s\n"
     ]
    },
    {
     "name": "stdout",
     "output_type": "stream",
     "text": [
      "45/45 [==============================] - 29s 648ms/step - loss: 0.0016 - val_loss: 0.0015\n",
      "Epoch 12/26\n",
      "45/45 [==============================] - ETA: 0s - loss: 0.0016"
     ]
    },
    {
     "name": "stderr",
     "output_type": "stream",
     "text": [
      "WARNING:absl:Found untraced functions such as _jit_compiled_convolution_op, _jit_compiled_convolution_op, _jit_compiled_convolution_op while saving (showing 3 of 3). These functions will not be directly callable after loading.\n"
     ]
    },
    {
     "name": "stdout",
     "output_type": "stream",
     "text": [
      "INFO:tensorflow:Assets written to: /home/oscar47/Desktop/P-ai/p-music/CNN_oscar/wandb/run-20221123_202737-05fqv9tm/files/model-best/assets\n"
     ]
    },
    {
     "name": "stderr",
     "output_type": "stream",
     "text": [
      "INFO:tensorflow:Assets written to: /home/oscar47/Desktop/P-ai/p-music/CNN_oscar/wandb/run-20221123_202737-05fqv9tm/files/model-best/assets\n",
      "\u001b[34m\u001b[1mwandb\u001b[0m: Adding directory to artifact (/home/oscar47/Desktop/P-ai/p-music/CNN_oscar/wandb/run-20221123_202737-05fqv9tm/files/model-best)... Done. 0.5s\n"
     ]
    },
    {
     "name": "stdout",
     "output_type": "stream",
     "text": [
      "45/45 [==============================] - 29s 649ms/step - loss: 0.0016 - val_loss: 0.0015\n",
      "Epoch 13/26\n",
      "45/45 [==============================] - ETA: 0s - loss: 0.0016"
     ]
    },
    {
     "name": "stderr",
     "output_type": "stream",
     "text": [
      "WARNING:absl:Found untraced functions such as _jit_compiled_convolution_op, _jit_compiled_convolution_op, _jit_compiled_convolution_op while saving (showing 3 of 3). These functions will not be directly callable after loading.\n"
     ]
    },
    {
     "name": "stdout",
     "output_type": "stream",
     "text": [
      "INFO:tensorflow:Assets written to: /home/oscar47/Desktop/P-ai/p-music/CNN_oscar/wandb/run-20221123_202737-05fqv9tm/files/model-best/assets\n"
     ]
    },
    {
     "name": "stderr",
     "output_type": "stream",
     "text": [
      "INFO:tensorflow:Assets written to: /home/oscar47/Desktop/P-ai/p-music/CNN_oscar/wandb/run-20221123_202737-05fqv9tm/files/model-best/assets\n",
      "\u001b[34m\u001b[1mwandb\u001b[0m: Adding directory to artifact (/home/oscar47/Desktop/P-ai/p-music/CNN_oscar/wandb/run-20221123_202737-05fqv9tm/files/model-best)... Done. 0.5s\n"
     ]
    },
    {
     "name": "stdout",
     "output_type": "stream",
     "text": [
      "45/45 [==============================] - 29s 651ms/step - loss: 0.0016 - val_loss: 0.0015\n",
      "Epoch 14/26\n",
      "45/45 [==============================] - ETA: 0s - loss: 0.0016"
     ]
    },
    {
     "name": "stderr",
     "output_type": "stream",
     "text": [
      "WARNING:absl:Found untraced functions such as _jit_compiled_convolution_op, _jit_compiled_convolution_op, _jit_compiled_convolution_op while saving (showing 3 of 3). These functions will not be directly callable after loading.\n"
     ]
    },
    {
     "name": "stdout",
     "output_type": "stream",
     "text": [
      "INFO:tensorflow:Assets written to: /home/oscar47/Desktop/P-ai/p-music/CNN_oscar/wandb/run-20221123_202737-05fqv9tm/files/model-best/assets\n"
     ]
    },
    {
     "name": "stderr",
     "output_type": "stream",
     "text": [
      "INFO:tensorflow:Assets written to: /home/oscar47/Desktop/P-ai/p-music/CNN_oscar/wandb/run-20221123_202737-05fqv9tm/files/model-best/assets\n",
      "\u001b[34m\u001b[1mwandb\u001b[0m: Adding directory to artifact (/home/oscar47/Desktop/P-ai/p-music/CNN_oscar/wandb/run-20221123_202737-05fqv9tm/files/model-best)... Done. 0.5s\n"
     ]
    },
    {
     "name": "stdout",
     "output_type": "stream",
     "text": [
      "45/45 [==============================] - 30s 672ms/step - loss: 0.0016 - val_loss: 0.0015\n",
      "Epoch 15/26\n",
      "45/45 [==============================] - 28s 619ms/step - loss: 0.0016 - val_loss: 0.0015\n",
      "Epoch 16/26\n",
      "45/45 [==============================] - ETA: 0s - loss: 0.0016"
     ]
    },
    {
     "name": "stderr",
     "output_type": "stream",
     "text": [
      "WARNING:absl:Found untraced functions such as _jit_compiled_convolution_op, _jit_compiled_convolution_op, _jit_compiled_convolution_op while saving (showing 3 of 3). These functions will not be directly callable after loading.\n"
     ]
    },
    {
     "name": "stdout",
     "output_type": "stream",
     "text": [
      "INFO:tensorflow:Assets written to: /home/oscar47/Desktop/P-ai/p-music/CNN_oscar/wandb/run-20221123_202737-05fqv9tm/files/model-best/assets\n"
     ]
    },
    {
     "name": "stderr",
     "output_type": "stream",
     "text": [
      "INFO:tensorflow:Assets written to: /home/oscar47/Desktop/P-ai/p-music/CNN_oscar/wandb/run-20221123_202737-05fqv9tm/files/model-best/assets\n",
      "\u001b[34m\u001b[1mwandb\u001b[0m: Adding directory to artifact (/home/oscar47/Desktop/P-ai/p-music/CNN_oscar/wandb/run-20221123_202737-05fqv9tm/files/model-best)... Done. 0.5s\n"
     ]
    },
    {
     "name": "stdout",
     "output_type": "stream",
     "text": [
      "45/45 [==============================] - 29s 644ms/step - loss: 0.0016 - val_loss: 0.0015\n",
      "Epoch 17/26\n",
      "45/45 [==============================] - ETA: 0s - loss: 0.0016"
     ]
    },
    {
     "name": "stderr",
     "output_type": "stream",
     "text": [
      "WARNING:absl:Found untraced functions such as _jit_compiled_convolution_op, _jit_compiled_convolution_op, _jit_compiled_convolution_op while saving (showing 3 of 3). These functions will not be directly callable after loading.\n"
     ]
    },
    {
     "name": "stdout",
     "output_type": "stream",
     "text": [
      "INFO:tensorflow:Assets written to: /home/oscar47/Desktop/P-ai/p-music/CNN_oscar/wandb/run-20221123_202737-05fqv9tm/files/model-best/assets\n"
     ]
    },
    {
     "name": "stderr",
     "output_type": "stream",
     "text": [
      "INFO:tensorflow:Assets written to: /home/oscar47/Desktop/P-ai/p-music/CNN_oscar/wandb/run-20221123_202737-05fqv9tm/files/model-best/assets\n",
      "\u001b[34m\u001b[1mwandb\u001b[0m: Adding directory to artifact (/home/oscar47/Desktop/P-ai/p-music/CNN_oscar/wandb/run-20221123_202737-05fqv9tm/files/model-best)... Done. 0.4s\n"
     ]
    },
    {
     "name": "stdout",
     "output_type": "stream",
     "text": [
      "45/45 [==============================] - 29s 648ms/step - loss: 0.0016 - val_loss: 0.0015\n",
      "Epoch 18/26\n",
      "45/45 [==============================] - ETA: 0s - loss: 0.0016"
     ]
    },
    {
     "name": "stderr",
     "output_type": "stream",
     "text": [
      "WARNING:absl:Found untraced functions such as _jit_compiled_convolution_op, _jit_compiled_convolution_op, _jit_compiled_convolution_op while saving (showing 3 of 3). These functions will not be directly callable after loading.\n"
     ]
    },
    {
     "name": "stdout",
     "output_type": "stream",
     "text": [
      "INFO:tensorflow:Assets written to: /home/oscar47/Desktop/P-ai/p-music/CNN_oscar/wandb/run-20221123_202737-05fqv9tm/files/model-best/assets\n"
     ]
    },
    {
     "name": "stderr",
     "output_type": "stream",
     "text": [
      "INFO:tensorflow:Assets written to: /home/oscar47/Desktop/P-ai/p-music/CNN_oscar/wandb/run-20221123_202737-05fqv9tm/files/model-best/assets\n",
      "\u001b[34m\u001b[1mwandb\u001b[0m: Adding directory to artifact (/home/oscar47/Desktop/P-ai/p-music/CNN_oscar/wandb/run-20221123_202737-05fqv9tm/files/model-best)... Done. 0.5s\n"
     ]
    },
    {
     "name": "stdout",
     "output_type": "stream",
     "text": [
      "45/45 [==============================] - 29s 648ms/step - loss: 0.0016 - val_loss: 0.0015\n",
      "Epoch 19/26\n",
      "45/45 [==============================] - 28s 620ms/step - loss: 0.0016 - val_loss: 0.0015\n",
      "Epoch 20/26\n",
      "45/45 [==============================] - 28s 615ms/step - loss: 0.0016 - val_loss: 0.0015\n",
      "Epoch 21/26\n",
      "45/45 [==============================] - 28s 617ms/step - loss: 0.0016 - val_loss: 0.0015\n",
      "Epoch 22/26\n",
      "45/45 [==============================] - 28s 612ms/step - loss: 0.0016 - val_loss: 0.0015\n",
      "Epoch 23/26\n",
      "45/45 [==============================] - 28s 613ms/step - loss: 0.0016 - val_loss: 0.0015\n",
      "Epoch 24/26\n",
      "45/45 [==============================] - 28s 613ms/step - loss: 0.0016 - val_loss: 0.0015\n",
      "Epoch 25/26\n",
      "45/45 [==============================] - 28s 614ms/step - loss: 0.0016 - val_loss: 0.0015\n",
      "Epoch 26/26\n",
      "45/45 [==============================] - 28s 614ms/step - loss: 0.0016 - val_loss: 0.0015\n"
     ]
    },
    {
     "data": {
      "text/html": [
       "Waiting for W&B process to finish... <strong style=\"color:green\">(success).</strong>"
      ],
      "text/plain": [
       "<IPython.core.display.HTML object>"
      ]
     },
     "metadata": {},
     "output_type": "display_data"
    },
    {
     "data": {
      "text/html": [
       "<style>\n",
       "    table.wandb td:nth-child(1) { padding: 0 10px; text-align: left ; width: auto;} td:nth-child(2) {text-align: left ; width: 100%}\n",
       "    .wandb-row { display: flex; flex-direction: row; flex-wrap: wrap; justify-content: flex-start; width: 100% }\n",
       "    .wandb-col { display: flex; flex-direction: column; flex-basis: 100%; flex: 1; padding: 10px; }\n",
       "    </style>\n",
       "<div class=\"wandb-row\"><div class=\"wandb-col\"><h3>Run history:</h3><br/><table class=\"wandb\"><tr><td>epoch</td><td>▁▁▂▂▂▂▃▃▃▄▄▄▄▅▅▅▅▆▆▆▇▇▇▇██</td></tr><tr><td>loss</td><td>█▁▁▁▁▁▁▁▁▁▁▁▁▁▁▁▁▁▁▁▁▁▁▁▁▁</td></tr><tr><td>val_loss</td><td>█▄▂▁▁▁▁▁▁▁▁▁▁▁▁▁▁▁▁▁▁▁▁▁▁▁</td></tr></table><br/></div><div class=\"wandb-col\"><h3>Run summary:</h3><br/><table class=\"wandb\"><tr><td>best_epoch</td><td>17</td></tr><tr><td>best_val_loss</td><td>0.00154</td></tr><tr><td>epoch</td><td>25</td></tr><tr><td>loss</td><td>0.00161</td></tr><tr><td>val_loss</td><td>0.00154</td></tr></table><br/></div></div>"
      ],
      "text/plain": [
       "<IPython.core.display.HTML object>"
      ]
     },
     "metadata": {},
     "output_type": "display_data"
    },
    {
     "data": {
      "text/html": [
       "Synced <strong style=\"color:#cdcd00\">crimson-sweep-15</strong>: <a href=\"https://wandb.ai/p-ai/Oscar%20CNN1/runs/05fqv9tm\" target=\"_blank\">https://wandb.ai/p-ai/Oscar%20CNN1/runs/05fqv9tm</a><br/>Synced 6 W&B file(s), 1 media file(s), 69 artifact file(s) and 1 other file(s)"
      ],
      "text/plain": [
       "<IPython.core.display.HTML object>"
      ]
     },
     "metadata": {},
     "output_type": "display_data"
    },
    {
     "data": {
      "text/html": [
       "Find logs at: <code>./wandb/run-20221123_202737-05fqv9tm/logs</code>"
      ],
      "text/plain": [
       "<IPython.core.display.HTML object>"
      ]
     },
     "metadata": {},
     "output_type": "display_data"
    },
    {
     "name": "stderr",
     "output_type": "stream",
     "text": [
      "\u001b[34m\u001b[1mwandb\u001b[0m: Agent Starting Run: hpedma31 with config:\n",
      "\u001b[34m\u001b[1mwandb\u001b[0m: \tbatch_size: 128\n",
      "\u001b[34m\u001b[1mwandb\u001b[0m: \tdense1: 255\n",
      "\u001b[34m\u001b[1mwandb\u001b[0m: \tepochs: 18\n",
      "\u001b[34m\u001b[1mwandb\u001b[0m: \tlearning_rate: 0.03782026142443362\n",
      "\u001b[34m\u001b[1mwandb\u001b[0m: \tsize_1: 135\n",
      "\u001b[34m\u001b[1mwandb\u001b[0m: \tsize_2: 99\n",
      "\u001b[34m\u001b[1mwandb\u001b[0m: \tsize_3: 123\n"
     ]
    },
    {
     "data": {
      "text/html": [
       "Tracking run with wandb version 0.13.5"
      ],
      "text/plain": [
       "<IPython.core.display.HTML object>"
      ]
     },
     "metadata": {},
     "output_type": "display_data"
    },
    {
     "data": {
      "text/html": [
       "Run data is saved locally in <code>/home/oscar47/Desktop/P-ai/p-music/CNN_oscar/wandb/run-20221123_204022-hpedma31</code>"
      ],
      "text/plain": [
       "<IPython.core.display.HTML object>"
      ]
     },
     "metadata": {},
     "output_type": "display_data"
    },
    {
     "data": {
      "text/html": [
       "Syncing run <strong><a href=\"https://wandb.ai/p-ai/Oscar%20CNN1/runs/hpedma31\" target=\"_blank\">likely-sweep-16</a></strong> to <a href=\"https://wandb.ai/p-ai/Oscar%20CNN1\" target=\"_blank\">Weights & Biases</a> (<a href=\"https://wandb.me/run\" target=\"_blank\">docs</a>)<br/>Sweep page:  <a href=\"https://wandb.ai/p-ai/Oscar%20CNN1/sweeps/wsxqxjvp\" target=\"_blank\">https://wandb.ai/p-ai/Oscar%20CNN1/sweeps/wsxqxjvp</a>"
      ],
      "text/plain": [
       "<IPython.core.display.HTML object>"
      ]
     },
     "metadata": {},
     "output_type": "display_data"
    },
    {
     "name": "stdout",
     "output_type": "stream",
     "text": [
      "Epoch 1/18\n",
      "12/12 [==============================] - ETA: 0s - loss: 35471183872.0000"
     ]
    },
    {
     "name": "stderr",
     "output_type": "stream",
     "text": [
      "WARNING:absl:Found untraced functions such as _jit_compiled_convolution_op, _jit_compiled_convolution_op, _jit_compiled_convolution_op while saving (showing 3 of 3). These functions will not be directly callable after loading.\n"
     ]
    },
    {
     "name": "stdout",
     "output_type": "stream",
     "text": [
      "INFO:tensorflow:Assets written to: /home/oscar47/Desktop/P-ai/p-music/CNN_oscar/wandb/run-20221123_204022-hpedma31/files/model-best/assets\n"
     ]
    },
    {
     "name": "stderr",
     "output_type": "stream",
     "text": [
      "INFO:tensorflow:Assets written to: /home/oscar47/Desktop/P-ai/p-music/CNN_oscar/wandb/run-20221123_204022-hpedma31/files/model-best/assets\n",
      "\u001b[34m\u001b[1mwandb\u001b[0m: Adding directory to artifact (/home/oscar47/Desktop/P-ai/p-music/CNN_oscar/wandb/run-20221123_204022-hpedma31/files/model-best)... Done. 0.3s\n"
     ]
    },
    {
     "name": "stdout",
     "output_type": "stream",
     "text": [
      "12/12 [==============================] - 26s 2s/step - loss: 35471183872.0000 - val_loss: 0.8803\n",
      "Epoch 2/18\n",
      "12/12 [==============================] - ETA: 0s - loss: 0.7058"
     ]
    },
    {
     "name": "stderr",
     "output_type": "stream",
     "text": [
      "WARNING:absl:Found untraced functions such as _jit_compiled_convolution_op, _jit_compiled_convolution_op, _jit_compiled_convolution_op while saving (showing 3 of 3). These functions will not be directly callable after loading.\n"
     ]
    },
    {
     "name": "stdout",
     "output_type": "stream",
     "text": [
      "INFO:tensorflow:Assets written to: /home/oscar47/Desktop/P-ai/p-music/CNN_oscar/wandb/run-20221123_204022-hpedma31/files/model-best/assets\n"
     ]
    },
    {
     "name": "stderr",
     "output_type": "stream",
     "text": [
      "INFO:tensorflow:Assets written to: /home/oscar47/Desktop/P-ai/p-music/CNN_oscar/wandb/run-20221123_204022-hpedma31/files/model-best/assets\n",
      "\u001b[34m\u001b[1mwandb\u001b[0m: Adding directory to artifact (/home/oscar47/Desktop/P-ai/p-music/CNN_oscar/wandb/run-20221123_204022-hpedma31/files/model-best)... Done. 0.4s\n"
     ]
    },
    {
     "name": "stdout",
     "output_type": "stream",
     "text": [
      "12/12 [==============================] - 26s 2s/step - loss: 0.7058 - val_loss: 0.3439\n",
      "Epoch 3/18\n",
      "12/12 [==============================] - ETA: 0s - loss: 0.1129"
     ]
    },
    {
     "name": "stderr",
     "output_type": "stream",
     "text": [
      "WARNING:absl:Found untraced functions such as _jit_compiled_convolution_op, _jit_compiled_convolution_op, _jit_compiled_convolution_op while saving (showing 3 of 3). These functions will not be directly callable after loading.\n"
     ]
    },
    {
     "name": "stdout",
     "output_type": "stream",
     "text": [
      "INFO:tensorflow:Assets written to: /home/oscar47/Desktop/P-ai/p-music/CNN_oscar/wandb/run-20221123_204022-hpedma31/files/model-best/assets\n"
     ]
    },
    {
     "name": "stderr",
     "output_type": "stream",
     "text": [
      "INFO:tensorflow:Assets written to: /home/oscar47/Desktop/P-ai/p-music/CNN_oscar/wandb/run-20221123_204022-hpedma31/files/model-best/assets\n",
      "\u001b[34m\u001b[1mwandb\u001b[0m: Adding directory to artifact (/home/oscar47/Desktop/P-ai/p-music/CNN_oscar/wandb/run-20221123_204022-hpedma31/files/model-best)... Done. 0.4s\n"
     ]
    },
    {
     "name": "stdout",
     "output_type": "stream",
     "text": [
      "12/12 [==============================] - 26s 2s/step - loss: 0.1129 - val_loss: 0.0472\n",
      "Epoch 4/18\n",
      "12/12 [==============================] - ETA: 0s - loss: 0.0490"
     ]
    },
    {
     "name": "stderr",
     "output_type": "stream",
     "text": [
      "WARNING:absl:Found untraced functions such as _jit_compiled_convolution_op, _jit_compiled_convolution_op, _jit_compiled_convolution_op while saving (showing 3 of 3). These functions will not be directly callable after loading.\n"
     ]
    },
    {
     "name": "stdout",
     "output_type": "stream",
     "text": [
      "INFO:tensorflow:Assets written to: /home/oscar47/Desktop/P-ai/p-music/CNN_oscar/wandb/run-20221123_204022-hpedma31/files/model-best/assets\n"
     ]
    },
    {
     "name": "stderr",
     "output_type": "stream",
     "text": [
      "INFO:tensorflow:Assets written to: /home/oscar47/Desktop/P-ai/p-music/CNN_oscar/wandb/run-20221123_204022-hpedma31/files/model-best/assets\n",
      "\u001b[34m\u001b[1mwandb\u001b[0m: Adding directory to artifact (/home/oscar47/Desktop/P-ai/p-music/CNN_oscar/wandb/run-20221123_204022-hpedma31/files/model-best)... Done. 0.3s\n"
     ]
    },
    {
     "name": "stdout",
     "output_type": "stream",
     "text": [
      "12/12 [==============================] - 26s 2s/step - loss: 0.0490 - val_loss: 0.0018\n",
      "Epoch 5/18\n",
      "12/12 [==============================] - 25s 2s/step - loss: 0.0096 - val_loss: 0.0093\n",
      "Epoch 6/18\n",
      "12/12 [==============================] - 24s 2s/step - loss: 0.0038 - val_loss: 0.0040\n",
      "Epoch 7/18\n",
      "12/12 [==============================] - ETA: 0s - loss: 0.0028"
     ]
    },
    {
     "name": "stderr",
     "output_type": "stream",
     "text": [
      "WARNING:absl:Found untraced functions such as _jit_compiled_convolution_op, _jit_compiled_convolution_op, _jit_compiled_convolution_op while saving (showing 3 of 3). These functions will not be directly callable after loading.\n"
     ]
    },
    {
     "name": "stdout",
     "output_type": "stream",
     "text": [
      "INFO:tensorflow:Assets written to: /home/oscar47/Desktop/P-ai/p-music/CNN_oscar/wandb/run-20221123_204022-hpedma31/files/model-best/assets\n"
     ]
    },
    {
     "name": "stderr",
     "output_type": "stream",
     "text": [
      "INFO:tensorflow:Assets written to: /home/oscar47/Desktop/P-ai/p-music/CNN_oscar/wandb/run-20221123_204022-hpedma31/files/model-best/assets\n",
      "\u001b[34m\u001b[1mwandb\u001b[0m: Adding directory to artifact (/home/oscar47/Desktop/P-ai/p-music/CNN_oscar/wandb/run-20221123_204022-hpedma31/files/model-best)... Done. 0.3s\n"
     ]
    },
    {
     "name": "stdout",
     "output_type": "stream",
     "text": [
      "12/12 [==============================] - 26s 2s/step - loss: 0.0028 - val_loss: 0.0017\n",
      "Epoch 8/18\n",
      "12/12 [==============================] - ETA: 0s - loss: 0.0020"
     ]
    },
    {
     "name": "stderr",
     "output_type": "stream",
     "text": [
      "WARNING:absl:Found untraced functions such as _jit_compiled_convolution_op, _jit_compiled_convolution_op, _jit_compiled_convolution_op while saving (showing 3 of 3). These functions will not be directly callable after loading.\n"
     ]
    },
    {
     "name": "stdout",
     "output_type": "stream",
     "text": [
      "INFO:tensorflow:Assets written to: /home/oscar47/Desktop/P-ai/p-music/CNN_oscar/wandb/run-20221123_204022-hpedma31/files/model-best/assets\n"
     ]
    },
    {
     "name": "stderr",
     "output_type": "stream",
     "text": [
      "INFO:tensorflow:Assets written to: /home/oscar47/Desktop/P-ai/p-music/CNN_oscar/wandb/run-20221123_204022-hpedma31/files/model-best/assets\n",
      "\u001b[34m\u001b[1mwandb\u001b[0m: Adding directory to artifact (/home/oscar47/Desktop/P-ai/p-music/CNN_oscar/wandb/run-20221123_204022-hpedma31/files/model-best)... Done. 0.3s\n"
     ]
    },
    {
     "name": "stdout",
     "output_type": "stream",
     "text": [
      "12/12 [==============================] - 26s 2s/step - loss: 0.0020 - val_loss: 0.0016\n",
      "Epoch 9/18\n",
      "12/12 [==============================] - 25s 2s/step - loss: 0.0017 - val_loss: 0.0016\n",
      "Epoch 10/18\n",
      "12/12 [==============================] - 24s 2s/step - loss: 0.0016 - val_loss: 0.0016\n",
      "Epoch 11/18\n",
      "12/12 [==============================] - 24s 2s/step - loss: 0.0016 - val_loss: 0.0016\n",
      "Epoch 12/18\n",
      "12/12 [==============================] - ETA: 0s - loss: 0.0016"
     ]
    },
    {
     "name": "stderr",
     "output_type": "stream",
     "text": [
      "WARNING:absl:Found untraced functions such as _jit_compiled_convolution_op, _jit_compiled_convolution_op, _jit_compiled_convolution_op while saving (showing 3 of 3). These functions will not be directly callable after loading.\n"
     ]
    },
    {
     "name": "stdout",
     "output_type": "stream",
     "text": [
      "INFO:tensorflow:Assets written to: /home/oscar47/Desktop/P-ai/p-music/CNN_oscar/wandb/run-20221123_204022-hpedma31/files/model-best/assets\n"
     ]
    },
    {
     "name": "stderr",
     "output_type": "stream",
     "text": [
      "INFO:tensorflow:Assets written to: /home/oscar47/Desktop/P-ai/p-music/CNN_oscar/wandb/run-20221123_204022-hpedma31/files/model-best/assets\n",
      "\u001b[34m\u001b[1mwandb\u001b[0m: Adding directory to artifact (/home/oscar47/Desktop/P-ai/p-music/CNN_oscar/wandb/run-20221123_204022-hpedma31/files/model-best)... Done. 0.3s\n"
     ]
    },
    {
     "name": "stdout",
     "output_type": "stream",
     "text": [
      "12/12 [==============================] - 26s 2s/step - loss: 0.0016 - val_loss: 0.0015\n",
      "Epoch 13/18\n",
      "12/12 [==============================] - 25s 2s/step - loss: 0.0016 - val_loss: 0.0015\n",
      "Epoch 14/18\n",
      "12/12 [==============================] - ETA: 0s - loss: 0.0016"
     ]
    },
    {
     "name": "stderr",
     "output_type": "stream",
     "text": [
      "WARNING:absl:Found untraced functions such as _jit_compiled_convolution_op, _jit_compiled_convolution_op, _jit_compiled_convolution_op while saving (showing 3 of 3). These functions will not be directly callable after loading.\n"
     ]
    },
    {
     "name": "stdout",
     "output_type": "stream",
     "text": [
      "INFO:tensorflow:Assets written to: /home/oscar47/Desktop/P-ai/p-music/CNN_oscar/wandb/run-20221123_204022-hpedma31/files/model-best/assets\n"
     ]
    },
    {
     "name": "stderr",
     "output_type": "stream",
     "text": [
      "INFO:tensorflow:Assets written to: /home/oscar47/Desktop/P-ai/p-music/CNN_oscar/wandb/run-20221123_204022-hpedma31/files/model-best/assets\n",
      "\u001b[34m\u001b[1mwandb\u001b[0m: Adding directory to artifact (/home/oscar47/Desktop/P-ai/p-music/CNN_oscar/wandb/run-20221123_204022-hpedma31/files/model-best)... Done. 0.3s\n"
     ]
    },
    {
     "name": "stdout",
     "output_type": "stream",
     "text": [
      "12/12 [==============================] - 26s 2s/step - loss: 0.0016 - val_loss: 0.0015\n",
      "Epoch 15/18\n",
      "12/12 [==============================] - ETA: 0s - loss: 0.0016"
     ]
    },
    {
     "name": "stderr",
     "output_type": "stream",
     "text": [
      "WARNING:absl:Found untraced functions such as _jit_compiled_convolution_op, _jit_compiled_convolution_op, _jit_compiled_convolution_op while saving (showing 3 of 3). These functions will not be directly callable after loading.\n"
     ]
    },
    {
     "name": "stdout",
     "output_type": "stream",
     "text": [
      "INFO:tensorflow:Assets written to: /home/oscar47/Desktop/P-ai/p-music/CNN_oscar/wandb/run-20221123_204022-hpedma31/files/model-best/assets\n"
     ]
    },
    {
     "name": "stderr",
     "output_type": "stream",
     "text": [
      "INFO:tensorflow:Assets written to: /home/oscar47/Desktop/P-ai/p-music/CNN_oscar/wandb/run-20221123_204022-hpedma31/files/model-best/assets\n",
      "\u001b[34m\u001b[1mwandb\u001b[0m: Adding directory to artifact (/home/oscar47/Desktop/P-ai/p-music/CNN_oscar/wandb/run-20221123_204022-hpedma31/files/model-best)... Done. 0.3s\n"
     ]
    },
    {
     "name": "stdout",
     "output_type": "stream",
     "text": [
      "12/12 [==============================] - 26s 2s/step - loss: 0.0016 - val_loss: 0.0015\n",
      "Epoch 16/18\n",
      "12/12 [==============================] - 25s 2s/step - loss: 0.0016 - val_loss: 0.0015\n",
      "Epoch 17/18\n",
      "12/12 [==============================] - 24s 2s/step - loss: 0.0016 - val_loss: 0.0015\n",
      "Epoch 18/18\n",
      "12/12 [==============================] - 24s 2s/step - loss: 0.0016 - val_loss: 0.0015\n"
     ]
    },
    {
     "data": {
      "text/html": [
       "Waiting for W&B process to finish... <strong style=\"color:green\">(success).</strong>"
      ],
      "text/plain": [
       "<IPython.core.display.HTML object>"
      ]
     },
     "metadata": {},
     "output_type": "display_data"
    },
    {
     "data": {
      "text/html": [
       "<style>\n",
       "    table.wandb td:nth-child(1) { padding: 0 10px; text-align: left ; width: auto;} td:nth-child(2) {text-align: left ; width: 100%}\n",
       "    .wandb-row { display: flex; flex-direction: row; flex-wrap: wrap; justify-content: flex-start; width: 100% }\n",
       "    .wandb-col { display: flex; flex-direction: column; flex-basis: 100%; flex: 1; padding: 10px; }\n",
       "    </style>\n",
       "<div class=\"wandb-row\"><div class=\"wandb-col\"><h3>Run history:</h3><br/><table class=\"wandb\"><tr><td>epoch</td><td>▁▁▂▂▃▃▃▄▄▅▅▆▆▆▇▇██</td></tr><tr><td>loss</td><td>█▁▁▁▁▁▁▁▁▁▁▁▁▁▁▁▁▁</td></tr><tr><td>val_loss</td><td>█▄▁▁▁▁▁▁▁▁▁▁▁▁▁▁▁▁</td></tr></table><br/></div><div class=\"wandb-col\"><h3>Run summary:</h3><br/><table class=\"wandb\"><tr><td>best_epoch</td><td>14</td></tr><tr><td>best_val_loss</td><td>0.00154</td></tr><tr><td>epoch</td><td>17</td></tr><tr><td>loss</td><td>0.00162</td></tr><tr><td>val_loss</td><td>0.00155</td></tr></table><br/></div></div>"
      ],
      "text/plain": [
       "<IPython.core.display.HTML object>"
      ]
     },
     "metadata": {},
     "output_type": "display_data"
    },
    {
     "data": {
      "text/html": [
       "Synced <strong style=\"color:#cdcd00\">likely-sweep-16</strong>: <a href=\"https://wandb.ai/p-ai/Oscar%20CNN1/runs/hpedma31\" target=\"_blank\">https://wandb.ai/p-ai/Oscar%20CNN1/runs/hpedma31</a><br/>Synced 6 W&B file(s), 1 media file(s), 37 artifact file(s) and 1 other file(s)"
      ],
      "text/plain": [
       "<IPython.core.display.HTML object>"
      ]
     },
     "metadata": {},
     "output_type": "display_data"
    },
    {
     "data": {
      "text/html": [
       "Find logs at: <code>./wandb/run-20221123_204022-hpedma31/logs</code>"
      ],
      "text/plain": [
       "<IPython.core.display.HTML object>"
      ]
     },
     "metadata": {},
     "output_type": "display_data"
    },
    {
     "name": "stderr",
     "output_type": "stream",
     "text": [
      "\u001b[34m\u001b[1mwandb\u001b[0m: Agent Starting Run: lpqk4no8 with config:\n",
      "\u001b[34m\u001b[1mwandb\u001b[0m: \tbatch_size: 32\n",
      "\u001b[34m\u001b[1mwandb\u001b[0m: \tdense1: 230\n",
      "\u001b[34m\u001b[1mwandb\u001b[0m: \tepochs: 17\n",
      "\u001b[34m\u001b[1mwandb\u001b[0m: \tlearning_rate: 0.05821422795960273\n",
      "\u001b[34m\u001b[1mwandb\u001b[0m: \tsize_1: 142\n",
      "\u001b[34m\u001b[1mwandb\u001b[0m: \tsize_2: 113\n",
      "\u001b[34m\u001b[1mwandb\u001b[0m: \tsize_3: 192\n"
     ]
    },
    {
     "data": {
      "text/html": [
       "Tracking run with wandb version 0.13.5"
      ],
      "text/plain": [
       "<IPython.core.display.HTML object>"
      ]
     },
     "metadata": {},
     "output_type": "display_data"
    },
    {
     "data": {
      "text/html": [
       "Run data is saved locally in <code>/home/oscar47/Desktop/P-ai/p-music/CNN_oscar/wandb/run-20221123_204810-lpqk4no8</code>"
      ],
      "text/plain": [
       "<IPython.core.display.HTML object>"
      ]
     },
     "metadata": {},
     "output_type": "display_data"
    },
    {
     "data": {
      "text/html": [
       "Syncing run <strong><a href=\"https://wandb.ai/p-ai/Oscar%20CNN1/runs/lpqk4no8\" target=\"_blank\">good-sweep-17</a></strong> to <a href=\"https://wandb.ai/p-ai/Oscar%20CNN1\" target=\"_blank\">Weights & Biases</a> (<a href=\"https://wandb.me/run\" target=\"_blank\">docs</a>)<br/>Sweep page:  <a href=\"https://wandb.ai/p-ai/Oscar%20CNN1/sweeps/wsxqxjvp\" target=\"_blank\">https://wandb.ai/p-ai/Oscar%20CNN1/sweeps/wsxqxjvp</a>"
      ],
      "text/plain": [
       "<IPython.core.display.HTML object>"
      ]
     },
     "metadata": {},
     "output_type": "display_data"
    },
    {
     "name": "stdout",
     "output_type": "stream",
     "text": [
      "Epoch 1/17\n",
      "45/45 [==============================] - ETA: 0s - loss: 272522625024.0000"
     ]
    },
    {
     "name": "stderr",
     "output_type": "stream",
     "text": [
      "WARNING:absl:Found untraced functions such as _jit_compiled_convolution_op, _jit_compiled_convolution_op, _jit_compiled_convolution_op while saving (showing 3 of 3). These functions will not be directly callable after loading.\n"
     ]
    },
    {
     "name": "stdout",
     "output_type": "stream",
     "text": [
      "INFO:tensorflow:Assets written to: /home/oscar47/Desktop/P-ai/p-music/CNN_oscar/wandb/run-20221123_204810-lpqk4no8/files/model-best/assets\n"
     ]
    },
    {
     "name": "stderr",
     "output_type": "stream",
     "text": [
      "INFO:tensorflow:Assets written to: /home/oscar47/Desktop/P-ai/p-music/CNN_oscar/wandb/run-20221123_204810-lpqk4no8/files/model-best/assets\n",
      "\u001b[34m\u001b[1mwandb\u001b[0m: Adding directory to artifact (/home/oscar47/Desktop/P-ai/p-music/CNN_oscar/wandb/run-20221123_204810-lpqk4no8/files/model-best)... Done. 0.4s\n"
     ]
    },
    {
     "name": "stdout",
     "output_type": "stream",
     "text": [
      "45/45 [==============================] - 30s 661ms/step - loss: 272522625024.0000 - val_loss: 3.2125\n",
      "Epoch 2/17\n",
      "45/45 [==============================] - 28s 631ms/step - loss: 3.2266 - val_loss: 3.2273\n",
      "Epoch 3/17\n",
      "45/45 [==============================] - 28s 620ms/step - loss: 3.2273 - val_loss: 3.2236\n",
      "Epoch 4/17\n",
      "45/45 [==============================] - 28s 621ms/step - loss: 3.2231 - val_loss: 3.2190\n",
      "Epoch 5/17\n",
      "45/45 [==============================] - 28s 622ms/step - loss: 3.2181 - val_loss: 3.2137\n",
      "Epoch 6/17\n",
      "45/45 [==============================] - ETA: 0s - loss: 3.2125"
     ]
    },
    {
     "name": "stderr",
     "output_type": "stream",
     "text": [
      "WARNING:absl:Found untraced functions such as _jit_compiled_convolution_op, _jit_compiled_convolution_op, _jit_compiled_convolution_op while saving (showing 3 of 3). These functions will not be directly callable after loading.\n"
     ]
    },
    {
     "name": "stdout",
     "output_type": "stream",
     "text": [
      "INFO:tensorflow:Assets written to: /home/oscar47/Desktop/P-ai/p-music/CNN_oscar/wandb/run-20221123_204810-lpqk4no8/files/model-best/assets\n"
     ]
    },
    {
     "name": "stderr",
     "output_type": "stream",
     "text": [
      "INFO:tensorflow:Assets written to: /home/oscar47/Desktop/P-ai/p-music/CNN_oscar/wandb/run-20221123_204810-lpqk4no8/files/model-best/assets\n",
      "\u001b[34m\u001b[1mwandb\u001b[0m: Adding directory to artifact (/home/oscar47/Desktop/P-ai/p-music/CNN_oscar/wandb/run-20221123_204810-lpqk4no8/files/model-best)... Done. 0.5s\n"
     ]
    },
    {
     "name": "stdout",
     "output_type": "stream",
     "text": [
      "45/45 [==============================] - 29s 647ms/step - loss: 3.2125 - val_loss: 3.2078\n",
      "Epoch 7/17\n",
      "45/45 [==============================] - ETA: 0s - loss: 3.2063"
     ]
    },
    {
     "name": "stderr",
     "output_type": "stream",
     "text": [
      "WARNING:absl:Found untraced functions such as _jit_compiled_convolution_op, _jit_compiled_convolution_op, _jit_compiled_convolution_op while saving (showing 3 of 3). These functions will not be directly callable after loading.\n"
     ]
    },
    {
     "name": "stdout",
     "output_type": "stream",
     "text": [
      "INFO:tensorflow:Assets written to: /home/oscar47/Desktop/P-ai/p-music/CNN_oscar/wandb/run-20221123_204810-lpqk4no8/files/model-best/assets\n"
     ]
    },
    {
     "name": "stderr",
     "output_type": "stream",
     "text": [
      "INFO:tensorflow:Assets written to: /home/oscar47/Desktop/P-ai/p-music/CNN_oscar/wandb/run-20221123_204810-lpqk4no8/files/model-best/assets\n",
      "\u001b[34m\u001b[1mwandb\u001b[0m: Adding directory to artifact (/home/oscar47/Desktop/P-ai/p-music/CNN_oscar/wandb/run-20221123_204810-lpqk4no8/files/model-best)... Done. 0.4s\n"
     ]
    },
    {
     "name": "stdout",
     "output_type": "stream",
     "text": [
      "45/45 [==============================] - 29s 653ms/step - loss: 3.2063 - val_loss: 3.2012\n",
      "Epoch 8/17\n",
      "45/45 [==============================] - ETA: 0s - loss: 3.1995"
     ]
    },
    {
     "name": "stderr",
     "output_type": "stream",
     "text": [
      "WARNING:absl:Found untraced functions such as _jit_compiled_convolution_op, _jit_compiled_convolution_op, _jit_compiled_convolution_op while saving (showing 3 of 3). These functions will not be directly callable after loading.\n"
     ]
    },
    {
     "name": "stdout",
     "output_type": "stream",
     "text": [
      "INFO:tensorflow:Assets written to: /home/oscar47/Desktop/P-ai/p-music/CNN_oscar/wandb/run-20221123_204810-lpqk4no8/files/model-best/assets\n"
     ]
    },
    {
     "name": "stderr",
     "output_type": "stream",
     "text": [
      "INFO:tensorflow:Assets written to: /home/oscar47/Desktop/P-ai/p-music/CNN_oscar/wandb/run-20221123_204810-lpqk4no8/files/model-best/assets\n",
      "\u001b[34m\u001b[1mwandb\u001b[0m: Adding directory to artifact (/home/oscar47/Desktop/P-ai/p-music/CNN_oscar/wandb/run-20221123_204810-lpqk4no8/files/model-best)... Done. 0.5s\n"
     ]
    },
    {
     "name": "stdout",
     "output_type": "stream",
     "text": [
      "45/45 [==============================] - 30s 662ms/step - loss: 3.1995 - val_loss: 3.1942\n",
      "Epoch 9/17\n",
      "45/45 [==============================] - ETA: 0s - loss: 3.1922"
     ]
    },
    {
     "name": "stderr",
     "output_type": "stream",
     "text": [
      "WARNING:absl:Found untraced functions such as _jit_compiled_convolution_op, _jit_compiled_convolution_op, _jit_compiled_convolution_op while saving (showing 3 of 3). These functions will not be directly callable after loading.\n"
     ]
    },
    {
     "name": "stdout",
     "output_type": "stream",
     "text": [
      "INFO:tensorflow:Assets written to: /home/oscar47/Desktop/P-ai/p-music/CNN_oscar/wandb/run-20221123_204810-lpqk4no8/files/model-best/assets\n"
     ]
    },
    {
     "name": "stderr",
     "output_type": "stream",
     "text": [
      "INFO:tensorflow:Assets written to: /home/oscar47/Desktop/P-ai/p-music/CNN_oscar/wandb/run-20221123_204810-lpqk4no8/files/model-best/assets\n",
      "\u001b[34m\u001b[1mwandb\u001b[0m: Adding directory to artifact (/home/oscar47/Desktop/P-ai/p-music/CNN_oscar/wandb/run-20221123_204810-lpqk4no8/files/model-best)... Done. 0.5s\n"
     ]
    },
    {
     "name": "stdout",
     "output_type": "stream",
     "text": [
      "45/45 [==============================] - 30s 656ms/step - loss: 3.1922 - val_loss: 3.1866\n",
      "Epoch 10/17\n",
      "45/45 [==============================] - ETA: 0s - loss: 3.1843"
     ]
    },
    {
     "name": "stderr",
     "output_type": "stream",
     "text": [
      "WARNING:absl:Found untraced functions such as _jit_compiled_convolution_op, _jit_compiled_convolution_op, _jit_compiled_convolution_op while saving (showing 3 of 3). These functions will not be directly callable after loading.\n"
     ]
    },
    {
     "name": "stdout",
     "output_type": "stream",
     "text": [
      "INFO:tensorflow:Assets written to: /home/oscar47/Desktop/P-ai/p-music/CNN_oscar/wandb/run-20221123_204810-lpqk4no8/files/model-best/assets\n"
     ]
    },
    {
     "name": "stderr",
     "output_type": "stream",
     "text": [
      "INFO:tensorflow:Assets written to: /home/oscar47/Desktop/P-ai/p-music/CNN_oscar/wandb/run-20221123_204810-lpqk4no8/files/model-best/assets\n",
      "\u001b[34m\u001b[1mwandb\u001b[0m: Adding directory to artifact (/home/oscar47/Desktop/P-ai/p-music/CNN_oscar/wandb/run-20221123_204810-lpqk4no8/files/model-best)... Done. 0.4s\n"
     ]
    },
    {
     "name": "stdout",
     "output_type": "stream",
     "text": [
      "45/45 [==============================] - 29s 654ms/step - loss: 3.1843 - val_loss: 3.1785\n",
      "Epoch 11/17\n",
      "45/45 [==============================] - ETA: 0s - loss: 3.1760"
     ]
    },
    {
     "name": "stderr",
     "output_type": "stream",
     "text": [
      "WARNING:absl:Found untraced functions such as _jit_compiled_convolution_op, _jit_compiled_convolution_op, _jit_compiled_convolution_op while saving (showing 3 of 3). These functions will not be directly callable after loading.\n"
     ]
    },
    {
     "name": "stdout",
     "output_type": "stream",
     "text": [
      "INFO:tensorflow:Assets written to: /home/oscar47/Desktop/P-ai/p-music/CNN_oscar/wandb/run-20221123_204810-lpqk4no8/files/model-best/assets\n"
     ]
    },
    {
     "name": "stderr",
     "output_type": "stream",
     "text": [
      "INFO:tensorflow:Assets written to: /home/oscar47/Desktop/P-ai/p-music/CNN_oscar/wandb/run-20221123_204810-lpqk4no8/files/model-best/assets\n",
      "\u001b[34m\u001b[1mwandb\u001b[0m: Adding directory to artifact (/home/oscar47/Desktop/P-ai/p-music/CNN_oscar/wandb/run-20221123_204810-lpqk4no8/files/model-best)... Done. 0.5s\n"
     ]
    },
    {
     "name": "stdout",
     "output_type": "stream",
     "text": [
      "45/45 [==============================] - 29s 656ms/step - loss: 3.1760 - val_loss: 3.1699\n",
      "Epoch 12/17\n",
      "45/45 [==============================] - ETA: 0s - loss: 3.1671"
     ]
    },
    {
     "name": "stderr",
     "output_type": "stream",
     "text": [
      "WARNING:absl:Found untraced functions such as _jit_compiled_convolution_op, _jit_compiled_convolution_op, _jit_compiled_convolution_op while saving (showing 3 of 3). These functions will not be directly callable after loading.\n"
     ]
    },
    {
     "name": "stdout",
     "output_type": "stream",
     "text": [
      "INFO:tensorflow:Assets written to: /home/oscar47/Desktop/P-ai/p-music/CNN_oscar/wandb/run-20221123_204810-lpqk4no8/files/model-best/assets\n"
     ]
    },
    {
     "name": "stderr",
     "output_type": "stream",
     "text": [
      "INFO:tensorflow:Assets written to: /home/oscar47/Desktop/P-ai/p-music/CNN_oscar/wandb/run-20221123_204810-lpqk4no8/files/model-best/assets\n",
      "\u001b[34m\u001b[1mwandb\u001b[0m: Adding directory to artifact (/home/oscar47/Desktop/P-ai/p-music/CNN_oscar/wandb/run-20221123_204810-lpqk4no8/files/model-best)... Done. 0.5s\n"
     ]
    },
    {
     "name": "stdout",
     "output_type": "stream",
     "text": [
      "45/45 [==============================] - 30s 656ms/step - loss: 3.1671 - val_loss: 3.1608\n",
      "Epoch 13/17\n",
      "45/45 [==============================] - ETA: 0s - loss: 3.1578"
     ]
    },
    {
     "name": "stderr",
     "output_type": "stream",
     "text": [
      "WARNING:absl:Found untraced functions such as _jit_compiled_convolution_op, _jit_compiled_convolution_op, _jit_compiled_convolution_op while saving (showing 3 of 3). These functions will not be directly callable after loading.\n"
     ]
    },
    {
     "name": "stdout",
     "output_type": "stream",
     "text": [
      "INFO:tensorflow:Assets written to: /home/oscar47/Desktop/P-ai/p-music/CNN_oscar/wandb/run-20221123_204810-lpqk4no8/files/model-best/assets\n"
     ]
    },
    {
     "name": "stderr",
     "output_type": "stream",
     "text": [
      "INFO:tensorflow:Assets written to: /home/oscar47/Desktop/P-ai/p-music/CNN_oscar/wandb/run-20221123_204810-lpqk4no8/files/model-best/assets\n",
      "\u001b[34m\u001b[1mwandb\u001b[0m: Adding directory to artifact (/home/oscar47/Desktop/P-ai/p-music/CNN_oscar/wandb/run-20221123_204810-lpqk4no8/files/model-best)... Done. 0.5s\n"
     ]
    },
    {
     "name": "stdout",
     "output_type": "stream",
     "text": [
      "45/45 [==============================] - 29s 656ms/step - loss: 3.1578 - val_loss: 3.1512\n",
      "Epoch 14/17\n",
      "45/45 [==============================] - ETA: 0s - loss: 3.1480"
     ]
    },
    {
     "name": "stderr",
     "output_type": "stream",
     "text": [
      "WARNING:absl:Found untraced functions such as _jit_compiled_convolution_op, _jit_compiled_convolution_op, _jit_compiled_convolution_op while saving (showing 3 of 3). These functions will not be directly callable after loading.\n"
     ]
    },
    {
     "name": "stdout",
     "output_type": "stream",
     "text": [
      "INFO:tensorflow:Assets written to: /home/oscar47/Desktop/P-ai/p-music/CNN_oscar/wandb/run-20221123_204810-lpqk4no8/files/model-best/assets\n"
     ]
    },
    {
     "name": "stderr",
     "output_type": "stream",
     "text": [
      "INFO:tensorflow:Assets written to: /home/oscar47/Desktop/P-ai/p-music/CNN_oscar/wandb/run-20221123_204810-lpqk4no8/files/model-best/assets\n",
      "\u001b[34m\u001b[1mwandb\u001b[0m: Adding directory to artifact (/home/oscar47/Desktop/P-ai/p-music/CNN_oscar/wandb/run-20221123_204810-lpqk4no8/files/model-best)... Done. 0.5s\n"
     ]
    },
    {
     "name": "stdout",
     "output_type": "stream",
     "text": [
      "45/45 [==============================] - 30s 660ms/step - loss: 3.1480 - val_loss: 3.1412\n",
      "Epoch 15/17\n",
      "45/45 [==============================] - ETA: 0s - loss: 3.1378"
     ]
    },
    {
     "name": "stderr",
     "output_type": "stream",
     "text": [
      "WARNING:absl:Found untraced functions such as _jit_compiled_convolution_op, _jit_compiled_convolution_op, _jit_compiled_convolution_op while saving (showing 3 of 3). These functions will not be directly callable after loading.\n"
     ]
    },
    {
     "name": "stdout",
     "output_type": "stream",
     "text": [
      "INFO:tensorflow:Assets written to: /home/oscar47/Desktop/P-ai/p-music/CNN_oscar/wandb/run-20221123_204810-lpqk4no8/files/model-best/assets\n"
     ]
    },
    {
     "name": "stderr",
     "output_type": "stream",
     "text": [
      "INFO:tensorflow:Assets written to: /home/oscar47/Desktop/P-ai/p-music/CNN_oscar/wandb/run-20221123_204810-lpqk4no8/files/model-best/assets\n",
      "\u001b[34m\u001b[1mwandb\u001b[0m: Adding directory to artifact (/home/oscar47/Desktop/P-ai/p-music/CNN_oscar/wandb/run-20221123_204810-lpqk4no8/files/model-best)... Done. 0.5s\n"
     ]
    },
    {
     "name": "stdout",
     "output_type": "stream",
     "text": [
      "45/45 [==============================] - 29s 656ms/step - loss: 3.1378 - val_loss: 3.1307\n",
      "Epoch 16/17\n",
      "45/45 [==============================] - ETA: 0s - loss: 3.1271"
     ]
    },
    {
     "name": "stderr",
     "output_type": "stream",
     "text": [
      "WARNING:absl:Found untraced functions such as _jit_compiled_convolution_op, _jit_compiled_convolution_op, _jit_compiled_convolution_op while saving (showing 3 of 3). These functions will not be directly callable after loading.\n"
     ]
    },
    {
     "name": "stdout",
     "output_type": "stream",
     "text": [
      "INFO:tensorflow:Assets written to: /home/oscar47/Desktop/P-ai/p-music/CNN_oscar/wandb/run-20221123_204810-lpqk4no8/files/model-best/assets\n"
     ]
    },
    {
     "name": "stderr",
     "output_type": "stream",
     "text": [
      "INFO:tensorflow:Assets written to: /home/oscar47/Desktop/P-ai/p-music/CNN_oscar/wandb/run-20221123_204810-lpqk4no8/files/model-best/assets\n",
      "\u001b[34m\u001b[1mwandb\u001b[0m: Adding directory to artifact (/home/oscar47/Desktop/P-ai/p-music/CNN_oscar/wandb/run-20221123_204810-lpqk4no8/files/model-best)... Done. 0.5s\n"
     ]
    },
    {
     "name": "stdout",
     "output_type": "stream",
     "text": [
      "45/45 [==============================] - 30s 657ms/step - loss: 3.1271 - val_loss: 3.1198\n",
      "Epoch 17/17\n",
      "45/45 [==============================] - ETA: 0s - loss: 3.1159"
     ]
    },
    {
     "name": "stderr",
     "output_type": "stream",
     "text": [
      "WARNING:absl:Found untraced functions such as _jit_compiled_convolution_op, _jit_compiled_convolution_op, _jit_compiled_convolution_op while saving (showing 3 of 3). These functions will not be directly callable after loading.\n"
     ]
    },
    {
     "name": "stdout",
     "output_type": "stream",
     "text": [
      "INFO:tensorflow:Assets written to: /home/oscar47/Desktop/P-ai/p-music/CNN_oscar/wandb/run-20221123_204810-lpqk4no8/files/model-best/assets\n"
     ]
    },
    {
     "name": "stderr",
     "output_type": "stream",
     "text": [
      "INFO:tensorflow:Assets written to: /home/oscar47/Desktop/P-ai/p-music/CNN_oscar/wandb/run-20221123_204810-lpqk4no8/files/model-best/assets\n",
      "\u001b[34m\u001b[1mwandb\u001b[0m: Adding directory to artifact (/home/oscar47/Desktop/P-ai/p-music/CNN_oscar/wandb/run-20221123_204810-lpqk4no8/files/model-best)... Done. 0.5s\n"
     ]
    },
    {
     "name": "stdout",
     "output_type": "stream",
     "text": [
      "45/45 [==============================] - 29s 654ms/step - loss: 3.1159 - val_loss: 3.1084\n"
     ]
    },
    {
     "data": {
      "text/html": [
       "Waiting for W&B process to finish... <strong style=\"color:green\">(success).</strong>"
      ],
      "text/plain": [
       "<IPython.core.display.HTML object>"
      ]
     },
     "metadata": {},
     "output_type": "display_data"
    },
    {
     "data": {
      "text/html": [
       "<style>\n",
       "    table.wandb td:nth-child(1) { padding: 0 10px; text-align: left ; width: auto;} td:nth-child(2) {text-align: left ; width: 100%}\n",
       "    .wandb-row { display: flex; flex-direction: row; flex-wrap: wrap; justify-content: flex-start; width: 100% }\n",
       "    .wandb-col { display: flex; flex-direction: column; flex-basis: 100%; flex: 1; padding: 10px; }\n",
       "    </style>\n",
       "<div class=\"wandb-row\"><div class=\"wandb-col\"><h3>Run history:</h3><br/><table class=\"wandb\"><tr><td>epoch</td><td>▁▁▂▂▃▃▄▄▅▅▅▆▆▇▇██</td></tr><tr><td>loss</td><td>█▁▁▁▁▁▁▁▁▁▁▁▁▁▁▁▁</td></tr><tr><td>val_loss</td><td>▇███▇▇▆▆▆▅▅▄▄▃▂▂▁</td></tr></table><br/></div><div class=\"wandb-col\"><h3>Run summary:</h3><br/><table class=\"wandb\"><tr><td>best_epoch</td><td>16</td></tr><tr><td>best_val_loss</td><td>3.1084</td></tr><tr><td>epoch</td><td>16</td></tr><tr><td>loss</td><td>3.11589</td></tr><tr><td>val_loss</td><td>3.1084</td></tr></table><br/></div></div>"
      ],
      "text/plain": [
       "<IPython.core.display.HTML object>"
      ]
     },
     "metadata": {},
     "output_type": "display_data"
    },
    {
     "data": {
      "text/html": [
       "Synced <strong style=\"color:#cdcd00\">good-sweep-17</strong>: <a href=\"https://wandb.ai/p-ai/Oscar%20CNN1/runs/lpqk4no8\" target=\"_blank\">https://wandb.ai/p-ai/Oscar%20CNN1/runs/lpqk4no8</a><br/>Synced 6 W&B file(s), 1 media file(s), 53 artifact file(s) and 1 other file(s)"
      ],
      "text/plain": [
       "<IPython.core.display.HTML object>"
      ]
     },
     "metadata": {},
     "output_type": "display_data"
    },
    {
     "data": {
      "text/html": [
       "Find logs at: <code>./wandb/run-20221123_204810-lpqk4no8/logs</code>"
      ],
      "text/plain": [
       "<IPython.core.display.HTML object>"
      ]
     },
     "metadata": {},
     "output_type": "display_data"
    },
    {
     "name": "stderr",
     "output_type": "stream",
     "text": [
      "\u001b[34m\u001b[1mwandb\u001b[0m: Agent Starting Run: khmss5z7 with config:\n",
      "\u001b[34m\u001b[1mwandb\u001b[0m: \tbatch_size: 96\n",
      "\u001b[34m\u001b[1mwandb\u001b[0m: \tdense1: 85\n",
      "\u001b[34m\u001b[1mwandb\u001b[0m: \tepochs: 22\n",
      "\u001b[34m\u001b[1mwandb\u001b[0m: \tlearning_rate: 0.06765383770891242\n",
      "\u001b[34m\u001b[1mwandb\u001b[0m: \tsize_1: 162\n",
      "\u001b[34m\u001b[1mwandb\u001b[0m: \tsize_2: 200\n",
      "\u001b[34m\u001b[1mwandb\u001b[0m: \tsize_3: 250\n"
     ]
    },
    {
     "data": {
      "text/html": [
       "Tracking run with wandb version 0.13.5"
      ],
      "text/plain": [
       "<IPython.core.display.HTML object>"
      ]
     },
     "metadata": {},
     "output_type": "display_data"
    },
    {
     "data": {
      "text/html": [
       "Run data is saved locally in <code>/home/oscar47/Desktop/P-ai/p-music/CNN_oscar/wandb/run-20221123_205650-khmss5z7</code>"
      ],
      "text/plain": [
       "<IPython.core.display.HTML object>"
      ]
     },
     "metadata": {},
     "output_type": "display_data"
    },
    {
     "data": {
      "text/html": [
       "Syncing run <strong><a href=\"https://wandb.ai/p-ai/Oscar%20CNN1/runs/khmss5z7\" target=\"_blank\">smart-sweep-18</a></strong> to <a href=\"https://wandb.ai/p-ai/Oscar%20CNN1\" target=\"_blank\">Weights & Biases</a> (<a href=\"https://wandb.me/run\" target=\"_blank\">docs</a>)<br/>Sweep page:  <a href=\"https://wandb.ai/p-ai/Oscar%20CNN1/sweeps/wsxqxjvp\" target=\"_blank\">https://wandb.ai/p-ai/Oscar%20CNN1/sweeps/wsxqxjvp</a>"
      ],
      "text/plain": [
       "<IPython.core.display.HTML object>"
      ]
     },
     "metadata": {},
     "output_type": "display_data"
    },
    {
     "name": "stdout",
     "output_type": "stream",
     "text": [
      "Epoch 1/22\n",
      "15/15 [==============================] - ETA: 0s - loss: 30960433233920.0000"
     ]
    },
    {
     "name": "stderr",
     "output_type": "stream",
     "text": [
      "WARNING:absl:Found untraced functions such as _jit_compiled_convolution_op, _jit_compiled_convolution_op, _jit_compiled_convolution_op while saving (showing 3 of 3). These functions will not be directly callable after loading.\n"
     ]
    },
    {
     "name": "stdout",
     "output_type": "stream",
     "text": [
      "INFO:tensorflow:Assets written to: /home/oscar47/Desktop/P-ai/p-music/CNN_oscar/wandb/run-20221123_205650-khmss5z7/files/model-best/assets\n"
     ]
    },
    {
     "name": "stderr",
     "output_type": "stream",
     "text": [
      "INFO:tensorflow:Assets written to: /home/oscar47/Desktop/P-ai/p-music/CNN_oscar/wandb/run-20221123_205650-khmss5z7/files/model-best/assets\n",
      "\u001b[34m\u001b[1mwandb\u001b[0m: Adding directory to artifact (/home/oscar47/Desktop/P-ai/p-music/CNN_oscar/wandb/run-20221123_205650-khmss5z7/files/model-best)... Done. 0.2s\n"
     ]
    },
    {
     "name": "stdout",
     "output_type": "stream",
     "text": [
      "15/15 [==============================] - 42s 3s/step - loss: 30960433233920.0000 - val_loss: 10111.9033\n",
      "Epoch 2/22\n",
      "15/15 [==============================] - ETA: 0s - loss: 166659.2188"
     ]
    },
    {
     "name": "stderr",
     "output_type": "stream",
     "text": [
      "WARNING:absl:Found untraced functions such as _jit_compiled_convolution_op, _jit_compiled_convolution_op, _jit_compiled_convolution_op while saving (showing 3 of 3). These functions will not be directly callable after loading.\n"
     ]
    },
    {
     "name": "stdout",
     "output_type": "stream",
     "text": [
      "INFO:tensorflow:Assets written to: /home/oscar47/Desktop/P-ai/p-music/CNN_oscar/wandb/run-20221123_205650-khmss5z7/files/model-best/assets\n"
     ]
    },
    {
     "name": "stderr",
     "output_type": "stream",
     "text": [
      "INFO:tensorflow:Assets written to: /home/oscar47/Desktop/P-ai/p-music/CNN_oscar/wandb/run-20221123_205650-khmss5z7/files/model-best/assets\n",
      "\u001b[34m\u001b[1mwandb\u001b[0m: Adding directory to artifact (/home/oscar47/Desktop/P-ai/p-music/CNN_oscar/wandb/run-20221123_205650-khmss5z7/files/model-best)... Done. 0.2s\n"
     ]
    },
    {
     "name": "stdout",
     "output_type": "stream",
     "text": [
      "15/15 [==============================] - 42s 3s/step - loss: 166659.2188 - val_loss: 6150.1006\n",
      "Epoch 3/22\n",
      "15/15 [==============================] - 41s 3s/step - loss: 10995.7051 - val_loss: 11031.1143\n",
      "Epoch 4/22\n",
      "15/15 [==============================] - ETA: 0s - loss: 3078.6816"
     ]
    },
    {
     "name": "stderr",
     "output_type": "stream",
     "text": [
      "WARNING:absl:Found untraced functions such as _jit_compiled_convolution_op, _jit_compiled_convolution_op, _jit_compiled_convolution_op while saving (showing 3 of 3). These functions will not be directly callable after loading.\n"
     ]
    },
    {
     "name": "stdout",
     "output_type": "stream",
     "text": [
      "INFO:tensorflow:Assets written to: /home/oscar47/Desktop/P-ai/p-music/CNN_oscar/wandb/run-20221123_205650-khmss5z7/files/model-best/assets\n"
     ]
    },
    {
     "name": "stderr",
     "output_type": "stream",
     "text": [
      "INFO:tensorflow:Assets written to: /home/oscar47/Desktop/P-ai/p-music/CNN_oscar/wandb/run-20221123_205650-khmss5z7/files/model-best/assets\n",
      "\u001b[34m\u001b[1mwandb\u001b[0m: Adding directory to artifact (/home/oscar47/Desktop/P-ai/p-music/CNN_oscar/wandb/run-20221123_205650-khmss5z7/files/model-best)... Done. 0.2s\n"
     ]
    },
    {
     "name": "stdout",
     "output_type": "stream",
     "text": [
      "15/15 [==============================] - 41s 3s/step - loss: 3078.6816 - val_loss: 157.2169\n",
      "Epoch 5/22\n",
      "15/15 [==============================] - 40s 3s/step - loss: 520.9251 - val_loss: 164.8749\n",
      "Epoch 6/22\n",
      "15/15 [==============================] - ETA: 0s - loss: 123.2348"
     ]
    },
    {
     "name": "stderr",
     "output_type": "stream",
     "text": [
      "WARNING:absl:Found untraced functions such as _jit_compiled_convolution_op, _jit_compiled_convolution_op, _jit_compiled_convolution_op while saving (showing 3 of 3). These functions will not be directly callable after loading.\n"
     ]
    },
    {
     "name": "stdout",
     "output_type": "stream",
     "text": [
      "INFO:tensorflow:Assets written to: /home/oscar47/Desktop/P-ai/p-music/CNN_oscar/wandb/run-20221123_205650-khmss5z7/files/model-best/assets\n"
     ]
    },
    {
     "name": "stderr",
     "output_type": "stream",
     "text": [
      "INFO:tensorflow:Assets written to: /home/oscar47/Desktop/P-ai/p-music/CNN_oscar/wandb/run-20221123_205650-khmss5z7/files/model-best/assets\n",
      "\u001b[34m\u001b[1mwandb\u001b[0m: Adding directory to artifact (/home/oscar47/Desktop/P-ai/p-music/CNN_oscar/wandb/run-20221123_205650-khmss5z7/files/model-best)... Done. 0.3s\n"
     ]
    },
    {
     "name": "stdout",
     "output_type": "stream",
     "text": [
      "15/15 [==============================] - 41s 3s/step - loss: 123.2348 - val_loss: 57.3929\n",
      "Epoch 7/22\n",
      "15/15 [==============================] - ETA: 0s - loss: 16.0892"
     ]
    },
    {
     "name": "stderr",
     "output_type": "stream",
     "text": [
      "WARNING:absl:Found untraced functions such as _jit_compiled_convolution_op, _jit_compiled_convolution_op, _jit_compiled_convolution_op while saving (showing 3 of 3). These functions will not be directly callable after loading.\n"
     ]
    },
    {
     "name": "stdout",
     "output_type": "stream",
     "text": [
      "INFO:tensorflow:Assets written to: /home/oscar47/Desktop/P-ai/p-music/CNN_oscar/wandb/run-20221123_205650-khmss5z7/files/model-best/assets\n"
     ]
    },
    {
     "name": "stderr",
     "output_type": "stream",
     "text": [
      "INFO:tensorflow:Assets written to: /home/oscar47/Desktop/P-ai/p-music/CNN_oscar/wandb/run-20221123_205650-khmss5z7/files/model-best/assets\n",
      "\u001b[34m\u001b[1mwandb\u001b[0m: Adding directory to artifact (/home/oscar47/Desktop/P-ai/p-music/CNN_oscar/wandb/run-20221123_205650-khmss5z7/files/model-best)... Done. 0.3s\n"
     ]
    },
    {
     "name": "stdout",
     "output_type": "stream",
     "text": [
      "15/15 [==============================] - 42s 3s/step - loss: 16.0892 - val_loss: 11.0199\n",
      "Epoch 8/22\n",
      "15/15 [==============================] - ETA: 0s - loss: 4.5967"
     ]
    },
    {
     "name": "stderr",
     "output_type": "stream",
     "text": [
      "WARNING:absl:Found untraced functions such as _jit_compiled_convolution_op, _jit_compiled_convolution_op, _jit_compiled_convolution_op while saving (showing 3 of 3). These functions will not be directly callable after loading.\n"
     ]
    },
    {
     "name": "stdout",
     "output_type": "stream",
     "text": [
      "INFO:tensorflow:Assets written to: /home/oscar47/Desktop/P-ai/p-music/CNN_oscar/wandb/run-20221123_205650-khmss5z7/files/model-best/assets\n"
     ]
    },
    {
     "name": "stderr",
     "output_type": "stream",
     "text": [
      "INFO:tensorflow:Assets written to: /home/oscar47/Desktop/P-ai/p-music/CNN_oscar/wandb/run-20221123_205650-khmss5z7/files/model-best/assets\n",
      "\u001b[34m\u001b[1mwandb\u001b[0m: Adding directory to artifact (/home/oscar47/Desktop/P-ai/p-music/CNN_oscar/wandb/run-20221123_205650-khmss5z7/files/model-best)... Done. 0.3s\n"
     ]
    },
    {
     "name": "stdout",
     "output_type": "stream",
     "text": [
      "15/15 [==============================] - 41s 3s/step - loss: 4.5967 - val_loss: 2.5837\n",
      "Epoch 9/22\n",
      "15/15 [==============================] - ETA: 0s - loss: 1.4632"
     ]
    },
    {
     "name": "stderr",
     "output_type": "stream",
     "text": [
      "WARNING:absl:Found untraced functions such as _jit_compiled_convolution_op, _jit_compiled_convolution_op, _jit_compiled_convolution_op while saving (showing 3 of 3). These functions will not be directly callable after loading.\n"
     ]
    },
    {
     "name": "stdout",
     "output_type": "stream",
     "text": [
      "INFO:tensorflow:Assets written to: /home/oscar47/Desktop/P-ai/p-music/CNN_oscar/wandb/run-20221123_205650-khmss5z7/files/model-best/assets\n"
     ]
    },
    {
     "name": "stderr",
     "output_type": "stream",
     "text": [
      "INFO:tensorflow:Assets written to: /home/oscar47/Desktop/P-ai/p-music/CNN_oscar/wandb/run-20221123_205650-khmss5z7/files/model-best/assets\n",
      "\u001b[34m\u001b[1mwandb\u001b[0m: Adding directory to artifact (/home/oscar47/Desktop/P-ai/p-music/CNN_oscar/wandb/run-20221123_205650-khmss5z7/files/model-best)... Done. 0.3s\n"
     ]
    },
    {
     "name": "stdout",
     "output_type": "stream",
     "text": [
      "15/15 [==============================] - 41s 3s/step - loss: 1.4632 - val_loss: 0.5528\n",
      "Epoch 10/22\n",
      "15/15 [==============================] - ETA: 0s - loss: 0.3931"
     ]
    },
    {
     "name": "stderr",
     "output_type": "stream",
     "text": [
      "WARNING:absl:Found untraced functions such as _jit_compiled_convolution_op, _jit_compiled_convolution_op, _jit_compiled_convolution_op while saving (showing 3 of 3). These functions will not be directly callable after loading.\n"
     ]
    },
    {
     "name": "stdout",
     "output_type": "stream",
     "text": [
      "INFO:tensorflow:Assets written to: /home/oscar47/Desktop/P-ai/p-music/CNN_oscar/wandb/run-20221123_205650-khmss5z7/files/model-best/assets\n"
     ]
    },
    {
     "name": "stderr",
     "output_type": "stream",
     "text": [
      "INFO:tensorflow:Assets written to: /home/oscar47/Desktop/P-ai/p-music/CNN_oscar/wandb/run-20221123_205650-khmss5z7/files/model-best/assets\n",
      "\u001b[34m\u001b[1mwandb\u001b[0m: Adding directory to artifact (/home/oscar47/Desktop/P-ai/p-music/CNN_oscar/wandb/run-20221123_205650-khmss5z7/files/model-best)... Done. 0.3s\n"
     ]
    },
    {
     "name": "stdout",
     "output_type": "stream",
     "text": [
      "15/15 [==============================] - 42s 3s/step - loss: 0.3931 - val_loss: 0.1300\n",
      "Epoch 11/22\n",
      "15/15 [==============================] - ETA: 0s - loss: 0.1160"
     ]
    },
    {
     "name": "stderr",
     "output_type": "stream",
     "text": [
      "WARNING:absl:Found untraced functions such as _jit_compiled_convolution_op, _jit_compiled_convolution_op, _jit_compiled_convolution_op while saving (showing 3 of 3). These functions will not be directly callable after loading.\n"
     ]
    },
    {
     "name": "stdout",
     "output_type": "stream",
     "text": [
      "INFO:tensorflow:Assets written to: /home/oscar47/Desktop/P-ai/p-music/CNN_oscar/wandb/run-20221123_205650-khmss5z7/files/model-best/assets\n"
     ]
    },
    {
     "name": "stderr",
     "output_type": "stream",
     "text": [
      "INFO:tensorflow:Assets written to: /home/oscar47/Desktop/P-ai/p-music/CNN_oscar/wandb/run-20221123_205650-khmss5z7/files/model-best/assets\n",
      "\u001b[34m\u001b[1mwandb\u001b[0m: Adding directory to artifact (/home/oscar47/Desktop/P-ai/p-music/CNN_oscar/wandb/run-20221123_205650-khmss5z7/files/model-best)... Done. 0.2s\n"
     ]
    },
    {
     "name": "stdout",
     "output_type": "stream",
     "text": [
      "15/15 [==============================] - 41s 3s/step - loss: 0.1160 - val_loss: 0.0650\n",
      "Epoch 12/22\n",
      "15/15 [==============================] - ETA: 0s - loss: 0.0609"
     ]
    },
    {
     "name": "stderr",
     "output_type": "stream",
     "text": [
      "WARNING:absl:Found untraced functions such as _jit_compiled_convolution_op, _jit_compiled_convolution_op, _jit_compiled_convolution_op while saving (showing 3 of 3). These functions will not be directly callable after loading.\n"
     ]
    },
    {
     "name": "stdout",
     "output_type": "stream",
     "text": [
      "INFO:tensorflow:Assets written to: /home/oscar47/Desktop/P-ai/p-music/CNN_oscar/wandb/run-20221123_205650-khmss5z7/files/model-best/assets\n"
     ]
    },
    {
     "name": "stderr",
     "output_type": "stream",
     "text": [
      "INFO:tensorflow:Assets written to: /home/oscar47/Desktop/P-ai/p-music/CNN_oscar/wandb/run-20221123_205650-khmss5z7/files/model-best/assets\n",
      "\u001b[34m\u001b[1mwandb\u001b[0m: Adding directory to artifact (/home/oscar47/Desktop/P-ai/p-music/CNN_oscar/wandb/run-20221123_205650-khmss5z7/files/model-best)... Done. 0.2s\n"
     ]
    },
    {
     "name": "stdout",
     "output_type": "stream",
     "text": [
      "15/15 [==============================] - 41s 3s/step - loss: 0.0609 - val_loss: 0.0236\n",
      "Epoch 13/22\n",
      "15/15 [==============================] - ETA: 0s - loss: 0.0174"
     ]
    },
    {
     "name": "stderr",
     "output_type": "stream",
     "text": [
      "WARNING:absl:Found untraced functions such as _jit_compiled_convolution_op, _jit_compiled_convolution_op, _jit_compiled_convolution_op while saving (showing 3 of 3). These functions will not be directly callable after loading.\n"
     ]
    },
    {
     "name": "stdout",
     "output_type": "stream",
     "text": [
      "INFO:tensorflow:Assets written to: /home/oscar47/Desktop/P-ai/p-music/CNN_oscar/wandb/run-20221123_205650-khmss5z7/files/model-best/assets\n"
     ]
    },
    {
     "name": "stderr",
     "output_type": "stream",
     "text": [
      "INFO:tensorflow:Assets written to: /home/oscar47/Desktop/P-ai/p-music/CNN_oscar/wandb/run-20221123_205650-khmss5z7/files/model-best/assets\n",
      "\u001b[34m\u001b[1mwandb\u001b[0m: Adding directory to artifact (/home/oscar47/Desktop/P-ai/p-music/CNN_oscar/wandb/run-20221123_205650-khmss5z7/files/model-best)... Done. 0.3s\n"
     ]
    },
    {
     "name": "stdout",
     "output_type": "stream",
     "text": [
      "15/15 [==============================] - 41s 3s/step - loss: 0.0174 - val_loss: 0.0029\n",
      "Epoch 14/22\n",
      "15/15 [==============================] - ETA: 0s - loss: 0.0049"
     ]
    },
    {
     "name": "stderr",
     "output_type": "stream",
     "text": [
      "WARNING:absl:Found untraced functions such as _jit_compiled_convolution_op, _jit_compiled_convolution_op, _jit_compiled_convolution_op while saving (showing 3 of 3). These functions will not be directly callable after loading.\n"
     ]
    },
    {
     "name": "stdout",
     "output_type": "stream",
     "text": [
      "INFO:tensorflow:Assets written to: /home/oscar47/Desktop/P-ai/p-music/CNN_oscar/wandb/run-20221123_205650-khmss5z7/files/model-best/assets\n"
     ]
    },
    {
     "name": "stderr",
     "output_type": "stream",
     "text": [
      "INFO:tensorflow:Assets written to: /home/oscar47/Desktop/P-ai/p-music/CNN_oscar/wandb/run-20221123_205650-khmss5z7/files/model-best/assets\n",
      "\u001b[34m\u001b[1mwandb\u001b[0m: Adding directory to artifact (/home/oscar47/Desktop/P-ai/p-music/CNN_oscar/wandb/run-20221123_205650-khmss5z7/files/model-best)... Done. 0.3s\n"
     ]
    },
    {
     "name": "stdout",
     "output_type": "stream",
     "text": [
      "15/15 [==============================] - 41s 3s/step - loss: 0.0049 - val_loss: 0.0024\n",
      "Epoch 15/22\n",
      "15/15 [==============================] - 40s 3s/step - loss: 0.0026 - val_loss: 0.0036\n",
      "Epoch 16/22\n",
      "15/15 [==============================] - ETA: 0s - loss: 0.0022"
     ]
    },
    {
     "name": "stderr",
     "output_type": "stream",
     "text": [
      "WARNING:absl:Found untraced functions such as _jit_compiled_convolution_op, _jit_compiled_convolution_op, _jit_compiled_convolution_op while saving (showing 3 of 3). These functions will not be directly callable after loading.\n"
     ]
    },
    {
     "name": "stdout",
     "output_type": "stream",
     "text": [
      "INFO:tensorflow:Assets written to: /home/oscar47/Desktop/P-ai/p-music/CNN_oscar/wandb/run-20221123_205650-khmss5z7/files/model-best/assets\n"
     ]
    },
    {
     "name": "stderr",
     "output_type": "stream",
     "text": [
      "INFO:tensorflow:Assets written to: /home/oscar47/Desktop/P-ai/p-music/CNN_oscar/wandb/run-20221123_205650-khmss5z7/files/model-best/assets\n",
      "\u001b[34m\u001b[1mwandb\u001b[0m: Adding directory to artifact (/home/oscar47/Desktop/P-ai/p-music/CNN_oscar/wandb/run-20221123_205650-khmss5z7/files/model-best)... Done. 0.3s\n"
     ]
    },
    {
     "name": "stdout",
     "output_type": "stream",
     "text": [
      "15/15 [==============================] - 41s 3s/step - loss: 0.0022 - val_loss: 0.0017\n",
      "Epoch 17/22\n",
      "15/15 [==============================] - 40s 3s/step - loss: 0.0020 - val_loss: 0.0018\n",
      "Epoch 18/22\n",
      "15/15 [==============================] - 40s 3s/step - loss: 0.0019 - val_loss: 0.0022\n",
      "Epoch 19/22\n",
      "15/15 [==============================] - 40s 3s/step - loss: 0.0022 - val_loss: 0.0022\n",
      "Epoch 20/22\n",
      "15/15 [==============================] - 40s 3s/step - loss: 0.0021 - val_loss: 0.0018\n",
      "Epoch 21/22\n",
      "15/15 [==============================] - 40s 3s/step - loss: 0.0021 - val_loss: 0.0020\n",
      "Epoch 22/22\n",
      "15/15 [==============================] - 40s 3s/step - loss: 0.0021 - val_loss: 0.0023\n"
     ]
    },
    {
     "data": {
      "text/html": [
       "Waiting for W&B process to finish... <strong style=\"color:green\">(success).</strong>"
      ],
      "text/plain": [
       "<IPython.core.display.HTML object>"
      ]
     },
     "metadata": {},
     "output_type": "display_data"
    },
    {
     "data": {
      "application/vnd.jupyter.widget-view+json": {
       "model_id": "066e684b90c542d8995c532ea3b43a2b",
       "version_major": 2,
       "version_minor": 0
      },
      "text/plain": [
       "VBox(children=(Label(value='1960.361 MB of 1960.361 MB uploaded (0.019 MB deduped)\\r'), FloatProgress(value=1.…"
      ]
     },
     "metadata": {},
     "output_type": "display_data"
    },
    {
     "data": {
      "text/html": [
       "<style>\n",
       "    table.wandb td:nth-child(1) { padding: 0 10px; text-align: left ; width: auto;} td:nth-child(2) {text-align: left ; width: 100%}\n",
       "    .wandb-row { display: flex; flex-direction: row; flex-wrap: wrap; justify-content: flex-start; width: 100% }\n",
       "    .wandb-col { display: flex; flex-direction: column; flex-basis: 100%; flex: 1; padding: 10px; }\n",
       "    </style>\n",
       "<div class=\"wandb-row\"><div class=\"wandb-col\"><h3>Run history:</h3><br/><table class=\"wandb\"><tr><td>epoch</td><td>▁▁▂▂▂▃▃▃▄▄▄▅▅▅▆▆▆▇▇▇██</td></tr><tr><td>loss</td><td>█▁▁▁▁▁▁▁▁▁▁▁▁▁▁▁▁▁▁▁▁▁</td></tr><tr><td>val_loss</td><td>▇▅█▁▁▁▁▁▁▁▁▁▁▁▁▁▁▁▁▁▁▁</td></tr></table><br/></div><div class=\"wandb-col\"><h3>Run summary:</h3><br/><table class=\"wandb\"><tr><td>best_epoch</td><td>15</td></tr><tr><td>best_val_loss</td><td>0.00166</td></tr><tr><td>epoch</td><td>21</td></tr><tr><td>loss</td><td>0.00213</td></tr><tr><td>val_loss</td><td>0.00235</td></tr></table><br/></div></div>"
      ],
      "text/plain": [
       "<IPython.core.display.HTML object>"
      ]
     },
     "metadata": {},
     "output_type": "display_data"
    },
    {
     "data": {
      "text/html": [
       "Synced <strong style=\"color:#cdcd00\">smart-sweep-18</strong>: <a href=\"https://wandb.ai/p-ai/Oscar%20CNN1/runs/khmss5z7\" target=\"_blank\">https://wandb.ai/p-ai/Oscar%20CNN1/runs/khmss5z7</a><br/>Synced 6 W&B file(s), 1 media file(s), 53 artifact file(s) and 1 other file(s)"
      ],
      "text/plain": [
       "<IPython.core.display.HTML object>"
      ]
     },
     "metadata": {},
     "output_type": "display_data"
    },
    {
     "data": {
      "text/html": [
       "Find logs at: <code>./wandb/run-20221123_205650-khmss5z7/logs</code>"
      ],
      "text/plain": [
       "<IPython.core.display.HTML object>"
      ]
     },
     "metadata": {},
     "output_type": "display_data"
    },
    {
     "name": "stderr",
     "output_type": "stream",
     "text": [
      "\u001b[34m\u001b[1mwandb\u001b[0m: Agent Starting Run: 2ocy1czz with config:\n",
      "\u001b[34m\u001b[1mwandb\u001b[0m: \tbatch_size: 32\n",
      "\u001b[34m\u001b[1mwandb\u001b[0m: \tdense1: 251\n",
      "\u001b[34m\u001b[1mwandb\u001b[0m: \tepochs: 17\n",
      "\u001b[34m\u001b[1mwandb\u001b[0m: \tlearning_rate: 0.0953563895940348\n",
      "\u001b[34m\u001b[1mwandb\u001b[0m: \tsize_1: 186\n",
      "\u001b[34m\u001b[1mwandb\u001b[0m: \tsize_2: 109\n",
      "\u001b[34m\u001b[1mwandb\u001b[0m: \tsize_3: 221\n"
     ]
    },
    {
     "data": {
      "text/html": [
       "Tracking run with wandb version 0.13.5"
      ],
      "text/plain": [
       "<IPython.core.display.HTML object>"
      ]
     },
     "metadata": {},
     "output_type": "display_data"
    },
    {
     "data": {
      "text/html": [
       "Run data is saved locally in <code>/home/oscar47/Desktop/P-ai/p-music/CNN_oscar/wandb/run-20221123_211207-2ocy1czz</code>"
      ],
      "text/plain": [
       "<IPython.core.display.HTML object>"
      ]
     },
     "metadata": {},
     "output_type": "display_data"
    },
    {
     "data": {
      "text/html": [
       "Syncing run <strong><a href=\"https://wandb.ai/p-ai/Oscar%20CNN1/runs/2ocy1czz\" target=\"_blank\">pious-sweep-19</a></strong> to <a href=\"https://wandb.ai/p-ai/Oscar%20CNN1\" target=\"_blank\">Weights & Biases</a> (<a href=\"https://wandb.me/run\" target=\"_blank\">docs</a>)<br/>Sweep page:  <a href=\"https://wandb.ai/p-ai/Oscar%20CNN1/sweeps/wsxqxjvp\" target=\"_blank\">https://wandb.ai/p-ai/Oscar%20CNN1/sweeps/wsxqxjvp</a>"
      ],
      "text/plain": [
       "<IPython.core.display.HTML object>"
      ]
     },
     "metadata": {},
     "output_type": "display_data"
    },
    {
     "name": "stdout",
     "output_type": "stream",
     "text": [
      "Epoch 1/17\n",
      "45/45 [==============================] - ETA: 0s - loss: 65370438238208.0000"
     ]
    },
    {
     "name": "stderr",
     "output_type": "stream",
     "text": [
      "WARNING:absl:Found untraced functions such as _jit_compiled_convolution_op, _jit_compiled_convolution_op, _jit_compiled_convolution_op while saving (showing 3 of 3). These functions will not be directly callable after loading.\n"
     ]
    },
    {
     "name": "stdout",
     "output_type": "stream",
     "text": [
      "INFO:tensorflow:Assets written to: /home/oscar47/Desktop/P-ai/p-music/CNN_oscar/wandb/run-20221123_211207-2ocy1czz/files/model-best/assets\n"
     ]
    },
    {
     "name": "stderr",
     "output_type": "stream",
     "text": [
      "INFO:tensorflow:Assets written to: /home/oscar47/Desktop/P-ai/p-music/CNN_oscar/wandb/run-20221123_211207-2ocy1czz/files/model-best/assets\n",
      "\u001b[34m\u001b[1mwandb\u001b[0m: Adding directory to artifact (/home/oscar47/Desktop/P-ai/p-music/CNN_oscar/wandb/run-20221123_211207-2ocy1czz/files/model-best)... Done. 0.6s\n"
     ]
    },
    {
     "name": "stdout",
     "output_type": "stream",
     "text": [
      "45/45 [==============================] - 36s 804ms/step - loss: 65370438238208.0000 - val_loss: 175.1743\n",
      "Epoch 2/17\n",
      "45/45 [==============================] - 34s 763ms/step - loss: 181.8577 - val_loss: 177.8319\n",
      "Epoch 3/17\n",
      "45/45 [==============================] - ETA: 0s - loss: 169.1867"
     ]
    },
    {
     "name": "stderr",
     "output_type": "stream",
     "text": [
      "WARNING:absl:Found untraced functions such as _jit_compiled_convolution_op, _jit_compiled_convolution_op, _jit_compiled_convolution_op while saving (showing 3 of 3). These functions will not be directly callable after loading.\n"
     ]
    },
    {
     "name": "stdout",
     "output_type": "stream",
     "text": [
      "INFO:tensorflow:Assets written to: /home/oscar47/Desktop/P-ai/p-music/CNN_oscar/wandb/run-20221123_211207-2ocy1czz/files/model-best/assets\n"
     ]
    },
    {
     "name": "stderr",
     "output_type": "stream",
     "text": [
      "INFO:tensorflow:Assets written to: /home/oscar47/Desktop/P-ai/p-music/CNN_oscar/wandb/run-20221123_211207-2ocy1czz/files/model-best/assets\n",
      "\u001b[34m\u001b[1mwandb\u001b[0m: Adding directory to artifact (/home/oscar47/Desktop/P-ai/p-music/CNN_oscar/wandb/run-20221123_211207-2ocy1czz/files/model-best)... Done. 0.6s\n"
     ]
    },
    {
     "name": "stdout",
     "output_type": "stream",
     "text": [
      "45/45 [==============================] - 35s 785ms/step - loss: 169.1867 - val_loss: 159.7106\n",
      "Epoch 4/17\n",
      "45/45 [==============================] - ETA: 0s - loss: 152.2033"
     ]
    },
    {
     "name": "stderr",
     "output_type": "stream",
     "text": [
      "WARNING:absl:Found untraced functions such as _jit_compiled_convolution_op, _jit_compiled_convolution_op, _jit_compiled_convolution_op while saving (showing 3 of 3). These functions will not be directly callable after loading.\n"
     ]
    },
    {
     "name": "stdout",
     "output_type": "stream",
     "text": [
      "INFO:tensorflow:Assets written to: /home/oscar47/Desktop/P-ai/p-music/CNN_oscar/wandb/run-20221123_211207-2ocy1czz/files/model-best/assets\n"
     ]
    },
    {
     "name": "stderr",
     "output_type": "stream",
     "text": [
      "INFO:tensorflow:Assets written to: /home/oscar47/Desktop/P-ai/p-music/CNN_oscar/wandb/run-20221123_211207-2ocy1czz/files/model-best/assets\n",
      "\u001b[34m\u001b[1mwandb\u001b[0m: Adding directory to artifact (/home/oscar47/Desktop/P-ai/p-music/CNN_oscar/wandb/run-20221123_211207-2ocy1czz/files/model-best)... Done. 0.6s\n"
     ]
    },
    {
     "name": "stdout",
     "output_type": "stream",
     "text": [
      "45/45 [==============================] - 36s 796ms/step - loss: 152.2033 - val_loss: 145.6332\n",
      "Epoch 5/17\n",
      "45/45 [==============================] - ETA: 0s - loss: 139.6139"
     ]
    },
    {
     "name": "stderr",
     "output_type": "stream",
     "text": [
      "WARNING:absl:Found untraced functions such as _jit_compiled_convolution_op, _jit_compiled_convolution_op, _jit_compiled_convolution_op while saving (showing 3 of 3). These functions will not be directly callable after loading.\n"
     ]
    },
    {
     "name": "stdout",
     "output_type": "stream",
     "text": [
      "INFO:tensorflow:Assets written to: /home/oscar47/Desktop/P-ai/p-music/CNN_oscar/wandb/run-20221123_211207-2ocy1czz/files/model-best/assets\n"
     ]
    },
    {
     "name": "stderr",
     "output_type": "stream",
     "text": [
      "INFO:tensorflow:Assets written to: /home/oscar47/Desktop/P-ai/p-music/CNN_oscar/wandb/run-20221123_211207-2ocy1czz/files/model-best/assets\n",
      "\u001b[34m\u001b[1mwandb\u001b[0m: Adding directory to artifact (/home/oscar47/Desktop/P-ai/p-music/CNN_oscar/wandb/run-20221123_211207-2ocy1czz/files/model-best)... Done. 0.6s\n"
     ]
    },
    {
     "name": "stdout",
     "output_type": "stream",
     "text": [
      "45/45 [==============================] - 35s 789ms/step - loss: 139.6139 - val_loss: 133.5637\n",
      "Epoch 6/17\n",
      "45/45 [==============================] - ETA: 0s - loss: 128.1084"
     ]
    },
    {
     "name": "stderr",
     "output_type": "stream",
     "text": [
      "WARNING:absl:Found untraced functions such as _jit_compiled_convolution_op, _jit_compiled_convolution_op, _jit_compiled_convolution_op while saving (showing 3 of 3). These functions will not be directly callable after loading.\n"
     ]
    },
    {
     "name": "stdout",
     "output_type": "stream",
     "text": [
      "INFO:tensorflow:Assets written to: /home/oscar47/Desktop/P-ai/p-music/CNN_oscar/wandb/run-20221123_211207-2ocy1czz/files/model-best/assets\n"
     ]
    },
    {
     "name": "stderr",
     "output_type": "stream",
     "text": [
      "INFO:tensorflow:Assets written to: /home/oscar47/Desktop/P-ai/p-music/CNN_oscar/wandb/run-20221123_211207-2ocy1czz/files/model-best/assets\n",
      "\u001b[34m\u001b[1mwandb\u001b[0m: Adding directory to artifact (/home/oscar47/Desktop/P-ai/p-music/CNN_oscar/wandb/run-20221123_211207-2ocy1czz/files/model-best)... Done. 0.6s\n"
     ]
    },
    {
     "name": "stdout",
     "output_type": "stream",
     "text": [
      "45/45 [==============================] - 35s 788ms/step - loss: 128.1084 - val_loss: 122.6954\n",
      "Epoch 7/17\n",
      "45/45 [==============================] - ETA: 0s - loss: 118.0078"
     ]
    },
    {
     "name": "stderr",
     "output_type": "stream",
     "text": [
      "WARNING:absl:Found untraced functions such as _jit_compiled_convolution_op, _jit_compiled_convolution_op, _jit_compiled_convolution_op while saving (showing 3 of 3). These functions will not be directly callable after loading.\n"
     ]
    },
    {
     "name": "stdout",
     "output_type": "stream",
     "text": [
      "INFO:tensorflow:Assets written to: /home/oscar47/Desktop/P-ai/p-music/CNN_oscar/wandb/run-20221123_211207-2ocy1czz/files/model-best/assets\n"
     ]
    },
    {
     "name": "stderr",
     "output_type": "stream",
     "text": [
      "INFO:tensorflow:Assets written to: /home/oscar47/Desktop/P-ai/p-music/CNN_oscar/wandb/run-20221123_211207-2ocy1czz/files/model-best/assets\n",
      "\u001b[34m\u001b[1mwandb\u001b[0m: Adding directory to artifact (/home/oscar47/Desktop/P-ai/p-music/CNN_oscar/wandb/run-20221123_211207-2ocy1czz/files/model-best)... Done. 0.6s\n"
     ]
    },
    {
     "name": "stdout",
     "output_type": "stream",
     "text": [
      "45/45 [==============================] - 36s 796ms/step - loss: 118.0078 - val_loss: 113.1368\n",
      "Epoch 8/17\n",
      "45/45 [==============================] - ETA: 0s - loss: 108.4665"
     ]
    },
    {
     "name": "stderr",
     "output_type": "stream",
     "text": [
      "WARNING:absl:Found untraced functions such as _jit_compiled_convolution_op, _jit_compiled_convolution_op, _jit_compiled_convolution_op while saving (showing 3 of 3). These functions will not be directly callable after loading.\n"
     ]
    },
    {
     "name": "stdout",
     "output_type": "stream",
     "text": [
      "INFO:tensorflow:Assets written to: /home/oscar47/Desktop/P-ai/p-music/CNN_oscar/wandb/run-20221123_211207-2ocy1czz/files/model-best/assets\n"
     ]
    },
    {
     "name": "stderr",
     "output_type": "stream",
     "text": [
      "INFO:tensorflow:Assets written to: /home/oscar47/Desktop/P-ai/p-music/CNN_oscar/wandb/run-20221123_211207-2ocy1czz/files/model-best/assets\n",
      "\u001b[34m\u001b[1mwandb\u001b[0m: Adding directory to artifact (/home/oscar47/Desktop/P-ai/p-music/CNN_oscar/wandb/run-20221123_211207-2ocy1czz/files/model-best)... Done. 0.6s\n"
     ]
    },
    {
     "name": "stdout",
     "output_type": "stream",
     "text": [
      "45/45 [==============================] - 36s 792ms/step - loss: 108.4665 - val_loss: 103.6963\n",
      "Epoch 9/17\n",
      "45/45 [==============================] - ETA: 0s - loss: 99.7133"
     ]
    },
    {
     "name": "stderr",
     "output_type": "stream",
     "text": [
      "WARNING:absl:Found untraced functions such as _jit_compiled_convolution_op, _jit_compiled_convolution_op, _jit_compiled_convolution_op while saving (showing 3 of 3). These functions will not be directly callable after loading.\n"
     ]
    },
    {
     "name": "stdout",
     "output_type": "stream",
     "text": [
      "INFO:tensorflow:Assets written to: /home/oscar47/Desktop/P-ai/p-music/CNN_oscar/wandb/run-20221123_211207-2ocy1czz/files/model-best/assets\n"
     ]
    },
    {
     "name": "stderr",
     "output_type": "stream",
     "text": [
      "INFO:tensorflow:Assets written to: /home/oscar47/Desktop/P-ai/p-music/CNN_oscar/wandb/run-20221123_211207-2ocy1czz/files/model-best/assets\n",
      "\u001b[34m\u001b[1mwandb\u001b[0m: Adding directory to artifact (/home/oscar47/Desktop/P-ai/p-music/CNN_oscar/wandb/run-20221123_211207-2ocy1czz/files/model-best)... Done. 0.6s\n"
     ]
    },
    {
     "name": "stdout",
     "output_type": "stream",
     "text": [
      "45/45 [==============================] - 36s 795ms/step - loss: 99.7133 - val_loss: 95.7897\n",
      "Epoch 10/17\n",
      "45/45 [==============================] - ETA: 0s - loss: 92.0942"
     ]
    },
    {
     "name": "stderr",
     "output_type": "stream",
     "text": [
      "WARNING:absl:Found untraced functions such as _jit_compiled_convolution_op, _jit_compiled_convolution_op, _jit_compiled_convolution_op while saving (showing 3 of 3). These functions will not be directly callable after loading.\n"
     ]
    },
    {
     "name": "stdout",
     "output_type": "stream",
     "text": [
      "INFO:tensorflow:Assets written to: /home/oscar47/Desktop/P-ai/p-music/CNN_oscar/wandb/run-20221123_211207-2ocy1czz/files/model-best/assets\n"
     ]
    },
    {
     "name": "stderr",
     "output_type": "stream",
     "text": [
      "INFO:tensorflow:Assets written to: /home/oscar47/Desktop/P-ai/p-music/CNN_oscar/wandb/run-20221123_211207-2ocy1czz/files/model-best/assets\n",
      "\u001b[34m\u001b[1mwandb\u001b[0m: Adding directory to artifact (/home/oscar47/Desktop/P-ai/p-music/CNN_oscar/wandb/run-20221123_211207-2ocy1czz/files/model-best)... Done. 0.6s\n"
     ]
    },
    {
     "name": "stdout",
     "output_type": "stream",
     "text": [
      "45/45 [==============================] - 36s 794ms/step - loss: 92.0942 - val_loss: 88.2697\n",
      "Epoch 11/17\n",
      "45/45 [==============================] - ETA: 0s - loss: 84.8222"
     ]
    },
    {
     "name": "stderr",
     "output_type": "stream",
     "text": [
      "WARNING:absl:Found untraced functions such as _jit_compiled_convolution_op, _jit_compiled_convolution_op, _jit_compiled_convolution_op while saving (showing 3 of 3). These functions will not be directly callable after loading.\n"
     ]
    },
    {
     "name": "stdout",
     "output_type": "stream",
     "text": [
      "INFO:tensorflow:Assets written to: /home/oscar47/Desktop/P-ai/p-music/CNN_oscar/wandb/run-20221123_211207-2ocy1czz/files/model-best/assets\n"
     ]
    },
    {
     "name": "stderr",
     "output_type": "stream",
     "text": [
      "INFO:tensorflow:Assets written to: /home/oscar47/Desktop/P-ai/p-music/CNN_oscar/wandb/run-20221123_211207-2ocy1czz/files/model-best/assets\n",
      "\u001b[34m\u001b[1mwandb\u001b[0m: Adding directory to artifact (/home/oscar47/Desktop/P-ai/p-music/CNN_oscar/wandb/run-20221123_211207-2ocy1czz/files/model-best)... Done. 0.5s\n"
     ]
    },
    {
     "name": "stdout",
     "output_type": "stream",
     "text": [
      "45/45 [==============================] - 36s 791ms/step - loss: 84.8222 - val_loss: 81.3009\n",
      "Epoch 12/17\n",
      "45/45 [==============================] - ETA: 0s - loss: 78.0207"
     ]
    },
    {
     "name": "stderr",
     "output_type": "stream",
     "text": [
      "WARNING:absl:Found untraced functions such as _jit_compiled_convolution_op, _jit_compiled_convolution_op, _jit_compiled_convolution_op while saving (showing 3 of 3). These functions will not be directly callable after loading.\n"
     ]
    },
    {
     "name": "stdout",
     "output_type": "stream",
     "text": [
      "INFO:tensorflow:Assets written to: /home/oscar47/Desktop/P-ai/p-music/CNN_oscar/wandb/run-20221123_211207-2ocy1czz/files/model-best/assets\n"
     ]
    },
    {
     "name": "stderr",
     "output_type": "stream",
     "text": [
      "INFO:tensorflow:Assets written to: /home/oscar47/Desktop/P-ai/p-music/CNN_oscar/wandb/run-20221123_211207-2ocy1czz/files/model-best/assets\n",
      "\u001b[34m\u001b[1mwandb\u001b[0m: Adding directory to artifact (/home/oscar47/Desktop/P-ai/p-music/CNN_oscar/wandb/run-20221123_211207-2ocy1czz/files/model-best)... Done. 0.6s\n"
     ]
    },
    {
     "name": "stdout",
     "output_type": "stream",
     "text": [
      "45/45 [==============================] - 36s 791ms/step - loss: 78.0207 - val_loss: 74.7265\n",
      "Epoch 13/17\n",
      "45/45 [==============================] - ETA: 0s - loss: 71.6808"
     ]
    },
    {
     "name": "stderr",
     "output_type": "stream",
     "text": [
      "WARNING:absl:Found untraced functions such as _jit_compiled_convolution_op, _jit_compiled_convolution_op, _jit_compiled_convolution_op while saving (showing 3 of 3). These functions will not be directly callable after loading.\n"
     ]
    },
    {
     "name": "stdout",
     "output_type": "stream",
     "text": [
      "INFO:tensorflow:Assets written to: /home/oscar47/Desktop/P-ai/p-music/CNN_oscar/wandb/run-20221123_211207-2ocy1czz/files/model-best/assets\n"
     ]
    },
    {
     "name": "stderr",
     "output_type": "stream",
     "text": [
      "INFO:tensorflow:Assets written to: /home/oscar47/Desktop/P-ai/p-music/CNN_oscar/wandb/run-20221123_211207-2ocy1czz/files/model-best/assets\n",
      "\u001b[34m\u001b[1mwandb\u001b[0m: Adding directory to artifact (/home/oscar47/Desktop/P-ai/p-music/CNN_oscar/wandb/run-20221123_211207-2ocy1czz/files/model-best)... Done. 0.5s\n"
     ]
    },
    {
     "name": "stdout",
     "output_type": "stream",
     "text": [
      "45/45 [==============================] - 36s 795ms/step - loss: 71.6808 - val_loss: 68.6136\n",
      "Epoch 14/17\n",
      "45/45 [==============================] - ETA: 0s - loss: 65.7942"
     ]
    },
    {
     "name": "stderr",
     "output_type": "stream",
     "text": [
      "WARNING:absl:Found untraced functions such as _jit_compiled_convolution_op, _jit_compiled_convolution_op, _jit_compiled_convolution_op while saving (showing 3 of 3). These functions will not be directly callable after loading.\n"
     ]
    },
    {
     "name": "stdout",
     "output_type": "stream",
     "text": [
      "INFO:tensorflow:Assets written to: /home/oscar47/Desktop/P-ai/p-music/CNN_oscar/wandb/run-20221123_211207-2ocy1czz/files/model-best/assets\n"
     ]
    },
    {
     "name": "stderr",
     "output_type": "stream",
     "text": [
      "INFO:tensorflow:Assets written to: /home/oscar47/Desktop/P-ai/p-music/CNN_oscar/wandb/run-20221123_211207-2ocy1czz/files/model-best/assets\n",
      "\u001b[34m\u001b[1mwandb\u001b[0m: Adding directory to artifact (/home/oscar47/Desktop/P-ai/p-music/CNN_oscar/wandb/run-20221123_211207-2ocy1czz/files/model-best)... Done. 0.6s\n"
     ]
    },
    {
     "name": "stdout",
     "output_type": "stream",
     "text": [
      "45/45 [==============================] - 36s 795ms/step - loss: 65.7942 - val_loss: 62.8971\n",
      "Epoch 15/17\n",
      "45/45 [==============================] - ETA: 0s - loss: 60.3446"
     ]
    },
    {
     "name": "stderr",
     "output_type": "stream",
     "text": [
      "WARNING:absl:Found untraced functions such as _jit_compiled_convolution_op, _jit_compiled_convolution_op, _jit_compiled_convolution_op while saving (showing 3 of 3). These functions will not be directly callable after loading.\n"
     ]
    },
    {
     "name": "stdout",
     "output_type": "stream",
     "text": [
      "INFO:tensorflow:Assets written to: /home/oscar47/Desktop/P-ai/p-music/CNN_oscar/wandb/run-20221123_211207-2ocy1czz/files/model-best/assets\n"
     ]
    },
    {
     "name": "stderr",
     "output_type": "stream",
     "text": [
      "INFO:tensorflow:Assets written to: /home/oscar47/Desktop/P-ai/p-music/CNN_oscar/wandb/run-20221123_211207-2ocy1czz/files/model-best/assets\n",
      "\u001b[34m\u001b[1mwandb\u001b[0m: Adding directory to artifact (/home/oscar47/Desktop/P-ai/p-music/CNN_oscar/wandb/run-20221123_211207-2ocy1czz/files/model-best)... Done. 0.5s\n"
     ]
    },
    {
     "name": "stdout",
     "output_type": "stream",
     "text": [
      "45/45 [==============================] - 36s 791ms/step - loss: 60.3446 - val_loss: 57.8006\n",
      "Epoch 16/17\n",
      "45/45 [==============================] - ETA: 0s - loss: 55.5345"
     ]
    },
    {
     "name": "stderr",
     "output_type": "stream",
     "text": [
      "WARNING:absl:Found untraced functions such as _jit_compiled_convolution_op, _jit_compiled_convolution_op, _jit_compiled_convolution_op while saving (showing 3 of 3). These functions will not be directly callable after loading.\n"
     ]
    },
    {
     "name": "stdout",
     "output_type": "stream",
     "text": [
      "INFO:tensorflow:Assets written to: /home/oscar47/Desktop/P-ai/p-music/CNN_oscar/wandb/run-20221123_211207-2ocy1czz/files/model-best/assets\n"
     ]
    },
    {
     "name": "stderr",
     "output_type": "stream",
     "text": [
      "INFO:tensorflow:Assets written to: /home/oscar47/Desktop/P-ai/p-music/CNN_oscar/wandb/run-20221123_211207-2ocy1czz/files/model-best/assets\n",
      "\u001b[34m\u001b[1mwandb\u001b[0m: Adding directory to artifact (/home/oscar47/Desktop/P-ai/p-music/CNN_oscar/wandb/run-20221123_211207-2ocy1czz/files/model-best)... Done. 0.6s\n"
     ]
    },
    {
     "name": "stdout",
     "output_type": "stream",
     "text": [
      "45/45 [==============================] - 36s 792ms/step - loss: 55.5345 - val_loss: 53.3269\n",
      "Epoch 17/17\n",
      "45/45 [==============================] - ETA: 0s - loss: 51.2985"
     ]
    },
    {
     "name": "stderr",
     "output_type": "stream",
     "text": [
      "WARNING:absl:Found untraced functions such as _jit_compiled_convolution_op, _jit_compiled_convolution_op, _jit_compiled_convolution_op while saving (showing 3 of 3). These functions will not be directly callable after loading.\n"
     ]
    },
    {
     "name": "stdout",
     "output_type": "stream",
     "text": [
      "INFO:tensorflow:Assets written to: /home/oscar47/Desktop/P-ai/p-music/CNN_oscar/wandb/run-20221123_211207-2ocy1czz/files/model-best/assets\n"
     ]
    },
    {
     "name": "stderr",
     "output_type": "stream",
     "text": [
      "INFO:tensorflow:Assets written to: /home/oscar47/Desktop/P-ai/p-music/CNN_oscar/wandb/run-20221123_211207-2ocy1czz/files/model-best/assets\n",
      "\u001b[34m\u001b[1mwandb\u001b[0m: Adding directory to artifact (/home/oscar47/Desktop/P-ai/p-music/CNN_oscar/wandb/run-20221123_211207-2ocy1czz/files/model-best)... Done. 0.6s\n"
     ]
    },
    {
     "name": "stdout",
     "output_type": "stream",
     "text": [
      "45/45 [==============================] - 36s 794ms/step - loss: 51.2985 - val_loss: 49.2170\n"
     ]
    },
    {
     "data": {
      "text/html": [
       "Waiting for W&B process to finish... <strong style=\"color:green\">(success).</strong>"
      ],
      "text/plain": [
       "<IPython.core.display.HTML object>"
      ]
     },
     "metadata": {},
     "output_type": "display_data"
    },
    {
     "data": {
      "text/html": [
       "<style>\n",
       "    table.wandb td:nth-child(1) { padding: 0 10px; text-align: left ; width: auto;} td:nth-child(2) {text-align: left ; width: 100%}\n",
       "    .wandb-row { display: flex; flex-direction: row; flex-wrap: wrap; justify-content: flex-start; width: 100% }\n",
       "    .wandb-col { display: flex; flex-direction: column; flex-basis: 100%; flex: 1; padding: 10px; }\n",
       "    </style>\n",
       "<div class=\"wandb-row\"><div class=\"wandb-col\"><h3>Run history:</h3><br/><table class=\"wandb\"><tr><td>epoch</td><td>▁▁▂▂▃▃▄▄▅▅▅▆▆▇▇██</td></tr><tr><td>loss</td><td>█▁▁▁▁▁▁▁▁▁▁▁▁▁▁▁▁</td></tr><tr><td>val_loss</td><td>██▇▆▆▅▄▄▄▃▃▂▂▂▁▁▁</td></tr></table><br/></div><div class=\"wandb-col\"><h3>Run summary:</h3><br/><table class=\"wandb\"><tr><td>best_epoch</td><td>16</td></tr><tr><td>best_val_loss</td><td>49.21703</td></tr><tr><td>epoch</td><td>16</td></tr><tr><td>loss</td><td>51.29854</td></tr><tr><td>val_loss</td><td>49.21703</td></tr></table><br/></div></div>"
      ],
      "text/plain": [
       "<IPython.core.display.HTML object>"
      ]
     },
     "metadata": {},
     "output_type": "display_data"
    },
    {
     "data": {
      "text/html": [
       "Synced <strong style=\"color:#cdcd00\">pious-sweep-19</strong>: <a href=\"https://wandb.ai/p-ai/Oscar%20CNN1/runs/2ocy1czz\" target=\"_blank\">https://wandb.ai/p-ai/Oscar%20CNN1/runs/2ocy1czz</a><br/>Synced 6 W&B file(s), 1 media file(s), 65 artifact file(s) and 1 other file(s)"
      ],
      "text/plain": [
       "<IPython.core.display.HTML object>"
      ]
     },
     "metadata": {},
     "output_type": "display_data"
    },
    {
     "data": {
      "text/html": [
       "Find logs at: <code>./wandb/run-20221123_211207-2ocy1czz/logs</code>"
      ],
      "text/plain": [
       "<IPython.core.display.HTML object>"
      ]
     },
     "metadata": {},
     "output_type": "display_data"
    },
    {
     "name": "stderr",
     "output_type": "stream",
     "text": [
      "\u001b[34m\u001b[1mwandb\u001b[0m: Agent Starting Run: wpk0knnp with config:\n",
      "\u001b[34m\u001b[1mwandb\u001b[0m: \tbatch_size: 128\n",
      "\u001b[34m\u001b[1mwandb\u001b[0m: \tdense1: 76\n",
      "\u001b[34m\u001b[1mwandb\u001b[0m: \tepochs: 24\n",
      "\u001b[34m\u001b[1mwandb\u001b[0m: \tlearning_rate: 0.0529062465100194\n",
      "\u001b[34m\u001b[1mwandb\u001b[0m: \tsize_1: 170\n",
      "\u001b[34m\u001b[1mwandb\u001b[0m: \tsize_2: 202\n",
      "\u001b[34m\u001b[1mwandb\u001b[0m: \tsize_3: 174\n"
     ]
    },
    {
     "data": {
      "text/html": [
       "Tracking run with wandb version 0.13.5"
      ],
      "text/plain": [
       "<IPython.core.display.HTML object>"
      ]
     },
     "metadata": {},
     "output_type": "display_data"
    },
    {
     "data": {
      "text/html": [
       "Run data is saved locally in <code>/home/oscar47/Desktop/P-ai/p-music/CNN_oscar/wandb/run-20221123_212236-wpk0knnp</code>"
      ],
      "text/plain": [
       "<IPython.core.display.HTML object>"
      ]
     },
     "metadata": {},
     "output_type": "display_data"
    },
    {
     "data": {
      "text/html": [
       "Syncing run <strong><a href=\"https://wandb.ai/p-ai/Oscar%20CNN1/runs/wpk0knnp\" target=\"_blank\">stellar-sweep-20</a></strong> to <a href=\"https://wandb.ai/p-ai/Oscar%20CNN1\" target=\"_blank\">Weights & Biases</a> (<a href=\"https://wandb.me/run\" target=\"_blank\">docs</a>)<br/>Sweep page:  <a href=\"https://wandb.ai/p-ai/Oscar%20CNN1/sweeps/wsxqxjvp\" target=\"_blank\">https://wandb.ai/p-ai/Oscar%20CNN1/sweeps/wsxqxjvp</a>"
      ],
      "text/plain": [
       "<IPython.core.display.HTML object>"
      ]
     },
     "metadata": {},
     "output_type": "display_data"
    },
    {
     "name": "stdout",
     "output_type": "stream",
     "text": [
      "Epoch 1/24\n",
      "12/12 [==============================] - ETA: 0s - loss: 791751098368.0000"
     ]
    },
    {
     "name": "stderr",
     "output_type": "stream",
     "text": [
      "WARNING:absl:Found untraced functions such as _jit_compiled_convolution_op, _jit_compiled_convolution_op, _jit_compiled_convolution_op while saving (showing 3 of 3). These functions will not be directly callable after loading.\n"
     ]
    },
    {
     "name": "stdout",
     "output_type": "stream",
     "text": [
      "INFO:tensorflow:Assets written to: /home/oscar47/Desktop/P-ai/p-music/CNN_oscar/wandb/run-20221123_212236-wpk0knnp/files/model-best/assets\n"
     ]
    },
    {
     "name": "stderr",
     "output_type": "stream",
     "text": [
      "INFO:tensorflow:Assets written to: /home/oscar47/Desktop/P-ai/p-music/CNN_oscar/wandb/run-20221123_212236-wpk0knnp/files/model-best/assets\n",
      "\u001b[34m\u001b[1mwandb\u001b[0m: Adding directory to artifact (/home/oscar47/Desktop/P-ai/p-music/CNN_oscar/wandb/run-20221123_212236-wpk0knnp/files/model-best)... Done. 0.2s\n"
     ]
    },
    {
     "name": "stdout",
     "output_type": "stream",
     "text": [
      "12/12 [==============================] - 42s 3s/step - loss: 791751098368.0000 - val_loss: 1608.6886\n",
      "Epoch 2/24\n",
      "12/12 [==============================] - 40s 3s/step - loss: 118754.6797 - val_loss: 79853.3750\n",
      "Epoch 3/24\n",
      "12/12 [==============================] - 40s 3s/step - loss: 67322.7969 - val_loss: 8223.9766\n",
      "Epoch 4/24\n",
      "12/12 [==============================] - ETA: 0s - loss: 983.5491 "
     ]
    },
    {
     "name": "stderr",
     "output_type": "stream",
     "text": [
      "WARNING:absl:Found untraced functions such as _jit_compiled_convolution_op, _jit_compiled_convolution_op, _jit_compiled_convolution_op while saving (showing 3 of 3). These functions will not be directly callable after loading.\n"
     ]
    },
    {
     "name": "stdout",
     "output_type": "stream",
     "text": [
      "INFO:tensorflow:Assets written to: /home/oscar47/Desktop/P-ai/p-music/CNN_oscar/wandb/run-20221123_212236-wpk0knnp/files/model-best/assets\n"
     ]
    },
    {
     "name": "stderr",
     "output_type": "stream",
     "text": [
      "INFO:tensorflow:Assets written to: /home/oscar47/Desktop/P-ai/p-music/CNN_oscar/wandb/run-20221123_212236-wpk0knnp/files/model-best/assets\n",
      "\u001b[34m\u001b[1mwandb\u001b[0m: Adding directory to artifact (/home/oscar47/Desktop/P-ai/p-music/CNN_oscar/wandb/run-20221123_212236-wpk0knnp/files/model-best)... Done. 0.2s\n"
     ]
    },
    {
     "name": "stdout",
     "output_type": "stream",
     "text": [
      "12/12 [==============================] - 41s 3s/step - loss: 983.5491 - val_loss: 1.1095\n",
      "Epoch 5/24\n",
      "12/12 [==============================] - 40s 3s/step - loss: 1.1127 - val_loss: 1.1137\n",
      "Epoch 6/24\n",
      "12/12 [==============================] - 40s 3s/step - loss: 1.1154 - val_loss: 1.1150\n",
      "Epoch 7/24\n",
      "12/12 [==============================] - 40s 3s/step - loss: 1.1162 - val_loss: 1.1154\n",
      "Epoch 8/24\n",
      "12/12 [==============================] - 40s 3s/step - loss: 1.1165 - val_loss: 1.1155\n",
      "Epoch 9/24\n",
      "12/12 [==============================] - 40s 3s/step - loss: 1.1165 - val_loss: 1.1156\n",
      "Epoch 10/24\n",
      "12/12 [==============================] - 40s 3s/step - loss: 1.1166 - val_loss: 1.1156\n",
      "Epoch 11/24\n",
      "12/12 [==============================] - 40s 3s/step - loss: 1.1166 - val_loss: 1.1156\n",
      "Epoch 12/24\n",
      "12/12 [==============================] - 40s 3s/step - loss: 1.1166 - val_loss: 1.1156\n",
      "Epoch 13/24\n",
      "12/12 [==============================] - 40s 3s/step - loss: 1.1166 - val_loss: 1.1156\n",
      "Epoch 14/24\n",
      "12/12 [==============================] - 40s 3s/step - loss: 1.1165 - val_loss: 1.1155\n",
      "Epoch 15/24\n",
      "12/12 [==============================] - 40s 3s/step - loss: 1.1165 - val_loss: 1.1155\n",
      "Epoch 16/24\n",
      "12/12 [==============================] - 40s 3s/step - loss: 1.1165 - val_loss: 1.1155\n",
      "Epoch 17/24\n",
      "12/12 [==============================] - 40s 3s/step - loss: 1.1165 - val_loss: 1.1155\n",
      "Epoch 18/24\n",
      "12/12 [==============================] - 40s 3s/step - loss: 1.1165 - val_loss: 1.1155\n",
      "Epoch 19/24\n",
      "12/12 [==============================] - 40s 3s/step - loss: 1.1165 - val_loss: 1.1155\n",
      "Epoch 20/24\n",
      "12/12 [==============================] - 40s 3s/step - loss: 1.1165 - val_loss: 1.1155\n",
      "Epoch 21/24\n",
      "12/12 [==============================] - 40s 3s/step - loss: 1.1165 - val_loss: 1.1155\n",
      "Epoch 22/24\n",
      "12/12 [==============================] - 40s 3s/step - loss: 1.1165 - val_loss: 1.1155\n",
      "Epoch 23/24\n",
      "12/12 [==============================] - 40s 3s/step - loss: 1.1165 - val_loss: 1.1155\n",
      "Epoch 24/24\n",
      "12/12 [==============================] - 40s 3s/step - loss: 1.1165 - val_loss: 1.1155\n"
     ]
    },
    {
     "data": {
      "text/html": [
       "Waiting for W&B process to finish... <strong style=\"color:green\">(success).</strong>"
      ],
      "text/plain": [
       "<IPython.core.display.HTML object>"
      ]
     },
     "metadata": {},
     "output_type": "display_data"
    },
    {
     "data": {
      "text/html": [
       "<style>\n",
       "    table.wandb td:nth-child(1) { padding: 0 10px; text-align: left ; width: auto;} td:nth-child(2) {text-align: left ; width: 100%}\n",
       "    .wandb-row { display: flex; flex-direction: row; flex-wrap: wrap; justify-content: flex-start; width: 100% }\n",
       "    .wandb-col { display: flex; flex-direction: column; flex-basis: 100%; flex: 1; padding: 10px; }\n",
       "    </style>\n",
       "<div class=\"wandb-row\"><div class=\"wandb-col\"><h3>Run history:</h3><br/><table class=\"wandb\"><tr><td>epoch</td><td>▁▁▂▂▂▃▃▃▃▄▄▄▅▅▅▆▆▆▆▇▇▇██</td></tr><tr><td>loss</td><td>█▁▁▁▁▁▁▁▁▁▁▁▁▁▁▁▁▁▁▁▁▁▁▁</td></tr><tr><td>val_loss</td><td>▁█▂▁▁▁▁▁▁▁▁▁▁▁▁▁▁▁▁▁▁▁▁▁</td></tr></table><br/></div><div class=\"wandb-col\"><h3>Run summary:</h3><br/><table class=\"wandb\"><tr><td>best_epoch</td><td>3</td></tr><tr><td>best_val_loss</td><td>1.10948</td></tr><tr><td>epoch</td><td>23</td></tr><tr><td>loss</td><td>1.11647</td></tr><tr><td>val_loss</td><td>1.11547</td></tr></table><br/></div></div>"
      ],
      "text/plain": [
       "<IPython.core.display.HTML object>"
      ]
     },
     "metadata": {},
     "output_type": "display_data"
    },
    {
     "data": {
      "text/html": [
       "Synced <strong style=\"color:#cdcd00\">stellar-sweep-20</strong>: <a href=\"https://wandb.ai/p-ai/Oscar%20CNN1/runs/wpk0knnp\" target=\"_blank\">https://wandb.ai/p-ai/Oscar%20CNN1/runs/wpk0knnp</a><br/>Synced 6 W&B file(s), 1 media file(s), 9 artifact file(s) and 1 other file(s)"
      ],
      "text/plain": [
       "<IPython.core.display.HTML object>"
      ]
     },
     "metadata": {},
     "output_type": "display_data"
    },
    {
     "data": {
      "text/html": [
       "Find logs at: <code>./wandb/run-20221123_212236-wpk0knnp/logs</code>"
      ],
      "text/plain": [
       "<IPython.core.display.HTML object>"
      ]
     },
     "metadata": {},
     "output_type": "display_data"
    },
    {
     "name": "stderr",
     "output_type": "stream",
     "text": [
      "\u001b[34m\u001b[1mwandb\u001b[0m: Agent Starting Run: hinwbmw8 with config:\n",
      "\u001b[34m\u001b[1mwandb\u001b[0m: \tbatch_size: 128\n",
      "\u001b[34m\u001b[1mwandb\u001b[0m: \tdense1: 71\n",
      "\u001b[34m\u001b[1mwandb\u001b[0m: \tepochs: 18\n",
      "\u001b[34m\u001b[1mwandb\u001b[0m: \tlearning_rate: 0.05197395565893545\n",
      "\u001b[34m\u001b[1mwandb\u001b[0m: \tsize_1: 153\n",
      "\u001b[34m\u001b[1mwandb\u001b[0m: \tsize_2: 128\n",
      "\u001b[34m\u001b[1mwandb\u001b[0m: \tsize_3: 182\n"
     ]
    },
    {
     "data": {
      "text/html": [
       "Tracking run with wandb version 0.13.5"
      ],
      "text/plain": [
       "<IPython.core.display.HTML object>"
      ]
     },
     "metadata": {},
     "output_type": "display_data"
    },
    {
     "data": {
      "text/html": [
       "Run data is saved locally in <code>/home/oscar47/Desktop/P-ai/p-music/CNN_oscar/wandb/run-20221123_213850-hinwbmw8</code>"
      ],
      "text/plain": [
       "<IPython.core.display.HTML object>"
      ]
     },
     "metadata": {},
     "output_type": "display_data"
    },
    {
     "data": {
      "text/html": [
       "Syncing run <strong><a href=\"https://wandb.ai/p-ai/Oscar%20CNN1/runs/hinwbmw8\" target=\"_blank\">grateful-sweep-21</a></strong> to <a href=\"https://wandb.ai/p-ai/Oscar%20CNN1\" target=\"_blank\">Weights & Biases</a> (<a href=\"https://wandb.me/run\" target=\"_blank\">docs</a>)<br/>Sweep page:  <a href=\"https://wandb.ai/p-ai/Oscar%20CNN1/sweeps/wsxqxjvp\" target=\"_blank\">https://wandb.ai/p-ai/Oscar%20CNN1/sweeps/wsxqxjvp</a>"
      ],
      "text/plain": [
       "<IPython.core.display.HTML object>"
      ]
     },
     "metadata": {},
     "output_type": "display_data"
    },
    {
     "name": "stdout",
     "output_type": "stream",
     "text": [
      "Epoch 1/18\n",
      "12/12 [==============================] - ETA: 0s - loss: 313107611648.0000"
     ]
    },
    {
     "name": "stderr",
     "output_type": "stream",
     "text": [
      "WARNING:absl:Found untraced functions such as _jit_compiled_convolution_op, _jit_compiled_convolution_op, _jit_compiled_convolution_op while saving (showing 3 of 3). These functions will not be directly callable after loading.\n"
     ]
    },
    {
     "name": "stdout",
     "output_type": "stream",
     "text": [
      "INFO:tensorflow:Assets written to: /home/oscar47/Desktop/P-ai/p-music/CNN_oscar/wandb/run-20221123_213850-hinwbmw8/files/model-best/assets\n"
     ]
    },
    {
     "name": "stderr",
     "output_type": "stream",
     "text": [
      "INFO:tensorflow:Assets written to: /home/oscar47/Desktop/P-ai/p-music/CNN_oscar/wandb/run-20221123_213850-hinwbmw8/files/model-best/assets\n",
      "\u001b[34m\u001b[1mwandb\u001b[0m: Adding directory to artifact (/home/oscar47/Desktop/P-ai/p-music/CNN_oscar/wandb/run-20221123_213850-hinwbmw8/files/model-best)... Done. 0.1s\n"
     ]
    },
    {
     "name": "stdout",
     "output_type": "stream",
     "text": [
      "12/12 [==============================] - 30s 3s/step - loss: 313107611648.0000 - val_loss: 12903.6572\n",
      "Epoch 2/18\n",
      "12/12 [==============================] - ETA: 0s - loss: 216294.5312"
     ]
    },
    {
     "name": "stderr",
     "output_type": "stream",
     "text": [
      "WARNING:absl:Found untraced functions such as _jit_compiled_convolution_op, _jit_compiled_convolution_op, _jit_compiled_convolution_op while saving (showing 3 of 3). These functions will not be directly callable after loading.\n"
     ]
    },
    {
     "name": "stdout",
     "output_type": "stream",
     "text": [
      "INFO:tensorflow:Assets written to: /home/oscar47/Desktop/P-ai/p-music/CNN_oscar/wandb/run-20221123_213850-hinwbmw8/files/model-best/assets\n"
     ]
    },
    {
     "name": "stderr",
     "output_type": "stream",
     "text": [
      "INFO:tensorflow:Assets written to: /home/oscar47/Desktop/P-ai/p-music/CNN_oscar/wandb/run-20221123_213850-hinwbmw8/files/model-best/assets\n",
      "\u001b[34m\u001b[1mwandb\u001b[0m: Adding directory to artifact (/home/oscar47/Desktop/P-ai/p-music/CNN_oscar/wandb/run-20221123_213850-hinwbmw8/files/model-best)... Done. 0.1s\n"
     ]
    },
    {
     "name": "stdout",
     "output_type": "stream",
     "text": [
      "12/12 [==============================] - 30s 2s/step - loss: 216294.5312 - val_loss: 135.4648\n",
      "Epoch 3/18\n",
      "12/12 [==============================] - 29s 2s/step - loss: 62736.2734 - val_loss: 33921.3711\n",
      "Epoch 4/18\n",
      "12/12 [==============================] - 29s 2s/step - loss: 23288.1035 - val_loss: 21426.3965\n",
      "Epoch 5/18\n",
      "12/12 [==============================] - 29s 2s/step - loss: 7800.6880 - val_loss: 3499.1062\n",
      "Epoch 6/18\n",
      "12/12 [==============================] - 29s 2s/step - loss: 1997.0563 - val_loss: 1696.7167\n",
      "Epoch 7/18\n",
      "12/12 [==============================] - 29s 2s/step - loss: 514.4805 - val_loss: 189.0079\n",
      "Epoch 8/18\n",
      "12/12 [==============================] - 29s 2s/step - loss: 217.8833 - val_loss: 173.6713\n",
      "Epoch 9/18\n",
      "12/12 [==============================] - 29s 2s/step - loss: 207.4981 - val_loss: 191.6397\n",
      "Epoch 10/18\n",
      "12/12 [==============================] - 29s 2s/step - loss: 388.0718 - val_loss: 158.3898\n",
      "Epoch 11/18\n",
      "12/12 [==============================] - 29s 2s/step - loss: 250.9219 - val_loss: 166.1507\n",
      "Epoch 12/18\n",
      "12/12 [==============================] - 29s 2s/step - loss: 223.1389 - val_loss: 198.6770\n",
      "Epoch 13/18\n",
      "12/12 [==============================] - 29s 2s/step - loss: 265.6212 - val_loss: 219.0462\n",
      "Epoch 14/18\n",
      "12/12 [==============================] - 29s 2s/step - loss: 498.5144 - val_loss: 2645.1511\n",
      "Epoch 15/18\n",
      "12/12 [==============================] - 28s 2s/step - loss: 2426.9204 - val_loss: 1638.3599\n",
      "Epoch 16/18\n",
      "12/12 [==============================] - 29s 2s/step - loss: 11741.7627 - val_loss: 309.3553\n",
      "Epoch 17/18\n",
      "12/12 [==============================] - 29s 2s/step - loss: 4579.5620 - val_loss: 9546.6885\n",
      "Epoch 18/18\n",
      "12/12 [==============================] - 29s 2s/step - loss: 22955.5977 - val_loss: 10162.8398\n"
     ]
    },
    {
     "data": {
      "text/html": [
       "Waiting for W&B process to finish... <strong style=\"color:green\">(success).</strong>"
      ],
      "text/plain": [
       "<IPython.core.display.HTML object>"
      ]
     },
     "metadata": {},
     "output_type": "display_data"
    },
    {
     "data": {
      "text/html": [
       "<style>\n",
       "    table.wandb td:nth-child(1) { padding: 0 10px; text-align: left ; width: auto;} td:nth-child(2) {text-align: left ; width: 100%}\n",
       "    .wandb-row { display: flex; flex-direction: row; flex-wrap: wrap; justify-content: flex-start; width: 100% }\n",
       "    .wandb-col { display: flex; flex-direction: column; flex-basis: 100%; flex: 1; padding: 10px; }\n",
       "    </style>\n",
       "<div class=\"wandb-row\"><div class=\"wandb-col\"><h3>Run history:</h3><br/><table class=\"wandb\"><tr><td>epoch</td><td>▁▁▂▂▃▃▃▄▄▅▅▆▆▆▇▇██</td></tr><tr><td>loss</td><td>█▁▁▁▁▁▁▁▁▁▁▁▁▁▁▁▁▁</td></tr><tr><td>val_loss</td><td>▄▁█▅▂▁▁▁▁▁▁▁▁▂▁▁▃▃</td></tr></table><br/></div><div class=\"wandb-col\"><h3>Run summary:</h3><br/><table class=\"wandb\"><tr><td>best_epoch</td><td>1</td></tr><tr><td>best_val_loss</td><td>135.46478</td></tr><tr><td>epoch</td><td>17</td></tr><tr><td>loss</td><td>22955.59766</td></tr><tr><td>val_loss</td><td>10162.83984</td></tr></table><br/></div></div>"
      ],
      "text/plain": [
       "<IPython.core.display.HTML object>"
      ]
     },
     "metadata": {},
     "output_type": "display_data"
    },
    {
     "data": {
      "text/html": [
       "Synced <strong style=\"color:#cdcd00\">grateful-sweep-21</strong>: <a href=\"https://wandb.ai/p-ai/Oscar%20CNN1/runs/hinwbmw8\" target=\"_blank\">https://wandb.ai/p-ai/Oscar%20CNN1/runs/hinwbmw8</a><br/>Synced 6 W&B file(s), 1 media file(s), 9 artifact file(s) and 1 other file(s)"
      ],
      "text/plain": [
       "<IPython.core.display.HTML object>"
      ]
     },
     "metadata": {},
     "output_type": "display_data"
    },
    {
     "data": {
      "text/html": [
       "Find logs at: <code>./wandb/run-20221123_213850-hinwbmw8/logs</code>"
      ],
      "text/plain": [
       "<IPython.core.display.HTML object>"
      ]
     },
     "metadata": {},
     "output_type": "display_data"
    },
    {
     "name": "stderr",
     "output_type": "stream",
     "text": [
      "\u001b[34m\u001b[1mwandb\u001b[0m: Sweep Agent: Waiting for job.\n",
      "\u001b[34m\u001b[1mwandb\u001b[0m: Job received.\n",
      "\u001b[34m\u001b[1mwandb\u001b[0m: Agent Starting Run: zbsm5r0y with config:\n",
      "\u001b[34m\u001b[1mwandb\u001b[0m: \tbatch_size: 128\n",
      "\u001b[34m\u001b[1mwandb\u001b[0m: \tdense1: 243\n",
      "\u001b[34m\u001b[1mwandb\u001b[0m: \tepochs: 27\n",
      "\u001b[34m\u001b[1mwandb\u001b[0m: \tlearning_rate: 0.031212310558015877\n",
      "\u001b[34m\u001b[1mwandb\u001b[0m: \tsize_1: 247\n",
      "\u001b[34m\u001b[1mwandb\u001b[0m: \tsize_2: 74\n",
      "\u001b[34m\u001b[1mwandb\u001b[0m: \tsize_3: 181\n"
     ]
    },
    {
     "data": {
      "text/html": [
       "Tracking run with wandb version 0.13.5"
      ],
      "text/plain": [
       "<IPython.core.display.HTML object>"
      ]
     },
     "metadata": {},
     "output_type": "display_data"
    },
    {
     "data": {
      "text/html": [
       "Run data is saved locally in <code>/home/oscar47/Desktop/P-ai/p-music/CNN_oscar/wandb/run-20221123_214751-zbsm5r0y</code>"
      ],
      "text/plain": [
       "<IPython.core.display.HTML object>"
      ]
     },
     "metadata": {},
     "output_type": "display_data"
    },
    {
     "data": {
      "text/html": [
       "Syncing run <strong><a href=\"https://wandb.ai/p-ai/Oscar%20CNN1/runs/zbsm5r0y\" target=\"_blank\">clear-sweep-22</a></strong> to <a href=\"https://wandb.ai/p-ai/Oscar%20CNN1\" target=\"_blank\">Weights & Biases</a> (<a href=\"https://wandb.me/run\" target=\"_blank\">docs</a>)<br/>Sweep page:  <a href=\"https://wandb.ai/p-ai/Oscar%20CNN1/sweeps/wsxqxjvp\" target=\"_blank\">https://wandb.ai/p-ai/Oscar%20CNN1/sweeps/wsxqxjvp</a>"
      ],
      "text/plain": [
       "<IPython.core.display.HTML object>"
      ]
     },
     "metadata": {},
     "output_type": "display_data"
    },
    {
     "name": "stdout",
     "output_type": "stream",
     "text": [
      "Epoch 1/27\n",
      "12/12 [==============================] - ETA: 0s - loss: 37723287552.0000"
     ]
    },
    {
     "name": "stderr",
     "output_type": "stream",
     "text": [
      "WARNING:absl:Found untraced functions such as _jit_compiled_convolution_op, _jit_compiled_convolution_op, _jit_compiled_convolution_op while saving (showing 3 of 3). These functions will not be directly callable after loading.\n"
     ]
    },
    {
     "name": "stdout",
     "output_type": "stream",
     "text": [
      "INFO:tensorflow:Assets written to: /home/oscar47/Desktop/P-ai/p-music/CNN_oscar/wandb/run-20221123_214751-zbsm5r0y/files/model-best/assets\n"
     ]
    },
    {
     "name": "stderr",
     "output_type": "stream",
     "text": [
      "INFO:tensorflow:Assets written to: /home/oscar47/Desktop/P-ai/p-music/CNN_oscar/wandb/run-20221123_214751-zbsm5r0y/files/model-best/assets\n",
      "\u001b[34m\u001b[1mwandb\u001b[0m: Adding directory to artifact (/home/oscar47/Desktop/P-ai/p-music/CNN_oscar/wandb/run-20221123_214751-zbsm5r0y/files/model-best)... Done. 0.4s\n"
     ]
    },
    {
     "name": "stdout",
     "output_type": "stream",
     "text": [
      "12/12 [==============================] - 38s 3s/step - loss: 37723287552.0000 - val_loss: 1245.6521\n",
      "Epoch 2/27\n",
      "12/12 [==============================] - 36s 3s/step - loss: 131171.4531 - val_loss: 19381.9844\n",
      "Epoch 3/27\n",
      "12/12 [==============================] - 36s 3s/step - loss: 49228.1875 - val_loss: 40841.2734\n",
      "Epoch 4/27\n",
      "12/12 [==============================] - 36s 3s/step - loss: 14188.0107 - val_loss: 5573.4141\n",
      "Epoch 5/27\n",
      "12/12 [==============================] - 36s 3s/step - loss: 3635.2725 - val_loss: 3774.9438\n",
      "Epoch 6/27\n",
      "12/12 [==============================] - ETA: 0s - loss: 1268.3878"
     ]
    },
    {
     "name": "stderr",
     "output_type": "stream",
     "text": [
      "WARNING:absl:Found untraced functions such as _jit_compiled_convolution_op, _jit_compiled_convolution_op, _jit_compiled_convolution_op while saving (showing 3 of 3). These functions will not be directly callable after loading.\n"
     ]
    },
    {
     "name": "stdout",
     "output_type": "stream",
     "text": [
      "INFO:tensorflow:Assets written to: /home/oscar47/Desktop/P-ai/p-music/CNN_oscar/wandb/run-20221123_214751-zbsm5r0y/files/model-best/assets\n"
     ]
    },
    {
     "name": "stderr",
     "output_type": "stream",
     "text": [
      "INFO:tensorflow:Assets written to: /home/oscar47/Desktop/P-ai/p-music/CNN_oscar/wandb/run-20221123_214751-zbsm5r0y/files/model-best/assets\n",
      "\u001b[34m\u001b[1mwandb\u001b[0m: Adding directory to artifact (/home/oscar47/Desktop/P-ai/p-music/CNN_oscar/wandb/run-20221123_214751-zbsm5r0y/files/model-best)... Done. 0.5s\n"
     ]
    },
    {
     "name": "stdout",
     "output_type": "stream",
     "text": [
      "12/12 [==============================] - 37s 3s/step - loss: 1268.3878 - val_loss: 796.8627\n",
      "Epoch 7/27\n",
      "12/12 [==============================] - ETA: 0s - loss: 363.3569"
     ]
    },
    {
     "name": "stderr",
     "output_type": "stream",
     "text": [
      "WARNING:absl:Found untraced functions such as _jit_compiled_convolution_op, _jit_compiled_convolution_op, _jit_compiled_convolution_op while saving (showing 3 of 3). These functions will not be directly callable after loading.\n"
     ]
    },
    {
     "name": "stdout",
     "output_type": "stream",
     "text": [
      "INFO:tensorflow:Assets written to: /home/oscar47/Desktop/P-ai/p-music/CNN_oscar/wandb/run-20221123_214751-zbsm5r0y/files/model-best/assets\n"
     ]
    },
    {
     "name": "stderr",
     "output_type": "stream",
     "text": [
      "INFO:tensorflow:Assets written to: /home/oscar47/Desktop/P-ai/p-music/CNN_oscar/wandb/run-20221123_214751-zbsm5r0y/files/model-best/assets\n",
      "\u001b[34m\u001b[1mwandb\u001b[0m: Adding directory to artifact (/home/oscar47/Desktop/P-ai/p-music/CNN_oscar/wandb/run-20221123_214751-zbsm5r0y/files/model-best)... Done. 0.5s\n"
     ]
    },
    {
     "name": "stdout",
     "output_type": "stream",
     "text": [
      "12/12 [==============================] - 37s 3s/step - loss: 363.3569 - val_loss: 81.7730\n",
      "Epoch 8/27\n",
      "12/12 [==============================] - ETA: 0s - loss: 127.7200"
     ]
    },
    {
     "name": "stderr",
     "output_type": "stream",
     "text": [
      "WARNING:absl:Found untraced functions such as _jit_compiled_convolution_op, _jit_compiled_convolution_op, _jit_compiled_convolution_op while saving (showing 3 of 3). These functions will not be directly callable after loading.\n"
     ]
    },
    {
     "name": "stdout",
     "output_type": "stream",
     "text": [
      "INFO:tensorflow:Assets written to: /home/oscar47/Desktop/P-ai/p-music/CNN_oscar/wandb/run-20221123_214751-zbsm5r0y/files/model-best/assets\n"
     ]
    },
    {
     "name": "stderr",
     "output_type": "stream",
     "text": [
      "INFO:tensorflow:Assets written to: /home/oscar47/Desktop/P-ai/p-music/CNN_oscar/wandb/run-20221123_214751-zbsm5r0y/files/model-best/assets\n",
      "\u001b[34m\u001b[1mwandb\u001b[0m: Adding directory to artifact (/home/oscar47/Desktop/P-ai/p-music/CNN_oscar/wandb/run-20221123_214751-zbsm5r0y/files/model-best)... Done. 0.5s\n"
     ]
    },
    {
     "name": "stdout",
     "output_type": "stream",
     "text": [
      "12/12 [==============================] - 37s 3s/step - loss: 127.7200 - val_loss: 39.5753\n",
      "Epoch 9/27\n",
      "12/12 [==============================] - ETA: 0s - loss: 50.2330"
     ]
    },
    {
     "name": "stderr",
     "output_type": "stream",
     "text": [
      "WARNING:absl:Found untraced functions such as _jit_compiled_convolution_op, _jit_compiled_convolution_op, _jit_compiled_convolution_op while saving (showing 3 of 3). These functions will not be directly callable after loading.\n"
     ]
    },
    {
     "name": "stdout",
     "output_type": "stream",
     "text": [
      "INFO:tensorflow:Assets written to: /home/oscar47/Desktop/P-ai/p-music/CNN_oscar/wandb/run-20221123_214751-zbsm5r0y/files/model-best/assets\n"
     ]
    },
    {
     "name": "stderr",
     "output_type": "stream",
     "text": [
      "INFO:tensorflow:Assets written to: /home/oscar47/Desktop/P-ai/p-music/CNN_oscar/wandb/run-20221123_214751-zbsm5r0y/files/model-best/assets\n",
      "\u001b[34m\u001b[1mwandb\u001b[0m: Adding directory to artifact (/home/oscar47/Desktop/P-ai/p-music/CNN_oscar/wandb/run-20221123_214751-zbsm5r0y/files/model-best)... Done. 0.4s\n"
     ]
    },
    {
     "name": "stdout",
     "output_type": "stream",
     "text": [
      "12/12 [==============================] - 37s 3s/step - loss: 50.2330 - val_loss: 33.3812\n",
      "Epoch 10/27\n",
      "12/12 [==============================] - ETA: 0s - loss: 25.8468"
     ]
    },
    {
     "name": "stderr",
     "output_type": "stream",
     "text": [
      "WARNING:absl:Found untraced functions such as _jit_compiled_convolution_op, _jit_compiled_convolution_op, _jit_compiled_convolution_op while saving (showing 3 of 3). These functions will not be directly callable after loading.\n"
     ]
    },
    {
     "name": "stdout",
     "output_type": "stream",
     "text": [
      "INFO:tensorflow:Assets written to: /home/oscar47/Desktop/P-ai/p-music/CNN_oscar/wandb/run-20221123_214751-zbsm5r0y/files/model-best/assets\n"
     ]
    },
    {
     "name": "stderr",
     "output_type": "stream",
     "text": [
      "INFO:tensorflow:Assets written to: /home/oscar47/Desktop/P-ai/p-music/CNN_oscar/wandb/run-20221123_214751-zbsm5r0y/files/model-best/assets\n",
      "\u001b[34m\u001b[1mwandb\u001b[0m: Adding directory to artifact (/home/oscar47/Desktop/P-ai/p-music/CNN_oscar/wandb/run-20221123_214751-zbsm5r0y/files/model-best)... Done. 0.4s\n"
     ]
    },
    {
     "name": "stdout",
     "output_type": "stream",
     "text": [
      "12/12 [==============================] - 37s 3s/step - loss: 25.8468 - val_loss: 19.1502\n",
      "Epoch 11/27\n",
      "12/12 [==============================] - ETA: 0s - loss: 21.4301"
     ]
    },
    {
     "name": "stderr",
     "output_type": "stream",
     "text": [
      "WARNING:absl:Found untraced functions such as _jit_compiled_convolution_op, _jit_compiled_convolution_op, _jit_compiled_convolution_op while saving (showing 3 of 3). These functions will not be directly callable after loading.\n"
     ]
    },
    {
     "name": "stdout",
     "output_type": "stream",
     "text": [
      "INFO:tensorflow:Assets written to: /home/oscar47/Desktop/P-ai/p-music/CNN_oscar/wandb/run-20221123_214751-zbsm5r0y/files/model-best/assets\n"
     ]
    },
    {
     "name": "stderr",
     "output_type": "stream",
     "text": [
      "INFO:tensorflow:Assets written to: /home/oscar47/Desktop/P-ai/p-music/CNN_oscar/wandb/run-20221123_214751-zbsm5r0y/files/model-best/assets\n",
      "\u001b[34m\u001b[1mwandb\u001b[0m: Adding directory to artifact (/home/oscar47/Desktop/P-ai/p-music/CNN_oscar/wandb/run-20221123_214751-zbsm5r0y/files/model-best)... Done. 0.4s\n"
     ]
    },
    {
     "name": "stdout",
     "output_type": "stream",
     "text": [
      "12/12 [==============================] - 37s 3s/step - loss: 21.4301 - val_loss: 18.2315\n",
      "Epoch 12/27\n",
      "12/12 [==============================] - ETA: 0s - loss: 20.5230"
     ]
    },
    {
     "name": "stderr",
     "output_type": "stream",
     "text": [
      "WARNING:absl:Found untraced functions such as _jit_compiled_convolution_op, _jit_compiled_convolution_op, _jit_compiled_convolution_op while saving (showing 3 of 3). These functions will not be directly callable after loading.\n"
     ]
    },
    {
     "name": "stdout",
     "output_type": "stream",
     "text": [
      "INFO:tensorflow:Assets written to: /home/oscar47/Desktop/P-ai/p-music/CNN_oscar/wandb/run-20221123_214751-zbsm5r0y/files/model-best/assets\n"
     ]
    },
    {
     "name": "stderr",
     "output_type": "stream",
     "text": [
      "INFO:tensorflow:Assets written to: /home/oscar47/Desktop/P-ai/p-music/CNN_oscar/wandb/run-20221123_214751-zbsm5r0y/files/model-best/assets\n",
      "\u001b[34m\u001b[1mwandb\u001b[0m: Adding directory to artifact (/home/oscar47/Desktop/P-ai/p-music/CNN_oscar/wandb/run-20221123_214751-zbsm5r0y/files/model-best)... Done. 0.5s\n"
     ]
    },
    {
     "name": "stdout",
     "output_type": "stream",
     "text": [
      "12/12 [==============================] - 37s 3s/step - loss: 20.5230 - val_loss: 16.0962\n",
      "Epoch 13/27\n",
      "12/12 [==============================] - ETA: 0s - loss: 17.2374"
     ]
    },
    {
     "name": "stderr",
     "output_type": "stream",
     "text": [
      "WARNING:absl:Found untraced functions such as _jit_compiled_convolution_op, _jit_compiled_convolution_op, _jit_compiled_convolution_op while saving (showing 3 of 3). These functions will not be directly callable after loading.\n"
     ]
    },
    {
     "name": "stdout",
     "output_type": "stream",
     "text": [
      "INFO:tensorflow:Assets written to: /home/oscar47/Desktop/P-ai/p-music/CNN_oscar/wandb/run-20221123_214751-zbsm5r0y/files/model-best/assets\n"
     ]
    },
    {
     "name": "stderr",
     "output_type": "stream",
     "text": [
      "INFO:tensorflow:Assets written to: /home/oscar47/Desktop/P-ai/p-music/CNN_oscar/wandb/run-20221123_214751-zbsm5r0y/files/model-best/assets\n",
      "\u001b[34m\u001b[1mwandb\u001b[0m: Adding directory to artifact (/home/oscar47/Desktop/P-ai/p-music/CNN_oscar/wandb/run-20221123_214751-zbsm5r0y/files/model-best)... Done. 0.5s\n"
     ]
    },
    {
     "name": "stdout",
     "output_type": "stream",
     "text": [
      "12/12 [==============================] - 37s 3s/step - loss: 17.2374 - val_loss: 14.0333\n",
      "Epoch 14/27\n",
      "12/12 [==============================] - ETA: 0s - loss: 15.5845"
     ]
    },
    {
     "name": "stderr",
     "output_type": "stream",
     "text": [
      "WARNING:absl:Found untraced functions such as _jit_compiled_convolution_op, _jit_compiled_convolution_op, _jit_compiled_convolution_op while saving (showing 3 of 3). These functions will not be directly callable after loading.\n"
     ]
    },
    {
     "name": "stdout",
     "output_type": "stream",
     "text": [
      "INFO:tensorflow:Assets written to: /home/oscar47/Desktop/P-ai/p-music/CNN_oscar/wandb/run-20221123_214751-zbsm5r0y/files/model-best/assets\n"
     ]
    },
    {
     "name": "stderr",
     "output_type": "stream",
     "text": [
      "INFO:tensorflow:Assets written to: /home/oscar47/Desktop/P-ai/p-music/CNN_oscar/wandb/run-20221123_214751-zbsm5r0y/files/model-best/assets\n",
      "\u001b[34m\u001b[1mwandb\u001b[0m: Adding directory to artifact (/home/oscar47/Desktop/P-ai/p-music/CNN_oscar/wandb/run-20221123_214751-zbsm5r0y/files/model-best)... Done. 0.5s\n"
     ]
    },
    {
     "name": "stdout",
     "output_type": "stream",
     "text": [
      "12/12 [==============================] - 37s 3s/step - loss: 15.5845 - val_loss: 12.9815\n",
      "Epoch 15/27\n",
      "12/12 [==============================] - ETA: 0s - loss: 13.7856"
     ]
    },
    {
     "name": "stderr",
     "output_type": "stream",
     "text": [
      "WARNING:absl:Found untraced functions such as _jit_compiled_convolution_op, _jit_compiled_convolution_op, _jit_compiled_convolution_op while saving (showing 3 of 3). These functions will not be directly callable after loading.\n"
     ]
    },
    {
     "name": "stdout",
     "output_type": "stream",
     "text": [
      "INFO:tensorflow:Assets written to: /home/oscar47/Desktop/P-ai/p-music/CNN_oscar/wandb/run-20221123_214751-zbsm5r0y/files/model-best/assets\n"
     ]
    },
    {
     "name": "stderr",
     "output_type": "stream",
     "text": [
      "INFO:tensorflow:Assets written to: /home/oscar47/Desktop/P-ai/p-music/CNN_oscar/wandb/run-20221123_214751-zbsm5r0y/files/model-best/assets\n",
      "\u001b[34m\u001b[1mwandb\u001b[0m: Adding directory to artifact (/home/oscar47/Desktop/P-ai/p-music/CNN_oscar/wandb/run-20221123_214751-zbsm5r0y/files/model-best)... Done. 0.5s\n"
     ]
    },
    {
     "name": "stdout",
     "output_type": "stream",
     "text": [
      "12/12 [==============================] - 37s 3s/step - loss: 13.7856 - val_loss: 12.0303\n",
      "Epoch 16/27\n",
      "12/12 [==============================] - ETA: 0s - loss: 15.2449"
     ]
    },
    {
     "name": "stderr",
     "output_type": "stream",
     "text": [
      "WARNING:absl:Found untraced functions such as _jit_compiled_convolution_op, _jit_compiled_convolution_op, _jit_compiled_convolution_op while saving (showing 3 of 3). These functions will not be directly callable after loading.\n"
     ]
    },
    {
     "name": "stdout",
     "output_type": "stream",
     "text": [
      "INFO:tensorflow:Assets written to: /home/oscar47/Desktop/P-ai/p-music/CNN_oscar/wandb/run-20221123_214751-zbsm5r0y/files/model-best/assets\n"
     ]
    },
    {
     "name": "stderr",
     "output_type": "stream",
     "text": [
      "INFO:tensorflow:Assets written to: /home/oscar47/Desktop/P-ai/p-music/CNN_oscar/wandb/run-20221123_214751-zbsm5r0y/files/model-best/assets\n",
      "\u001b[34m\u001b[1mwandb\u001b[0m: Adding directory to artifact (/home/oscar47/Desktop/P-ai/p-music/CNN_oscar/wandb/run-20221123_214751-zbsm5r0y/files/model-best)... Done. 0.5s\n"
     ]
    },
    {
     "name": "stdout",
     "output_type": "stream",
     "text": [
      "12/12 [==============================] - 37s 3s/step - loss: 15.2449 - val_loss: 10.3655\n",
      "Epoch 17/27\n",
      "12/12 [==============================] - ETA: 0s - loss: 10.7788"
     ]
    },
    {
     "name": "stderr",
     "output_type": "stream",
     "text": [
      "WARNING:absl:Found untraced functions such as _jit_compiled_convolution_op, _jit_compiled_convolution_op, _jit_compiled_convolution_op while saving (showing 3 of 3). These functions will not be directly callable after loading.\n"
     ]
    },
    {
     "name": "stdout",
     "output_type": "stream",
     "text": [
      "INFO:tensorflow:Assets written to: /home/oscar47/Desktop/P-ai/p-music/CNN_oscar/wandb/run-20221123_214751-zbsm5r0y/files/model-best/assets\n"
     ]
    },
    {
     "name": "stderr",
     "output_type": "stream",
     "text": [
      "INFO:tensorflow:Assets written to: /home/oscar47/Desktop/P-ai/p-music/CNN_oscar/wandb/run-20221123_214751-zbsm5r0y/files/model-best/assets\n",
      "\u001b[34m\u001b[1mwandb\u001b[0m: Adding directory to artifact (/home/oscar47/Desktop/P-ai/p-music/CNN_oscar/wandb/run-20221123_214751-zbsm5r0y/files/model-best)... Done. 0.5s\n"
     ]
    },
    {
     "name": "stdout",
     "output_type": "stream",
     "text": [
      "12/12 [==============================] - 37s 3s/step - loss: 10.7788 - val_loss: 10.1135\n",
      "Epoch 18/27\n",
      "12/12 [==============================] - 36s 3s/step - loss: 10.1037 - val_loss: 14.8878\n",
      "Epoch 19/27\n",
      "12/12 [==============================] - ETA: 0s - loss: 10.3955"
     ]
    },
    {
     "name": "stderr",
     "output_type": "stream",
     "text": [
      "WARNING:absl:Found untraced functions such as _jit_compiled_convolution_op, _jit_compiled_convolution_op, _jit_compiled_convolution_op while saving (showing 3 of 3). These functions will not be directly callable after loading.\n"
     ]
    },
    {
     "name": "stdout",
     "output_type": "stream",
     "text": [
      "INFO:tensorflow:Assets written to: /home/oscar47/Desktop/P-ai/p-music/CNN_oscar/wandb/run-20221123_214751-zbsm5r0y/files/model-best/assets\n"
     ]
    },
    {
     "name": "stderr",
     "output_type": "stream",
     "text": [
      "INFO:tensorflow:Assets written to: /home/oscar47/Desktop/P-ai/p-music/CNN_oscar/wandb/run-20221123_214751-zbsm5r0y/files/model-best/assets\n",
      "\u001b[34m\u001b[1mwandb\u001b[0m: Adding directory to artifact (/home/oscar47/Desktop/P-ai/p-music/CNN_oscar/wandb/run-20221123_214751-zbsm5r0y/files/model-best)... Done. 0.4s\n"
     ]
    },
    {
     "name": "stdout",
     "output_type": "stream",
     "text": [
      "12/12 [==============================] - 37s 3s/step - loss: 10.3955 - val_loss: 7.5543\n",
      "Epoch 20/27\n",
      "12/12 [==============================] - ETA: 0s - loss: 9.1903"
     ]
    },
    {
     "name": "stderr",
     "output_type": "stream",
     "text": [
      "WARNING:absl:Found untraced functions such as _jit_compiled_convolution_op, _jit_compiled_convolution_op, _jit_compiled_convolution_op while saving (showing 3 of 3). These functions will not be directly callable after loading.\n"
     ]
    },
    {
     "name": "stdout",
     "output_type": "stream",
     "text": [
      "INFO:tensorflow:Assets written to: /home/oscar47/Desktop/P-ai/p-music/CNN_oscar/wandb/run-20221123_214751-zbsm5r0y/files/model-best/assets\n"
     ]
    },
    {
     "name": "stderr",
     "output_type": "stream",
     "text": [
      "INFO:tensorflow:Assets written to: /home/oscar47/Desktop/P-ai/p-music/CNN_oscar/wandb/run-20221123_214751-zbsm5r0y/files/model-best/assets\n",
      "\u001b[34m\u001b[1mwandb\u001b[0m: Adding directory to artifact (/home/oscar47/Desktop/P-ai/p-music/CNN_oscar/wandb/run-20221123_214751-zbsm5r0y/files/model-best)... Done. 0.4s\n"
     ]
    },
    {
     "name": "stdout",
     "output_type": "stream",
     "text": [
      "12/12 [==============================] - 37s 3s/step - loss: 9.1903 - val_loss: 6.7205\n",
      "Epoch 21/27\n",
      "12/12 [==============================] - 36s 3s/step - loss: 10.2319 - val_loss: 7.6657\n",
      "Epoch 22/27\n",
      "12/12 [==============================] - 36s 3s/step - loss: 7.8422 - val_loss: 6.8706\n",
      "Epoch 23/27\n",
      "12/12 [==============================] - ETA: 0s - loss: 6.0528"
     ]
    },
    {
     "name": "stderr",
     "output_type": "stream",
     "text": [
      "WARNING:absl:Found untraced functions such as _jit_compiled_convolution_op, _jit_compiled_convolution_op, _jit_compiled_convolution_op while saving (showing 3 of 3). These functions will not be directly callable after loading.\n"
     ]
    },
    {
     "name": "stdout",
     "output_type": "stream",
     "text": [
      "INFO:tensorflow:Assets written to: /home/oscar47/Desktop/P-ai/p-music/CNN_oscar/wandb/run-20221123_214751-zbsm5r0y/files/model-best/assets\n"
     ]
    },
    {
     "name": "stderr",
     "output_type": "stream",
     "text": [
      "INFO:tensorflow:Assets written to: /home/oscar47/Desktop/P-ai/p-music/CNN_oscar/wandb/run-20221123_214751-zbsm5r0y/files/model-best/assets\n",
      "\u001b[34m\u001b[1mwandb\u001b[0m: Adding directory to artifact (/home/oscar47/Desktop/P-ai/p-music/CNN_oscar/wandb/run-20221123_214751-zbsm5r0y/files/model-best)... Done. 0.5s\n"
     ]
    },
    {
     "name": "stdout",
     "output_type": "stream",
     "text": [
      "12/12 [==============================] - 37s 3s/step - loss: 6.0528 - val_loss: 6.5244\n",
      "Epoch 24/27\n",
      "12/12 [==============================] - ETA: 0s - loss: 6.7768"
     ]
    },
    {
     "name": "stderr",
     "output_type": "stream",
     "text": [
      "WARNING:absl:Found untraced functions such as _jit_compiled_convolution_op, _jit_compiled_convolution_op, _jit_compiled_convolution_op while saving (showing 3 of 3). These functions will not be directly callable after loading.\n"
     ]
    },
    {
     "name": "stdout",
     "output_type": "stream",
     "text": [
      "INFO:tensorflow:Assets written to: /home/oscar47/Desktop/P-ai/p-music/CNN_oscar/wandb/run-20221123_214751-zbsm5r0y/files/model-best/assets\n"
     ]
    },
    {
     "name": "stderr",
     "output_type": "stream",
     "text": [
      "INFO:tensorflow:Assets written to: /home/oscar47/Desktop/P-ai/p-music/CNN_oscar/wandb/run-20221123_214751-zbsm5r0y/files/model-best/assets\n",
      "\u001b[34m\u001b[1mwandb\u001b[0m: Adding directory to artifact (/home/oscar47/Desktop/P-ai/p-music/CNN_oscar/wandb/run-20221123_214751-zbsm5r0y/files/model-best)... Done. 0.5s\n"
     ]
    },
    {
     "name": "stdout",
     "output_type": "stream",
     "text": [
      "12/12 [==============================] - 37s 3s/step - loss: 6.7768 - val_loss: 5.4640\n",
      "Epoch 25/27\n",
      "12/12 [==============================] - ETA: 0s - loss: 5.9124"
     ]
    },
    {
     "name": "stderr",
     "output_type": "stream",
     "text": [
      "WARNING:absl:Found untraced functions such as _jit_compiled_convolution_op, _jit_compiled_convolution_op, _jit_compiled_convolution_op while saving (showing 3 of 3). These functions will not be directly callable after loading.\n"
     ]
    },
    {
     "name": "stdout",
     "output_type": "stream",
     "text": [
      "INFO:tensorflow:Assets written to: /home/oscar47/Desktop/P-ai/p-music/CNN_oscar/wandb/run-20221123_214751-zbsm5r0y/files/model-best/assets\n"
     ]
    },
    {
     "name": "stderr",
     "output_type": "stream",
     "text": [
      "INFO:tensorflow:Assets written to: /home/oscar47/Desktop/P-ai/p-music/CNN_oscar/wandb/run-20221123_214751-zbsm5r0y/files/model-best/assets\n",
      "\u001b[34m\u001b[1mwandb\u001b[0m: Adding directory to artifact (/home/oscar47/Desktop/P-ai/p-music/CNN_oscar/wandb/run-20221123_214751-zbsm5r0y/files/model-best)... Done. 0.4s\n"
     ]
    },
    {
     "name": "stdout",
     "output_type": "stream",
     "text": [
      "12/12 [==============================] - 37s 3s/step - loss: 5.9124 - val_loss: 4.4799\n",
      "Epoch 26/27\n",
      "12/12 [==============================] - 36s 3s/step - loss: 4.1866 - val_loss: 4.6931\n",
      "Epoch 27/27\n",
      "12/12 [==============================] - ETA: 0s - loss: 4.1605"
     ]
    },
    {
     "name": "stderr",
     "output_type": "stream",
     "text": [
      "WARNING:absl:Found untraced functions such as _jit_compiled_convolution_op, _jit_compiled_convolution_op, _jit_compiled_convolution_op while saving (showing 3 of 3). These functions will not be directly callable after loading.\n"
     ]
    },
    {
     "name": "stdout",
     "output_type": "stream",
     "text": [
      "INFO:tensorflow:Assets written to: /home/oscar47/Desktop/P-ai/p-music/CNN_oscar/wandb/run-20221123_214751-zbsm5r0y/files/model-best/assets\n"
     ]
    },
    {
     "name": "stderr",
     "output_type": "stream",
     "text": [
      "INFO:tensorflow:Assets written to: /home/oscar47/Desktop/P-ai/p-music/CNN_oscar/wandb/run-20221123_214751-zbsm5r0y/files/model-best/assets\n",
      "\u001b[34m\u001b[1mwandb\u001b[0m: Adding directory to artifact (/home/oscar47/Desktop/P-ai/p-music/CNN_oscar/wandb/run-20221123_214751-zbsm5r0y/files/model-best)... Done. 0.4s\n"
     ]
    },
    {
     "name": "stdout",
     "output_type": "stream",
     "text": [
      "12/12 [==============================] - 37s 3s/step - loss: 4.1605 - val_loss: 3.6128\n"
     ]
    },
    {
     "data": {
      "text/html": [
       "Waiting for W&B process to finish... <strong style=\"color:green\">(success).</strong>"
      ],
      "text/plain": [
       "<IPython.core.display.HTML object>"
      ]
     },
     "metadata": {},
     "output_type": "display_data"
    },
    {
     "data": {
      "text/html": [
       "<style>\n",
       "    table.wandb td:nth-child(1) { padding: 0 10px; text-align: left ; width: auto;} td:nth-child(2) {text-align: left ; width: 100%}\n",
       "    .wandb-row { display: flex; flex-direction: row; flex-wrap: wrap; justify-content: flex-start; width: 100% }\n",
       "    .wandb-col { display: flex; flex-direction: column; flex-basis: 100%; flex: 1; padding: 10px; }\n",
       "    </style>\n",
       "<div class=\"wandb-row\"><div class=\"wandb-col\"><h3>Run history:</h3><br/><table class=\"wandb\"><tr><td>epoch</td><td>▁▁▂▂▂▂▃▃▃▃▄▄▄▅▅▅▅▆▆▆▆▇▇▇▇██</td></tr><tr><td>loss</td><td>█▁▁▁▁▁▁▁▁▁▁▁▁▁▁▁▁▁▁▁▁▁▁▁▁▁▁</td></tr><tr><td>val_loss</td><td>▁▄█▂▂▁▁▁▁▁▁▁▁▁▁▁▁▁▁▁▁▁▁▁▁▁▁</td></tr></table><br/></div><div class=\"wandb-col\"><h3>Run summary:</h3><br/><table class=\"wandb\"><tr><td>best_epoch</td><td>26</td></tr><tr><td>best_val_loss</td><td>3.61281</td></tr><tr><td>epoch</td><td>26</td></tr><tr><td>loss</td><td>4.16047</td></tr><tr><td>val_loss</td><td>3.61281</td></tr></table><br/></div></div>"
      ],
      "text/plain": [
       "<IPython.core.display.HTML object>"
      ]
     },
     "metadata": {},
     "output_type": "display_data"
    },
    {
     "data": {
      "text/html": [
       "Synced <strong style=\"color:#cdcd00\">clear-sweep-22</strong>: <a href=\"https://wandb.ai/p-ai/Oscar%20CNN1/runs/zbsm5r0y\" target=\"_blank\">https://wandb.ai/p-ai/Oscar%20CNN1/runs/zbsm5r0y</a><br/>Synced 6 W&B file(s), 1 media file(s), 77 artifact file(s) and 1 other file(s)"
      ],
      "text/plain": [
       "<IPython.core.display.HTML object>"
      ]
     },
     "metadata": {},
     "output_type": "display_data"
    },
    {
     "data": {
      "text/html": [
       "Find logs at: <code>./wandb/run-20221123_214751-zbsm5r0y/logs</code>"
      ],
      "text/plain": [
       "<IPython.core.display.HTML object>"
      ]
     },
     "metadata": {},
     "output_type": "display_data"
    },
    {
     "name": "stderr",
     "output_type": "stream",
     "text": [
      "\u001b[34m\u001b[1mwandb\u001b[0m: Agent Starting Run: vyclhasf with config:\n",
      "\u001b[34m\u001b[1mwandb\u001b[0m: \tbatch_size: 64\n",
      "\u001b[34m\u001b[1mwandb\u001b[0m: \tdense1: 86\n",
      "\u001b[34m\u001b[1mwandb\u001b[0m: \tepochs: 19\n",
      "\u001b[34m\u001b[1mwandb\u001b[0m: \tlearning_rate: 0.03335493614671283\n",
      "\u001b[34m\u001b[1mwandb\u001b[0m: \tsize_1: 222\n",
      "\u001b[34m\u001b[1mwandb\u001b[0m: \tsize_2: 89\n",
      "\u001b[34m\u001b[1mwandb\u001b[0m: \tsize_3: 206\n"
     ]
    },
    {
     "data": {
      "text/html": [
       "Tracking run with wandb version 0.13.5"
      ],
      "text/plain": [
       "<IPython.core.display.HTML object>"
      ]
     },
     "metadata": {},
     "output_type": "display_data"
    },
    {
     "data": {
      "text/html": [
       "Run data is saved locally in <code>/home/oscar47/Desktop/P-ai/p-music/CNN_oscar/wandb/run-20221123_220452-vyclhasf</code>"
      ],
      "text/plain": [
       "<IPython.core.display.HTML object>"
      ]
     },
     "metadata": {},
     "output_type": "display_data"
    },
    {
     "data": {
      "text/html": [
       "Syncing run <strong><a href=\"https://wandb.ai/p-ai/Oscar%20CNN1/runs/vyclhasf\" target=\"_blank\">desert-sweep-23</a></strong> to <a href=\"https://wandb.ai/p-ai/Oscar%20CNN1\" target=\"_blank\">Weights & Biases</a> (<a href=\"https://wandb.me/run\" target=\"_blank\">docs</a>)<br/>Sweep page:  <a href=\"https://wandb.ai/p-ai/Oscar%20CNN1/sweeps/wsxqxjvp\" target=\"_blank\">https://wandb.ai/p-ai/Oscar%20CNN1/sweeps/wsxqxjvp</a>"
      ],
      "text/plain": [
       "<IPython.core.display.HTML object>"
      ]
     },
     "metadata": {},
     "output_type": "display_data"
    },
    {
     "name": "stdout",
     "output_type": "stream",
     "text": [
      "Epoch 1/19\n",
      "23/23 [==============================] - ETA: 0s - loss: 6251287040.0000"
     ]
    },
    {
     "name": "stderr",
     "output_type": "stream",
     "text": [
      "WARNING:absl:Found untraced functions such as _jit_compiled_convolution_op, _jit_compiled_convolution_op, _jit_compiled_convolution_op while saving (showing 3 of 3). These functions will not be directly callable after loading.\n"
     ]
    },
    {
     "name": "stdout",
     "output_type": "stream",
     "text": [
      "INFO:tensorflow:Assets written to: /home/oscar47/Desktop/P-ai/p-music/CNN_oscar/wandb/run-20221123_220452-vyclhasf/files/model-best/assets\n"
     ]
    },
    {
     "name": "stderr",
     "output_type": "stream",
     "text": [
      "INFO:tensorflow:Assets written to: /home/oscar47/Desktop/P-ai/p-music/CNN_oscar/wandb/run-20221123_220452-vyclhasf/files/model-best/assets\n",
      "\u001b[34m\u001b[1mwandb\u001b[0m: Adding directory to artifact (/home/oscar47/Desktop/P-ai/p-music/CNN_oscar/wandb/run-20221123_220452-vyclhasf/files/model-best)... Done. 0.2s\n"
     ]
    },
    {
     "name": "stdout",
     "output_type": "stream",
     "text": [
      "23/23 [==============================] - 37s 2s/step - loss: 6251287040.0000 - val_loss: 0.9359\n",
      "Epoch 2/19\n",
      "23/23 [==============================] - 35s 2s/step - loss: 92.8174 - val_loss: 0.9445\n",
      "Epoch 3/19\n",
      "23/23 [==============================] - 34s 1s/step - loss: 0.9459 - val_loss: 0.9452\n",
      "Epoch 4/19\n",
      "23/23 [==============================] - 35s 2s/step - loss: 0.9462 - val_loss: 0.9452\n",
      "Epoch 5/19\n",
      "23/23 [==============================] - 34s 1s/step - loss: 0.9461 - val_loss: 0.9452\n",
      "Epoch 6/19\n",
      "23/23 [==============================] - 35s 2s/step - loss: 0.9461 - val_loss: 0.9451\n",
      "Epoch 7/19\n",
      "23/23 [==============================] - 34s 2s/step - loss: 0.9460 - val_loss: 0.9450\n",
      "Epoch 8/19\n",
      "23/23 [==============================] - 35s 2s/step - loss: 0.9459 - val_loss: 0.9450\n",
      "Epoch 9/19\n",
      "23/23 [==============================] - 35s 2s/step - loss: 0.9458 - val_loss: 0.9449\n",
      "Epoch 10/19\n",
      "23/23 [==============================] - 34s 2s/step - loss: 0.9458 - val_loss: 0.9448\n",
      "Epoch 11/19\n",
      "23/23 [==============================] - 34s 1s/step - loss: 0.9457 - val_loss: 0.9447\n",
      "Epoch 12/19\n",
      "23/23 [==============================] - 34s 2s/step - loss: 0.9456 - val_loss: 0.9446\n",
      "Epoch 13/19\n",
      "23/23 [==============================] - 35s 2s/step - loss: 0.9455 - val_loss: 0.9445\n",
      "Epoch 14/19\n",
      "23/23 [==============================] - 34s 2s/step - loss: 0.9454 - val_loss: 0.9444\n",
      "Epoch 15/19\n",
      "23/23 [==============================] - 34s 1s/step - loss: 0.9452 - val_loss: 0.9443\n",
      "Epoch 16/19\n",
      "23/23 [==============================] - 34s 1s/step - loss: 0.9451 - val_loss: 0.9441\n",
      "Epoch 17/19\n",
      "23/23 [==============================] - 34s 1s/step - loss: 0.9450 - val_loss: 0.9440\n",
      "Epoch 18/19\n",
      "23/23 [==============================] - 34s 1s/step - loss: 0.9449 - val_loss: 0.9439\n",
      "Epoch 19/19\n",
      "23/23 [==============================] - 34s 2s/step - loss: 0.9447 - val_loss: 0.9437\n"
     ]
    },
    {
     "data": {
      "text/html": [
       "Waiting for W&B process to finish... <strong style=\"color:green\">(success).</strong>"
      ],
      "text/plain": [
       "<IPython.core.display.HTML object>"
      ]
     },
     "metadata": {},
     "output_type": "display_data"
    },
    {
     "data": {
      "text/html": [
       "<style>\n",
       "    table.wandb td:nth-child(1) { padding: 0 10px; text-align: left ; width: auto;} td:nth-child(2) {text-align: left ; width: 100%}\n",
       "    .wandb-row { display: flex; flex-direction: row; flex-wrap: wrap; justify-content: flex-start; width: 100% }\n",
       "    .wandb-col { display: flex; flex-direction: column; flex-basis: 100%; flex: 1; padding: 10px; }\n",
       "    </style>\n",
       "<div class=\"wandb-row\"><div class=\"wandb-col\"><h3>Run history:</h3><br/><table class=\"wandb\"><tr><td>epoch</td><td>▁▁▂▂▃▃▃▄▄▅▅▅▆▆▆▇▇██</td></tr><tr><td>loss</td><td>█▁▁▁▁▁▁▁▁▁▁▁▁▁▁▁▁▁▁</td></tr><tr><td>val_loss</td><td>▁▇██████████▇▇▇▇▇▇▇</td></tr></table><br/></div><div class=\"wandb-col\"><h3>Run summary:</h3><br/><table class=\"wandb\"><tr><td>best_epoch</td><td>0</td></tr><tr><td>best_val_loss</td><td>0.93587</td></tr><tr><td>epoch</td><td>18</td></tr><tr><td>loss</td><td>0.94474</td></tr><tr><td>val_loss</td><td>0.94375</td></tr></table><br/></div></div>"
      ],
      "text/plain": [
       "<IPython.core.display.HTML object>"
      ]
     },
     "metadata": {},
     "output_type": "display_data"
    },
    {
     "data": {
      "text/html": [
       "Synced <strong style=\"color:#cdcd00\">desert-sweep-23</strong>: <a href=\"https://wandb.ai/p-ai/Oscar%20CNN1/runs/vyclhasf\" target=\"_blank\">https://wandb.ai/p-ai/Oscar%20CNN1/runs/vyclhasf</a><br/>Synced 6 W&B file(s), 1 media file(s), 5 artifact file(s) and 1 other file(s)"
      ],
      "text/plain": [
       "<IPython.core.display.HTML object>"
      ]
     },
     "metadata": {},
     "output_type": "display_data"
    },
    {
     "data": {
      "text/html": [
       "Find logs at: <code>./wandb/run-20221123_220452-vyclhasf/logs</code>"
      ],
      "text/plain": [
       "<IPython.core.display.HTML object>"
      ]
     },
     "metadata": {},
     "output_type": "display_data"
    },
    {
     "name": "stderr",
     "output_type": "stream",
     "text": [
      "\u001b[34m\u001b[1mwandb\u001b[0m: Agent Starting Run: 41vw7p7o with config:\n",
      "\u001b[34m\u001b[1mwandb\u001b[0m: \tbatch_size: 32\n",
      "\u001b[34m\u001b[1mwandb\u001b[0m: \tdense1: 69\n",
      "\u001b[34m\u001b[1mwandb\u001b[0m: \tepochs: 24\n",
      "\u001b[34m\u001b[1mwandb\u001b[0m: \tlearning_rate: 0.0984811338141238\n",
      "\u001b[34m\u001b[1mwandb\u001b[0m: \tsize_1: 66\n",
      "\u001b[34m\u001b[1mwandb\u001b[0m: \tsize_2: 173\n",
      "\u001b[34m\u001b[1mwandb\u001b[0m: \tsize_3: 244\n"
     ]
    },
    {
     "data": {
      "text/html": [
       "Tracking run with wandb version 0.13.5"
      ],
      "text/plain": [
       "<IPython.core.display.HTML object>"
      ]
     },
     "metadata": {},
     "output_type": "display_data"
    },
    {
     "data": {
      "text/html": [
       "Run data is saved locally in <code>/home/oscar47/Desktop/P-ai/p-music/CNN_oscar/wandb/run-20221123_221605-41vw7p7o</code>"
      ],
      "text/plain": [
       "<IPython.core.display.HTML object>"
      ]
     },
     "metadata": {},
     "output_type": "display_data"
    },
    {
     "data": {
      "text/html": [
       "Syncing run <strong><a href=\"https://wandb.ai/p-ai/Oscar%20CNN1/runs/41vw7p7o\" target=\"_blank\">effortless-sweep-24</a></strong> to <a href=\"https://wandb.ai/p-ai/Oscar%20CNN1\" target=\"_blank\">Weights & Biases</a> (<a href=\"https://wandb.me/run\" target=\"_blank\">docs</a>)<br/>Sweep page:  <a href=\"https://wandb.ai/p-ai/Oscar%20CNN1/sweeps/wsxqxjvp\" target=\"_blank\">https://wandb.ai/p-ai/Oscar%20CNN1/sweeps/wsxqxjvp</a>"
      ],
      "text/plain": [
       "<IPython.core.display.HTML object>"
      ]
     },
     "metadata": {},
     "output_type": "display_data"
    },
    {
     "name": "stdout",
     "output_type": "stream",
     "text": [
      "Epoch 1/24\n",
      "45/45 [==============================] - ETA: 0s - loss: 10396209512448.0000"
     ]
    },
    {
     "name": "stderr",
     "output_type": "stream",
     "text": [
      "WARNING:absl:Found untraced functions such as _jit_compiled_convolution_op, _jit_compiled_convolution_op, _jit_compiled_convolution_op while saving (showing 3 of 3). These functions will not be directly callable after loading.\n"
     ]
    },
    {
     "name": "stdout",
     "output_type": "stream",
     "text": [
      "INFO:tensorflow:Assets written to: /home/oscar47/Desktop/P-ai/p-music/CNN_oscar/wandb/run-20221123_221605-41vw7p7o/files/model-best/assets\n"
     ]
    },
    {
     "name": "stderr",
     "output_type": "stream",
     "text": [
      "INFO:tensorflow:Assets written to: /home/oscar47/Desktop/P-ai/p-music/CNN_oscar/wandb/run-20221123_221605-41vw7p7o/files/model-best/assets\n",
      "\u001b[34m\u001b[1mwandb\u001b[0m: Adding directory to artifact (/home/oscar47/Desktop/P-ai/p-music/CNN_oscar/wandb/run-20221123_221605-41vw7p7o/files/model-best)... Done. 0.2s\n"
     ]
    },
    {
     "name": "stdout",
     "output_type": "stream",
     "text": [
      "45/45 [==============================] - 22s 480ms/step - loss: 10396209512448.0000 - val_loss: 3.7008\n",
      "Epoch 2/24\n",
      "45/45 [==============================] - 20s 455ms/step - loss: 3.7367 - val_loss: 3.7447\n",
      "Epoch 3/24\n",
      "45/45 [==============================] - 20s 449ms/step - loss: 3.7465 - val_loss: 3.7445\n",
      "Epoch 4/24\n",
      "45/45 [==============================] - 20s 451ms/step - loss: 3.7459 - val_loss: 3.7437\n",
      "Epoch 5/24\n",
      "45/45 [==============================] - 20s 448ms/step - loss: 3.7450 - val_loss: 3.7427\n",
      "Epoch 6/24\n",
      "45/45 [==============================] - 20s 450ms/step - loss: 3.7439 - val_loss: 3.7416\n",
      "Epoch 7/24\n",
      "45/45 [==============================] - 20s 449ms/step - loss: 3.7428 - val_loss: 3.7404\n",
      "Epoch 8/24\n",
      "45/45 [==============================] - 20s 450ms/step - loss: 3.7415 - val_loss: 3.7391\n",
      "Epoch 9/24\n",
      "45/45 [==============================] - 20s 450ms/step - loss: 3.7402 - val_loss: 3.7376\n",
      "Epoch 10/24\n",
      "45/45 [==============================] - 20s 448ms/step - loss: 3.7387 - val_loss: 3.7361\n",
      "Epoch 11/24\n",
      "45/45 [==============================] - 20s 450ms/step - loss: 3.7371 - val_loss: 3.7345\n",
      "Epoch 12/24\n",
      "45/45 [==============================] - 20s 449ms/step - loss: 3.7355 - val_loss: 3.7328\n",
      "Epoch 13/24\n",
      "45/45 [==============================] - 20s 451ms/step - loss: 3.7337 - val_loss: 3.7310\n",
      "Epoch 14/24\n",
      "45/45 [==============================] - 20s 449ms/step - loss: 3.7319 - val_loss: 3.7291\n",
      "Epoch 15/24\n",
      "45/45 [==============================] - 20s 449ms/step - loss: 3.7300 - val_loss: 3.7272\n",
      "Epoch 16/24\n",
      "45/45 [==============================] - 20s 449ms/step - loss: 3.7279 - val_loss: 3.7251\n",
      "Epoch 17/24\n",
      "45/45 [==============================] - 20s 450ms/step - loss: 3.7258 - val_loss: 3.7229\n",
      "Epoch 18/24\n",
      "45/45 [==============================] - 20s 450ms/step - loss: 3.7236 - val_loss: 3.7207\n",
      "Epoch 19/24\n",
      "45/45 [==============================] - 20s 451ms/step - loss: 3.7213 - val_loss: 3.7183\n",
      "Epoch 20/24\n",
      "45/45 [==============================] - 20s 449ms/step - loss: 3.7189 - val_loss: 3.7159\n",
      "Epoch 21/24\n",
      "45/45 [==============================] - 20s 449ms/step - loss: 3.7164 - val_loss: 3.7134\n",
      "Epoch 22/24\n",
      "45/45 [==============================] - 20s 449ms/step - loss: 3.7139 - val_loss: 3.7107\n",
      "Epoch 23/24\n",
      "45/45 [==============================] - 20s 449ms/step - loss: 3.7112 - val_loss: 3.7080\n",
      "Epoch 24/24\n",
      "45/45 [==============================] - 20s 448ms/step - loss: 3.7084 - val_loss: 3.7052\n"
     ]
    },
    {
     "data": {
      "text/html": [
       "Waiting for W&B process to finish... <strong style=\"color:green\">(success).</strong>"
      ],
      "text/plain": [
       "<IPython.core.display.HTML object>"
      ]
     },
     "metadata": {},
     "output_type": "display_data"
    },
    {
     "data": {
      "text/html": [
       "<style>\n",
       "    table.wandb td:nth-child(1) { padding: 0 10px; text-align: left ; width: auto;} td:nth-child(2) {text-align: left ; width: 100%}\n",
       "    .wandb-row { display: flex; flex-direction: row; flex-wrap: wrap; justify-content: flex-start; width: 100% }\n",
       "    .wandb-col { display: flex; flex-direction: column; flex-basis: 100%; flex: 1; padding: 10px; }\n",
       "    </style>\n",
       "<div class=\"wandb-row\"><div class=\"wandb-col\"><h3>Run history:</h3><br/><table class=\"wandb\"><tr><td>epoch</td><td>▁▁▂▂▂▃▃▃▃▄▄▄▅▅▅▆▆▆▆▇▇▇██</td></tr><tr><td>loss</td><td>█▁▁▁▁▁▁▁▁▁▁▁▁▁▁▁▁▁▁▁▁▁▁▁</td></tr><tr><td>val_loss</td><td>▁█████▇▇▇▇▆▆▆▆▅▅▅▄▄▃▃▃▂▂</td></tr></table><br/></div><div class=\"wandb-col\"><h3>Run summary:</h3><br/><table class=\"wandb\"><tr><td>best_epoch</td><td>0</td></tr><tr><td>best_val_loss</td><td>3.70084</td></tr><tr><td>epoch</td><td>23</td></tr><tr><td>loss</td><td>3.70844</td></tr><tr><td>val_loss</td><td>3.70522</td></tr></table><br/></div></div>"
      ],
      "text/plain": [
       "<IPython.core.display.HTML object>"
      ]
     },
     "metadata": {},
     "output_type": "display_data"
    },
    {
     "data": {
      "text/html": [
       "Synced <strong style=\"color:#cdcd00\">effortless-sweep-24</strong>: <a href=\"https://wandb.ai/p-ai/Oscar%20CNN1/runs/41vw7p7o\" target=\"_blank\">https://wandb.ai/p-ai/Oscar%20CNN1/runs/41vw7p7o</a><br/>Synced 6 W&B file(s), 1 media file(s), 5 artifact file(s) and 1 other file(s)"
      ],
      "text/plain": [
       "<IPython.core.display.HTML object>"
      ]
     },
     "metadata": {},
     "output_type": "display_data"
    },
    {
     "data": {
      "text/html": [
       "Find logs at: <code>./wandb/run-20221123_221605-41vw7p7o/logs</code>"
      ],
      "text/plain": [
       "<IPython.core.display.HTML object>"
      ]
     },
     "metadata": {},
     "output_type": "display_data"
    },
    {
     "name": "stderr",
     "output_type": "stream",
     "text": [
      "\u001b[34m\u001b[1mwandb\u001b[0m: Agent Starting Run: 9e6isdst with config:\n",
      "\u001b[34m\u001b[1mwandb\u001b[0m: \tbatch_size: 96\n",
      "\u001b[34m\u001b[1mwandb\u001b[0m: \tdense1: 89\n",
      "\u001b[34m\u001b[1mwandb\u001b[0m: \tepochs: 22\n",
      "\u001b[34m\u001b[1mwandb\u001b[0m: \tlearning_rate: 0.08362272615480043\n",
      "\u001b[34m\u001b[1mwandb\u001b[0m: \tsize_1: 103\n",
      "\u001b[34m\u001b[1mwandb\u001b[0m: \tsize_2: 72\n",
      "\u001b[34m\u001b[1mwandb\u001b[0m: \tsize_3: 117\n"
     ]
    },
    {
     "data": {
      "text/html": [
       "Tracking run with wandb version 0.13.5"
      ],
      "text/plain": [
       "<IPython.core.display.HTML object>"
      ]
     },
     "metadata": {},
     "output_type": "display_data"
    },
    {
     "data": {
      "text/html": [
       "Run data is saved locally in <code>/home/oscar47/Desktop/P-ai/p-music/CNN_oscar/wandb/run-20221123_222425-9e6isdst</code>"
      ],
      "text/plain": [
       "<IPython.core.display.HTML object>"
      ]
     },
     "metadata": {},
     "output_type": "display_data"
    },
    {
     "data": {
      "text/html": [
       "Syncing run <strong><a href=\"https://wandb.ai/p-ai/Oscar%20CNN1/runs/9e6isdst\" target=\"_blank\">colorful-sweep-25</a></strong> to <a href=\"https://wandb.ai/p-ai/Oscar%20CNN1\" target=\"_blank\">Weights & Biases</a> (<a href=\"https://wandb.me/run\" target=\"_blank\">docs</a>)<br/>Sweep page:  <a href=\"https://wandb.ai/p-ai/Oscar%20CNN1/sweeps/wsxqxjvp\" target=\"_blank\">https://wandb.ai/p-ai/Oscar%20CNN1/sweeps/wsxqxjvp</a>"
      ],
      "text/plain": [
       "<IPython.core.display.HTML object>"
      ]
     },
     "metadata": {},
     "output_type": "display_data"
    },
    {
     "name": "stdout",
     "output_type": "stream",
     "text": [
      "Epoch 1/22\n",
      "15/15 [==============================] - ETA: 0s - loss: 1393114087424.0000"
     ]
    },
    {
     "name": "stderr",
     "output_type": "stream",
     "text": [
      "WARNING:absl:Found untraced functions such as _jit_compiled_convolution_op, _jit_compiled_convolution_op, _jit_compiled_convolution_op while saving (showing 3 of 3). These functions will not be directly callable after loading.\n"
     ]
    },
    {
     "name": "stdout",
     "output_type": "stream",
     "text": [
      "INFO:tensorflow:Assets written to: /home/oscar47/Desktop/P-ai/p-music/CNN_oscar/wandb/run-20221123_222425-9e6isdst/files/model-best/assets\n"
     ]
    },
    {
     "name": "stderr",
     "output_type": "stream",
     "text": [
      "INFO:tensorflow:Assets written to: /home/oscar47/Desktop/P-ai/p-music/CNN_oscar/wandb/run-20221123_222425-9e6isdst/files/model-best/assets\n",
      "\u001b[34m\u001b[1mwandb\u001b[0m: Adding directory to artifact (/home/oscar47/Desktop/P-ai/p-music/CNN_oscar/wandb/run-20221123_222425-9e6isdst/files/model-best)... Done. 0.1s\n"
     ]
    },
    {
     "name": "stdout",
     "output_type": "stream",
     "text": [
      "15/15 [==============================] - 18s 1s/step - loss: 1393114087424.0000 - val_loss: 9219366.0000\n",
      "Epoch 2/22\n",
      "15/15 [==============================] - ETA: 0s - loss: 5536867.0000"
     ]
    },
    {
     "name": "stderr",
     "output_type": "stream",
     "text": [
      "WARNING:absl:Found untraced functions such as _jit_compiled_convolution_op, _jit_compiled_convolution_op, _jit_compiled_convolution_op while saving (showing 3 of 3). These functions will not be directly callable after loading.\n"
     ]
    },
    {
     "name": "stdout",
     "output_type": "stream",
     "text": [
      "INFO:tensorflow:Assets written to: /home/oscar47/Desktop/P-ai/p-music/CNN_oscar/wandb/run-20221123_222425-9e6isdst/files/model-best/assets\n"
     ]
    },
    {
     "name": "stderr",
     "output_type": "stream",
     "text": [
      "INFO:tensorflow:Assets written to: /home/oscar47/Desktop/P-ai/p-music/CNN_oscar/wandb/run-20221123_222425-9e6isdst/files/model-best/assets\n",
      "\u001b[34m\u001b[1mwandb\u001b[0m: Adding directory to artifact (/home/oscar47/Desktop/P-ai/p-music/CNN_oscar/wandb/run-20221123_222425-9e6isdst/files/model-best)... Done. 0.2s\n"
     ]
    },
    {
     "name": "stdout",
     "output_type": "stream",
     "text": [
      "15/15 [==============================] - 17s 1s/step - loss: 5536867.0000 - val_loss: 0.6262\n",
      "Epoch 3/22\n",
      "15/15 [==============================] - ETA: 0s - loss: 0.6119"
     ]
    },
    {
     "name": "stderr",
     "output_type": "stream",
     "text": [
      "WARNING:absl:Found untraced functions such as _jit_compiled_convolution_op, _jit_compiled_convolution_op, _jit_compiled_convolution_op while saving (showing 3 of 3). These functions will not be directly callable after loading.\n"
     ]
    },
    {
     "name": "stdout",
     "output_type": "stream",
     "text": [
      "INFO:tensorflow:Assets written to: /home/oscar47/Desktop/P-ai/p-music/CNN_oscar/wandb/run-20221123_222425-9e6isdst/files/model-best/assets\n"
     ]
    },
    {
     "name": "stderr",
     "output_type": "stream",
     "text": [
      "INFO:tensorflow:Assets written to: /home/oscar47/Desktop/P-ai/p-music/CNN_oscar/wandb/run-20221123_222425-9e6isdst/files/model-best/assets\n",
      "\u001b[34m\u001b[1mwandb\u001b[0m: Adding directory to artifact (/home/oscar47/Desktop/P-ai/p-music/CNN_oscar/wandb/run-20221123_222425-9e6isdst/files/model-best)... Done. 0.1s\n"
     ]
    },
    {
     "name": "stdout",
     "output_type": "stream",
     "text": [
      "15/15 [==============================] - 18s 1s/step - loss: 0.6119 - val_loss: 0.5997\n",
      "Epoch 4/22\n",
      "15/15 [==============================] - ETA: 0s - loss: 0.5964"
     ]
    },
    {
     "name": "stderr",
     "output_type": "stream",
     "text": [
      "WARNING:absl:Found untraced functions such as _jit_compiled_convolution_op, _jit_compiled_convolution_op, _jit_compiled_convolution_op while saving (showing 3 of 3). These functions will not be directly callable after loading.\n"
     ]
    },
    {
     "name": "stdout",
     "output_type": "stream",
     "text": [
      "INFO:tensorflow:Assets written to: /home/oscar47/Desktop/P-ai/p-music/CNN_oscar/wandb/run-20221123_222425-9e6isdst/files/model-best/assets\n"
     ]
    },
    {
     "name": "stderr",
     "output_type": "stream",
     "text": [
      "INFO:tensorflow:Assets written to: /home/oscar47/Desktop/P-ai/p-music/CNN_oscar/wandb/run-20221123_222425-9e6isdst/files/model-best/assets\n",
      "\u001b[34m\u001b[1mwandb\u001b[0m: Adding directory to artifact (/home/oscar47/Desktop/P-ai/p-music/CNN_oscar/wandb/run-20221123_222425-9e6isdst/files/model-best)... Done. 0.1s\n"
     ]
    },
    {
     "name": "stdout",
     "output_type": "stream",
     "text": [
      "15/15 [==============================] - 18s 1s/step - loss: 0.5964 - val_loss: 0.5927\n",
      "Epoch 5/22\n",
      "15/15 [==============================] - ETA: 0s - loss: 0.5924"
     ]
    },
    {
     "name": "stderr",
     "output_type": "stream",
     "text": [
      "WARNING:absl:Found untraced functions such as _jit_compiled_convolution_op, _jit_compiled_convolution_op, _jit_compiled_convolution_op while saving (showing 3 of 3). These functions will not be directly callable after loading.\n"
     ]
    },
    {
     "name": "stdout",
     "output_type": "stream",
     "text": [
      "INFO:tensorflow:Assets written to: /home/oscar47/Desktop/P-ai/p-music/CNN_oscar/wandb/run-20221123_222425-9e6isdst/files/model-best/assets\n"
     ]
    },
    {
     "name": "stderr",
     "output_type": "stream",
     "text": [
      "INFO:tensorflow:Assets written to: /home/oscar47/Desktop/P-ai/p-music/CNN_oscar/wandb/run-20221123_222425-9e6isdst/files/model-best/assets\n",
      "\u001b[34m\u001b[1mwandb\u001b[0m: Adding directory to artifact (/home/oscar47/Desktop/P-ai/p-music/CNN_oscar/wandb/run-20221123_222425-9e6isdst/files/model-best)... Done. 0.1s\n"
     ]
    },
    {
     "name": "stdout",
     "output_type": "stream",
     "text": [
      "15/15 [==============================] - 17s 1s/step - loss: 0.5924 - val_loss: 0.5908\n",
      "Epoch 6/22\n",
      "15/15 [==============================] - ETA: 0s - loss: 0.5912"
     ]
    },
    {
     "name": "stderr",
     "output_type": "stream",
     "text": [
      "WARNING:absl:Found untraced functions such as _jit_compiled_convolution_op, _jit_compiled_convolution_op, _jit_compiled_convolution_op while saving (showing 3 of 3). These functions will not be directly callable after loading.\n"
     ]
    },
    {
     "name": "stdout",
     "output_type": "stream",
     "text": [
      "INFO:tensorflow:Assets written to: /home/oscar47/Desktop/P-ai/p-music/CNN_oscar/wandb/run-20221123_222425-9e6isdst/files/model-best/assets\n"
     ]
    },
    {
     "name": "stderr",
     "output_type": "stream",
     "text": [
      "INFO:tensorflow:Assets written to: /home/oscar47/Desktop/P-ai/p-music/CNN_oscar/wandb/run-20221123_222425-9e6isdst/files/model-best/assets\n",
      "\u001b[34m\u001b[1mwandb\u001b[0m: Adding directory to artifact (/home/oscar47/Desktop/P-ai/p-music/CNN_oscar/wandb/run-20221123_222425-9e6isdst/files/model-best)... Done. 0.2s\n"
     ]
    },
    {
     "name": "stdout",
     "output_type": "stream",
     "text": [
      "15/15 [==============================] - 17s 1s/step - loss: 0.5912 - val_loss: 0.5902\n",
      "Epoch 7/22\n",
      "15/15 [==============================] - ETA: 0s - loss: 0.5907"
     ]
    },
    {
     "name": "stderr",
     "output_type": "stream",
     "text": [
      "WARNING:absl:Found untraced functions such as _jit_compiled_convolution_op, _jit_compiled_convolution_op, _jit_compiled_convolution_op while saving (showing 3 of 3). These functions will not be directly callable after loading.\n"
     ]
    },
    {
     "name": "stdout",
     "output_type": "stream",
     "text": [
      "INFO:tensorflow:Assets written to: /home/oscar47/Desktop/P-ai/p-music/CNN_oscar/wandb/run-20221123_222425-9e6isdst/files/model-best/assets\n"
     ]
    },
    {
     "name": "stderr",
     "output_type": "stream",
     "text": [
      "INFO:tensorflow:Assets written to: /home/oscar47/Desktop/P-ai/p-music/CNN_oscar/wandb/run-20221123_222425-9e6isdst/files/model-best/assets\n",
      "\u001b[34m\u001b[1mwandb\u001b[0m: Adding directory to artifact (/home/oscar47/Desktop/P-ai/p-music/CNN_oscar/wandb/run-20221123_222425-9e6isdst/files/model-best)... Done. 0.1s\n"
     ]
    },
    {
     "name": "stdout",
     "output_type": "stream",
     "text": [
      "15/15 [==============================] - 17s 1s/step - loss: 0.5907 - val_loss: 0.5898\n",
      "Epoch 8/22\n",
      "15/15 [==============================] - ETA: 0s - loss: 0.5904"
     ]
    },
    {
     "name": "stderr",
     "output_type": "stream",
     "text": [
      "WARNING:absl:Found untraced functions such as _jit_compiled_convolution_op, _jit_compiled_convolution_op, _jit_compiled_convolution_op while saving (showing 3 of 3). These functions will not be directly callable after loading.\n"
     ]
    },
    {
     "name": "stdout",
     "output_type": "stream",
     "text": [
      "INFO:tensorflow:Assets written to: /home/oscar47/Desktop/P-ai/p-music/CNN_oscar/wandb/run-20221123_222425-9e6isdst/files/model-best/assets\n"
     ]
    },
    {
     "name": "stderr",
     "output_type": "stream",
     "text": [
      "INFO:tensorflow:Assets written to: /home/oscar47/Desktop/P-ai/p-music/CNN_oscar/wandb/run-20221123_222425-9e6isdst/files/model-best/assets\n",
      "\u001b[34m\u001b[1mwandb\u001b[0m: Adding directory to artifact (/home/oscar47/Desktop/P-ai/p-music/CNN_oscar/wandb/run-20221123_222425-9e6isdst/files/model-best)... Done. 0.1s\n"
     ]
    },
    {
     "name": "stdout",
     "output_type": "stream",
     "text": [
      "15/15 [==============================] - 17s 1s/step - loss: 0.5904 - val_loss: 0.5895\n",
      "Epoch 9/22\n",
      "15/15 [==============================] - ETA: 0s - loss: 0.5900"
     ]
    },
    {
     "name": "stderr",
     "output_type": "stream",
     "text": [
      "WARNING:absl:Found untraced functions such as _jit_compiled_convolution_op, _jit_compiled_convolution_op, _jit_compiled_convolution_op while saving (showing 3 of 3). These functions will not be directly callable after loading.\n"
     ]
    },
    {
     "name": "stdout",
     "output_type": "stream",
     "text": [
      "INFO:tensorflow:Assets written to: /home/oscar47/Desktop/P-ai/p-music/CNN_oscar/wandb/run-20221123_222425-9e6isdst/files/model-best/assets\n"
     ]
    },
    {
     "name": "stderr",
     "output_type": "stream",
     "text": [
      "INFO:tensorflow:Assets written to: /home/oscar47/Desktop/P-ai/p-music/CNN_oscar/wandb/run-20221123_222425-9e6isdst/files/model-best/assets\n",
      "\u001b[34m\u001b[1mwandb\u001b[0m: Adding directory to artifact (/home/oscar47/Desktop/P-ai/p-music/CNN_oscar/wandb/run-20221123_222425-9e6isdst/files/model-best)... Done. 0.1s\n"
     ]
    },
    {
     "name": "stdout",
     "output_type": "stream",
     "text": [
      "15/15 [==============================] - 18s 1s/step - loss: 0.5900 - val_loss: 0.5891\n",
      "Epoch 10/22\n",
      "15/15 [==============================] - ETA: 0s - loss: 0.5897"
     ]
    },
    {
     "name": "stderr",
     "output_type": "stream",
     "text": [
      "WARNING:absl:Found untraced functions such as _jit_compiled_convolution_op, _jit_compiled_convolution_op, _jit_compiled_convolution_op while saving (showing 3 of 3). These functions will not be directly callable after loading.\n"
     ]
    },
    {
     "name": "stdout",
     "output_type": "stream",
     "text": [
      "INFO:tensorflow:Assets written to: /home/oscar47/Desktop/P-ai/p-music/CNN_oscar/wandb/run-20221123_222425-9e6isdst/files/model-best/assets\n"
     ]
    },
    {
     "name": "stderr",
     "output_type": "stream",
     "text": [
      "INFO:tensorflow:Assets written to: /home/oscar47/Desktop/P-ai/p-music/CNN_oscar/wandb/run-20221123_222425-9e6isdst/files/model-best/assets\n",
      "\u001b[34m\u001b[1mwandb\u001b[0m: Adding directory to artifact (/home/oscar47/Desktop/P-ai/p-music/CNN_oscar/wandb/run-20221123_222425-9e6isdst/files/model-best)... Done. 0.1s\n"
     ]
    },
    {
     "name": "stdout",
     "output_type": "stream",
     "text": [
      "15/15 [==============================] - 18s 1s/step - loss: 0.5897 - val_loss: 0.5888\n",
      "Epoch 11/22\n",
      "15/15 [==============================] - ETA: 0s - loss: 0.5893"
     ]
    },
    {
     "name": "stderr",
     "output_type": "stream",
     "text": [
      "WARNING:absl:Found untraced functions such as _jit_compiled_convolution_op, _jit_compiled_convolution_op, _jit_compiled_convolution_op while saving (showing 3 of 3). These functions will not be directly callable after loading.\n"
     ]
    },
    {
     "name": "stdout",
     "output_type": "stream",
     "text": [
      "INFO:tensorflow:Assets written to: /home/oscar47/Desktop/P-ai/p-music/CNN_oscar/wandb/run-20221123_222425-9e6isdst/files/model-best/assets\n"
     ]
    },
    {
     "name": "stderr",
     "output_type": "stream",
     "text": [
      "INFO:tensorflow:Assets written to: /home/oscar47/Desktop/P-ai/p-music/CNN_oscar/wandb/run-20221123_222425-9e6isdst/files/model-best/assets\n",
      "\u001b[34m\u001b[1mwandb\u001b[0m: Adding directory to artifact (/home/oscar47/Desktop/P-ai/p-music/CNN_oscar/wandb/run-20221123_222425-9e6isdst/files/model-best)... Done. 0.1s\n"
     ]
    },
    {
     "name": "stdout",
     "output_type": "stream",
     "text": [
      "15/15 [==============================] - 18s 1s/step - loss: 0.5893 - val_loss: 0.5884\n",
      "Epoch 12/22\n",
      "15/15 [==============================] - ETA: 0s - loss: 0.5889"
     ]
    },
    {
     "name": "stderr",
     "output_type": "stream",
     "text": [
      "WARNING:absl:Found untraced functions such as _jit_compiled_convolution_op, _jit_compiled_convolution_op, _jit_compiled_convolution_op while saving (showing 3 of 3). These functions will not be directly callable after loading.\n"
     ]
    },
    {
     "name": "stdout",
     "output_type": "stream",
     "text": [
      "INFO:tensorflow:Assets written to: /home/oscar47/Desktop/P-ai/p-music/CNN_oscar/wandb/run-20221123_222425-9e6isdst/files/model-best/assets\n"
     ]
    },
    {
     "name": "stderr",
     "output_type": "stream",
     "text": [
      "INFO:tensorflow:Assets written to: /home/oscar47/Desktop/P-ai/p-music/CNN_oscar/wandb/run-20221123_222425-9e6isdst/files/model-best/assets\n",
      "\u001b[34m\u001b[1mwandb\u001b[0m: Adding directory to artifact (/home/oscar47/Desktop/P-ai/p-music/CNN_oscar/wandb/run-20221123_222425-9e6isdst/files/model-best)... Done. 0.2s\n"
     ]
    },
    {
     "name": "stdout",
     "output_type": "stream",
     "text": [
      "15/15 [==============================] - 17s 1s/step - loss: 0.5889 - val_loss: 0.5880\n",
      "Epoch 13/22\n",
      "15/15 [==============================] - ETA: 0s - loss: 0.5885"
     ]
    },
    {
     "name": "stderr",
     "output_type": "stream",
     "text": [
      "WARNING:absl:Found untraced functions such as _jit_compiled_convolution_op, _jit_compiled_convolution_op, _jit_compiled_convolution_op while saving (showing 3 of 3). These functions will not be directly callable after loading.\n"
     ]
    },
    {
     "name": "stdout",
     "output_type": "stream",
     "text": [
      "INFO:tensorflow:Assets written to: /home/oscar47/Desktop/P-ai/p-music/CNN_oscar/wandb/run-20221123_222425-9e6isdst/files/model-best/assets\n"
     ]
    },
    {
     "name": "stderr",
     "output_type": "stream",
     "text": [
      "INFO:tensorflow:Assets written to: /home/oscar47/Desktop/P-ai/p-music/CNN_oscar/wandb/run-20221123_222425-9e6isdst/files/model-best/assets\n",
      "\u001b[34m\u001b[1mwandb\u001b[0m: Adding directory to artifact (/home/oscar47/Desktop/P-ai/p-music/CNN_oscar/wandb/run-20221123_222425-9e6isdst/files/model-best)... Done. 0.2s\n"
     ]
    },
    {
     "name": "stdout",
     "output_type": "stream",
     "text": [
      "15/15 [==============================] - 17s 1s/step - loss: 0.5885 - val_loss: 0.5876\n",
      "Epoch 14/22\n",
      "15/15 [==============================] - ETA: 0s - loss: 0.5881"
     ]
    },
    {
     "name": "stderr",
     "output_type": "stream",
     "text": [
      "WARNING:absl:Found untraced functions such as _jit_compiled_convolution_op, _jit_compiled_convolution_op, _jit_compiled_convolution_op while saving (showing 3 of 3). These functions will not be directly callable after loading.\n"
     ]
    },
    {
     "name": "stdout",
     "output_type": "stream",
     "text": [
      "INFO:tensorflow:Assets written to: /home/oscar47/Desktop/P-ai/p-music/CNN_oscar/wandb/run-20221123_222425-9e6isdst/files/model-best/assets\n"
     ]
    },
    {
     "name": "stderr",
     "output_type": "stream",
     "text": [
      "INFO:tensorflow:Assets written to: /home/oscar47/Desktop/P-ai/p-music/CNN_oscar/wandb/run-20221123_222425-9e6isdst/files/model-best/assets\n",
      "\u001b[34m\u001b[1mwandb\u001b[0m: Adding directory to artifact (/home/oscar47/Desktop/P-ai/p-music/CNN_oscar/wandb/run-20221123_222425-9e6isdst/files/model-best)... Done. 0.2s\n"
     ]
    },
    {
     "name": "stdout",
     "output_type": "stream",
     "text": [
      "15/15 [==============================] - 17s 1s/step - loss: 0.5881 - val_loss: 0.5871\n",
      "Epoch 15/22\n",
      "15/15 [==============================] - ETA: 0s - loss: 0.5877"
     ]
    },
    {
     "name": "stderr",
     "output_type": "stream",
     "text": [
      "WARNING:absl:Found untraced functions such as _jit_compiled_convolution_op, _jit_compiled_convolution_op, _jit_compiled_convolution_op while saving (showing 3 of 3). These functions will not be directly callable after loading.\n"
     ]
    },
    {
     "name": "stdout",
     "output_type": "stream",
     "text": [
      "INFO:tensorflow:Assets written to: /home/oscar47/Desktop/P-ai/p-music/CNN_oscar/wandb/run-20221123_222425-9e6isdst/files/model-best/assets\n"
     ]
    },
    {
     "name": "stderr",
     "output_type": "stream",
     "text": [
      "INFO:tensorflow:Assets written to: /home/oscar47/Desktop/P-ai/p-music/CNN_oscar/wandb/run-20221123_222425-9e6isdst/files/model-best/assets\n",
      "\u001b[34m\u001b[1mwandb\u001b[0m: Adding directory to artifact (/home/oscar47/Desktop/P-ai/p-music/CNN_oscar/wandb/run-20221123_222425-9e6isdst/files/model-best)... Done. 0.1s\n"
     ]
    },
    {
     "name": "stdout",
     "output_type": "stream",
     "text": [
      "15/15 [==============================] - 18s 1s/step - loss: 0.5877 - val_loss: 0.5867\n",
      "Epoch 16/22\n",
      "15/15 [==============================] - ETA: 0s - loss: 0.5872"
     ]
    },
    {
     "name": "stderr",
     "output_type": "stream",
     "text": [
      "WARNING:absl:Found untraced functions such as _jit_compiled_convolution_op, _jit_compiled_convolution_op, _jit_compiled_convolution_op while saving (showing 3 of 3). These functions will not be directly callable after loading.\n"
     ]
    },
    {
     "name": "stdout",
     "output_type": "stream",
     "text": [
      "INFO:tensorflow:Assets written to: /home/oscar47/Desktop/P-ai/p-music/CNN_oscar/wandb/run-20221123_222425-9e6isdst/files/model-best/assets\n"
     ]
    },
    {
     "name": "stderr",
     "output_type": "stream",
     "text": [
      "INFO:tensorflow:Assets written to: /home/oscar47/Desktop/P-ai/p-music/CNN_oscar/wandb/run-20221123_222425-9e6isdst/files/model-best/assets\n",
      "\u001b[34m\u001b[1mwandb\u001b[0m: Adding directory to artifact (/home/oscar47/Desktop/P-ai/p-music/CNN_oscar/wandb/run-20221123_222425-9e6isdst/files/model-best)... Done. 0.1s\n"
     ]
    },
    {
     "name": "stdout",
     "output_type": "stream",
     "text": [
      "15/15 [==============================] - 17s 1s/step - loss: 0.5872 - val_loss: 0.5862\n",
      "Epoch 17/22\n",
      "15/15 [==============================] - ETA: 0s - loss: 0.5867"
     ]
    },
    {
     "name": "stderr",
     "output_type": "stream",
     "text": [
      "WARNING:absl:Found untraced functions such as _jit_compiled_convolution_op, _jit_compiled_convolution_op, _jit_compiled_convolution_op while saving (showing 3 of 3). These functions will not be directly callable after loading.\n"
     ]
    },
    {
     "name": "stdout",
     "output_type": "stream",
     "text": [
      "INFO:tensorflow:Assets written to: /home/oscar47/Desktop/P-ai/p-music/CNN_oscar/wandb/run-20221123_222425-9e6isdst/files/model-best/assets\n"
     ]
    },
    {
     "name": "stderr",
     "output_type": "stream",
     "text": [
      "INFO:tensorflow:Assets written to: /home/oscar47/Desktop/P-ai/p-music/CNN_oscar/wandb/run-20221123_222425-9e6isdst/files/model-best/assets\n",
      "\u001b[34m\u001b[1mwandb\u001b[0m: Adding directory to artifact (/home/oscar47/Desktop/P-ai/p-music/CNN_oscar/wandb/run-20221123_222425-9e6isdst/files/model-best)... Done. 0.1s\n"
     ]
    },
    {
     "name": "stdout",
     "output_type": "stream",
     "text": [
      "15/15 [==============================] - 17s 1s/step - loss: 0.5867 - val_loss: 0.5857\n",
      "Epoch 18/22\n",
      "15/15 [==============================] - ETA: 0s - loss: 0.5862"
     ]
    },
    {
     "name": "stderr",
     "output_type": "stream",
     "text": [
      "WARNING:absl:Found untraced functions such as _jit_compiled_convolution_op, _jit_compiled_convolution_op, _jit_compiled_convolution_op while saving (showing 3 of 3). These functions will not be directly callable after loading.\n"
     ]
    },
    {
     "name": "stdout",
     "output_type": "stream",
     "text": [
      "INFO:tensorflow:Assets written to: /home/oscar47/Desktop/P-ai/p-music/CNN_oscar/wandb/run-20221123_222425-9e6isdst/files/model-best/assets\n"
     ]
    },
    {
     "name": "stderr",
     "output_type": "stream",
     "text": [
      "INFO:tensorflow:Assets written to: /home/oscar47/Desktop/P-ai/p-music/CNN_oscar/wandb/run-20221123_222425-9e6isdst/files/model-best/assets\n",
      "\u001b[34m\u001b[1mwandb\u001b[0m: Adding directory to artifact (/home/oscar47/Desktop/P-ai/p-music/CNN_oscar/wandb/run-20221123_222425-9e6isdst/files/model-best)... Done. 0.1s\n"
     ]
    },
    {
     "name": "stdout",
     "output_type": "stream",
     "text": [
      "15/15 [==============================] - 17s 1s/step - loss: 0.5862 - val_loss: 0.5852\n",
      "Epoch 19/22\n",
      "15/15 [==============================] - ETA: 0s - loss: 0.5857"
     ]
    },
    {
     "name": "stderr",
     "output_type": "stream",
     "text": [
      "WARNING:absl:Found untraced functions such as _jit_compiled_convolution_op, _jit_compiled_convolution_op, _jit_compiled_convolution_op while saving (showing 3 of 3). These functions will not be directly callable after loading.\n"
     ]
    },
    {
     "name": "stdout",
     "output_type": "stream",
     "text": [
      "INFO:tensorflow:Assets written to: /home/oscar47/Desktop/P-ai/p-music/CNN_oscar/wandb/run-20221123_222425-9e6isdst/files/model-best/assets\n"
     ]
    },
    {
     "name": "stderr",
     "output_type": "stream",
     "text": [
      "INFO:tensorflow:Assets written to: /home/oscar47/Desktop/P-ai/p-music/CNN_oscar/wandb/run-20221123_222425-9e6isdst/files/model-best/assets\n",
      "\u001b[34m\u001b[1mwandb\u001b[0m: Adding directory to artifact (/home/oscar47/Desktop/P-ai/p-music/CNN_oscar/wandb/run-20221123_222425-9e6isdst/files/model-best)... Done. 0.1s\n"
     ]
    },
    {
     "name": "stdout",
     "output_type": "stream",
     "text": [
      "15/15 [==============================] - 17s 1s/step - loss: 0.5857 - val_loss: 0.5847\n",
      "Epoch 20/22\n",
      "15/15 [==============================] - ETA: 0s - loss: 0.5852"
     ]
    },
    {
     "name": "stderr",
     "output_type": "stream",
     "text": [
      "WARNING:absl:Found untraced functions such as _jit_compiled_convolution_op, _jit_compiled_convolution_op, _jit_compiled_convolution_op while saving (showing 3 of 3). These functions will not be directly callable after loading.\n"
     ]
    },
    {
     "name": "stdout",
     "output_type": "stream",
     "text": [
      "INFO:tensorflow:Assets written to: /home/oscar47/Desktop/P-ai/p-music/CNN_oscar/wandb/run-20221123_222425-9e6isdst/files/model-best/assets\n"
     ]
    },
    {
     "name": "stderr",
     "output_type": "stream",
     "text": [
      "INFO:tensorflow:Assets written to: /home/oscar47/Desktop/P-ai/p-music/CNN_oscar/wandb/run-20221123_222425-9e6isdst/files/model-best/assets\n",
      "\u001b[34m\u001b[1mwandb\u001b[0m: Adding directory to artifact (/home/oscar47/Desktop/P-ai/p-music/CNN_oscar/wandb/run-20221123_222425-9e6isdst/files/model-best)... Done. 0.1s\n"
     ]
    },
    {
     "name": "stdout",
     "output_type": "stream",
     "text": [
      "15/15 [==============================] - 18s 1s/step - loss: 0.5852 - val_loss: 0.5842\n",
      "Epoch 21/22\n",
      "15/15 [==============================] - ETA: 0s - loss: 0.5847"
     ]
    },
    {
     "name": "stderr",
     "output_type": "stream",
     "text": [
      "WARNING:absl:Found untraced functions such as _jit_compiled_convolution_op, _jit_compiled_convolution_op, _jit_compiled_convolution_op while saving (showing 3 of 3). These functions will not be directly callable after loading.\n"
     ]
    },
    {
     "name": "stdout",
     "output_type": "stream",
     "text": [
      "INFO:tensorflow:Assets written to: /home/oscar47/Desktop/P-ai/p-music/CNN_oscar/wandb/run-20221123_222425-9e6isdst/files/model-best/assets\n"
     ]
    },
    {
     "name": "stderr",
     "output_type": "stream",
     "text": [
      "INFO:tensorflow:Assets written to: /home/oscar47/Desktop/P-ai/p-music/CNN_oscar/wandb/run-20221123_222425-9e6isdst/files/model-best/assets\n",
      "\u001b[34m\u001b[1mwandb\u001b[0m: Adding directory to artifact (/home/oscar47/Desktop/P-ai/p-music/CNN_oscar/wandb/run-20221123_222425-9e6isdst/files/model-best)... Done. 0.1s\n"
     ]
    },
    {
     "name": "stdout",
     "output_type": "stream",
     "text": [
      "15/15 [==============================] - 18s 1s/step - loss: 0.5847 - val_loss: 0.5836\n",
      "Epoch 22/22\n",
      "15/15 [==============================] - ETA: 0s - loss: 0.5841"
     ]
    },
    {
     "name": "stderr",
     "output_type": "stream",
     "text": [
      "WARNING:absl:Found untraced functions such as _jit_compiled_convolution_op, _jit_compiled_convolution_op, _jit_compiled_convolution_op while saving (showing 3 of 3). These functions will not be directly callable after loading.\n"
     ]
    },
    {
     "name": "stdout",
     "output_type": "stream",
     "text": [
      "INFO:tensorflow:Assets written to: /home/oscar47/Desktop/P-ai/p-music/CNN_oscar/wandb/run-20221123_222425-9e6isdst/files/model-best/assets\n"
     ]
    },
    {
     "name": "stderr",
     "output_type": "stream",
     "text": [
      "INFO:tensorflow:Assets written to: /home/oscar47/Desktop/P-ai/p-music/CNN_oscar/wandb/run-20221123_222425-9e6isdst/files/model-best/assets\n",
      "\u001b[34m\u001b[1mwandb\u001b[0m: Adding directory to artifact (/home/oscar47/Desktop/P-ai/p-music/CNN_oscar/wandb/run-20221123_222425-9e6isdst/files/model-best)... Done. 0.2s\n"
     ]
    },
    {
     "name": "stdout",
     "output_type": "stream",
     "text": [
      "15/15 [==============================] - 17s 1s/step - loss: 0.5841 - val_loss: 0.5831\n"
     ]
    },
    {
     "data": {
      "text/html": [
       "Waiting for W&B process to finish... <strong style=\"color:green\">(success).</strong>"
      ],
      "text/plain": [
       "<IPython.core.display.HTML object>"
      ]
     },
     "metadata": {},
     "output_type": "display_data"
    },
    {
     "data": {
      "text/html": [
       "<style>\n",
       "    table.wandb td:nth-child(1) { padding: 0 10px; text-align: left ; width: auto;} td:nth-child(2) {text-align: left ; width: 100%}\n",
       "    .wandb-row { display: flex; flex-direction: row; flex-wrap: wrap; justify-content: flex-start; width: 100% }\n",
       "    .wandb-col { display: flex; flex-direction: column; flex-basis: 100%; flex: 1; padding: 10px; }\n",
       "    </style>\n",
       "<div class=\"wandb-row\"><div class=\"wandb-col\"><h3>Run history:</h3><br/><table class=\"wandb\"><tr><td>epoch</td><td>▁▁▂▂▂▃▃▃▄▄▄▅▅▅▆▆▆▇▇▇██</td></tr><tr><td>loss</td><td>█▁▁▁▁▁▁▁▁▁▁▁▁▁▁▁▁▁▁▁▁▁</td></tr><tr><td>val_loss</td><td>█▁▁▁▁▁▁▁▁▁▁▁▁▁▁▁▁▁▁▁▁▁</td></tr></table><br/></div><div class=\"wandb-col\"><h3>Run summary:</h3><br/><table class=\"wandb\"><tr><td>best_epoch</td><td>21</td></tr><tr><td>best_val_loss</td><td>0.58307</td></tr><tr><td>epoch</td><td>21</td></tr><tr><td>loss</td><td>0.58411</td></tr><tr><td>val_loss</td><td>0.58307</td></tr></table><br/></div></div>"
      ],
      "text/plain": [
       "<IPython.core.display.HTML object>"
      ]
     },
     "metadata": {},
     "output_type": "display_data"
    },
    {
     "data": {
      "text/html": [
       "Synced <strong style=\"color:#cdcd00\">colorful-sweep-25</strong>: <a href=\"https://wandb.ai/p-ai/Oscar%20CNN1/runs/9e6isdst\" target=\"_blank\">https://wandb.ai/p-ai/Oscar%20CNN1/runs/9e6isdst</a><br/>Synced 6 W&B file(s), 1 media file(s), 89 artifact file(s) and 1 other file(s)"
      ],
      "text/plain": [
       "<IPython.core.display.HTML object>"
      ]
     },
     "metadata": {},
     "output_type": "display_data"
    },
    {
     "data": {
      "text/html": [
       "Find logs at: <code>./wandb/run-20221123_222425-9e6isdst/logs</code>"
      ],
      "text/plain": [
       "<IPython.core.display.HTML object>"
      ]
     },
     "metadata": {},
     "output_type": "display_data"
    },
    {
     "name": "stderr",
     "output_type": "stream",
     "text": [
      "\u001b[34m\u001b[1mwandb\u001b[0m: Agent Starting Run: a0ndw5zu with config:\n",
      "\u001b[34m\u001b[1mwandb\u001b[0m: \tbatch_size: 96\n",
      "\u001b[34m\u001b[1mwandb\u001b[0m: \tdense1: 102\n",
      "\u001b[34m\u001b[1mwandb\u001b[0m: \tepochs: 23\n",
      "\u001b[34m\u001b[1mwandb\u001b[0m: \tlearning_rate: 0.09291077743527926\n",
      "\u001b[34m\u001b[1mwandb\u001b[0m: \tsize_1: 207\n",
      "\u001b[34m\u001b[1mwandb\u001b[0m: \tsize_2: 108\n",
      "\u001b[34m\u001b[1mwandb\u001b[0m: \tsize_3: 118\n"
     ]
    },
    {
     "data": {
      "text/html": [
       "Tracking run with wandb version 0.13.5"
      ],
      "text/plain": [
       "<IPython.core.display.HTML object>"
      ]
     },
     "metadata": {},
     "output_type": "display_data"
    },
    {
     "data": {
      "text/html": [
       "Run data is saved locally in <code>/home/oscar47/Desktop/P-ai/p-music/CNN_oscar/wandb/run-20221123_223107-a0ndw5zu</code>"
      ],
      "text/plain": [
       "<IPython.core.display.HTML object>"
      ]
     },
     "metadata": {},
     "output_type": "display_data"
    },
    {
     "data": {
      "text/html": [
       "Syncing run <strong><a href=\"https://wandb.ai/p-ai/Oscar%20CNN1/runs/a0ndw5zu\" target=\"_blank\">fanciful-sweep-26</a></strong> to <a href=\"https://wandb.ai/p-ai/Oscar%20CNN1\" target=\"_blank\">Weights & Biases</a> (<a href=\"https://wandb.me/run\" target=\"_blank\">docs</a>)<br/>Sweep page:  <a href=\"https://wandb.ai/p-ai/Oscar%20CNN1/sweeps/wsxqxjvp\" target=\"_blank\">https://wandb.ai/p-ai/Oscar%20CNN1/sweeps/wsxqxjvp</a>"
      ],
      "text/plain": [
       "<IPython.core.display.HTML object>"
      ]
     },
     "metadata": {},
     "output_type": "display_data"
    },
    {
     "name": "stdout",
     "output_type": "stream",
     "text": [
      "Epoch 1/23\n",
      "15/15 [==============================] - ETA: 0s - loss: 86331619278848.0000"
     ]
    },
    {
     "name": "stderr",
     "output_type": "stream",
     "text": [
      "WARNING:absl:Found untraced functions such as _jit_compiled_convolution_op, _jit_compiled_convolution_op, _jit_compiled_convolution_op while saving (showing 3 of 3). These functions will not be directly callable after loading.\n"
     ]
    },
    {
     "name": "stdout",
     "output_type": "stream",
     "text": [
      "INFO:tensorflow:Assets written to: /home/oscar47/Desktop/P-ai/p-music/CNN_oscar/wandb/run-20221123_223107-a0ndw5zu/files/model-best/assets\n"
     ]
    },
    {
     "name": "stderr",
     "output_type": "stream",
     "text": [
      "INFO:tensorflow:Assets written to: /home/oscar47/Desktop/P-ai/p-music/CNN_oscar/wandb/run-20221123_223107-a0ndw5zu/files/model-best/assets\n",
      "\u001b[34m\u001b[1mwandb\u001b[0m: Adding directory to artifact (/home/oscar47/Desktop/P-ai/p-music/CNN_oscar/wandb/run-20221123_223107-a0ndw5zu/files/model-best)... Done. 0.2s\n"
     ]
    },
    {
     "name": "stdout",
     "output_type": "stream",
     "text": [
      "15/15 [==============================] - 36s 2s/step - loss: 86331619278848.0000 - val_loss: 421.8925\n",
      "Epoch 2/23\n",
      "15/15 [==============================] - ETA: 0s - loss: 3880658.7500"
     ]
    },
    {
     "name": "stderr",
     "output_type": "stream",
     "text": [
      "WARNING:absl:Found untraced functions such as _jit_compiled_convolution_op, _jit_compiled_convolution_op, _jit_compiled_convolution_op while saving (showing 3 of 3). These functions will not be directly callable after loading.\n"
     ]
    },
    {
     "name": "stdout",
     "output_type": "stream",
     "text": [
      "INFO:tensorflow:Assets written to: /home/oscar47/Desktop/P-ai/p-music/CNN_oscar/wandb/run-20221123_223107-a0ndw5zu/files/model-best/assets\n"
     ]
    },
    {
     "name": "stderr",
     "output_type": "stream",
     "text": [
      "INFO:tensorflow:Assets written to: /home/oscar47/Desktop/P-ai/p-music/CNN_oscar/wandb/run-20221123_223107-a0ndw5zu/files/model-best/assets\n",
      "\u001b[34m\u001b[1mwandb\u001b[0m: Adding directory to artifact (/home/oscar47/Desktop/P-ai/p-music/CNN_oscar/wandb/run-20221123_223107-a0ndw5zu/files/model-best)... Done. 0.2s\n"
     ]
    },
    {
     "name": "stdout",
     "output_type": "stream",
     "text": [
      "15/15 [==============================] - 34s 2s/step - loss: 3880658.7500 - val_loss: 1.4281\n",
      "Epoch 3/23\n",
      "15/15 [==============================] - 34s 2s/step - loss: 1.4579 - val_loss: 1.4776\n",
      "Epoch 4/23\n",
      "15/15 [==============================] - 34s 2s/step - loss: 1.4858 - val_loss: 1.4887\n",
      "Epoch 5/23\n",
      "15/15 [==============================] - 34s 2s/step - loss: 43268.0547 - val_loss: 3.5839\n",
      "Epoch 6/23\n",
      "15/15 [==============================] - ETA: 0s - loss: 1.3779"
     ]
    },
    {
     "name": "stderr",
     "output_type": "stream",
     "text": [
      "WARNING:absl:Found untraced functions such as _jit_compiled_convolution_op, _jit_compiled_convolution_op, _jit_compiled_convolution_op while saving (showing 3 of 3). These functions will not be directly callable after loading.\n"
     ]
    },
    {
     "name": "stdout",
     "output_type": "stream",
     "text": [
      "INFO:tensorflow:Assets written to: /home/oscar47/Desktop/P-ai/p-music/CNN_oscar/wandb/run-20221123_223107-a0ndw5zu/files/model-best/assets\n"
     ]
    },
    {
     "name": "stderr",
     "output_type": "stream",
     "text": [
      "INFO:tensorflow:Assets written to: /home/oscar47/Desktop/P-ai/p-music/CNN_oscar/wandb/run-20221123_223107-a0ndw5zu/files/model-best/assets\n",
      "\u001b[34m\u001b[1mwandb\u001b[0m: Adding directory to artifact (/home/oscar47/Desktop/P-ai/p-music/CNN_oscar/wandb/run-20221123_223107-a0ndw5zu/files/model-best)... Done. 0.2s\n"
     ]
    },
    {
     "name": "stdout",
     "output_type": "stream",
     "text": [
      "15/15 [==============================] - 34s 2s/step - loss: 1.3779 - val_loss: 1.1530\n",
      "Epoch 7/23\n",
      "15/15 [==============================] - ETA: 0s - loss: 1.1540"
     ]
    },
    {
     "name": "stderr",
     "output_type": "stream",
     "text": [
      "WARNING:absl:Found untraced functions such as _jit_compiled_convolution_op, _jit_compiled_convolution_op, _jit_compiled_convolution_op while saving (showing 3 of 3). These functions will not be directly callable after loading.\n"
     ]
    },
    {
     "name": "stdout",
     "output_type": "stream",
     "text": [
      "INFO:tensorflow:Assets written to: /home/oscar47/Desktop/P-ai/p-music/CNN_oscar/wandb/run-20221123_223107-a0ndw5zu/files/model-best/assets\n"
     ]
    },
    {
     "name": "stderr",
     "output_type": "stream",
     "text": [
      "INFO:tensorflow:Assets written to: /home/oscar47/Desktop/P-ai/p-music/CNN_oscar/wandb/run-20221123_223107-a0ndw5zu/files/model-best/assets\n",
      "\u001b[34m\u001b[1mwandb\u001b[0m: Adding directory to artifact (/home/oscar47/Desktop/P-ai/p-music/CNN_oscar/wandb/run-20221123_223107-a0ndw5zu/files/model-best)... Done. 0.2s\n"
     ]
    },
    {
     "name": "stdout",
     "output_type": "stream",
     "text": [
      "15/15 [==============================] - 34s 2s/step - loss: 1.1540 - val_loss: 1.1529\n",
      "Epoch 8/23\n",
      "15/15 [==============================] - ETA: 0s - loss: 1.1539"
     ]
    },
    {
     "name": "stderr",
     "output_type": "stream",
     "text": [
      "WARNING:absl:Found untraced functions such as _jit_compiled_convolution_op, _jit_compiled_convolution_op, _jit_compiled_convolution_op while saving (showing 3 of 3). These functions will not be directly callable after loading.\n"
     ]
    },
    {
     "name": "stdout",
     "output_type": "stream",
     "text": [
      "INFO:tensorflow:Assets written to: /home/oscar47/Desktop/P-ai/p-music/CNN_oscar/wandb/run-20221123_223107-a0ndw5zu/files/model-best/assets\n"
     ]
    },
    {
     "name": "stderr",
     "output_type": "stream",
     "text": [
      "INFO:tensorflow:Assets written to: /home/oscar47/Desktop/P-ai/p-music/CNN_oscar/wandb/run-20221123_223107-a0ndw5zu/files/model-best/assets\n",
      "\u001b[34m\u001b[1mwandb\u001b[0m: Adding directory to artifact (/home/oscar47/Desktop/P-ai/p-music/CNN_oscar/wandb/run-20221123_223107-a0ndw5zu/files/model-best)... Done. 0.1s\n"
     ]
    },
    {
     "name": "stdout",
     "output_type": "stream",
     "text": [
      "15/15 [==============================] - 35s 2s/step - loss: 1.1539 - val_loss: 1.1529\n",
      "Epoch 9/23\n",
      "15/15 [==============================] - ETA: 0s - loss: 1.1539"
     ]
    },
    {
     "name": "stderr",
     "output_type": "stream",
     "text": [
      "WARNING:absl:Found untraced functions such as _jit_compiled_convolution_op, _jit_compiled_convolution_op, _jit_compiled_convolution_op while saving (showing 3 of 3). These functions will not be directly callable after loading.\n"
     ]
    },
    {
     "name": "stdout",
     "output_type": "stream",
     "text": [
      "INFO:tensorflow:Assets written to: /home/oscar47/Desktop/P-ai/p-music/CNN_oscar/wandb/run-20221123_223107-a0ndw5zu/files/model-best/assets\n"
     ]
    },
    {
     "name": "stderr",
     "output_type": "stream",
     "text": [
      "INFO:tensorflow:Assets written to: /home/oscar47/Desktop/P-ai/p-music/CNN_oscar/wandb/run-20221123_223107-a0ndw5zu/files/model-best/assets\n",
      "\u001b[34m\u001b[1mwandb\u001b[0m: Adding directory to artifact (/home/oscar47/Desktop/P-ai/p-music/CNN_oscar/wandb/run-20221123_223107-a0ndw5zu/files/model-best)... Done. 0.2s\n"
     ]
    },
    {
     "name": "stdout",
     "output_type": "stream",
     "text": [
      "15/15 [==============================] - 35s 2s/step - loss: 1.1539 - val_loss: 1.1528\n",
      "Epoch 10/23\n",
      "15/15 [==============================] - ETA: 0s - loss: 1.1539"
     ]
    },
    {
     "name": "stderr",
     "output_type": "stream",
     "text": [
      "WARNING:absl:Found untraced functions such as _jit_compiled_convolution_op, _jit_compiled_convolution_op, _jit_compiled_convolution_op while saving (showing 3 of 3). These functions will not be directly callable after loading.\n"
     ]
    },
    {
     "name": "stdout",
     "output_type": "stream",
     "text": [
      "INFO:tensorflow:Assets written to: /home/oscar47/Desktop/P-ai/p-music/CNN_oscar/wandb/run-20221123_223107-a0ndw5zu/files/model-best/assets\n"
     ]
    },
    {
     "name": "stderr",
     "output_type": "stream",
     "text": [
      "INFO:tensorflow:Assets written to: /home/oscar47/Desktop/P-ai/p-music/CNN_oscar/wandb/run-20221123_223107-a0ndw5zu/files/model-best/assets\n",
      "\u001b[34m\u001b[1mwandb\u001b[0m: Adding directory to artifact (/home/oscar47/Desktop/P-ai/p-music/CNN_oscar/wandb/run-20221123_223107-a0ndw5zu/files/model-best)... Done. 0.1s\n"
     ]
    },
    {
     "name": "stdout",
     "output_type": "stream",
     "text": [
      "15/15 [==============================] - 34s 2s/step - loss: 1.1539 - val_loss: 1.1528\n",
      "Epoch 11/23\n",
      "15/15 [==============================] - ETA: 0s - loss: 1.1539"
     ]
    },
    {
     "name": "stderr",
     "output_type": "stream",
     "text": [
      "WARNING:absl:Found untraced functions such as _jit_compiled_convolution_op, _jit_compiled_convolution_op, _jit_compiled_convolution_op while saving (showing 3 of 3). These functions will not be directly callable after loading.\n"
     ]
    },
    {
     "name": "stdout",
     "output_type": "stream",
     "text": [
      "INFO:tensorflow:Assets written to: /home/oscar47/Desktop/P-ai/p-music/CNN_oscar/wandb/run-20221123_223107-a0ndw5zu/files/model-best/assets\n"
     ]
    },
    {
     "name": "stderr",
     "output_type": "stream",
     "text": [
      "INFO:tensorflow:Assets written to: /home/oscar47/Desktop/P-ai/p-music/CNN_oscar/wandb/run-20221123_223107-a0ndw5zu/files/model-best/assets\n",
      "\u001b[34m\u001b[1mwandb\u001b[0m: Adding directory to artifact (/home/oscar47/Desktop/P-ai/p-music/CNN_oscar/wandb/run-20221123_223107-a0ndw5zu/files/model-best)... Done. 0.1s\n"
     ]
    },
    {
     "name": "stdout",
     "output_type": "stream",
     "text": [
      "15/15 [==============================] - 35s 2s/step - loss: 1.1539 - val_loss: 1.1528\n",
      "Epoch 12/23\n",
      "15/15 [==============================] - ETA: 0s - loss: 1.1538"
     ]
    },
    {
     "name": "stderr",
     "output_type": "stream",
     "text": [
      "WARNING:absl:Found untraced functions such as _jit_compiled_convolution_op, _jit_compiled_convolution_op, _jit_compiled_convolution_op while saving (showing 3 of 3). These functions will not be directly callable after loading.\n"
     ]
    },
    {
     "name": "stdout",
     "output_type": "stream",
     "text": [
      "INFO:tensorflow:Assets written to: /home/oscar47/Desktop/P-ai/p-music/CNN_oscar/wandb/run-20221123_223107-a0ndw5zu/files/model-best/assets\n"
     ]
    },
    {
     "name": "stderr",
     "output_type": "stream",
     "text": [
      "INFO:tensorflow:Assets written to: /home/oscar47/Desktop/P-ai/p-music/CNN_oscar/wandb/run-20221123_223107-a0ndw5zu/files/model-best/assets\n",
      "\u001b[34m\u001b[1mwandb\u001b[0m: Adding directory to artifact (/home/oscar47/Desktop/P-ai/p-music/CNN_oscar/wandb/run-20221123_223107-a0ndw5zu/files/model-best)... Done. 0.2s\n"
     ]
    },
    {
     "name": "stdout",
     "output_type": "stream",
     "text": [
      "15/15 [==============================] - 35s 2s/step - loss: 1.1538 - val_loss: 1.1528\n",
      "Epoch 13/23\n",
      "15/15 [==============================] - ETA: 0s - loss: 1.1538"
     ]
    },
    {
     "name": "stderr",
     "output_type": "stream",
     "text": [
      "WARNING:absl:Found untraced functions such as _jit_compiled_convolution_op, _jit_compiled_convolution_op, _jit_compiled_convolution_op while saving (showing 3 of 3). These functions will not be directly callable after loading.\n"
     ]
    },
    {
     "name": "stdout",
     "output_type": "stream",
     "text": [
      "INFO:tensorflow:Assets written to: /home/oscar47/Desktop/P-ai/p-music/CNN_oscar/wandb/run-20221123_223107-a0ndw5zu/files/model-best/assets\n"
     ]
    },
    {
     "name": "stderr",
     "output_type": "stream",
     "text": [
      "INFO:tensorflow:Assets written to: /home/oscar47/Desktop/P-ai/p-music/CNN_oscar/wandb/run-20221123_223107-a0ndw5zu/files/model-best/assets\n",
      "\u001b[34m\u001b[1mwandb\u001b[0m: Adding directory to artifact (/home/oscar47/Desktop/P-ai/p-music/CNN_oscar/wandb/run-20221123_223107-a0ndw5zu/files/model-best)... Done. 0.2s\n"
     ]
    },
    {
     "name": "stdout",
     "output_type": "stream",
     "text": [
      "15/15 [==============================] - 35s 2s/step - loss: 1.1538 - val_loss: 1.1528\n",
      "Epoch 14/23\n",
      "15/15 [==============================] - ETA: 0s - loss: 1.1538"
     ]
    },
    {
     "name": "stderr",
     "output_type": "stream",
     "text": [
      "WARNING:absl:Found untraced functions such as _jit_compiled_convolution_op, _jit_compiled_convolution_op, _jit_compiled_convolution_op while saving (showing 3 of 3). These functions will not be directly callable after loading.\n"
     ]
    },
    {
     "name": "stdout",
     "output_type": "stream",
     "text": [
      "INFO:tensorflow:Assets written to: /home/oscar47/Desktop/P-ai/p-music/CNN_oscar/wandb/run-20221123_223107-a0ndw5zu/files/model-best/assets\n"
     ]
    },
    {
     "name": "stderr",
     "output_type": "stream",
     "text": [
      "INFO:tensorflow:Assets written to: /home/oscar47/Desktop/P-ai/p-music/CNN_oscar/wandb/run-20221123_223107-a0ndw5zu/files/model-best/assets\n",
      "\u001b[34m\u001b[1mwandb\u001b[0m: Adding directory to artifact (/home/oscar47/Desktop/P-ai/p-music/CNN_oscar/wandb/run-20221123_223107-a0ndw5zu/files/model-best)... Done. 0.2s\n"
     ]
    },
    {
     "name": "stdout",
     "output_type": "stream",
     "text": [
      "15/15 [==============================] - 35s 2s/step - loss: 1.1538 - val_loss: 1.1528\n",
      "Epoch 15/23\n",
      "15/15 [==============================] - ETA: 0s - loss: 1.1538"
     ]
    },
    {
     "name": "stderr",
     "output_type": "stream",
     "text": [
      "WARNING:absl:Found untraced functions such as _jit_compiled_convolution_op, _jit_compiled_convolution_op, _jit_compiled_convolution_op while saving (showing 3 of 3). These functions will not be directly callable after loading.\n"
     ]
    },
    {
     "name": "stdout",
     "output_type": "stream",
     "text": [
      "INFO:tensorflow:Assets written to: /home/oscar47/Desktop/P-ai/p-music/CNN_oscar/wandb/run-20221123_223107-a0ndw5zu/files/model-best/assets\n"
     ]
    },
    {
     "name": "stderr",
     "output_type": "stream",
     "text": [
      "INFO:tensorflow:Assets written to: /home/oscar47/Desktop/P-ai/p-music/CNN_oscar/wandb/run-20221123_223107-a0ndw5zu/files/model-best/assets\n",
      "\u001b[34m\u001b[1mwandb\u001b[0m: Adding directory to artifact (/home/oscar47/Desktop/P-ai/p-music/CNN_oscar/wandb/run-20221123_223107-a0ndw5zu/files/model-best)... Done. 0.2s\n"
     ]
    },
    {
     "name": "stdout",
     "output_type": "stream",
     "text": [
      "15/15 [==============================] - 34s 2s/step - loss: 1.1538 - val_loss: 1.1528\n",
      "Epoch 16/23\n",
      "15/15 [==============================] - ETA: 0s - loss: 1.1538"
     ]
    },
    {
     "name": "stderr",
     "output_type": "stream",
     "text": [
      "WARNING:absl:Found untraced functions such as _jit_compiled_convolution_op, _jit_compiled_convolution_op, _jit_compiled_convolution_op while saving (showing 3 of 3). These functions will not be directly callable after loading.\n"
     ]
    },
    {
     "name": "stdout",
     "output_type": "stream",
     "text": [
      "INFO:tensorflow:Assets written to: /home/oscar47/Desktop/P-ai/p-music/CNN_oscar/wandb/run-20221123_223107-a0ndw5zu/files/model-best/assets\n"
     ]
    },
    {
     "name": "stderr",
     "output_type": "stream",
     "text": [
      "INFO:tensorflow:Assets written to: /home/oscar47/Desktop/P-ai/p-music/CNN_oscar/wandb/run-20221123_223107-a0ndw5zu/files/model-best/assets\n",
      "\u001b[34m\u001b[1mwandb\u001b[0m: Adding directory to artifact (/home/oscar47/Desktop/P-ai/p-music/CNN_oscar/wandb/run-20221123_223107-a0ndw5zu/files/model-best)... Done. 0.1s\n"
     ]
    },
    {
     "name": "stdout",
     "output_type": "stream",
     "text": [
      "15/15 [==============================] - 34s 2s/step - loss: 1.1538 - val_loss: 1.1528\n",
      "Epoch 17/23\n",
      "15/15 [==============================] - ETA: 0s - loss: 1.1538"
     ]
    },
    {
     "name": "stderr",
     "output_type": "stream",
     "text": [
      "WARNING:absl:Found untraced functions such as _jit_compiled_convolution_op, _jit_compiled_convolution_op, _jit_compiled_convolution_op while saving (showing 3 of 3). These functions will not be directly callable after loading.\n"
     ]
    },
    {
     "name": "stdout",
     "output_type": "stream",
     "text": [
      "INFO:tensorflow:Assets written to: /home/oscar47/Desktop/P-ai/p-music/CNN_oscar/wandb/run-20221123_223107-a0ndw5zu/files/model-best/assets\n"
     ]
    },
    {
     "name": "stderr",
     "output_type": "stream",
     "text": [
      "INFO:tensorflow:Assets written to: /home/oscar47/Desktop/P-ai/p-music/CNN_oscar/wandb/run-20221123_223107-a0ndw5zu/files/model-best/assets\n",
      "\u001b[34m\u001b[1mwandb\u001b[0m: Adding directory to artifact (/home/oscar47/Desktop/P-ai/p-music/CNN_oscar/wandb/run-20221123_223107-a0ndw5zu/files/model-best)... Done. 0.2s\n"
     ]
    },
    {
     "name": "stdout",
     "output_type": "stream",
     "text": [
      "15/15 [==============================] - 35s 2s/step - loss: 1.1538 - val_loss: 1.1528\n",
      "Epoch 18/23\n",
      "15/15 [==============================] - ETA: 0s - loss: 1.1538"
     ]
    },
    {
     "name": "stderr",
     "output_type": "stream",
     "text": [
      "WARNING:absl:Found untraced functions such as _jit_compiled_convolution_op, _jit_compiled_convolution_op, _jit_compiled_convolution_op while saving (showing 3 of 3). These functions will not be directly callable after loading.\n"
     ]
    },
    {
     "name": "stdout",
     "output_type": "stream",
     "text": [
      "INFO:tensorflow:Assets written to: /home/oscar47/Desktop/P-ai/p-music/CNN_oscar/wandb/run-20221123_223107-a0ndw5zu/files/model-best/assets\n"
     ]
    },
    {
     "name": "stderr",
     "output_type": "stream",
     "text": [
      "INFO:tensorflow:Assets written to: /home/oscar47/Desktop/P-ai/p-music/CNN_oscar/wandb/run-20221123_223107-a0ndw5zu/files/model-best/assets\n",
      "\u001b[34m\u001b[1mwandb\u001b[0m: Adding directory to artifact (/home/oscar47/Desktop/P-ai/p-music/CNN_oscar/wandb/run-20221123_223107-a0ndw5zu/files/model-best)... Done. 0.2s\n"
     ]
    },
    {
     "name": "stdout",
     "output_type": "stream",
     "text": [
      "15/15 [==============================] - 35s 2s/step - loss: 1.1538 - val_loss: 1.1528\n",
      "Epoch 19/23\n",
      "15/15 [==============================] - ETA: 0s - loss: 1.1538"
     ]
    },
    {
     "name": "stderr",
     "output_type": "stream",
     "text": [
      "WARNING:absl:Found untraced functions such as _jit_compiled_convolution_op, _jit_compiled_convolution_op, _jit_compiled_convolution_op while saving (showing 3 of 3). These functions will not be directly callable after loading.\n"
     ]
    },
    {
     "name": "stdout",
     "output_type": "stream",
     "text": [
      "INFO:tensorflow:Assets written to: /home/oscar47/Desktop/P-ai/p-music/CNN_oscar/wandb/run-20221123_223107-a0ndw5zu/files/model-best/assets\n"
     ]
    },
    {
     "name": "stderr",
     "output_type": "stream",
     "text": [
      "INFO:tensorflow:Assets written to: /home/oscar47/Desktop/P-ai/p-music/CNN_oscar/wandb/run-20221123_223107-a0ndw5zu/files/model-best/assets\n",
      "\u001b[34m\u001b[1mwandb\u001b[0m: Adding directory to artifact (/home/oscar47/Desktop/P-ai/p-music/CNN_oscar/wandb/run-20221123_223107-a0ndw5zu/files/model-best)... Done. 0.1s\n"
     ]
    },
    {
     "name": "stdout",
     "output_type": "stream",
     "text": [
      "15/15 [==============================] - 35s 2s/step - loss: 1.1538 - val_loss: 1.1528\n",
      "Epoch 20/23\n",
      "15/15 [==============================] - ETA: 0s - loss: 1.1538"
     ]
    },
    {
     "name": "stderr",
     "output_type": "stream",
     "text": [
      "WARNING:absl:Found untraced functions such as _jit_compiled_convolution_op, _jit_compiled_convolution_op, _jit_compiled_convolution_op while saving (showing 3 of 3). These functions will not be directly callable after loading.\n"
     ]
    },
    {
     "name": "stdout",
     "output_type": "stream",
     "text": [
      "INFO:tensorflow:Assets written to: /home/oscar47/Desktop/P-ai/p-music/CNN_oscar/wandb/run-20221123_223107-a0ndw5zu/files/model-best/assets\n"
     ]
    },
    {
     "name": "stderr",
     "output_type": "stream",
     "text": [
      "INFO:tensorflow:Assets written to: /home/oscar47/Desktop/P-ai/p-music/CNN_oscar/wandb/run-20221123_223107-a0ndw5zu/files/model-best/assets\n",
      "\u001b[34m\u001b[1mwandb\u001b[0m: Adding directory to artifact (/home/oscar47/Desktop/P-ai/p-music/CNN_oscar/wandb/run-20221123_223107-a0ndw5zu/files/model-best)... Done. 0.2s\n"
     ]
    },
    {
     "name": "stdout",
     "output_type": "stream",
     "text": [
      "15/15 [==============================] - 35s 2s/step - loss: 1.1538 - val_loss: 1.1528\n",
      "Epoch 21/23\n",
      "15/15 [==============================] - ETA: 0s - loss: 1.1538"
     ]
    },
    {
     "name": "stderr",
     "output_type": "stream",
     "text": [
      "WARNING:absl:Found untraced functions such as _jit_compiled_convolution_op, _jit_compiled_convolution_op, _jit_compiled_convolution_op while saving (showing 3 of 3). These functions will not be directly callable after loading.\n"
     ]
    },
    {
     "name": "stdout",
     "output_type": "stream",
     "text": [
      "INFO:tensorflow:Assets written to: /home/oscar47/Desktop/P-ai/p-music/CNN_oscar/wandb/run-20221123_223107-a0ndw5zu/files/model-best/assets\n"
     ]
    },
    {
     "name": "stderr",
     "output_type": "stream",
     "text": [
      "INFO:tensorflow:Assets written to: /home/oscar47/Desktop/P-ai/p-music/CNN_oscar/wandb/run-20221123_223107-a0ndw5zu/files/model-best/assets\n",
      "\u001b[34m\u001b[1mwandb\u001b[0m: Adding directory to artifact (/home/oscar47/Desktop/P-ai/p-music/CNN_oscar/wandb/run-20221123_223107-a0ndw5zu/files/model-best)... Done. 0.1s\n"
     ]
    },
    {
     "name": "stdout",
     "output_type": "stream",
     "text": [
      "15/15 [==============================] - 35s 2s/step - loss: 1.1538 - val_loss: 1.1528\n",
      "Epoch 22/23\n",
      "15/15 [==============================] - ETA: 0s - loss: 1.1538"
     ]
    },
    {
     "name": "stderr",
     "output_type": "stream",
     "text": [
      "WARNING:absl:Found untraced functions such as _jit_compiled_convolution_op, _jit_compiled_convolution_op, _jit_compiled_convolution_op while saving (showing 3 of 3). These functions will not be directly callable after loading.\n"
     ]
    },
    {
     "name": "stdout",
     "output_type": "stream",
     "text": [
      "INFO:tensorflow:Assets written to: /home/oscar47/Desktop/P-ai/p-music/CNN_oscar/wandb/run-20221123_223107-a0ndw5zu/files/model-best/assets\n"
     ]
    },
    {
     "name": "stderr",
     "output_type": "stream",
     "text": [
      "INFO:tensorflow:Assets written to: /home/oscar47/Desktop/P-ai/p-music/CNN_oscar/wandb/run-20221123_223107-a0ndw5zu/files/model-best/assets\n",
      "\u001b[34m\u001b[1mwandb\u001b[0m: Adding directory to artifact (/home/oscar47/Desktop/P-ai/p-music/CNN_oscar/wandb/run-20221123_223107-a0ndw5zu/files/model-best)... Done. 0.1s\n"
     ]
    },
    {
     "name": "stdout",
     "output_type": "stream",
     "text": [
      "15/15 [==============================] - 34s 2s/step - loss: 1.1538 - val_loss: 1.1528\n",
      "Epoch 23/23\n",
      "15/15 [==============================] - ETA: 0s - loss: 1.1538"
     ]
    },
    {
     "name": "stderr",
     "output_type": "stream",
     "text": [
      "WARNING:absl:Found untraced functions such as _jit_compiled_convolution_op, _jit_compiled_convolution_op, _jit_compiled_convolution_op while saving (showing 3 of 3). These functions will not be directly callable after loading.\n"
     ]
    },
    {
     "name": "stdout",
     "output_type": "stream",
     "text": [
      "INFO:tensorflow:Assets written to: /home/oscar47/Desktop/P-ai/p-music/CNN_oscar/wandb/run-20221123_223107-a0ndw5zu/files/model-best/assets\n"
     ]
    },
    {
     "name": "stderr",
     "output_type": "stream",
     "text": [
      "INFO:tensorflow:Assets written to: /home/oscar47/Desktop/P-ai/p-music/CNN_oscar/wandb/run-20221123_223107-a0ndw5zu/files/model-best/assets\n",
      "\u001b[34m\u001b[1mwandb\u001b[0m: Adding directory to artifact (/home/oscar47/Desktop/P-ai/p-music/CNN_oscar/wandb/run-20221123_223107-a0ndw5zu/files/model-best)... Done. 0.2s\n"
     ]
    },
    {
     "name": "stdout",
     "output_type": "stream",
     "text": [
      "15/15 [==============================] - 34s 2s/step - loss: 1.1538 - val_loss: 1.1528\n"
     ]
    },
    {
     "data": {
      "text/html": [
       "Waiting for W&B process to finish... <strong style=\"color:green\">(success).</strong>"
      ],
      "text/plain": [
       "<IPython.core.display.HTML object>"
      ]
     },
     "metadata": {},
     "output_type": "display_data"
    },
    {
     "data": {
      "text/html": [
       "<style>\n",
       "    table.wandb td:nth-child(1) { padding: 0 10px; text-align: left ; width: auto;} td:nth-child(2) {text-align: left ; width: 100%}\n",
       "    .wandb-row { display: flex; flex-direction: row; flex-wrap: wrap; justify-content: flex-start; width: 100% }\n",
       "    .wandb-col { display: flex; flex-direction: column; flex-basis: 100%; flex: 1; padding: 10px; }\n",
       "    </style>\n",
       "<div class=\"wandb-row\"><div class=\"wandb-col\"><h3>Run history:</h3><br/><table class=\"wandb\"><tr><td>epoch</td><td>▁▁▂▂▂▃▃▃▄▄▄▅▅▅▅▆▆▆▇▇▇██</td></tr><tr><td>loss</td><td>█▁▁▁▁▁▁▁▁▁▁▁▁▁▁▁▁▁▁▁▁▁▁</td></tr><tr><td>val_loss</td><td>█▁▁▁▁▁▁▁▁▁▁▁▁▁▁▁▁▁▁▁▁▁▁</td></tr></table><br/></div><div class=\"wandb-col\"><h3>Run summary:</h3><br/><table class=\"wandb\"><tr><td>best_epoch</td><td>22</td></tr><tr><td>best_val_loss</td><td>1.15277</td></tr><tr><td>epoch</td><td>22</td></tr><tr><td>loss</td><td>1.15379</td></tr><tr><td>val_loss</td><td>1.15277</td></tr></table><br/></div></div>"
      ],
      "text/plain": [
       "<IPython.core.display.HTML object>"
      ]
     },
     "metadata": {},
     "output_type": "display_data"
    },
    {
     "data": {
      "text/html": [
       "Synced <strong style=\"color:#cdcd00\">fanciful-sweep-26</strong>: <a href=\"https://wandb.ai/p-ai/Oscar%20CNN1/runs/a0ndw5zu\" target=\"_blank\">https://wandb.ai/p-ai/Oscar%20CNN1/runs/a0ndw5zu</a><br/>Synced 6 W&B file(s), 1 media file(s), 81 artifact file(s) and 1 other file(s)"
      ],
      "text/plain": [
       "<IPython.core.display.HTML object>"
      ]
     },
     "metadata": {},
     "output_type": "display_data"
    },
    {
     "data": {
      "text/html": [
       "Find logs at: <code>./wandb/run-20221123_223107-a0ndw5zu/logs</code>"
      ],
      "text/plain": [
       "<IPython.core.display.HTML object>"
      ]
     },
     "metadata": {},
     "output_type": "display_data"
    },
    {
     "name": "stderr",
     "output_type": "stream",
     "text": [
      "\u001b[34m\u001b[1mwandb\u001b[0m: Agent Starting Run: mjg0u5it with config:\n",
      "\u001b[34m\u001b[1mwandb\u001b[0m: \tbatch_size: 96\n",
      "\u001b[34m\u001b[1mwandb\u001b[0m: \tdense1: 213\n",
      "\u001b[34m\u001b[1mwandb\u001b[0m: \tepochs: 24\n",
      "\u001b[34m\u001b[1mwandb\u001b[0m: \tlearning_rate: 0.007750402364223597\n",
      "\u001b[34m\u001b[1mwandb\u001b[0m: \tsize_1: 226\n",
      "\u001b[34m\u001b[1mwandb\u001b[0m: \tsize_2: 234\n",
      "\u001b[34m\u001b[1mwandb\u001b[0m: \tsize_3: 165\n"
     ]
    },
    {
     "data": {
      "text/html": [
       "Tracking run with wandb version 0.13.5"
      ],
      "text/plain": [
       "<IPython.core.display.HTML object>"
      ]
     },
     "metadata": {},
     "output_type": "display_data"
    },
    {
     "data": {
      "text/html": [
       "Run data is saved locally in <code>/home/oscar47/Desktop/P-ai/p-music/CNN_oscar/wandb/run-20221123_224444-mjg0u5it</code>"
      ],
      "text/plain": [
       "<IPython.core.display.HTML object>"
      ]
     },
     "metadata": {},
     "output_type": "display_data"
    },
    {
     "data": {
      "text/html": [
       "Syncing run <strong><a href=\"https://wandb.ai/p-ai/Oscar%20CNN1/runs/mjg0u5it\" target=\"_blank\">wild-sweep-27</a></strong> to <a href=\"https://wandb.ai/p-ai/Oscar%20CNN1\" target=\"_blank\">Weights & Biases</a> (<a href=\"https://wandb.me/run\" target=\"_blank\">docs</a>)<br/>Sweep page:  <a href=\"https://wandb.ai/p-ai/Oscar%20CNN1/sweeps/wsxqxjvp\" target=\"_blank\">https://wandb.ai/p-ai/Oscar%20CNN1/sweeps/wsxqxjvp</a>"
      ],
      "text/plain": [
       "<IPython.core.display.HTML object>"
      ]
     },
     "metadata": {},
     "output_type": "display_data"
    },
    {
     "name": "stdout",
     "output_type": "stream",
     "text": [
      "Epoch 1/24\n",
      "15/15 [==============================] - ETA: 0s - loss: 1257563.6250"
     ]
    },
    {
     "name": "stderr",
     "output_type": "stream",
     "text": [
      "WARNING:absl:Found untraced functions such as _jit_compiled_convolution_op, _jit_compiled_convolution_op, _jit_compiled_convolution_op while saving (showing 3 of 3). These functions will not be directly callable after loading.\n"
     ]
    },
    {
     "name": "stdout",
     "output_type": "stream",
     "text": [
      "INFO:tensorflow:Assets written to: /home/oscar47/Desktop/P-ai/p-music/CNN_oscar/wandb/run-20221123_224444-mjg0u5it/files/model-best/assets\n"
     ]
    },
    {
     "name": "stderr",
     "output_type": "stream",
     "text": [
      "INFO:tensorflow:Assets written to: /home/oscar47/Desktop/P-ai/p-music/CNN_oscar/wandb/run-20221123_224444-mjg0u5it/files/model-best/assets\n",
      "\u001b[34m\u001b[1mwandb\u001b[0m: Adding directory to artifact (/home/oscar47/Desktop/P-ai/p-music/CNN_oscar/wandb/run-20221123_224444-mjg0u5it/files/model-best)... Done. 0.4s\n"
     ]
    },
    {
     "name": "stdout",
     "output_type": "stream",
     "text": [
      "15/15 [==============================] - 59s 4s/step - loss: 1257563.6250 - val_loss: 0.6108\n",
      "Epoch 2/24\n",
      "15/15 [==============================] - 57s 4s/step - loss: 9.1562 - val_loss: 1.6103\n",
      "Epoch 3/24\n",
      "15/15 [==============================] - 56s 4s/step - loss: 1.7744 - val_loss: 0.8880\n",
      "Epoch 4/24\n",
      "15/15 [==============================] - ETA: 0s - loss: 0.2416"
     ]
    },
    {
     "name": "stderr",
     "output_type": "stream",
     "text": [
      "WARNING:absl:Found untraced functions such as _jit_compiled_convolution_op, _jit_compiled_convolution_op, _jit_compiled_convolution_op while saving (showing 3 of 3). These functions will not be directly callable after loading.\n"
     ]
    },
    {
     "name": "stdout",
     "output_type": "stream",
     "text": [
      "INFO:tensorflow:Assets written to: /home/oscar47/Desktop/P-ai/p-music/CNN_oscar/wandb/run-20221123_224444-mjg0u5it/files/model-best/assets\n"
     ]
    },
    {
     "name": "stderr",
     "output_type": "stream",
     "text": [
      "INFO:tensorflow:Assets written to: /home/oscar47/Desktop/P-ai/p-music/CNN_oscar/wandb/run-20221123_224444-mjg0u5it/files/model-best/assets\n",
      "\u001b[34m\u001b[1mwandb\u001b[0m: Adding directory to artifact (/home/oscar47/Desktop/P-ai/p-music/CNN_oscar/wandb/run-20221123_224444-mjg0u5it/files/model-best)... Done. 0.4s\n"
     ]
    },
    {
     "name": "stdout",
     "output_type": "stream",
     "text": [
      "15/15 [==============================] - 57s 4s/step - loss: 0.2416 - val_loss: 0.0403\n",
      "Epoch 5/24\n",
      "15/15 [==============================] - ETA: 0s - loss: 0.0249"
     ]
    },
    {
     "name": "stderr",
     "output_type": "stream",
     "text": [
      "WARNING:absl:Found untraced functions such as _jit_compiled_convolution_op, _jit_compiled_convolution_op, _jit_compiled_convolution_op while saving (showing 3 of 3). These functions will not be directly callable after loading.\n"
     ]
    },
    {
     "name": "stdout",
     "output_type": "stream",
     "text": [
      "INFO:tensorflow:Assets written to: /home/oscar47/Desktop/P-ai/p-music/CNN_oscar/wandb/run-20221123_224444-mjg0u5it/files/model-best/assets\n"
     ]
    },
    {
     "name": "stderr",
     "output_type": "stream",
     "text": [
      "INFO:tensorflow:Assets written to: /home/oscar47/Desktop/P-ai/p-music/CNN_oscar/wandb/run-20221123_224444-mjg0u5it/files/model-best/assets\n",
      "\u001b[34m\u001b[1mwandb\u001b[0m: Adding directory to artifact (/home/oscar47/Desktop/P-ai/p-music/CNN_oscar/wandb/run-20221123_224444-mjg0u5it/files/model-best)... Done. 0.4s\n"
     ]
    },
    {
     "name": "stdout",
     "output_type": "stream",
     "text": [
      "15/15 [==============================] - 58s 4s/step - loss: 0.0249 - val_loss: 0.0162\n",
      "Epoch 6/24\n",
      "15/15 [==============================] - ETA: 0s - loss: 0.0150"
     ]
    },
    {
     "name": "stderr",
     "output_type": "stream",
     "text": [
      "WARNING:absl:Found untraced functions such as _jit_compiled_convolution_op, _jit_compiled_convolution_op, _jit_compiled_convolution_op while saving (showing 3 of 3). These functions will not be directly callable after loading.\n"
     ]
    },
    {
     "name": "stdout",
     "output_type": "stream",
     "text": [
      "INFO:tensorflow:Assets written to: /home/oscar47/Desktop/P-ai/p-music/CNN_oscar/wandb/run-20221123_224444-mjg0u5it/files/model-best/assets\n"
     ]
    },
    {
     "name": "stderr",
     "output_type": "stream",
     "text": [
      "INFO:tensorflow:Assets written to: /home/oscar47/Desktop/P-ai/p-music/CNN_oscar/wandb/run-20221123_224444-mjg0u5it/files/model-best/assets\n",
      "\u001b[34m\u001b[1mwandb\u001b[0m: Adding directory to artifact (/home/oscar47/Desktop/P-ai/p-music/CNN_oscar/wandb/run-20221123_224444-mjg0u5it/files/model-best)... Done. 0.4s\n"
     ]
    },
    {
     "name": "stdout",
     "output_type": "stream",
     "text": [
      "15/15 [==============================] - 58s 4s/step - loss: 0.0150 - val_loss: 0.0129\n",
      "Epoch 7/24\n",
      "15/15 [==============================] - ETA: 0s - loss: 0.0126"
     ]
    },
    {
     "name": "stderr",
     "output_type": "stream",
     "text": [
      "WARNING:absl:Found untraced functions such as _jit_compiled_convolution_op, _jit_compiled_convolution_op, _jit_compiled_convolution_op while saving (showing 3 of 3). These functions will not be directly callable after loading.\n"
     ]
    },
    {
     "name": "stdout",
     "output_type": "stream",
     "text": [
      "INFO:tensorflow:Assets written to: /home/oscar47/Desktop/P-ai/p-music/CNN_oscar/wandb/run-20221123_224444-mjg0u5it/files/model-best/assets\n"
     ]
    },
    {
     "name": "stderr",
     "output_type": "stream",
     "text": [
      "INFO:tensorflow:Assets written to: /home/oscar47/Desktop/P-ai/p-music/CNN_oscar/wandb/run-20221123_224444-mjg0u5it/files/model-best/assets\n",
      "\u001b[34m\u001b[1mwandb\u001b[0m: Adding directory to artifact (/home/oscar47/Desktop/P-ai/p-music/CNN_oscar/wandb/run-20221123_224444-mjg0u5it/files/model-best)... Done. 0.4s\n"
     ]
    },
    {
     "name": "stdout",
     "output_type": "stream",
     "text": [
      "15/15 [==============================] - 58s 4s/step - loss: 0.0126 - val_loss: 0.0124\n",
      "Epoch 8/24\n",
      "15/15 [==============================] - 57s 4s/step - loss: 0.0122 - val_loss: 0.0124\n",
      "Epoch 9/24\n",
      "15/15 [==============================] - 57s 4s/step - loss: 0.0123 - val_loss: 0.0134\n",
      "Epoch 10/24\n",
      "15/15 [==============================] - 56s 4s/step - loss: 0.0119 - val_loss: 0.0150\n",
      "Epoch 11/24\n",
      "15/15 [==============================] - 57s 4s/step - loss: 0.0122 - val_loss: 0.0134\n",
      "Epoch 12/24\n",
      "15/15 [==============================] - 56s 4s/step - loss: 0.0118 - val_loss: 0.0127\n",
      "Epoch 13/24\n",
      "15/15 [==============================] - ETA: 0s - loss: 0.0114"
     ]
    },
    {
     "name": "stderr",
     "output_type": "stream",
     "text": [
      "WARNING:absl:Found untraced functions such as _jit_compiled_convolution_op, _jit_compiled_convolution_op, _jit_compiled_convolution_op while saving (showing 3 of 3). These functions will not be directly callable after loading.\n"
     ]
    },
    {
     "name": "stdout",
     "output_type": "stream",
     "text": [
      "INFO:tensorflow:Assets written to: /home/oscar47/Desktop/P-ai/p-music/CNN_oscar/wandb/run-20221123_224444-mjg0u5it/files/model-best/assets\n"
     ]
    },
    {
     "name": "stderr",
     "output_type": "stream",
     "text": [
      "INFO:tensorflow:Assets written to: /home/oscar47/Desktop/P-ai/p-music/CNN_oscar/wandb/run-20221123_224444-mjg0u5it/files/model-best/assets\n",
      "\u001b[34m\u001b[1mwandb\u001b[0m: Adding directory to artifact (/home/oscar47/Desktop/P-ai/p-music/CNN_oscar/wandb/run-20221123_224444-mjg0u5it/files/model-best)... Done. 0.4s\n"
     ]
    },
    {
     "name": "stdout",
     "output_type": "stream",
     "text": [
      "15/15 [==============================] - 57s 4s/step - loss: 0.0114 - val_loss: 0.0111\n",
      "Epoch 14/24\n",
      "15/15 [==============================] - 57s 4s/step - loss: 0.0110 - val_loss: 0.0112\n",
      "Epoch 15/24\n",
      "15/15 [==============================] - ETA: 0s - loss: 0.0106"
     ]
    },
    {
     "name": "stderr",
     "output_type": "stream",
     "text": [
      "WARNING:absl:Found untraced functions such as _jit_compiled_convolution_op, _jit_compiled_convolution_op, _jit_compiled_convolution_op while saving (showing 3 of 3). These functions will not be directly callable after loading.\n"
     ]
    },
    {
     "name": "stdout",
     "output_type": "stream",
     "text": [
      "INFO:tensorflow:Assets written to: /home/oscar47/Desktop/P-ai/p-music/CNN_oscar/wandb/run-20221123_224444-mjg0u5it/files/model-best/assets\n"
     ]
    },
    {
     "name": "stderr",
     "output_type": "stream",
     "text": [
      "INFO:tensorflow:Assets written to: /home/oscar47/Desktop/P-ai/p-music/CNN_oscar/wandb/run-20221123_224444-mjg0u5it/files/model-best/assets\n",
      "\u001b[34m\u001b[1mwandb\u001b[0m: Adding directory to artifact (/home/oscar47/Desktop/P-ai/p-music/CNN_oscar/wandb/run-20221123_224444-mjg0u5it/files/model-best)... Done. 0.4s\n"
     ]
    },
    {
     "name": "stdout",
     "output_type": "stream",
     "text": [
      "15/15 [==============================] - 57s 4s/step - loss: 0.0106 - val_loss: 0.0108\n",
      "Epoch 16/24\n",
      "15/15 [==============================] - 56s 4s/step - loss: 0.0103 - val_loss: 0.0114\n",
      "Epoch 17/24\n",
      "15/15 [==============================] - 56s 4s/step - loss: 0.0102 - val_loss: 0.0121\n",
      "Epoch 18/24\n",
      "15/15 [==============================] - ETA: 0s - loss: 0.0104"
     ]
    },
    {
     "name": "stderr",
     "output_type": "stream",
     "text": [
      "WARNING:absl:Found untraced functions such as _jit_compiled_convolution_op, _jit_compiled_convolution_op, _jit_compiled_convolution_op while saving (showing 3 of 3). These functions will not be directly callable after loading.\n"
     ]
    },
    {
     "name": "stdout",
     "output_type": "stream",
     "text": [
      "INFO:tensorflow:Assets written to: /home/oscar47/Desktop/P-ai/p-music/CNN_oscar/wandb/run-20221123_224444-mjg0u5it/files/model-best/assets\n"
     ]
    },
    {
     "name": "stderr",
     "output_type": "stream",
     "text": [
      "INFO:tensorflow:Assets written to: /home/oscar47/Desktop/P-ai/p-music/CNN_oscar/wandb/run-20221123_224444-mjg0u5it/files/model-best/assets\n",
      "\u001b[34m\u001b[1mwandb\u001b[0m: Adding directory to artifact (/home/oscar47/Desktop/P-ai/p-music/CNN_oscar/wandb/run-20221123_224444-mjg0u5it/files/model-best)... Done. 0.4s\n"
     ]
    },
    {
     "name": "stdout",
     "output_type": "stream",
     "text": [
      "15/15 [==============================] - 57s 4s/step - loss: 0.0104 - val_loss: 0.0102\n",
      "Epoch 19/24\n",
      "15/15 [==============================] - 57s 4s/step - loss: 0.0098 - val_loss: 0.0117\n",
      "Epoch 20/24\n",
      "15/15 [==============================] - 56s 4s/step - loss: 0.0111 - val_loss: 0.0112\n",
      "Epoch 21/24\n",
      "15/15 [==============================] - 56s 4s/step - loss: 0.0105 - val_loss: 0.0122\n",
      "Epoch 22/24\n",
      "15/15 [==============================] - ETA: 0s - loss: 0.0107"
     ]
    },
    {
     "name": "stderr",
     "output_type": "stream",
     "text": [
      "WARNING:absl:Found untraced functions such as _jit_compiled_convolution_op, _jit_compiled_convolution_op, _jit_compiled_convolution_op while saving (showing 3 of 3). These functions will not be directly callable after loading.\n"
     ]
    },
    {
     "name": "stdout",
     "output_type": "stream",
     "text": [
      "INFO:tensorflow:Assets written to: /home/oscar47/Desktop/P-ai/p-music/CNN_oscar/wandb/run-20221123_224444-mjg0u5it/files/model-best/assets\n"
     ]
    },
    {
     "name": "stderr",
     "output_type": "stream",
     "text": [
      "INFO:tensorflow:Assets written to: /home/oscar47/Desktop/P-ai/p-music/CNN_oscar/wandb/run-20221123_224444-mjg0u5it/files/model-best/assets\n",
      "\u001b[34m\u001b[1mwandb\u001b[0m: Adding directory to artifact (/home/oscar47/Desktop/P-ai/p-music/CNN_oscar/wandb/run-20221123_224444-mjg0u5it/files/model-best)... Done. 0.4s\n"
     ]
    },
    {
     "name": "stdout",
     "output_type": "stream",
     "text": [
      "15/15 [==============================] - 58s 4s/step - loss: 0.0107 - val_loss: 0.0099\n",
      "Epoch 23/24\n",
      "15/15 [==============================] - ETA: 0s - loss: 0.0093"
     ]
    },
    {
     "name": "stderr",
     "output_type": "stream",
     "text": [
      "WARNING:absl:Found untraced functions such as _jit_compiled_convolution_op, _jit_compiled_convolution_op, _jit_compiled_convolution_op while saving (showing 3 of 3). These functions will not be directly callable after loading.\n"
     ]
    },
    {
     "name": "stdout",
     "output_type": "stream",
     "text": [
      "INFO:tensorflow:Assets written to: /home/oscar47/Desktop/P-ai/p-music/CNN_oscar/wandb/run-20221123_224444-mjg0u5it/files/model-best/assets\n"
     ]
    },
    {
     "name": "stderr",
     "output_type": "stream",
     "text": [
      "INFO:tensorflow:Assets written to: /home/oscar47/Desktop/P-ai/p-music/CNN_oscar/wandb/run-20221123_224444-mjg0u5it/files/model-best/assets\n",
      "\u001b[34m\u001b[1mwandb\u001b[0m: Adding directory to artifact (/home/oscar47/Desktop/P-ai/p-music/CNN_oscar/wandb/run-20221123_224444-mjg0u5it/files/model-best)... Done. 0.4s\n"
     ]
    },
    {
     "name": "stdout",
     "output_type": "stream",
     "text": [
      "15/15 [==============================] - 57s 4s/step - loss: 0.0093 - val_loss: 0.0093\n",
      "Epoch 24/24\n",
      "15/15 [==============================] - 56s 4s/step - loss: 0.0111 - val_loss: 0.0098\n"
     ]
    },
    {
     "data": {
      "text/html": [
       "Waiting for W&B process to finish... <strong style=\"color:green\">(success).</strong>"
      ],
      "text/plain": [
       "<IPython.core.display.HTML object>"
      ]
     },
     "metadata": {},
     "output_type": "display_data"
    },
    {
     "data": {
      "text/html": [
       "<style>\n",
       "    table.wandb td:nth-child(1) { padding: 0 10px; text-align: left ; width: auto;} td:nth-child(2) {text-align: left ; width: 100%}\n",
       "    .wandb-row { display: flex; flex-direction: row; flex-wrap: wrap; justify-content: flex-start; width: 100% }\n",
       "    .wandb-col { display: flex; flex-direction: column; flex-basis: 100%; flex: 1; padding: 10px; }\n",
       "    </style>\n",
       "<div class=\"wandb-row\"><div class=\"wandb-col\"><h3>Run history:</h3><br/><table class=\"wandb\"><tr><td>epoch</td><td>▁▁▂▂▂▃▃▃▃▄▄▄▅▅▅▆▆▆▆▇▇▇██</td></tr><tr><td>loss</td><td>█▁▁▁▁▁▁▁▁▁▁▁▁▁▁▁▁▁▁▁▁▁▁▁</td></tr><tr><td>val_loss</td><td>▄█▅▁▁▁▁▁▁▁▁▁▁▁▁▁▁▁▁▁▁▁▁▁</td></tr></table><br/></div><div class=\"wandb-col\"><h3>Run summary:</h3><br/><table class=\"wandb\"><tr><td>best_epoch</td><td>22</td></tr><tr><td>best_val_loss</td><td>0.00929</td></tr><tr><td>epoch</td><td>23</td></tr><tr><td>loss</td><td>0.01109</td></tr><tr><td>val_loss</td><td>0.00983</td></tr></table><br/></div></div>"
      ],
      "text/plain": [
       "<IPython.core.display.HTML object>"
      ]
     },
     "metadata": {},
     "output_type": "display_data"
    },
    {
     "data": {
      "text/html": [
       "Synced <strong style=\"color:#cdcd00\">wild-sweep-27</strong>: <a href=\"https://wandb.ai/p-ai/Oscar%20CNN1/runs/mjg0u5it\" target=\"_blank\">https://wandb.ai/p-ai/Oscar%20CNN1/runs/mjg0u5it</a><br/>Synced 6 W&B file(s), 1 media file(s), 41 artifact file(s) and 1 other file(s)"
      ],
      "text/plain": [
       "<IPython.core.display.HTML object>"
      ]
     },
     "metadata": {},
     "output_type": "display_data"
    },
    {
     "data": {
      "text/html": [
       "Find logs at: <code>./wandb/run-20221123_224444-mjg0u5it/logs</code>"
      ],
      "text/plain": [
       "<IPython.core.display.HTML object>"
      ]
     },
     "metadata": {},
     "output_type": "display_data"
    },
    {
     "name": "stderr",
     "output_type": "stream",
     "text": [
      "\u001b[34m\u001b[1mwandb\u001b[0m: Agent Starting Run: sgj6sa1k with config:\n",
      "\u001b[34m\u001b[1mwandb\u001b[0m: \tbatch_size: 128\n",
      "\u001b[34m\u001b[1mwandb\u001b[0m: \tdense1: 168\n",
      "\u001b[34m\u001b[1mwandb\u001b[0m: \tepochs: 23\n",
      "\u001b[34m\u001b[1mwandb\u001b[0m: \tlearning_rate: 0.01758892880047738\n",
      "\u001b[34m\u001b[1mwandb\u001b[0m: \tsize_1: 151\n",
      "\u001b[34m\u001b[1mwandb\u001b[0m: \tsize_2: 250\n",
      "\u001b[34m\u001b[1mwandb\u001b[0m: \tsize_3: 237\n"
     ]
    },
    {
     "data": {
      "text/html": [
       "Tracking run with wandb version 0.13.5"
      ],
      "text/plain": [
       "<IPython.core.display.HTML object>"
      ]
     },
     "metadata": {},
     "output_type": "display_data"
    },
    {
     "data": {
      "text/html": [
       "Run data is saved locally in <code>/home/oscar47/Desktop/P-ai/p-music/CNN_oscar/wandb/run-20221123_230750-sgj6sa1k</code>"
      ],
      "text/plain": [
       "<IPython.core.display.HTML object>"
      ]
     },
     "metadata": {},
     "output_type": "display_data"
    },
    {
     "data": {
      "text/html": [
       "Syncing run <strong><a href=\"https://wandb.ai/p-ai/Oscar%20CNN1/runs/sgj6sa1k\" target=\"_blank\">effortless-sweep-28</a></strong> to <a href=\"https://wandb.ai/p-ai/Oscar%20CNN1\" target=\"_blank\">Weights & Biases</a> (<a href=\"https://wandb.me/run\" target=\"_blank\">docs</a>)<br/>Sweep page:  <a href=\"https://wandb.ai/p-ai/Oscar%20CNN1/sweeps/wsxqxjvp\" target=\"_blank\">https://wandb.ai/p-ai/Oscar%20CNN1/sweeps/wsxqxjvp</a>"
      ],
      "text/plain": [
       "<IPython.core.display.HTML object>"
      ]
     },
     "metadata": {},
     "output_type": "display_data"
    },
    {
     "name": "stdout",
     "output_type": "stream",
     "text": [
      "Epoch 1/23\n",
      "12/12 [==============================] - ETA: 0s - loss: 878103744.0000"
     ]
    },
    {
     "name": "stderr",
     "output_type": "stream",
     "text": [
      "WARNING:absl:Found untraced functions such as _jit_compiled_convolution_op, _jit_compiled_convolution_op, _jit_compiled_convolution_op while saving (showing 3 of 3). These functions will not be directly callable after loading.\n"
     ]
    },
    {
     "name": "stdout",
     "output_type": "stream",
     "text": [
      "INFO:tensorflow:Assets written to: /home/oscar47/Desktop/P-ai/p-music/CNN_oscar/wandb/run-20221123_230750-sgj6sa1k/files/model-best/assets\n"
     ]
    },
    {
     "name": "stderr",
     "output_type": "stream",
     "text": [
      "INFO:tensorflow:Assets written to: /home/oscar47/Desktop/P-ai/p-music/CNN_oscar/wandb/run-20221123_230750-sgj6sa1k/files/model-best/assets\n",
      "\u001b[34m\u001b[1mwandb\u001b[0m: Adding directory to artifact (/home/oscar47/Desktop/P-ai/p-music/CNN_oscar/wandb/run-20221123_230750-sgj6sa1k/files/model-best)... Done. 0.4s\n"
     ]
    },
    {
     "name": "stdout",
     "output_type": "stream",
     "text": [
      "12/12 [==============================] - 47s 4s/step - loss: 878103744.0000 - val_loss: 4924.2495\n",
      "Epoch 2/23\n",
      "12/12 [==============================] - ETA: 0s - loss: 24383.7969"
     ]
    },
    {
     "name": "stderr",
     "output_type": "stream",
     "text": [
      "WARNING:absl:Found untraced functions such as _jit_compiled_convolution_op, _jit_compiled_convolution_op, _jit_compiled_convolution_op while saving (showing 3 of 3). These functions will not be directly callable after loading.\n"
     ]
    },
    {
     "name": "stdout",
     "output_type": "stream",
     "text": [
      "INFO:tensorflow:Assets written to: /home/oscar47/Desktop/P-ai/p-music/CNN_oscar/wandb/run-20221123_230750-sgj6sa1k/files/model-best/assets\n"
     ]
    },
    {
     "name": "stderr",
     "output_type": "stream",
     "text": [
      "INFO:tensorflow:Assets written to: /home/oscar47/Desktop/P-ai/p-music/CNN_oscar/wandb/run-20221123_230750-sgj6sa1k/files/model-best/assets\n",
      "\u001b[34m\u001b[1mwandb\u001b[0m: Adding directory to artifact (/home/oscar47/Desktop/P-ai/p-music/CNN_oscar/wandb/run-20221123_230750-sgj6sa1k/files/model-best)... Done. 0.5s\n"
     ]
    },
    {
     "name": "stdout",
     "output_type": "stream",
     "text": [
      "12/12 [==============================] - 47s 4s/step - loss: 24383.7969 - val_loss: 662.2930\n",
      "Epoch 3/23\n",
      "12/12 [==============================] - ETA: 0s - loss: 2040.4442"
     ]
    },
    {
     "name": "stderr",
     "output_type": "stream",
     "text": [
      "WARNING:absl:Found untraced functions such as _jit_compiled_convolution_op, _jit_compiled_convolution_op, _jit_compiled_convolution_op while saving (showing 3 of 3). These functions will not be directly callable after loading.\n"
     ]
    },
    {
     "name": "stdout",
     "output_type": "stream",
     "text": [
      "INFO:tensorflow:Assets written to: /home/oscar47/Desktop/P-ai/p-music/CNN_oscar/wandb/run-20221123_230750-sgj6sa1k/files/model-best/assets\n"
     ]
    },
    {
     "name": "stderr",
     "output_type": "stream",
     "text": [
      "INFO:tensorflow:Assets written to: /home/oscar47/Desktop/P-ai/p-music/CNN_oscar/wandb/run-20221123_230750-sgj6sa1k/files/model-best/assets\n",
      "\u001b[34m\u001b[1mwandb\u001b[0m: Adding directory to artifact (/home/oscar47/Desktop/P-ai/p-music/CNN_oscar/wandb/run-20221123_230750-sgj6sa1k/files/model-best)... Done. 0.5s\n"
     ]
    },
    {
     "name": "stdout",
     "output_type": "stream",
     "text": [
      "12/12 [==============================] - 46s 4s/step - loss: 2040.4442 - val_loss: 165.4135\n",
      "Epoch 4/23\n",
      "12/12 [==============================] - ETA: 0s - loss: 73.9326"
     ]
    },
    {
     "name": "stderr",
     "output_type": "stream",
     "text": [
      "WARNING:absl:Found untraced functions such as _jit_compiled_convolution_op, _jit_compiled_convolution_op, _jit_compiled_convolution_op while saving (showing 3 of 3). These functions will not be directly callable after loading.\n"
     ]
    },
    {
     "name": "stdout",
     "output_type": "stream",
     "text": [
      "INFO:tensorflow:Assets written to: /home/oscar47/Desktop/P-ai/p-music/CNN_oscar/wandb/run-20221123_230750-sgj6sa1k/files/model-best/assets\n"
     ]
    },
    {
     "name": "stderr",
     "output_type": "stream",
     "text": [
      "INFO:tensorflow:Assets written to: /home/oscar47/Desktop/P-ai/p-music/CNN_oscar/wandb/run-20221123_230750-sgj6sa1k/files/model-best/assets\n",
      "\u001b[34m\u001b[1mwandb\u001b[0m: Adding directory to artifact (/home/oscar47/Desktop/P-ai/p-music/CNN_oscar/wandb/run-20221123_230750-sgj6sa1k/files/model-best)... Done. 0.4s\n"
     ]
    },
    {
     "name": "stdout",
     "output_type": "stream",
     "text": [
      "12/12 [==============================] - 46s 4s/step - loss: 73.9326 - val_loss: 34.9560\n",
      "Epoch 5/23\n",
      "12/12 [==============================] - ETA: 0s - loss: 30.7521"
     ]
    },
    {
     "name": "stderr",
     "output_type": "stream",
     "text": [
      "WARNING:absl:Found untraced functions such as _jit_compiled_convolution_op, _jit_compiled_convolution_op, _jit_compiled_convolution_op while saving (showing 3 of 3). These functions will not be directly callable after loading.\n"
     ]
    },
    {
     "name": "stdout",
     "output_type": "stream",
     "text": [
      "INFO:tensorflow:Assets written to: /home/oscar47/Desktop/P-ai/p-music/CNN_oscar/wandb/run-20221123_230750-sgj6sa1k/files/model-best/assets\n"
     ]
    },
    {
     "name": "stderr",
     "output_type": "stream",
     "text": [
      "INFO:tensorflow:Assets written to: /home/oscar47/Desktop/P-ai/p-music/CNN_oscar/wandb/run-20221123_230750-sgj6sa1k/files/model-best/assets\n",
      "\u001b[34m\u001b[1mwandb\u001b[0m: Adding directory to artifact (/home/oscar47/Desktop/P-ai/p-music/CNN_oscar/wandb/run-20221123_230750-sgj6sa1k/files/model-best)... Done. 0.4s\n"
     ]
    },
    {
     "name": "stdout",
     "output_type": "stream",
     "text": [
      "12/12 [==============================] - 47s 4s/step - loss: 30.7521 - val_loss: 5.6778\n",
      "Epoch 6/23\n",
      "12/12 [==============================] - ETA: 0s - loss: 8.1712"
     ]
    },
    {
     "name": "stderr",
     "output_type": "stream",
     "text": [
      "WARNING:absl:Found untraced functions such as _jit_compiled_convolution_op, _jit_compiled_convolution_op, _jit_compiled_convolution_op while saving (showing 3 of 3). These functions will not be directly callable after loading.\n"
     ]
    },
    {
     "name": "stdout",
     "output_type": "stream",
     "text": [
      "INFO:tensorflow:Assets written to: /home/oscar47/Desktop/P-ai/p-music/CNN_oscar/wandb/run-20221123_230750-sgj6sa1k/files/model-best/assets\n"
     ]
    },
    {
     "name": "stderr",
     "output_type": "stream",
     "text": [
      "INFO:tensorflow:Assets written to: /home/oscar47/Desktop/P-ai/p-music/CNN_oscar/wandb/run-20221123_230750-sgj6sa1k/files/model-best/assets\n",
      "\u001b[34m\u001b[1mwandb\u001b[0m: Adding directory to artifact (/home/oscar47/Desktop/P-ai/p-music/CNN_oscar/wandb/run-20221123_230750-sgj6sa1k/files/model-best)... Done. 0.5s\n"
     ]
    },
    {
     "name": "stdout",
     "output_type": "stream",
     "text": [
      "12/12 [==============================] - 46s 4s/step - loss: 8.1712 - val_loss: 3.1408\n",
      "Epoch 7/23\n",
      "12/12 [==============================] - ETA: 0s - loss: 5.5581"
     ]
    },
    {
     "name": "stderr",
     "output_type": "stream",
     "text": [
      "WARNING:absl:Found untraced functions such as _jit_compiled_convolution_op, _jit_compiled_convolution_op, _jit_compiled_convolution_op while saving (showing 3 of 3). These functions will not be directly callable after loading.\n"
     ]
    },
    {
     "name": "stdout",
     "output_type": "stream",
     "text": [
      "INFO:tensorflow:Assets written to: /home/oscar47/Desktop/P-ai/p-music/CNN_oscar/wandb/run-20221123_230750-sgj6sa1k/files/model-best/assets\n"
     ]
    },
    {
     "name": "stderr",
     "output_type": "stream",
     "text": [
      "INFO:tensorflow:Assets written to: /home/oscar47/Desktop/P-ai/p-music/CNN_oscar/wandb/run-20221123_230750-sgj6sa1k/files/model-best/assets\n",
      "\u001b[34m\u001b[1mwandb\u001b[0m: Adding directory to artifact (/home/oscar47/Desktop/P-ai/p-music/CNN_oscar/wandb/run-20221123_230750-sgj6sa1k/files/model-best)... Done. 0.5s\n"
     ]
    },
    {
     "name": "stdout",
     "output_type": "stream",
     "text": [
      "12/12 [==============================] - 46s 4s/step - loss: 5.5581 - val_loss: 1.5174\n",
      "Epoch 8/23\n",
      "12/12 [==============================] - ETA: 0s - loss: 1.9479"
     ]
    },
    {
     "name": "stderr",
     "output_type": "stream",
     "text": [
      "WARNING:absl:Found untraced functions such as _jit_compiled_convolution_op, _jit_compiled_convolution_op, _jit_compiled_convolution_op while saving (showing 3 of 3). These functions will not be directly callable after loading.\n"
     ]
    },
    {
     "name": "stdout",
     "output_type": "stream",
     "text": [
      "INFO:tensorflow:Assets written to: /home/oscar47/Desktop/P-ai/p-music/CNN_oscar/wandb/run-20221123_230750-sgj6sa1k/files/model-best/assets\n"
     ]
    },
    {
     "name": "stderr",
     "output_type": "stream",
     "text": [
      "INFO:tensorflow:Assets written to: /home/oscar47/Desktop/P-ai/p-music/CNN_oscar/wandb/run-20221123_230750-sgj6sa1k/files/model-best/assets\n",
      "\u001b[34m\u001b[1mwandb\u001b[0m: Adding directory to artifact (/home/oscar47/Desktop/P-ai/p-music/CNN_oscar/wandb/run-20221123_230750-sgj6sa1k/files/model-best)... Done. 0.4s\n"
     ]
    },
    {
     "name": "stdout",
     "output_type": "stream",
     "text": [
      "12/12 [==============================] - 47s 4s/step - loss: 1.9479 - val_loss: 1.3681\n",
      "Epoch 9/23\n",
      "12/12 [==============================] - ETA: 0s - loss: 1.5487"
     ]
    },
    {
     "name": "stderr",
     "output_type": "stream",
     "text": [
      "WARNING:absl:Found untraced functions such as _jit_compiled_convolution_op, _jit_compiled_convolution_op, _jit_compiled_convolution_op while saving (showing 3 of 3). These functions will not be directly callable after loading.\n"
     ]
    },
    {
     "name": "stdout",
     "output_type": "stream",
     "text": [
      "INFO:tensorflow:Assets written to: /home/oscar47/Desktop/P-ai/p-music/CNN_oscar/wandb/run-20221123_230750-sgj6sa1k/files/model-best/assets\n"
     ]
    },
    {
     "name": "stderr",
     "output_type": "stream",
     "text": [
      "INFO:tensorflow:Assets written to: /home/oscar47/Desktop/P-ai/p-music/CNN_oscar/wandb/run-20221123_230750-sgj6sa1k/files/model-best/assets\n",
      "\u001b[34m\u001b[1mwandb\u001b[0m: Adding directory to artifact (/home/oscar47/Desktop/P-ai/p-music/CNN_oscar/wandb/run-20221123_230750-sgj6sa1k/files/model-best)... Done. 0.4s\n"
     ]
    },
    {
     "name": "stdout",
     "output_type": "stream",
     "text": [
      "12/12 [==============================] - 46s 4s/step - loss: 1.5487 - val_loss: 0.8678\n",
      "Epoch 10/23\n",
      "12/12 [==============================] - ETA: 0s - loss: 0.8422"
     ]
    },
    {
     "name": "stderr",
     "output_type": "stream",
     "text": [
      "WARNING:absl:Found untraced functions such as _jit_compiled_convolution_op, _jit_compiled_convolution_op, _jit_compiled_convolution_op while saving (showing 3 of 3). These functions will not be directly callable after loading.\n"
     ]
    },
    {
     "name": "stdout",
     "output_type": "stream",
     "text": [
      "INFO:tensorflow:Assets written to: /home/oscar47/Desktop/P-ai/p-music/CNN_oscar/wandb/run-20221123_230750-sgj6sa1k/files/model-best/assets\n"
     ]
    },
    {
     "name": "stderr",
     "output_type": "stream",
     "text": [
      "INFO:tensorflow:Assets written to: /home/oscar47/Desktop/P-ai/p-music/CNN_oscar/wandb/run-20221123_230750-sgj6sa1k/files/model-best/assets\n",
      "\u001b[34m\u001b[1mwandb\u001b[0m: Adding directory to artifact (/home/oscar47/Desktop/P-ai/p-music/CNN_oscar/wandb/run-20221123_230750-sgj6sa1k/files/model-best)... Done. 0.5s\n"
     ]
    },
    {
     "name": "stdout",
     "output_type": "stream",
     "text": [
      "12/12 [==============================] - 46s 4s/step - loss: 0.8422 - val_loss: 0.6758\n",
      "Epoch 11/23\n",
      "12/12 [==============================] - 45s 4s/step - loss: 0.8207 - val_loss: 1.7537\n",
      "Epoch 12/23\n",
      "12/12 [==============================] - 45s 4s/step - loss: 2.6540 - val_loss: 9.4091\n",
      "Epoch 13/23\n",
      "12/12 [==============================] - 45s 4s/step - loss: 5.7534 - val_loss: 5.4663\n",
      "Epoch 14/23\n",
      "12/12 [==============================] - ETA: 0s - loss: 1.8977"
     ]
    },
    {
     "name": "stderr",
     "output_type": "stream",
     "text": [
      "WARNING:absl:Found untraced functions such as _jit_compiled_convolution_op, _jit_compiled_convolution_op, _jit_compiled_convolution_op while saving (showing 3 of 3). These functions will not be directly callable after loading.\n"
     ]
    },
    {
     "name": "stdout",
     "output_type": "stream",
     "text": [
      "INFO:tensorflow:Assets written to: /home/oscar47/Desktop/P-ai/p-music/CNN_oscar/wandb/run-20221123_230750-sgj6sa1k/files/model-best/assets\n"
     ]
    },
    {
     "name": "stderr",
     "output_type": "stream",
     "text": [
      "INFO:tensorflow:Assets written to: /home/oscar47/Desktop/P-ai/p-music/CNN_oscar/wandb/run-20221123_230750-sgj6sa1k/files/model-best/assets\n",
      "\u001b[34m\u001b[1mwandb\u001b[0m: Adding directory to artifact (/home/oscar47/Desktop/P-ai/p-music/CNN_oscar/wandb/run-20221123_230750-sgj6sa1k/files/model-best)... Done. 0.4s\n"
     ]
    },
    {
     "name": "stdout",
     "output_type": "stream",
     "text": [
      "12/12 [==============================] - 46s 4s/step - loss: 1.8977 - val_loss: 0.5104\n",
      "Epoch 15/23\n",
      "12/12 [==============================] - 45s 4s/step - loss: 0.9659 - val_loss: 1.1986\n",
      "Epoch 16/23\n",
      "12/12 [==============================] - 45s 4s/step - loss: 3.5777 - val_loss: 29.3056\n",
      "Epoch 17/23\n",
      "12/12 [==============================] - 45s 4s/step - loss: 7526.2119 - val_loss: 5022.4551\n",
      "Epoch 18/23\n",
      "12/12 [==============================] - 45s 4s/step - loss: 7289.6494 - val_loss: 1777.1711\n",
      "Epoch 19/23\n",
      "12/12 [==============================] - 45s 4s/step - loss: 651.9451 - val_loss: 2032.8033\n",
      "Epoch 20/23\n",
      "12/12 [==============================] - 45s 4s/step - loss: 629.1006 - val_loss: 134.1229\n",
      "Epoch 21/23\n",
      "12/12 [==============================] - 45s 4s/step - loss: 79.4920 - val_loss: 33.5432\n",
      "Epoch 22/23\n",
      "12/12 [==============================] - 45s 4s/step - loss: 18.9099 - val_loss: 17.9340\n",
      "Epoch 23/23\n",
      "12/12 [==============================] - 45s 4s/step - loss: 5.7973 - val_loss: 6.3914\n"
     ]
    },
    {
     "data": {
      "text/html": [
       "Waiting for W&B process to finish... <strong style=\"color:green\">(success).</strong>"
      ],
      "text/plain": [
       "<IPython.core.display.HTML object>"
      ]
     },
     "metadata": {},
     "output_type": "display_data"
    },
    {
     "data": {
      "text/html": [
       "<style>\n",
       "    table.wandb td:nth-child(1) { padding: 0 10px; text-align: left ; width: auto;} td:nth-child(2) {text-align: left ; width: 100%}\n",
       "    .wandb-row { display: flex; flex-direction: row; flex-wrap: wrap; justify-content: flex-start; width: 100% }\n",
       "    .wandb-col { display: flex; flex-direction: column; flex-basis: 100%; flex: 1; padding: 10px; }\n",
       "    </style>\n",
       "<div class=\"wandb-row\"><div class=\"wandb-col\"><h3>Run history:</h3><br/><table class=\"wandb\"><tr><td>epoch</td><td>▁▁▂▂▂▃▃▃▄▄▄▅▅▅▅▆▆▆▇▇▇██</td></tr><tr><td>loss</td><td>█▁▁▁▁▁▁▁▁▁▁▁▁▁▁▁▁▁▁▁▁▁▁</td></tr><tr><td>val_loss</td><td>█▂▁▁▁▁▁▁▁▁▁▁▁▁▁▁█▃▄▁▁▁▁</td></tr></table><br/></div><div class=\"wandb-col\"><h3>Run summary:</h3><br/><table class=\"wandb\"><tr><td>best_epoch</td><td>13</td></tr><tr><td>best_val_loss</td><td>0.51042</td></tr><tr><td>epoch</td><td>22</td></tr><tr><td>loss</td><td>5.79728</td></tr><tr><td>val_loss</td><td>6.3914</td></tr></table><br/></div></div>"
      ],
      "text/plain": [
       "<IPython.core.display.HTML object>"
      ]
     },
     "metadata": {},
     "output_type": "display_data"
    },
    {
     "data": {
      "text/html": [
       "Synced <strong style=\"color:#cdcd00\">effortless-sweep-28</strong>: <a href=\"https://wandb.ai/p-ai/Oscar%20CNN1/runs/sgj6sa1k\" target=\"_blank\">https://wandb.ai/p-ai/Oscar%20CNN1/runs/sgj6sa1k</a><br/>Synced 6 W&B file(s), 1 media file(s), 45 artifact file(s) and 1 other file(s)"
      ],
      "text/plain": [
       "<IPython.core.display.HTML object>"
      ]
     },
     "metadata": {},
     "output_type": "display_data"
    },
    {
     "data": {
      "text/html": [
       "Find logs at: <code>./wandb/run-20221123_230750-sgj6sa1k/logs</code>"
      ],
      "text/plain": [
       "<IPython.core.display.HTML object>"
      ]
     },
     "metadata": {},
     "output_type": "display_data"
    },
    {
     "name": "stderr",
     "output_type": "stream",
     "text": [
      "\u001b[34m\u001b[1mwandb\u001b[0m: Agent Starting Run: 5jwknx0c with config:\n",
      "\u001b[34m\u001b[1mwandb\u001b[0m: \tbatch_size: 128\n",
      "\u001b[34m\u001b[1mwandb\u001b[0m: \tdense1: 80\n",
      "\u001b[34m\u001b[1mwandb\u001b[0m: \tepochs: 30\n",
      "\u001b[34m\u001b[1mwandb\u001b[0m: \tlearning_rate: 0.07543271445960559\n",
      "\u001b[34m\u001b[1mwandb\u001b[0m: \tsize_1: 175\n",
      "\u001b[34m\u001b[1mwandb\u001b[0m: \tsize_2: 131\n",
      "\u001b[34m\u001b[1mwandb\u001b[0m: \tsize_3: 221\n"
     ]
    },
    {
     "data": {
      "text/html": [
       "Tracking run with wandb version 0.13.5"
      ],
      "text/plain": [
       "<IPython.core.display.HTML object>"
      ]
     },
     "metadata": {},
     "output_type": "display_data"
    },
    {
     "data": {
      "text/html": [
       "Run data is saved locally in <code>/home/oscar47/Desktop/P-ai/p-music/CNN_oscar/wandb/run-20221123_232538-5jwknx0c</code>"
      ],
      "text/plain": [
       "<IPython.core.display.HTML object>"
      ]
     },
     "metadata": {},
     "output_type": "display_data"
    },
    {
     "data": {
      "text/html": [
       "Syncing run <strong><a href=\"https://wandb.ai/p-ai/Oscar%20CNN1/runs/5jwknx0c\" target=\"_blank\">cosmic-sweep-29</a></strong> to <a href=\"https://wandb.ai/p-ai/Oscar%20CNN1\" target=\"_blank\">Weights & Biases</a> (<a href=\"https://wandb.me/run\" target=\"_blank\">docs</a>)<br/>Sweep page:  <a href=\"https://wandb.ai/p-ai/Oscar%20CNN1/sweeps/wsxqxjvp\" target=\"_blank\">https://wandb.ai/p-ai/Oscar%20CNN1/sweeps/wsxqxjvp</a>"
      ],
      "text/plain": [
       "<IPython.core.display.HTML object>"
      ]
     },
     "metadata": {},
     "output_type": "display_data"
    },
    {
     "name": "stdout",
     "output_type": "stream",
     "text": [
      "Epoch 1/30\n",
      "12/12 [==============================] - ETA: 0s - loss: 7252879081472.0000"
     ]
    },
    {
     "name": "stderr",
     "output_type": "stream",
     "text": [
      "WARNING:absl:Found untraced functions such as _jit_compiled_convolution_op, _jit_compiled_convolution_op, _jit_compiled_convolution_op while saving (showing 3 of 3). These functions will not be directly callable after loading.\n"
     ]
    },
    {
     "name": "stdout",
     "output_type": "stream",
     "text": [
      "INFO:tensorflow:Assets written to: /home/oscar47/Desktop/P-ai/p-music/CNN_oscar/wandb/run-20221123_232538-5jwknx0c/files/model-best/assets\n"
     ]
    },
    {
     "name": "stderr",
     "output_type": "stream",
     "text": [
      "INFO:tensorflow:Assets written to: /home/oscar47/Desktop/P-ai/p-music/CNN_oscar/wandb/run-20221123_232538-5jwknx0c/files/model-best/assets\n",
      "\u001b[34m\u001b[1mwandb\u001b[0m: Adding directory to artifact (/home/oscar47/Desktop/P-ai/p-music/CNN_oscar/wandb/run-20221123_232538-5jwknx0c/files/model-best)... Done. 0.2s\n"
     ]
    },
    {
     "name": "stdout",
     "output_type": "stream",
     "text": [
      "12/12 [==============================] - 36s 3s/step - loss: 7252879081472.0000 - val_loss: 10275217.0000\n",
      "Epoch 2/30\n",
      "12/12 [==============================] - ETA: 0s - loss: 4716312.0000"
     ]
    },
    {
     "name": "stderr",
     "output_type": "stream",
     "text": [
      "WARNING:absl:Found untraced functions such as _jit_compiled_convolution_op, _jit_compiled_convolution_op, _jit_compiled_convolution_op while saving (showing 3 of 3). These functions will not be directly callable after loading.\n"
     ]
    },
    {
     "name": "stdout",
     "output_type": "stream",
     "text": [
      "INFO:tensorflow:Assets written to: /home/oscar47/Desktop/P-ai/p-music/CNN_oscar/wandb/run-20221123_232538-5jwknx0c/files/model-best/assets\n"
     ]
    },
    {
     "name": "stderr",
     "output_type": "stream",
     "text": [
      "INFO:tensorflow:Assets written to: /home/oscar47/Desktop/P-ai/p-music/CNN_oscar/wandb/run-20221123_232538-5jwknx0c/files/model-best/assets\n",
      "\u001b[34m\u001b[1mwandb\u001b[0m: Adding directory to artifact (/home/oscar47/Desktop/P-ai/p-music/CNN_oscar/wandb/run-20221123_232538-5jwknx0c/files/model-best)... Done. 0.2s\n"
     ]
    },
    {
     "name": "stdout",
     "output_type": "stream",
     "text": [
      "12/12 [==============================] - 35s 3s/step - loss: 4716312.0000 - val_loss: 2.0709\n",
      "Epoch 3/30\n",
      "12/12 [==============================] - ETA: 0s - loss: 2.0053"
     ]
    },
    {
     "name": "stderr",
     "output_type": "stream",
     "text": [
      "WARNING:absl:Found untraced functions such as _jit_compiled_convolution_op, _jit_compiled_convolution_op, _jit_compiled_convolution_op while saving (showing 3 of 3). These functions will not be directly callable after loading.\n"
     ]
    },
    {
     "name": "stdout",
     "output_type": "stream",
     "text": [
      "INFO:tensorflow:Assets written to: /home/oscar47/Desktop/P-ai/p-music/CNN_oscar/wandb/run-20221123_232538-5jwknx0c/files/model-best/assets\n"
     ]
    },
    {
     "name": "stderr",
     "output_type": "stream",
     "text": [
      "INFO:tensorflow:Assets written to: /home/oscar47/Desktop/P-ai/p-music/CNN_oscar/wandb/run-20221123_232538-5jwknx0c/files/model-best/assets\n",
      "\u001b[34m\u001b[1mwandb\u001b[0m: Adding directory to artifact (/home/oscar47/Desktop/P-ai/p-music/CNN_oscar/wandb/run-20221123_232538-5jwknx0c/files/model-best)... Done. 0.2s\n"
     ]
    },
    {
     "name": "stdout",
     "output_type": "stream",
     "text": [
      "12/12 [==============================] - 35s 3s/step - loss: 2.0053 - val_loss: 1.9106\n",
      "Epoch 4/30\n",
      "12/12 [==============================] - ETA: 0s - loss: 1.7500"
     ]
    },
    {
     "name": "stderr",
     "output_type": "stream",
     "text": [
      "WARNING:absl:Found untraced functions such as _jit_compiled_convolution_op, _jit_compiled_convolution_op, _jit_compiled_convolution_op while saving (showing 3 of 3). These functions will not be directly callable after loading.\n"
     ]
    },
    {
     "name": "stdout",
     "output_type": "stream",
     "text": [
      "INFO:tensorflow:Assets written to: /home/oscar47/Desktop/P-ai/p-music/CNN_oscar/wandb/run-20221123_232538-5jwknx0c/files/model-best/assets\n"
     ]
    },
    {
     "name": "stderr",
     "output_type": "stream",
     "text": [
      "INFO:tensorflow:Assets written to: /home/oscar47/Desktop/P-ai/p-music/CNN_oscar/wandb/run-20221123_232538-5jwknx0c/files/model-best/assets\n",
      "\u001b[34m\u001b[1mwandb\u001b[0m: Adding directory to artifact (/home/oscar47/Desktop/P-ai/p-music/CNN_oscar/wandb/run-20221123_232538-5jwknx0c/files/model-best)... Done. 0.2s\n"
     ]
    },
    {
     "name": "stdout",
     "output_type": "stream",
     "text": [
      "12/12 [==============================] - 35s 3s/step - loss: 1.7500 - val_loss: 1.5035\n",
      "Epoch 5/30\n",
      "12/12 [==============================] - ETA: 0s - loss: 1.2738"
     ]
    },
    {
     "name": "stderr",
     "output_type": "stream",
     "text": [
      "WARNING:absl:Found untraced functions such as _jit_compiled_convolution_op, _jit_compiled_convolution_op, _jit_compiled_convolution_op while saving (showing 3 of 3). These functions will not be directly callable after loading.\n"
     ]
    },
    {
     "name": "stdout",
     "output_type": "stream",
     "text": [
      "INFO:tensorflow:Assets written to: /home/oscar47/Desktop/P-ai/p-music/CNN_oscar/wandb/run-20221123_232538-5jwknx0c/files/model-best/assets\n"
     ]
    },
    {
     "name": "stderr",
     "output_type": "stream",
     "text": [
      "INFO:tensorflow:Assets written to: /home/oscar47/Desktop/P-ai/p-music/CNN_oscar/wandb/run-20221123_232538-5jwknx0c/files/model-best/assets\n",
      "\u001b[34m\u001b[1mwandb\u001b[0m: Adding directory to artifact (/home/oscar47/Desktop/P-ai/p-music/CNN_oscar/wandb/run-20221123_232538-5jwknx0c/files/model-best)... Done. 0.2s\n"
     ]
    },
    {
     "name": "stdout",
     "output_type": "stream",
     "text": [
      "12/12 [==============================] - 35s 3s/step - loss: 1.2738 - val_loss: 0.9175\n",
      "Epoch 6/30\n",
      "12/12 [==============================] - ETA: 0s - loss: 0.6036"
     ]
    },
    {
     "name": "stderr",
     "output_type": "stream",
     "text": [
      "WARNING:absl:Found untraced functions such as _jit_compiled_convolution_op, _jit_compiled_convolution_op, _jit_compiled_convolution_op while saving (showing 3 of 3). These functions will not be directly callable after loading.\n"
     ]
    },
    {
     "name": "stdout",
     "output_type": "stream",
     "text": [
      "INFO:tensorflow:Assets written to: /home/oscar47/Desktop/P-ai/p-music/CNN_oscar/wandb/run-20221123_232538-5jwknx0c/files/model-best/assets\n"
     ]
    },
    {
     "name": "stderr",
     "output_type": "stream",
     "text": [
      "INFO:tensorflow:Assets written to: /home/oscar47/Desktop/P-ai/p-music/CNN_oscar/wandb/run-20221123_232538-5jwknx0c/files/model-best/assets\n",
      "\u001b[34m\u001b[1mwandb\u001b[0m: Adding directory to artifact (/home/oscar47/Desktop/P-ai/p-music/CNN_oscar/wandb/run-20221123_232538-5jwknx0c/files/model-best)... Done. 0.2s\n"
     ]
    },
    {
     "name": "stdout",
     "output_type": "stream",
     "text": [
      "12/12 [==============================] - 35s 3s/step - loss: 0.6036 - val_loss: 0.2062\n",
      "Epoch 7/30\n",
      "12/12 [==============================] - ETA: 0s - loss: 0.0639"
     ]
    },
    {
     "name": "stderr",
     "output_type": "stream",
     "text": [
      "WARNING:absl:Found untraced functions such as _jit_compiled_convolution_op, _jit_compiled_convolution_op, _jit_compiled_convolution_op while saving (showing 3 of 3). These functions will not be directly callable after loading.\n"
     ]
    },
    {
     "name": "stdout",
     "output_type": "stream",
     "text": [
      "INFO:tensorflow:Assets written to: /home/oscar47/Desktop/P-ai/p-music/CNN_oscar/wandb/run-20221123_232538-5jwknx0c/files/model-best/assets\n"
     ]
    },
    {
     "name": "stderr",
     "output_type": "stream",
     "text": [
      "INFO:tensorflow:Assets written to: /home/oscar47/Desktop/P-ai/p-music/CNN_oscar/wandb/run-20221123_232538-5jwknx0c/files/model-best/assets\n",
      "\u001b[34m\u001b[1mwandb\u001b[0m: Adding directory to artifact (/home/oscar47/Desktop/P-ai/p-music/CNN_oscar/wandb/run-20221123_232538-5jwknx0c/files/model-best)... Done. 0.2s\n"
     ]
    },
    {
     "name": "stdout",
     "output_type": "stream",
     "text": [
      "12/12 [==============================] - 35s 3s/step - loss: 0.0639 - val_loss: 0.0128\n",
      "Epoch 8/30\n",
      "12/12 [==============================] - 34s 3s/step - loss: 0.0324 - val_loss: 0.0246\n",
      "Epoch 9/30\n",
      "12/12 [==============================] - ETA: 0s - loss: 0.0089"
     ]
    },
    {
     "name": "stderr",
     "output_type": "stream",
     "text": [
      "WARNING:absl:Found untraced functions such as _jit_compiled_convolution_op, _jit_compiled_convolution_op, _jit_compiled_convolution_op while saving (showing 3 of 3). These functions will not be directly callable after loading.\n"
     ]
    },
    {
     "name": "stdout",
     "output_type": "stream",
     "text": [
      "INFO:tensorflow:Assets written to: /home/oscar47/Desktop/P-ai/p-music/CNN_oscar/wandb/run-20221123_232538-5jwknx0c/files/model-best/assets\n"
     ]
    },
    {
     "name": "stderr",
     "output_type": "stream",
     "text": [
      "INFO:tensorflow:Assets written to: /home/oscar47/Desktop/P-ai/p-music/CNN_oscar/wandb/run-20221123_232538-5jwknx0c/files/model-best/assets\n",
      "\u001b[34m\u001b[1mwandb\u001b[0m: Adding directory to artifact (/home/oscar47/Desktop/P-ai/p-music/CNN_oscar/wandb/run-20221123_232538-5jwknx0c/files/model-best)... Done. 0.2s\n"
     ]
    },
    {
     "name": "stdout",
     "output_type": "stream",
     "text": [
      "12/12 [==============================] - 35s 3s/step - loss: 0.0089 - val_loss: 0.0022\n",
      "Epoch 10/30\n",
      "12/12 [==============================] - 34s 3s/step - loss: 0.0039 - val_loss: 0.0035\n",
      "Epoch 11/30\n",
      "12/12 [==============================] - ETA: 0s - loss: 0.0023"
     ]
    },
    {
     "name": "stderr",
     "output_type": "stream",
     "text": [
      "WARNING:absl:Found untraced functions such as _jit_compiled_convolution_op, _jit_compiled_convolution_op, _jit_compiled_convolution_op while saving (showing 3 of 3). These functions will not be directly callable after loading.\n"
     ]
    },
    {
     "name": "stdout",
     "output_type": "stream",
     "text": [
      "INFO:tensorflow:Assets written to: /home/oscar47/Desktop/P-ai/p-music/CNN_oscar/wandb/run-20221123_232538-5jwknx0c/files/model-best/assets\n"
     ]
    },
    {
     "name": "stderr",
     "output_type": "stream",
     "text": [
      "INFO:tensorflow:Assets written to: /home/oscar47/Desktop/P-ai/p-music/CNN_oscar/wandb/run-20221123_232538-5jwknx0c/files/model-best/assets\n",
      "\u001b[34m\u001b[1mwandb\u001b[0m: Adding directory to artifact (/home/oscar47/Desktop/P-ai/p-music/CNN_oscar/wandb/run-20221123_232538-5jwknx0c/files/model-best)... Done. 0.2s\n"
     ]
    },
    {
     "name": "stdout",
     "output_type": "stream",
     "text": [
      "12/12 [==============================] - 34s 3s/step - loss: 0.0023 - val_loss: 0.0016\n",
      "Epoch 12/30\n",
      "12/12 [==============================] - 34s 3s/step - loss: 0.0018 - val_loss: 0.0017\n",
      "Epoch 13/30\n",
      "12/12 [==============================] - ETA: 0s - loss: 0.0017"
     ]
    },
    {
     "name": "stderr",
     "output_type": "stream",
     "text": [
      "WARNING:absl:Found untraced functions such as _jit_compiled_convolution_op, _jit_compiled_convolution_op, _jit_compiled_convolution_op while saving (showing 3 of 3). These functions will not be directly callable after loading.\n"
     ]
    },
    {
     "name": "stdout",
     "output_type": "stream",
     "text": [
      "INFO:tensorflow:Assets written to: /home/oscar47/Desktop/P-ai/p-music/CNN_oscar/wandb/run-20221123_232538-5jwknx0c/files/model-best/assets\n"
     ]
    },
    {
     "name": "stderr",
     "output_type": "stream",
     "text": [
      "INFO:tensorflow:Assets written to: /home/oscar47/Desktop/P-ai/p-music/CNN_oscar/wandb/run-20221123_232538-5jwknx0c/files/model-best/assets\n",
      "\u001b[34m\u001b[1mwandb\u001b[0m: Adding directory to artifact (/home/oscar47/Desktop/P-ai/p-music/CNN_oscar/wandb/run-20221123_232538-5jwknx0c/files/model-best)... Done. 0.2s\n"
     ]
    },
    {
     "name": "stdout",
     "output_type": "stream",
     "text": [
      "12/12 [==============================] - 35s 3s/step - loss: 0.0017 - val_loss: 0.0015\n",
      "Epoch 14/30\n",
      "12/12 [==============================] - 34s 3s/step - loss: 0.0016 - val_loss: 0.0016\n",
      "Epoch 15/30\n",
      "12/12 [==============================] - ETA: 0s - loss: 0.0016"
     ]
    },
    {
     "name": "stderr",
     "output_type": "stream",
     "text": [
      "WARNING:absl:Found untraced functions such as _jit_compiled_convolution_op, _jit_compiled_convolution_op, _jit_compiled_convolution_op while saving (showing 3 of 3). These functions will not be directly callable after loading.\n"
     ]
    },
    {
     "name": "stdout",
     "output_type": "stream",
     "text": [
      "INFO:tensorflow:Assets written to: /home/oscar47/Desktop/P-ai/p-music/CNN_oscar/wandb/run-20221123_232538-5jwknx0c/files/model-best/assets\n"
     ]
    },
    {
     "name": "stderr",
     "output_type": "stream",
     "text": [
      "INFO:tensorflow:Assets written to: /home/oscar47/Desktop/P-ai/p-music/CNN_oscar/wandb/run-20221123_232538-5jwknx0c/files/model-best/assets\n",
      "\u001b[34m\u001b[1mwandb\u001b[0m: Adding directory to artifact (/home/oscar47/Desktop/P-ai/p-music/CNN_oscar/wandb/run-20221123_232538-5jwknx0c/files/model-best)... Done. 0.2s\n"
     ]
    },
    {
     "name": "stdout",
     "output_type": "stream",
     "text": [
      "12/12 [==============================] - 35s 3s/step - loss: 0.0016 - val_loss: 0.0015\n",
      "Epoch 16/30\n",
      "12/12 [==============================] - ETA: 0s - loss: 0.0016"
     ]
    },
    {
     "name": "stderr",
     "output_type": "stream",
     "text": [
      "WARNING:absl:Found untraced functions such as _jit_compiled_convolution_op, _jit_compiled_convolution_op, _jit_compiled_convolution_op while saving (showing 3 of 3). These functions will not be directly callable after loading.\n"
     ]
    },
    {
     "name": "stdout",
     "output_type": "stream",
     "text": [
      "INFO:tensorflow:Assets written to: /home/oscar47/Desktop/P-ai/p-music/CNN_oscar/wandb/run-20221123_232538-5jwknx0c/files/model-best/assets\n"
     ]
    },
    {
     "name": "stderr",
     "output_type": "stream",
     "text": [
      "INFO:tensorflow:Assets written to: /home/oscar47/Desktop/P-ai/p-music/CNN_oscar/wandb/run-20221123_232538-5jwknx0c/files/model-best/assets\n",
      "\u001b[34m\u001b[1mwandb\u001b[0m: Adding directory to artifact (/home/oscar47/Desktop/P-ai/p-music/CNN_oscar/wandb/run-20221123_232538-5jwknx0c/files/model-best)... Done. 0.2s\n"
     ]
    },
    {
     "name": "stdout",
     "output_type": "stream",
     "text": [
      "12/12 [==============================] - 35s 3s/step - loss: 0.0016 - val_loss: 0.0015\n",
      "Epoch 17/30\n",
      "12/12 [==============================] - ETA: 0s - loss: 0.0016"
     ]
    },
    {
     "name": "stderr",
     "output_type": "stream",
     "text": [
      "WARNING:absl:Found untraced functions such as _jit_compiled_convolution_op, _jit_compiled_convolution_op, _jit_compiled_convolution_op while saving (showing 3 of 3). These functions will not be directly callable after loading.\n"
     ]
    },
    {
     "name": "stdout",
     "output_type": "stream",
     "text": [
      "INFO:tensorflow:Assets written to: /home/oscar47/Desktop/P-ai/p-music/CNN_oscar/wandb/run-20221123_232538-5jwknx0c/files/model-best/assets\n"
     ]
    },
    {
     "name": "stderr",
     "output_type": "stream",
     "text": [
      "INFO:tensorflow:Assets written to: /home/oscar47/Desktop/P-ai/p-music/CNN_oscar/wandb/run-20221123_232538-5jwknx0c/files/model-best/assets\n",
      "\u001b[34m\u001b[1mwandb\u001b[0m: Adding directory to artifact (/home/oscar47/Desktop/P-ai/p-music/CNN_oscar/wandb/run-20221123_232538-5jwknx0c/files/model-best)... Done. 0.2s\n"
     ]
    },
    {
     "name": "stdout",
     "output_type": "stream",
     "text": [
      "12/12 [==============================] - 35s 3s/step - loss: 0.0016 - val_loss: 0.0015\n",
      "Epoch 18/30\n",
      "12/12 [==============================] - ETA: 0s - loss: 0.0016"
     ]
    },
    {
     "name": "stderr",
     "output_type": "stream",
     "text": [
      "WARNING:absl:Found untraced functions such as _jit_compiled_convolution_op, _jit_compiled_convolution_op, _jit_compiled_convolution_op while saving (showing 3 of 3). These functions will not be directly callable after loading.\n"
     ]
    },
    {
     "name": "stdout",
     "output_type": "stream",
     "text": [
      "INFO:tensorflow:Assets written to: /home/oscar47/Desktop/P-ai/p-music/CNN_oscar/wandb/run-20221123_232538-5jwknx0c/files/model-best/assets\n"
     ]
    },
    {
     "name": "stderr",
     "output_type": "stream",
     "text": [
      "INFO:tensorflow:Assets written to: /home/oscar47/Desktop/P-ai/p-music/CNN_oscar/wandb/run-20221123_232538-5jwknx0c/files/model-best/assets\n",
      "\u001b[34m\u001b[1mwandb\u001b[0m: Adding directory to artifact (/home/oscar47/Desktop/P-ai/p-music/CNN_oscar/wandb/run-20221123_232538-5jwknx0c/files/model-best)... Done. 0.2s\n"
     ]
    },
    {
     "name": "stdout",
     "output_type": "stream",
     "text": [
      "12/12 [==============================] - 35s 3s/step - loss: 0.0016 - val_loss: 0.0015\n",
      "Epoch 19/30\n",
      "12/12 [==============================] - 34s 3s/step - loss: 0.0016 - val_loss: 0.0015\n",
      "Epoch 20/30\n",
      "12/12 [==============================] - 34s 3s/step - loss: 0.0016 - val_loss: 0.0015\n",
      "Epoch 21/30\n",
      "12/12 [==============================] - 34s 3s/step - loss: 0.0016 - val_loss: 0.0015\n",
      "Epoch 22/30\n",
      "12/12 [==============================] - 34s 3s/step - loss: 0.0016 - val_loss: 0.0015\n",
      "Epoch 23/30\n",
      "12/12 [==============================] - 34s 3s/step - loss: 0.0016 - val_loss: 0.0015\n",
      "Epoch 24/30\n",
      "12/12 [==============================] - 34s 3s/step - loss: 0.0016 - val_loss: 0.0015\n",
      "Epoch 25/30\n",
      "12/12 [==============================] - 34s 3s/step - loss: 0.0016 - val_loss: 0.0015\n",
      "Epoch 26/30\n",
      "12/12 [==============================] - 34s 3s/step - loss: 0.0016 - val_loss: 0.0015\n",
      "Epoch 27/30\n",
      "12/12 [==============================] - 34s 3s/step - loss: 0.0016 - val_loss: 0.0015\n",
      "Epoch 28/30\n",
      "12/12 [==============================] - 34s 3s/step - loss: 0.0016 - val_loss: 0.0015\n",
      "Epoch 29/30\n",
      "12/12 [==============================] - 34s 3s/step - loss: 0.0016 - val_loss: 0.0015\n",
      "Epoch 30/30\n",
      "12/12 [==============================] - 34s 3s/step - loss: 0.0016 - val_loss: 0.0015\n"
     ]
    },
    {
     "data": {
      "text/html": [
       "Waiting for W&B process to finish... <strong style=\"color:green\">(success).</strong>"
      ],
      "text/plain": [
       "<IPython.core.display.HTML object>"
      ]
     },
     "metadata": {},
     "output_type": "display_data"
    },
    {
     "data": {
      "text/html": [
       "<style>\n",
       "    table.wandb td:nth-child(1) { padding: 0 10px; text-align: left ; width: auto;} td:nth-child(2) {text-align: left ; width: 100%}\n",
       "    .wandb-row { display: flex; flex-direction: row; flex-wrap: wrap; justify-content: flex-start; width: 100% }\n",
       "    .wandb-col { display: flex; flex-direction: column; flex-basis: 100%; flex: 1; padding: 10px; }\n",
       "    </style>\n",
       "<div class=\"wandb-row\"><div class=\"wandb-col\"><h3>Run history:</h3><br/><table class=\"wandb\"><tr><td>epoch</td><td>▁▁▁▂▂▂▂▃▃▃▃▄▄▄▄▅▅▅▅▆▆▆▆▇▇▇▇███</td></tr><tr><td>loss</td><td>█▁▁▁▁▁▁▁▁▁▁▁▁▁▁▁▁▁▁▁▁▁▁▁▁▁▁▁▁▁</td></tr><tr><td>val_loss</td><td>█▁▁▁▁▁▁▁▁▁▁▁▁▁▁▁▁▁▁▁▁▁▁▁▁▁▁▁▁▁</td></tr></table><br/></div><div class=\"wandb-col\"><h3>Run summary:</h3><br/><table class=\"wandb\"><tr><td>best_epoch</td><td>17</td></tr><tr><td>best_val_loss</td><td>0.00154</td></tr><tr><td>epoch</td><td>29</td></tr><tr><td>loss</td><td>0.00161</td></tr><tr><td>val_loss</td><td>0.00155</td></tr></table><br/></div></div>"
      ],
      "text/plain": [
       "<IPython.core.display.HTML object>"
      ]
     },
     "metadata": {},
     "output_type": "display_data"
    },
    {
     "data": {
      "text/html": [
       "Synced <strong style=\"color:#cdcd00\">cosmic-sweep-29</strong>: <a href=\"https://wandb.ai/p-ai/Oscar%20CNN1/runs/5jwknx0c\" target=\"_blank\">https://wandb.ai/p-ai/Oscar%20CNN1/runs/5jwknx0c</a><br/>Synced 6 W&B file(s), 1 media file(s), 57 artifact file(s) and 1 other file(s)"
      ],
      "text/plain": [
       "<IPython.core.display.HTML object>"
      ]
     },
     "metadata": {},
     "output_type": "display_data"
    },
    {
     "data": {
      "text/html": [
       "Find logs at: <code>./wandb/run-20221123_232538-5jwknx0c/logs</code>"
      ],
      "text/plain": [
       "<IPython.core.display.HTML object>"
      ]
     },
     "metadata": {},
     "output_type": "display_data"
    },
    {
     "name": "stderr",
     "output_type": "stream",
     "text": [
      "\u001b[34m\u001b[1mwandb\u001b[0m: Agent Starting Run: 5z6ei09l with config:\n",
      "\u001b[34m\u001b[1mwandb\u001b[0m: \tbatch_size: 64\n",
      "\u001b[34m\u001b[1mwandb\u001b[0m: \tdense1: 81\n",
      "\u001b[34m\u001b[1mwandb\u001b[0m: \tepochs: 22\n",
      "\u001b[34m\u001b[1mwandb\u001b[0m: \tlearning_rate: 0.042299092189641174\n",
      "\u001b[34m\u001b[1mwandb\u001b[0m: \tsize_1: 204\n",
      "\u001b[34m\u001b[1mwandb\u001b[0m: \tsize_2: 213\n",
      "\u001b[34m\u001b[1mwandb\u001b[0m: \tsize_3: 65\n"
     ]
    },
    {
     "data": {
      "text/html": [
       "Tracking run with wandb version 0.13.5"
      ],
      "text/plain": [
       "<IPython.core.display.HTML object>"
      ]
     },
     "metadata": {},
     "output_type": "display_data"
    },
    {
     "data": {
      "text/html": [
       "Run data is saved locally in <code>/home/oscar47/Desktop/P-ai/p-music/CNN_oscar/wandb/run-20221123_234309-5z6ei09l</code>"
      ],
      "text/plain": [
       "<IPython.core.display.HTML object>"
      ]
     },
     "metadata": {},
     "output_type": "display_data"
    },
    {
     "data": {
      "text/html": [
       "Syncing run <strong><a href=\"https://wandb.ai/p-ai/Oscar%20CNN1/runs/5z6ei09l\" target=\"_blank\">firm-sweep-30</a></strong> to <a href=\"https://wandb.ai/p-ai/Oscar%20CNN1\" target=\"_blank\">Weights & Biases</a> (<a href=\"https://wandb.me/run\" target=\"_blank\">docs</a>)<br/>Sweep page:  <a href=\"https://wandb.ai/p-ai/Oscar%20CNN1/sweeps/wsxqxjvp\" target=\"_blank\">https://wandb.ai/p-ai/Oscar%20CNN1/sweeps/wsxqxjvp</a>"
      ],
      "text/plain": [
       "<IPython.core.display.HTML object>"
      ]
     },
     "metadata": {},
     "output_type": "display_data"
    },
    {
     "name": "stdout",
     "output_type": "stream",
     "text": [
      "Epoch 1/22\n",
      "23/23 [==============================] - ETA: 0s - loss: 39600705536.0000"
     ]
    },
    {
     "name": "stderr",
     "output_type": "stream",
     "text": [
      "WARNING:absl:Found untraced functions such as _jit_compiled_convolution_op, _jit_compiled_convolution_op, _jit_compiled_convolution_op while saving (showing 3 of 3). These functions will not be directly callable after loading.\n"
     ]
    },
    {
     "name": "stdout",
     "output_type": "stream",
     "text": [
      "INFO:tensorflow:Assets written to: /home/oscar47/Desktop/P-ai/p-music/CNN_oscar/wandb/run-20221123_234309-5z6ei09l/files/model-best/assets\n"
     ]
    },
    {
     "name": "stderr",
     "output_type": "stream",
     "text": [
      "INFO:tensorflow:Assets written to: /home/oscar47/Desktop/P-ai/p-music/CNN_oscar/wandb/run-20221123_234309-5z6ei09l/files/model-best/assets\n",
      "\u001b[34m\u001b[1mwandb\u001b[0m: Adding directory to artifact (/home/oscar47/Desktop/P-ai/p-music/CNN_oscar/wandb/run-20221123_234309-5z6ei09l/files/model-best)... Done. 0.1s\n"
     ]
    },
    {
     "name": "stdout",
     "output_type": "stream",
     "text": [
      "23/23 [==============================] - 48s 2s/step - loss: 39600705536.0000 - val_loss: 0.1927\n",
      "Epoch 2/22\n",
      "23/23 [==============================] - ETA: 0s - loss: 0.0557"
     ]
    },
    {
     "name": "stderr",
     "output_type": "stream",
     "text": [
      "WARNING:absl:Found untraced functions such as _jit_compiled_convolution_op, _jit_compiled_convolution_op, _jit_compiled_convolution_op while saving (showing 3 of 3). These functions will not be directly callable after loading.\n"
     ]
    },
    {
     "name": "stdout",
     "output_type": "stream",
     "text": [
      "INFO:tensorflow:Assets written to: /home/oscar47/Desktop/P-ai/p-music/CNN_oscar/wandb/run-20221123_234309-5z6ei09l/files/model-best/assets\n"
     ]
    },
    {
     "name": "stderr",
     "output_type": "stream",
     "text": [
      "INFO:tensorflow:Assets written to: /home/oscar47/Desktop/P-ai/p-music/CNN_oscar/wandb/run-20221123_234309-5z6ei09l/files/model-best/assets\n",
      "\u001b[34m\u001b[1mwandb\u001b[0m: Adding directory to artifact (/home/oscar47/Desktop/P-ai/p-music/CNN_oscar/wandb/run-20221123_234309-5z6ei09l/files/model-best)... Done. 0.1s\n"
     ]
    },
    {
     "name": "stdout",
     "output_type": "stream",
     "text": [
      "23/23 [==============================] - 47s 2s/step - loss: 0.0557 - val_loss: 0.0317\n",
      "Epoch 3/22\n",
      "23/23 [==============================] - ETA: 0s - loss: 0.0084"
     ]
    },
    {
     "name": "stderr",
     "output_type": "stream",
     "text": [
      "WARNING:absl:Found untraced functions such as _jit_compiled_convolution_op, _jit_compiled_convolution_op, _jit_compiled_convolution_op while saving (showing 3 of 3). These functions will not be directly callable after loading.\n"
     ]
    },
    {
     "name": "stdout",
     "output_type": "stream",
     "text": [
      "INFO:tensorflow:Assets written to: /home/oscar47/Desktop/P-ai/p-music/CNN_oscar/wandb/run-20221123_234309-5z6ei09l/files/model-best/assets\n"
     ]
    },
    {
     "name": "stderr",
     "output_type": "stream",
     "text": [
      "INFO:tensorflow:Assets written to: /home/oscar47/Desktop/P-ai/p-music/CNN_oscar/wandb/run-20221123_234309-5z6ei09l/files/model-best/assets\n",
      "\u001b[34m\u001b[1mwandb\u001b[0m: Adding directory to artifact (/home/oscar47/Desktop/P-ai/p-music/CNN_oscar/wandb/run-20221123_234309-5z6ei09l/files/model-best)... Done. 0.1s\n"
     ]
    },
    {
     "name": "stdout",
     "output_type": "stream",
     "text": [
      "23/23 [==============================] - 47s 2s/step - loss: 0.0084 - val_loss: 0.0032\n",
      "Epoch 4/22\n",
      "23/23 [==============================] - ETA: 0s - loss: 0.0022"
     ]
    },
    {
     "name": "stderr",
     "output_type": "stream",
     "text": [
      "WARNING:absl:Found untraced functions such as _jit_compiled_convolution_op, _jit_compiled_convolution_op, _jit_compiled_convolution_op while saving (showing 3 of 3). These functions will not be directly callable after loading.\n"
     ]
    },
    {
     "name": "stdout",
     "output_type": "stream",
     "text": [
      "INFO:tensorflow:Assets written to: /home/oscar47/Desktop/P-ai/p-music/CNN_oscar/wandb/run-20221123_234309-5z6ei09l/files/model-best/assets\n"
     ]
    },
    {
     "name": "stderr",
     "output_type": "stream",
     "text": [
      "INFO:tensorflow:Assets written to: /home/oscar47/Desktop/P-ai/p-music/CNN_oscar/wandb/run-20221123_234309-5z6ei09l/files/model-best/assets\n",
      "\u001b[34m\u001b[1mwandb\u001b[0m: Adding directory to artifact (/home/oscar47/Desktop/P-ai/p-music/CNN_oscar/wandb/run-20221123_234309-5z6ei09l/files/model-best)... Done. 0.1s\n"
     ]
    },
    {
     "name": "stdout",
     "output_type": "stream",
     "text": [
      "23/23 [==============================] - 47s 2s/step - loss: 0.0022 - val_loss: 0.0016\n",
      "Epoch 5/22\n",
      "23/23 [==============================] - ETA: 0s - loss: 0.0016"
     ]
    },
    {
     "name": "stderr",
     "output_type": "stream",
     "text": [
      "WARNING:absl:Found untraced functions such as _jit_compiled_convolution_op, _jit_compiled_convolution_op, _jit_compiled_convolution_op while saving (showing 3 of 3). These functions will not be directly callable after loading.\n"
     ]
    },
    {
     "name": "stdout",
     "output_type": "stream",
     "text": [
      "INFO:tensorflow:Assets written to: /home/oscar47/Desktop/P-ai/p-music/CNN_oscar/wandb/run-20221123_234309-5z6ei09l/files/model-best/assets\n"
     ]
    },
    {
     "name": "stderr",
     "output_type": "stream",
     "text": [
      "INFO:tensorflow:Assets written to: /home/oscar47/Desktop/P-ai/p-music/CNN_oscar/wandb/run-20221123_234309-5z6ei09l/files/model-best/assets\n",
      "\u001b[34m\u001b[1mwandb\u001b[0m: Adding directory to artifact (/home/oscar47/Desktop/P-ai/p-music/CNN_oscar/wandb/run-20221123_234309-5z6ei09l/files/model-best)... Done. 0.1s\n"
     ]
    },
    {
     "name": "stdout",
     "output_type": "stream",
     "text": [
      "23/23 [==============================] - 47s 2s/step - loss: 0.0016 - val_loss: 0.0016\n",
      "Epoch 6/22\n",
      "23/23 [==============================] - 46s 2s/step - loss: 0.0016 - val_loss: 0.0016\n",
      "Epoch 7/22\n",
      "23/23 [==============================] - ETA: 0s - loss: 0.0016"
     ]
    },
    {
     "name": "stderr",
     "output_type": "stream",
     "text": [
      "WARNING:absl:Found untraced functions such as _jit_compiled_convolution_op, _jit_compiled_convolution_op, _jit_compiled_convolution_op while saving (showing 3 of 3). These functions will not be directly callable after loading.\n"
     ]
    },
    {
     "name": "stdout",
     "output_type": "stream",
     "text": [
      "INFO:tensorflow:Assets written to: /home/oscar47/Desktop/P-ai/p-music/CNN_oscar/wandb/run-20221123_234309-5z6ei09l/files/model-best/assets\n"
     ]
    },
    {
     "name": "stderr",
     "output_type": "stream",
     "text": [
      "INFO:tensorflow:Assets written to: /home/oscar47/Desktop/P-ai/p-music/CNN_oscar/wandb/run-20221123_234309-5z6ei09l/files/model-best/assets\n",
      "\u001b[34m\u001b[1mwandb\u001b[0m: Adding directory to artifact (/home/oscar47/Desktop/P-ai/p-music/CNN_oscar/wandb/run-20221123_234309-5z6ei09l/files/model-best)... Done. 0.1s\n"
     ]
    },
    {
     "name": "stdout",
     "output_type": "stream",
     "text": [
      "23/23 [==============================] - 47s 2s/step - loss: 0.0016 - val_loss: 0.0015\n",
      "Epoch 8/22\n",
      "23/23 [==============================] - 46s 2s/step - loss: 0.0016 - val_loss: 0.0015\n",
      "Epoch 9/22\n",
      "23/23 [==============================] - ETA: 0s - loss: 0.0016"
     ]
    },
    {
     "name": "stderr",
     "output_type": "stream",
     "text": [
      "WARNING:absl:Found untraced functions such as _jit_compiled_convolution_op, _jit_compiled_convolution_op, _jit_compiled_convolution_op while saving (showing 3 of 3). These functions will not be directly callable after loading.\n"
     ]
    },
    {
     "name": "stdout",
     "output_type": "stream",
     "text": [
      "INFO:tensorflow:Assets written to: /home/oscar47/Desktop/P-ai/p-music/CNN_oscar/wandb/run-20221123_234309-5z6ei09l/files/model-best/assets\n"
     ]
    },
    {
     "name": "stderr",
     "output_type": "stream",
     "text": [
      "INFO:tensorflow:Assets written to: /home/oscar47/Desktop/P-ai/p-music/CNN_oscar/wandb/run-20221123_234309-5z6ei09l/files/model-best/assets\n",
      "\u001b[34m\u001b[1mwandb\u001b[0m: Adding directory to artifact (/home/oscar47/Desktop/P-ai/p-music/CNN_oscar/wandb/run-20221123_234309-5z6ei09l/files/model-best)... Done. 0.1s\n"
     ]
    },
    {
     "name": "stdout",
     "output_type": "stream",
     "text": [
      "23/23 [==============================] - 47s 2s/step - loss: 0.0016 - val_loss: 0.0015\n",
      "Epoch 10/22\n",
      "23/23 [==============================] - 46s 2s/step - loss: 0.0016 - val_loss: 0.0016\n",
      "Epoch 11/22\n",
      "23/23 [==============================] - 46s 2s/step - loss: 0.0016 - val_loss: 0.0016\n",
      "Epoch 12/22\n",
      "23/23 [==============================] - 46s 2s/step - loss: 0.0016 - val_loss: 0.0016\n",
      "Epoch 13/22\n",
      "23/23 [==============================] - 46s 2s/step - loss: 0.0017 - val_loss: 0.0016\n",
      "Epoch 14/22\n",
      "23/23 [==============================] - 46s 2s/step - loss: 0.0016 - val_loss: 0.0016\n",
      "Epoch 15/22\n",
      "23/23 [==============================] - 46s 2s/step - loss: 0.0016 - val_loss: 0.0016\n",
      "Epoch 16/22\n",
      "23/23 [==============================] - 46s 2s/step - loss: 0.0016 - val_loss: 0.0015\n",
      "Epoch 17/22\n",
      "23/23 [==============================] - 46s 2s/step - loss: 0.0016 - val_loss: 0.0016\n",
      "Epoch 18/22\n",
      "23/23 [==============================] - 46s 2s/step - loss: 0.0016 - val_loss: 0.0015\n",
      "Epoch 19/22\n",
      "23/23 [==============================] - 46s 2s/step - loss: 0.0016 - val_loss: 0.0015\n",
      "Epoch 20/22\n",
      "23/23 [==============================] - 46s 2s/step - loss: 0.0016 - val_loss: 0.0016\n",
      "Epoch 21/22\n",
      "23/23 [==============================] - 46s 2s/step - loss: 0.0016 - val_loss: 0.0015\n",
      "Epoch 22/22\n",
      "23/23 [==============================] - 46s 2s/step - loss: 0.0016 - val_loss: 0.0017\n"
     ]
    },
    {
     "data": {
      "text/html": [
       "Waiting for W&B process to finish... <strong style=\"color:green\">(success).</strong>"
      ],
      "text/plain": [
       "<IPython.core.display.HTML object>"
      ]
     },
     "metadata": {},
     "output_type": "display_data"
    },
    {
     "data": {
      "text/html": [
       "<style>\n",
       "    table.wandb td:nth-child(1) { padding: 0 10px; text-align: left ; width: auto;} td:nth-child(2) {text-align: left ; width: 100%}\n",
       "    .wandb-row { display: flex; flex-direction: row; flex-wrap: wrap; justify-content: flex-start; width: 100% }\n",
       "    .wandb-col { display: flex; flex-direction: column; flex-basis: 100%; flex: 1; padding: 10px; }\n",
       "    </style>\n",
       "<div class=\"wandb-row\"><div class=\"wandb-col\"><h3>Run history:</h3><br/><table class=\"wandb\"><tr><td>epoch</td><td>▁▁▂▂▂▃▃▃▄▄▄▅▅▅▆▆▆▇▇▇██</td></tr><tr><td>loss</td><td>█▁▁▁▁▁▁▁▁▁▁▁▁▁▁▁▁▁▁▁▁▁</td></tr><tr><td>val_loss</td><td>█▂▁▁▁▁▁▁▁▁▁▁▁▁▁▁▁▁▁▁▁▁</td></tr></table><br/></div><div class=\"wandb-col\"><h3>Run summary:</h3><br/><table class=\"wandb\"><tr><td>best_epoch</td><td>8</td></tr><tr><td>best_val_loss</td><td>0.00154</td></tr><tr><td>epoch</td><td>21</td></tr><tr><td>loss</td><td>0.00165</td></tr><tr><td>val_loss</td><td>0.00165</td></tr></table><br/></div></div>"
      ],
      "text/plain": [
       "<IPython.core.display.HTML object>"
      ]
     },
     "metadata": {},
     "output_type": "display_data"
    },
    {
     "data": {
      "text/html": [
       "Synced <strong style=\"color:#cdcd00\">firm-sweep-30</strong>: <a href=\"https://wandb.ai/p-ai/Oscar%20CNN1/runs/5z6ei09l\" target=\"_blank\">https://wandb.ai/p-ai/Oscar%20CNN1/runs/5z6ei09l</a><br/>Synced 6 W&B file(s), 1 media file(s), 29 artifact file(s) and 1 other file(s)"
      ],
      "text/plain": [
       "<IPython.core.display.HTML object>"
      ]
     },
     "metadata": {},
     "output_type": "display_data"
    },
    {
     "data": {
      "text/html": [
       "Find logs at: <code>./wandb/run-20221123_234309-5z6ei09l/logs</code>"
      ],
      "text/plain": [
       "<IPython.core.display.HTML object>"
      ]
     },
     "metadata": {},
     "output_type": "display_data"
    },
    {
     "name": "stderr",
     "output_type": "stream",
     "text": [
      "\u001b[34m\u001b[1mwandb\u001b[0m: Agent Starting Run: nsuepxdg with config:\n",
      "\u001b[34m\u001b[1mwandb\u001b[0m: \tbatch_size: 64\n",
      "\u001b[34m\u001b[1mwandb\u001b[0m: \tdense1: 128\n",
      "\u001b[34m\u001b[1mwandb\u001b[0m: \tepochs: 20\n",
      "\u001b[34m\u001b[1mwandb\u001b[0m: \tlearning_rate: 0.06712772379412911\n",
      "\u001b[34m\u001b[1mwandb\u001b[0m: \tsize_1: 201\n",
      "\u001b[34m\u001b[1mwandb\u001b[0m: \tsize_2: 253\n",
      "\u001b[34m\u001b[1mwandb\u001b[0m: \tsize_3: 114\n"
     ]
    },
    {
     "data": {
      "text/html": [
       "Tracking run with wandb version 0.13.5"
      ],
      "text/plain": [
       "<IPython.core.display.HTML object>"
      ]
     },
     "metadata": {},
     "output_type": "display_data"
    },
    {
     "data": {
      "text/html": [
       "Run data is saved locally in <code>/home/oscar47/Desktop/P-ai/p-music/CNN_oscar/wandb/run-20221124_000024-nsuepxdg</code>"
      ],
      "text/plain": [
       "<IPython.core.display.HTML object>"
      ]
     },
     "metadata": {},
     "output_type": "display_data"
    },
    {
     "data": {
      "text/html": [
       "Syncing run <strong><a href=\"https://wandb.ai/p-ai/Oscar%20CNN1/runs/nsuepxdg\" target=\"_blank\">good-sweep-31</a></strong> to <a href=\"https://wandb.ai/p-ai/Oscar%20CNN1\" target=\"_blank\">Weights & Biases</a> (<a href=\"https://wandb.me/run\" target=\"_blank\">docs</a>)<br/>Sweep page:  <a href=\"https://wandb.ai/p-ai/Oscar%20CNN1/sweeps/wsxqxjvp\" target=\"_blank\">https://wandb.ai/p-ai/Oscar%20CNN1/sweeps/wsxqxjvp</a>"
      ],
      "text/plain": [
       "<IPython.core.display.HTML object>"
      ]
     },
     "metadata": {},
     "output_type": "display_data"
    },
    {
     "name": "stdout",
     "output_type": "stream",
     "text": [
      "Epoch 1/20\n",
      "23/23 [==============================] - ETA: 0s - loss: 24335058206720.0000"
     ]
    },
    {
     "name": "stderr",
     "output_type": "stream",
     "text": [
      "\u001b[34m\u001b[1mwandb\u001b[0m: Ctrl + C detected. Stopping sweep.\n"
     ]
    },
    {
     "name": "stdout",
     "output_type": "stream",
     "text": [
      "Error in callback <function _WandbInit._pause_backend at 0x7fc68783ed30> (for post_run_cell):\n"
     ]
    },
    {
     "ename": "BrokenPipeError",
     "evalue": "[Errno 32] Broken pipe",
     "output_type": "error",
     "traceback": [
      "\u001b[0;31m---------------------------------------------------------------------------\u001b[0m",
      "\u001b[0;31mBrokenPipeError\u001b[0m                           Traceback (most recent call last)",
      "\u001b[0;32m~/anaconda3/lib/python3.9/site-packages/backcall/backcall.py\u001b[0m in \u001b[0;36madapted\u001b[0;34m(*args, **kwargs)\u001b[0m\n\u001b[1;32m    102\u001b[0m                 \u001b[0mkwargs\u001b[0m\u001b[0;34m.\u001b[0m\u001b[0mpop\u001b[0m\u001b[0;34m(\u001b[0m\u001b[0mname\u001b[0m\u001b[0;34m)\u001b[0m\u001b[0;34m\u001b[0m\u001b[0;34m\u001b[0m\u001b[0m\n\u001b[1;32m    103\u001b[0m \u001b[0;31m#            print(args, kwargs, unmatched_pos, cut_positional, unmatched_kw)\u001b[0m\u001b[0;34m\u001b[0m\u001b[0;34m\u001b[0m\u001b[0m\n\u001b[0;32m--> 104\u001b[0;31m             \u001b[0;32mreturn\u001b[0m \u001b[0mcallback\u001b[0m\u001b[0;34m(\u001b[0m\u001b[0;34m*\u001b[0m\u001b[0margs\u001b[0m\u001b[0;34m,\u001b[0m \u001b[0;34m**\u001b[0m\u001b[0mkwargs\u001b[0m\u001b[0;34m)\u001b[0m\u001b[0;34m\u001b[0m\u001b[0;34m\u001b[0m\u001b[0m\n\u001b[0m\u001b[1;32m    105\u001b[0m \u001b[0;34m\u001b[0m\u001b[0m\n\u001b[1;32m    106\u001b[0m         \u001b[0;32mreturn\u001b[0m \u001b[0madapted\u001b[0m\u001b[0;34m\u001b[0m\u001b[0;34m\u001b[0m\u001b[0m\n",
      "\u001b[0;32m~/anaconda3/lib/python3.9/site-packages/wandb/sdk/wandb_init.py\u001b[0m in \u001b[0;36m_pause_backend\u001b[0;34m(self)\u001b[0m\n\u001b[1;32m    392\u001b[0m                 \u001b[0mres\u001b[0m \u001b[0;34m=\u001b[0m \u001b[0mself\u001b[0m\u001b[0;34m.\u001b[0m\u001b[0mrun\u001b[0m\u001b[0;34m.\u001b[0m\u001b[0mlog_code\u001b[0m\u001b[0;34m(\u001b[0m\u001b[0mroot\u001b[0m\u001b[0;34m=\u001b[0m\u001b[0;32mNone\u001b[0m\u001b[0;34m)\u001b[0m\u001b[0;34m\u001b[0m\u001b[0;34m\u001b[0m\u001b[0m\n\u001b[1;32m    393\u001b[0m                 \u001b[0mlogger\u001b[0m\u001b[0;34m.\u001b[0m\u001b[0minfo\u001b[0m\u001b[0;34m(\u001b[0m\u001b[0;34m\"saved code: %s\"\u001b[0m\u001b[0;34m,\u001b[0m \u001b[0mres\u001b[0m\u001b[0;34m)\u001b[0m\u001b[0;34m\u001b[0m\u001b[0;34m\u001b[0m\u001b[0m\n\u001b[0;32m--> 394\u001b[0;31m             \u001b[0mself\u001b[0m\u001b[0;34m.\u001b[0m\u001b[0mbackend\u001b[0m\u001b[0;34m.\u001b[0m\u001b[0minterface\u001b[0m\u001b[0;34m.\u001b[0m\u001b[0mpublish_pause\u001b[0m\u001b[0;34m(\u001b[0m\u001b[0;34m)\u001b[0m\u001b[0;34m\u001b[0m\u001b[0;34m\u001b[0m\u001b[0m\n\u001b[0m\u001b[1;32m    395\u001b[0m \u001b[0;34m\u001b[0m\u001b[0m\n\u001b[1;32m    396\u001b[0m     \u001b[0;32mdef\u001b[0m \u001b[0m_resume_backend\u001b[0m\u001b[0;34m(\u001b[0m\u001b[0mself\u001b[0m\u001b[0;34m)\u001b[0m\u001b[0;34m:\u001b[0m\u001b[0;34m\u001b[0m\u001b[0;34m\u001b[0m\u001b[0m\n",
      "\u001b[0;32m~/anaconda3/lib/python3.9/site-packages/wandb/sdk/interface/interface.py\u001b[0m in \u001b[0;36mpublish_pause\u001b[0;34m(self)\u001b[0m\n\u001b[1;32m    634\u001b[0m     \u001b[0;32mdef\u001b[0m \u001b[0mpublish_pause\u001b[0m\u001b[0;34m(\u001b[0m\u001b[0mself\u001b[0m\u001b[0;34m)\u001b[0m \u001b[0;34m->\u001b[0m \u001b[0;32mNone\u001b[0m\u001b[0;34m:\u001b[0m\u001b[0;34m\u001b[0m\u001b[0;34m\u001b[0m\u001b[0m\n\u001b[1;32m    635\u001b[0m         \u001b[0mpause\u001b[0m \u001b[0;34m=\u001b[0m \u001b[0mpb\u001b[0m\u001b[0;34m.\u001b[0m\u001b[0mPauseRequest\u001b[0m\u001b[0;34m(\u001b[0m\u001b[0;34m)\u001b[0m\u001b[0;34m\u001b[0m\u001b[0;34m\u001b[0m\u001b[0m\n\u001b[0;32m--> 636\u001b[0;31m         \u001b[0mself\u001b[0m\u001b[0;34m.\u001b[0m\u001b[0m_publish_pause\u001b[0m\u001b[0;34m(\u001b[0m\u001b[0mpause\u001b[0m\u001b[0;34m)\u001b[0m\u001b[0;34m\u001b[0m\u001b[0;34m\u001b[0m\u001b[0m\n\u001b[0m\u001b[1;32m    637\u001b[0m \u001b[0;34m\u001b[0m\u001b[0m\n\u001b[1;32m    638\u001b[0m     \u001b[0;34m@\u001b[0m\u001b[0mabstractmethod\u001b[0m\u001b[0;34m\u001b[0m\u001b[0;34m\u001b[0m\u001b[0m\n",
      "\u001b[0;32m~/anaconda3/lib/python3.9/site-packages/wandb/sdk/interface/interface_shared.py\u001b[0m in \u001b[0;36m_publish_pause\u001b[0;34m(self, pause)\u001b[0m\n\u001b[1;32m    306\u001b[0m     \u001b[0;32mdef\u001b[0m \u001b[0m_publish_pause\u001b[0m\u001b[0;34m(\u001b[0m\u001b[0mself\u001b[0m\u001b[0;34m,\u001b[0m \u001b[0mpause\u001b[0m\u001b[0;34m:\u001b[0m \u001b[0mpb\u001b[0m\u001b[0;34m.\u001b[0m\u001b[0mPauseRequest\u001b[0m\u001b[0;34m)\u001b[0m \u001b[0;34m->\u001b[0m \u001b[0;32mNone\u001b[0m\u001b[0;34m:\u001b[0m\u001b[0;34m\u001b[0m\u001b[0;34m\u001b[0m\u001b[0m\n\u001b[1;32m    307\u001b[0m         \u001b[0mrec\u001b[0m \u001b[0;34m=\u001b[0m \u001b[0mself\u001b[0m\u001b[0;34m.\u001b[0m\u001b[0m_make_request\u001b[0m\u001b[0;34m(\u001b[0m\u001b[0mpause\u001b[0m\u001b[0;34m=\u001b[0m\u001b[0mpause\u001b[0m\u001b[0;34m)\u001b[0m\u001b[0;34m\u001b[0m\u001b[0;34m\u001b[0m\u001b[0m\n\u001b[0;32m--> 308\u001b[0;31m         \u001b[0mself\u001b[0m\u001b[0;34m.\u001b[0m\u001b[0m_publish\u001b[0m\u001b[0;34m(\u001b[0m\u001b[0mrec\u001b[0m\u001b[0;34m)\u001b[0m\u001b[0;34m\u001b[0m\u001b[0;34m\u001b[0m\u001b[0m\n\u001b[0m\u001b[1;32m    309\u001b[0m \u001b[0;34m\u001b[0m\u001b[0m\n\u001b[1;32m    310\u001b[0m     \u001b[0;32mdef\u001b[0m \u001b[0m_publish_resume\u001b[0m\u001b[0;34m(\u001b[0m\u001b[0mself\u001b[0m\u001b[0;34m,\u001b[0m \u001b[0mresume\u001b[0m\u001b[0;34m:\u001b[0m \u001b[0mpb\u001b[0m\u001b[0;34m.\u001b[0m\u001b[0mResumeRequest\u001b[0m\u001b[0;34m)\u001b[0m \u001b[0;34m->\u001b[0m \u001b[0;32mNone\u001b[0m\u001b[0;34m:\u001b[0m\u001b[0;34m\u001b[0m\u001b[0;34m\u001b[0m\u001b[0m\n",
      "\u001b[0;32m~/anaconda3/lib/python3.9/site-packages/wandb/sdk/interface/interface_sock.py\u001b[0m in \u001b[0;36m_publish\u001b[0;34m(self, record, local)\u001b[0m\n\u001b[1;32m     49\u001b[0m     \u001b[0;32mdef\u001b[0m \u001b[0m_publish\u001b[0m\u001b[0;34m(\u001b[0m\u001b[0mself\u001b[0m\u001b[0;34m,\u001b[0m \u001b[0mrecord\u001b[0m\u001b[0;34m:\u001b[0m \u001b[0;34m\"pb.Record\"\u001b[0m\u001b[0;34m,\u001b[0m \u001b[0mlocal\u001b[0m\u001b[0;34m:\u001b[0m \u001b[0mbool\u001b[0m \u001b[0;34m=\u001b[0m \u001b[0;32mNone\u001b[0m\u001b[0;34m)\u001b[0m \u001b[0;34m->\u001b[0m \u001b[0;32mNone\u001b[0m\u001b[0;34m:\u001b[0m\u001b[0;34m\u001b[0m\u001b[0;34m\u001b[0m\u001b[0m\n\u001b[1;32m     50\u001b[0m         \u001b[0mself\u001b[0m\u001b[0;34m.\u001b[0m\u001b[0m_assign\u001b[0m\u001b[0;34m(\u001b[0m\u001b[0mrecord\u001b[0m\u001b[0;34m)\u001b[0m\u001b[0;34m\u001b[0m\u001b[0;34m\u001b[0m\u001b[0m\n\u001b[0;32m---> 51\u001b[0;31m         \u001b[0mself\u001b[0m\u001b[0;34m.\u001b[0m\u001b[0m_sock_client\u001b[0m\u001b[0;34m.\u001b[0m\u001b[0msend_record_publish\u001b[0m\u001b[0;34m(\u001b[0m\u001b[0mrecord\u001b[0m\u001b[0;34m)\u001b[0m\u001b[0;34m\u001b[0m\u001b[0;34m\u001b[0m\u001b[0m\n\u001b[0m\u001b[1;32m     52\u001b[0m \u001b[0;34m\u001b[0m\u001b[0m\n\u001b[1;32m     53\u001b[0m     \u001b[0;32mdef\u001b[0m \u001b[0m_communicate_async\u001b[0m\u001b[0;34m(\u001b[0m\u001b[0mself\u001b[0m\u001b[0;34m,\u001b[0m \u001b[0mrec\u001b[0m\u001b[0;34m:\u001b[0m \u001b[0;34m\"pb.Record\"\u001b[0m\u001b[0;34m,\u001b[0m \u001b[0mlocal\u001b[0m\u001b[0;34m:\u001b[0m \u001b[0mbool\u001b[0m \u001b[0;34m=\u001b[0m \u001b[0;32mNone\u001b[0m\u001b[0;34m)\u001b[0m \u001b[0;34m->\u001b[0m \u001b[0mMessageFuture\u001b[0m\u001b[0;34m:\u001b[0m\u001b[0;34m\u001b[0m\u001b[0;34m\u001b[0m\u001b[0m\n",
      "\u001b[0;32m~/anaconda3/lib/python3.9/site-packages/wandb/sdk/lib/sock_client.py\u001b[0m in \u001b[0;36msend_record_publish\u001b[0;34m(self, record)\u001b[0m\n\u001b[1;32m    219\u001b[0m         \u001b[0mserver_req\u001b[0m \u001b[0;34m=\u001b[0m \u001b[0mspb\u001b[0m\u001b[0;34m.\u001b[0m\u001b[0mServerRequest\u001b[0m\u001b[0;34m(\u001b[0m\u001b[0;34m)\u001b[0m\u001b[0;34m\u001b[0m\u001b[0;34m\u001b[0m\u001b[0m\n\u001b[1;32m    220\u001b[0m         \u001b[0mserver_req\u001b[0m\u001b[0;34m.\u001b[0m\u001b[0mrecord_publish\u001b[0m\u001b[0;34m.\u001b[0m\u001b[0mCopyFrom\u001b[0m\u001b[0;34m(\u001b[0m\u001b[0mrecord\u001b[0m\u001b[0;34m)\u001b[0m\u001b[0;34m\u001b[0m\u001b[0;34m\u001b[0m\u001b[0m\n\u001b[0;32m--> 221\u001b[0;31m         \u001b[0mself\u001b[0m\u001b[0;34m.\u001b[0m\u001b[0msend_server_request\u001b[0m\u001b[0;34m(\u001b[0m\u001b[0mserver_req\u001b[0m\u001b[0;34m)\u001b[0m\u001b[0;34m\u001b[0m\u001b[0;34m\u001b[0m\u001b[0m\n\u001b[0m\u001b[1;32m    222\u001b[0m \u001b[0;34m\u001b[0m\u001b[0m\n\u001b[1;32m    223\u001b[0m     \u001b[0;32mdef\u001b[0m \u001b[0m_extract_packet_bytes\u001b[0m\u001b[0;34m(\u001b[0m\u001b[0mself\u001b[0m\u001b[0;34m)\u001b[0m \u001b[0;34m->\u001b[0m \u001b[0mOptional\u001b[0m\u001b[0;34m[\u001b[0m\u001b[0mbytes\u001b[0m\u001b[0;34m]\u001b[0m\u001b[0;34m:\u001b[0m\u001b[0;34m\u001b[0m\u001b[0;34m\u001b[0m\u001b[0m\n",
      "\u001b[0;32m~/anaconda3/lib/python3.9/site-packages/wandb/sdk/lib/sock_client.py\u001b[0m in \u001b[0;36msend_server_request\u001b[0;34m(self, msg)\u001b[0m\n\u001b[1;32m    153\u001b[0m \u001b[0;34m\u001b[0m\u001b[0m\n\u001b[1;32m    154\u001b[0m     \u001b[0;32mdef\u001b[0m \u001b[0msend_server_request\u001b[0m\u001b[0;34m(\u001b[0m\u001b[0mself\u001b[0m\u001b[0;34m,\u001b[0m \u001b[0mmsg\u001b[0m\u001b[0;34m:\u001b[0m \u001b[0mAny\u001b[0m\u001b[0;34m)\u001b[0m \u001b[0;34m->\u001b[0m \u001b[0;32mNone\u001b[0m\u001b[0;34m:\u001b[0m\u001b[0;34m\u001b[0m\u001b[0;34m\u001b[0m\u001b[0m\n\u001b[0;32m--> 155\u001b[0;31m         \u001b[0mself\u001b[0m\u001b[0;34m.\u001b[0m\u001b[0m_send_message\u001b[0m\u001b[0;34m(\u001b[0m\u001b[0mmsg\u001b[0m\u001b[0;34m)\u001b[0m\u001b[0;34m\u001b[0m\u001b[0;34m\u001b[0m\u001b[0m\n\u001b[0m\u001b[1;32m    156\u001b[0m \u001b[0;34m\u001b[0m\u001b[0m\n\u001b[1;32m    157\u001b[0m     \u001b[0;32mdef\u001b[0m \u001b[0msend_server_response\u001b[0m\u001b[0;34m(\u001b[0m\u001b[0mself\u001b[0m\u001b[0;34m,\u001b[0m \u001b[0mmsg\u001b[0m\u001b[0;34m:\u001b[0m \u001b[0mAny\u001b[0m\u001b[0;34m)\u001b[0m \u001b[0;34m->\u001b[0m \u001b[0;32mNone\u001b[0m\u001b[0;34m:\u001b[0m\u001b[0;34m\u001b[0m\u001b[0;34m\u001b[0m\u001b[0m\n",
      "\u001b[0;32m~/anaconda3/lib/python3.9/site-packages/wandb/sdk/lib/sock_client.py\u001b[0m in \u001b[0;36m_send_message\u001b[0;34m(self, msg)\u001b[0m\n\u001b[1;32m    150\u001b[0m         \u001b[0mheader\u001b[0m \u001b[0;34m=\u001b[0m \u001b[0mstruct\u001b[0m\u001b[0;34m.\u001b[0m\u001b[0mpack\u001b[0m\u001b[0;34m(\u001b[0m\u001b[0;34m\"<BI\"\u001b[0m\u001b[0;34m,\u001b[0m \u001b[0mord\u001b[0m\u001b[0;34m(\u001b[0m\u001b[0;34m\"W\"\u001b[0m\u001b[0;34m)\u001b[0m\u001b[0;34m,\u001b[0m \u001b[0mraw_size\u001b[0m\u001b[0;34m)\u001b[0m\u001b[0;34m\u001b[0m\u001b[0;34m\u001b[0m\u001b[0m\n\u001b[1;32m    151\u001b[0m         \u001b[0;32mwith\u001b[0m \u001b[0mself\u001b[0m\u001b[0;34m.\u001b[0m\u001b[0m_lock\u001b[0m\u001b[0;34m:\u001b[0m\u001b[0;34m\u001b[0m\u001b[0;34m\u001b[0m\u001b[0m\n\u001b[0;32m--> 152\u001b[0;31m             \u001b[0mself\u001b[0m\u001b[0;34m.\u001b[0m\u001b[0m_sendall_with_error_handle\u001b[0m\u001b[0;34m(\u001b[0m\u001b[0mheader\u001b[0m \u001b[0;34m+\u001b[0m \u001b[0mdata\u001b[0m\u001b[0;34m)\u001b[0m\u001b[0;34m\u001b[0m\u001b[0;34m\u001b[0m\u001b[0m\n\u001b[0m\u001b[1;32m    153\u001b[0m \u001b[0;34m\u001b[0m\u001b[0m\n\u001b[1;32m    154\u001b[0m     \u001b[0;32mdef\u001b[0m \u001b[0msend_server_request\u001b[0m\u001b[0;34m(\u001b[0m\u001b[0mself\u001b[0m\u001b[0;34m,\u001b[0m \u001b[0mmsg\u001b[0m\u001b[0;34m:\u001b[0m \u001b[0mAny\u001b[0m\u001b[0;34m)\u001b[0m \u001b[0;34m->\u001b[0m \u001b[0;32mNone\u001b[0m\u001b[0;34m:\u001b[0m\u001b[0;34m\u001b[0m\u001b[0;34m\u001b[0m\u001b[0m\n",
      "\u001b[0;32m~/anaconda3/lib/python3.9/site-packages/wandb/sdk/lib/sock_client.py\u001b[0m in \u001b[0;36m_sendall_with_error_handle\u001b[0;34m(self, data)\u001b[0m\n\u001b[1;32m    128\u001b[0m             \u001b[0mstart_time\u001b[0m \u001b[0;34m=\u001b[0m \u001b[0mtime\u001b[0m\u001b[0;34m.\u001b[0m\u001b[0mmonotonic\u001b[0m\u001b[0;34m(\u001b[0m\u001b[0;34m)\u001b[0m\u001b[0;34m\u001b[0m\u001b[0;34m\u001b[0m\u001b[0m\n\u001b[1;32m    129\u001b[0m             \u001b[0;32mtry\u001b[0m\u001b[0;34m:\u001b[0m\u001b[0;34m\u001b[0m\u001b[0;34m\u001b[0m\u001b[0m\n\u001b[0;32m--> 130\u001b[0;31m                 \u001b[0msent\u001b[0m \u001b[0;34m=\u001b[0m \u001b[0mself\u001b[0m\u001b[0;34m.\u001b[0m\u001b[0m_sock\u001b[0m\u001b[0;34m.\u001b[0m\u001b[0msend\u001b[0m\u001b[0;34m(\u001b[0m\u001b[0mdata\u001b[0m\u001b[0;34m)\u001b[0m\u001b[0;34m\u001b[0m\u001b[0;34m\u001b[0m\u001b[0m\n\u001b[0m\u001b[1;32m    131\u001b[0m                 \u001b[0;31m# sent equal to 0 indicates a closed socket\u001b[0m\u001b[0;34m\u001b[0m\u001b[0;34m\u001b[0m\u001b[0m\n\u001b[1;32m    132\u001b[0m                 \u001b[0;32mif\u001b[0m \u001b[0msent\u001b[0m \u001b[0;34m==\u001b[0m \u001b[0;36m0\u001b[0m\u001b[0;34m:\u001b[0m\u001b[0;34m\u001b[0m\u001b[0;34m\u001b[0m\u001b[0m\n",
      "\u001b[0;31mBrokenPipeError\u001b[0m: [Errno 32] Broken pipe"
     ]
    }
   ],
   "source": [
    "# file to implement the cnn\n",
    "# @oscars47\n",
    "# first call mastercnn prep to generate np arrays; then run this file\n",
    "\n",
    "import os\n",
    "import numpy as np\n",
    "from keras import layers\n",
    "from keras.models import Model, Sequential, load_model\n",
    "from keras.optimizers import Adam\n",
    "from keras.callbacks import ModelCheckpoint\n",
    "import wandb\n",
    "from wandb.keras import WandbCallback\n",
    "\n",
    "\n",
    "# define directories---------\n",
    "MAIN_DIR = '/home/oscar47/Desktop/P-ai'\n",
    "TRAIN_DIR = os.path.join(MAIN_DIR, 'train_data') # to store out .npy files\n",
    "\n",
    "# get np arrays for training!------\n",
    "train_x_ds = np.load(os.path.join(TRAIN_DIR, 'train_x_ds_2.npy')) \n",
    "val_x_ds = np.load(os.path.join(TRAIN_DIR, 'val_x_ds_2.npy')) \n",
    "train_y_ds = np.load(os.path.join(TRAIN_DIR, 'train_y_ds.npy')) \n",
    "val_y_ds = np.load(os.path.join(TRAIN_DIR, 'val_y_ds.npy'))\n",
    "\n",
    "# define shape of incoming and outgoing factors\n",
    "input_shape = train_x_ds[0].shape\n",
    "output_shape = train_y_ds[0].shape\n",
    "print(input_shape, output_shape)\n",
    "\n",
    "print(val_x_ds.shape)\n",
    "print(val_y_ds.shape)\n",
    "\n",
    "# define cnn---------------\n",
    "def build_model(input_shape, size1, size2, size3, dense1, learning_rate):\n",
    "    model = Sequential() # initialize Sequential model object so we can add layers sequentially\n",
    "    #model.add(layers.InputLayer(input_shape)) # add the shape of our input x training vectors\n",
    "    # add a sequence of 5 convolutional layers, alternating Conv2D and MaxPooling\n",
    "    model.add(layers.Conv2D(size1, (3, 3), activation='relu', input_shape = input_shape)) # the (3,3) is size of the kernel -- this is a hyperparam we can use wanb to investigate as well\n",
    "    model.add(layers.MaxPool2D((2,2)))\n",
    "\n",
    "    model.add(layers.Conv2D(size2, (3, 3), activation='relu'))\n",
    "    model.add(layers.MaxPool2D((2,2)))\n",
    "\n",
    "    model.add(layers.Conv2D(size3, (3, 3), activation='relu'))\n",
    "    model.add(layers.MaxPool2D((2,2)))\n",
    "\n",
    "    model.add(layers.Flatten()) # convert array to vector\n",
    "    model.add(layers.Dense(dense1, activation='relu')) # add a final dense layer\n",
    "    model.add(layers.Dense(1)) # match output size: which should just be size 1 (a single number)\n",
    "\n",
    "    optimizer = Adam(learning_rate = learning_rate) # compile the model!\n",
    "    model.compile(optimizer=optimizer, loss='mse')\n",
    "\n",
    "    return model\n",
    "\n",
    "# function for training\n",
    "def train(config=None):\n",
    "    with wandb.init(config=config):\n",
    "    # If called by wandb.agent, as below,\n",
    "    # this config will be set by Sweep Controller\n",
    "      config = wandb.config\n",
    "\n",
    "      #pprint.pprint(config)\n",
    "\n",
    "      #initialize the neural net; \n",
    "      global model\n",
    "      model = build_model(input_shape, config.size_1,  config.size_2, config.size_3,  \n",
    "              config.dense1, config.learning_rate)\n",
    "      \n",
    "      #now run training\n",
    "      history = model.fit(\n",
    "        train_x_ds, train_y_ds,\n",
    "        batch_size = config.batch_size,\n",
    "        validation_data=(val_x_ds, val_y_ds),\n",
    "        epochs=config.epochs,\n",
    "        callbacks=[WandbCallback()] #use callbacks to have w&b log stats; will automatically save best model                     \n",
    "      )\n",
    "\n",
    "def train_custom():\n",
    "   global model\n",
    "   model = build_model(input_shape, 32,  32, 32, 32, 0.01)\n",
    "      \n",
    "   #now run training\n",
    "   history = model.fit(\n",
    "      train_x_ds, train_y_ds,\n",
    "      batch_size = 32,\n",
    "      validation_data=(val_x_ds, val_y_ds),\n",
    "      epochs=3,\n",
    "      #callbacks=[WandbCallback()] #use callbacks to have w&b log stats; will automatically save best model                     \n",
    "   )\n",
    "\n",
    "# set dictionary with random search; optimizing val_loss--------------------------\n",
    "sweep_config= {\n",
    "    'method': 'random',\n",
    "    'name': 'val_accuracy',\n",
    "    'goal': 'maximize'\n",
    "}\n",
    "\n",
    "sweep_config['metric']= 'val_accuracy'\n",
    "parameters_dict = {\n",
    "    'epochs': {\n",
    "       'distribution': 'int_uniform',\n",
    "       'min': 15,\n",
    "       'max': 30\n",
    "    },\n",
    "    # for build_dataset\n",
    "     'batch_size': {\n",
    "       'values': [32, 64, 96, 128]\n",
    "    },\n",
    "    'size_1': {\n",
    "       'distribution': 'int_uniform',\n",
    "       'min': 64,\n",
    "       'max': 256\n",
    "    },\n",
    "    'size_2': {\n",
    "       'distribution': 'int_uniform',\n",
    "       'min': 64,\n",
    "       'max': 256\n",
    "    },'size_3': {\n",
    "       'distribution': 'int_uniform',\n",
    "       'min': 64,\n",
    "       'max': 256\n",
    "    },\n",
    "    'dense1': {\n",
    "       'distribution': 'int_uniform',\n",
    "       'min': 64,\n",
    "       'max': 256\n",
    "    },\n",
    "    'learning_rate':{\n",
    "         #uniform distribution between 0 and 1\n",
    "         'distribution': 'uniform', \n",
    "         'min': 0,\n",
    "         'max': 0.1\n",
    "     }\n",
    "}\n",
    "\n",
    "# append parameters to sweep config\n",
    "sweep_config['parameters'] = parameters_dict \n",
    "\n",
    "#train_custom()\n",
    "\n",
    "\n",
    "# login to wandb----------------\n",
    "wandb.init(project=\"Oscar CNN1\", entity=\"p-ai\")\n",
    "\n",
    "# initialize sweep agent\n",
    "sweep_id = wandb.sweep(sweep_config, project=\"Oscar CNN1\", entity=\"p-ai\")\n",
    "wandb.agent(sweep_id, train, count=100)"
   ]
  },
  {
   "cell_type": "code",
   "execution_count": null,
   "metadata": {},
   "outputs": [],
   "source": []
  }
 ],
 "metadata": {
  "kernelspec": {
   "display_name": "Python 3.9.13 ('base')",
   "language": "python",
   "name": "python3"
  },
  "language_info": {
   "codemirror_mode": {
    "name": "ipython",
    "version": 3
   },
   "file_extension": ".py",
   "mimetype": "text/x-python",
   "name": "python",
   "nbconvert_exporter": "python",
   "pygments_lexer": "ipython3",
   "version": "3.9.13"
  },
  "orig_nbformat": 4,
  "vscode": {
   "interpreter": {
    "hash": "aaf8a3611b879056867134183afc22ea709e115b10fb7684e1dbf805b3500c4a"
   }
  }
 },
 "nbformat": 4,
 "nbformat_minor": 2
}
