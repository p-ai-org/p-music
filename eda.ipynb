{
  "nbformat": 4,
  "nbformat_minor": 0,
  "metadata": {
    "colab": {
      "provenance": [],
      "collapsed_sections": [],
      "authorship_tag": "ABX9TyM7wQ6iPhjwtPaNApzFYdwK",
      "include_colab_link": true
    },
    "kernelspec": {
      "name": "python3",
      "display_name": "Python 3"
    },
    "language_info": {
      "name": "python"
    }
  },
  "cells": [
    {
      "cell_type": "markdown",
      "metadata": {
        "id": "view-in-github",
        "colab_type": "text"
      },
      "source": [
        "<a href=\"https://colab.research.google.com/github/p-ai-org/p-music/blob/main/eda.ipynb\" target=\"_parent\"><img src=\"https://colab.research.google.com/assets/colab-badge.svg\" alt=\"Open In Colab\"/></a>"
      ]
    },
    {
      "cell_type": "code",
      "execution_count": 1,
      "metadata": {
        "colab": {
          "base_uri": "https://localhost:8080/"
        },
        "id": "iPOEH5n2qmul",
        "outputId": "11386f82-cf9f-4d34-e92a-15358cd3b7be"
      },
      "outputs": [
        {
          "output_type": "execute_result",
          "data": {
            "text/plain": [
              "Ranking              float64\n",
              "Album                 object\n",
              "Artist Name           object\n",
              "Release Date          object\n",
              "Genres                object\n",
              "Descriptors           object\n",
              "Average Rating       float64\n",
              "Number of Ratings     object\n",
              "Number of Reviews      int64\n",
              "dtype: object"
            ]
          },
          "metadata": {},
          "execution_count": 1
        }
      ],
      "source": [
        "import pandas as pd\n",
        "#import seaborn as sns\n",
        "\n",
        "path = \"/rym_top_5000_all_time.csv\"\n",
        "album_data = pd.read_csv(path)\n",
        "#album_data.head()\n",
        "album_data.dtypes"
      ]
    },
    {
      "cell_type": "code",
      "source": [
        "#convert number of ratings into float\n",
        "album_data['Number of Ratings'] = album_data['Number of Ratings'].str.replace(',', '').astype('float64')\n",
        "album_data['Number of Ratings'].head()"
      ],
      "metadata": {
        "colab": {
          "base_uri": "https://localhost:8080/"
        },
        "id": "6xmdCgQwY7gz",
        "outputId": "7de1d9ab-facb-4033-e7a9-f9d1c8acb2ac"
      },
      "execution_count": 2,
      "outputs": [
        {
          "output_type": "execute_result",
          "data": {
            "text/plain": [
              "0    70382.0\n",
              "1    48662.0\n",
              "2    44943.0\n",
              "3    58590.0\n",
              "4    44206.0\n",
              "Name: Number of Ratings, dtype: float64"
            ]
          },
          "metadata": {},
          "execution_count": 2
        }
      ]
    },
    {
      "cell_type": "code",
      "source": [
        "import seaborn as sns\n",
        "import matplotlib.pyplot as plt\n",
        "\n",
        "heatmap_data = album_data.select_dtypes(include = \"number\")\n",
        "heatmap_data.head()\n"
      ],
      "metadata": {
        "colab": {
          "base_uri": "https://localhost:8080/",
          "height": 206
        },
        "id": "Se6dKpMXVRtd",
        "outputId": "38e84c4a-060a-4cce-a94e-e187a6de62c4"
      },
      "execution_count": 5,
      "outputs": [
        {
          "output_type": "execute_result",
          "data": {
            "text/plain": [
              "   Ranking  Average Rating  Number of Ratings  Number of Reviews\n",
              "0      1.0            4.23            70382.0               1531\n",
              "1      2.0            4.29            48662.0                983\n",
              "2      3.0            4.30            44943.0                870\n",
              "3      4.0            4.21            58590.0                734\n",
              "4      5.0            4.27            44206.0                379"
            ],
            "text/html": [
              "\n",
              "  <div id=\"df-1fe8a88e-456b-43eb-860a-476f45eca76f\">\n",
              "    <div class=\"colab-df-container\">\n",
              "      <div>\n",
              "<style scoped>\n",
              "    .dataframe tbody tr th:only-of-type {\n",
              "        vertical-align: middle;\n",
              "    }\n",
              "\n",
              "    .dataframe tbody tr th {\n",
              "        vertical-align: top;\n",
              "    }\n",
              "\n",
              "    .dataframe thead th {\n",
              "        text-align: right;\n",
              "    }\n",
              "</style>\n",
              "<table border=\"1\" class=\"dataframe\">\n",
              "  <thead>\n",
              "    <tr style=\"text-align: right;\">\n",
              "      <th></th>\n",
              "      <th>Ranking</th>\n",
              "      <th>Average Rating</th>\n",
              "      <th>Number of Ratings</th>\n",
              "      <th>Number of Reviews</th>\n",
              "    </tr>\n",
              "  </thead>\n",
              "  <tbody>\n",
              "    <tr>\n",
              "      <th>0</th>\n",
              "      <td>1.0</td>\n",
              "      <td>4.23</td>\n",
              "      <td>70382.0</td>\n",
              "      <td>1531</td>\n",
              "    </tr>\n",
              "    <tr>\n",
              "      <th>1</th>\n",
              "      <td>2.0</td>\n",
              "      <td>4.29</td>\n",
              "      <td>48662.0</td>\n",
              "      <td>983</td>\n",
              "    </tr>\n",
              "    <tr>\n",
              "      <th>2</th>\n",
              "      <td>3.0</td>\n",
              "      <td>4.30</td>\n",
              "      <td>44943.0</td>\n",
              "      <td>870</td>\n",
              "    </tr>\n",
              "    <tr>\n",
              "      <th>3</th>\n",
              "      <td>4.0</td>\n",
              "      <td>4.21</td>\n",
              "      <td>58590.0</td>\n",
              "      <td>734</td>\n",
              "    </tr>\n",
              "    <tr>\n",
              "      <th>4</th>\n",
              "      <td>5.0</td>\n",
              "      <td>4.27</td>\n",
              "      <td>44206.0</td>\n",
              "      <td>379</td>\n",
              "    </tr>\n",
              "  </tbody>\n",
              "</table>\n",
              "</div>\n",
              "      <button class=\"colab-df-convert\" onclick=\"convertToInteractive('df-1fe8a88e-456b-43eb-860a-476f45eca76f')\"\n",
              "              title=\"Convert this dataframe to an interactive table.\"\n",
              "              style=\"display:none;\">\n",
              "        \n",
              "  <svg xmlns=\"http://www.w3.org/2000/svg\" height=\"24px\"viewBox=\"0 0 24 24\"\n",
              "       width=\"24px\">\n",
              "    <path d=\"M0 0h24v24H0V0z\" fill=\"none\"/>\n",
              "    <path d=\"M18.56 5.44l.94 2.06.94-2.06 2.06-.94-2.06-.94-.94-2.06-.94 2.06-2.06.94zm-11 1L8.5 8.5l.94-2.06 2.06-.94-2.06-.94L8.5 2.5l-.94 2.06-2.06.94zm10 10l.94 2.06.94-2.06 2.06-.94-2.06-.94-.94-2.06-.94 2.06-2.06.94z\"/><path d=\"M17.41 7.96l-1.37-1.37c-.4-.4-.92-.59-1.43-.59-.52 0-1.04.2-1.43.59L10.3 9.45l-7.72 7.72c-.78.78-.78 2.05 0 2.83L4 21.41c.39.39.9.59 1.41.59.51 0 1.02-.2 1.41-.59l7.78-7.78 2.81-2.81c.8-.78.8-2.07 0-2.86zM5.41 20L4 18.59l7.72-7.72 1.47 1.35L5.41 20z\"/>\n",
              "  </svg>\n",
              "      </button>\n",
              "      \n",
              "  <style>\n",
              "    .colab-df-container {\n",
              "      display:flex;\n",
              "      flex-wrap:wrap;\n",
              "      gap: 12px;\n",
              "    }\n",
              "\n",
              "    .colab-df-convert {\n",
              "      background-color: #E8F0FE;\n",
              "      border: none;\n",
              "      border-radius: 50%;\n",
              "      cursor: pointer;\n",
              "      display: none;\n",
              "      fill: #1967D2;\n",
              "      height: 32px;\n",
              "      padding: 0 0 0 0;\n",
              "      width: 32px;\n",
              "    }\n",
              "\n",
              "    .colab-df-convert:hover {\n",
              "      background-color: #E2EBFA;\n",
              "      box-shadow: 0px 1px 2px rgba(60, 64, 67, 0.3), 0px 1px 3px 1px rgba(60, 64, 67, 0.15);\n",
              "      fill: #174EA6;\n",
              "    }\n",
              "\n",
              "    [theme=dark] .colab-df-convert {\n",
              "      background-color: #3B4455;\n",
              "      fill: #D2E3FC;\n",
              "    }\n",
              "\n",
              "    [theme=dark] .colab-df-convert:hover {\n",
              "      background-color: #434B5C;\n",
              "      box-shadow: 0px 1px 3px 1px rgba(0, 0, 0, 0.15);\n",
              "      filter: drop-shadow(0px 1px 2px rgba(0, 0, 0, 0.3));\n",
              "      fill: #FFFFFF;\n",
              "    }\n",
              "  </style>\n",
              "\n",
              "      <script>\n",
              "        const buttonEl =\n",
              "          document.querySelector('#df-1fe8a88e-456b-43eb-860a-476f45eca76f button.colab-df-convert');\n",
              "        buttonEl.style.display =\n",
              "          google.colab.kernel.accessAllowed ? 'block' : 'none';\n",
              "\n",
              "        async function convertToInteractive(key) {\n",
              "          const element = document.querySelector('#df-1fe8a88e-456b-43eb-860a-476f45eca76f');\n",
              "          const dataTable =\n",
              "            await google.colab.kernel.invokeFunction('convertToInteractive',\n",
              "                                                     [key], {});\n",
              "          if (!dataTable) return;\n",
              "\n",
              "          const docLinkHtml = 'Like what you see? Visit the ' +\n",
              "            '<a target=\"_blank\" href=https://colab.research.google.com/notebooks/data_table.ipynb>data table notebook</a>'\n",
              "            + ' to learn more about interactive tables.';\n",
              "          element.innerHTML = '';\n",
              "          dataTable['output_type'] = 'display_data';\n",
              "          await google.colab.output.renderOutput(dataTable, element);\n",
              "          const docLink = document.createElement('div');\n",
              "          docLink.innerHTML = docLinkHtml;\n",
              "          element.appendChild(docLink);\n",
              "        }\n",
              "      </script>\n",
              "    </div>\n",
              "  </div>\n",
              "  "
            ]
          },
          "metadata": {},
          "execution_count": 5
        }
      ]
    },
    {
      "cell_type": "code",
      "source": [
        "heatmap = heatmap_data.corr()\n",
        "heatmap.style.background_gradient()"
      ],
      "metadata": {
        "colab": {
          "base_uri": "https://localhost:8080/",
          "height": 175
        },
        "id": "l4n-K9lwehBy",
        "outputId": "0845c2b4-dc5d-4f5e-d50a-60aad3dfde8b"
      },
      "execution_count": 9,
      "outputs": [
        {
          "output_type": "execute_result",
          "data": {
            "text/plain": [
              "<pandas.io.formats.style.Styler at 0x7f9d13be9bd0>"
            ],
            "text/html": [
              "<style type=\"text/css\">\n",
              "#T_6a0a6_row0_col0, #T_6a0a6_row1_col1, #T_6a0a6_row2_col2, #T_6a0a6_row3_col3 {\n",
              "  background-color: #023858;\n",
              "  color: #f1f1f1;\n",
              "}\n",
              "#T_6a0a6_row0_col1, #T_6a0a6_row0_col2, #T_6a0a6_row0_col3, #T_6a0a6_row1_col0 {\n",
              "  background-color: #fff7fb;\n",
              "  color: #000000;\n",
              "}\n",
              "#T_6a0a6_row1_col2 {\n",
              "  background-color: #2786bb;\n",
              "  color: #f1f1f1;\n",
              "}\n",
              "#T_6a0a6_row1_col3 {\n",
              "  background-color: #348ebf;\n",
              "  color: #f1f1f1;\n",
              "}\n",
              "#T_6a0a6_row2_col0 {\n",
              "  background-color: #dcdaeb;\n",
              "  color: #000000;\n",
              "}\n",
              "#T_6a0a6_row2_col1 {\n",
              "  background-color: #0d75b3;\n",
              "  color: #f1f1f1;\n",
              "}\n",
              "#T_6a0a6_row2_col3 {\n",
              "  background-color: #034871;\n",
              "  color: #f1f1f1;\n",
              "}\n",
              "#T_6a0a6_row3_col0 {\n",
              "  background-color: #d7d6e9;\n",
              "  color: #000000;\n",
              "}\n",
              "#T_6a0a6_row3_col1 {\n",
              "  background-color: #1379b5;\n",
              "  color: #f1f1f1;\n",
              "}\n",
              "#T_6a0a6_row3_col2 {\n",
              "  background-color: #03476f;\n",
              "  color: #f1f1f1;\n",
              "}\n",
              "</style>\n",
              "<table id=\"T_6a0a6_\" class=\"dataframe\">\n",
              "  <thead>\n",
              "    <tr>\n",
              "      <th class=\"blank level0\" >&nbsp;</th>\n",
              "      <th class=\"col_heading level0 col0\" >Ranking</th>\n",
              "      <th class=\"col_heading level0 col1\" >Average Rating</th>\n",
              "      <th class=\"col_heading level0 col2\" >Number of Ratings</th>\n",
              "      <th class=\"col_heading level0 col3\" >Number of Reviews</th>\n",
              "    </tr>\n",
              "  </thead>\n",
              "  <tbody>\n",
              "    <tr>\n",
              "      <th id=\"T_6a0a6_level0_row0\" class=\"row_heading level0 row0\" >Ranking</th>\n",
              "      <td id=\"T_6a0a6_row0_col0\" class=\"data row0 col0\" >1.000000</td>\n",
              "      <td id=\"T_6a0a6_row0_col1\" class=\"data row0 col1\" >-0.845037</td>\n",
              "      <td id=\"T_6a0a6_row0_col2\" class=\"data row0 col2\" >-0.483759</td>\n",
              "      <td id=\"T_6a0a6_row0_col3\" class=\"data row0 col3\" >-0.435935</td>\n",
              "    </tr>\n",
              "    <tr>\n",
              "      <th id=\"T_6a0a6_level0_row1\" class=\"row_heading level0 row1\" >Average Rating</th>\n",
              "      <td id=\"T_6a0a6_row1_col0\" class=\"data row1 col0\" >-0.845037</td>\n",
              "      <td id=\"T_6a0a6_row1_col1\" class=\"data row1 col1\" >1.000000</td>\n",
              "      <td id=\"T_6a0a6_row1_col2\" class=\"data row1 col2\" >0.501066</td>\n",
              "      <td id=\"T_6a0a6_row1_col3\" class=\"data row1 col3\" >0.467748</td>\n",
              "    </tr>\n",
              "    <tr>\n",
              "      <th id=\"T_6a0a6_level0_row2\" class=\"row_heading level0 row2\" >Number of Ratings</th>\n",
              "      <td id=\"T_6a0a6_row2_col0\" class=\"data row2 col0\" >-0.483759</td>\n",
              "      <td id=\"T_6a0a6_row2_col1\" class=\"data row2 col1\" >0.501066</td>\n",
              "      <td id=\"T_6a0a6_row2_col2\" class=\"data row2 col2\" >1.000000</td>\n",
              "      <td id=\"T_6a0a6_row2_col3\" class=\"data row2 col3\" >0.913722</td>\n",
              "    </tr>\n",
              "    <tr>\n",
              "      <th id=\"T_6a0a6_level0_row3\" class=\"row_heading level0 row3\" >Number of Reviews</th>\n",
              "      <td id=\"T_6a0a6_row3_col0\" class=\"data row3 col0\" >-0.435935</td>\n",
              "      <td id=\"T_6a0a6_row3_col1\" class=\"data row3 col1\" >0.467748</td>\n",
              "      <td id=\"T_6a0a6_row3_col2\" class=\"data row3 col2\" >0.913722</td>\n",
              "      <td id=\"T_6a0a6_row3_col3\" class=\"data row3 col3\" >1.000000</td>\n",
              "    </tr>\n",
              "  </tbody>\n",
              "</table>\n"
            ]
          },
          "metadata": {},
          "execution_count": 9
        }
      ]
    }
  ]
}