{
  "nbformat": 4,
  "nbformat_minor": 0,
  "metadata": {
    "colab": {
      "provenance": [],
      "authorship_tag": "ABX9TyNmKR2iuYVWp1GsY+y0U1r4",
      "include_colab_link": true
    },
    "kernelspec": {
      "name": "python3",
      "display_name": "Python 3"
    },
    "language_info": {
      "name": "python"
    }
  },
  "cells": [
    {
      "cell_type": "markdown",
      "metadata": {
        "id": "view-in-github",
        "colab_type": "text"
      },
      "source": [
        "<a href=\"https://colab.research.google.com/github/p-ai-org/p-music/blob/main/seohyeon_album_metadata_model.ipynb\" target=\"_parent\"><img src=\"https://colab.research.google.com/assets/colab-badge.svg\" alt=\"Open In Colab\"/></a>"
      ]
    },
    {
      "cell_type": "code",
      "execution_count": null,
      "metadata": {
        "id": "tcOOPtIP7-Qk"
      },
      "outputs": [],
      "source": [
        "import pandas as pd\n",
        "from sklearn.preprocessing import StandardScaler, OneHotEncoder\n",
        "from sklearn.compose import make_column_transformer\n",
        "from sklearn.model_selection import GroupShuffleSplit\n",
        "\n",
        "from tensorflow import keras\n",
        "from tensorflow.keras import layers\n",
        "from tensorflow.keras import callbacks\n",
        "\n",
        "ds = pd.read_csv('merged_features.csv')\n"
      ]
    },
    {
      "cell_type": "code",
      "source": [
        "ds.shape\n",
        "#ds = ds.drop('Unnamed: 0', axis = 1)\n",
        "ds.columns"
      ],
      "metadata": {
        "colab": {
          "base_uri": "https://localhost:8080/"
        },
        "id": "7IQa2iRv8yV7",
        "outputId": "0500c600-aa0a-4e76-9a8e-925ce90c650a"
      },
      "execution_count": null,
      "outputs": [
        {
          "output_type": "execute_result",
          "data": {
            "text/plain": [
              "Index(['Ranking', 'Album', 'Artist', 'Release Date', 'Genres', 'Descriptors',\n",
              "       'Average Rating', 'Number of Ratings', 'Number of Reviews',\n",
              "       'Release Month', 'Release Day', 'Release Year', 'Format', 'Label',\n",
              "       'Genre', 'Metacritic Critic Score', 'Metacritic Reviews',\n",
              "       'Metacritic User Score', 'Metacritic User Reviews', 'AOTY Critic Score',\n",
              "       'AOTY Critic Reviews', 'AOTY User Score', 'AOTY User Reviews'],\n",
              "      dtype='object')"
            ]
          },
          "metadata": {},
          "execution_count": 20
        }
      ]
    },
    {
      "cell_type": "code",
      "source": [
        "#use an average of AOTY and metacritic user score (the same goes with critic)\n",
        "#if one of them is missing, use the other\n",
        "#if both are missing, drop that row"
      ],
      "metadata": {
        "id": "lzyGjrQf_pL-"
      },
      "execution_count": null,
      "outputs": []
    },
    {
      "cell_type": "code",
      "source": [
        "def test(row):\n",
        "  print(row)\n",
        "\n",
        "test = ds[:1].apply(test, axis=0)\n",
        "test.dtype"
      ],
      "metadata": {
        "colab": {
          "base_uri": "https://localhost:8080/"
        },
        "id": "pNcifQ8aCd-Z",
        "outputId": "02c5660d-d74a-4dcf-9363-d57c6654dd13"
      },
      "execution_count": null,
      "outputs": [
        {
          "output_type": "stream",
          "name": "stdout",
          "text": [
            "0    1.0\n",
            "Name: Ranking, dtype: float64\n",
            "0    OK Computer\n",
            "Name: Album, dtype: object\n",
            "0    Radiohead\n",
            "Name: Artist, dtype: object\n",
            "0    16 June 1997\n",
            "Name: Release Date, dtype: object\n",
            "0    Alternative Rock, Art Rock\n",
            "Name: Genres, dtype: object\n",
            "0    melancholic, anxious, futuristic, alienation, ...\n",
            "Name: Descriptors, dtype: object\n",
            "0    4.23\n",
            "Name: Average Rating, dtype: float64\n",
            "0    70,382\n",
            "Name: Number of Ratings, dtype: object\n",
            "0    1531\n",
            "Name: Number of Reviews, dtype: int64\n",
            "0    June\n",
            "Name: Release Month, dtype: object\n",
            "0    16\n",
            "Name: Release Day, dtype: object\n",
            "0    1997\n",
            "Name: Release Year, dtype: int64\n",
            "0    LP\n",
            "Name: Format, dtype: object\n",
            "0    Parlophone, Capitol\n",
            "Name: Label, dtype: object\n",
            "0    Alternative Rock\n",
            "Name: Genre, dtype: object\n",
            "0   NaN\n",
            "Name: Metacritic Critic Score, dtype: float64\n",
            "0   NaN\n",
            "Name: Metacritic Reviews, dtype: float64\n",
            "0   NaN\n",
            "Name: Metacritic User Score, dtype: float64\n",
            "0   NaN\n",
            "Name: Metacritic User Reviews, dtype: float64\n",
            "0    91\n",
            "Name: AOTY Critic Score, dtype: int64\n",
            "0    12\n",
            "Name: AOTY Critic Reviews, dtype: int64\n",
            "0    93\n",
            "Name: AOTY User Score, dtype: int64\n",
            "0    3204\n",
            "Name: AOTY User Reviews, dtype: int64\n"
          ]
        },
        {
          "output_type": "execute_result",
          "data": {
            "text/plain": [
              "dtype('O')"
            ]
          },
          "metadata": {},
          "execution_count": 30
        }
      ]
    },
    {
      "cell_type": "code",
      "source": [
        "scores_reviews = ds[['AOTY Critic Score', 'Metacritic User Score', 'AOTY User Score', 'Metacritic Critic Score', 'Metacritic User Reviews', 'AOTY User Reviews', 'AOTY Critic Reviews', 'Metacritic Reviews']]\n",
        "scores_reviews = scores_reviews.fillna(0)"
      ],
      "metadata": {
        "id": "brxlX7-6FCEg"
      },
      "execution_count": null,
      "outputs": []
    },
    {
      "cell_type": "code",
      "source": [
        "critic_score = ['AOTY Critic Score', 'Metacritic Critic Score']\n",
        "user_score = ['AOTY User Score', 'Metacritic User Score']\n",
        "critic_reviews = ['AOTY Critic Reviews', 'Metacritic Reviews']\n",
        "user_reviews = ['AOTY User Reviews', 'Metacritic User Reviews']\n",
        "\n",
        "couplets = [critic_score, user_score, critic_reviews, user_reviews]"
      ],
      "metadata": {
        "id": "LfxGo4tKIFhE"
      },
      "execution_count": 3,
      "outputs": []
    },
    {
      "cell_type": "code",
      "source": [
        "def scoreMerge(two_columns):\n",
        "  def mergeHelper(row):\n",
        "    if (row[two_columns[0]].isna() or row[two_columns[1]].isna()):\n",
        "      if  (row[two_columns[0]].isna() and row[two_columns[1]].isna()):\n",
        "        ds.drop(ds.loc[row], axis = 0)\n",
        "      else:\n",
        "        row['Merged_Score'] = row[two_columns[0]]+row[two_columns[1]] #one of them is 0\n",
        "    else:\n",
        "      row['Merged_Score'] = (row[two_columns[0]]+row[two_columns[1]])/2\n",
        "  #need to change column name to avoid redundant names\n",
        "\n",
        "#I want to write this as a curried function: how?\n",
        "\n",
        "for couplet in couplets:\n",
        "  ds.apply(scoreMerge(couplet), axis = 0) \n"
      ],
      "metadata": {
        "colab": {
          "base_uri": "https://localhost:8080/",
          "height": 201
        },
        "id": "1eMGCbjs86nG",
        "outputId": "f01c240e-5888-435f-a1ff-d5718a7ce2a0"
      },
      "execution_count": 4,
      "outputs": [
        {
          "output_type": "error",
          "ename": "NameError",
          "evalue": "ignored",
          "traceback": [
            "\u001b[0;31m---------------------------------------------------------------------------\u001b[0m",
            "\u001b[0;31mNameError\u001b[0m                                 Traceback (most recent call last)",
            "\u001b[0;32m<ipython-input-4-257bad7c91de>\u001b[0m in \u001b[0;36m<module>\u001b[0;34m\u001b[0m\n\u001b[1;32m     13\u001b[0m \u001b[0;34m\u001b[0m\u001b[0m\n\u001b[1;32m     14\u001b[0m \u001b[0;32mfor\u001b[0m \u001b[0mcouplet\u001b[0m \u001b[0;32min\u001b[0m \u001b[0mcouplets\u001b[0m\u001b[0;34m:\u001b[0m\u001b[0;34m\u001b[0m\u001b[0;34m\u001b[0m\u001b[0m\n\u001b[0;32m---> 15\u001b[0;31m   \u001b[0mds\u001b[0m\u001b[0;34m.\u001b[0m\u001b[0mapply\u001b[0m\u001b[0;34m(\u001b[0m\u001b[0mscoreMerge\u001b[0m\u001b[0;34m(\u001b[0m\u001b[0mcouplet\u001b[0m\u001b[0;34m)\u001b[0m\u001b[0;34m,\u001b[0m \u001b[0maxis\u001b[0m \u001b[0;34m=\u001b[0m \u001b[0;36m0\u001b[0m\u001b[0;34m)\u001b[0m\u001b[0;34m\u001b[0m\u001b[0;34m\u001b[0m\u001b[0m\n\u001b[0m",
            "\u001b[0;31mNameError\u001b[0m: name 'ds' is not defined"
          ]
        }
      ]
    },
    {
      "cell_type": "code",
      "source": [
        "\n",
        "ds['Merged Critic Score'] = (ds['AOTY Critic Score']+ds['Metacritic Critic Score'])/2\n",
        "ds['Merged User Score'] = (ds['AOTY User Score']+ds['Metacritic User Score'])/2\n",
        "ds['Merged Critic Reviews'] = (ds['AOTY Critic Reviews']+ds['Metacritic Reviews'])/2\n",
        "ds['Merged User Reviews'] = (ds['AOTY User Reviews']+ds['Metacritic User Reviews'])/2\n",
        "\n",
        "#assuming metacritic reviews = metacritic critic review because this cell is highly correlated with aoty critic \n",
        "#merge atoy and metacritic data using average: missing data not included average"
      ],
      "metadata": {
        "id": "O1vrWvhqF5oj"
      },
      "execution_count": null,
      "outputs": []
    },
    {
      "cell_type": "code",
      "source": [
        "#genres: one-hot encode in a different way\n",
        "#create columns for the top 10 most frequent genres (adjust number later). the rest goes to \"other\"\n",
        "genre_counts = album_data['Genres'].value_counts()\n",
        "top10_genres = genre_counts[:10].tolist()\n",
        "#create list of top 10 genre columns and \"other\"\n",
        "#many albums have multiple genres: loop through list above, 1 if album has that genre else 0"
      ],
      "metadata": {
        "id": "Gk4xOkbul6QL"
      },
      "execution_count": null,
      "outputs": []
    },
    {
      "cell_type": "code",
      "source": [
        "#numberify(?) release date, month, and year. fill in mean if missing (these aren't highly correlated with the output anyway)\n",
        "#I have code for this somewhere\n",
        "#maybe drop release date/month?"
      ],
      "metadata": {
        "id": "EUpfOIHcmaUT"
      },
      "execution_count": null,
      "outputs": []
    }
  ]
}